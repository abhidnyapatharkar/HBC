{
 "cells": [
  {
   "cell_type": "code",
   "execution_count": 1,
   "id": "4cbf7431",
   "metadata": {},
   "outputs": [
    {
     "name": "stderr",
     "output_type": "stream",
     "text": [
      "OMP: Info #271: omp_set_nested routine deprecated, please use omp_set_max_active_levels instead.\n"
     ]
    },
    {
     "name": "stdout",
     "output_type": "stream",
     "text": [
      "Dictionary saved to hb_sepsis_hive_cote_normalized.pickle\n",
      "Dictionary saved to healthy_sepsis_hive_cote_normalized.pickle\n"
     ]
    }
   ],
   "source": [
    "import numpy as np\n",
    "import pandas as pd\n",
    "import warnings\n",
    "import time\n",
    "from scipy import signal\n",
    "from scipy.signal import butter, lfilter\n",
    "import matplotlib.pyplot as plt\n",
    "import math\n",
    "import pickle\n",
    "import statistics\n",
    "import random\n",
    "from sklearn.metrics.pairwise import cosine_similarity\n",
    "from math import log\n",
    "from sklearn import preprocessing\n",
    "from sklearn import metrics\n",
    "from sklearn.metrics import accuracy_score\n",
    "from sklearn.model_selection import train_test_split\n",
    "from sklearn.ensemble import RandomForestClassifier\n",
    "from sklearn.model_selection import GridSearchCV\n",
    "import sktime as sktime\n",
    "from sklearn.model_selection import StratifiedKFold\n",
    "from sklearn.model_selection import cross_val_score\n",
    "from sktime.datasets import load_from_tsfile_to_dataframe\n",
    "from sktime.alignment.dtw_python import AlignerDTWfromDist\n",
    "from sktime.dists_kernels.scipy_dist import ScipyDist\n",
    "from sktime.dists_kernels.compose_from_align import DistFromAligner\n",
    "import os\n",
    "import sys\n",
    "%matplotlib inline\n",
    "from sklearn.pipeline import make_pipeline\n",
    "from sklearn.linear_model import RidgeClassifierCV\n",
    "from sktime.transformations.panel.rocket import Rocket\n",
    "from sktime.classification.distance_based import KNeighborsTimeSeriesClassifier\n",
    "from sktime.classification.hybrid import HIVECOTEV2\n",
    "from sklearn.metrics import accuracy_score, precision_score, recall_score, f1_score"
   ]
  },
  {
   "cell_type": "markdown",
   "id": "b48982a5",
   "metadata": {},
   "source": [
    "### Load normal and abnormal datasets"
   ]
  },
  {
   "cell_type": "code",
   "execution_count": 2,
   "id": "3b5f3947",
   "metadata": {},
   "outputs": [
    {
     "data": {
      "text/html": [
       "<div>\n",
       "<style scoped>\n",
       "    .dataframe tbody tr th:only-of-type {\n",
       "        vertical-align: middle;\n",
       "    }\n",
       "\n",
       "    .dataframe tbody tr th {\n",
       "        vertical-align: top;\n",
       "    }\n",
       "\n",
       "    .dataframe thead th {\n",
       "        text-align: right;\n",
       "    }\n",
       "</style>\n",
       "<table border=\"1\" class=\"dataframe\">\n",
       "  <thead>\n",
       "    <tr style=\"text-align: right;\">\n",
       "      <th></th>\n",
       "      <th>Subject</th>\n",
       "      <th>HR</th>\n",
       "      <th>MAP</th>\n",
       "      <th>DBP</th>\n",
       "      <th>SBP</th>\n",
       "      <th>Resp</th>\n",
       "    </tr>\n",
       "  </thead>\n",
       "  <tbody>\n",
       "    <tr>\n",
       "      <th>0</th>\n",
       "      <td>1</td>\n",
       "      <td>75.0</td>\n",
       "      <td>63.00</td>\n",
       "      <td>46.0</td>\n",
       "      <td>108.00</td>\n",
       "      <td>13.0</td>\n",
       "    </tr>\n",
       "    <tr>\n",
       "      <th>1</th>\n",
       "      <td>1</td>\n",
       "      <td>75.0</td>\n",
       "      <td>63.00</td>\n",
       "      <td>46.0</td>\n",
       "      <td>108.00</td>\n",
       "      <td>13.0</td>\n",
       "    </tr>\n",
       "    <tr>\n",
       "      <th>2</th>\n",
       "      <td>1</td>\n",
       "      <td>80.0</td>\n",
       "      <td>75.00</td>\n",
       "      <td>55.0</td>\n",
       "      <td>123.00</td>\n",
       "      <td>19.0</td>\n",
       "    </tr>\n",
       "    <tr>\n",
       "      <th>3</th>\n",
       "      <td>1</td>\n",
       "      <td>78.0</td>\n",
       "      <td>58.00</td>\n",
       "      <td>44.0</td>\n",
       "      <td>103.00</td>\n",
       "      <td>22.0</td>\n",
       "    </tr>\n",
       "    <tr>\n",
       "      <th>4</th>\n",
       "      <td>1</td>\n",
       "      <td>82.0</td>\n",
       "      <td>76.00</td>\n",
       "      <td>54.0</td>\n",
       "      <td>126.00</td>\n",
       "      <td>24.0</td>\n",
       "    </tr>\n",
       "    <tr>\n",
       "      <th>...</th>\n",
       "      <td>...</td>\n",
       "      <td>...</td>\n",
       "      <td>...</td>\n",
       "      <td>...</td>\n",
       "      <td>...</td>\n",
       "      <td>...</td>\n",
       "    </tr>\n",
       "    <tr>\n",
       "      <th>46</th>\n",
       "      <td>507</td>\n",
       "      <td>80.0</td>\n",
       "      <td>92.33</td>\n",
       "      <td>75.0</td>\n",
       "      <td>164.50</td>\n",
       "      <td>15.0</td>\n",
       "    </tr>\n",
       "    <tr>\n",
       "      <th>47</th>\n",
       "      <td>507</td>\n",
       "      <td>76.0</td>\n",
       "      <td>84.33</td>\n",
       "      <td>68.0</td>\n",
       "      <td>148.50</td>\n",
       "      <td>18.0</td>\n",
       "    </tr>\n",
       "    <tr>\n",
       "      <th>48</th>\n",
       "      <td>507</td>\n",
       "      <td>138.0</td>\n",
       "      <td>96.67</td>\n",
       "      <td>83.5</td>\n",
       "      <td>156.50</td>\n",
       "      <td>17.0</td>\n",
       "    </tr>\n",
       "    <tr>\n",
       "      <th>49</th>\n",
       "      <td>507</td>\n",
       "      <td>111.0</td>\n",
       "      <td>97.33</td>\n",
       "      <td>81.0</td>\n",
       "      <td>152.00</td>\n",
       "      <td>16.0</td>\n",
       "    </tr>\n",
       "    <tr>\n",
       "      <th>50</th>\n",
       "      <td>507</td>\n",
       "      <td>103.5</td>\n",
       "      <td>87.67</td>\n",
       "      <td>76.0</td>\n",
       "      <td>139.75</td>\n",
       "      <td>22.5</td>\n",
       "    </tr>\n",
       "  </tbody>\n",
       "</table>\n",
       "<p>27347 rows × 6 columns</p>\n",
       "</div>"
      ],
      "text/plain": [
       "    Subject     HR    MAP   DBP     SBP  Resp\n",
       "0         1   75.0  63.00  46.0  108.00  13.0\n",
       "1         1   75.0  63.00  46.0  108.00  13.0\n",
       "2         1   80.0  75.00  55.0  123.00  19.0\n",
       "3         1   78.0  58.00  44.0  103.00  22.0\n",
       "4         1   82.0  76.00  54.0  126.00  24.0\n",
       "..      ...    ...    ...   ...     ...   ...\n",
       "46      507   80.0  92.33  75.0  164.50  15.0\n",
       "47      507   76.0  84.33  68.0  148.50  18.0\n",
       "48      507  138.0  96.67  83.5  156.50  17.0\n",
       "49      507  111.0  97.33  81.0  152.00  16.0\n",
       "50      507  103.5  87.67  76.0  139.75  22.5\n",
       "\n",
       "[27347 rows x 6 columns]"
      ]
     },
     "metadata": {},
     "output_type": "display_data"
    },
    {
     "data": {
      "text/html": [
       "<div>\n",
       "<style scoped>\n",
       "    .dataframe tbody tr th:only-of-type {\n",
       "        vertical-align: middle;\n",
       "    }\n",
       "\n",
       "    .dataframe tbody tr th {\n",
       "        vertical-align: top;\n",
       "    }\n",
       "\n",
       "    .dataframe thead th {\n",
       "        text-align: right;\n",
       "    }\n",
       "</style>\n",
       "<table border=\"1\" class=\"dataframe\">\n",
       "  <thead>\n",
       "    <tr style=\"text-align: right;\">\n",
       "      <th></th>\n",
       "      <th>Subject</th>\n",
       "      <th>HR</th>\n",
       "      <th>MAP</th>\n",
       "      <th>DBP</th>\n",
       "      <th>SBP</th>\n",
       "      <th>Resp</th>\n",
       "    </tr>\n",
       "  </thead>\n",
       "  <tbody>\n",
       "    <tr>\n",
       "      <th>0</th>\n",
       "      <td>1</td>\n",
       "      <td>103.0</td>\n",
       "      <td>80.0</td>\n",
       "      <td>64.0</td>\n",
       "      <td>112.0</td>\n",
       "      <td>20.0</td>\n",
       "    </tr>\n",
       "    <tr>\n",
       "      <th>1</th>\n",
       "      <td>1</td>\n",
       "      <td>111.0</td>\n",
       "      <td>93.5</td>\n",
       "      <td>80.5</td>\n",
       "      <td>131.0</td>\n",
       "      <td>20.0</td>\n",
       "    </tr>\n",
       "    <tr>\n",
       "      <th>2</th>\n",
       "      <td>1</td>\n",
       "      <td>106.0</td>\n",
       "      <td>87.0</td>\n",
       "      <td>77.0</td>\n",
       "      <td>114.0</td>\n",
       "      <td>20.0</td>\n",
       "    </tr>\n",
       "    <tr>\n",
       "      <th>3</th>\n",
       "      <td>1</td>\n",
       "      <td>107.0</td>\n",
       "      <td>62.0</td>\n",
       "      <td>54.0</td>\n",
       "      <td>85.0</td>\n",
       "      <td>20.0</td>\n",
       "    </tr>\n",
       "    <tr>\n",
       "      <th>4</th>\n",
       "      <td>1</td>\n",
       "      <td>106.0</td>\n",
       "      <td>80.0</td>\n",
       "      <td>70.0</td>\n",
       "      <td>109.0</td>\n",
       "      <td>23.0</td>\n",
       "    </tr>\n",
       "    <tr>\n",
       "      <th>...</th>\n",
       "      <td>...</td>\n",
       "      <td>...</td>\n",
       "      <td>...</td>\n",
       "      <td>...</td>\n",
       "      <td>...</td>\n",
       "      <td>...</td>\n",
       "    </tr>\n",
       "    <tr>\n",
       "      <th>121</th>\n",
       "      <td>175</td>\n",
       "      <td>109.0</td>\n",
       "      <td>100.0</td>\n",
       "      <td>65.0</td>\n",
       "      <td>94.0</td>\n",
       "      <td>31.0</td>\n",
       "    </tr>\n",
       "    <tr>\n",
       "      <th>122</th>\n",
       "      <td>175</td>\n",
       "      <td>99.0</td>\n",
       "      <td>77.0</td>\n",
       "      <td>65.0</td>\n",
       "      <td>94.0</td>\n",
       "      <td>16.0</td>\n",
       "    </tr>\n",
       "    <tr>\n",
       "      <th>123</th>\n",
       "      <td>175</td>\n",
       "      <td>113.0</td>\n",
       "      <td>105.0</td>\n",
       "      <td>65.0</td>\n",
       "      <td>94.0</td>\n",
       "      <td>21.0</td>\n",
       "    </tr>\n",
       "    <tr>\n",
       "      <th>124</th>\n",
       "      <td>175</td>\n",
       "      <td>110.0</td>\n",
       "      <td>105.0</td>\n",
       "      <td>65.0</td>\n",
       "      <td>94.0</td>\n",
       "      <td>18.0</td>\n",
       "    </tr>\n",
       "    <tr>\n",
       "      <th>125</th>\n",
       "      <td>175</td>\n",
       "      <td>112.0</td>\n",
       "      <td>90.0</td>\n",
       "      <td>65.0</td>\n",
       "      <td>94.0</td>\n",
       "      <td>23.0</td>\n",
       "    </tr>\n",
       "  </tbody>\n",
       "</table>\n",
       "<p>19004 rows × 6 columns</p>\n",
       "</div>"
      ],
      "text/plain": [
       "     Subject     HR    MAP   DBP    SBP  Resp\n",
       "0          1  103.0   80.0  64.0  112.0  20.0\n",
       "1          1  111.0   93.5  80.5  131.0  20.0\n",
       "2          1  106.0   87.0  77.0  114.0  20.0\n",
       "3          1  107.0   62.0  54.0   85.0  20.0\n",
       "4          1  106.0   80.0  70.0  109.0  23.0\n",
       "..       ...    ...    ...   ...    ...   ...\n",
       "121      175  109.0  100.0  65.0   94.0  31.0\n",
       "122      175   99.0   77.0  65.0   94.0  16.0\n",
       "123      175  113.0  105.0  65.0   94.0  21.0\n",
       "124      175  110.0  105.0  65.0   94.0  18.0\n",
       "125      175  112.0   90.0  65.0   94.0  23.0\n",
       "\n",
       "[19004 rows x 6 columns]"
      ]
     },
     "metadata": {},
     "output_type": "display_data"
    }
   ],
   "source": [
    "final_normal_df = pd.read_pickle('normal_public_sepsis.pkl')\n",
    "final_abnormal_df = pd.read_pickle('abnormal_public_sepsis.pkl')"
   ]
  },
  {
   "cell_type": "code",
   "execution_count": 3,
   "id": "00c8168d",
   "metadata": {},
   "outputs": [
    {
     "data": {
      "text/plain": [
       "array([  1,   2,   3,   4,   5,   6,   7,   8,   9,  10,  11,  12,  13,\n",
       "        14,  15,  16,  17,  18,  19,  20,  21,  22,  23,  24,  25,  26,\n",
       "        27,  28,  29,  30,  31,  32,  33,  34,  35,  36,  37,  38,  39,\n",
       "        40,  41,  42,  43,  44,  45,  46,  47,  48,  49,  50,  51,  52,\n",
       "        53,  54,  55,  56,  57,  58,  59,  60,  61,  62,  63,  64,  65,\n",
       "        66,  67,  68,  69,  70,  71,  72,  73,  74,  75,  76,  77,  78,\n",
       "        79,  80,  81,  82,  83,  84,  85,  86,  87,  88,  89,  90,  91,\n",
       "        92,  93,  94,  95,  96,  97,  98,  99, 100, 101, 102, 103, 104,\n",
       "       105, 106, 107, 108, 109, 110, 111, 112, 113, 114, 115, 116, 117,\n",
       "       118, 119, 120, 121, 122, 123, 124, 125, 126, 127, 128, 129, 130,\n",
       "       131, 132, 133, 134, 135, 136, 137, 138, 139, 140, 141, 142, 143,\n",
       "       144, 145, 146, 147, 148, 149, 150, 151, 152, 153, 154, 155, 156,\n",
       "       157, 158, 159, 160, 161, 162, 163, 164, 165, 166, 167, 168, 169,\n",
       "       170, 171, 172, 173, 174, 175])"
      ]
     },
     "metadata": {},
     "output_type": "display_data"
    },
    {
     "data": {
      "text/plain": [
       "175"
      ]
     },
     "metadata": {},
     "output_type": "display_data"
    }
   ],
   "source": [
    "abnormal_indices = (final_abnormal_df['Subject']).unique()\n",
    "abnormal_no = (final_abnormal_df['Subject']).nunique()"
   ]
  },
  {
   "cell_type": "code",
   "execution_count": 4,
   "id": "11f5187e",
   "metadata": {},
   "outputs": [
    {
     "data": {
      "text/plain": [
       "'Dictionary loaded from pickle file:'"
      ]
     },
     "metadata": {},
     "output_type": "display_data"
    },
    {
     "data": {
      "text/plain": [
       "{'sample_numbers_list_0.0_to_0.1': [112,\n",
       "  360,\n",
       "  143,\n",
       "  415,\n",
       "  413,\n",
       "  23,\n",
       "  374,\n",
       "  32,\n",
       "  34,\n",
       "  42,\n",
       "  68,\n",
       "  90,\n",
       "  119,\n",
       "  121,\n",
       "  137,\n",
       "  178,\n",
       "  180,\n",
       "  196,\n",
       "  214,\n",
       "  241,\n",
       "  242,\n",
       "  249,\n",
       "  257,\n",
       "  265,\n",
       "  277,\n",
       "  279,\n",
       "  315,\n",
       "  325,\n",
       "  340,\n",
       "  357,\n",
       "  365,\n",
       "  369,\n",
       "  406,\n",
       "  407,\n",
       "  426,\n",
       "  429,\n",
       "  441,\n",
       "  455,\n",
       "  458,\n",
       "  470,\n",
       "  493],\n",
       " 'sample_numbers_list_0.1_to_0.2': [14,\n",
       "  288,\n",
       "  20,\n",
       "  33,\n",
       "  35,\n",
       "  51,\n",
       "  52,\n",
       "  60,\n",
       "  63,\n",
       "  67,\n",
       "  73,\n",
       "  144,\n",
       "  167,\n",
       "  176,\n",
       "  205,\n",
       "  228,\n",
       "  235,\n",
       "  250,\n",
       "  296,\n",
       "  313,\n",
       "  323,\n",
       "  337,\n",
       "  362,\n",
       "  396,\n",
       "  409,\n",
       "  419,\n",
       "  440,\n",
       "  464,\n",
       "  467,\n",
       "  486,\n",
       "  489],\n",
       " 'sample_numbers_list_0.2_to_0.3': [378,\n",
       "  280,\n",
       "  50,\n",
       "  3,\n",
       "  5,\n",
       "  41,\n",
       "  43,\n",
       "  70,\n",
       "  117,\n",
       "  123,\n",
       "  139,\n",
       "  164,\n",
       "  220,\n",
       "  225,\n",
       "  244,\n",
       "  247,\n",
       "  262,\n",
       "  289,\n",
       "  320,\n",
       "  334,\n",
       "  344,\n",
       "  350,\n",
       "  363,\n",
       "  381,\n",
       "  393,\n",
       "  394,\n",
       "  417,\n",
       "  444,\n",
       "  474,\n",
       "  480,\n",
       "  487,\n",
       "  496],\n",
       " 'sample_numbers_list_0.3_to_0.4': [72,\n",
       "  457,\n",
       "  7,\n",
       "  27,\n",
       "  30,\n",
       "  69,\n",
       "  79,\n",
       "  100,\n",
       "  138,\n",
       "  150,\n",
       "  160,\n",
       "  163,\n",
       "  204,\n",
       "  232,\n",
       "  245,\n",
       "  300,\n",
       "  331,\n",
       "  336,\n",
       "  341,\n",
       "  352,\n",
       "  377,\n",
       "  402,\n",
       "  408,\n",
       "  435,\n",
       "  481,\n",
       "  500],\n",
       " 'sample_numbers_list_0.4_to_0.5': [380,\n",
       "  473,\n",
       "  194,\n",
       "  6,\n",
       "  21,\n",
       "  36,\n",
       "  37,\n",
       "  77,\n",
       "  103,\n",
       "  109,\n",
       "  125,\n",
       "  128,\n",
       "  132,\n",
       "  135,\n",
       "  149,\n",
       "  187,\n",
       "  189,\n",
       "  193,\n",
       "  198,\n",
       "  203,\n",
       "  212,\n",
       "  224,\n",
       "  237,\n",
       "  273,\n",
       "  283,\n",
       "  306,\n",
       "  311,\n",
       "  317,\n",
       "  332,\n",
       "  351,\n",
       "  383,\n",
       "  385,\n",
       "  395,\n",
       "  397,\n",
       "  428,\n",
       "  456,\n",
       "  459,\n",
       "  461,\n",
       "  477],\n",
       " 'sample_numbers_list_0.5_to_0.6': [126,\n",
       "  217,\n",
       "  17,\n",
       "  16,\n",
       "  333,\n",
       "  446,\n",
       "  4,\n",
       "  82,\n",
       "  434,\n",
       "  275,\n",
       "  10,\n",
       "  57,\n",
       "  74,\n",
       "  81,\n",
       "  146,\n",
       "  151,\n",
       "  171,\n",
       "  182,\n",
       "  199,\n",
       "  211,\n",
       "  229,\n",
       "  252,\n",
       "  255,\n",
       "  263,\n",
       "  294,\n",
       "  321,\n",
       "  398,\n",
       "  421,\n",
       "  453,\n",
       "  454,\n",
       "  475,\n",
       "  494,\n",
       "  504],\n",
       " 'sample_numbers_list_0.6_to_0.7': [102,\n",
       "  113,\n",
       "  491,\n",
       "  310,\n",
       "  12,\n",
       "  25,\n",
       "  26,\n",
       "  29,\n",
       "  94,\n",
       "  105,\n",
       "  108,\n",
       "  110,\n",
       "  130,\n",
       "  131,\n",
       "  166,\n",
       "  174,\n",
       "  223,\n",
       "  253,\n",
       "  266,\n",
       "  281,\n",
       "  286,\n",
       "  298,\n",
       "  312,\n",
       "  329,\n",
       "  348,\n",
       "  354,\n",
       "  356,\n",
       "  366,\n",
       "  373,\n",
       "  392,\n",
       "  412,\n",
       "  422,\n",
       "  427,\n",
       "  479,\n",
       "  506],\n",
       " 'sample_numbers_list_0.7_to_0.8': [115,\n",
       "  53,\n",
       "  48,\n",
       "  80,\n",
       "  177,\n",
       "  39,\n",
       "  59,\n",
       "  87,\n",
       "  93,\n",
       "  95,\n",
       "  154,\n",
       "  155,\n",
       "  157,\n",
       "  161,\n",
       "  170,\n",
       "  179,\n",
       "  188,\n",
       "  200,\n",
       "  239,\n",
       "  269,\n",
       "  282,\n",
       "  285,\n",
       "  384,\n",
       "  462,\n",
       "  465,\n",
       "  485,\n",
       "  507],\n",
       " 'sample_numbers_list_0.8_to_0.9': [120,\n",
       "  391,\n",
       "  38,\n",
       "  49,\n",
       "  65,\n",
       "  66,\n",
       "  71,\n",
       "  86,\n",
       "  96,\n",
       "  97,\n",
       "  101,\n",
       "  107,\n",
       "  118,\n",
       "  159,\n",
       "  267,\n",
       "  387,\n",
       "  423,\n",
       "  433,\n",
       "  436,\n",
       "  448,\n",
       "  450,\n",
       "  498],\n",
       " 'sample_numbers_list_0.9_to_1.0': [58,\n",
       "  309,\n",
       "  136,\n",
       "  236,\n",
       "  11,\n",
       "  15,\n",
       "  22,\n",
       "  28,\n",
       "  47,\n",
       "  83,\n",
       "  85,\n",
       "  88,\n",
       "  133,\n",
       "  145,\n",
       "  156,\n",
       "  162,\n",
       "  206,\n",
       "  213,\n",
       "  216,\n",
       "  233,\n",
       "  243,\n",
       "  261,\n",
       "  276,\n",
       "  338,\n",
       "  339,\n",
       "  343,\n",
       "  345,\n",
       "  346,\n",
       "  355,\n",
       "  370,\n",
       "  401,\n",
       "  403,\n",
       "  452,\n",
       "  460,\n",
       "  469,\n",
       "  472,\n",
       "  497,\n",
       "  502],\n",
       " 'sample_numbers_list_1.0_to_1.1': [141,\n",
       "  302,\n",
       "  499,\n",
       "  92,\n",
       "  124,\n",
       "  153,\n",
       "  186,\n",
       "  201,\n",
       "  202,\n",
       "  218,\n",
       "  324,\n",
       "  359,\n",
       "  400,\n",
       "  492,\n",
       "  503],\n",
       " 'sample_numbers_list_1.1_to_1.2': [367,\n",
       "  111,\n",
       "  2,\n",
       "  31,\n",
       "  84,\n",
       "  91,\n",
       "  99,\n",
       "  104,\n",
       "  116,\n",
       "  127,\n",
       "  181,\n",
       "  183,\n",
       "  190,\n",
       "  210,\n",
       "  227,\n",
       "  295,\n",
       "  319,\n",
       "  335,\n",
       "  342,\n",
       "  372,\n",
       "  439,\n",
       "  445,\n",
       "  483,\n",
       "  490,\n",
       "  501],\n",
       " 'sample_numbers_list_1.2_to_1.3': [195,\n",
       "  56,\n",
       "  169,\n",
       "  197,\n",
       "  234,\n",
       "  258,\n",
       "  278,\n",
       "  292,\n",
       "  349,\n",
       "  368,\n",
       "  404,\n",
       "  410,\n",
       "  416,\n",
       "  424,\n",
       "  431,\n",
       "  438,\n",
       "  478],\n",
       " 'sample_numbers_list_1.3_to_1.4': [215,\n",
       "  55,\n",
       "  140,\n",
       "  148,\n",
       "  152,\n",
       "  165,\n",
       "  207,\n",
       "  208,\n",
       "  222,\n",
       "  256,\n",
       "  268,\n",
       "  297,\n",
       "  308,\n",
       "  322,\n",
       "  463,\n",
       "  505],\n",
       " 'sample_numbers_list_1.4_to_1.5': [347,\n",
       "  303,\n",
       "  389,\n",
       "  8,\n",
       "  46,\n",
       "  76,\n",
       "  89,\n",
       "  158,\n",
       "  191,\n",
       "  260,\n",
       "  271,\n",
       "  304,\n",
       "  305,\n",
       "  371],\n",
       " 'sample_numbers_list_1.5_to_1.6': [259,\n",
       "  230,\n",
       "  173,\n",
       "  414,\n",
       "  54,\n",
       "  240,\n",
       "  284,\n",
       "  287,\n",
       "  290,\n",
       "  353,\n",
       "  376,\n",
       "  405,\n",
       "  442],\n",
       " 'sample_numbers_list_1.6_to_1.7': [45,\n",
       "  358,\n",
       "  175,\n",
       "  40,\n",
       "  129,\n",
       "  168,\n",
       "  192,\n",
       "  209,\n",
       "  293,\n",
       "  364,\n",
       "  379,\n",
       "  382,\n",
       "  399,\n",
       "  432,\n",
       "  449],\n",
       " 'sample_numbers_list_1.7_to_1.8': [13, 184, 9, 122, 219, 299, 388, 418],\n",
       " 'sample_numbers_list_1.8_to_1.9': [64,\n",
       "  24,\n",
       "  248,\n",
       "  254,\n",
       "  274,\n",
       "  291,\n",
       "  301,\n",
       "  314,\n",
       "  375,\n",
       "  425,\n",
       "  430,\n",
       "  482],\n",
       " 'sample_numbers_list_1.9_to_2.0': [61, 75, 264, 307, 326, 327, 390, 471],\n",
       " 'sample_numbers_list_2.0_to_2.1': [18, 221, 251],\n",
       " 'sample_numbers_list_2.1_to_2.2': [328, 114, 172, 316, 361, 411],\n",
       " 'sample_numbers_list_2.2_to_2.3': [147, 231, 330, 447, 451, 476, 484, 488],\n",
       " 'sample_numbers_list_2.3_to_2.4': [62, 238, 246, 318, 386, 443, 466],\n",
       " 'sample_numbers_list_2.4_to_2.5': [19, 44, 98, 142, 185, 272, 468],\n",
       " 'sample_numbers_list_2.5_to_2.6': [],\n",
       " 'sample_numbers_list_2.6_to_2.7': [106, 134, 495],\n",
       " 'sample_numbers_list_2.7_to_2.8': [226],\n",
       " 'sample_numbers_list_2.8_to_2.9': [],\n",
       " 'sample_numbers_list_2.9_to_3.0': []}"
      ]
     },
     "metadata": {},
     "output_type": "display_data"
    }
   ],
   "source": [
    "# Specify the file path of the saved pkl file\n",
    "file_path = 'final_bins.pkl'\n",
    "\n",
    "# Load the dictionary from the pkl file\n",
    "with open(file_path, 'rb') as file:\n",
    "    final_numbers_dictionary = pickle.load(file)\n",
    "# Now, 'loaded_dictionary' contains the dictionary loaded from the pkl file\n",
    "display(\"Dictionary loaded from pickle file:\")"
   ]
  },
  {
   "cell_type": "code",
   "execution_count": 5,
   "id": "64c2b8a2",
   "metadata": {},
   "outputs": [
    {
     "data": {
      "text/plain": [
       "['sample_numbers_list_0.0_to_0.1',\n",
       " 'sample_numbers_list_0.1_to_0.2',\n",
       " 'sample_numbers_list_0.2_to_0.3',\n",
       " 'sample_numbers_list_0.3_to_0.4',\n",
       " 'sample_numbers_list_0.4_to_0.5',\n",
       " 'sample_numbers_list_0.5_to_0.6',\n",
       " 'sample_numbers_list_0.6_to_0.7',\n",
       " 'sample_numbers_list_0.7_to_0.8',\n",
       " 'sample_numbers_list_0.8_to_0.9',\n",
       " 'sample_numbers_list_0.9_to_1.0',\n",
       " 'sample_numbers_list_1.0_to_1.1',\n",
       " 'sample_numbers_list_1.1_to_1.2',\n",
       " 'sample_numbers_list_1.2_to_1.3',\n",
       " 'sample_numbers_list_1.3_to_1.4',\n",
       " 'sample_numbers_list_1.4_to_1.5',\n",
       " 'sample_numbers_list_1.5_to_1.6',\n",
       " 'sample_numbers_list_1.6_to_1.7',\n",
       " 'sample_numbers_list_1.7_to_1.8',\n",
       " 'sample_numbers_list_1.8_to_1.9',\n",
       " 'sample_numbers_list_1.9_to_2.0',\n",
       " 'sample_numbers_list_2.0_to_2.1',\n",
       " 'sample_numbers_list_2.1_to_2.2',\n",
       " 'sample_numbers_list_2.2_to_2.3',\n",
       " 'sample_numbers_list_2.3_to_2.4',\n",
       " 'sample_numbers_list_2.4_to_2.5',\n",
       " 'sample_numbers_list_2.5_to_2.6',\n",
       " 'sample_numbers_list_2.6_to_2.7',\n",
       " 'sample_numbers_list_2.7_to_2.8',\n",
       " 'sample_numbers_list_2.8_to_2.9',\n",
       " 'sample_numbers_list_2.9_to_3.0']"
      ]
     },
     "execution_count": 5,
     "metadata": {},
     "output_type": "execute_result"
    }
   ],
   "source": [
    "dictionary_keys = final_numbers_dictionary.keys()\n",
    "keys_list = list(dictionary_keys)"
   ]
  },
  {
   "cell_type": "markdown",
   "id": "9091899d",
   "metadata": {},
   "source": [
    "### Function to find the length of the time series"
   ]
  },
  {
   "cell_type": "code",
   "execution_count": 6,
   "id": "730ddc86",
   "metadata": {},
   "outputs": [],
   "source": [
    "# Define a function to z-normalize a column\n",
    "def z_normalize(column):\n",
    "    mean = column.mean()\n",
    "    std = column.std()\n",
    "    z_normalized = (column - mean) / std\n",
    "    return z_normalized"
   ]
  },
  {
   "cell_type": "code",
   "execution_count": 7,
   "id": "10cef1d3",
   "metadata": {},
   "outputs": [],
   "source": [
    "def time_series_length_finding(df):\n",
    "    train_1_abnormal = df.copy()\n",
    "    train_1_ab_sub = (train_1_abnormal['Subject'].unique()).tolist()\n",
    "    row_count = []\n",
    "    for i in train_1_ab_sub:\n",
    "        train_1_abnormal_new = train_1_abnormal[(train_1_abnormal['Subject']== i)]\n",
    "        no_rows = train_1_abnormal_new.shape[0]\n",
    "        row_count.append(no_rows)\n",
    "    display(\"Avg length:\",statistics.mean(row_count))\n",
    "    avg_len_ts = int(statistics.mean(row_count))\n",
    "    return(avg_len_ts)"
   ]
  },
  {
   "cell_type": "code",
   "execution_count": 8,
   "id": "702b0ff7",
   "metadata": {},
   "outputs": [],
   "source": [
    "def preprocessing_normal_df(df,desired_length):\n",
    "    train_2_normal = df.copy()\n",
    "    df_train_3 = pd.DataFrame(columns = train_2_normal.columns)\n",
    "    num_dim = df_train_3.shape[1]\n",
    "    display(num_dim)\n",
    "    df_train_3.columns = range(len(df_train_3.columns))\n",
    "    train_2_sub = (train_2_normal['Subject'].unique()).tolist()\n",
    "    m = 0\n",
    "    for i in train_2_sub:\n",
    "        train_2_normal_new = train_2_normal[(train_2_normal['Subject']== i)]\n",
    "        df_row_count = train_2_normal_new.shape[0]\n",
    "        if df_row_count < desired_length:\n",
    "            rows_to_add = desired_length - df_row_count\n",
    "            train_2_normal_new.tail()\n",
    "            last_row = train_2_normal_new.ffill().iloc[[-1]]  # Extract the last row\n",
    "            new_rows_df = pd.concat([last_row] * rows_to_add, ignore_index=True)\n",
    "            train_2_normal_initial = pd.concat([train_2_normal_new, new_rows_df], ignore_index=True)\n",
    "            train_2_normal_initial_no_sub = train_2_normal_initial.drop(columns='Subject')\n",
    "            train_2_normal_final = z_normalize(train_2_normal_initial_no_sub)\n",
    "            train_2_normal_final.insert(0, 'Subject', i)\n",
    "        else:\n",
    "            train_2_normal_initial = train_2_normal_new.iloc[:desired_length,:]\n",
    "            train_2_normal_initial_no_sub = train_2_normal_initial.drop(columns='Subject')\n",
    "            train_2_normal_final = z_normalize(train_2_normal_initial_no_sub)\n",
    "            train_2_normal_final.insert(0, 'Subject', i)\n",
    "            \n",
    "        train_2_normal_final.columns = range(len(train_2_normal_final.columns))\n",
    "        \n",
    "        df_train_3.at[m,0] = i\n",
    "        j = 0\n",
    "        while j < num_dim:\n",
    "            df_train_3.at[m,j] = train_2_normal_final[j]\n",
    "            j += 1\n",
    "        m += 1    \n",
    "    df_train_3['class'] = 'normal'\n",
    "    df_normal_baseline = df_train_3.iloc[:,1:]\n",
    "    return(df_normal_baseline)"
   ]
  },
  {
   "cell_type": "code",
   "execution_count": 9,
   "id": "352d6e08",
   "metadata": {},
   "outputs": [],
   "source": [
    "def preprocessing_dataframe(df,desired_length):\n",
    "    train_1_abnormal = df.copy()\n",
    "    df_train_2 = pd.DataFrame(columns = train_1_abnormal.columns)\n",
    "    num_dim_ab = df_train_2.shape[1]\n",
    "    df_train_2.columns = range(len(df_train_2.columns))\n",
    "    train_1_ab_sub = (train_1_abnormal['Subject'].unique()).tolist()\n",
    "    m = 0\n",
    "    for i in train_1_ab_sub:\n",
    "        train_1_abnormal_new = train_1_abnormal[(train_1_abnormal['Subject']== i)]\n",
    "        df_row_count = train_1_abnormal_new.shape[0]\n",
    "        if df_row_count < desired_length:\n",
    "            rows_to_add = desired_length - df_row_count\n",
    "            last_row = train_1_abnormal_new.ffill().iloc[[-1]]  # Extract the last row\n",
    "            new_rows_df = pd.concat([last_row] * rows_to_add, ignore_index=True)\n",
    "            train_1_abnormal_initial = pd.concat([train_1_abnormal_new, new_rows_df], ignore_index=True)\n",
    "            train_1_abnormal_initial_no_sub = train_1_abnormal_initial.drop(columns='Subject')\n",
    "            train_1_abnormal_final = z_normalize(train_1_abnormal_initial_no_sub)\n",
    "            train_1_abnormal_final.insert(0, 'Subject', i)\n",
    "        else:\n",
    "            train_1_abnormal_initial = train_1_abnormal_new.iloc[:desired_length,:]\n",
    "            train_1_abnormal_initial_no_sub = train_1_abnormal_initial.drop(columns='Subject')\n",
    "            train_1_abnormal_final = z_normalize(train_1_abnormal_initial_no_sub)\n",
    "            train_1_abnormal_final.insert(0, 'Subject', i)\n",
    "        train_1_abnormal_final.columns = range(len(train_1_abnormal_final.columns))\n",
    "        \n",
    "        df_train_2.at[m,0] = i\n",
    "        j = 0\n",
    "        while j < num_dim_ab:\n",
    "            df_train_2.at[m,j] = train_1_abnormal_final[j]\n",
    "            j += 1\n",
    "        m += 1    \n",
    "    df_train_2['class'] = 'abnormal'\n",
    "    df_final = df_train_2.iloc[:,1:]\n",
    "    return(df_final)"
   ]
  },
  {
   "cell_type": "code",
   "execution_count": 10,
   "id": "1423c44e",
   "metadata": {},
   "outputs": [],
   "source": [
    "def ts_classifier(df_class_1):\n",
    "    accuacy_list_1 = []\n",
    "    precision_list_1 = []\n",
    "    recall_list_1 = []\n",
    "    f1_list_1 = []\n",
    "\n",
    "    X_1 = df_class_1.iloc[:,:-1]\n",
    "    y_1 = df_class_1.iloc[:,-1]\n",
    "    display(\"X_1:\",X_1)\n",
    "\n",
    "    for i in range(1,31):\n",
    "        X_train_1, X_test_1, y_train_1, y_test_1 = train_test_split(X_1, y_1, test_size=0.2, random_state=i,stratify = y_1)\n",
    "\n",
    "        hc2 = HIVECOTEV2(time_limit_in_minutes=0.2)\n",
    "        hc2.fit(X_train_1, y_train_1)\n",
    "        y_pred_1 = hc2.predict(X_test_1)\n",
    "\n",
    "        pos_label = 'abnormal'\n",
    "\n",
    "        acc_1 = accuracy_score(y_test_1, y_pred_1)\n",
    "        accuacy_list_1.append(acc_1)\n",
    "\n",
    "        prec_1 = precision_score(y_test_1, y_pred_1, pos_label=pos_label)\n",
    "        precision_list_1.append(prec_1)\n",
    "\n",
    "        recall_1 = recall_score(y_test_1, y_pred_1, pos_label=pos_label)\n",
    "        recall_list_1.append(recall_1)\n",
    "\n",
    "        f1_1 = f1_score(y_test_1, y_pred_1, pos_label=pos_label)\n",
    "        f1_list_1.append(f1_1)\n",
    "        display(\"Completed\",i)\n",
    "\n",
    "    acc_mean_1 = np.mean(accuacy_list_1)\n",
    "    acc_std_dev_1 = np.std(accuacy_list_1)\n",
    "\n",
    "    prec_mean_1 = np.mean(precision_list_1)\n",
    "    prec_std_dev_1 = np.std(precision_list_1)\n",
    "\n",
    "    recall_mean_1 = np.mean(recall_list_1)\n",
    "    recall_std_dev_1 = np.std(recall_list_1)\n",
    "\n",
    "    f1_mean_1 = np.mean(f1_list_1)\n",
    "    f1_std_dev_1 = np.std(f1_list_1)\n",
    "    return(acc_mean_1,acc_std_dev_1,prec_mean_1,prec_std_dev_1,recall_mean_1,recall_std_dev_1,f1_mean_1,f1_std_dev_1)"
   ]
  },
  {
   "cell_type": "code",
   "execution_count": 11,
   "id": "0cfc6199",
   "metadata": {},
   "outputs": [
    {
     "data": {
      "text/plain": [
       "{'hb_key': [112,\n",
       "  360,\n",
       "  143,\n",
       "  415,\n",
       "  413,\n",
       "  23,\n",
       "  374,\n",
       "  32,\n",
       "  34,\n",
       "  42,\n",
       "  68,\n",
       "  90,\n",
       "  119,\n",
       "  121,\n",
       "  137,\n",
       "  178,\n",
       "  180,\n",
       "  196,\n",
       "  214,\n",
       "  241,\n",
       "  242,\n",
       "  249,\n",
       "  257,\n",
       "  265,\n",
       "  277,\n",
       "  279,\n",
       "  315,\n",
       "  325,\n",
       "  340,\n",
       "  357,\n",
       "  365,\n",
       "  369,\n",
       "  406,\n",
       "  407,\n",
       "  426,\n",
       "  429,\n",
       "  441,\n",
       "  455,\n",
       "  458,\n",
       "  470,\n",
       "  493,\n",
       "  14,\n",
       "  288,\n",
       "  20,\n",
       "  33,\n",
       "  35,\n",
       "  51,\n",
       "  52,\n",
       "  60,\n",
       "  63,\n",
       "  67,\n",
       "  73,\n",
       "  144,\n",
       "  167,\n",
       "  176,\n",
       "  205,\n",
       "  228,\n",
       "  235,\n",
       "  250,\n",
       "  296,\n",
       "  313,\n",
       "  323,\n",
       "  337,\n",
       "  362,\n",
       "  396,\n",
       "  409,\n",
       "  419,\n",
       "  440,\n",
       "  464,\n",
       "  467,\n",
       "  486,\n",
       "  489]}"
      ]
     },
     "metadata": {},
     "output_type": "display_data"
    }
   ],
   "source": [
    "# Keys to combine\n",
    "key_to_combine1 = 'sample_numbers_list_0.0_to_0.1'\n",
    "key_to_combine2 = 'sample_numbers_list_0.1_to_0.2'\n",
    "# Create a new dictionary with combined values\n",
    "hb_dict = {\n",
    "    'hb_key': final_numbers_dictionary[key_to_combine1] + final_numbers_dictionary[key_to_combine2]\n",
    "}"
   ]
  },
  {
   "cell_type": "code",
   "execution_count": 12,
   "id": "72627479",
   "metadata": {},
   "outputs": [
    {
     "data": {
      "text/plain": [
       "72"
      ]
     },
     "metadata": {},
     "output_type": "display_data"
    },
    {
     "data": {
      "text/html": [
       "<div>\n",
       "<style scoped>\n",
       "    .dataframe tbody tr th:only-of-type {\n",
       "        vertical-align: middle;\n",
       "    }\n",
       "\n",
       "    .dataframe tbody tr th {\n",
       "        vertical-align: top;\n",
       "    }\n",
       "\n",
       "    .dataframe thead th {\n",
       "        text-align: right;\n",
       "    }\n",
       "</style>\n",
       "<table border=\"1\" class=\"dataframe\">\n",
       "  <thead>\n",
       "    <tr style=\"text-align: right;\">\n",
       "      <th></th>\n",
       "      <th>Subject</th>\n",
       "      <th>HR</th>\n",
       "      <th>MAP</th>\n",
       "      <th>DBP</th>\n",
       "      <th>SBP</th>\n",
       "      <th>Resp</th>\n",
       "    </tr>\n",
       "  </thead>\n",
       "  <tbody>\n",
       "    <tr>\n",
       "      <th>0</th>\n",
       "      <td>14</td>\n",
       "      <td>58.0</td>\n",
       "      <td>71.5</td>\n",
       "      <td>49.0</td>\n",
       "      <td>123.5</td>\n",
       "      <td>11.0</td>\n",
       "    </tr>\n",
       "    <tr>\n",
       "      <th>1</th>\n",
       "      <td>14</td>\n",
       "      <td>75.0</td>\n",
       "      <td>80.0</td>\n",
       "      <td>58.0</td>\n",
       "      <td>136.0</td>\n",
       "      <td>12.0</td>\n",
       "    </tr>\n",
       "    <tr>\n",
       "      <th>2</th>\n",
       "      <td>14</td>\n",
       "      <td>75.0</td>\n",
       "      <td>80.0</td>\n",
       "      <td>58.0</td>\n",
       "      <td>136.0</td>\n",
       "      <td>12.0</td>\n",
       "    </tr>\n",
       "    <tr>\n",
       "      <th>3</th>\n",
       "      <td>14</td>\n",
       "      <td>75.0</td>\n",
       "      <td>80.0</td>\n",
       "      <td>58.0</td>\n",
       "      <td>136.0</td>\n",
       "      <td>12.0</td>\n",
       "    </tr>\n",
       "    <tr>\n",
       "      <th>4</th>\n",
       "      <td>14</td>\n",
       "      <td>76.5</td>\n",
       "      <td>82.0</td>\n",
       "      <td>62.0</td>\n",
       "      <td>137.0</td>\n",
       "      <td>16.5</td>\n",
       "    </tr>\n",
       "  </tbody>\n",
       "</table>\n",
       "</div>"
      ],
      "text/plain": [
       "   Subject    HR   MAP   DBP    SBP  Resp\n",
       "0       14  58.0  71.5  49.0  123.5  11.0\n",
       "1       14  75.0  80.0  58.0  136.0  12.0\n",
       "2       14  75.0  80.0  58.0  136.0  12.0\n",
       "3       14  75.0  80.0  58.0  136.0  12.0\n",
       "4       14  76.5  82.0  62.0  137.0  16.5"
      ]
     },
     "metadata": {},
     "output_type": "display_data"
    },
    {
     "data": {
      "text/html": [
       "<div>\n",
       "<style scoped>\n",
       "    .dataframe tbody tr th:only-of-type {\n",
       "        vertical-align: middle;\n",
       "    }\n",
       "\n",
       "    .dataframe tbody tr th {\n",
       "        vertical-align: top;\n",
       "    }\n",
       "\n",
       "    .dataframe thead th {\n",
       "        text-align: right;\n",
       "    }\n",
       "</style>\n",
       "<table border=\"1\" class=\"dataframe\">\n",
       "  <thead>\n",
       "    <tr style=\"text-align: right;\">\n",
       "      <th></th>\n",
       "      <th>Subject</th>\n",
       "      <th>HR</th>\n",
       "      <th>MAP</th>\n",
       "      <th>DBP</th>\n",
       "      <th>SBP</th>\n",
       "      <th>Resp</th>\n",
       "    </tr>\n",
       "  </thead>\n",
       "  <tbody>\n",
       "    <tr>\n",
       "      <th>0</th>\n",
       "      <td>2</td>\n",
       "      <td>77.0</td>\n",
       "      <td>102.0</td>\n",
       "      <td>74.0</td>\n",
       "      <td>161.0</td>\n",
       "      <td>18.5</td>\n",
       "    </tr>\n",
       "    <tr>\n",
       "      <th>1</th>\n",
       "      <td>2</td>\n",
       "      <td>78.0</td>\n",
       "      <td>102.0</td>\n",
       "      <td>74.0</td>\n",
       "      <td>129.0</td>\n",
       "      <td>18.0</td>\n",
       "    </tr>\n",
       "    <tr>\n",
       "      <th>2</th>\n",
       "      <td>2</td>\n",
       "      <td>74.0</td>\n",
       "      <td>102.0</td>\n",
       "      <td>74.0</td>\n",
       "      <td>144.5</td>\n",
       "      <td>20.0</td>\n",
       "    </tr>\n",
       "    <tr>\n",
       "      <th>3</th>\n",
       "      <td>2</td>\n",
       "      <td>77.0</td>\n",
       "      <td>103.0</td>\n",
       "      <td>78.0</td>\n",
       "      <td>150.5</td>\n",
       "      <td>18.0</td>\n",
       "    </tr>\n",
       "    <tr>\n",
       "      <th>4</th>\n",
       "      <td>2</td>\n",
       "      <td>78.0</td>\n",
       "      <td>99.0</td>\n",
       "      <td>80.0</td>\n",
       "      <td>134.0</td>\n",
       "      <td>18.0</td>\n",
       "    </tr>\n",
       "  </tbody>\n",
       "</table>\n",
       "</div>"
      ],
      "text/plain": [
       "   Subject    HR    MAP   DBP    SBP  Resp\n",
       "0        2  77.0  102.0  74.0  161.0  18.5\n",
       "1        2  78.0  102.0  74.0  129.0  18.0\n",
       "2        2  74.0  102.0  74.0  144.5  20.0\n",
       "3        2  77.0  103.0  78.0  150.5  18.0\n",
       "4        2  78.0   99.0  80.0  134.0  18.0"
      ]
     },
     "metadata": {},
     "output_type": "display_data"
    },
    {
     "data": {
      "text/plain": [
       "'Avg length:'"
      ]
     },
     "metadata": {},
     "output_type": "display_data"
    },
    {
     "data": {
      "text/plain": [
       "106.48611111111111"
      ]
     },
     "metadata": {},
     "output_type": "display_data"
    },
    {
     "data": {
      "text/plain": [
       "6"
      ]
     },
     "metadata": {},
     "output_type": "display_data"
    },
    {
     "data": {
      "text/plain": [
       "'X_1:'"
      ]
     },
     "metadata": {},
     "output_type": "display_data"
    },
    {
     "data": {
      "text/html": [
       "<div>\n",
       "<style scoped>\n",
       "    .dataframe tbody tr th:only-of-type {\n",
       "        vertical-align: middle;\n",
       "    }\n",
       "\n",
       "    .dataframe tbody tr th {\n",
       "        vertical-align: top;\n",
       "    }\n",
       "\n",
       "    .dataframe thead th {\n",
       "        text-align: right;\n",
       "    }\n",
       "</style>\n",
       "<table border=\"1\" class=\"dataframe\">\n",
       "  <thead>\n",
       "    <tr style=\"text-align: right;\">\n",
       "      <th></th>\n",
       "      <th>1</th>\n",
       "      <th>2</th>\n",
       "      <th>3</th>\n",
       "      <th>4</th>\n",
       "      <th>5</th>\n",
       "    </tr>\n",
       "  </thead>\n",
       "  <tbody>\n",
       "    <tr>\n",
       "      <th>0</th>\n",
       "      <td>0     -0.105458\n",
       "1      2.156868\n",
       "2      2.15686...</td>\n",
       "      <td>0     -2.226819\n",
       "1     -1.046605\n",
       "2     -1.04660...</td>\n",
       "      <td>0     -2.899032\n",
       "1     -1.326285\n",
       "2     -1.32628...</td>\n",
       "      <td>0     -1.365259\n",
       "1     -0.350125\n",
       "2     -0.35012...</td>\n",
       "      <td>0     -0.542939\n",
       "1     -0.029086\n",
       "2     -0.02908...</td>\n",
       "    </tr>\n",
       "    <tr>\n",
       "      <th>1</th>\n",
       "      <td>0     -1.086132\n",
       "1     -1.086132\n",
       "2     -0.87655...</td>\n",
       "      <td>0     -0.727819\n",
       "1     -0.727819\n",
       "2     -0.98801...</td>\n",
       "      <td>0     -1.194132\n",
       "1     -1.194132\n",
       "2     -1.26061...</td>\n",
       "      <td>0     -0.746295\n",
       "1     -0.746295\n",
       "2     -1.41598...</td>\n",
       "      <td>0     -0.656451\n",
       "1     -0.656451\n",
       "2     -1.44081...</td>\n",
       "    </tr>\n",
       "    <tr>\n",
       "      <th>2</th>\n",
       "      <td>0     -0.441790\n",
       "1     -0.339262\n",
       "2     -0.51868...</td>\n",
       "      <td>0     -0.011731\n",
       "1      0.521171\n",
       "2      0.58038...</td>\n",
       "      <td>0      0.622406\n",
       "1      0.622406\n",
       "2      0.77601...</td>\n",
       "      <td>0     -0.660632\n",
       "1     -0.320530\n",
       "2      0.01957...</td>\n",
       "      <td>0      0.129944\n",
       "1      0.659714\n",
       "2      0.92459...</td>\n",
       "    </tr>\n",
       "    <tr>\n",
       "      <th>3</th>\n",
       "      <td>0      3.186905\n",
       "1      2.687368\n",
       "2      2.93713...</td>\n",
       "      <td>0      1.754275\n",
       "1      1.818485\n",
       "2      1.69006...</td>\n",
       "      <td>0      0.656200\n",
       "1      1.026776\n",
       "2      2.58319...</td>\n",
       "      <td>0      1.502163\n",
       "1      1.565475\n",
       "2      1.37553...</td>\n",
       "      <td>0      0.393412\n",
       "1      1.891676\n",
       "2     -2.10369...</td>\n",
       "    </tr>\n",
       "    <tr>\n",
       "      <th>4</th>\n",
       "      <td>0     -0.866961\n",
       "1     -1.463458\n",
       "2     -1.76170...</td>\n",
       "      <td>0      6.174958\n",
       "1      0.460671\n",
       "2     -0.42986...</td>\n",
       "      <td>0      5.486180\n",
       "1      0.092835\n",
       "2     -0.85336...</td>\n",
       "      <td>0      5.608109\n",
       "1     -0.055790\n",
       "2     -0.83318...</td>\n",
       "      <td>0     -3.297001\n",
       "1     -2.740146\n",
       "2     -1.51506...</td>\n",
       "    </tr>\n",
       "    <tr>\n",
       "      <th>...</th>\n",
       "      <td>...</td>\n",
       "      <td>...</td>\n",
       "      <td>...</td>\n",
       "      <td>...</td>\n",
       "      <td>...</td>\n",
       "    </tr>\n",
       "    <tr>\n",
       "      <th>139</th>\n",
       "      <td>0      1.511999\n",
       "1      0.639111\n",
       "2      1.60898...</td>\n",
       "      <td>0     -0.257419\n",
       "1      0.084088\n",
       "2     -0.66722...</td>\n",
       "      <td>0      0.658101\n",
       "1      0.498956\n",
       "2      0.55200...</td>\n",
       "      <td>0     -0.746631\n",
       "1     -0.281084\n",
       "2     -0.20757...</td>\n",
       "      <td>0     -0.484875\n",
       "1     -0.484875\n",
       "2     -0.48487...</td>\n",
       "    </tr>\n",
       "    <tr>\n",
       "      <th>140</th>\n",
       "      <td>0     -0.709804\n",
       "1     -0.734702\n",
       "2     -0.95877...</td>\n",
       "      <td>0     -0.604892\n",
       "1     -0.653614\n",
       "2     -0.45872...</td>\n",
       "      <td>0     -0.371030\n",
       "1     -0.439191\n",
       "2     -0.84816...</td>\n",
       "      <td>0     -0.476280\n",
       "1     -0.528034\n",
       "2     -0.03637...</td>\n",
       "      <td>0     -0.543197\n",
       "1     -0.543197\n",
       "2     -0.17449...</td>\n",
       "    </tr>\n",
       "    <tr>\n",
       "      <th>141</th>\n",
       "      <td>0     -0.593188\n",
       "1     -0.482973\n",
       "2     -0.81362...</td>\n",
       "      <td>0      1.633853\n",
       "1     -0.252631\n",
       "2     -1.40292...</td>\n",
       "      <td>0      0.101221\n",
       "1     -0.700402\n",
       "2     -1.62535...</td>\n",
       "      <td>0      2.711120\n",
       "1     -0.052762\n",
       "2     -1.19083...</td>\n",
       "      <td>0     -2.354645\n",
       "1      0.265747\n",
       "2      0.26574...</td>\n",
       "    </tr>\n",
       "    <tr>\n",
       "      <th>142</th>\n",
       "      <td>0     -0.891320\n",
       "1     -0.743649\n",
       "2     -0.41877...</td>\n",
       "      <td>0     -0.722405\n",
       "1     -0.673287\n",
       "2     -0.67328...</td>\n",
       "      <td>0     -0.948864\n",
       "1     -0.505782\n",
       "2     -0.56908...</td>\n",
       "      <td>0     -0.415329\n",
       "1     -0.581964\n",
       "2     -0.64861...</td>\n",
       "      <td>0     -2.125695\n",
       "1     -2.125695\n",
       "2     -2.12569...</td>\n",
       "    </tr>\n",
       "    <tr>\n",
       "      <th>143</th>\n",
       "      <td>0      0.558850\n",
       "1      0.558850\n",
       "2     -0.23429...</td>\n",
       "      <td>0     -0.818955\n",
       "1     -0.818955\n",
       "2     -2.52109...</td>\n",
       "      <td>0     -0.806680\n",
       "1     -0.806680\n",
       "2     -2.72948...</td>\n",
       "      <td>0      0.779671\n",
       "1      0.779671\n",
       "2     -1.52596...</td>\n",
       "      <td>0      0.952129\n",
       "1      0.952129\n",
       "2      0.78077...</td>\n",
       "    </tr>\n",
       "  </tbody>\n",
       "</table>\n",
       "<p>144 rows × 5 columns</p>\n",
       "</div>"
      ],
      "text/plain": [
       "                                                     1  \\\n",
       "0    0     -0.105458\n",
       "1      2.156868\n",
       "2      2.15686...   \n",
       "1    0     -1.086132\n",
       "1     -1.086132\n",
       "2     -0.87655...   \n",
       "2    0     -0.441790\n",
       "1     -0.339262\n",
       "2     -0.51868...   \n",
       "3    0      3.186905\n",
       "1      2.687368\n",
       "2      2.93713...   \n",
       "4    0     -0.866961\n",
       "1     -1.463458\n",
       "2     -1.76170...   \n",
       "..                                                 ...   \n",
       "139  0      1.511999\n",
       "1      0.639111\n",
       "2      1.60898...   \n",
       "140  0     -0.709804\n",
       "1     -0.734702\n",
       "2     -0.95877...   \n",
       "141  0     -0.593188\n",
       "1     -0.482973\n",
       "2     -0.81362...   \n",
       "142  0     -0.891320\n",
       "1     -0.743649\n",
       "2     -0.41877...   \n",
       "143  0      0.558850\n",
       "1      0.558850\n",
       "2     -0.23429...   \n",
       "\n",
       "                                                     2  \\\n",
       "0    0     -2.226819\n",
       "1     -1.046605\n",
       "2     -1.04660...   \n",
       "1    0     -0.727819\n",
       "1     -0.727819\n",
       "2     -0.98801...   \n",
       "2    0     -0.011731\n",
       "1      0.521171\n",
       "2      0.58038...   \n",
       "3    0      1.754275\n",
       "1      1.818485\n",
       "2      1.69006...   \n",
       "4    0      6.174958\n",
       "1      0.460671\n",
       "2     -0.42986...   \n",
       "..                                                 ...   \n",
       "139  0     -0.257419\n",
       "1      0.084088\n",
       "2     -0.66722...   \n",
       "140  0     -0.604892\n",
       "1     -0.653614\n",
       "2     -0.45872...   \n",
       "141  0      1.633853\n",
       "1     -0.252631\n",
       "2     -1.40292...   \n",
       "142  0     -0.722405\n",
       "1     -0.673287\n",
       "2     -0.67328...   \n",
       "143  0     -0.818955\n",
       "1     -0.818955\n",
       "2     -2.52109...   \n",
       "\n",
       "                                                     3  \\\n",
       "0    0     -2.899032\n",
       "1     -1.326285\n",
       "2     -1.32628...   \n",
       "1    0     -1.194132\n",
       "1     -1.194132\n",
       "2     -1.26061...   \n",
       "2    0      0.622406\n",
       "1      0.622406\n",
       "2      0.77601...   \n",
       "3    0      0.656200\n",
       "1      1.026776\n",
       "2      2.58319...   \n",
       "4    0      5.486180\n",
       "1      0.092835\n",
       "2     -0.85336...   \n",
       "..                                                 ...   \n",
       "139  0      0.658101\n",
       "1      0.498956\n",
       "2      0.55200...   \n",
       "140  0     -0.371030\n",
       "1     -0.439191\n",
       "2     -0.84816...   \n",
       "141  0      0.101221\n",
       "1     -0.700402\n",
       "2     -1.62535...   \n",
       "142  0     -0.948864\n",
       "1     -0.505782\n",
       "2     -0.56908...   \n",
       "143  0     -0.806680\n",
       "1     -0.806680\n",
       "2     -2.72948...   \n",
       "\n",
       "                                                     4  \\\n",
       "0    0     -1.365259\n",
       "1     -0.350125\n",
       "2     -0.35012...   \n",
       "1    0     -0.746295\n",
       "1     -0.746295\n",
       "2     -1.41598...   \n",
       "2    0     -0.660632\n",
       "1     -0.320530\n",
       "2      0.01957...   \n",
       "3    0      1.502163\n",
       "1      1.565475\n",
       "2      1.37553...   \n",
       "4    0      5.608109\n",
       "1     -0.055790\n",
       "2     -0.83318...   \n",
       "..                                                 ...   \n",
       "139  0     -0.746631\n",
       "1     -0.281084\n",
       "2     -0.20757...   \n",
       "140  0     -0.476280\n",
       "1     -0.528034\n",
       "2     -0.03637...   \n",
       "141  0      2.711120\n",
       "1     -0.052762\n",
       "2     -1.19083...   \n",
       "142  0     -0.415329\n",
       "1     -0.581964\n",
       "2     -0.64861...   \n",
       "143  0      0.779671\n",
       "1      0.779671\n",
       "2     -1.52596...   \n",
       "\n",
       "                                                     5  \n",
       "0    0     -0.542939\n",
       "1     -0.029086\n",
       "2     -0.02908...  \n",
       "1    0     -0.656451\n",
       "1     -0.656451\n",
       "2     -1.44081...  \n",
       "2    0      0.129944\n",
       "1      0.659714\n",
       "2      0.92459...  \n",
       "3    0      0.393412\n",
       "1      1.891676\n",
       "2     -2.10369...  \n",
       "4    0     -3.297001\n",
       "1     -2.740146\n",
       "2     -1.51506...  \n",
       "..                                                 ...  \n",
       "139  0     -0.484875\n",
       "1     -0.484875\n",
       "2     -0.48487...  \n",
       "140  0     -0.543197\n",
       "1     -0.543197\n",
       "2     -0.17449...  \n",
       "141  0     -2.354645\n",
       "1      0.265747\n",
       "2      0.26574...  \n",
       "142  0     -2.125695\n",
       "1     -2.125695\n",
       "2     -2.12569...  \n",
       "143  0      0.952129\n",
       "1      0.952129\n",
       "2      0.78077...  \n",
       "\n",
       "[144 rows x 5 columns]"
      ]
     },
     "metadata": {},
     "output_type": "display_data"
    },
    {
     "data": {
      "text/plain": [
       "'Completed'"
      ]
     },
     "metadata": {},
     "output_type": "display_data"
    },
    {
     "data": {
      "text/plain": [
       "1"
      ]
     },
     "metadata": {},
     "output_type": "display_data"
    },
    {
     "data": {
      "text/plain": [
       "'Completed'"
      ]
     },
     "metadata": {},
     "output_type": "display_data"
    },
    {
     "data": {
      "text/plain": [
       "2"
      ]
     },
     "metadata": {},
     "output_type": "display_data"
    },
    {
     "data": {
      "text/plain": [
       "'Completed'"
      ]
     },
     "metadata": {},
     "output_type": "display_data"
    },
    {
     "data": {
      "text/plain": [
       "3"
      ]
     },
     "metadata": {},
     "output_type": "display_data"
    },
    {
     "data": {
      "text/plain": [
       "'Completed'"
      ]
     },
     "metadata": {},
     "output_type": "display_data"
    },
    {
     "data": {
      "text/plain": [
       "4"
      ]
     },
     "metadata": {},
     "output_type": "display_data"
    },
    {
     "data": {
      "text/plain": [
       "'Completed'"
      ]
     },
     "metadata": {},
     "output_type": "display_data"
    },
    {
     "data": {
      "text/plain": [
       "5"
      ]
     },
     "metadata": {},
     "output_type": "display_data"
    },
    {
     "data": {
      "text/plain": [
       "'Completed'"
      ]
     },
     "metadata": {},
     "output_type": "display_data"
    },
    {
     "data": {
      "text/plain": [
       "6"
      ]
     },
     "metadata": {},
     "output_type": "display_data"
    },
    {
     "data": {
      "text/plain": [
       "'Completed'"
      ]
     },
     "metadata": {},
     "output_type": "display_data"
    },
    {
     "data": {
      "text/plain": [
       "7"
      ]
     },
     "metadata": {},
     "output_type": "display_data"
    },
    {
     "data": {
      "text/plain": [
       "'Completed'"
      ]
     },
     "metadata": {},
     "output_type": "display_data"
    },
    {
     "data": {
      "text/plain": [
       "8"
      ]
     },
     "metadata": {},
     "output_type": "display_data"
    },
    {
     "data": {
      "text/plain": [
       "'Completed'"
      ]
     },
     "metadata": {},
     "output_type": "display_data"
    },
    {
     "data": {
      "text/plain": [
       "9"
      ]
     },
     "metadata": {},
     "output_type": "display_data"
    },
    {
     "data": {
      "text/plain": [
       "'Completed'"
      ]
     },
     "metadata": {},
     "output_type": "display_data"
    },
    {
     "data": {
      "text/plain": [
       "10"
      ]
     },
     "metadata": {},
     "output_type": "display_data"
    },
    {
     "data": {
      "text/plain": [
       "'Completed'"
      ]
     },
     "metadata": {},
     "output_type": "display_data"
    },
    {
     "data": {
      "text/plain": [
       "11"
      ]
     },
     "metadata": {},
     "output_type": "display_data"
    },
    {
     "data": {
      "text/plain": [
       "'Completed'"
      ]
     },
     "metadata": {},
     "output_type": "display_data"
    },
    {
     "data": {
      "text/plain": [
       "12"
      ]
     },
     "metadata": {},
     "output_type": "display_data"
    },
    {
     "data": {
      "text/plain": [
       "'Completed'"
      ]
     },
     "metadata": {},
     "output_type": "display_data"
    },
    {
     "data": {
      "text/plain": [
       "13"
      ]
     },
     "metadata": {},
     "output_type": "display_data"
    },
    {
     "data": {
      "text/plain": [
       "'Completed'"
      ]
     },
     "metadata": {},
     "output_type": "display_data"
    },
    {
     "data": {
      "text/plain": [
       "14"
      ]
     },
     "metadata": {},
     "output_type": "display_data"
    },
    {
     "data": {
      "text/plain": [
       "'Completed'"
      ]
     },
     "metadata": {},
     "output_type": "display_data"
    },
    {
     "data": {
      "text/plain": [
       "15"
      ]
     },
     "metadata": {},
     "output_type": "display_data"
    },
    {
     "data": {
      "text/plain": [
       "'Completed'"
      ]
     },
     "metadata": {},
     "output_type": "display_data"
    },
    {
     "data": {
      "text/plain": [
       "16"
      ]
     },
     "metadata": {},
     "output_type": "display_data"
    },
    {
     "data": {
      "text/plain": [
       "'Completed'"
      ]
     },
     "metadata": {},
     "output_type": "display_data"
    },
    {
     "data": {
      "text/plain": [
       "17"
      ]
     },
     "metadata": {},
     "output_type": "display_data"
    },
    {
     "data": {
      "text/plain": [
       "'Completed'"
      ]
     },
     "metadata": {},
     "output_type": "display_data"
    },
    {
     "data": {
      "text/plain": [
       "18"
      ]
     },
     "metadata": {},
     "output_type": "display_data"
    },
    {
     "data": {
      "text/plain": [
       "'Completed'"
      ]
     },
     "metadata": {},
     "output_type": "display_data"
    },
    {
     "data": {
      "text/plain": [
       "19"
      ]
     },
     "metadata": {},
     "output_type": "display_data"
    },
    {
     "data": {
      "text/plain": [
       "'Completed'"
      ]
     },
     "metadata": {},
     "output_type": "display_data"
    },
    {
     "data": {
      "text/plain": [
       "20"
      ]
     },
     "metadata": {},
     "output_type": "display_data"
    },
    {
     "data": {
      "text/plain": [
       "'Completed'"
      ]
     },
     "metadata": {},
     "output_type": "display_data"
    },
    {
     "data": {
      "text/plain": [
       "21"
      ]
     },
     "metadata": {},
     "output_type": "display_data"
    },
    {
     "data": {
      "text/plain": [
       "'Completed'"
      ]
     },
     "metadata": {},
     "output_type": "display_data"
    },
    {
     "data": {
      "text/plain": [
       "22"
      ]
     },
     "metadata": {},
     "output_type": "display_data"
    },
    {
     "data": {
      "text/plain": [
       "'Completed'"
      ]
     },
     "metadata": {},
     "output_type": "display_data"
    },
    {
     "data": {
      "text/plain": [
       "23"
      ]
     },
     "metadata": {},
     "output_type": "display_data"
    },
    {
     "data": {
      "text/plain": [
       "'Completed'"
      ]
     },
     "metadata": {},
     "output_type": "display_data"
    },
    {
     "data": {
      "text/plain": [
       "24"
      ]
     },
     "metadata": {},
     "output_type": "display_data"
    },
    {
     "data": {
      "text/plain": [
       "'Completed'"
      ]
     },
     "metadata": {},
     "output_type": "display_data"
    },
    {
     "data": {
      "text/plain": [
       "25"
      ]
     },
     "metadata": {},
     "output_type": "display_data"
    },
    {
     "data": {
      "text/plain": [
       "'Completed'"
      ]
     },
     "metadata": {},
     "output_type": "display_data"
    },
    {
     "data": {
      "text/plain": [
       "26"
      ]
     },
     "metadata": {},
     "output_type": "display_data"
    },
    {
     "data": {
      "text/plain": [
       "'Completed'"
      ]
     },
     "metadata": {},
     "output_type": "display_data"
    },
    {
     "data": {
      "text/plain": [
       "27"
      ]
     },
     "metadata": {},
     "output_type": "display_data"
    },
    {
     "data": {
      "text/plain": [
       "'Completed'"
      ]
     },
     "metadata": {},
     "output_type": "display_data"
    },
    {
     "data": {
      "text/plain": [
       "28"
      ]
     },
     "metadata": {},
     "output_type": "display_data"
    },
    {
     "data": {
      "text/plain": [
       "'Completed'"
      ]
     },
     "metadata": {},
     "output_type": "display_data"
    },
    {
     "data": {
      "text/plain": [
       "29"
      ]
     },
     "metadata": {},
     "output_type": "display_data"
    },
    {
     "data": {
      "text/plain": [
       "'Completed'"
      ]
     },
     "metadata": {},
     "output_type": "display_data"
    },
    {
     "data": {
      "text/plain": [
       "30"
      ]
     },
     "metadata": {},
     "output_type": "display_data"
    }
   ],
   "source": [
    "classifier_dict_hb = {}\n",
    "key = 'hb_key'\n",
    "normal_sample_numbers = [] \n",
    "normal_sample_numbers.extend(hb_dict[key])\n",
    "normal_sample_length = len(normal_sample_numbers)\n",
    "display(normal_sample_length)\n",
    "\n",
    "if len(normal_sample_numbers) <= abnormal_no:\n",
    "    df_normal = final_normal_df[final_normal_df['Subject'].isin(normal_sample_numbers)]\n",
    "    display(df_normal.head())\n",
    "\n",
    "    random.seed(42)\n",
    "    abnormal_sample_numbers = random.sample(abnormal_indices.tolist(), normal_sample_length)\n",
    "    df_abnormal = final_abnormal_df[final_abnormal_df['Subject'].isin(abnormal_sample_numbers)]\n",
    "    display(df_abnormal.head())\n",
    "\n",
    "    desired_length_for_ts = time_series_length_finding(df_abnormal)\n",
    "\n",
    "    df_normal_preprocessed = preprocessing_normal_df(df_normal,desired_length_for_ts)\n",
    "    df_abnormal_preprocessed = preprocessing_dataframe(df_abnormal,desired_length_for_ts)\n",
    "\n",
    "    df_classifier = (pd.concat([df_normal_preprocessed,df_abnormal_preprocessed]).reset_index()).drop(columns='index')\n",
    "    acc_mean,acc_std_dev,prec_mean,prec_std_dev,recall_mean,recall_std_dev,f1_mean,f1_std_dev = ts_classifier(df_classifier)\n",
    "\n",
    "    classifier_dict_hb[key] = {'acc_mean': acc_mean,'acc_std_dev': acc_std_dev,'prec_mean': prec_mean,'prec_std_dev': prec_std_dev,'recall_mean': recall_mean,'recall_std_dev': recall_std_dev,'f1_mean': f1_mean,'f1_std_dev': f1_std_dev}\n",
    "\n",
    "else:\n",
    "    df_abnormal = final_abnormal_df\n",
    "\n",
    "    random.seed(42)\n",
    "    random_sample_numbers = random.sample(normal_sample_numbers, abnormal_no)\n",
    "    df_normal = final_normal_df[final_normal_df['Subject'].isin(random_sample_numbers)]\n",
    "    display(df_normal)\n",
    "\n",
    "    desired_length_for_ts = time_series_length_finding(df_abnormal)\n",
    "\n",
    "    df_normal_preprocessed = preprocessing_normal_df(df_normal,desired_length_for_ts)\n",
    "    df_abnormal_preprocessed = preprocessing_dataframe(df_abnormal,desired_length_for_ts)\n",
    "\n",
    "    df_classifier = (pd.concat([df_normal_preprocessed,df_abnormal_preprocessed]).reset_index()).drop(columns='index')\n",
    "    acc_mean,acc_std_dev,prec_mean,prec_std_dev,recall_mean,recall_std_dev,f1_mean,f1_std_dev = ts_classifier(df_classifier)\n",
    "\n",
    "    classifier_dict_hb[key] = {'acc_mean': acc_mean,'acc_std_dev': acc_std_dev,'prec_mean': prec_mean,'prec_std_dev': prec_std_dev,'recall_mean': recall_mean,'recall_std_dev': recall_std_dev,'f1_mean': f1_mean,'f1_std_dev': f1_std_dev}"
   ]
  },
  {
   "cell_type": "code",
   "execution_count": 13,
   "id": "0064b12f",
   "metadata": {},
   "outputs": [],
   "source": [
    "import pickle\n",
    "\n",
    "# Specify the file path where you want to save the pickle file\n",
    "pickle_file_path = 'hb_sepsis_hive_cote_normalized.pickle'\n",
    "\n",
    "# Save the dictionary to a pickle file\n",
    "with open(pickle_file_path, 'wb') as file:\n",
    "    pickle.dump(classifier_dict_hb, file)\n",
    "\n",
    "print(f\"Dictionary saved to {pickle_file_path}\")"
   ]
  },
  {
   "cell_type": "code",
   "execution_count": 14,
   "id": "72f4764c",
   "metadata": {},
   "outputs": [
    {
     "data": {
      "text/plain": [
       "{'hb_key': {'acc_mean': 0.9356321839080458,\n",
       "  'acc_std_dev': 0.03531561263387867,\n",
       "  'prec_mean': 0.995,\n",
       "  'prec_std_dev': 0.018831612507420332,\n",
       "  'recall_mean': 0.8747619047619047,\n",
       "  'recall_std_dev': 0.0701596279480013,\n",
       "  'f1_mean': 0.929442297166435,\n",
       "  'f1_std_dev': 0.03992466573953917}}"
      ]
     },
     "execution_count": 14,
     "metadata": {},
     "output_type": "execute_result"
    }
   ],
   "source": [
    "classifier_dict_hb"
   ]
  },
  {
   "cell_type": "code",
   "execution_count": 15,
   "id": "e5a439dc",
   "metadata": {},
   "outputs": [
    {
     "data": {
      "text/plain": [
       "{'healthy_key': [112,\n",
       "  360,\n",
       "  143,\n",
       "  415,\n",
       "  413,\n",
       "  23,\n",
       "  374,\n",
       "  32,\n",
       "  34,\n",
       "  42,\n",
       "  68,\n",
       "  90,\n",
       "  119,\n",
       "  121,\n",
       "  137,\n",
       "  178,\n",
       "  180,\n",
       "  196,\n",
       "  214,\n",
       "  241,\n",
       "  242,\n",
       "  249,\n",
       "  257,\n",
       "  265,\n",
       "  277,\n",
       "  279,\n",
       "  315,\n",
       "  325,\n",
       "  340,\n",
       "  357,\n",
       "  365,\n",
       "  369,\n",
       "  406,\n",
       "  407,\n",
       "  426,\n",
       "  429,\n",
       "  441,\n",
       "  455,\n",
       "  458,\n",
       "  470,\n",
       "  493,\n",
       "  14,\n",
       "  288,\n",
       "  20,\n",
       "  33,\n",
       "  35,\n",
       "  51,\n",
       "  52,\n",
       "  60,\n",
       "  63,\n",
       "  67,\n",
       "  73,\n",
       "  144,\n",
       "  167,\n",
       "  176,\n",
       "  205,\n",
       "  228,\n",
       "  235,\n",
       "  250,\n",
       "  296,\n",
       "  313,\n",
       "  323,\n",
       "  337,\n",
       "  362,\n",
       "  396,\n",
       "  409,\n",
       "  419,\n",
       "  440,\n",
       "  464,\n",
       "  467,\n",
       "  486,\n",
       "  489,\n",
       "  378,\n",
       "  280,\n",
       "  50,\n",
       "  3,\n",
       "  5,\n",
       "  41,\n",
       "  43,\n",
       "  70,\n",
       "  117,\n",
       "  123,\n",
       "  139,\n",
       "  164,\n",
       "  220,\n",
       "  225,\n",
       "  244,\n",
       "  247,\n",
       "  262,\n",
       "  289,\n",
       "  320,\n",
       "  334,\n",
       "  344,\n",
       "  350,\n",
       "  363,\n",
       "  381,\n",
       "  393,\n",
       "  394,\n",
       "  417,\n",
       "  444,\n",
       "  474,\n",
       "  480,\n",
       "  487,\n",
       "  496,\n",
       "  72,\n",
       "  457,\n",
       "  7,\n",
       "  27,\n",
       "  30,\n",
       "  69,\n",
       "  79,\n",
       "  100,\n",
       "  138,\n",
       "  150,\n",
       "  160,\n",
       "  163,\n",
       "  204,\n",
       "  232,\n",
       "  245,\n",
       "  300,\n",
       "  331,\n",
       "  336,\n",
       "  341,\n",
       "  352,\n",
       "  377,\n",
       "  402,\n",
       "  408,\n",
       "  435,\n",
       "  481,\n",
       "  500,\n",
       "  380,\n",
       "  473,\n",
       "  194,\n",
       "  6,\n",
       "  21,\n",
       "  36,\n",
       "  37,\n",
       "  77,\n",
       "  103,\n",
       "  109,\n",
       "  125,\n",
       "  128,\n",
       "  132,\n",
       "  135,\n",
       "  149,\n",
       "  187,\n",
       "  189,\n",
       "  193,\n",
       "  198,\n",
       "  203,\n",
       "  212,\n",
       "  224,\n",
       "  237,\n",
       "  273,\n",
       "  283,\n",
       "  306,\n",
       "  311,\n",
       "  317,\n",
       "  332,\n",
       "  351,\n",
       "  383,\n",
       "  385,\n",
       "  395,\n",
       "  397,\n",
       "  428,\n",
       "  456,\n",
       "  459,\n",
       "  461,\n",
       "  477,\n",
       "  126,\n",
       "  217,\n",
       "  17,\n",
       "  16,\n",
       "  333,\n",
       "  446,\n",
       "  4,\n",
       "  82,\n",
       "  434,\n",
       "  275,\n",
       "  10,\n",
       "  57,\n",
       "  74,\n",
       "  81,\n",
       "  146,\n",
       "  151,\n",
       "  171,\n",
       "  182,\n",
       "  199,\n",
       "  211,\n",
       "  229,\n",
       "  252,\n",
       "  255,\n",
       "  263,\n",
       "  294,\n",
       "  321,\n",
       "  398,\n",
       "  421,\n",
       "  453,\n",
       "  454,\n",
       "  475,\n",
       "  494,\n",
       "  504,\n",
       "  102,\n",
       "  113,\n",
       "  491,\n",
       "  310,\n",
       "  12,\n",
       "  25,\n",
       "  26,\n",
       "  29,\n",
       "  94,\n",
       "  105,\n",
       "  108,\n",
       "  110,\n",
       "  130,\n",
       "  131,\n",
       "  166,\n",
       "  174,\n",
       "  223,\n",
       "  253,\n",
       "  266,\n",
       "  281,\n",
       "  286,\n",
       "  298,\n",
       "  312,\n",
       "  329,\n",
       "  348,\n",
       "  354,\n",
       "  356,\n",
       "  366,\n",
       "  373,\n",
       "  392,\n",
       "  412,\n",
       "  422,\n",
       "  427,\n",
       "  479,\n",
       "  506,\n",
       "  115,\n",
       "  53,\n",
       "  48,\n",
       "  80,\n",
       "  177,\n",
       "  39,\n",
       "  59,\n",
       "  87,\n",
       "  93,\n",
       "  95,\n",
       "  154,\n",
       "  155,\n",
       "  157,\n",
       "  161,\n",
       "  170,\n",
       "  179,\n",
       "  188,\n",
       "  200,\n",
       "  239,\n",
       "  269,\n",
       "  282,\n",
       "  285,\n",
       "  384,\n",
       "  462,\n",
       "  465,\n",
       "  485,\n",
       "  507,\n",
       "  120,\n",
       "  391,\n",
       "  38,\n",
       "  49,\n",
       "  65,\n",
       "  66,\n",
       "  71,\n",
       "  86,\n",
       "  96,\n",
       "  97,\n",
       "  101,\n",
       "  107,\n",
       "  118,\n",
       "  159,\n",
       "  267,\n",
       "  387,\n",
       "  423,\n",
       "  433,\n",
       "  436,\n",
       "  448,\n",
       "  450,\n",
       "  498,\n",
       "  58,\n",
       "  309,\n",
       "  136,\n",
       "  236,\n",
       "  11,\n",
       "  15,\n",
       "  22,\n",
       "  28,\n",
       "  47,\n",
       "  83,\n",
       "  85,\n",
       "  88,\n",
       "  133,\n",
       "  145,\n",
       "  156,\n",
       "  162,\n",
       "  206,\n",
       "  213,\n",
       "  216,\n",
       "  233,\n",
       "  243,\n",
       "  261,\n",
       "  276,\n",
       "  338,\n",
       "  339,\n",
       "  343,\n",
       "  345,\n",
       "  346,\n",
       "  355,\n",
       "  370,\n",
       "  401,\n",
       "  403,\n",
       "  452,\n",
       "  460,\n",
       "  469,\n",
       "  472,\n",
       "  497,\n",
       "  502,\n",
       "  141,\n",
       "  302,\n",
       "  499,\n",
       "  92,\n",
       "  124,\n",
       "  153,\n",
       "  186,\n",
       "  201,\n",
       "  202,\n",
       "  218,\n",
       "  324,\n",
       "  359,\n",
       "  400,\n",
       "  492,\n",
       "  503,\n",
       "  367,\n",
       "  111,\n",
       "  2,\n",
       "  31,\n",
       "  84,\n",
       "  91,\n",
       "  99,\n",
       "  104,\n",
       "  116,\n",
       "  127,\n",
       "  181,\n",
       "  183,\n",
       "  190,\n",
       "  210,\n",
       "  227,\n",
       "  295,\n",
       "  319,\n",
       "  335,\n",
       "  342,\n",
       "  372,\n",
       "  439,\n",
       "  445,\n",
       "  483,\n",
       "  490,\n",
       "  501,\n",
       "  195,\n",
       "  56,\n",
       "  169,\n",
       "  197,\n",
       "  234,\n",
       "  258,\n",
       "  278,\n",
       "  292,\n",
       "  349,\n",
       "  368,\n",
       "  404,\n",
       "  410,\n",
       "  416,\n",
       "  424,\n",
       "  431,\n",
       "  438,\n",
       "  478,\n",
       "  215,\n",
       "  55,\n",
       "  140,\n",
       "  148,\n",
       "  152,\n",
       "  165,\n",
       "  207,\n",
       "  208,\n",
       "  222,\n",
       "  256,\n",
       "  268,\n",
       "  297,\n",
       "  308,\n",
       "  322,\n",
       "  463,\n",
       "  505,\n",
       "  347,\n",
       "  303,\n",
       "  389,\n",
       "  8,\n",
       "  46,\n",
       "  76,\n",
       "  89,\n",
       "  158,\n",
       "  191,\n",
       "  260,\n",
       "  271,\n",
       "  304,\n",
       "  305,\n",
       "  371,\n",
       "  259,\n",
       "  230,\n",
       "  173,\n",
       "  414,\n",
       "  54,\n",
       "  240,\n",
       "  284,\n",
       "  287,\n",
       "  290,\n",
       "  353,\n",
       "  376,\n",
       "  405,\n",
       "  442,\n",
       "  45,\n",
       "  358,\n",
       "  175,\n",
       "  40,\n",
       "  129,\n",
       "  168,\n",
       "  192,\n",
       "  209,\n",
       "  293,\n",
       "  364,\n",
       "  379,\n",
       "  382,\n",
       "  399,\n",
       "  432,\n",
       "  449,\n",
       "  13,\n",
       "  184,\n",
       "  9,\n",
       "  122,\n",
       "  219,\n",
       "  299,\n",
       "  388,\n",
       "  418,\n",
       "  64,\n",
       "  24,\n",
       "  248,\n",
       "  254,\n",
       "  274,\n",
       "  291,\n",
       "  301,\n",
       "  314,\n",
       "  375,\n",
       "  425,\n",
       "  430,\n",
       "  482,\n",
       "  61,\n",
       "  75,\n",
       "  264,\n",
       "  307,\n",
       "  326,\n",
       "  327,\n",
       "  390,\n",
       "  471,\n",
       "  18,\n",
       "  221,\n",
       "  251,\n",
       "  328,\n",
       "  114,\n",
       "  172,\n",
       "  316,\n",
       "  361,\n",
       "  411,\n",
       "  147,\n",
       "  231,\n",
       "  330,\n",
       "  447,\n",
       "  451,\n",
       "  476,\n",
       "  484,\n",
       "  488,\n",
       "  62,\n",
       "  238,\n",
       "  246,\n",
       "  318,\n",
       "  386,\n",
       "  443,\n",
       "  466,\n",
       "  19,\n",
       "  44,\n",
       "  98,\n",
       "  142,\n",
       "  185,\n",
       "  272,\n",
       "  468,\n",
       "  106,\n",
       "  134,\n",
       "  495,\n",
       "  226]}"
      ]
     },
     "metadata": {},
     "output_type": "display_data"
    }
   ],
   "source": [
    "all_values = [value for sublist in final_numbers_dictionary.values() for value in sublist]\n",
    "healthy_dict = {'healthy_key': all_values}"
   ]
  },
  {
   "cell_type": "code",
   "execution_count": 16,
   "id": "7c85e72f",
   "metadata": {},
   "outputs": [
    {
     "data": {
      "text/plain": [
       "502"
      ]
     },
     "metadata": {},
     "output_type": "display_data"
    },
    {
     "data": {
      "text/html": [
       "<div>\n",
       "<style scoped>\n",
       "    .dataframe tbody tr th:only-of-type {\n",
       "        vertical-align: middle;\n",
       "    }\n",
       "\n",
       "    .dataframe tbody tr th {\n",
       "        vertical-align: top;\n",
       "    }\n",
       "\n",
       "    .dataframe thead th {\n",
       "        text-align: right;\n",
       "    }\n",
       "</style>\n",
       "<table border=\"1\" class=\"dataframe\">\n",
       "  <thead>\n",
       "    <tr style=\"text-align: right;\">\n",
       "      <th></th>\n",
       "      <th>Subject</th>\n",
       "      <th>HR</th>\n",
       "      <th>MAP</th>\n",
       "      <th>DBP</th>\n",
       "      <th>SBP</th>\n",
       "      <th>Resp</th>\n",
       "    </tr>\n",
       "  </thead>\n",
       "  <tbody>\n",
       "    <tr>\n",
       "      <th>0</th>\n",
       "      <td>11</td>\n",
       "      <td>90.0</td>\n",
       "      <td>70.0</td>\n",
       "      <td>53.0</td>\n",
       "      <td>111.0</td>\n",
       "      <td>24.0</td>\n",
       "    </tr>\n",
       "    <tr>\n",
       "      <th>1</th>\n",
       "      <td>11</td>\n",
       "      <td>90.0</td>\n",
       "      <td>70.0</td>\n",
       "      <td>53.0</td>\n",
       "      <td>111.0</td>\n",
       "      <td>24.0</td>\n",
       "    </tr>\n",
       "    <tr>\n",
       "      <th>2</th>\n",
       "      <td>11</td>\n",
       "      <td>90.0</td>\n",
       "      <td>80.0</td>\n",
       "      <td>60.0</td>\n",
       "      <td>121.0</td>\n",
       "      <td>24.0</td>\n",
       "    </tr>\n",
       "    <tr>\n",
       "      <th>3</th>\n",
       "      <td>11</td>\n",
       "      <td>81.0</td>\n",
       "      <td>67.0</td>\n",
       "      <td>52.0</td>\n",
       "      <td>99.0</td>\n",
       "      <td>12.0</td>\n",
       "    </tr>\n",
       "    <tr>\n",
       "      <th>4</th>\n",
       "      <td>11</td>\n",
       "      <td>83.0</td>\n",
       "      <td>66.0</td>\n",
       "      <td>51.0</td>\n",
       "      <td>99.0</td>\n",
       "      <td>14.0</td>\n",
       "    </tr>\n",
       "    <tr>\n",
       "      <th>...</th>\n",
       "      <td>...</td>\n",
       "      <td>...</td>\n",
       "      <td>...</td>\n",
       "      <td>...</td>\n",
       "      <td>...</td>\n",
       "      <td>...</td>\n",
       "    </tr>\n",
       "    <tr>\n",
       "      <th>52</th>\n",
       "      <td>506</td>\n",
       "      <td>104.0</td>\n",
       "      <td>89.0</td>\n",
       "      <td>69.0</td>\n",
       "      <td>136.0</td>\n",
       "      <td>28.0</td>\n",
       "    </tr>\n",
       "    <tr>\n",
       "      <th>53</th>\n",
       "      <td>506</td>\n",
       "      <td>100.0</td>\n",
       "      <td>83.0</td>\n",
       "      <td>65.0</td>\n",
       "      <td>121.0</td>\n",
       "      <td>19.0</td>\n",
       "    </tr>\n",
       "    <tr>\n",
       "      <th>54</th>\n",
       "      <td>506</td>\n",
       "      <td>91.0</td>\n",
       "      <td>74.0</td>\n",
       "      <td>59.0</td>\n",
       "      <td>102.0</td>\n",
       "      <td>14.0</td>\n",
       "    </tr>\n",
       "    <tr>\n",
       "      <th>55</th>\n",
       "      <td>506</td>\n",
       "      <td>90.0</td>\n",
       "      <td>66.0</td>\n",
       "      <td>61.0</td>\n",
       "      <td>101.0</td>\n",
       "      <td>16.0</td>\n",
       "    </tr>\n",
       "    <tr>\n",
       "      <th>56</th>\n",
       "      <td>506</td>\n",
       "      <td>90.0</td>\n",
       "      <td>72.0</td>\n",
       "      <td>56.0</td>\n",
       "      <td>101.0</td>\n",
       "      <td>20.0</td>\n",
       "    </tr>\n",
       "  </tbody>\n",
       "</table>\n",
       "<p>9438 rows × 6 columns</p>\n",
       "</div>"
      ],
      "text/plain": [
       "    Subject     HR   MAP   DBP    SBP  Resp\n",
       "0        11   90.0  70.0  53.0  111.0  24.0\n",
       "1        11   90.0  70.0  53.0  111.0  24.0\n",
       "2        11   90.0  80.0  60.0  121.0  24.0\n",
       "3        11   81.0  67.0  52.0   99.0  12.0\n",
       "4        11   83.0  66.0  51.0   99.0  14.0\n",
       "..      ...    ...   ...   ...    ...   ...\n",
       "52      506  104.0  89.0  69.0  136.0  28.0\n",
       "53      506  100.0  83.0  65.0  121.0  19.0\n",
       "54      506   91.0  74.0  59.0  102.0  14.0\n",
       "55      506   90.0  66.0  61.0  101.0  16.0\n",
       "56      506   90.0  72.0  56.0  101.0  20.0\n",
       "\n",
       "[9438 rows x 6 columns]"
      ]
     },
     "metadata": {},
     "output_type": "display_data"
    },
    {
     "data": {
      "text/plain": [
       "'Avg length:'"
      ]
     },
     "metadata": {},
     "output_type": "display_data"
    },
    {
     "data": {
      "text/plain": [
       "108.59428571428572"
      ]
     },
     "metadata": {},
     "output_type": "display_data"
    },
    {
     "data": {
      "text/plain": [
       "6"
      ]
     },
     "metadata": {},
     "output_type": "display_data"
    },
    {
     "data": {
      "text/plain": [
       "'X_1:'"
      ]
     },
     "metadata": {},
     "output_type": "display_data"
    },
    {
     "data": {
      "text/html": [
       "<div>\n",
       "<style scoped>\n",
       "    .dataframe tbody tr th:only-of-type {\n",
       "        vertical-align: middle;\n",
       "    }\n",
       "\n",
       "    .dataframe tbody tr th {\n",
       "        vertical-align: top;\n",
       "    }\n",
       "\n",
       "    .dataframe thead th {\n",
       "        text-align: right;\n",
       "    }\n",
       "</style>\n",
       "<table border=\"1\" class=\"dataframe\">\n",
       "  <thead>\n",
       "    <tr style=\"text-align: right;\">\n",
       "      <th></th>\n",
       "      <th>1</th>\n",
       "      <th>2</th>\n",
       "      <th>3</th>\n",
       "      <th>4</th>\n",
       "      <th>5</th>\n",
       "    </tr>\n",
       "  </thead>\n",
       "  <tbody>\n",
       "    <tr>\n",
       "      <th>0</th>\n",
       "      <td>0      1.340723\n",
       "1      1.340723\n",
       "2      1.34072...</td>\n",
       "      <td>0     -0.778554\n",
       "1     -0.778554\n",
       "2      0.82151...</td>\n",
       "      <td>0     -0.107189\n",
       "1     -0.107189\n",
       "2      1.97062...</td>\n",
       "      <td>0     -0.903078\n",
       "1     -0.903078\n",
       "2     -0.10722...</td>\n",
       "      <td>0      1.674277\n",
       "1      1.674277\n",
       "2      1.67427...</td>\n",
       "    </tr>\n",
       "    <tr>\n",
       "      <th>1</th>\n",
       "      <td>0     -0.748380\n",
       "1     -0.748380\n",
       "2     -1.25784...</td>\n",
       "      <td>0     -1.904063\n",
       "1     -1.904063\n",
       "2      0.13196...</td>\n",
       "      <td>0     -1.310589\n",
       "1     -1.310589\n",
       "2      0.13027...</td>\n",
       "      <td>0     -1.252654\n",
       "1     -1.252654\n",
       "2      0.98884...</td>\n",
       "      <td>0      0.638863\n",
       "1      0.638863\n",
       "2     -0.40025...</td>\n",
       "    </tr>\n",
       "    <tr>\n",
       "      <th>2</th>\n",
       "      <td>0     -1.129663\n",
       "1     -1.129663\n",
       "2     -1.50219...</td>\n",
       "      <td>0     -2.085958\n",
       "1     -2.085958\n",
       "2     -2.48453...</td>\n",
       "      <td>0     -2.047608\n",
       "1     -2.047608\n",
       "2     -2.53958...</td>\n",
       "      <td>0     -0.139525\n",
       "1     -0.139525\n",
       "2     -0.42746...</td>\n",
       "      <td>0     -2.240410\n",
       "1     -2.240410\n",
       "2     -0.95165...</td>\n",
       "    </tr>\n",
       "    <tr>\n",
       "      <th>3</th>\n",
       "      <td>0     -0.459793\n",
       "1     -0.357141\n",
       "2     -0.53678...</td>\n",
       "      <td>0      0.002752\n",
       "1      0.537660\n",
       "2      0.59709...</td>\n",
       "      <td>0      0.639073\n",
       "1      0.639073\n",
       "2      0.79330...</td>\n",
       "      <td>0     -0.650055\n",
       "1     -0.308420\n",
       "2      0.03321...</td>\n",
       "      <td>0      0.143012\n",
       "1      0.675609\n",
       "2      0.94190...</td>\n",
       "    </tr>\n",
       "    <tr>\n",
       "      <th>4</th>\n",
       "      <td>0      0.362196\n",
       "1      0.362196\n",
       "2      0.61620...</td>\n",
       "      <td>0     -0.655066\n",
       "1     -0.655066\n",
       "2     -0.18007...</td>\n",
       "      <td>0     -0.340537\n",
       "1     -0.340537\n",
       "2     -0.00389...</td>\n",
       "      <td>0     -0.970170\n",
       "1     -0.970170\n",
       "2      0.12910...</td>\n",
       "      <td>0     -0.491569\n",
       "1     -0.491569\n",
       "2     -0.17366...</td>\n",
       "    </tr>\n",
       "    <tr>\n",
       "      <th>...</th>\n",
       "      <td>...</td>\n",
       "      <td>...</td>\n",
       "      <td>...</td>\n",
       "      <td>...</td>\n",
       "      <td>...</td>\n",
       "    </tr>\n",
       "    <tr>\n",
       "      <th>345</th>\n",
       "      <td>0      0.650005\n",
       "1      0.589643\n",
       "2     -0.43650...</td>\n",
       "      <td>0      0.608622\n",
       "1      1.589685\n",
       "2      1.41131...</td>\n",
       "      <td>0      3.279536\n",
       "1      3.279536\n",
       "2      1.58788...</td>\n",
       "      <td>0      0.691488\n",
       "1      0.691488\n",
       "2     -0.02521...</td>\n",
       "      <td>0     -0.462499\n",
       "1      0.541519\n",
       "2     -0.46249...</td>\n",
       "    </tr>\n",
       "    <tr>\n",
       "      <th>346</th>\n",
       "      <td>0      0.047154\n",
       "1      0.047154\n",
       "2      0.74614...</td>\n",
       "      <td>0     -0.057694\n",
       "1     -0.057694\n",
       "2     -0.05769...</td>\n",
       "      <td>0      0.213708\n",
       "1      0.213708\n",
       "2     -0.04931...</td>\n",
       "      <td>0     -0.447369\n",
       "1     -0.447369\n",
       "2     -0.13157...</td>\n",
       "      <td>0     -0.476827\n",
       "1     -0.476827\n",
       "2     -1.35618...</td>\n",
       "    </tr>\n",
       "    <tr>\n",
       "      <th>347</th>\n",
       "      <td>0     -0.843348\n",
       "1     -0.698360\n",
       "2     -0.37938...</td>\n",
       "      <td>0     -0.717568\n",
       "1     -0.668112\n",
       "2     -0.66811...</td>\n",
       "      <td>0     -0.930073\n",
       "1     -0.487014\n",
       "2     -0.55030...</td>\n",
       "      <td>0     -0.418345\n",
       "1     -0.586556\n",
       "2     -0.65384...</td>\n",
       "      <td>0     -2.073631\n",
       "1     -2.073631\n",
       "2     -2.07363...</td>\n",
       "    </tr>\n",
       "    <tr>\n",
       "      <th>348</th>\n",
       "      <td>0      2.245241\n",
       "1      0.922891\n",
       "2      1.58406...</td>\n",
       "      <td>0     -0.732514\n",
       "1     -1.682273\n",
       "2     -1.43603...</td>\n",
       "      <td>0     -1.124194\n",
       "1     -2.176147\n",
       "2     -1.29952...</td>\n",
       "      <td>0      0.192826\n",
       "1     -2.343582\n",
       "2     -2.14333...</td>\n",
       "      <td>0     -0.059245\n",
       "1     -0.059245\n",
       "2      0.18685...</td>\n",
       "    </tr>\n",
       "    <tr>\n",
       "      <th>349</th>\n",
       "      <td>0      0.571725\n",
       "1      0.571725\n",
       "2     -0.22564...</td>\n",
       "      <td>0     -0.799545\n",
       "1     -0.799545\n",
       "2     -2.49661...</td>\n",
       "      <td>0     -0.799549\n",
       "1     -0.799549\n",
       "2     -2.72855...</td>\n",
       "      <td>0      0.793528\n",
       "1      0.793528\n",
       "2     -1.45869...</td>\n",
       "      <td>0      0.944124\n",
       "1      0.944124\n",
       "2      0.77217...</td>\n",
       "    </tr>\n",
       "  </tbody>\n",
       "</table>\n",
       "<p>350 rows × 5 columns</p>\n",
       "</div>"
      ],
      "text/plain": [
       "                                                     1  \\\n",
       "0    0      1.340723\n",
       "1      1.340723\n",
       "2      1.34072...   \n",
       "1    0     -0.748380\n",
       "1     -0.748380\n",
       "2     -1.25784...   \n",
       "2    0     -1.129663\n",
       "1     -1.129663\n",
       "2     -1.50219...   \n",
       "3    0     -0.459793\n",
       "1     -0.357141\n",
       "2     -0.53678...   \n",
       "4    0      0.362196\n",
       "1      0.362196\n",
       "2      0.61620...   \n",
       "..                                                 ...   \n",
       "345  0      0.650005\n",
       "1      0.589643\n",
       "2     -0.43650...   \n",
       "346  0      0.047154\n",
       "1      0.047154\n",
       "2      0.74614...   \n",
       "347  0     -0.843348\n",
       "1     -0.698360\n",
       "2     -0.37938...   \n",
       "348  0      2.245241\n",
       "1      0.922891\n",
       "2      1.58406...   \n",
       "349  0      0.571725\n",
       "1      0.571725\n",
       "2     -0.22564...   \n",
       "\n",
       "                                                     2  \\\n",
       "0    0     -0.778554\n",
       "1     -0.778554\n",
       "2      0.82151...   \n",
       "1    0     -1.904063\n",
       "1     -1.904063\n",
       "2      0.13196...   \n",
       "2    0     -2.085958\n",
       "1     -2.085958\n",
       "2     -2.48453...   \n",
       "3    0      0.002752\n",
       "1      0.537660\n",
       "2      0.59709...   \n",
       "4    0     -0.655066\n",
       "1     -0.655066\n",
       "2     -0.18007...   \n",
       "..                                                 ...   \n",
       "345  0      0.608622\n",
       "1      1.589685\n",
       "2      1.41131...   \n",
       "346  0     -0.057694\n",
       "1     -0.057694\n",
       "2     -0.05769...   \n",
       "347  0     -0.717568\n",
       "1     -0.668112\n",
       "2     -0.66811...   \n",
       "348  0     -0.732514\n",
       "1     -1.682273\n",
       "2     -1.43603...   \n",
       "349  0     -0.799545\n",
       "1     -0.799545\n",
       "2     -2.49661...   \n",
       "\n",
       "                                                     3  \\\n",
       "0    0     -0.107189\n",
       "1     -0.107189\n",
       "2      1.97062...   \n",
       "1    0     -1.310589\n",
       "1     -1.310589\n",
       "2      0.13027...   \n",
       "2    0     -2.047608\n",
       "1     -2.047608\n",
       "2     -2.53958...   \n",
       "3    0      0.639073\n",
       "1      0.639073\n",
       "2      0.79330...   \n",
       "4    0     -0.340537\n",
       "1     -0.340537\n",
       "2     -0.00389...   \n",
       "..                                                 ...   \n",
       "345  0      3.279536\n",
       "1      3.279536\n",
       "2      1.58788...   \n",
       "346  0      0.213708\n",
       "1      0.213708\n",
       "2     -0.04931...   \n",
       "347  0     -0.930073\n",
       "1     -0.487014\n",
       "2     -0.55030...   \n",
       "348  0     -1.124194\n",
       "1     -2.176147\n",
       "2     -1.29952...   \n",
       "349  0     -0.799549\n",
       "1     -0.799549\n",
       "2     -2.72855...   \n",
       "\n",
       "                                                     4  \\\n",
       "0    0     -0.903078\n",
       "1     -0.903078\n",
       "2     -0.10722...   \n",
       "1    0     -1.252654\n",
       "1     -1.252654\n",
       "2      0.98884...   \n",
       "2    0     -0.139525\n",
       "1     -0.139525\n",
       "2     -0.42746...   \n",
       "3    0     -0.650055\n",
       "1     -0.308420\n",
       "2      0.03321...   \n",
       "4    0     -0.970170\n",
       "1     -0.970170\n",
       "2      0.12910...   \n",
       "..                                                 ...   \n",
       "345  0      0.691488\n",
       "1      0.691488\n",
       "2     -0.02521...   \n",
       "346  0     -0.447369\n",
       "1     -0.447369\n",
       "2     -0.13157...   \n",
       "347  0     -0.418345\n",
       "1     -0.586556\n",
       "2     -0.65384...   \n",
       "348  0      0.192826\n",
       "1     -2.343582\n",
       "2     -2.14333...   \n",
       "349  0      0.793528\n",
       "1      0.793528\n",
       "2     -1.45869...   \n",
       "\n",
       "                                                     5  \n",
       "0    0      1.674277\n",
       "1      1.674277\n",
       "2      1.67427...  \n",
       "1    0      0.638863\n",
       "1      0.638863\n",
       "2     -0.40025...  \n",
       "2    0     -2.240410\n",
       "1     -2.240410\n",
       "2     -0.95165...  \n",
       "3    0      0.143012\n",
       "1      0.675609\n",
       "2      0.94190...  \n",
       "4    0     -0.491569\n",
       "1     -0.491569\n",
       "2     -0.17366...  \n",
       "..                                                 ...  \n",
       "345  0     -0.462499\n",
       "1      0.541519\n",
       "2     -0.46249...  \n",
       "346  0     -0.476827\n",
       "1     -0.476827\n",
       "2     -1.35618...  \n",
       "347  0     -2.073631\n",
       "1     -2.073631\n",
       "2     -2.07363...  \n",
       "348  0     -0.059245\n",
       "1     -0.059245\n",
       "2      0.18685...  \n",
       "349  0      0.944124\n",
       "1      0.944124\n",
       "2      0.77217...  \n",
       "\n",
       "[350 rows x 5 columns]"
      ]
     },
     "metadata": {},
     "output_type": "display_data"
    },
    {
     "data": {
      "text/plain": [
       "'Completed'"
      ]
     },
     "metadata": {},
     "output_type": "display_data"
    },
    {
     "data": {
      "text/plain": [
       "1"
      ]
     },
     "metadata": {},
     "output_type": "display_data"
    },
    {
     "data": {
      "text/plain": [
       "'Completed'"
      ]
     },
     "metadata": {},
     "output_type": "display_data"
    },
    {
     "data": {
      "text/plain": [
       "2"
      ]
     },
     "metadata": {},
     "output_type": "display_data"
    },
    {
     "data": {
      "text/plain": [
       "'Completed'"
      ]
     },
     "metadata": {},
     "output_type": "display_data"
    },
    {
     "data": {
      "text/plain": [
       "3"
      ]
     },
     "metadata": {},
     "output_type": "display_data"
    },
    {
     "data": {
      "text/plain": [
       "'Completed'"
      ]
     },
     "metadata": {},
     "output_type": "display_data"
    },
    {
     "data": {
      "text/plain": [
       "4"
      ]
     },
     "metadata": {},
     "output_type": "display_data"
    },
    {
     "data": {
      "text/plain": [
       "'Completed'"
      ]
     },
     "metadata": {},
     "output_type": "display_data"
    },
    {
     "data": {
      "text/plain": [
       "5"
      ]
     },
     "metadata": {},
     "output_type": "display_data"
    },
    {
     "data": {
      "text/plain": [
       "'Completed'"
      ]
     },
     "metadata": {},
     "output_type": "display_data"
    },
    {
     "data": {
      "text/plain": [
       "6"
      ]
     },
     "metadata": {},
     "output_type": "display_data"
    },
    {
     "data": {
      "text/plain": [
       "'Completed'"
      ]
     },
     "metadata": {},
     "output_type": "display_data"
    },
    {
     "data": {
      "text/plain": [
       "7"
      ]
     },
     "metadata": {},
     "output_type": "display_data"
    },
    {
     "data": {
      "text/plain": [
       "'Completed'"
      ]
     },
     "metadata": {},
     "output_type": "display_data"
    },
    {
     "data": {
      "text/plain": [
       "8"
      ]
     },
     "metadata": {},
     "output_type": "display_data"
    },
    {
     "data": {
      "text/plain": [
       "'Completed'"
      ]
     },
     "metadata": {},
     "output_type": "display_data"
    },
    {
     "data": {
      "text/plain": [
       "9"
      ]
     },
     "metadata": {},
     "output_type": "display_data"
    },
    {
     "data": {
      "text/plain": [
       "'Completed'"
      ]
     },
     "metadata": {},
     "output_type": "display_data"
    },
    {
     "data": {
      "text/plain": [
       "10"
      ]
     },
     "metadata": {},
     "output_type": "display_data"
    },
    {
     "data": {
      "text/plain": [
       "'Completed'"
      ]
     },
     "metadata": {},
     "output_type": "display_data"
    },
    {
     "data": {
      "text/plain": [
       "11"
      ]
     },
     "metadata": {},
     "output_type": "display_data"
    },
    {
     "data": {
      "text/plain": [
       "'Completed'"
      ]
     },
     "metadata": {},
     "output_type": "display_data"
    },
    {
     "data": {
      "text/plain": [
       "12"
      ]
     },
     "metadata": {},
     "output_type": "display_data"
    },
    {
     "data": {
      "text/plain": [
       "'Completed'"
      ]
     },
     "metadata": {},
     "output_type": "display_data"
    },
    {
     "data": {
      "text/plain": [
       "13"
      ]
     },
     "metadata": {},
     "output_type": "display_data"
    },
    {
     "data": {
      "text/plain": [
       "'Completed'"
      ]
     },
     "metadata": {},
     "output_type": "display_data"
    },
    {
     "data": {
      "text/plain": [
       "14"
      ]
     },
     "metadata": {},
     "output_type": "display_data"
    },
    {
     "data": {
      "text/plain": [
       "'Completed'"
      ]
     },
     "metadata": {},
     "output_type": "display_data"
    },
    {
     "data": {
      "text/plain": [
       "15"
      ]
     },
     "metadata": {},
     "output_type": "display_data"
    },
    {
     "data": {
      "text/plain": [
       "'Completed'"
      ]
     },
     "metadata": {},
     "output_type": "display_data"
    },
    {
     "data": {
      "text/plain": [
       "16"
      ]
     },
     "metadata": {},
     "output_type": "display_data"
    },
    {
     "data": {
      "text/plain": [
       "'Completed'"
      ]
     },
     "metadata": {},
     "output_type": "display_data"
    },
    {
     "data": {
      "text/plain": [
       "17"
      ]
     },
     "metadata": {},
     "output_type": "display_data"
    },
    {
     "data": {
      "text/plain": [
       "'Completed'"
      ]
     },
     "metadata": {},
     "output_type": "display_data"
    },
    {
     "data": {
      "text/plain": [
       "18"
      ]
     },
     "metadata": {},
     "output_type": "display_data"
    },
    {
     "data": {
      "text/plain": [
       "'Completed'"
      ]
     },
     "metadata": {},
     "output_type": "display_data"
    },
    {
     "data": {
      "text/plain": [
       "19"
      ]
     },
     "metadata": {},
     "output_type": "display_data"
    },
    {
     "data": {
      "text/plain": [
       "'Completed'"
      ]
     },
     "metadata": {},
     "output_type": "display_data"
    },
    {
     "data": {
      "text/plain": [
       "20"
      ]
     },
     "metadata": {},
     "output_type": "display_data"
    },
    {
     "data": {
      "text/plain": [
       "'Completed'"
      ]
     },
     "metadata": {},
     "output_type": "display_data"
    },
    {
     "data": {
      "text/plain": [
       "21"
      ]
     },
     "metadata": {},
     "output_type": "display_data"
    },
    {
     "data": {
      "text/plain": [
       "'Completed'"
      ]
     },
     "metadata": {},
     "output_type": "display_data"
    },
    {
     "data": {
      "text/plain": [
       "22"
      ]
     },
     "metadata": {},
     "output_type": "display_data"
    },
    {
     "data": {
      "text/plain": [
       "'Completed'"
      ]
     },
     "metadata": {},
     "output_type": "display_data"
    },
    {
     "data": {
      "text/plain": [
       "23"
      ]
     },
     "metadata": {},
     "output_type": "display_data"
    },
    {
     "data": {
      "text/plain": [
       "'Completed'"
      ]
     },
     "metadata": {},
     "output_type": "display_data"
    },
    {
     "data": {
      "text/plain": [
       "24"
      ]
     },
     "metadata": {},
     "output_type": "display_data"
    },
    {
     "data": {
      "text/plain": [
       "'Completed'"
      ]
     },
     "metadata": {},
     "output_type": "display_data"
    },
    {
     "data": {
      "text/plain": [
       "25"
      ]
     },
     "metadata": {},
     "output_type": "display_data"
    },
    {
     "data": {
      "text/plain": [
       "'Completed'"
      ]
     },
     "metadata": {},
     "output_type": "display_data"
    },
    {
     "data": {
      "text/plain": [
       "26"
      ]
     },
     "metadata": {},
     "output_type": "display_data"
    },
    {
     "data": {
      "text/plain": [
       "'Completed'"
      ]
     },
     "metadata": {},
     "output_type": "display_data"
    },
    {
     "data": {
      "text/plain": [
       "27"
      ]
     },
     "metadata": {},
     "output_type": "display_data"
    },
    {
     "data": {
      "text/plain": [
       "'Completed'"
      ]
     },
     "metadata": {},
     "output_type": "display_data"
    },
    {
     "data": {
      "text/plain": [
       "28"
      ]
     },
     "metadata": {},
     "output_type": "display_data"
    },
    {
     "data": {
      "text/plain": [
       "'Completed'"
      ]
     },
     "metadata": {},
     "output_type": "display_data"
    },
    {
     "data": {
      "text/plain": [
       "29"
      ]
     },
     "metadata": {},
     "output_type": "display_data"
    },
    {
     "data": {
      "text/plain": [
       "'Completed'"
      ]
     },
     "metadata": {},
     "output_type": "display_data"
    },
    {
     "data": {
      "text/plain": [
       "30"
      ]
     },
     "metadata": {},
     "output_type": "display_data"
    }
   ],
   "source": [
    "classifier_dict_healthy = {}\n",
    "key = 'healthy_key'\n",
    "normal_sample_numbers = [] \n",
    "normal_sample_numbers.extend(healthy_dict[key])\n",
    "normal_sample_length = len(normal_sample_numbers)\n",
    "display(normal_sample_length)\n",
    "\n",
    "if len(normal_sample_numbers) <= abnormal_no:\n",
    "    df_normal = final_normal_df[final_normal_df['Subject'].isin(normal_sample_numbers)]\n",
    "    display(df_normal.head())\n",
    "\n",
    "    random.seed(42)\n",
    "    abnormal_sample_numbers = random.sample(abnormal_indices.tolist(), normal_sample_length)\n",
    "    df_abnormal = final_abnormal_df[final_abnormal_df['Subject'].isin(abnormal_sample_numbers)]\n",
    "    display(df_abnormal.head())\n",
    "\n",
    "    desired_length_for_ts = time_series_length_finding(df_abnormal)\n",
    "\n",
    "    df_normal_preprocessed = preprocessing_normal_df(df_normal,desired_length_for_ts)\n",
    "    df_abnormal_preprocessed = preprocessing_dataframe(df_abnormal,desired_length_for_ts)\n",
    "\n",
    "    df_classifier = (pd.concat([df_normal_preprocessed,df_abnormal_preprocessed]).reset_index()).drop(columns='index')\n",
    "    acc_mean,acc_std_dev,prec_mean,prec_std_dev,recall_mean,recall_std_dev,f1_mean,f1_std_dev = ts_classifier(df_classifier)\n",
    "\n",
    "    classifier_dict_healthy[key] = {'acc_mean': acc_mean,'acc_std_dev': acc_std_dev,'prec_mean': prec_mean,'prec_std_dev': prec_std_dev,'recall_mean': recall_mean,'recall_std_dev': recall_std_dev,'f1_mean': f1_mean,'f1_std_dev': f1_std_dev}\n",
    "\n",
    "else:\n",
    "    df_abnormal = final_abnormal_df\n",
    "\n",
    "    random.seed(42)\n",
    "    random_sample_numbers = random.sample(normal_sample_numbers, abnormal_no)\n",
    "    df_normal = final_normal_df[final_normal_df['Subject'].isin(random_sample_numbers)]\n",
    "    display(df_normal)\n",
    "\n",
    "    desired_length_for_ts = time_series_length_finding(df_abnormal)\n",
    "\n",
    "    df_normal_preprocessed = preprocessing_normal_df(df_normal,desired_length_for_ts)\n",
    "    df_abnormal_preprocessed = preprocessing_dataframe(df_abnormal,desired_length_for_ts)\n",
    "\n",
    "    df_classifier = (pd.concat([df_normal_preprocessed,df_abnormal_preprocessed]).reset_index()).drop(columns='index')\n",
    "    acc_mean,acc_std_dev,prec_mean,prec_std_dev,recall_mean,recall_std_dev,f1_mean,f1_std_dev = ts_classifier(df_classifier)\n",
    "\n",
    "    classifier_dict_healthy[key] = {'acc_mean': acc_mean,'acc_std_dev': acc_std_dev,'prec_mean': prec_mean,'prec_std_dev': prec_std_dev,'recall_mean': recall_mean,'recall_std_dev': recall_std_dev,'f1_mean': f1_mean,'f1_std_dev': f1_std_dev}"
   ]
  },
  {
   "cell_type": "code",
   "execution_count": 17,
   "id": "eeeb8778",
   "metadata": {},
   "outputs": [
    {
     "data": {
      "text/plain": [
       "{'healthy_key': {'acc_mean': 0.906190476190476,\n",
       "  'acc_std_dev': 0.029435351353382086,\n",
       "  'prec_mean': 0.9861990595611285,\n",
       "  'prec_std_dev': 0.024184479765397768,\n",
       "  'recall_mean': 0.8247619047619049,\n",
       "  'recall_std_dev': 0.06026396959830997,\n",
       "  'f1_mean': 0.8967943702145782,\n",
       "  'f1_std_dev': 0.03508358306901532}}"
      ]
     },
     "execution_count": 17,
     "metadata": {},
     "output_type": "execute_result"
    }
   ],
   "source": [
    "classifier_dict_healthy"
   ]
  },
  {
   "cell_type": "code",
   "execution_count": 18,
   "id": "9ebac3cc",
   "metadata": {},
   "outputs": [],
   "source": [
    "import pickle\n",
    "\n",
    "# Specify the file path where you want to save the pickle file\n",
    "pickle_file_path = 'healthy_sepsis_hive_cote_normalized.pickle'\n",
    "\n",
    "# Save the dictionary to a pickle file\n",
    "with open(pickle_file_path, 'wb') as file:\n",
    "    pickle.dump(classifier_dict_healthy, file)\n",
    "\n",
    "print(f\"Dictionary saved to {pickle_file_path}\")"
   ]
  }
 ],
 "metadata": {
  "kernelspec": {
   "display_name": "Python 3 (ipykernel)",
   "language": "python",
   "name": "python3"
  },
  "language_info": {
   "codemirror_mode": {
    "name": "ipython",
    "version": 3
   },
   "file_extension": ".py",
   "mimetype": "text/x-python",
   "name": "python",
   "nbconvert_exporter": "python",
   "pygments_lexer": "ipython3",
   "version": "3.9.12"
  }
 },
 "nbformat": 4,
 "nbformat_minor": 5
}
