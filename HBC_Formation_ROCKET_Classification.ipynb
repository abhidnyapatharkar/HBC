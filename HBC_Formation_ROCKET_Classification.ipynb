{
 "cells": [
  {
   "cell_type": "markdown",
   "id": "e790f2b4",
   "metadata": {},
   "source": [
    "### Import Necessary Packages"
   ]
  },
  {
   "cell_type": "code",
   "execution_count": 1,
   "id": "77918d16",
   "metadata": {},
   "outputs": [],
   "source": [
    "import numpy as np\n",
    "import pandas as pd\n",
    "import warnings\n",
    "import time\n",
    "from time import time\n",
    "warnings.filterwarnings('ignore')\n",
    "from scipy import signal\n",
    "from scipy.signal import butter, lfilter\n",
    "import matplotlib.pyplot as plt\n",
    "import math\n",
    "import pickle\n",
    "import statistics\n",
    "import random\n",
    "from sklearn.metrics.pairwise import cosine_similarity\n",
    "from math import log\n",
    "from sklearn import preprocessing\n",
    "from sklearn import metrics\n",
    "from sklearn.metrics import accuracy_score\n",
    "from sklearn.model_selection import train_test_split\n",
    "from sklearn.ensemble import RandomForestClassifier\n",
    "from sklearn.model_selection import GridSearchCV\n",
    "import sktime as sktime\n",
    "from sklearn.model_selection import StratifiedKFold\n",
    "from sklearn.model_selection import cross_val_score\n",
    "from sktime.datasets import load_from_tsfile_to_dataframe\n",
    "from sktime.alignment.dtw_python import AlignerDTWfromDist\n",
    "from sktime.dists_kernels.scipy_dist import ScipyDist\n",
    "from sktime.dists_kernels.compose_from_align import DistFromAligner"
   ]
  },
  {
   "cell_type": "markdown",
   "id": "48e86b69",
   "metadata": {},
   "source": [
    "### STEP-0: Preprocess the dataset"
   ]
  },
  {
   "cell_type": "markdown",
   "id": "0ca60949",
   "metadata": {},
   "source": [
    "#### Convert MTS datasets into arrays and save them as pickle files for accessing later to measure DTWD distances"
   ]
  },
  {
   "cell_type": "code",
   "execution_count": 2,
   "id": "93d67914",
   "metadata": {},
   "outputs": [],
   "source": [
    "# Define a function to z-normalize a column\n",
    "def z_normalize(column):\n",
    "    mean = column.mean()\n",
    "    std = column.std()\n",
    "    z_normalized = (column - mean) / std\n",
    "    return z_normalized\n",
    "\n",
    "# Filter the DataFrame by numbers from the list\n",
    "def filter_and_save_data(original_df, number_list):\n",
    "    data_dict = {}\n",
    "    for number in number_list:\n",
    "        filtered_df = original_df[original_df['Subject']==number].reset_index()\n",
    "        filtered_df = filtered_df.drop(columns=['Subject','index'])\n",
    "        df_normalized = filtered_df.apply(z_normalize)\n",
    "        data_dict[number] = np.array(df_normalized)\n",
    "    return data_dict"
   ]
  },
  {
   "cell_type": "markdown",
   "id": "2bf55077",
   "metadata": {},
   "source": [
    "#### Formulate a function to calculate DTWD distances between 2 MTS"
   ]
  },
  {
   "cell_type": "code",
   "execution_count": null,
   "id": "5bc127de",
   "metadata": {},
   "outputs": [],
   "source": [
    "def dtwd_distance_calc(array1, array2):\n",
    "    # multivariate euclidean distance between vectors\n",
    "    eucl_dist = ScipyDist()\n",
    "    # dtw-d alignment = DTW alignment using multivariate euclidean distance\n",
    "    dtw_d_align = AlignerDTWfromDist(eucl_dist)\n",
    "    # dtw-d distance between time series = distance matrix of the ddtw aligner\n",
    "    dtw_d_dist = DistFromAligner(dtw_d_align)\n",
    "    distance = dtw_d_dist(array1, array2)\n",
    "    return distance "
   ]
  },
  {
   "cell_type": "markdown",
   "id": "32d78a2a",
   "metadata": {},
   "source": [
    "#### Construct the final result matrix with DTWD distances recorded for various different time series"
   ]
  },
  {
   "cell_type": "code",
   "execution_count": null,
   "id": "c4d6bb4a",
   "metadata": {},
   "outputs": [],
   "source": [
    "def load_and_access_data(file_name,desired_number):\n",
    "    with open(file_name, 'rb') as file:\n",
    "        loaded_data_dict = pickle.load(file)\n",
    "        desired_array = loaded_data_dict.get(desired_number)\n",
    "    return desired_array"
   ]
  },
  {
   "cell_type": "markdown",
   "id": "9c99d7bc",
   "metadata": {},
   "source": [
    "#### Form a DTW distance matrix"
   ]
  },
  {
   "cell_type": "code",
   "execution_count": null,
   "id": "d3e49268",
   "metadata": {},
   "outputs": [],
   "source": [
    "def dtwd_dist_mat_form(number_list,pkl_filename):\n",
    "\n",
    "    # Initialize result matrix\n",
    "    result_matrix = np.zeros((len(number_list), len(number_list)))\n",
    "    \n",
    "    for i, number1 in enumerate(number_list):\n",
    "        for j, number2 in enumerate(number_list):\n",
    "\n",
    "            # Get stored arrays from the pickle file\n",
    "            loaded_array_1 = load_and_access_data(pkl_filename,number1)\n",
    "            loaded_array_2 = load_and_access_data(pkl_filename,number2)\n",
    "            \n",
    "            # Call dtwd_distance_calc function to calculate DTW distance\n",
    "            distance = dtwd_distance_calc(loaded_array_1, loaded_array_2)\n",
    "            display(f\"Element [{i}, {j}] constructed. Progress: {i}/{len(number_list)} - {j}/{len(number_list)}\")\n",
    "            result_matrix[i, j] = distance\n",
    "            \n",
    "    result_df = pd.DataFrame(result_matrix, index=number_list, columns=number_list)\n",
    "    return result_df"
   ]
  },
  {
   "cell_type": "markdown",
   "id": "c7ab88ab",
   "metadata": {},
   "source": [
    "#### DTW distance calculation between sampled, and the other MTS from the healthy class"
   ]
  },
  {
   "cell_type": "code",
   "execution_count": null,
   "id": "a5601627",
   "metadata": {},
   "outputs": [],
   "source": [
    "def dtwd_dist_calc_rest(number_list,pkl_filename,current_index):\n",
    "    \n",
    "    dtwd_dist_list = []\n",
    "    for number in (number_list):\n",
    "        # Get stored arrays from the pickle file\n",
    "        loaded_array_1 = load_and_access_data(pkl_filename,number)\n",
    "        loaded_array_2 = load_and_access_data(pkl_filename,current_index)\n",
    "        distance = dtwd_distance_calc(loaded_array_1, loaded_array_2)\n",
    "        distance_value = distance[0, 0]\n",
    "        dtwd_dist_list.append(distance_value)\n",
    "    mean_dist = (statistics.mean(dtwd_dist_list)).tolist()\n",
    "    return mean_dist"
   ]
  },
  {
   "cell_type": "markdown",
   "id": "d336f328",
   "metadata": {},
   "source": [
    "### STEP-1: Randomly sample subjects"
   ]
  },
  {
   "cell_type": "code",
   "execution_count": null,
   "id": "067252bb",
   "metadata": {},
   "outputs": [],
   "source": [
    "# Read dataframe from the pickle file\n",
    "normal_df = pd.read_pickle('normal_public_sepsis.pkl')\n",
    "# Display the loaded dataframe\n",
    "display(normal_df.head())"
   ]
  },
  {
   "cell_type": "code",
   "execution_count": null,
   "id": "e2914199",
   "metadata": {},
   "outputs": [],
   "source": [
    "# Randomly sample MTS from the dataset based on Cochran's Sampling\n",
    "n_unique_sub =  (normal_df['Subject']).nunique()\n",
    "subjects_list = (normal_df['Subject']).unique()\n",
    "num_random_numbers = 63\n",
    "random_seed = 42\n",
    "random.seed(random_seed)\n",
    "random_subjects = random.sample(subjects_list.tolist(), num_random_numbers)"
   ]
  },
  {
   "cell_type": "code",
   "execution_count": null,
   "id": "8f59734b",
   "metadata": {},
   "outputs": [],
   "source": [
    "# Check indices of the MTS which were not sampled with Cochran's sampling\n",
    "rest_indices = [x for x in subjects_list if x not in random_subjects]"
   ]
  },
  {
   "cell_type": "code",
   "execution_count": null,
   "id": "0b705e59",
   "metadata": {},
   "outputs": [],
   "source": [
    "# Build dataframe based on randomly chosen subjects\n",
    "sample_df = normal_df[normal_df['Subject'].isin(random_subjects)] "
   ]
  },
  {
   "cell_type": "markdown",
   "id": "8b076bcf",
   "metadata": {},
   "source": [
    "#### 1.1 Normalize MTS"
   ]
  },
  {
   "cell_type": "code",
   "execution_count": null,
   "id": "90498968",
   "metadata": {},
   "outputs": [],
   "source": [
    "# Save arrays\n",
    "original_df = normal_df\n",
    "number_list = subjects_list\n",
    "normalized_dict = filter_and_save_data(original_df, number_list)"
   ]
  },
  {
   "cell_type": "code",
   "execution_count": null,
   "id": "fc9b9061",
   "metadata": {},
   "outputs": [],
   "source": [
    "# Prepare the control DTW pickle file\n",
    "file_name = 'normalized_df.pickle'\n",
    "\n",
    "# Save the dictionary as a pickle file\n",
    "with open(file_name, 'wb') as file:\n",
    "    pickle.dump(normalized_dict, file)"
   ]
  },
  {
   "cell_type": "code",
   "execution_count": null,
   "id": "332890b2",
   "metadata": {},
   "outputs": [],
   "source": [
    "# Specify the path to your pickle file\n",
    "pickle_file_path = 'normalized_df.pickle'\n",
    "\n",
    "# Open the pickle file in binary mode (rb stands for read binary)\n",
    "with open(pickle_file_path, 'rb') as file:\n",
    "    # Load the data from the pickle file\n",
    "    final_normal_df = pickle.load(file)"
   ]
  },
  {
   "cell_type": "markdown",
   "id": "86347613",
   "metadata": {},
   "source": [
    "### STEP 2: Generate DTW Distance matrix from sampled MTS"
   ]
  },
  {
   "cell_type": "code",
   "execution_count": null,
   "id": "b95beba0",
   "metadata": {},
   "outputs": [],
   "source": [
    "number_list = random_subjects\n",
    "initial_DTW_matrix = dtwd_dist_mat_form(number_list,'normalized_df.pickle')"
   ]
  },
  {
   "cell_type": "code",
   "execution_count": null,
   "id": "df5863c0",
   "metadata": {},
   "outputs": [],
   "source": [
    "# Save the DTWD distance matrix as a pkl file\n",
    "initial_DTW_matrix.to_pickle(\"normal_DTW_matrix_sample.pkl\")"
   ]
  },
  {
   "cell_type": "code",
   "execution_count": null,
   "id": "d6eb9b10",
   "metadata": {},
   "outputs": [],
   "source": [
    "file_path = 'normal_DTW_matrix_sample.pkl'\n",
    "# Read the pickle file into a DataFrame\n",
    "initial_DTW_matrix = pd.read_pickle(file_path)"
   ]
  },
  {
   "cell_type": "markdown",
   "id": "c8440fc8",
   "metadata": {},
   "source": [
    "### STEP 3: Plot normal distribution"
   ]
  },
  {
   "cell_type": "code",
   "execution_count": null,
   "id": "c4c37aaf",
   "metadata": {},
   "outputs": [],
   "source": [
    "normal_dtwd_dist = initial_DTW_matrix \n",
    "# Calculate the mean of each row and add a 'Mean' column\n",
    "normal_dtwd_dist['Mean'] = normal_dtwd_dist.mean(axis=1)"
   ]
  },
  {
   "cell_type": "code",
   "execution_count": null,
   "id": "9e5b5cc3",
   "metadata": {},
   "outputs": [],
   "source": [
    "# Extract sample numbers, means, and calculate standard deviation\n",
    "sample_numbers_normalized = normal_dtwd_dist.index\n",
    "mean_normalized = normal_dtwd_dist['Mean']\n",
    "mu_normalized = mean_normalized.mean()\n",
    "std_dev_normalized = mean_normalized.std()\n",
    "\n",
    "# Create a range of x values for the normal distribution curve\n",
    "x_normalized = np.linspace(mu_normalized - 3 * std_dev_normalized, mu_normalized + 3 * std_dev_normalized, 100)\n",
    "\n",
    "# Calculate the PDF values for the normal distribution\n",
    "pdf_normalized = (1 / (std_dev_normalized * np.sqrt(2 * np.pi))) * np.exp(-0.5 * ((x_normalized - mu_normalized) / std_dev_normalized) ** 2)\n",
    "\n",
    "# Create the plot, including the normal distribution and sample numbers\n",
    "plt.figure(figsize=(10, 6))\n",
    "plt.plot(x_normalized, pdf_normalized, label=f'Normal Distribution\\nMean: {mu_normalized:.2f}, Std Dev: {std_dev_normalized:.2f}')\n",
    "plt.scatter(mean_normalized, np.zeros_like(mean_normalized), label='Sample Numbers', color='red', marker='o')\n",
    "\n",
    "# Add dotted vertical lines for the first and second standard deviations\n",
    "plt.axvline(mu_normalized - std_dev_normalized, color='green', linestyle='--', label='1st Std Dev')\n",
    "plt.axvline(mu_normalized + std_dev_normalized, color='green', linestyle='--', label='1st Std Dev')\n",
    "plt.axvline(mu_normalized - 2 * std_dev_normalized, color='purple', linestyle='--', label='2nd Std Dev')\n",
    "plt.axvline(mu_normalized + 2 * std_dev_normalized, color='purple', linestyle='--', label='2nd Std Dev')\n",
    "plt.axvline(mu_normalized - 3 * std_dev_normalized, color='orange', linestyle='--', label='3rd Std Dev')\n",
    "plt.axvline(mu_normalized + 3 * std_dev_normalized, color='orange', linestyle='--', label='3rd Std Dev')\n",
    "\n",
    "for sample_number, mean_value in zip(sample_numbers_normalized, mean_normalized):\n",
    "    plt.annotate(f'{sample_number}', (mean_value, 0), textcoords='offset points', xytext=(0, 10), ha='center')\n",
    "\n",
    "plt.legend()\n",
    "plt.title('Normal Distribution with Sample Numbers')\n",
    "plt.xlabel('Value')\n",
    "plt.ylabel('PDF')\n",
    "plt.grid(True)\n",
    "plt.show()"
   ]
  },
  {
   "cell_type": "markdown",
   "id": "1e9635f1",
   "metadata": {},
   "source": [
    "### STEP 4: Mark the indices of the MTS that lie within the 1st, 2nd, and 3rd standard deviations"
   ]
  },
  {
   "cell_type": "code",
   "execution_count": null,
   "id": "eda873d9",
   "metadata": {},
   "outputs": [],
   "source": [
    "# Assuming you have the necessary variables defined (sample_numbers_normalized, mean_normalized, mu_normalized, std_dev_normalized)\n",
    "\n",
    "# Define the range and step size for 'a' and 'b'\n",
    "start_a = 0\n",
    "end_a = 3.0\n",
    "step_a = 0.1 \n",
    "a_values = np.round(np.arange(start_a, end_a, step_a), 1).tolist()\n",
    "\n",
    "start_b = 0.1\n",
    "end_b = 3.1\n",
    "step_b = 0.1 \n",
    "b_values = np.round(np.arange(start_b, end_b, step_b), 1).tolist()\n",
    "\n",
    "display(mu_normalized)\n",
    "display(std_dev_normalized)\n",
    "\n",
    "# Initialize a dictionary to store sample number lists with different names\n",
    "sample_numbers_dict = {}\n",
    "\n",
    "# Iterate over 'a' and 'b' values\n",
    "for a, b in zip(a_values, b_values):\n",
    "    # Generate a unique name for each pair\n",
    "    name = f\"sample_numbers_list_{round(a, 1)}_to_{round(b, 1)}\"\n",
    "    \n",
    "    # Use list comprehension to filter sample numbers based on 'a' and 'b'\n",
    "    sample_numbers_list = [sample for sample, mean in zip(sample_numbers_normalized, mean_normalized) if\n",
    "                           mean >= mu_normalized - b * std_dev_normalized and mean <= mu_normalized - a * std_dev_normalized or\n",
    "                           mean >= mu_normalized + a * std_dev_normalized and mean <= mu_normalized + b * std_dev_normalized]\n",
    "    \n",
    "    # Save the list to the dictionary with the unique name\n",
    "    sample_numbers_dict[name] = sample_numbers_list\n",
    "\n",
    "# Display sample numbers with different names\n",
    "for name, sample_numbers_list in sample_numbers_dict.items():\n",
    "    display(f\"{name}:\")\n",
    "    display(sample_numbers_list)\n",
    "    display()"
   ]
  },
  {
   "cell_type": "code",
   "execution_count": null,
   "id": "c957ae5c",
   "metadata": {},
   "outputs": [],
   "source": [
    "# Initialize an empty result dictionary\n",
    "result_dict = {}\n",
    "\n",
    "# Iterate through the first 10 keys\n",
    "for key in list(sample_numbers_dict.keys())[:10]:\n",
    "    # Access the list for each key\n",
    "    display(key)\n",
    "    number_list = sample_numbers_dict[key]\n",
    "\n",
    "    # Determine the length of the list\n",
    "    list_length = len(number_list)\n",
    "    \n",
    "    current_list = []\n",
    "    for i in range(list_length):\n",
    "        specific_value = number_list[i]\n",
    "        display(specific_value)\n",
    "        mean_value = normal_dtwd_dist.loc[specific_value,'Mean']\n",
    "        display(mean_value)\n",
    "        current_list.append(mean_value)\n",
    "    display(current_list)\n",
    "    max_value = max(current_list)\n",
    "        \n",
    "    # Form a new dictionary with the key and the corresponding 'mean' value\n",
    "    result_dict[key] = max_value\n",
    "\n",
    "# Print the resulting dictionary\n",
    "display(result_dict)"
   ]
  },
  {
   "cell_type": "markdown",
   "id": "1cad5249",
   "metadata": {},
   "source": [
    "### STEP 5: Evaluate rest of the MTS in the dataset to add them into the respective bins"
   ]
  },
  {
   "cell_type": "code",
   "execution_count": null,
   "id": "339af213",
   "metadata": {},
   "outputs": [],
   "source": [
    "number_list = random_subjects\n",
    "pkl_filename = 'normalized_df.pickle'\n",
    "rest_distances_list = []\n",
    "for rest_index in rest_indices:\n",
    "    current_index = rest_index\n",
    "    mean_dist_rest_index = dtwd_dist_calc_rest(number_list,pkl_filename,current_index)\n",
    "    rest_distances_list.append(mean_dist_rest_index)"
   ]
  },
  {
   "cell_type": "code",
   "execution_count": null,
   "id": "5c7e771d",
   "metadata": {},
   "outputs": [],
   "source": [
    "df_windows = pd.DataFrame({'rest_distances_list':rest_distances_list,\n",
    "              'rest_indices':rest_indices})\n",
    "df_windows.head()"
   ]
  },
  {
   "cell_type": "code",
   "execution_count": null,
   "id": "0d66cc37",
   "metadata": {},
   "outputs": [],
   "source": [
    "# Prepare the control DTW pickle file\n",
    "file_name = 'rest_distances_list.pickle'\n",
    "\n",
    "# Save the dictionary as a pickle file\n",
    "with open(file_name, 'wb') as file:\n",
    "    pickle.dump(df_windows, file)"
   ]
  },
  {
   "cell_type": "code",
   "execution_count": null,
   "id": "3208dfbd",
   "metadata": {},
   "outputs": [],
   "source": [
    "start_a = 0\n",
    "end_a = 3.0\n",
    "step_a = 0.1 \n",
    "a_values = np.round(np.arange(start_a, end_a, step_a), 1).tolist()\n",
    "\n",
    "start_b = 0.1\n",
    "end_b = 3.1\n",
    "step_b = 0.1 \n",
    "b_values = np.round(np.arange(start_b, end_b, step_b), 1).tolist()\n",
    "\n",
    "# Initialize a dictionary to store sample number lists with different names\n",
    "rest_numbers_dict = {}\n",
    "\n",
    "# Iterate over 'a' and 'b' values\n",
    "for a, b in zip(a_values, b_values):\n",
    "    # Generate a unique name for each pair\n",
    "    name = f\"sample_numbers_list_{round(a, 1)}_to_{round(b, 1)}\"\n",
    "    \n",
    "    # Use list comprehension to filter sample numbers based on 'a' and 'b'\n",
    "    rest_numbers_list = [sample for sample, mean in zip(rest_indices, rest_distances_list) if\n",
    "                           mean >= mu_normalized - b * std_dev_normalized and mean <= mu_normalized - a * std_dev_normalized or\n",
    "                           mean >= mu_normalized + a * std_dev_normalized and mean <= mu_normalized + b * std_dev_normalized]\n",
    "    \n",
    "    # Save the list to the dictionary with the unique name\n",
    "    rest_numbers_dict[name] = rest_numbers_list\n",
    "\n",
    "# Display sample numbers with different names\n",
    "for name, rest_numbers_list in rest_numbers_dict.items():\n",
    "    display(f\"{name}:\")\n",
    "    display(rest_numbers_list)\n",
    "    display()"
   ]
  },
  {
   "cell_type": "markdown",
   "id": "ff3b1f42",
   "metadata": {},
   "source": [
    "### STEP 6: Form the final dictionary combining the sampled and rest numbers"
   ]
  },
  {
   "cell_type": "code",
   "execution_count": null,
   "id": "95824017",
   "metadata": {},
   "outputs": [],
   "source": [
    "final_dict = {key: sample_numbers_dict[key] + rest_numbers_dict[key] for key in sample_numbers_dict if key in rest_numbers_dict}\n",
    "display(final_dict)"
   ]
  },
  {
   "cell_type": "code",
   "execution_count": null,
   "id": "d56bc5c7",
   "metadata": {},
   "outputs": [],
   "source": [
    "# Prepare the control DTW pickle file\n",
    "file_name = 'final_bins.pkl'\n",
    "\n",
    "# Save the dictionary as a pickle file\n",
    "with open(file_name, 'wb') as file:\n",
    "    pickle.dump(final_dict, file)"
   ]
  },
  {
   "cell_type": "markdown",
   "id": "d44319cc",
   "metadata": {},
   "source": [
    "## STEP 7: Finalize HBC employing classification with ROCKET classifier"
   ]
  },
  {
   "cell_type": "code",
   "execution_count": 3,
   "id": "3dd9c90f",
   "metadata": {},
   "outputs": [
    {
     "name": "stderr",
     "output_type": "stream",
     "text": [
      "OMP: Info #271: omp_set_nested routine deprecated, please use omp_set_max_active_levels instead.\n"
     ]
    }
   ],
   "source": [
    "import numpy as np\n",
    "import pandas as pd\n",
    "import os\n",
    "import sys\n",
    "import warnings\n",
    "from time import time\n",
    "warnings.filterwarnings('ignore')\n",
    "from scipy import signal\n",
    "from scipy.signal import butter, lfilter\n",
    "import matplotlib.pyplot as plt\n",
    "%matplotlib inline\n",
    "import math\n",
    "import pickle\n",
    "import statistics\n",
    "import random\n",
    "from sklearn.metrics.pairwise import cosine_similarity\n",
    "from math import log\n",
    "from sklearn import preprocessing\n",
    "from sklearn import metrics\n",
    "from sklearn.metrics import accuracy_score\n",
    "from sklearn.model_selection import train_test_split\n",
    "from sklearn.ensemble import RandomForestClassifier\n",
    "from sklearn.model_selection import GridSearchCV\n",
    "import sktime as sktime\n",
    "from sklearn.model_selection import StratifiedKFold\n",
    "from sklearn.model_selection import cross_val_score\n",
    "from sktime.datasets import load_from_tsfile_to_dataframe\n",
    "from sklearn.pipeline import make_pipeline\n",
    "from sklearn.linear_model import RidgeClassifierCV\n",
    "from sktime.transformations.panel.rocket import Rocket\n",
    "from sklearn.metrics import accuracy_score, precision_score, recall_score, f1_score\n",
    "from sktime.classification.distance_based import KNeighborsTimeSeriesClassifier\n",
    "from sktime.classification.hybrid import HIVECOTEV2"
   ]
  },
  {
   "cell_type": "markdown",
   "id": "b48982a5",
   "metadata": {},
   "source": [
    "### 7.1 Load normal and abnormal datasets"
   ]
  },
  {
   "cell_type": "code",
   "execution_count": 4,
   "id": "3b5f3947",
   "metadata": {},
   "outputs": [],
   "source": [
    "final_normal_df = pd.read_pickle('normal_public_sepsis.pkl')\n",
    "final_abnormal_df = pd.read_pickle('abnormal_public_sepsis.pkl')"
   ]
  },
  {
   "cell_type": "code",
   "execution_count": 5,
   "id": "00c8168d",
   "metadata": {},
   "outputs": [
    {
     "data": {
      "text/plain": [
       "175"
      ]
     },
     "metadata": {},
     "output_type": "display_data"
    }
   ],
   "source": [
    "abnormal_indices = (final_abnormal_df['Subject']).unique()\n",
    "abnormal_no = (final_abnormal_df['Subject']).nunique()"
   ]
  },
  {
   "cell_type": "code",
   "execution_count": 6,
   "id": "6ff6733d",
   "metadata": {},
   "outputs": [
    {
     "data": {
      "text/plain": [
       "'Dictionary loaded from pickle file:'"
      ]
     },
     "metadata": {},
     "output_type": "display_data"
    },
    {
     "data": {
      "text/plain": [
       "{'sample_numbers_list_0.0_to_0.1': [112,\n",
       "  360,\n",
       "  143,\n",
       "  415,\n",
       "  413,\n",
       "  23,\n",
       "  374,\n",
       "  32,\n",
       "  34,\n",
       "  42,\n",
       "  68,\n",
       "  90,\n",
       "  119,\n",
       "  121,\n",
       "  137,\n",
       "  178,\n",
       "  180,\n",
       "  196,\n",
       "  214,\n",
       "  241,\n",
       "  242,\n",
       "  249,\n",
       "  257,\n",
       "  265,\n",
       "  277,\n",
       "  279,\n",
       "  315,\n",
       "  325,\n",
       "  340,\n",
       "  357,\n",
       "  365,\n",
       "  369,\n",
       "  406,\n",
       "  407,\n",
       "  426,\n",
       "  429,\n",
       "  441,\n",
       "  455,\n",
       "  458,\n",
       "  470,\n",
       "  493],\n",
       " 'sample_numbers_list_0.1_to_0.2': [14,\n",
       "  288,\n",
       "  20,\n",
       "  33,\n",
       "  35,\n",
       "  51,\n",
       "  52,\n",
       "  60,\n",
       "  63,\n",
       "  67,\n",
       "  73,\n",
       "  144,\n",
       "  167,\n",
       "  176,\n",
       "  205,\n",
       "  228,\n",
       "  235,\n",
       "  250,\n",
       "  296,\n",
       "  313,\n",
       "  323,\n",
       "  337,\n",
       "  362,\n",
       "  396,\n",
       "  409,\n",
       "  419,\n",
       "  440,\n",
       "  464,\n",
       "  467,\n",
       "  486,\n",
       "  489],\n",
       " 'sample_numbers_list_0.2_to_0.3': [378,\n",
       "  280,\n",
       "  50,\n",
       "  3,\n",
       "  5,\n",
       "  41,\n",
       "  43,\n",
       "  70,\n",
       "  117,\n",
       "  123,\n",
       "  139,\n",
       "  164,\n",
       "  220,\n",
       "  225,\n",
       "  244,\n",
       "  247,\n",
       "  262,\n",
       "  289,\n",
       "  320,\n",
       "  334,\n",
       "  344,\n",
       "  350,\n",
       "  363,\n",
       "  381,\n",
       "  393,\n",
       "  394,\n",
       "  417,\n",
       "  444,\n",
       "  474,\n",
       "  480,\n",
       "  487,\n",
       "  496],\n",
       " 'sample_numbers_list_0.3_to_0.4': [72,\n",
       "  457,\n",
       "  7,\n",
       "  27,\n",
       "  30,\n",
       "  69,\n",
       "  79,\n",
       "  100,\n",
       "  138,\n",
       "  150,\n",
       "  160,\n",
       "  163,\n",
       "  204,\n",
       "  232,\n",
       "  245,\n",
       "  300,\n",
       "  331,\n",
       "  336,\n",
       "  341,\n",
       "  352,\n",
       "  377,\n",
       "  402,\n",
       "  408,\n",
       "  435,\n",
       "  481,\n",
       "  500],\n",
       " 'sample_numbers_list_0.4_to_0.5': [380,\n",
       "  473,\n",
       "  194,\n",
       "  6,\n",
       "  21,\n",
       "  36,\n",
       "  37,\n",
       "  77,\n",
       "  103,\n",
       "  109,\n",
       "  125,\n",
       "  128,\n",
       "  132,\n",
       "  135,\n",
       "  149,\n",
       "  187,\n",
       "  189,\n",
       "  193,\n",
       "  198,\n",
       "  203,\n",
       "  212,\n",
       "  224,\n",
       "  237,\n",
       "  273,\n",
       "  283,\n",
       "  306,\n",
       "  311,\n",
       "  317,\n",
       "  332,\n",
       "  351,\n",
       "  383,\n",
       "  385,\n",
       "  395,\n",
       "  397,\n",
       "  428,\n",
       "  456,\n",
       "  459,\n",
       "  461,\n",
       "  477],\n",
       " 'sample_numbers_list_0.5_to_0.6': [126,\n",
       "  217,\n",
       "  17,\n",
       "  16,\n",
       "  333,\n",
       "  446,\n",
       "  4,\n",
       "  82,\n",
       "  434,\n",
       "  275,\n",
       "  10,\n",
       "  57,\n",
       "  74,\n",
       "  81,\n",
       "  146,\n",
       "  151,\n",
       "  171,\n",
       "  182,\n",
       "  199,\n",
       "  211,\n",
       "  229,\n",
       "  252,\n",
       "  255,\n",
       "  263,\n",
       "  294,\n",
       "  321,\n",
       "  398,\n",
       "  421,\n",
       "  453,\n",
       "  454,\n",
       "  475,\n",
       "  494,\n",
       "  504],\n",
       " 'sample_numbers_list_0.6_to_0.7': [102,\n",
       "  113,\n",
       "  491,\n",
       "  310,\n",
       "  12,\n",
       "  25,\n",
       "  26,\n",
       "  29,\n",
       "  94,\n",
       "  105,\n",
       "  108,\n",
       "  110,\n",
       "  130,\n",
       "  131,\n",
       "  166,\n",
       "  174,\n",
       "  223,\n",
       "  253,\n",
       "  266,\n",
       "  281,\n",
       "  286,\n",
       "  298,\n",
       "  312,\n",
       "  329,\n",
       "  348,\n",
       "  354,\n",
       "  356,\n",
       "  366,\n",
       "  373,\n",
       "  392,\n",
       "  412,\n",
       "  422,\n",
       "  427,\n",
       "  479,\n",
       "  506],\n",
       " 'sample_numbers_list_0.7_to_0.8': [115,\n",
       "  53,\n",
       "  48,\n",
       "  80,\n",
       "  177,\n",
       "  39,\n",
       "  59,\n",
       "  87,\n",
       "  93,\n",
       "  95,\n",
       "  154,\n",
       "  155,\n",
       "  157,\n",
       "  161,\n",
       "  170,\n",
       "  179,\n",
       "  188,\n",
       "  200,\n",
       "  239,\n",
       "  269,\n",
       "  282,\n",
       "  285,\n",
       "  384,\n",
       "  462,\n",
       "  465,\n",
       "  485,\n",
       "  507],\n",
       " 'sample_numbers_list_0.8_to_0.9': [120,\n",
       "  391,\n",
       "  38,\n",
       "  49,\n",
       "  65,\n",
       "  66,\n",
       "  71,\n",
       "  86,\n",
       "  96,\n",
       "  97,\n",
       "  101,\n",
       "  107,\n",
       "  118,\n",
       "  159,\n",
       "  267,\n",
       "  387,\n",
       "  423,\n",
       "  433,\n",
       "  436,\n",
       "  448,\n",
       "  450,\n",
       "  498],\n",
       " 'sample_numbers_list_0.9_to_1.0': [58,\n",
       "  309,\n",
       "  136,\n",
       "  236,\n",
       "  11,\n",
       "  15,\n",
       "  22,\n",
       "  28,\n",
       "  47,\n",
       "  83,\n",
       "  85,\n",
       "  88,\n",
       "  133,\n",
       "  145,\n",
       "  156,\n",
       "  162,\n",
       "  206,\n",
       "  213,\n",
       "  216,\n",
       "  233,\n",
       "  243,\n",
       "  261,\n",
       "  276,\n",
       "  338,\n",
       "  339,\n",
       "  343,\n",
       "  345,\n",
       "  346,\n",
       "  355,\n",
       "  370,\n",
       "  401,\n",
       "  403,\n",
       "  452,\n",
       "  460,\n",
       "  469,\n",
       "  472,\n",
       "  497,\n",
       "  502],\n",
       " 'sample_numbers_list_1.0_to_1.1': [141,\n",
       "  302,\n",
       "  499,\n",
       "  92,\n",
       "  124,\n",
       "  153,\n",
       "  186,\n",
       "  201,\n",
       "  202,\n",
       "  218,\n",
       "  324,\n",
       "  359,\n",
       "  400,\n",
       "  492,\n",
       "  503],\n",
       " 'sample_numbers_list_1.1_to_1.2': [367,\n",
       "  111,\n",
       "  2,\n",
       "  31,\n",
       "  84,\n",
       "  91,\n",
       "  99,\n",
       "  104,\n",
       "  116,\n",
       "  127,\n",
       "  181,\n",
       "  183,\n",
       "  190,\n",
       "  210,\n",
       "  227,\n",
       "  295,\n",
       "  319,\n",
       "  335,\n",
       "  342,\n",
       "  372,\n",
       "  439,\n",
       "  445,\n",
       "  483,\n",
       "  490,\n",
       "  501],\n",
       " 'sample_numbers_list_1.2_to_1.3': [195,\n",
       "  56,\n",
       "  169,\n",
       "  197,\n",
       "  234,\n",
       "  258,\n",
       "  278,\n",
       "  292,\n",
       "  349,\n",
       "  368,\n",
       "  404,\n",
       "  410,\n",
       "  416,\n",
       "  424,\n",
       "  431,\n",
       "  438,\n",
       "  478],\n",
       " 'sample_numbers_list_1.3_to_1.4': [215,\n",
       "  55,\n",
       "  140,\n",
       "  148,\n",
       "  152,\n",
       "  165,\n",
       "  207,\n",
       "  208,\n",
       "  222,\n",
       "  256,\n",
       "  268,\n",
       "  297,\n",
       "  308,\n",
       "  322,\n",
       "  463,\n",
       "  505],\n",
       " 'sample_numbers_list_1.4_to_1.5': [347,\n",
       "  303,\n",
       "  389,\n",
       "  8,\n",
       "  46,\n",
       "  76,\n",
       "  89,\n",
       "  158,\n",
       "  191,\n",
       "  260,\n",
       "  271,\n",
       "  304,\n",
       "  305,\n",
       "  371],\n",
       " 'sample_numbers_list_1.5_to_1.6': [259,\n",
       "  230,\n",
       "  173,\n",
       "  414,\n",
       "  54,\n",
       "  240,\n",
       "  284,\n",
       "  287,\n",
       "  290,\n",
       "  353,\n",
       "  376,\n",
       "  405,\n",
       "  442],\n",
       " 'sample_numbers_list_1.6_to_1.7': [45,\n",
       "  358,\n",
       "  175,\n",
       "  40,\n",
       "  129,\n",
       "  168,\n",
       "  192,\n",
       "  209,\n",
       "  293,\n",
       "  364,\n",
       "  379,\n",
       "  382,\n",
       "  399,\n",
       "  432,\n",
       "  449],\n",
       " 'sample_numbers_list_1.7_to_1.8': [13, 184, 9, 122, 219, 299, 388, 418],\n",
       " 'sample_numbers_list_1.8_to_1.9': [64,\n",
       "  24,\n",
       "  248,\n",
       "  254,\n",
       "  274,\n",
       "  291,\n",
       "  301,\n",
       "  314,\n",
       "  375,\n",
       "  425,\n",
       "  430,\n",
       "  482],\n",
       " 'sample_numbers_list_1.9_to_2.0': [61, 75, 264, 307, 326, 327, 390, 471],\n",
       " 'sample_numbers_list_2.0_to_2.1': [18, 221, 251],\n",
       " 'sample_numbers_list_2.1_to_2.2': [328, 114, 172, 316, 361, 411],\n",
       " 'sample_numbers_list_2.2_to_2.3': [147, 231, 330, 447, 451, 476, 484, 488],\n",
       " 'sample_numbers_list_2.3_to_2.4': [62, 238, 246, 318, 386, 443, 466],\n",
       " 'sample_numbers_list_2.4_to_2.5': [19, 44, 98, 142, 185, 272, 468],\n",
       " 'sample_numbers_list_2.5_to_2.6': [],\n",
       " 'sample_numbers_list_2.6_to_2.7': [106, 134, 495],\n",
       " 'sample_numbers_list_2.7_to_2.8': [226],\n",
       " 'sample_numbers_list_2.8_to_2.9': [],\n",
       " 'sample_numbers_list_2.9_to_3.0': []}"
      ]
     },
     "metadata": {},
     "output_type": "display_data"
    }
   ],
   "source": [
    "# Specify the file path for final bins of the saved pkl file\n",
    "file_path = 'final_bins.pkl'\n",
    "\n",
    "# Load the dictionary from the pkl file\n",
    "with open(file_path, 'rb') as file:\n",
    "    final_numbers_dictionary = pickle.load(file)\n",
    "display(\"Dictionary loaded from pickle file:\")\n",
    "display(final_numbers_dictionary)"
   ]
  },
  {
   "cell_type": "code",
   "execution_count": 7,
   "id": "64c2b8a2",
   "metadata": {},
   "outputs": [
    {
     "data": {
      "text/plain": [
       "['sample_numbers_list_0.0_to_0.1',\n",
       " 'sample_numbers_list_0.1_to_0.2',\n",
       " 'sample_numbers_list_0.2_to_0.3',\n",
       " 'sample_numbers_list_0.3_to_0.4',\n",
       " 'sample_numbers_list_0.4_to_0.5',\n",
       " 'sample_numbers_list_0.5_to_0.6',\n",
       " 'sample_numbers_list_0.6_to_0.7',\n",
       " 'sample_numbers_list_0.7_to_0.8',\n",
       " 'sample_numbers_list_0.8_to_0.9',\n",
       " 'sample_numbers_list_0.9_to_1.0',\n",
       " 'sample_numbers_list_1.0_to_1.1',\n",
       " 'sample_numbers_list_1.1_to_1.2',\n",
       " 'sample_numbers_list_1.2_to_1.3',\n",
       " 'sample_numbers_list_1.3_to_1.4',\n",
       " 'sample_numbers_list_1.4_to_1.5',\n",
       " 'sample_numbers_list_1.5_to_1.6',\n",
       " 'sample_numbers_list_1.6_to_1.7',\n",
       " 'sample_numbers_list_1.7_to_1.8',\n",
       " 'sample_numbers_list_1.8_to_1.9',\n",
       " 'sample_numbers_list_1.9_to_2.0',\n",
       " 'sample_numbers_list_2.0_to_2.1',\n",
       " 'sample_numbers_list_2.1_to_2.2',\n",
       " 'sample_numbers_list_2.2_to_2.3',\n",
       " 'sample_numbers_list_2.3_to_2.4',\n",
       " 'sample_numbers_list_2.4_to_2.5',\n",
       " 'sample_numbers_list_2.5_to_2.6',\n",
       " 'sample_numbers_list_2.6_to_2.7',\n",
       " 'sample_numbers_list_2.7_to_2.8',\n",
       " 'sample_numbers_list_2.8_to_2.9',\n",
       " 'sample_numbers_list_2.9_to_3.0']"
      ]
     },
     "execution_count": 7,
     "metadata": {},
     "output_type": "execute_result"
    }
   ],
   "source": [
    "dictionary_keys = final_numbers_dictionary.keys()\n",
    "keys_list = list(dictionary_keys)\n",
    "keys_list"
   ]
  },
  {
   "cell_type": "markdown",
   "id": "9091899d",
   "metadata": {},
   "source": [
    "### 7.2 Function to find the length of the time series (Contains the list of functions to adjust the time series lengths for classification)"
   ]
  },
  {
   "cell_type": "code",
   "execution_count": 8,
   "id": "10cef1d3",
   "metadata": {},
   "outputs": [],
   "source": [
    "def time_series_length_finding(df):\n",
    "    train_1_abnormal = df.copy()\n",
    "    train_1_ab_sub = (train_1_abnormal['Subject'].unique()).tolist()\n",
    "    row_count = []\n",
    "    for i in train_1_ab_sub:\n",
    "        train_1_abnormal_new = train_1_abnormal[(train_1_abnormal['Subject']== i)]\n",
    "        no_rows = train_1_abnormal_new.shape[0]\n",
    "        row_count.append(no_rows)\n",
    "    display(\"Avg length:\",statistics.mean(row_count))\n",
    "    avg_len_ts = int(statistics.mean(row_count))\n",
    "    return(avg_len_ts)"
   ]
  },
  {
   "cell_type": "code",
   "execution_count": 11,
   "id": "702b0ff7",
   "metadata": {},
   "outputs": [],
   "source": [
    "def preprocessing_normal_df(df,desired_length):\n",
    "    train_2_normal = df.copy()\n",
    "    df_train_3 = pd.DataFrame(columns = train_2_normal.columns)\n",
    "    num_dim = df_train_3.shape[1]\n",
    "    display(num_dim)\n",
    "    df_train_3.columns = range(len(df_train_3.columns))\n",
    "    train_2_sub = (train_2_normal['Subject'].unique()).tolist()\n",
    "    m = 0\n",
    "    for i in train_2_sub:\n",
    "        train_2_normal_new = train_2_normal[(train_2_normal['Subject']== i)]\n",
    "        df_row_count = train_2_normal_new.shape[0]\n",
    "        if df_row_count < desired_length:\n",
    "            rows_to_add = desired_length - df_row_count\n",
    "            train_2_normal_new.tail()\n",
    "            last_row = train_2_normal_new.ffill().iloc[[-1]]  # Extract the last row\n",
    "            new_rows_df = pd.concat([last_row] * rows_to_add, ignore_index=True)\n",
    "            train_2_normal_initial = pd.concat([train_2_normal_new, new_rows_df], ignore_index=True)\n",
    "            train_2_normal_initial_no_sub = train_2_normal_initial.drop(columns='Subject')\n",
    "            train_2_normal_final = z_normalize(train_2_normal_initial_no_sub)\n",
    "            train_2_normal_final.insert(0, 'Subject', i)\n",
    "\n",
    "        else:\n",
    "            train_2_normal_initial = train_2_normal_new.iloc[:desired_length,:]\n",
    "            train_2_normal_initial_no_sub = train_2_normal_initial.drop(columns='Subject')\n",
    "            train_2_normal_final = z_normalize(train_2_normal_initial_no_sub)\n",
    "            train_2_normal_final.insert(0, 'Subject', i)\n",
    "            \n",
    "        train_2_normal_final.columns = range(len(train_2_normal_final.columns))\n",
    "        \n",
    "        df_train_3.at[m,0] = i\n",
    "        j = 0\n",
    "        while j < num_dim:\n",
    "            df_train_3.at[m,j] = train_2_normal_final[j]\n",
    "            j += 1\n",
    "        m += 1    \n",
    "    df_train_3['class'] = 'normal'\n",
    "    df_normal_baseline = df_train_3.iloc[:,1:]\n",
    "    return(df_normal_baseline)"
   ]
  },
  {
   "cell_type": "code",
   "execution_count": 12,
   "id": "352d6e08",
   "metadata": {},
   "outputs": [],
   "source": [
    "def preprocessing_dataframe(df,desired_length):\n",
    "    train_1_abnormal = df.copy()\n",
    "    df_train_2 = pd.DataFrame(columns = train_1_abnormal.columns)\n",
    "    num_dim_ab = df_train_2.shape[1]\n",
    "    df_train_2.columns = range(len(df_train_2.columns))\n",
    "    train_1_ab_sub = (train_1_abnormal['Subject'].unique()).tolist()\n",
    "    m = 0\n",
    "    for i in train_1_ab_sub:\n",
    "        train_1_abnormal_new = train_1_abnormal[(train_1_abnormal['Subject']== i)]\n",
    "        df_row_count = train_1_abnormal_new.shape[0]\n",
    "        if df_row_count < desired_length:\n",
    "            rows_to_add = desired_length - df_row_count\n",
    "            last_row = train_1_abnormal_new.ffill().iloc[[-1]]  # Extract the last row\n",
    "            new_rows_df = pd.concat([last_row] * rows_to_add, ignore_index=True)\n",
    "            train_1_abnormal_initial = pd.concat([train_1_abnormal_new, new_rows_df], ignore_index=True)\n",
    "            train_1_abnormal_initial_no_sub = train_1_abnormal_initial.drop(columns='Subject')\n",
    "            train_1_abnormal_final = z_normalize(train_1_abnormal_initial_no_sub)\n",
    "            train_1_abnormal_final.insert(0, 'Subject', i)\n",
    "        else:\n",
    "            train_1_abnormal_initial = train_1_abnormal_new.iloc[:desired_length,:]\n",
    "            train_1_abnormal_initial_no_sub = train_1_abnormal_initial.drop(columns='Subject')\n",
    "            train_1_abnormal_final = z_normalize(train_1_abnormal_initial_no_sub)\n",
    "            train_1_abnormal_final.insert(0, 'Subject', i)\n",
    "        train_1_abnormal_final.columns = range(len(train_1_abnormal_final.columns))\n",
    "        df_train_2.at[m,0] = i\n",
    "        j = 0\n",
    "        while j < num_dim_ab:\n",
    "            df_train_2.at[m,j] = train_1_abnormal_final[j]\n",
    "            j += 1\n",
    "        m += 1    \n",
    "    df_train_2['class'] = 'abnormal'\n",
    "    df_final = df_train_2.iloc[:,1:]\n",
    "    return(df_final)"
   ]
  },
  {
   "cell_type": "markdown",
   "id": "699e4030",
   "metadata": {},
   "source": [
    "### 7.3 Perform classification with ROCKET classifier"
   ]
  },
  {
   "cell_type": "code",
   "execution_count": 13,
   "id": "1423c44e",
   "metadata": {},
   "outputs": [],
   "source": [
    "def ts_classifier(df_class_1):\n",
    "    accuacy_list_1 = []\n",
    "    precision_list_1 = []\n",
    "    recall_list_1 = []\n",
    "    f1_list_1 = []\n",
    "\n",
    "    X_1 = df_class_1.iloc[:,:-1]\n",
    "    y_1 = df_class_1.iloc[:,-1]\n",
    "    \n",
    "    display(\"X_1:\",X_1)\n",
    "\n",
    "    for i in range(1,31):\n",
    "        X_train_1, X_test_1, y_train_1, y_test_1 = train_test_split(X_1, y_1, test_size=0.2, random_state=i,stratify = y_1)\n",
    "\n",
    "        rocket = Rocket(num_kernels=10000)\n",
    "        rocket.fit(X_train_1)\n",
    "        X_train_transform_1 = rocket.transform(X_train_1)\n",
    "        classifier_1 = RidgeClassifierCV(alphas=np.logspace(-3, 3, 10), normalize=True)\n",
    "        classifier_1.fit(X_train_transform_1, y_train_1)\n",
    "        X_test_transform_1 = rocket.transform(X_test_1)\n",
    "        y_pred_1 = classifier_1.predict(X_test_transform_1)\n",
    "\n",
    "        pos_label = 'abnormal'\n",
    "\n",
    "        acc_1 = accuracy_score(y_test_1, y_pred_1)\n",
    "        accuacy_list_1.append(acc_1)\n",
    "\n",
    "        prec_1 = precision_score(y_test_1, y_pred_1, pos_label=pos_label)\n",
    "        precision_list_1.append(prec_1)\n",
    "\n",
    "        recall_1 = recall_score(y_test_1, y_pred_1, pos_label=pos_label)\n",
    "        recall_list_1.append(recall_1)\n",
    "\n",
    "        f1_1 = f1_score(y_test_1, y_pred_1, pos_label=pos_label)\n",
    "        f1_list_1.append(f1_1)\n",
    "        \n",
    "        display(\"Completed\",i)\n",
    "\n",
    "    acc_mean_1 = np.mean(accuacy_list_1)\n",
    "    acc_std_dev_1 = np.std(accuacy_list_1)\n",
    "\n",
    "    prec_mean_1 = np.mean(precision_list_1)\n",
    "    prec_std_dev_1 = np.std(precision_list_1)\n",
    "\n",
    "    recall_mean_1 = np.mean(recall_list_1)\n",
    "    recall_std_dev_1 = np.std(recall_list_1)\n",
    "\n",
    "    f1_mean_1 = np.mean(f1_list_1)\n",
    "    f1_std_dev_1 = np.std(f1_list_1)\n",
    "\n",
    "    return(acc_mean_1,acc_std_dev_1,prec_mean_1,prec_std_dev_1,recall_mean_1,recall_std_dev_1,f1_mean_1,f1_std_dev_1)"
   ]
  },
  {
   "cell_type": "code",
   "execution_count": 14,
   "id": "72627479",
   "metadata": {},
   "outputs": [
    {
     "data": {
      "text/plain": [
       "'Current key in progress'"
      ]
     },
     "metadata": {},
     "output_type": "display_data"
    },
    {
     "data": {
      "text/plain": [
       "'sample_numbers_list_0.0_to_0.1'"
      ]
     },
     "metadata": {},
     "output_type": "display_data"
    },
    {
     "data": {
      "text/plain": [
       "41"
      ]
     },
     "metadata": {},
     "output_type": "display_data"
    },
    {
     "data": {
      "text/html": [
       "<div>\n",
       "<style scoped>\n",
       "    .dataframe tbody tr th:only-of-type {\n",
       "        vertical-align: middle;\n",
       "    }\n",
       "\n",
       "    .dataframe tbody tr th {\n",
       "        vertical-align: top;\n",
       "    }\n",
       "\n",
       "    .dataframe thead th {\n",
       "        text-align: right;\n",
       "    }\n",
       "</style>\n",
       "<table border=\"1\" class=\"dataframe\">\n",
       "  <thead>\n",
       "    <tr style=\"text-align: right;\">\n",
       "      <th></th>\n",
       "      <th>Subject</th>\n",
       "      <th>HR</th>\n",
       "      <th>MAP</th>\n",
       "      <th>DBP</th>\n",
       "      <th>SBP</th>\n",
       "      <th>Resp</th>\n",
       "    </tr>\n",
       "  </thead>\n",
       "  <tbody>\n",
       "    <tr>\n",
       "      <th>0</th>\n",
       "      <td>23</td>\n",
       "      <td>96.0</td>\n",
       "      <td>62.5</td>\n",
       "      <td>52.0</td>\n",
       "      <td>86.0</td>\n",
       "      <td>15.0</td>\n",
       "    </tr>\n",
       "    <tr>\n",
       "      <th>1</th>\n",
       "      <td>23</td>\n",
       "      <td>98.0</td>\n",
       "      <td>67.0</td>\n",
       "      <td>52.0</td>\n",
       "      <td>91.0</td>\n",
       "      <td>17.0</td>\n",
       "    </tr>\n",
       "    <tr>\n",
       "      <th>2</th>\n",
       "      <td>23</td>\n",
       "      <td>94.5</td>\n",
       "      <td>67.5</td>\n",
       "      <td>53.0</td>\n",
       "      <td>96.0</td>\n",
       "      <td>18.0</td>\n",
       "    </tr>\n",
       "    <tr>\n",
       "      <th>3</th>\n",
       "      <td>23</td>\n",
       "      <td>72.0</td>\n",
       "      <td>70.0</td>\n",
       "      <td>53.0</td>\n",
       "      <td>105.0</td>\n",
       "      <td>16.0</td>\n",
       "    </tr>\n",
       "    <tr>\n",
       "      <th>4</th>\n",
       "      <td>23</td>\n",
       "      <td>82.0</td>\n",
       "      <td>79.0</td>\n",
       "      <td>59.0</td>\n",
       "      <td>118.0</td>\n",
       "      <td>16.0</td>\n",
       "    </tr>\n",
       "    <tr>\n",
       "      <th>...</th>\n",
       "      <td>...</td>\n",
       "      <td>...</td>\n",
       "      <td>...</td>\n",
       "      <td>...</td>\n",
       "      <td>...</td>\n",
       "      <td>...</td>\n",
       "    </tr>\n",
       "    <tr>\n",
       "      <th>48</th>\n",
       "      <td>493</td>\n",
       "      <td>102.0</td>\n",
       "      <td>109.0</td>\n",
       "      <td>86.0</td>\n",
       "      <td>150.0</td>\n",
       "      <td>23.0</td>\n",
       "    </tr>\n",
       "    <tr>\n",
       "      <th>49</th>\n",
       "      <td>493</td>\n",
       "      <td>87.0</td>\n",
       "      <td>104.0</td>\n",
       "      <td>80.0</td>\n",
       "      <td>149.0</td>\n",
       "      <td>23.0</td>\n",
       "    </tr>\n",
       "    <tr>\n",
       "      <th>50</th>\n",
       "      <td>493</td>\n",
       "      <td>105.0</td>\n",
       "      <td>99.0</td>\n",
       "      <td>75.0</td>\n",
       "      <td>155.0</td>\n",
       "      <td>20.0</td>\n",
       "    </tr>\n",
       "    <tr>\n",
       "      <th>51</th>\n",
       "      <td>493</td>\n",
       "      <td>80.0</td>\n",
       "      <td>107.0</td>\n",
       "      <td>85.0</td>\n",
       "      <td>149.0</td>\n",
       "      <td>20.0</td>\n",
       "    </tr>\n",
       "    <tr>\n",
       "      <th>52</th>\n",
       "      <td>493</td>\n",
       "      <td>78.0</td>\n",
       "      <td>103.0</td>\n",
       "      <td>82.0</td>\n",
       "      <td>143.0</td>\n",
       "      <td>20.0</td>\n",
       "    </tr>\n",
       "  </tbody>\n",
       "</table>\n",
       "<p>2165 rows × 6 columns</p>\n",
       "</div>"
      ],
      "text/plain": [
       "    Subject     HR    MAP   DBP    SBP  Resp\n",
       "0        23   96.0   62.5  52.0   86.0  15.0\n",
       "1        23   98.0   67.0  52.0   91.0  17.0\n",
       "2        23   94.5   67.5  53.0   96.0  18.0\n",
       "3        23   72.0   70.0  53.0  105.0  16.0\n",
       "4        23   82.0   79.0  59.0  118.0  16.0\n",
       "..      ...    ...    ...   ...    ...   ...\n",
       "48      493  102.0  109.0  86.0  150.0  23.0\n",
       "49      493   87.0  104.0  80.0  149.0  23.0\n",
       "50      493  105.0   99.0  75.0  155.0  20.0\n",
       "51      493   80.0  107.0  85.0  149.0  20.0\n",
       "52      493   78.0  103.0  82.0  143.0  20.0\n",
       "\n",
       "[2165 rows x 6 columns]"
      ]
     },
     "metadata": {},
     "output_type": "display_data"
    },
    {
     "data": {
      "text/html": [
       "<div>\n",
       "<style scoped>\n",
       "    .dataframe tbody tr th:only-of-type {\n",
       "        vertical-align: middle;\n",
       "    }\n",
       "\n",
       "    .dataframe tbody tr th {\n",
       "        vertical-align: top;\n",
       "    }\n",
       "\n",
       "    .dataframe thead th {\n",
       "        text-align: right;\n",
       "    }\n",
       "</style>\n",
       "<table border=\"1\" class=\"dataframe\">\n",
       "  <thead>\n",
       "    <tr style=\"text-align: right;\">\n",
       "      <th></th>\n",
       "      <th>Subject</th>\n",
       "      <th>HR</th>\n",
       "      <th>MAP</th>\n",
       "      <th>DBP</th>\n",
       "      <th>SBP</th>\n",
       "      <th>Resp</th>\n",
       "    </tr>\n",
       "  </thead>\n",
       "  <tbody>\n",
       "    <tr>\n",
       "      <th>0</th>\n",
       "      <td>2</td>\n",
       "      <td>77.0</td>\n",
       "      <td>102.0</td>\n",
       "      <td>74.0</td>\n",
       "      <td>161.0</td>\n",
       "      <td>18.5</td>\n",
       "    </tr>\n",
       "    <tr>\n",
       "      <th>1</th>\n",
       "      <td>2</td>\n",
       "      <td>78.0</td>\n",
       "      <td>102.0</td>\n",
       "      <td>74.0</td>\n",
       "      <td>129.0</td>\n",
       "      <td>18.0</td>\n",
       "    </tr>\n",
       "    <tr>\n",
       "      <th>2</th>\n",
       "      <td>2</td>\n",
       "      <td>74.0</td>\n",
       "      <td>102.0</td>\n",
       "      <td>74.0</td>\n",
       "      <td>144.5</td>\n",
       "      <td>20.0</td>\n",
       "    </tr>\n",
       "    <tr>\n",
       "      <th>3</th>\n",
       "      <td>2</td>\n",
       "      <td>77.0</td>\n",
       "      <td>103.0</td>\n",
       "      <td>78.0</td>\n",
       "      <td>150.5</td>\n",
       "      <td>18.0</td>\n",
       "    </tr>\n",
       "    <tr>\n",
       "      <th>4</th>\n",
       "      <td>2</td>\n",
       "      <td>78.0</td>\n",
       "      <td>99.0</td>\n",
       "      <td>80.0</td>\n",
       "      <td>134.0</td>\n",
       "      <td>18.0</td>\n",
       "    </tr>\n",
       "    <tr>\n",
       "      <th>...</th>\n",
       "      <td>...</td>\n",
       "      <td>...</td>\n",
       "      <td>...</td>\n",
       "      <td>...</td>\n",
       "      <td>...</td>\n",
       "      <td>...</td>\n",
       "    </tr>\n",
       "    <tr>\n",
       "      <th>121</th>\n",
       "      <td>175</td>\n",
       "      <td>109.0</td>\n",
       "      <td>100.0</td>\n",
       "      <td>65.0</td>\n",
       "      <td>94.0</td>\n",
       "      <td>31.0</td>\n",
       "    </tr>\n",
       "    <tr>\n",
       "      <th>122</th>\n",
       "      <td>175</td>\n",
       "      <td>99.0</td>\n",
       "      <td>77.0</td>\n",
       "      <td>65.0</td>\n",
       "      <td>94.0</td>\n",
       "      <td>16.0</td>\n",
       "    </tr>\n",
       "    <tr>\n",
       "      <th>123</th>\n",
       "      <td>175</td>\n",
       "      <td>113.0</td>\n",
       "      <td>105.0</td>\n",
       "      <td>65.0</td>\n",
       "      <td>94.0</td>\n",
       "      <td>21.0</td>\n",
       "    </tr>\n",
       "    <tr>\n",
       "      <th>124</th>\n",
       "      <td>175</td>\n",
       "      <td>110.0</td>\n",
       "      <td>105.0</td>\n",
       "      <td>65.0</td>\n",
       "      <td>94.0</td>\n",
       "      <td>18.0</td>\n",
       "    </tr>\n",
       "    <tr>\n",
       "      <th>125</th>\n",
       "      <td>175</td>\n",
       "      <td>112.0</td>\n",
       "      <td>90.0</td>\n",
       "      <td>65.0</td>\n",
       "      <td>94.0</td>\n",
       "      <td>23.0</td>\n",
       "    </tr>\n",
       "  </tbody>\n",
       "</table>\n",
       "<p>4159 rows × 6 columns</p>\n",
       "</div>"
      ],
      "text/plain": [
       "     Subject     HR    MAP   DBP    SBP  Resp\n",
       "0          2   77.0  102.0  74.0  161.0  18.5\n",
       "1          2   78.0  102.0  74.0  129.0  18.0\n",
       "2          2   74.0  102.0  74.0  144.5  20.0\n",
       "3          2   77.0  103.0  78.0  150.5  18.0\n",
       "4          2   78.0   99.0  80.0  134.0  18.0\n",
       "..       ...    ...    ...   ...    ...   ...\n",
       "121      175  109.0  100.0  65.0   94.0  31.0\n",
       "122      175   99.0   77.0  65.0   94.0  16.0\n",
       "123      175  113.0  105.0  65.0   94.0  21.0\n",
       "124      175  110.0  105.0  65.0   94.0  18.0\n",
       "125      175  112.0   90.0  65.0   94.0  23.0\n",
       "\n",
       "[4159 rows x 6 columns]"
      ]
     },
     "metadata": {},
     "output_type": "display_data"
    },
    {
     "data": {
      "text/plain": [
       "'Avg length:'"
      ]
     },
     "metadata": {},
     "output_type": "display_data"
    },
    {
     "data": {
      "text/plain": [
       "101.4390243902439"
      ]
     },
     "metadata": {},
     "output_type": "display_data"
    },
    {
     "data": {
      "text/plain": [
       "6"
      ]
     },
     "metadata": {},
     "output_type": "display_data"
    },
    {
     "data": {
      "text/plain": [
       "'X_1:'"
      ]
     },
     "metadata": {},
     "output_type": "display_data"
    },
    {
     "data": {
      "text/html": [
       "<div>\n",
       "<style scoped>\n",
       "    .dataframe tbody tr th:only-of-type {\n",
       "        vertical-align: middle;\n",
       "    }\n",
       "\n",
       "    .dataframe tbody tr th {\n",
       "        vertical-align: top;\n",
       "    }\n",
       "\n",
       "    .dataframe thead th {\n",
       "        text-align: right;\n",
       "    }\n",
       "</style>\n",
       "<table border=\"1\" class=\"dataframe\">\n",
       "  <thead>\n",
       "    <tr style=\"text-align: right;\">\n",
       "      <th></th>\n",
       "      <th>1</th>\n",
       "      <th>2</th>\n",
       "      <th>3</th>\n",
       "      <th>4</th>\n",
       "      <th>5</th>\n",
       "    </tr>\n",
       "  </thead>\n",
       "  <tbody>\n",
       "    <tr>\n",
       "      <th>0</th>\n",
       "      <td>0     -0.394469\n",
       "1     -0.292115\n",
       "2     -0.47123...</td>\n",
       "      <td>0     -0.049971\n",
       "1      0.478211\n",
       "2      0.53689...</td>\n",
       "      <td>0      0.579107\n",
       "1      0.579107\n",
       "2      0.73122...</td>\n",
       "      <td>0     -0.689118\n",
       "1     -0.352719\n",
       "2     -0.01632...</td>\n",
       "      <td>0      0.095762\n",
       "1      0.618569\n",
       "2      0.87997...</td>\n",
       "    </tr>\n",
       "    <tr>\n",
       "      <th>1</th>\n",
       "      <td>0      3.102583\n",
       "1      2.613911\n",
       "2      2.85824...</td>\n",
       "      <td>0      1.698444\n",
       "1      1.761721\n",
       "2      1.63516...</td>\n",
       "      <td>0      0.614736\n",
       "1      0.980607\n",
       "2      2.51726...</td>\n",
       "      <td>0      1.450056\n",
       "1      1.512644\n",
       "2      1.32488...</td>\n",
       "      <td>0      0.378916\n",
       "1      1.841482\n",
       "2     -2.05869...</td>\n",
       "    </tr>\n",
       "    <tr>\n",
       "      <th>2</th>\n",
       "      <td>0     -0.873973\n",
       "1     -0.873973\n",
       "2     -0.68774...</td>\n",
       "      <td>0     -0.611484\n",
       "1     -0.611484\n",
       "2     -0.28614...</td>\n",
       "      <td>0     -1.066474\n",
       "1     -1.066474\n",
       "2     -0.78038...</td>\n",
       "      <td>0     -1.312973\n",
       "1     -1.312973\n",
       "2     -1.31297...</td>\n",
       "      <td>0      1.008233\n",
       "1      1.008233\n",
       "2     -0.43875...</td>\n",
       "    </tr>\n",
       "    <tr>\n",
       "      <th>3</th>\n",
       "      <td>0     -0.965339\n",
       "1     -0.965339\n",
       "2     -0.31822...</td>\n",
       "      <td>0     -0.995545\n",
       "1     -0.995545\n",
       "2     -0.99554...</td>\n",
       "      <td>0     -0.976050\n",
       "1     -0.976050\n",
       "2     -0.97605...</td>\n",
       "      <td>0     -0.053530\n",
       "1     -0.053530\n",
       "2     -0.05353...</td>\n",
       "      <td>0     -2.462892\n",
       "1     -2.462892\n",
       "2     -1.53902...</td>\n",
       "    </tr>\n",
       "    <tr>\n",
       "      <th>4</th>\n",
       "      <td>0      0.944264\n",
       "1      0.944264\n",
       "2      0.03793...</td>\n",
       "      <td>0     -1.406446\n",
       "1     -1.406446\n",
       "2     -1.67748...</td>\n",
       "      <td>0     -0.616385\n",
       "1     -0.616385\n",
       "2     -1.85671...</td>\n",
       "      <td>0     -0.695759\n",
       "1     -0.695759\n",
       "2     -1.88092...</td>\n",
       "      <td>0      0.707579\n",
       "1      0.707579\n",
       "2     -0.22865...</td>\n",
       "    </tr>\n",
       "    <tr>\n",
       "      <th>...</th>\n",
       "      <td>...</td>\n",
       "      <td>...</td>\n",
       "      <td>...</td>\n",
       "      <td>...</td>\n",
       "      <td>...</td>\n",
       "    </tr>\n",
       "    <tr>\n",
       "      <th>77</th>\n",
       "      <td>0      1.285348\n",
       "1      0.450827\n",
       "2     -0.01859...</td>\n",
       "      <td>0     -0.183241\n",
       "1     -1.024484\n",
       "2     -0.52963...</td>\n",
       "      <td>0      0.852060\n",
       "1      0.852060\n",
       "2      0.85206...</td>\n",
       "      <td>0      1.551553\n",
       "1      1.551553\n",
       "2      1.55155...</td>\n",
       "      <td>0     -0.973400\n",
       "1     -0.658797\n",
       "2     -0.34419...</td>\n",
       "    </tr>\n",
       "    <tr>\n",
       "      <th>78</th>\n",
       "      <td>0      1.538460\n",
       "1      0.668500\n",
       "2      1.63512...</td>\n",
       "      <td>0     -0.215327\n",
       "1      0.127162\n",
       "2     -0.62631...</td>\n",
       "      <td>0      0.704699\n",
       "1      0.544636\n",
       "2      0.59799...</td>\n",
       "      <td>0     -0.704318\n",
       "1     -0.240334\n",
       "2     -0.16707...</td>\n",
       "      <td>0     -0.478851\n",
       "1     -0.478851\n",
       "2     -0.47885...</td>\n",
       "    </tr>\n",
       "    <tr>\n",
       "      <th>79</th>\n",
       "      <td>0     -0.714646\n",
       "1     -0.739256\n",
       "2     -0.96074...</td>\n",
       "      <td>0     -0.575362\n",
       "1     -0.626248\n",
       "2     -0.42270...</td>\n",
       "      <td>0     -0.338767\n",
       "1     -0.409024\n",
       "2     -0.83057...</td>\n",
       "      <td>0     -0.439534\n",
       "1     -0.492541\n",
       "2      0.01102...</td>\n",
       "      <td>0     -0.526410\n",
       "1     -0.526410\n",
       "2     -0.16015...</td>\n",
       "    </tr>\n",
       "    <tr>\n",
       "      <th>80</th>\n",
       "      <td>0     -1.036691\n",
       "1     -0.880134\n",
       "2     -0.53570...</td>\n",
       "      <td>0     -0.735505\n",
       "1     -0.687236\n",
       "2     -0.68723...</td>\n",
       "      <td>0     -1.000854\n",
       "1     -0.556937\n",
       "2     -0.62035...</td>\n",
       "      <td>0     -0.407698\n",
       "1     -0.570326\n",
       "2     -0.63537...</td>\n",
       "      <td>0     -2.282138\n",
       "1     -2.282138\n",
       "2     -2.28213...</td>\n",
       "    </tr>\n",
       "    <tr>\n",
       "      <th>81</th>\n",
       "      <td>0      0.532605\n",
       "1      0.532605\n",
       "2     -0.24913...</td>\n",
       "      <td>0     -0.806552\n",
       "1     -0.806552\n",
       "2     -2.49539...</td>\n",
       "      <td>0     -0.792899\n",
       "1     -0.792899\n",
       "2     -2.69430...</td>\n",
       "      <td>0      0.789322\n",
       "1      0.789322\n",
       "2     -1.49405...</td>\n",
       "      <td>0      0.954517\n",
       "1      0.954517\n",
       "2      0.78358...</td>\n",
       "    </tr>\n",
       "  </tbody>\n",
       "</table>\n",
       "<p>82 rows × 5 columns</p>\n",
       "</div>"
      ],
      "text/plain": [
       "                                                    1  \\\n",
       "0   0     -0.394469\n",
       "1     -0.292115\n",
       "2     -0.47123...   \n",
       "1   0      3.102583\n",
       "1      2.613911\n",
       "2      2.85824...   \n",
       "2   0     -0.873973\n",
       "1     -0.873973\n",
       "2     -0.68774...   \n",
       "3   0     -0.965339\n",
       "1     -0.965339\n",
       "2     -0.31822...   \n",
       "4   0      0.944264\n",
       "1      0.944264\n",
       "2      0.03793...   \n",
       "..                                                ...   \n",
       "77  0      1.285348\n",
       "1      0.450827\n",
       "2     -0.01859...   \n",
       "78  0      1.538460\n",
       "1      0.668500\n",
       "2      1.63512...   \n",
       "79  0     -0.714646\n",
       "1     -0.739256\n",
       "2     -0.96074...   \n",
       "80  0     -1.036691\n",
       "1     -0.880134\n",
       "2     -0.53570...   \n",
       "81  0      0.532605\n",
       "1      0.532605\n",
       "2     -0.24913...   \n",
       "\n",
       "                                                    2  \\\n",
       "0   0     -0.049971\n",
       "1      0.478211\n",
       "2      0.53689...   \n",
       "1   0      1.698444\n",
       "1      1.761721\n",
       "2      1.63516...   \n",
       "2   0     -0.611484\n",
       "1     -0.611484\n",
       "2     -0.28614...   \n",
       "3   0     -0.995545\n",
       "1     -0.995545\n",
       "2     -0.99554...   \n",
       "4   0     -1.406446\n",
       "1     -1.406446\n",
       "2     -1.67748...   \n",
       "..                                                ...   \n",
       "77  0     -0.183241\n",
       "1     -1.024484\n",
       "2     -0.52963...   \n",
       "78  0     -0.215327\n",
       "1      0.127162\n",
       "2     -0.62631...   \n",
       "79  0     -0.575362\n",
       "1     -0.626248\n",
       "2     -0.42270...   \n",
       "80  0     -0.735505\n",
       "1     -0.687236\n",
       "2     -0.68723...   \n",
       "81  0     -0.806552\n",
       "1     -0.806552\n",
       "2     -2.49539...   \n",
       "\n",
       "                                                    3  \\\n",
       "0   0      0.579107\n",
       "1      0.579107\n",
       "2      0.73122...   \n",
       "1   0      0.614736\n",
       "1      0.980607\n",
       "2      2.51726...   \n",
       "2   0     -1.066474\n",
       "1     -1.066474\n",
       "2     -0.78038...   \n",
       "3   0     -0.976050\n",
       "1     -0.976050\n",
       "2     -0.97605...   \n",
       "4   0     -0.616385\n",
       "1     -0.616385\n",
       "2     -1.85671...   \n",
       "..                                                ...   \n",
       "77  0      0.852060\n",
       "1      0.852060\n",
       "2      0.85206...   \n",
       "78  0      0.704699\n",
       "1      0.544636\n",
       "2      0.59799...   \n",
       "79  0     -0.338767\n",
       "1     -0.409024\n",
       "2     -0.83057...   \n",
       "80  0     -1.000854\n",
       "1     -0.556937\n",
       "2     -0.62035...   \n",
       "81  0     -0.792899\n",
       "1     -0.792899\n",
       "2     -2.69430...   \n",
       "\n",
       "                                                    4  \\\n",
       "0   0     -0.689118\n",
       "1     -0.352719\n",
       "2     -0.01632...   \n",
       "1   0      1.450056\n",
       "1      1.512644\n",
       "2      1.32488...   \n",
       "2   0     -1.312973\n",
       "1     -1.312973\n",
       "2     -1.31297...   \n",
       "3   0     -0.053530\n",
       "1     -0.053530\n",
       "2     -0.05353...   \n",
       "4   0     -0.695759\n",
       "1     -0.695759\n",
       "2     -1.88092...   \n",
       "..                                                ...   \n",
       "77  0      1.551553\n",
       "1      1.551553\n",
       "2      1.55155...   \n",
       "78  0     -0.704318\n",
       "1     -0.240334\n",
       "2     -0.16707...   \n",
       "79  0     -0.439534\n",
       "1     -0.492541\n",
       "2      0.01102...   \n",
       "80  0     -0.407698\n",
       "1     -0.570326\n",
       "2     -0.63537...   \n",
       "81  0      0.789322\n",
       "1      0.789322\n",
       "2     -1.49405...   \n",
       "\n",
       "                                                    5  \n",
       "0   0      0.095762\n",
       "1      0.618569\n",
       "2      0.87997...  \n",
       "1   0      0.378916\n",
       "1      1.841482\n",
       "2     -2.05869...  \n",
       "2   0      1.008233\n",
       "1      1.008233\n",
       "2     -0.43875...  \n",
       "3   0     -2.462892\n",
       "1     -2.462892\n",
       "2     -1.53902...  \n",
       "4   0      0.707579\n",
       "1      0.707579\n",
       "2     -0.22865...  \n",
       "..                                                ...  \n",
       "77  0     -0.973400\n",
       "1     -0.658797\n",
       "2     -0.34419...  \n",
       "78  0     -0.478851\n",
       "1     -0.478851\n",
       "2     -0.47885...  \n",
       "79  0     -0.526410\n",
       "1     -0.526410\n",
       "2     -0.16015...  \n",
       "80  0     -2.282138\n",
       "1     -2.282138\n",
       "2     -2.28213...  \n",
       "81  0      0.954517\n",
       "1      0.954517\n",
       "2      0.78358...  \n",
       "\n",
       "[82 rows x 5 columns]"
      ]
     },
     "metadata": {},
     "output_type": "display_data"
    },
    {
     "data": {
      "text/plain": [
       "'Completed'"
      ]
     },
     "metadata": {},
     "output_type": "display_data"
    },
    {
     "data": {
      "text/plain": [
       "1"
      ]
     },
     "metadata": {},
     "output_type": "display_data"
    },
    {
     "data": {
      "text/plain": [
       "'Completed'"
      ]
     },
     "metadata": {},
     "output_type": "display_data"
    },
    {
     "data": {
      "text/plain": [
       "2"
      ]
     },
     "metadata": {},
     "output_type": "display_data"
    },
    {
     "data": {
      "text/plain": [
       "'Completed'"
      ]
     },
     "metadata": {},
     "output_type": "display_data"
    },
    {
     "data": {
      "text/plain": [
       "3"
      ]
     },
     "metadata": {},
     "output_type": "display_data"
    },
    {
     "data": {
      "text/plain": [
       "'Completed'"
      ]
     },
     "metadata": {},
     "output_type": "display_data"
    },
    {
     "data": {
      "text/plain": [
       "4"
      ]
     },
     "metadata": {},
     "output_type": "display_data"
    },
    {
     "data": {
      "text/plain": [
       "'Completed'"
      ]
     },
     "metadata": {},
     "output_type": "display_data"
    },
    {
     "data": {
      "text/plain": [
       "5"
      ]
     },
     "metadata": {},
     "output_type": "display_data"
    },
    {
     "data": {
      "text/plain": [
       "'Completed'"
      ]
     },
     "metadata": {},
     "output_type": "display_data"
    },
    {
     "data": {
      "text/plain": [
       "6"
      ]
     },
     "metadata": {},
     "output_type": "display_data"
    },
    {
     "data": {
      "text/plain": [
       "'Completed'"
      ]
     },
     "metadata": {},
     "output_type": "display_data"
    },
    {
     "data": {
      "text/plain": [
       "7"
      ]
     },
     "metadata": {},
     "output_type": "display_data"
    },
    {
     "data": {
      "text/plain": [
       "'Completed'"
      ]
     },
     "metadata": {},
     "output_type": "display_data"
    },
    {
     "data": {
      "text/plain": [
       "8"
      ]
     },
     "metadata": {},
     "output_type": "display_data"
    },
    {
     "data": {
      "text/plain": [
       "'Completed'"
      ]
     },
     "metadata": {},
     "output_type": "display_data"
    },
    {
     "data": {
      "text/plain": [
       "9"
      ]
     },
     "metadata": {},
     "output_type": "display_data"
    },
    {
     "data": {
      "text/plain": [
       "'Completed'"
      ]
     },
     "metadata": {},
     "output_type": "display_data"
    },
    {
     "data": {
      "text/plain": [
       "10"
      ]
     },
     "metadata": {},
     "output_type": "display_data"
    },
    {
     "data": {
      "text/plain": [
       "'Completed'"
      ]
     },
     "metadata": {},
     "output_type": "display_data"
    },
    {
     "data": {
      "text/plain": [
       "11"
      ]
     },
     "metadata": {},
     "output_type": "display_data"
    },
    {
     "data": {
      "text/plain": [
       "'Completed'"
      ]
     },
     "metadata": {},
     "output_type": "display_data"
    },
    {
     "data": {
      "text/plain": [
       "12"
      ]
     },
     "metadata": {},
     "output_type": "display_data"
    },
    {
     "data": {
      "text/plain": [
       "'Completed'"
      ]
     },
     "metadata": {},
     "output_type": "display_data"
    },
    {
     "data": {
      "text/plain": [
       "13"
      ]
     },
     "metadata": {},
     "output_type": "display_data"
    },
    {
     "data": {
      "text/plain": [
       "'Completed'"
      ]
     },
     "metadata": {},
     "output_type": "display_data"
    },
    {
     "data": {
      "text/plain": [
       "14"
      ]
     },
     "metadata": {},
     "output_type": "display_data"
    },
    {
     "data": {
      "text/plain": [
       "'Completed'"
      ]
     },
     "metadata": {},
     "output_type": "display_data"
    },
    {
     "data": {
      "text/plain": [
       "15"
      ]
     },
     "metadata": {},
     "output_type": "display_data"
    },
    {
     "data": {
      "text/plain": [
       "'Completed'"
      ]
     },
     "metadata": {},
     "output_type": "display_data"
    },
    {
     "data": {
      "text/plain": [
       "16"
      ]
     },
     "metadata": {},
     "output_type": "display_data"
    },
    {
     "data": {
      "text/plain": [
       "'Completed'"
      ]
     },
     "metadata": {},
     "output_type": "display_data"
    },
    {
     "data": {
      "text/plain": [
       "17"
      ]
     },
     "metadata": {},
     "output_type": "display_data"
    },
    {
     "data": {
      "text/plain": [
       "'Completed'"
      ]
     },
     "metadata": {},
     "output_type": "display_data"
    },
    {
     "data": {
      "text/plain": [
       "18"
      ]
     },
     "metadata": {},
     "output_type": "display_data"
    },
    {
     "data": {
      "text/plain": [
       "'Completed'"
      ]
     },
     "metadata": {},
     "output_type": "display_data"
    },
    {
     "data": {
      "text/plain": [
       "19"
      ]
     },
     "metadata": {},
     "output_type": "display_data"
    },
    {
     "data": {
      "text/plain": [
       "'Completed'"
      ]
     },
     "metadata": {},
     "output_type": "display_data"
    },
    {
     "data": {
      "text/plain": [
       "20"
      ]
     },
     "metadata": {},
     "output_type": "display_data"
    },
    {
     "data": {
      "text/plain": [
       "'Completed'"
      ]
     },
     "metadata": {},
     "output_type": "display_data"
    },
    {
     "data": {
      "text/plain": [
       "21"
      ]
     },
     "metadata": {},
     "output_type": "display_data"
    },
    {
     "data": {
      "text/plain": [
       "'Completed'"
      ]
     },
     "metadata": {},
     "output_type": "display_data"
    },
    {
     "data": {
      "text/plain": [
       "22"
      ]
     },
     "metadata": {},
     "output_type": "display_data"
    },
    {
     "data": {
      "text/plain": [
       "'Completed'"
      ]
     },
     "metadata": {},
     "output_type": "display_data"
    },
    {
     "data": {
      "text/plain": [
       "23"
      ]
     },
     "metadata": {},
     "output_type": "display_data"
    },
    {
     "data": {
      "text/plain": [
       "'Completed'"
      ]
     },
     "metadata": {},
     "output_type": "display_data"
    },
    {
     "data": {
      "text/plain": [
       "24"
      ]
     },
     "metadata": {},
     "output_type": "display_data"
    },
    {
     "data": {
      "text/plain": [
       "'Completed'"
      ]
     },
     "metadata": {},
     "output_type": "display_data"
    },
    {
     "data": {
      "text/plain": [
       "25"
      ]
     },
     "metadata": {},
     "output_type": "display_data"
    },
    {
     "data": {
      "text/plain": [
       "'Completed'"
      ]
     },
     "metadata": {},
     "output_type": "display_data"
    },
    {
     "data": {
      "text/plain": [
       "26"
      ]
     },
     "metadata": {},
     "output_type": "display_data"
    },
    {
     "data": {
      "text/plain": [
       "'Completed'"
      ]
     },
     "metadata": {},
     "output_type": "display_data"
    },
    {
     "data": {
      "text/plain": [
       "27"
      ]
     },
     "metadata": {},
     "output_type": "display_data"
    },
    {
     "data": {
      "text/plain": [
       "'Completed'"
      ]
     },
     "metadata": {},
     "output_type": "display_data"
    },
    {
     "data": {
      "text/plain": [
       "28"
      ]
     },
     "metadata": {},
     "output_type": "display_data"
    },
    {
     "data": {
      "text/plain": [
       "'Completed'"
      ]
     },
     "metadata": {},
     "output_type": "display_data"
    },
    {
     "data": {
      "text/plain": [
       "29"
      ]
     },
     "metadata": {},
     "output_type": "display_data"
    },
    {
     "data": {
      "text/plain": [
       "'Completed'"
      ]
     },
     "metadata": {},
     "output_type": "display_data"
    },
    {
     "data": {
      "text/plain": [
       "30"
      ]
     },
     "metadata": {},
     "output_type": "display_data"
    },
    {
     "data": {
      "text/plain": [
       "'Current key in progress'"
      ]
     },
     "metadata": {},
     "output_type": "display_data"
    },
    {
     "data": {
      "text/plain": [
       "'sample_numbers_list_0.1_to_0.2'"
      ]
     },
     "metadata": {},
     "output_type": "display_data"
    },
    {
     "data": {
      "text/plain": [
       "72"
      ]
     },
     "metadata": {},
     "output_type": "display_data"
    },
    {
     "data": {
      "text/html": [
       "<div>\n",
       "<style scoped>\n",
       "    .dataframe tbody tr th:only-of-type {\n",
       "        vertical-align: middle;\n",
       "    }\n",
       "\n",
       "    .dataframe tbody tr th {\n",
       "        vertical-align: top;\n",
       "    }\n",
       "\n",
       "    .dataframe thead th {\n",
       "        text-align: right;\n",
       "    }\n",
       "</style>\n",
       "<table border=\"1\" class=\"dataframe\">\n",
       "  <thead>\n",
       "    <tr style=\"text-align: right;\">\n",
       "      <th></th>\n",
       "      <th>Subject</th>\n",
       "      <th>HR</th>\n",
       "      <th>MAP</th>\n",
       "      <th>DBP</th>\n",
       "      <th>SBP</th>\n",
       "      <th>Resp</th>\n",
       "    </tr>\n",
       "  </thead>\n",
       "  <tbody>\n",
       "    <tr>\n",
       "      <th>0</th>\n",
       "      <td>14</td>\n",
       "      <td>58.0</td>\n",
       "      <td>71.5</td>\n",
       "      <td>49.0</td>\n",
       "      <td>123.5</td>\n",
       "      <td>11.0</td>\n",
       "    </tr>\n",
       "    <tr>\n",
       "      <th>1</th>\n",
       "      <td>14</td>\n",
       "      <td>75.0</td>\n",
       "      <td>80.0</td>\n",
       "      <td>58.0</td>\n",
       "      <td>136.0</td>\n",
       "      <td>12.0</td>\n",
       "    </tr>\n",
       "    <tr>\n",
       "      <th>2</th>\n",
       "      <td>14</td>\n",
       "      <td>75.0</td>\n",
       "      <td>80.0</td>\n",
       "      <td>58.0</td>\n",
       "      <td>136.0</td>\n",
       "      <td>12.0</td>\n",
       "    </tr>\n",
       "    <tr>\n",
       "      <th>3</th>\n",
       "      <td>14</td>\n",
       "      <td>75.0</td>\n",
       "      <td>80.0</td>\n",
       "      <td>58.0</td>\n",
       "      <td>136.0</td>\n",
       "      <td>12.0</td>\n",
       "    </tr>\n",
       "    <tr>\n",
       "      <th>4</th>\n",
       "      <td>14</td>\n",
       "      <td>76.5</td>\n",
       "      <td>82.0</td>\n",
       "      <td>62.0</td>\n",
       "      <td>137.0</td>\n",
       "      <td>16.5</td>\n",
       "    </tr>\n",
       "    <tr>\n",
       "      <th>...</th>\n",
       "      <td>...</td>\n",
       "      <td>...</td>\n",
       "      <td>...</td>\n",
       "      <td>...</td>\n",
       "      <td>...</td>\n",
       "      <td>...</td>\n",
       "    </tr>\n",
       "    <tr>\n",
       "      <th>48</th>\n",
       "      <td>493</td>\n",
       "      <td>102.0</td>\n",
       "      <td>109.0</td>\n",
       "      <td>86.0</td>\n",
       "      <td>150.0</td>\n",
       "      <td>23.0</td>\n",
       "    </tr>\n",
       "    <tr>\n",
       "      <th>49</th>\n",
       "      <td>493</td>\n",
       "      <td>87.0</td>\n",
       "      <td>104.0</td>\n",
       "      <td>80.0</td>\n",
       "      <td>149.0</td>\n",
       "      <td>23.0</td>\n",
       "    </tr>\n",
       "    <tr>\n",
       "      <th>50</th>\n",
       "      <td>493</td>\n",
       "      <td>105.0</td>\n",
       "      <td>99.0</td>\n",
       "      <td>75.0</td>\n",
       "      <td>155.0</td>\n",
       "      <td>20.0</td>\n",
       "    </tr>\n",
       "    <tr>\n",
       "      <th>51</th>\n",
       "      <td>493</td>\n",
       "      <td>80.0</td>\n",
       "      <td>107.0</td>\n",
       "      <td>85.0</td>\n",
       "      <td>149.0</td>\n",
       "      <td>20.0</td>\n",
       "    </tr>\n",
       "    <tr>\n",
       "      <th>52</th>\n",
       "      <td>493</td>\n",
       "      <td>78.0</td>\n",
       "      <td>103.0</td>\n",
       "      <td>82.0</td>\n",
       "      <td>143.0</td>\n",
       "      <td>20.0</td>\n",
       "    </tr>\n",
       "  </tbody>\n",
       "</table>\n",
       "<p>3790 rows × 6 columns</p>\n",
       "</div>"
      ],
      "text/plain": [
       "    Subject     HR    MAP   DBP    SBP  Resp\n",
       "0        14   58.0   71.5  49.0  123.5  11.0\n",
       "1        14   75.0   80.0  58.0  136.0  12.0\n",
       "2        14   75.0   80.0  58.0  136.0  12.0\n",
       "3        14   75.0   80.0  58.0  136.0  12.0\n",
       "4        14   76.5   82.0  62.0  137.0  16.5\n",
       "..      ...    ...    ...   ...    ...   ...\n",
       "48      493  102.0  109.0  86.0  150.0  23.0\n",
       "49      493   87.0  104.0  80.0  149.0  23.0\n",
       "50      493  105.0   99.0  75.0  155.0  20.0\n",
       "51      493   80.0  107.0  85.0  149.0  20.0\n",
       "52      493   78.0  103.0  82.0  143.0  20.0\n",
       "\n",
       "[3790 rows x 6 columns]"
      ]
     },
     "metadata": {},
     "output_type": "display_data"
    },
    {
     "data": {
      "text/html": [
       "<div>\n",
       "<style scoped>\n",
       "    .dataframe tbody tr th:only-of-type {\n",
       "        vertical-align: middle;\n",
       "    }\n",
       "\n",
       "    .dataframe tbody tr th {\n",
       "        vertical-align: top;\n",
       "    }\n",
       "\n",
       "    .dataframe thead th {\n",
       "        text-align: right;\n",
       "    }\n",
       "</style>\n",
       "<table border=\"1\" class=\"dataframe\">\n",
       "  <thead>\n",
       "    <tr style=\"text-align: right;\">\n",
       "      <th></th>\n",
       "      <th>Subject</th>\n",
       "      <th>HR</th>\n",
       "      <th>MAP</th>\n",
       "      <th>DBP</th>\n",
       "      <th>SBP</th>\n",
       "      <th>Resp</th>\n",
       "    </tr>\n",
       "  </thead>\n",
       "  <tbody>\n",
       "    <tr>\n",
       "      <th>0</th>\n",
       "      <td>2</td>\n",
       "      <td>77.0</td>\n",
       "      <td>102.0</td>\n",
       "      <td>74.0</td>\n",
       "      <td>161.0</td>\n",
       "      <td>18.5</td>\n",
       "    </tr>\n",
       "    <tr>\n",
       "      <th>1</th>\n",
       "      <td>2</td>\n",
       "      <td>78.0</td>\n",
       "      <td>102.0</td>\n",
       "      <td>74.0</td>\n",
       "      <td>129.0</td>\n",
       "      <td>18.0</td>\n",
       "    </tr>\n",
       "    <tr>\n",
       "      <th>2</th>\n",
       "      <td>2</td>\n",
       "      <td>74.0</td>\n",
       "      <td>102.0</td>\n",
       "      <td>74.0</td>\n",
       "      <td>144.5</td>\n",
       "      <td>20.0</td>\n",
       "    </tr>\n",
       "    <tr>\n",
       "      <th>3</th>\n",
       "      <td>2</td>\n",
       "      <td>77.0</td>\n",
       "      <td>103.0</td>\n",
       "      <td>78.0</td>\n",
       "      <td>150.5</td>\n",
       "      <td>18.0</td>\n",
       "    </tr>\n",
       "    <tr>\n",
       "      <th>4</th>\n",
       "      <td>2</td>\n",
       "      <td>78.0</td>\n",
       "      <td>99.0</td>\n",
       "      <td>80.0</td>\n",
       "      <td>134.0</td>\n",
       "      <td>18.0</td>\n",
       "    </tr>\n",
       "    <tr>\n",
       "      <th>...</th>\n",
       "      <td>...</td>\n",
       "      <td>...</td>\n",
       "      <td>...</td>\n",
       "      <td>...</td>\n",
       "      <td>...</td>\n",
       "      <td>...</td>\n",
       "    </tr>\n",
       "    <tr>\n",
       "      <th>121</th>\n",
       "      <td>175</td>\n",
       "      <td>109.0</td>\n",
       "      <td>100.0</td>\n",
       "      <td>65.0</td>\n",
       "      <td>94.0</td>\n",
       "      <td>31.0</td>\n",
       "    </tr>\n",
       "    <tr>\n",
       "      <th>122</th>\n",
       "      <td>175</td>\n",
       "      <td>99.0</td>\n",
       "      <td>77.0</td>\n",
       "      <td>65.0</td>\n",
       "      <td>94.0</td>\n",
       "      <td>16.0</td>\n",
       "    </tr>\n",
       "    <tr>\n",
       "      <th>123</th>\n",
       "      <td>175</td>\n",
       "      <td>113.0</td>\n",
       "      <td>105.0</td>\n",
       "      <td>65.0</td>\n",
       "      <td>94.0</td>\n",
       "      <td>21.0</td>\n",
       "    </tr>\n",
       "    <tr>\n",
       "      <th>124</th>\n",
       "      <td>175</td>\n",
       "      <td>110.0</td>\n",
       "      <td>105.0</td>\n",
       "      <td>65.0</td>\n",
       "      <td>94.0</td>\n",
       "      <td>18.0</td>\n",
       "    </tr>\n",
       "    <tr>\n",
       "      <th>125</th>\n",
       "      <td>175</td>\n",
       "      <td>112.0</td>\n",
       "      <td>90.0</td>\n",
       "      <td>65.0</td>\n",
       "      <td>94.0</td>\n",
       "      <td>23.0</td>\n",
       "    </tr>\n",
       "  </tbody>\n",
       "</table>\n",
       "<p>7667 rows × 6 columns</p>\n",
       "</div>"
      ],
      "text/plain": [
       "     Subject     HR    MAP   DBP    SBP  Resp\n",
       "0          2   77.0  102.0  74.0  161.0  18.5\n",
       "1          2   78.0  102.0  74.0  129.0  18.0\n",
       "2          2   74.0  102.0  74.0  144.5  20.0\n",
       "3          2   77.0  103.0  78.0  150.5  18.0\n",
       "4          2   78.0   99.0  80.0  134.0  18.0\n",
       "..       ...    ...    ...   ...    ...   ...\n",
       "121      175  109.0  100.0  65.0   94.0  31.0\n",
       "122      175   99.0   77.0  65.0   94.0  16.0\n",
       "123      175  113.0  105.0  65.0   94.0  21.0\n",
       "124      175  110.0  105.0  65.0   94.0  18.0\n",
       "125      175  112.0   90.0  65.0   94.0  23.0\n",
       "\n",
       "[7667 rows x 6 columns]"
      ]
     },
     "metadata": {},
     "output_type": "display_data"
    },
    {
     "data": {
      "text/plain": [
       "'Avg length:'"
      ]
     },
     "metadata": {},
     "output_type": "display_data"
    },
    {
     "data": {
      "text/plain": [
       "106.48611111111111"
      ]
     },
     "metadata": {},
     "output_type": "display_data"
    },
    {
     "data": {
      "text/plain": [
       "6"
      ]
     },
     "metadata": {},
     "output_type": "display_data"
    },
    {
     "data": {
      "text/plain": [
       "'X_1:'"
      ]
     },
     "metadata": {},
     "output_type": "display_data"
    },
    {
     "data": {
      "text/html": [
       "<div>\n",
       "<style scoped>\n",
       "    .dataframe tbody tr th:only-of-type {\n",
       "        vertical-align: middle;\n",
       "    }\n",
       "\n",
       "    .dataframe tbody tr th {\n",
       "        vertical-align: top;\n",
       "    }\n",
       "\n",
       "    .dataframe thead th {\n",
       "        text-align: right;\n",
       "    }\n",
       "</style>\n",
       "<table border=\"1\" class=\"dataframe\">\n",
       "  <thead>\n",
       "    <tr style=\"text-align: right;\">\n",
       "      <th></th>\n",
       "      <th>1</th>\n",
       "      <th>2</th>\n",
       "      <th>3</th>\n",
       "      <th>4</th>\n",
       "      <th>5</th>\n",
       "    </tr>\n",
       "  </thead>\n",
       "  <tbody>\n",
       "    <tr>\n",
       "      <th>0</th>\n",
       "      <td>0     -0.105458\n",
       "1      2.156868\n",
       "2      2.15686...</td>\n",
       "      <td>0     -2.226819\n",
       "1     -1.046605\n",
       "2     -1.04660...</td>\n",
       "      <td>0     -2.899032\n",
       "1     -1.326285\n",
       "2     -1.32628...</td>\n",
       "      <td>0     -1.365259\n",
       "1     -0.350125\n",
       "2     -0.35012...</td>\n",
       "      <td>0     -0.542939\n",
       "1     -0.029086\n",
       "2     -0.02908...</td>\n",
       "    </tr>\n",
       "    <tr>\n",
       "      <th>1</th>\n",
       "      <td>0     -1.086132\n",
       "1     -1.086132\n",
       "2     -0.87655...</td>\n",
       "      <td>0     -0.727819\n",
       "1     -0.727819\n",
       "2     -0.98801...</td>\n",
       "      <td>0     -1.194132\n",
       "1     -1.194132\n",
       "2     -1.26061...</td>\n",
       "      <td>0     -0.746295\n",
       "1     -0.746295\n",
       "2     -1.41598...</td>\n",
       "      <td>0     -0.656451\n",
       "1     -0.656451\n",
       "2     -1.44081...</td>\n",
       "    </tr>\n",
       "    <tr>\n",
       "      <th>2</th>\n",
       "      <td>0     -0.441790\n",
       "1     -0.339262\n",
       "2     -0.51868...</td>\n",
       "      <td>0     -0.011731\n",
       "1      0.521171\n",
       "2      0.58038...</td>\n",
       "      <td>0      0.622406\n",
       "1      0.622406\n",
       "2      0.77601...</td>\n",
       "      <td>0     -0.660632\n",
       "1     -0.320530\n",
       "2      0.01957...</td>\n",
       "      <td>0      0.129944\n",
       "1      0.659714\n",
       "2      0.92459...</td>\n",
       "    </tr>\n",
       "    <tr>\n",
       "      <th>3</th>\n",
       "      <td>0      3.186905\n",
       "1      2.687368\n",
       "2      2.93713...</td>\n",
       "      <td>0      1.754275\n",
       "1      1.818485\n",
       "2      1.69006...</td>\n",
       "      <td>0      0.656200\n",
       "1      1.026776\n",
       "2      2.58319...</td>\n",
       "      <td>0      1.502163\n",
       "1      1.565475\n",
       "2      1.37553...</td>\n",
       "      <td>0      0.393412\n",
       "1      1.891676\n",
       "2     -2.10369...</td>\n",
       "    </tr>\n",
       "    <tr>\n",
       "      <th>4</th>\n",
       "      <td>0     -0.866961\n",
       "1     -1.463458\n",
       "2     -1.76170...</td>\n",
       "      <td>0      6.174958\n",
       "1      0.460671\n",
       "2     -0.42986...</td>\n",
       "      <td>0      5.486180\n",
       "1      0.092835\n",
       "2     -0.85336...</td>\n",
       "      <td>0      5.608109\n",
       "1     -0.055790\n",
       "2     -0.83318...</td>\n",
       "      <td>0     -3.297001\n",
       "1     -2.740146\n",
       "2     -1.51506...</td>\n",
       "    </tr>\n",
       "    <tr>\n",
       "      <th>...</th>\n",
       "      <td>...</td>\n",
       "      <td>...</td>\n",
       "      <td>...</td>\n",
       "      <td>...</td>\n",
       "      <td>...</td>\n",
       "    </tr>\n",
       "    <tr>\n",
       "      <th>139</th>\n",
       "      <td>0      1.511999\n",
       "1      0.639111\n",
       "2      1.60898...</td>\n",
       "      <td>0     -0.257419\n",
       "1      0.084088\n",
       "2     -0.66722...</td>\n",
       "      <td>0      0.658101\n",
       "1      0.498956\n",
       "2      0.55200...</td>\n",
       "      <td>0     -0.746631\n",
       "1     -0.281084\n",
       "2     -0.20757...</td>\n",
       "      <td>0     -0.484875\n",
       "1     -0.484875\n",
       "2     -0.48487...</td>\n",
       "    </tr>\n",
       "    <tr>\n",
       "      <th>140</th>\n",
       "      <td>0     -0.709804\n",
       "1     -0.734702\n",
       "2     -0.95877...</td>\n",
       "      <td>0     -0.604892\n",
       "1     -0.653614\n",
       "2     -0.45872...</td>\n",
       "      <td>0     -0.371030\n",
       "1     -0.439191\n",
       "2     -0.84816...</td>\n",
       "      <td>0     -0.476280\n",
       "1     -0.528034\n",
       "2     -0.03637...</td>\n",
       "      <td>0     -0.543197\n",
       "1     -0.543197\n",
       "2     -0.17449...</td>\n",
       "    </tr>\n",
       "    <tr>\n",
       "      <th>141</th>\n",
       "      <td>0     -0.593188\n",
       "1     -0.482973\n",
       "2     -0.81362...</td>\n",
       "      <td>0      1.633853\n",
       "1     -0.252631\n",
       "2     -1.40292...</td>\n",
       "      <td>0      0.101221\n",
       "1     -0.700402\n",
       "2     -1.62535...</td>\n",
       "      <td>0      2.711120\n",
       "1     -0.052762\n",
       "2     -1.19083...</td>\n",
       "      <td>0     -2.354645\n",
       "1      0.265747\n",
       "2      0.26574...</td>\n",
       "    </tr>\n",
       "    <tr>\n",
       "      <th>142</th>\n",
       "      <td>0     -0.891320\n",
       "1     -0.743649\n",
       "2     -0.41877...</td>\n",
       "      <td>0     -0.722405\n",
       "1     -0.673287\n",
       "2     -0.67328...</td>\n",
       "      <td>0     -0.948864\n",
       "1     -0.505782\n",
       "2     -0.56908...</td>\n",
       "      <td>0     -0.415329\n",
       "1     -0.581964\n",
       "2     -0.64861...</td>\n",
       "      <td>0     -2.125695\n",
       "1     -2.125695\n",
       "2     -2.12569...</td>\n",
       "    </tr>\n",
       "    <tr>\n",
       "      <th>143</th>\n",
       "      <td>0      0.558850\n",
       "1      0.558850\n",
       "2     -0.23429...</td>\n",
       "      <td>0     -0.818955\n",
       "1     -0.818955\n",
       "2     -2.52109...</td>\n",
       "      <td>0     -0.806680\n",
       "1     -0.806680\n",
       "2     -2.72948...</td>\n",
       "      <td>0      0.779671\n",
       "1      0.779671\n",
       "2     -1.52596...</td>\n",
       "      <td>0      0.952129\n",
       "1      0.952129\n",
       "2      0.78077...</td>\n",
       "    </tr>\n",
       "  </tbody>\n",
       "</table>\n",
       "<p>144 rows × 5 columns</p>\n",
       "</div>"
      ],
      "text/plain": [
       "                                                     1  \\\n",
       "0    0     -0.105458\n",
       "1      2.156868\n",
       "2      2.15686...   \n",
       "1    0     -1.086132\n",
       "1     -1.086132\n",
       "2     -0.87655...   \n",
       "2    0     -0.441790\n",
       "1     -0.339262\n",
       "2     -0.51868...   \n",
       "3    0      3.186905\n",
       "1      2.687368\n",
       "2      2.93713...   \n",
       "4    0     -0.866961\n",
       "1     -1.463458\n",
       "2     -1.76170...   \n",
       "..                                                 ...   \n",
       "139  0      1.511999\n",
       "1      0.639111\n",
       "2      1.60898...   \n",
       "140  0     -0.709804\n",
       "1     -0.734702\n",
       "2     -0.95877...   \n",
       "141  0     -0.593188\n",
       "1     -0.482973\n",
       "2     -0.81362...   \n",
       "142  0     -0.891320\n",
       "1     -0.743649\n",
       "2     -0.41877...   \n",
       "143  0      0.558850\n",
       "1      0.558850\n",
       "2     -0.23429...   \n",
       "\n",
       "                                                     2  \\\n",
       "0    0     -2.226819\n",
       "1     -1.046605\n",
       "2     -1.04660...   \n",
       "1    0     -0.727819\n",
       "1     -0.727819\n",
       "2     -0.98801...   \n",
       "2    0     -0.011731\n",
       "1      0.521171\n",
       "2      0.58038...   \n",
       "3    0      1.754275\n",
       "1      1.818485\n",
       "2      1.69006...   \n",
       "4    0      6.174958\n",
       "1      0.460671\n",
       "2     -0.42986...   \n",
       "..                                                 ...   \n",
       "139  0     -0.257419\n",
       "1      0.084088\n",
       "2     -0.66722...   \n",
       "140  0     -0.604892\n",
       "1     -0.653614\n",
       "2     -0.45872...   \n",
       "141  0      1.633853\n",
       "1     -0.252631\n",
       "2     -1.40292...   \n",
       "142  0     -0.722405\n",
       "1     -0.673287\n",
       "2     -0.67328...   \n",
       "143  0     -0.818955\n",
       "1     -0.818955\n",
       "2     -2.52109...   \n",
       "\n",
       "                                                     3  \\\n",
       "0    0     -2.899032\n",
       "1     -1.326285\n",
       "2     -1.32628...   \n",
       "1    0     -1.194132\n",
       "1     -1.194132\n",
       "2     -1.26061...   \n",
       "2    0      0.622406\n",
       "1      0.622406\n",
       "2      0.77601...   \n",
       "3    0      0.656200\n",
       "1      1.026776\n",
       "2      2.58319...   \n",
       "4    0      5.486180\n",
       "1      0.092835\n",
       "2     -0.85336...   \n",
       "..                                                 ...   \n",
       "139  0      0.658101\n",
       "1      0.498956\n",
       "2      0.55200...   \n",
       "140  0     -0.371030\n",
       "1     -0.439191\n",
       "2     -0.84816...   \n",
       "141  0      0.101221\n",
       "1     -0.700402\n",
       "2     -1.62535...   \n",
       "142  0     -0.948864\n",
       "1     -0.505782\n",
       "2     -0.56908...   \n",
       "143  0     -0.806680\n",
       "1     -0.806680\n",
       "2     -2.72948...   \n",
       "\n",
       "                                                     4  \\\n",
       "0    0     -1.365259\n",
       "1     -0.350125\n",
       "2     -0.35012...   \n",
       "1    0     -0.746295\n",
       "1     -0.746295\n",
       "2     -1.41598...   \n",
       "2    0     -0.660632\n",
       "1     -0.320530\n",
       "2      0.01957...   \n",
       "3    0      1.502163\n",
       "1      1.565475\n",
       "2      1.37553...   \n",
       "4    0      5.608109\n",
       "1     -0.055790\n",
       "2     -0.83318...   \n",
       "..                                                 ...   \n",
       "139  0     -0.746631\n",
       "1     -0.281084\n",
       "2     -0.20757...   \n",
       "140  0     -0.476280\n",
       "1     -0.528034\n",
       "2     -0.03637...   \n",
       "141  0      2.711120\n",
       "1     -0.052762\n",
       "2     -1.19083...   \n",
       "142  0     -0.415329\n",
       "1     -0.581964\n",
       "2     -0.64861...   \n",
       "143  0      0.779671\n",
       "1      0.779671\n",
       "2     -1.52596...   \n",
       "\n",
       "                                                     5  \n",
       "0    0     -0.542939\n",
       "1     -0.029086\n",
       "2     -0.02908...  \n",
       "1    0     -0.656451\n",
       "1     -0.656451\n",
       "2     -1.44081...  \n",
       "2    0      0.129944\n",
       "1      0.659714\n",
       "2      0.92459...  \n",
       "3    0      0.393412\n",
       "1      1.891676\n",
       "2     -2.10369...  \n",
       "4    0     -3.297001\n",
       "1     -2.740146\n",
       "2     -1.51506...  \n",
       "..                                                 ...  \n",
       "139  0     -0.484875\n",
       "1     -0.484875\n",
       "2     -0.48487...  \n",
       "140  0     -0.543197\n",
       "1     -0.543197\n",
       "2     -0.17449...  \n",
       "141  0     -2.354645\n",
       "1      0.265747\n",
       "2      0.26574...  \n",
       "142  0     -2.125695\n",
       "1     -2.125695\n",
       "2     -2.12569...  \n",
       "143  0      0.952129\n",
       "1      0.952129\n",
       "2      0.78077...  \n",
       "\n",
       "[144 rows x 5 columns]"
      ]
     },
     "metadata": {},
     "output_type": "display_data"
    },
    {
     "data": {
      "text/plain": [
       "'Completed'"
      ]
     },
     "metadata": {},
     "output_type": "display_data"
    },
    {
     "data": {
      "text/plain": [
       "1"
      ]
     },
     "metadata": {},
     "output_type": "display_data"
    },
    {
     "data": {
      "text/plain": [
       "'Completed'"
      ]
     },
     "metadata": {},
     "output_type": "display_data"
    },
    {
     "data": {
      "text/plain": [
       "2"
      ]
     },
     "metadata": {},
     "output_type": "display_data"
    },
    {
     "data": {
      "text/plain": [
       "'Completed'"
      ]
     },
     "metadata": {},
     "output_type": "display_data"
    },
    {
     "data": {
      "text/plain": [
       "3"
      ]
     },
     "metadata": {},
     "output_type": "display_data"
    },
    {
     "data": {
      "text/plain": [
       "'Completed'"
      ]
     },
     "metadata": {},
     "output_type": "display_data"
    },
    {
     "data": {
      "text/plain": [
       "4"
      ]
     },
     "metadata": {},
     "output_type": "display_data"
    },
    {
     "data": {
      "text/plain": [
       "'Completed'"
      ]
     },
     "metadata": {},
     "output_type": "display_data"
    },
    {
     "data": {
      "text/plain": [
       "5"
      ]
     },
     "metadata": {},
     "output_type": "display_data"
    },
    {
     "data": {
      "text/plain": [
       "'Completed'"
      ]
     },
     "metadata": {},
     "output_type": "display_data"
    },
    {
     "data": {
      "text/plain": [
       "6"
      ]
     },
     "metadata": {},
     "output_type": "display_data"
    },
    {
     "data": {
      "text/plain": [
       "'Completed'"
      ]
     },
     "metadata": {},
     "output_type": "display_data"
    },
    {
     "data": {
      "text/plain": [
       "7"
      ]
     },
     "metadata": {},
     "output_type": "display_data"
    },
    {
     "data": {
      "text/plain": [
       "'Completed'"
      ]
     },
     "metadata": {},
     "output_type": "display_data"
    },
    {
     "data": {
      "text/plain": [
       "8"
      ]
     },
     "metadata": {},
     "output_type": "display_data"
    },
    {
     "data": {
      "text/plain": [
       "'Completed'"
      ]
     },
     "metadata": {},
     "output_type": "display_data"
    },
    {
     "data": {
      "text/plain": [
       "9"
      ]
     },
     "metadata": {},
     "output_type": "display_data"
    },
    {
     "data": {
      "text/plain": [
       "'Completed'"
      ]
     },
     "metadata": {},
     "output_type": "display_data"
    },
    {
     "data": {
      "text/plain": [
       "10"
      ]
     },
     "metadata": {},
     "output_type": "display_data"
    },
    {
     "data": {
      "text/plain": [
       "'Completed'"
      ]
     },
     "metadata": {},
     "output_type": "display_data"
    },
    {
     "data": {
      "text/plain": [
       "11"
      ]
     },
     "metadata": {},
     "output_type": "display_data"
    },
    {
     "data": {
      "text/plain": [
       "'Completed'"
      ]
     },
     "metadata": {},
     "output_type": "display_data"
    },
    {
     "data": {
      "text/plain": [
       "12"
      ]
     },
     "metadata": {},
     "output_type": "display_data"
    },
    {
     "data": {
      "text/plain": [
       "'Completed'"
      ]
     },
     "metadata": {},
     "output_type": "display_data"
    },
    {
     "data": {
      "text/plain": [
       "13"
      ]
     },
     "metadata": {},
     "output_type": "display_data"
    },
    {
     "data": {
      "text/plain": [
       "'Completed'"
      ]
     },
     "metadata": {},
     "output_type": "display_data"
    },
    {
     "data": {
      "text/plain": [
       "14"
      ]
     },
     "metadata": {},
     "output_type": "display_data"
    },
    {
     "data": {
      "text/plain": [
       "'Completed'"
      ]
     },
     "metadata": {},
     "output_type": "display_data"
    },
    {
     "data": {
      "text/plain": [
       "15"
      ]
     },
     "metadata": {},
     "output_type": "display_data"
    },
    {
     "data": {
      "text/plain": [
       "'Completed'"
      ]
     },
     "metadata": {},
     "output_type": "display_data"
    },
    {
     "data": {
      "text/plain": [
       "16"
      ]
     },
     "metadata": {},
     "output_type": "display_data"
    },
    {
     "data": {
      "text/plain": [
       "'Completed'"
      ]
     },
     "metadata": {},
     "output_type": "display_data"
    },
    {
     "data": {
      "text/plain": [
       "17"
      ]
     },
     "metadata": {},
     "output_type": "display_data"
    },
    {
     "data": {
      "text/plain": [
       "'Completed'"
      ]
     },
     "metadata": {},
     "output_type": "display_data"
    },
    {
     "data": {
      "text/plain": [
       "18"
      ]
     },
     "metadata": {},
     "output_type": "display_data"
    },
    {
     "data": {
      "text/plain": [
       "'Completed'"
      ]
     },
     "metadata": {},
     "output_type": "display_data"
    },
    {
     "data": {
      "text/plain": [
       "19"
      ]
     },
     "metadata": {},
     "output_type": "display_data"
    },
    {
     "data": {
      "text/plain": [
       "'Completed'"
      ]
     },
     "metadata": {},
     "output_type": "display_data"
    },
    {
     "data": {
      "text/plain": [
       "20"
      ]
     },
     "metadata": {},
     "output_type": "display_data"
    },
    {
     "data": {
      "text/plain": [
       "'Completed'"
      ]
     },
     "metadata": {},
     "output_type": "display_data"
    },
    {
     "data": {
      "text/plain": [
       "21"
      ]
     },
     "metadata": {},
     "output_type": "display_data"
    },
    {
     "data": {
      "text/plain": [
       "'Completed'"
      ]
     },
     "metadata": {},
     "output_type": "display_data"
    },
    {
     "data": {
      "text/plain": [
       "22"
      ]
     },
     "metadata": {},
     "output_type": "display_data"
    },
    {
     "data": {
      "text/plain": [
       "'Completed'"
      ]
     },
     "metadata": {},
     "output_type": "display_data"
    },
    {
     "data": {
      "text/plain": [
       "23"
      ]
     },
     "metadata": {},
     "output_type": "display_data"
    },
    {
     "data": {
      "text/plain": [
       "'Completed'"
      ]
     },
     "metadata": {},
     "output_type": "display_data"
    },
    {
     "data": {
      "text/plain": [
       "24"
      ]
     },
     "metadata": {},
     "output_type": "display_data"
    },
    {
     "data": {
      "text/plain": [
       "'Completed'"
      ]
     },
     "metadata": {},
     "output_type": "display_data"
    },
    {
     "data": {
      "text/plain": [
       "25"
      ]
     },
     "metadata": {},
     "output_type": "display_data"
    },
    {
     "data": {
      "text/plain": [
       "'Completed'"
      ]
     },
     "metadata": {},
     "output_type": "display_data"
    },
    {
     "data": {
      "text/plain": [
       "26"
      ]
     },
     "metadata": {},
     "output_type": "display_data"
    },
    {
     "data": {
      "text/plain": [
       "'Completed'"
      ]
     },
     "metadata": {},
     "output_type": "display_data"
    },
    {
     "data": {
      "text/plain": [
       "27"
      ]
     },
     "metadata": {},
     "output_type": "display_data"
    },
    {
     "data": {
      "text/plain": [
       "'Completed'"
      ]
     },
     "metadata": {},
     "output_type": "display_data"
    },
    {
     "data": {
      "text/plain": [
       "28"
      ]
     },
     "metadata": {},
     "output_type": "display_data"
    },
    {
     "data": {
      "text/plain": [
       "'Completed'"
      ]
     },
     "metadata": {},
     "output_type": "display_data"
    },
    {
     "data": {
      "text/plain": [
       "29"
      ]
     },
     "metadata": {},
     "output_type": "display_data"
    },
    {
     "data": {
      "text/plain": [
       "'Completed'"
      ]
     },
     "metadata": {},
     "output_type": "display_data"
    },
    {
     "data": {
      "text/plain": [
       "30"
      ]
     },
     "metadata": {},
     "output_type": "display_data"
    },
    {
     "data": {
      "text/plain": [
       "'Current key in progress'"
      ]
     },
     "metadata": {},
     "output_type": "display_data"
    },
    {
     "data": {
      "text/plain": [
       "'sample_numbers_list_0.2_to_0.3'"
      ]
     },
     "metadata": {},
     "output_type": "display_data"
    },
    {
     "data": {
      "text/plain": [
       "104"
      ]
     },
     "metadata": {},
     "output_type": "display_data"
    },
    {
     "data": {
      "text/html": [
       "<div>\n",
       "<style scoped>\n",
       "    .dataframe tbody tr th:only-of-type {\n",
       "        vertical-align: middle;\n",
       "    }\n",
       "\n",
       "    .dataframe tbody tr th {\n",
       "        vertical-align: top;\n",
       "    }\n",
       "\n",
       "    .dataframe thead th {\n",
       "        text-align: right;\n",
       "    }\n",
       "</style>\n",
       "<table border=\"1\" class=\"dataframe\">\n",
       "  <thead>\n",
       "    <tr style=\"text-align: right;\">\n",
       "      <th></th>\n",
       "      <th>Subject</th>\n",
       "      <th>HR</th>\n",
       "      <th>MAP</th>\n",
       "      <th>DBP</th>\n",
       "      <th>SBP</th>\n",
       "      <th>Resp</th>\n",
       "    </tr>\n",
       "  </thead>\n",
       "  <tbody>\n",
       "    <tr>\n",
       "      <th>0</th>\n",
       "      <td>3</td>\n",
       "      <td>89.0</td>\n",
       "      <td>67.0</td>\n",
       "      <td>50.0</td>\n",
       "      <td>97.0</td>\n",
       "      <td>12.0</td>\n",
       "    </tr>\n",
       "    <tr>\n",
       "      <th>1</th>\n",
       "      <td>3</td>\n",
       "      <td>90.0</td>\n",
       "      <td>71.5</td>\n",
       "      <td>54.5</td>\n",
       "      <td>114.0</td>\n",
       "      <td>11.5</td>\n",
       "    </tr>\n",
       "    <tr>\n",
       "      <th>2</th>\n",
       "      <td>3</td>\n",
       "      <td>98.0</td>\n",
       "      <td>76.0</td>\n",
       "      <td>60.5</td>\n",
       "      <td>114.5</td>\n",
       "      <td>19.0</td>\n",
       "    </tr>\n",
       "    <tr>\n",
       "      <th>3</th>\n",
       "      <td>3</td>\n",
       "      <td>108.0</td>\n",
       "      <td>72.0</td>\n",
       "      <td>59.5</td>\n",
       "      <td>102.5</td>\n",
       "      <td>19.0</td>\n",
       "    </tr>\n",
       "    <tr>\n",
       "      <th>4</th>\n",
       "      <td>3</td>\n",
       "      <td>111.0</td>\n",
       "      <td>72.0</td>\n",
       "      <td>61.0</td>\n",
       "      <td>100.0</td>\n",
       "      <td>18.0</td>\n",
       "    </tr>\n",
       "    <tr>\n",
       "      <th>...</th>\n",
       "      <td>...</td>\n",
       "      <td>...</td>\n",
       "      <td>...</td>\n",
       "      <td>...</td>\n",
       "      <td>...</td>\n",
       "      <td>...</td>\n",
       "    </tr>\n",
       "    <tr>\n",
       "      <th>50</th>\n",
       "      <td>496</td>\n",
       "      <td>94.0</td>\n",
       "      <td>94.0</td>\n",
       "      <td>75.0</td>\n",
       "      <td>141.0</td>\n",
       "      <td>20.0</td>\n",
       "    </tr>\n",
       "    <tr>\n",
       "      <th>51</th>\n",
       "      <td>496</td>\n",
       "      <td>87.0</td>\n",
       "      <td>100.0</td>\n",
       "      <td>80.0</td>\n",
       "      <td>159.0</td>\n",
       "      <td>18.0</td>\n",
       "    </tr>\n",
       "    <tr>\n",
       "      <th>52</th>\n",
       "      <td>496</td>\n",
       "      <td>89.0</td>\n",
       "      <td>96.0</td>\n",
       "      <td>80.0</td>\n",
       "      <td>159.0</td>\n",
       "      <td>19.0</td>\n",
       "    </tr>\n",
       "    <tr>\n",
       "      <th>53</th>\n",
       "      <td>496</td>\n",
       "      <td>87.0</td>\n",
       "      <td>71.0</td>\n",
       "      <td>80.0</td>\n",
       "      <td>159.0</td>\n",
       "      <td>20.0</td>\n",
       "    </tr>\n",
       "    <tr>\n",
       "      <th>54</th>\n",
       "      <td>496</td>\n",
       "      <td>87.0</td>\n",
       "      <td>74.0</td>\n",
       "      <td>80.0</td>\n",
       "      <td>159.0</td>\n",
       "      <td>32.0</td>\n",
       "    </tr>\n",
       "  </tbody>\n",
       "</table>\n",
       "<p>5503 rows × 6 columns</p>\n",
       "</div>"
      ],
      "text/plain": [
       "    Subject     HR    MAP   DBP    SBP  Resp\n",
       "0         3   89.0   67.0  50.0   97.0  12.0\n",
       "1         3   90.0   71.5  54.5  114.0  11.5\n",
       "2         3   98.0   76.0  60.5  114.5  19.0\n",
       "3         3  108.0   72.0  59.5  102.5  19.0\n",
       "4         3  111.0   72.0  61.0  100.0  18.0\n",
       "..      ...    ...    ...   ...    ...   ...\n",
       "50      496   94.0   94.0  75.0  141.0  20.0\n",
       "51      496   87.0  100.0  80.0  159.0  18.0\n",
       "52      496   89.0   96.0  80.0  159.0  19.0\n",
       "53      496   87.0   71.0  80.0  159.0  20.0\n",
       "54      496   87.0   74.0  80.0  159.0  32.0\n",
       "\n",
       "[5503 rows x 6 columns]"
      ]
     },
     "metadata": {},
     "output_type": "display_data"
    },
    {
     "data": {
      "text/html": [
       "<div>\n",
       "<style scoped>\n",
       "    .dataframe tbody tr th:only-of-type {\n",
       "        vertical-align: middle;\n",
       "    }\n",
       "\n",
       "    .dataframe tbody tr th {\n",
       "        vertical-align: top;\n",
       "    }\n",
       "\n",
       "    .dataframe thead th {\n",
       "        text-align: right;\n",
       "    }\n",
       "</style>\n",
       "<table border=\"1\" class=\"dataframe\">\n",
       "  <thead>\n",
       "    <tr style=\"text-align: right;\">\n",
       "      <th></th>\n",
       "      <th>Subject</th>\n",
       "      <th>HR</th>\n",
       "      <th>MAP</th>\n",
       "      <th>DBP</th>\n",
       "      <th>SBP</th>\n",
       "      <th>Resp</th>\n",
       "    </tr>\n",
       "  </thead>\n",
       "  <tbody>\n",
       "    <tr>\n",
       "      <th>0</th>\n",
       "      <td>2</td>\n",
       "      <td>77.0</td>\n",
       "      <td>102.0</td>\n",
       "      <td>74.0</td>\n",
       "      <td>161.0</td>\n",
       "      <td>18.5</td>\n",
       "    </tr>\n",
       "    <tr>\n",
       "      <th>1</th>\n",
       "      <td>2</td>\n",
       "      <td>78.0</td>\n",
       "      <td>102.0</td>\n",
       "      <td>74.0</td>\n",
       "      <td>129.0</td>\n",
       "      <td>18.0</td>\n",
       "    </tr>\n",
       "    <tr>\n",
       "      <th>2</th>\n",
       "      <td>2</td>\n",
       "      <td>74.0</td>\n",
       "      <td>102.0</td>\n",
       "      <td>74.0</td>\n",
       "      <td>144.5</td>\n",
       "      <td>20.0</td>\n",
       "    </tr>\n",
       "    <tr>\n",
       "      <th>3</th>\n",
       "      <td>2</td>\n",
       "      <td>77.0</td>\n",
       "      <td>103.0</td>\n",
       "      <td>78.0</td>\n",
       "      <td>150.5</td>\n",
       "      <td>18.0</td>\n",
       "    </tr>\n",
       "    <tr>\n",
       "      <th>4</th>\n",
       "      <td>2</td>\n",
       "      <td>78.0</td>\n",
       "      <td>99.0</td>\n",
       "      <td>80.0</td>\n",
       "      <td>134.0</td>\n",
       "      <td>18.0</td>\n",
       "    </tr>\n",
       "    <tr>\n",
       "      <th>...</th>\n",
       "      <td>...</td>\n",
       "      <td>...</td>\n",
       "      <td>...</td>\n",
       "      <td>...</td>\n",
       "      <td>...</td>\n",
       "      <td>...</td>\n",
       "    </tr>\n",
       "    <tr>\n",
       "      <th>121</th>\n",
       "      <td>175</td>\n",
       "      <td>109.0</td>\n",
       "      <td>100.0</td>\n",
       "      <td>65.0</td>\n",
       "      <td>94.0</td>\n",
       "      <td>31.0</td>\n",
       "    </tr>\n",
       "    <tr>\n",
       "      <th>122</th>\n",
       "      <td>175</td>\n",
       "      <td>99.0</td>\n",
       "      <td>77.0</td>\n",
       "      <td>65.0</td>\n",
       "      <td>94.0</td>\n",
       "      <td>16.0</td>\n",
       "    </tr>\n",
       "    <tr>\n",
       "      <th>123</th>\n",
       "      <td>175</td>\n",
       "      <td>113.0</td>\n",
       "      <td>105.0</td>\n",
       "      <td>65.0</td>\n",
       "      <td>94.0</td>\n",
       "      <td>21.0</td>\n",
       "    </tr>\n",
       "    <tr>\n",
       "      <th>124</th>\n",
       "      <td>175</td>\n",
       "      <td>110.0</td>\n",
       "      <td>105.0</td>\n",
       "      <td>65.0</td>\n",
       "      <td>94.0</td>\n",
       "      <td>18.0</td>\n",
       "    </tr>\n",
       "    <tr>\n",
       "      <th>125</th>\n",
       "      <td>175</td>\n",
       "      <td>112.0</td>\n",
       "      <td>90.0</td>\n",
       "      <td>65.0</td>\n",
       "      <td>94.0</td>\n",
       "      <td>23.0</td>\n",
       "    </tr>\n",
       "  </tbody>\n",
       "</table>\n",
       "<p>11360 rows × 6 columns</p>\n",
       "</div>"
      ],
      "text/plain": [
       "     Subject     HR    MAP   DBP    SBP  Resp\n",
       "0          2   77.0  102.0  74.0  161.0  18.5\n",
       "1          2   78.0  102.0  74.0  129.0  18.0\n",
       "2          2   74.0  102.0  74.0  144.5  20.0\n",
       "3          2   77.0  103.0  78.0  150.5  18.0\n",
       "4          2   78.0   99.0  80.0  134.0  18.0\n",
       "..       ...    ...    ...   ...    ...   ...\n",
       "121      175  109.0  100.0  65.0   94.0  31.0\n",
       "122      175   99.0   77.0  65.0   94.0  16.0\n",
       "123      175  113.0  105.0  65.0   94.0  21.0\n",
       "124      175  110.0  105.0  65.0   94.0  18.0\n",
       "125      175  112.0   90.0  65.0   94.0  23.0\n",
       "\n",
       "[11360 rows x 6 columns]"
      ]
     },
     "metadata": {},
     "output_type": "display_data"
    },
    {
     "data": {
      "text/plain": [
       "'Avg length:'"
      ]
     },
     "metadata": {},
     "output_type": "display_data"
    },
    {
     "data": {
      "text/plain": [
       "109.23076923076923"
      ]
     },
     "metadata": {},
     "output_type": "display_data"
    },
    {
     "data": {
      "text/plain": [
       "6"
      ]
     },
     "metadata": {},
     "output_type": "display_data"
    },
    {
     "data": {
      "text/plain": [
       "'X_1:'"
      ]
     },
     "metadata": {},
     "output_type": "display_data"
    },
    {
     "data": {
      "text/html": [
       "<div>\n",
       "<style scoped>\n",
       "    .dataframe tbody tr th:only-of-type {\n",
       "        vertical-align: middle;\n",
       "    }\n",
       "\n",
       "    .dataframe tbody tr th {\n",
       "        vertical-align: top;\n",
       "    }\n",
       "\n",
       "    .dataframe thead th {\n",
       "        text-align: right;\n",
       "    }\n",
       "</style>\n",
       "<table border=\"1\" class=\"dataframe\">\n",
       "  <thead>\n",
       "    <tr style=\"text-align: right;\">\n",
       "      <th></th>\n",
       "      <th>1</th>\n",
       "      <th>2</th>\n",
       "      <th>3</th>\n",
       "      <th>4</th>\n",
       "      <th>5</th>\n",
       "    </tr>\n",
       "  </thead>\n",
       "  <tbody>\n",
       "    <tr>\n",
       "      <th>0</th>\n",
       "      <td>0     -3.564786\n",
       "1     -3.383258\n",
       "2     -1.93103...</td>\n",
       "      <td>0      0.433371\n",
       "1      1.501554\n",
       "2      2.56973...</td>\n",
       "      <td>0      0.731196\n",
       "1      1.502490\n",
       "2      2.53088...</td>\n",
       "      <td>0     -1.552157\n",
       "1      0.212080\n",
       "2      0.26396...</td>\n",
       "      <td>0     -3.942636\n",
       "1     -4.143077\n",
       "2     -1.13645...</td>\n",
       "    </tr>\n",
       "    <tr>\n",
       "      <th>1</th>\n",
       "      <td>0     -0.145482\n",
       "1     -1.677179\n",
       "2     -1.04648...</td>\n",
       "      <td>0      4.969324\n",
       "1      2.082431\n",
       "2     -1.59179...</td>\n",
       "      <td>0      3.533118\n",
       "1      1.442024\n",
       "2     -2.04313...</td>\n",
       "      <td>0      4.291319\n",
       "1      2.656595\n",
       "2     -0.86053...</td>\n",
       "      <td>0     -2.489027\n",
       "1     -0.784053\n",
       "2      1.34716...</td>\n",
       "    </tr>\n",
       "    <tr>\n",
       "      <th>2</th>\n",
       "      <td>0     -0.092539\n",
       "1      2.193802\n",
       "2      2.19380...</td>\n",
       "      <td>0     -2.263661\n",
       "1     -1.073038\n",
       "2     -1.07303...</td>\n",
       "      <td>0     -2.944664\n",
       "1     -1.353523\n",
       "2     -1.35352...</td>\n",
       "      <td>0     -1.394522\n",
       "1     -0.370520\n",
       "2     -0.37052...</td>\n",
       "      <td>0     -0.533305\n",
       "1     -0.014285\n",
       "2     -0.01428...</td>\n",
       "    </tr>\n",
       "    <tr>\n",
       "      <th>3</th>\n",
       "      <td>0     -1.091143\n",
       "1     -1.091143\n",
       "2     -0.87888...</td>\n",
       "      <td>0     -0.742902\n",
       "1     -0.742902\n",
       "2     -1.00666...</td>\n",
       "      <td>0     -1.221730\n",
       "1     -1.221730\n",
       "2     -1.28881...</td>\n",
       "      <td>0     -0.768335\n",
       "1     -0.768335\n",
       "2     -1.44509...</td>\n",
       "      <td>0     -0.647905\n",
       "1     -0.647905\n",
       "2     -1.44013...</td>\n",
       "    </tr>\n",
       "    <tr>\n",
       "      <th>4</th>\n",
       "      <td>0     -0.468615\n",
       "1     -0.365892\n",
       "2     -0.54565...</td>\n",
       "      <td>0      0.009834\n",
       "1      0.545767\n",
       "2      0.60531...</td>\n",
       "      <td>0      0.647277\n",
       "1      0.647277\n",
       "2      0.80182...</td>\n",
       "      <td>0     -0.644925\n",
       "1     -0.302515\n",
       "2      0.03989...</td>\n",
       "      <td>0      0.149427\n",
       "1      0.683444\n",
       "2      0.95045...</td>\n",
       "    </tr>\n",
       "    <tr>\n",
       "      <th>...</th>\n",
       "      <td>...</td>\n",
       "      <td>...</td>\n",
       "      <td>...</td>\n",
       "      <td>...</td>\n",
       "      <td>...</td>\n",
       "    </tr>\n",
       "    <tr>\n",
       "      <th>203</th>\n",
       "      <td>0     -0.704896\n",
       "1     -0.729858\n",
       "2     -0.95451...</td>\n",
       "      <td>0     -0.605291\n",
       "1     -0.652825\n",
       "2     -0.46269...</td>\n",
       "      <td>0     -0.368696\n",
       "1     -0.436467\n",
       "2     -0.84309...</td>\n",
       "      <td>0     -0.483563\n",
       "1     -0.534026\n",
       "2     -0.05462...</td>\n",
       "      <td>0     -0.541624\n",
       "1     -0.541624\n",
       "2     -0.16836...</td>\n",
       "    </tr>\n",
       "    <tr>\n",
       "      <th>204</th>\n",
       "      <td>0     -0.617524\n",
       "1     -0.506726\n",
       "2     -0.83912...</td>\n",
       "      <td>0      1.634187\n",
       "1     -0.269666\n",
       "2     -1.43055...</td>\n",
       "      <td>0      0.084377\n",
       "1     -0.723475\n",
       "2     -1.65561...</td>\n",
       "      <td>0      2.734129\n",
       "1     -0.061865\n",
       "2     -1.21315...</td>\n",
       "      <td>0     -2.389667\n",
       "1      0.263715\n",
       "2      0.26371...</td>\n",
       "    </tr>\n",
       "    <tr>\n",
       "      <th>205</th>\n",
       "      <td>0     -0.821041\n",
       "1     -0.677254\n",
       "2     -0.36092...</td>\n",
       "      <td>0     -0.715229\n",
       "1     -0.665604\n",
       "2     -0.66560...</td>\n",
       "      <td>0     -0.921054\n",
       "1     -0.477949\n",
       "2     -0.54125...</td>\n",
       "      <td>0     -0.419846\n",
       "1     -0.588839\n",
       "2     -0.65643...</td>\n",
       "      <td>0     -2.049411\n",
       "1     -2.049411\n",
       "2     -2.04941...</td>\n",
       "    </tr>\n",
       "    <tr>\n",
       "      <th>206</th>\n",
       "      <td>0      2.117714\n",
       "1      0.853176\n",
       "2      1.48544...</td>\n",
       "      <td>0     -0.741608\n",
       "1     -1.691784\n",
       "2     -1.44544...</td>\n",
       "      <td>0     -1.122280\n",
       "1     -2.152415\n",
       "2     -1.29396...</td>\n",
       "      <td>0      0.176176\n",
       "1     -2.340106\n",
       "2     -2.14145...</td>\n",
       "      <td>0     -0.052018\n",
       "1     -0.052018\n",
       "2      0.19450...</td>\n",
       "    </tr>\n",
       "    <tr>\n",
       "      <th>207</th>\n",
       "      <td>0      0.565728\n",
       "1      0.565728\n",
       "2     -0.23316...</td>\n",
       "      <td>0     -0.808873\n",
       "1     -0.808873\n",
       "2     -2.49866...</td>\n",
       "      <td>0     -0.805254\n",
       "1     -0.805254\n",
       "2     -2.69882...</td>\n",
       "      <td>0      0.802723\n",
       "1      0.802723\n",
       "2     -1.44974...</td>\n",
       "      <td>0      0.932874\n",
       "1      0.932874\n",
       "2      0.76111...</td>\n",
       "    </tr>\n",
       "  </tbody>\n",
       "</table>\n",
       "<p>208 rows × 5 columns</p>\n",
       "</div>"
      ],
      "text/plain": [
       "                                                     1  \\\n",
       "0    0     -3.564786\n",
       "1     -3.383258\n",
       "2     -1.93103...   \n",
       "1    0     -0.145482\n",
       "1     -1.677179\n",
       "2     -1.04648...   \n",
       "2    0     -0.092539\n",
       "1      2.193802\n",
       "2      2.19380...   \n",
       "3    0     -1.091143\n",
       "1     -1.091143\n",
       "2     -0.87888...   \n",
       "4    0     -0.468615\n",
       "1     -0.365892\n",
       "2     -0.54565...   \n",
       "..                                                 ...   \n",
       "203  0     -0.704896\n",
       "1     -0.729858\n",
       "2     -0.95451...   \n",
       "204  0     -0.617524\n",
       "1     -0.506726\n",
       "2     -0.83912...   \n",
       "205  0     -0.821041\n",
       "1     -0.677254\n",
       "2     -0.36092...   \n",
       "206  0      2.117714\n",
       "1      0.853176\n",
       "2      1.48544...   \n",
       "207  0      0.565728\n",
       "1      0.565728\n",
       "2     -0.23316...   \n",
       "\n",
       "                                                     2  \\\n",
       "0    0      0.433371\n",
       "1      1.501554\n",
       "2      2.56973...   \n",
       "1    0      4.969324\n",
       "1      2.082431\n",
       "2     -1.59179...   \n",
       "2    0     -2.263661\n",
       "1     -1.073038\n",
       "2     -1.07303...   \n",
       "3    0     -0.742902\n",
       "1     -0.742902\n",
       "2     -1.00666...   \n",
       "4    0      0.009834\n",
       "1      0.545767\n",
       "2      0.60531...   \n",
       "..                                                 ...   \n",
       "203  0     -0.605291\n",
       "1     -0.652825\n",
       "2     -0.46269...   \n",
       "204  0      1.634187\n",
       "1     -0.269666\n",
       "2     -1.43055...   \n",
       "205  0     -0.715229\n",
       "1     -0.665604\n",
       "2     -0.66560...   \n",
       "206  0     -0.741608\n",
       "1     -1.691784\n",
       "2     -1.44544...   \n",
       "207  0     -0.808873\n",
       "1     -0.808873\n",
       "2     -2.49866...   \n",
       "\n",
       "                                                     3  \\\n",
       "0    0      0.731196\n",
       "1      1.502490\n",
       "2      2.53088...   \n",
       "1    0      3.533118\n",
       "1      1.442024\n",
       "2     -2.04313...   \n",
       "2    0     -2.944664\n",
       "1     -1.353523\n",
       "2     -1.35352...   \n",
       "3    0     -1.221730\n",
       "1     -1.221730\n",
       "2     -1.28881...   \n",
       "4    0      0.647277\n",
       "1      0.647277\n",
       "2      0.80182...   \n",
       "..                                                 ...   \n",
       "203  0     -0.368696\n",
       "1     -0.436467\n",
       "2     -0.84309...   \n",
       "204  0      0.084377\n",
       "1     -0.723475\n",
       "2     -1.65561...   \n",
       "205  0     -0.921054\n",
       "1     -0.477949\n",
       "2     -0.54125...   \n",
       "206  0     -1.122280\n",
       "1     -2.152415\n",
       "2     -1.29396...   \n",
       "207  0     -0.805254\n",
       "1     -0.805254\n",
       "2     -2.69882...   \n",
       "\n",
       "                                                     4  \\\n",
       "0    0     -1.552157\n",
       "1      0.212080\n",
       "2      0.26396...   \n",
       "1    0      4.291319\n",
       "1      2.656595\n",
       "2     -0.86053...   \n",
       "2    0     -1.394522\n",
       "1     -0.370520\n",
       "2     -0.37052...   \n",
       "3    0     -0.768335\n",
       "1     -0.768335\n",
       "2     -1.44509...   \n",
       "4    0     -0.644925\n",
       "1     -0.302515\n",
       "2      0.03989...   \n",
       "..                                                 ...   \n",
       "203  0     -0.483563\n",
       "1     -0.534026\n",
       "2     -0.05462...   \n",
       "204  0      2.734129\n",
       "1     -0.061865\n",
       "2     -1.21315...   \n",
       "205  0     -0.419846\n",
       "1     -0.588839\n",
       "2     -0.65643...   \n",
       "206  0      0.176176\n",
       "1     -2.340106\n",
       "2     -2.14145...   \n",
       "207  0      0.802723\n",
       "1      0.802723\n",
       "2     -1.44974...   \n",
       "\n",
       "                                                     5  \n",
       "0    0     -3.942636\n",
       "1     -4.143077\n",
       "2     -1.13645...  \n",
       "1    0     -2.489027\n",
       "1     -0.784053\n",
       "2      1.34716...  \n",
       "2    0     -0.533305\n",
       "1     -0.014285\n",
       "2     -0.01428...  \n",
       "3    0     -0.647905\n",
       "1     -0.647905\n",
       "2     -1.44013...  \n",
       "4    0      0.149427\n",
       "1      0.683444\n",
       "2      0.95045...  \n",
       "..                                                 ...  \n",
       "203  0     -0.541624\n",
       "1     -0.541624\n",
       "2     -0.16836...  \n",
       "204  0     -2.389667\n",
       "1      0.263715\n",
       "2      0.26371...  \n",
       "205  0     -2.049411\n",
       "1     -2.049411\n",
       "2     -2.04941...  \n",
       "206  0     -0.052018\n",
       "1     -0.052018\n",
       "2      0.19450...  \n",
       "207  0      0.932874\n",
       "1      0.932874\n",
       "2      0.76111...  \n",
       "\n",
       "[208 rows x 5 columns]"
      ]
     },
     "metadata": {},
     "output_type": "display_data"
    },
    {
     "data": {
      "text/plain": [
       "'Completed'"
      ]
     },
     "metadata": {},
     "output_type": "display_data"
    },
    {
     "data": {
      "text/plain": [
       "1"
      ]
     },
     "metadata": {},
     "output_type": "display_data"
    },
    {
     "data": {
      "text/plain": [
       "'Completed'"
      ]
     },
     "metadata": {},
     "output_type": "display_data"
    },
    {
     "data": {
      "text/plain": [
       "2"
      ]
     },
     "metadata": {},
     "output_type": "display_data"
    },
    {
     "data": {
      "text/plain": [
       "'Completed'"
      ]
     },
     "metadata": {},
     "output_type": "display_data"
    },
    {
     "data": {
      "text/plain": [
       "3"
      ]
     },
     "metadata": {},
     "output_type": "display_data"
    },
    {
     "data": {
      "text/plain": [
       "'Completed'"
      ]
     },
     "metadata": {},
     "output_type": "display_data"
    },
    {
     "data": {
      "text/plain": [
       "4"
      ]
     },
     "metadata": {},
     "output_type": "display_data"
    },
    {
     "data": {
      "text/plain": [
       "'Completed'"
      ]
     },
     "metadata": {},
     "output_type": "display_data"
    },
    {
     "data": {
      "text/plain": [
       "5"
      ]
     },
     "metadata": {},
     "output_type": "display_data"
    },
    {
     "data": {
      "text/plain": [
       "'Completed'"
      ]
     },
     "metadata": {},
     "output_type": "display_data"
    },
    {
     "data": {
      "text/plain": [
       "6"
      ]
     },
     "metadata": {},
     "output_type": "display_data"
    },
    {
     "data": {
      "text/plain": [
       "'Completed'"
      ]
     },
     "metadata": {},
     "output_type": "display_data"
    },
    {
     "data": {
      "text/plain": [
       "7"
      ]
     },
     "metadata": {},
     "output_type": "display_data"
    },
    {
     "data": {
      "text/plain": [
       "'Completed'"
      ]
     },
     "metadata": {},
     "output_type": "display_data"
    },
    {
     "data": {
      "text/plain": [
       "8"
      ]
     },
     "metadata": {},
     "output_type": "display_data"
    },
    {
     "data": {
      "text/plain": [
       "'Completed'"
      ]
     },
     "metadata": {},
     "output_type": "display_data"
    },
    {
     "data": {
      "text/plain": [
       "9"
      ]
     },
     "metadata": {},
     "output_type": "display_data"
    },
    {
     "data": {
      "text/plain": [
       "'Completed'"
      ]
     },
     "metadata": {},
     "output_type": "display_data"
    },
    {
     "data": {
      "text/plain": [
       "10"
      ]
     },
     "metadata": {},
     "output_type": "display_data"
    },
    {
     "data": {
      "text/plain": [
       "'Completed'"
      ]
     },
     "metadata": {},
     "output_type": "display_data"
    },
    {
     "data": {
      "text/plain": [
       "11"
      ]
     },
     "metadata": {},
     "output_type": "display_data"
    },
    {
     "data": {
      "text/plain": [
       "'Completed'"
      ]
     },
     "metadata": {},
     "output_type": "display_data"
    },
    {
     "data": {
      "text/plain": [
       "12"
      ]
     },
     "metadata": {},
     "output_type": "display_data"
    },
    {
     "data": {
      "text/plain": [
       "'Completed'"
      ]
     },
     "metadata": {},
     "output_type": "display_data"
    },
    {
     "data": {
      "text/plain": [
       "13"
      ]
     },
     "metadata": {},
     "output_type": "display_data"
    },
    {
     "data": {
      "text/plain": [
       "'Completed'"
      ]
     },
     "metadata": {},
     "output_type": "display_data"
    },
    {
     "data": {
      "text/plain": [
       "14"
      ]
     },
     "metadata": {},
     "output_type": "display_data"
    },
    {
     "data": {
      "text/plain": [
       "'Completed'"
      ]
     },
     "metadata": {},
     "output_type": "display_data"
    },
    {
     "data": {
      "text/plain": [
       "15"
      ]
     },
     "metadata": {},
     "output_type": "display_data"
    },
    {
     "data": {
      "text/plain": [
       "'Completed'"
      ]
     },
     "metadata": {},
     "output_type": "display_data"
    },
    {
     "data": {
      "text/plain": [
       "16"
      ]
     },
     "metadata": {},
     "output_type": "display_data"
    },
    {
     "data": {
      "text/plain": [
       "'Completed'"
      ]
     },
     "metadata": {},
     "output_type": "display_data"
    },
    {
     "data": {
      "text/plain": [
       "17"
      ]
     },
     "metadata": {},
     "output_type": "display_data"
    },
    {
     "data": {
      "text/plain": [
       "'Completed'"
      ]
     },
     "metadata": {},
     "output_type": "display_data"
    },
    {
     "data": {
      "text/plain": [
       "18"
      ]
     },
     "metadata": {},
     "output_type": "display_data"
    },
    {
     "data": {
      "text/plain": [
       "'Completed'"
      ]
     },
     "metadata": {},
     "output_type": "display_data"
    },
    {
     "data": {
      "text/plain": [
       "19"
      ]
     },
     "metadata": {},
     "output_type": "display_data"
    },
    {
     "data": {
      "text/plain": [
       "'Completed'"
      ]
     },
     "metadata": {},
     "output_type": "display_data"
    },
    {
     "data": {
      "text/plain": [
       "20"
      ]
     },
     "metadata": {},
     "output_type": "display_data"
    },
    {
     "data": {
      "text/plain": [
       "'Completed'"
      ]
     },
     "metadata": {},
     "output_type": "display_data"
    },
    {
     "data": {
      "text/plain": [
       "21"
      ]
     },
     "metadata": {},
     "output_type": "display_data"
    },
    {
     "data": {
      "text/plain": [
       "'Completed'"
      ]
     },
     "metadata": {},
     "output_type": "display_data"
    },
    {
     "data": {
      "text/plain": [
       "22"
      ]
     },
     "metadata": {},
     "output_type": "display_data"
    },
    {
     "data": {
      "text/plain": [
       "'Completed'"
      ]
     },
     "metadata": {},
     "output_type": "display_data"
    },
    {
     "data": {
      "text/plain": [
       "23"
      ]
     },
     "metadata": {},
     "output_type": "display_data"
    },
    {
     "data": {
      "text/plain": [
       "'Completed'"
      ]
     },
     "metadata": {},
     "output_type": "display_data"
    },
    {
     "data": {
      "text/plain": [
       "24"
      ]
     },
     "metadata": {},
     "output_type": "display_data"
    },
    {
     "data": {
      "text/plain": [
       "'Completed'"
      ]
     },
     "metadata": {},
     "output_type": "display_data"
    },
    {
     "data": {
      "text/plain": [
       "25"
      ]
     },
     "metadata": {},
     "output_type": "display_data"
    },
    {
     "data": {
      "text/plain": [
       "'Completed'"
      ]
     },
     "metadata": {},
     "output_type": "display_data"
    },
    {
     "data": {
      "text/plain": [
       "26"
      ]
     },
     "metadata": {},
     "output_type": "display_data"
    },
    {
     "data": {
      "text/plain": [
       "'Completed'"
      ]
     },
     "metadata": {},
     "output_type": "display_data"
    },
    {
     "data": {
      "text/plain": [
       "27"
      ]
     },
     "metadata": {},
     "output_type": "display_data"
    },
    {
     "data": {
      "text/plain": [
       "'Completed'"
      ]
     },
     "metadata": {},
     "output_type": "display_data"
    },
    {
     "data": {
      "text/plain": [
       "28"
      ]
     },
     "metadata": {},
     "output_type": "display_data"
    },
    {
     "data": {
      "text/plain": [
       "'Completed'"
      ]
     },
     "metadata": {},
     "output_type": "display_data"
    },
    {
     "data": {
      "text/plain": [
       "29"
      ]
     },
     "metadata": {},
     "output_type": "display_data"
    },
    {
     "data": {
      "text/plain": [
       "'Completed'"
      ]
     },
     "metadata": {},
     "output_type": "display_data"
    },
    {
     "data": {
      "text/plain": [
       "30"
      ]
     },
     "metadata": {},
     "output_type": "display_data"
    },
    {
     "data": {
      "text/plain": [
       "'Current key in progress'"
      ]
     },
     "metadata": {},
     "output_type": "display_data"
    },
    {
     "data": {
      "text/plain": [
       "'sample_numbers_list_0.3_to_0.4'"
      ]
     },
     "metadata": {},
     "output_type": "display_data"
    },
    {
     "data": {
      "text/plain": [
       "130"
      ]
     },
     "metadata": {},
     "output_type": "display_data"
    },
    {
     "data": {
      "text/html": [
       "<div>\n",
       "<style scoped>\n",
       "    .dataframe tbody tr th:only-of-type {\n",
       "        vertical-align: middle;\n",
       "    }\n",
       "\n",
       "    .dataframe tbody tr th {\n",
       "        vertical-align: top;\n",
       "    }\n",
       "\n",
       "    .dataframe thead th {\n",
       "        text-align: right;\n",
       "    }\n",
       "</style>\n",
       "<table border=\"1\" class=\"dataframe\">\n",
       "  <thead>\n",
       "    <tr style=\"text-align: right;\">\n",
       "      <th></th>\n",
       "      <th>Subject</th>\n",
       "      <th>HR</th>\n",
       "      <th>MAP</th>\n",
       "      <th>DBP</th>\n",
       "      <th>SBP</th>\n",
       "      <th>Resp</th>\n",
       "    </tr>\n",
       "  </thead>\n",
       "  <tbody>\n",
       "    <tr>\n",
       "      <th>0</th>\n",
       "      <td>3</td>\n",
       "      <td>89.0</td>\n",
       "      <td>67.0</td>\n",
       "      <td>50.0</td>\n",
       "      <td>97.0</td>\n",
       "      <td>12.0</td>\n",
       "    </tr>\n",
       "    <tr>\n",
       "      <th>1</th>\n",
       "      <td>3</td>\n",
       "      <td>90.0</td>\n",
       "      <td>71.5</td>\n",
       "      <td>54.5</td>\n",
       "      <td>114.0</td>\n",
       "      <td>11.5</td>\n",
       "    </tr>\n",
       "    <tr>\n",
       "      <th>2</th>\n",
       "      <td>3</td>\n",
       "      <td>98.0</td>\n",
       "      <td>76.0</td>\n",
       "      <td>60.5</td>\n",
       "      <td>114.5</td>\n",
       "      <td>19.0</td>\n",
       "    </tr>\n",
       "    <tr>\n",
       "      <th>3</th>\n",
       "      <td>3</td>\n",
       "      <td>108.0</td>\n",
       "      <td>72.0</td>\n",
       "      <td>59.5</td>\n",
       "      <td>102.5</td>\n",
       "      <td>19.0</td>\n",
       "    </tr>\n",
       "    <tr>\n",
       "      <th>4</th>\n",
       "      <td>3</td>\n",
       "      <td>111.0</td>\n",
       "      <td>72.0</td>\n",
       "      <td>61.0</td>\n",
       "      <td>100.0</td>\n",
       "      <td>18.0</td>\n",
       "    </tr>\n",
       "    <tr>\n",
       "      <th>...</th>\n",
       "      <td>...</td>\n",
       "      <td>...</td>\n",
       "      <td>...</td>\n",
       "      <td>...</td>\n",
       "      <td>...</td>\n",
       "      <td>...</td>\n",
       "    </tr>\n",
       "    <tr>\n",
       "      <th>50</th>\n",
       "      <td>500</td>\n",
       "      <td>67.0</td>\n",
       "      <td>69.0</td>\n",
       "      <td>50.0</td>\n",
       "      <td>121.0</td>\n",
       "      <td>17.0</td>\n",
       "    </tr>\n",
       "    <tr>\n",
       "      <th>51</th>\n",
       "      <td>500</td>\n",
       "      <td>66.0</td>\n",
       "      <td>66.0</td>\n",
       "      <td>48.0</td>\n",
       "      <td>112.0</td>\n",
       "      <td>20.0</td>\n",
       "    </tr>\n",
       "    <tr>\n",
       "      <th>52</th>\n",
       "      <td>500</td>\n",
       "      <td>69.0</td>\n",
       "      <td>78.0</td>\n",
       "      <td>57.0</td>\n",
       "      <td>126.0</td>\n",
       "      <td>19.0</td>\n",
       "    </tr>\n",
       "    <tr>\n",
       "      <th>53</th>\n",
       "      <td>500</td>\n",
       "      <td>66.0</td>\n",
       "      <td>67.0</td>\n",
       "      <td>49.0</td>\n",
       "      <td>114.0</td>\n",
       "      <td>18.0</td>\n",
       "    </tr>\n",
       "    <tr>\n",
       "      <th>54</th>\n",
       "      <td>500</td>\n",
       "      <td>64.0</td>\n",
       "      <td>62.0</td>\n",
       "      <td>45.0</td>\n",
       "      <td>105.0</td>\n",
       "      <td>16.0</td>\n",
       "    </tr>\n",
       "  </tbody>\n",
       "</table>\n",
       "<p>6894 rows × 6 columns</p>\n",
       "</div>"
      ],
      "text/plain": [
       "    Subject     HR   MAP   DBP    SBP  Resp\n",
       "0         3   89.0  67.0  50.0   97.0  12.0\n",
       "1         3   90.0  71.5  54.5  114.0  11.5\n",
       "2         3   98.0  76.0  60.5  114.5  19.0\n",
       "3         3  108.0  72.0  59.5  102.5  19.0\n",
       "4         3  111.0  72.0  61.0  100.0  18.0\n",
       "..      ...    ...   ...   ...    ...   ...\n",
       "50      500   67.0  69.0  50.0  121.0  17.0\n",
       "51      500   66.0  66.0  48.0  112.0  20.0\n",
       "52      500   69.0  78.0  57.0  126.0  19.0\n",
       "53      500   66.0  67.0  49.0  114.0  18.0\n",
       "54      500   64.0  62.0  45.0  105.0  16.0\n",
       "\n",
       "[6894 rows x 6 columns]"
      ]
     },
     "metadata": {},
     "output_type": "display_data"
    },
    {
     "data": {
      "text/html": [
       "<div>\n",
       "<style scoped>\n",
       "    .dataframe tbody tr th:only-of-type {\n",
       "        vertical-align: middle;\n",
       "    }\n",
       "\n",
       "    .dataframe tbody tr th {\n",
       "        vertical-align: top;\n",
       "    }\n",
       "\n",
       "    .dataframe thead th {\n",
       "        text-align: right;\n",
       "    }\n",
       "</style>\n",
       "<table border=\"1\" class=\"dataframe\">\n",
       "  <thead>\n",
       "    <tr style=\"text-align: right;\">\n",
       "      <th></th>\n",
       "      <th>Subject</th>\n",
       "      <th>HR</th>\n",
       "      <th>MAP</th>\n",
       "      <th>DBP</th>\n",
       "      <th>SBP</th>\n",
       "      <th>Resp</th>\n",
       "    </tr>\n",
       "  </thead>\n",
       "  <tbody>\n",
       "    <tr>\n",
       "      <th>0</th>\n",
       "      <td>2</td>\n",
       "      <td>77.0</td>\n",
       "      <td>102.0</td>\n",
       "      <td>74.0</td>\n",
       "      <td>161.0</td>\n",
       "      <td>18.5</td>\n",
       "    </tr>\n",
       "    <tr>\n",
       "      <th>1</th>\n",
       "      <td>2</td>\n",
       "      <td>78.0</td>\n",
       "      <td>102.0</td>\n",
       "      <td>74.0</td>\n",
       "      <td>129.0</td>\n",
       "      <td>18.0</td>\n",
       "    </tr>\n",
       "    <tr>\n",
       "      <th>2</th>\n",
       "      <td>2</td>\n",
       "      <td>74.0</td>\n",
       "      <td>102.0</td>\n",
       "      <td>74.0</td>\n",
       "      <td>144.5</td>\n",
       "      <td>20.0</td>\n",
       "    </tr>\n",
       "    <tr>\n",
       "      <th>3</th>\n",
       "      <td>2</td>\n",
       "      <td>77.0</td>\n",
       "      <td>103.0</td>\n",
       "      <td>78.0</td>\n",
       "      <td>150.5</td>\n",
       "      <td>18.0</td>\n",
       "    </tr>\n",
       "    <tr>\n",
       "      <th>4</th>\n",
       "      <td>2</td>\n",
       "      <td>78.0</td>\n",
       "      <td>99.0</td>\n",
       "      <td>80.0</td>\n",
       "      <td>134.0</td>\n",
       "      <td>18.0</td>\n",
       "    </tr>\n",
       "    <tr>\n",
       "      <th>...</th>\n",
       "      <td>...</td>\n",
       "      <td>...</td>\n",
       "      <td>...</td>\n",
       "      <td>...</td>\n",
       "      <td>...</td>\n",
       "      <td>...</td>\n",
       "    </tr>\n",
       "    <tr>\n",
       "      <th>121</th>\n",
       "      <td>175</td>\n",
       "      <td>109.0</td>\n",
       "      <td>100.0</td>\n",
       "      <td>65.0</td>\n",
       "      <td>94.0</td>\n",
       "      <td>31.0</td>\n",
       "    </tr>\n",
       "    <tr>\n",
       "      <th>122</th>\n",
       "      <td>175</td>\n",
       "      <td>99.0</td>\n",
       "      <td>77.0</td>\n",
       "      <td>65.0</td>\n",
       "      <td>94.0</td>\n",
       "      <td>16.0</td>\n",
       "    </tr>\n",
       "    <tr>\n",
       "      <th>123</th>\n",
       "      <td>175</td>\n",
       "      <td>113.0</td>\n",
       "      <td>105.0</td>\n",
       "      <td>65.0</td>\n",
       "      <td>94.0</td>\n",
       "      <td>21.0</td>\n",
       "    </tr>\n",
       "    <tr>\n",
       "      <th>124</th>\n",
       "      <td>175</td>\n",
       "      <td>110.0</td>\n",
       "      <td>105.0</td>\n",
       "      <td>65.0</td>\n",
       "      <td>94.0</td>\n",
       "      <td>18.0</td>\n",
       "    </tr>\n",
       "    <tr>\n",
       "      <th>125</th>\n",
       "      <td>175</td>\n",
       "      <td>112.0</td>\n",
       "      <td>90.0</td>\n",
       "      <td>65.0</td>\n",
       "      <td>94.0</td>\n",
       "      <td>23.0</td>\n",
       "    </tr>\n",
       "  </tbody>\n",
       "</table>\n",
       "<p>14231 rows × 6 columns</p>\n",
       "</div>"
      ],
      "text/plain": [
       "     Subject     HR    MAP   DBP    SBP  Resp\n",
       "0          2   77.0  102.0  74.0  161.0  18.5\n",
       "1          2   78.0  102.0  74.0  129.0  18.0\n",
       "2          2   74.0  102.0  74.0  144.5  20.0\n",
       "3          2   77.0  103.0  78.0  150.5  18.0\n",
       "4          2   78.0   99.0  80.0  134.0  18.0\n",
       "..       ...    ...    ...   ...    ...   ...\n",
       "121      175  109.0  100.0  65.0   94.0  31.0\n",
       "122      175   99.0   77.0  65.0   94.0  16.0\n",
       "123      175  113.0  105.0  65.0   94.0  21.0\n",
       "124      175  110.0  105.0  65.0   94.0  18.0\n",
       "125      175  112.0   90.0  65.0   94.0  23.0\n",
       "\n",
       "[14231 rows x 6 columns]"
      ]
     },
     "metadata": {},
     "output_type": "display_data"
    },
    {
     "data": {
      "text/plain": [
       "'Avg length:'"
      ]
     },
     "metadata": {},
     "output_type": "display_data"
    },
    {
     "data": {
      "text/plain": [
       "109.46923076923076"
      ]
     },
     "metadata": {},
     "output_type": "display_data"
    },
    {
     "data": {
      "text/plain": [
       "6"
      ]
     },
     "metadata": {},
     "output_type": "display_data"
    },
    {
     "data": {
      "text/plain": [
       "'X_1:'"
      ]
     },
     "metadata": {},
     "output_type": "display_data"
    },
    {
     "data": {
      "text/html": [
       "<div>\n",
       "<style scoped>\n",
       "    .dataframe tbody tr th:only-of-type {\n",
       "        vertical-align: middle;\n",
       "    }\n",
       "\n",
       "    .dataframe tbody tr th {\n",
       "        vertical-align: top;\n",
       "    }\n",
       "\n",
       "    .dataframe thead th {\n",
       "        text-align: right;\n",
       "    }\n",
       "</style>\n",
       "<table border=\"1\" class=\"dataframe\">\n",
       "  <thead>\n",
       "    <tr style=\"text-align: right;\">\n",
       "      <th></th>\n",
       "      <th>1</th>\n",
       "      <th>2</th>\n",
       "      <th>3</th>\n",
       "      <th>4</th>\n",
       "      <th>5</th>\n",
       "    </tr>\n",
       "  </thead>\n",
       "  <tbody>\n",
       "    <tr>\n",
       "      <th>0</th>\n",
       "      <td>0     -3.564786\n",
       "1     -3.383258\n",
       "2     -1.93103...</td>\n",
       "      <td>0      0.433371\n",
       "1      1.501554\n",
       "2      2.56973...</td>\n",
       "      <td>0      0.731196\n",
       "1      1.502490\n",
       "2      2.53088...</td>\n",
       "      <td>0     -1.552157\n",
       "1      0.212080\n",
       "2      0.26396...</td>\n",
       "      <td>0     -3.942636\n",
       "1     -4.143077\n",
       "2     -1.13645...</td>\n",
       "    </tr>\n",
       "    <tr>\n",
       "      <th>1</th>\n",
       "      <td>0     -0.145482\n",
       "1     -1.677179\n",
       "2     -1.04648...</td>\n",
       "      <td>0      4.969324\n",
       "1      2.082431\n",
       "2     -1.59179...</td>\n",
       "      <td>0      3.533118\n",
       "1      1.442024\n",
       "2     -2.04313...</td>\n",
       "      <td>0      4.291319\n",
       "1      2.656595\n",
       "2     -0.86053...</td>\n",
       "      <td>0     -2.489027\n",
       "1     -0.784053\n",
       "2      1.34716...</td>\n",
       "    </tr>\n",
       "    <tr>\n",
       "      <th>2</th>\n",
       "      <td>0     -2.721065\n",
       "1     -2.773532\n",
       "2     -2.30132...</td>\n",
       "      <td>0     -0.656820\n",
       "1     -0.656820\n",
       "2      0.83160...</td>\n",
       "      <td>0     -0.871510\n",
       "1     -0.871510\n",
       "2      0.97304...</td>\n",
       "      <td>0     -1.256947\n",
       "1     -1.256947\n",
       "2      1.62868...</td>\n",
       "      <td>0     -1.472858\n",
       "1     -1.472858\n",
       "2     -1.47285...</td>\n",
       "    </tr>\n",
       "    <tr>\n",
       "      <th>3</th>\n",
       "      <td>0     -0.092539\n",
       "1      2.193802\n",
       "2      2.19380...</td>\n",
       "      <td>0     -2.263661\n",
       "1     -1.073038\n",
       "2     -1.07303...</td>\n",
       "      <td>0     -2.944664\n",
       "1     -1.353523\n",
       "2     -1.35352...</td>\n",
       "      <td>0     -1.394522\n",
       "1     -0.370520\n",
       "2     -0.37052...</td>\n",
       "      <td>0     -0.533305\n",
       "1     -0.014285\n",
       "2     -0.01428...</td>\n",
       "    </tr>\n",
       "    <tr>\n",
       "      <th>4</th>\n",
       "      <td>0     -1.091143\n",
       "1     -1.091143\n",
       "2     -0.87888...</td>\n",
       "      <td>0     -0.742902\n",
       "1     -0.742902\n",
       "2     -1.00666...</td>\n",
       "      <td>0     -1.221730\n",
       "1     -1.221730\n",
       "2     -1.28881...</td>\n",
       "      <td>0     -0.768335\n",
       "1     -0.768335\n",
       "2     -1.44509...</td>\n",
       "      <td>0     -0.647905\n",
       "1     -0.647905\n",
       "2     -1.44013...</td>\n",
       "    </tr>\n",
       "    <tr>\n",
       "      <th>...</th>\n",
       "      <td>...</td>\n",
       "      <td>...</td>\n",
       "      <td>...</td>\n",
       "      <td>...</td>\n",
       "      <td>...</td>\n",
       "    </tr>\n",
       "    <tr>\n",
       "      <th>255</th>\n",
       "      <td>0      0.642459\n",
       "1      0.582038\n",
       "2     -0.44512...</td>\n",
       "      <td>0      0.617474\n",
       "1      1.599373\n",
       "2      1.42084...</td>\n",
       "      <td>0      3.285655\n",
       "1      3.285655\n",
       "2      1.58832...</td>\n",
       "      <td>0      0.693578\n",
       "1      0.693578\n",
       "2     -0.02642...</td>\n",
       "      <td>0     -0.469010\n",
       "1      0.538322\n",
       "2     -0.46901...</td>\n",
       "    </tr>\n",
       "    <tr>\n",
       "      <th>256</th>\n",
       "      <td>0      0.046939\n",
       "1      0.046939\n",
       "2      0.74918...</td>\n",
       "      <td>0     -0.056599\n",
       "1     -0.056599\n",
       "2     -0.05659...</td>\n",
       "      <td>0      0.216338\n",
       "1      0.216338\n",
       "2     -0.04787...</td>\n",
       "      <td>0     -0.452964\n",
       "1     -0.452964\n",
       "2     -0.13596...</td>\n",
       "      <td>0     -0.488404\n",
       "1     -0.488404\n",
       "2     -1.35845...</td>\n",
       "    </tr>\n",
       "    <tr>\n",
       "      <th>257</th>\n",
       "      <td>0     -0.821041\n",
       "1     -0.677254\n",
       "2     -0.36092...</td>\n",
       "      <td>0     -0.715229\n",
       "1     -0.665604\n",
       "2     -0.66560...</td>\n",
       "      <td>0     -0.921054\n",
       "1     -0.477949\n",
       "2     -0.54125...</td>\n",
       "      <td>0     -0.419846\n",
       "1     -0.588839\n",
       "2     -0.65643...</td>\n",
       "      <td>0     -2.049411\n",
       "1     -2.049411\n",
       "2     -2.04941...</td>\n",
       "    </tr>\n",
       "    <tr>\n",
       "      <th>258</th>\n",
       "      <td>0      2.117714\n",
       "1      0.853176\n",
       "2      1.48544...</td>\n",
       "      <td>0     -0.741608\n",
       "1     -1.691784\n",
       "2     -1.44544...</td>\n",
       "      <td>0     -1.122280\n",
       "1     -2.152415\n",
       "2     -1.29396...</td>\n",
       "      <td>0      0.176176\n",
       "1     -2.340106\n",
       "2     -2.14145...</td>\n",
       "      <td>0     -0.052018\n",
       "1     -0.052018\n",
       "2      0.19450...</td>\n",
       "    </tr>\n",
       "    <tr>\n",
       "      <th>259</th>\n",
       "      <td>0      0.565728\n",
       "1      0.565728\n",
       "2     -0.23316...</td>\n",
       "      <td>0     -0.808873\n",
       "1     -0.808873\n",
       "2     -2.49866...</td>\n",
       "      <td>0     -0.805254\n",
       "1     -0.805254\n",
       "2     -2.69882...</td>\n",
       "      <td>0      0.802723\n",
       "1      0.802723\n",
       "2     -1.44974...</td>\n",
       "      <td>0      0.932874\n",
       "1      0.932874\n",
       "2      0.76111...</td>\n",
       "    </tr>\n",
       "  </tbody>\n",
       "</table>\n",
       "<p>260 rows × 5 columns</p>\n",
       "</div>"
      ],
      "text/plain": [
       "                                                     1  \\\n",
       "0    0     -3.564786\n",
       "1     -3.383258\n",
       "2     -1.93103...   \n",
       "1    0     -0.145482\n",
       "1     -1.677179\n",
       "2     -1.04648...   \n",
       "2    0     -2.721065\n",
       "1     -2.773532\n",
       "2     -2.30132...   \n",
       "3    0     -0.092539\n",
       "1      2.193802\n",
       "2      2.19380...   \n",
       "4    0     -1.091143\n",
       "1     -1.091143\n",
       "2     -0.87888...   \n",
       "..                                                 ...   \n",
       "255  0      0.642459\n",
       "1      0.582038\n",
       "2     -0.44512...   \n",
       "256  0      0.046939\n",
       "1      0.046939\n",
       "2      0.74918...   \n",
       "257  0     -0.821041\n",
       "1     -0.677254\n",
       "2     -0.36092...   \n",
       "258  0      2.117714\n",
       "1      0.853176\n",
       "2      1.48544...   \n",
       "259  0      0.565728\n",
       "1      0.565728\n",
       "2     -0.23316...   \n",
       "\n",
       "                                                     2  \\\n",
       "0    0      0.433371\n",
       "1      1.501554\n",
       "2      2.56973...   \n",
       "1    0      4.969324\n",
       "1      2.082431\n",
       "2     -1.59179...   \n",
       "2    0     -0.656820\n",
       "1     -0.656820\n",
       "2      0.83160...   \n",
       "3    0     -2.263661\n",
       "1     -1.073038\n",
       "2     -1.07303...   \n",
       "4    0     -0.742902\n",
       "1     -0.742902\n",
       "2     -1.00666...   \n",
       "..                                                 ...   \n",
       "255  0      0.617474\n",
       "1      1.599373\n",
       "2      1.42084...   \n",
       "256  0     -0.056599\n",
       "1     -0.056599\n",
       "2     -0.05659...   \n",
       "257  0     -0.715229\n",
       "1     -0.665604\n",
       "2     -0.66560...   \n",
       "258  0     -0.741608\n",
       "1     -1.691784\n",
       "2     -1.44544...   \n",
       "259  0     -0.808873\n",
       "1     -0.808873\n",
       "2     -2.49866...   \n",
       "\n",
       "                                                     3  \\\n",
       "0    0      0.731196\n",
       "1      1.502490\n",
       "2      2.53088...   \n",
       "1    0      3.533118\n",
       "1      1.442024\n",
       "2     -2.04313...   \n",
       "2    0     -0.871510\n",
       "1     -0.871510\n",
       "2      0.97304...   \n",
       "3    0     -2.944664\n",
       "1     -1.353523\n",
       "2     -1.35352...   \n",
       "4    0     -1.221730\n",
       "1     -1.221730\n",
       "2     -1.28881...   \n",
       "..                                                 ...   \n",
       "255  0      3.285655\n",
       "1      3.285655\n",
       "2      1.58832...   \n",
       "256  0      0.216338\n",
       "1      0.216338\n",
       "2     -0.04787...   \n",
       "257  0     -0.921054\n",
       "1     -0.477949\n",
       "2     -0.54125...   \n",
       "258  0     -1.122280\n",
       "1     -2.152415\n",
       "2     -1.29396...   \n",
       "259  0     -0.805254\n",
       "1     -0.805254\n",
       "2     -2.69882...   \n",
       "\n",
       "                                                     4  \\\n",
       "0    0     -1.552157\n",
       "1      0.212080\n",
       "2      0.26396...   \n",
       "1    0      4.291319\n",
       "1      2.656595\n",
       "2     -0.86053...   \n",
       "2    0     -1.256947\n",
       "1     -1.256947\n",
       "2      1.62868...   \n",
       "3    0     -1.394522\n",
       "1     -0.370520\n",
       "2     -0.37052...   \n",
       "4    0     -0.768335\n",
       "1     -0.768335\n",
       "2     -1.44509...   \n",
       "..                                                 ...   \n",
       "255  0      0.693578\n",
       "1      0.693578\n",
       "2     -0.02642...   \n",
       "256  0     -0.452964\n",
       "1     -0.452964\n",
       "2     -0.13596...   \n",
       "257  0     -0.419846\n",
       "1     -0.588839\n",
       "2     -0.65643...   \n",
       "258  0      0.176176\n",
       "1     -2.340106\n",
       "2     -2.14145...   \n",
       "259  0      0.802723\n",
       "1      0.802723\n",
       "2     -1.44974...   \n",
       "\n",
       "                                                     5  \n",
       "0    0     -3.942636\n",
       "1     -4.143077\n",
       "2     -1.13645...  \n",
       "1    0     -2.489027\n",
       "1     -0.784053\n",
       "2      1.34716...  \n",
       "2    0     -1.472858\n",
       "1     -1.472858\n",
       "2     -1.47285...  \n",
       "3    0     -0.533305\n",
       "1     -0.014285\n",
       "2     -0.01428...  \n",
       "4    0     -0.647905\n",
       "1     -0.647905\n",
       "2     -1.44013...  \n",
       "..                                                 ...  \n",
       "255  0     -0.469010\n",
       "1      0.538322\n",
       "2     -0.46901...  \n",
       "256  0     -0.488404\n",
       "1     -0.488404\n",
       "2     -1.35845...  \n",
       "257  0     -2.049411\n",
       "1     -2.049411\n",
       "2     -2.04941...  \n",
       "258  0     -0.052018\n",
       "1     -0.052018\n",
       "2      0.19450...  \n",
       "259  0      0.932874\n",
       "1      0.932874\n",
       "2      0.76111...  \n",
       "\n",
       "[260 rows x 5 columns]"
      ]
     },
     "metadata": {},
     "output_type": "display_data"
    },
    {
     "data": {
      "text/plain": [
       "'Completed'"
      ]
     },
     "metadata": {},
     "output_type": "display_data"
    },
    {
     "data": {
      "text/plain": [
       "1"
      ]
     },
     "metadata": {},
     "output_type": "display_data"
    },
    {
     "data": {
      "text/plain": [
       "'Completed'"
      ]
     },
     "metadata": {},
     "output_type": "display_data"
    },
    {
     "data": {
      "text/plain": [
       "2"
      ]
     },
     "metadata": {},
     "output_type": "display_data"
    },
    {
     "data": {
      "text/plain": [
       "'Completed'"
      ]
     },
     "metadata": {},
     "output_type": "display_data"
    },
    {
     "data": {
      "text/plain": [
       "3"
      ]
     },
     "metadata": {},
     "output_type": "display_data"
    },
    {
     "data": {
      "text/plain": [
       "'Completed'"
      ]
     },
     "metadata": {},
     "output_type": "display_data"
    },
    {
     "data": {
      "text/plain": [
       "4"
      ]
     },
     "metadata": {},
     "output_type": "display_data"
    },
    {
     "data": {
      "text/plain": [
       "'Completed'"
      ]
     },
     "metadata": {},
     "output_type": "display_data"
    },
    {
     "data": {
      "text/plain": [
       "5"
      ]
     },
     "metadata": {},
     "output_type": "display_data"
    },
    {
     "data": {
      "text/plain": [
       "'Completed'"
      ]
     },
     "metadata": {},
     "output_type": "display_data"
    },
    {
     "data": {
      "text/plain": [
       "6"
      ]
     },
     "metadata": {},
     "output_type": "display_data"
    },
    {
     "data": {
      "text/plain": [
       "'Completed'"
      ]
     },
     "metadata": {},
     "output_type": "display_data"
    },
    {
     "data": {
      "text/plain": [
       "7"
      ]
     },
     "metadata": {},
     "output_type": "display_data"
    },
    {
     "data": {
      "text/plain": [
       "'Completed'"
      ]
     },
     "metadata": {},
     "output_type": "display_data"
    },
    {
     "data": {
      "text/plain": [
       "8"
      ]
     },
     "metadata": {},
     "output_type": "display_data"
    },
    {
     "data": {
      "text/plain": [
       "'Completed'"
      ]
     },
     "metadata": {},
     "output_type": "display_data"
    },
    {
     "data": {
      "text/plain": [
       "9"
      ]
     },
     "metadata": {},
     "output_type": "display_data"
    },
    {
     "data": {
      "text/plain": [
       "'Completed'"
      ]
     },
     "metadata": {},
     "output_type": "display_data"
    },
    {
     "data": {
      "text/plain": [
       "10"
      ]
     },
     "metadata": {},
     "output_type": "display_data"
    },
    {
     "data": {
      "text/plain": [
       "'Completed'"
      ]
     },
     "metadata": {},
     "output_type": "display_data"
    },
    {
     "data": {
      "text/plain": [
       "11"
      ]
     },
     "metadata": {},
     "output_type": "display_data"
    },
    {
     "data": {
      "text/plain": [
       "'Completed'"
      ]
     },
     "metadata": {},
     "output_type": "display_data"
    },
    {
     "data": {
      "text/plain": [
       "12"
      ]
     },
     "metadata": {},
     "output_type": "display_data"
    },
    {
     "data": {
      "text/plain": [
       "'Completed'"
      ]
     },
     "metadata": {},
     "output_type": "display_data"
    },
    {
     "data": {
      "text/plain": [
       "13"
      ]
     },
     "metadata": {},
     "output_type": "display_data"
    },
    {
     "data": {
      "text/plain": [
       "'Completed'"
      ]
     },
     "metadata": {},
     "output_type": "display_data"
    },
    {
     "data": {
      "text/plain": [
       "14"
      ]
     },
     "metadata": {},
     "output_type": "display_data"
    },
    {
     "data": {
      "text/plain": [
       "'Completed'"
      ]
     },
     "metadata": {},
     "output_type": "display_data"
    },
    {
     "data": {
      "text/plain": [
       "15"
      ]
     },
     "metadata": {},
     "output_type": "display_data"
    },
    {
     "data": {
      "text/plain": [
       "'Completed'"
      ]
     },
     "metadata": {},
     "output_type": "display_data"
    },
    {
     "data": {
      "text/plain": [
       "16"
      ]
     },
     "metadata": {},
     "output_type": "display_data"
    },
    {
     "data": {
      "text/plain": [
       "'Completed'"
      ]
     },
     "metadata": {},
     "output_type": "display_data"
    },
    {
     "data": {
      "text/plain": [
       "17"
      ]
     },
     "metadata": {},
     "output_type": "display_data"
    },
    {
     "data": {
      "text/plain": [
       "'Completed'"
      ]
     },
     "metadata": {},
     "output_type": "display_data"
    },
    {
     "data": {
      "text/plain": [
       "18"
      ]
     },
     "metadata": {},
     "output_type": "display_data"
    },
    {
     "data": {
      "text/plain": [
       "'Completed'"
      ]
     },
     "metadata": {},
     "output_type": "display_data"
    },
    {
     "data": {
      "text/plain": [
       "19"
      ]
     },
     "metadata": {},
     "output_type": "display_data"
    },
    {
     "data": {
      "text/plain": [
       "'Completed'"
      ]
     },
     "metadata": {},
     "output_type": "display_data"
    },
    {
     "data": {
      "text/plain": [
       "20"
      ]
     },
     "metadata": {},
     "output_type": "display_data"
    },
    {
     "data": {
      "text/plain": [
       "'Completed'"
      ]
     },
     "metadata": {},
     "output_type": "display_data"
    },
    {
     "data": {
      "text/plain": [
       "21"
      ]
     },
     "metadata": {},
     "output_type": "display_data"
    },
    {
     "data": {
      "text/plain": [
       "'Completed'"
      ]
     },
     "metadata": {},
     "output_type": "display_data"
    },
    {
     "data": {
      "text/plain": [
       "22"
      ]
     },
     "metadata": {},
     "output_type": "display_data"
    },
    {
     "data": {
      "text/plain": [
       "'Completed'"
      ]
     },
     "metadata": {},
     "output_type": "display_data"
    },
    {
     "data": {
      "text/plain": [
       "23"
      ]
     },
     "metadata": {},
     "output_type": "display_data"
    },
    {
     "data": {
      "text/plain": [
       "'Completed'"
      ]
     },
     "metadata": {},
     "output_type": "display_data"
    },
    {
     "data": {
      "text/plain": [
       "24"
      ]
     },
     "metadata": {},
     "output_type": "display_data"
    },
    {
     "data": {
      "text/plain": [
       "'Completed'"
      ]
     },
     "metadata": {},
     "output_type": "display_data"
    },
    {
     "data": {
      "text/plain": [
       "25"
      ]
     },
     "metadata": {},
     "output_type": "display_data"
    },
    {
     "data": {
      "text/plain": [
       "'Completed'"
      ]
     },
     "metadata": {},
     "output_type": "display_data"
    },
    {
     "data": {
      "text/plain": [
       "26"
      ]
     },
     "metadata": {},
     "output_type": "display_data"
    },
    {
     "data": {
      "text/plain": [
       "'Completed'"
      ]
     },
     "metadata": {},
     "output_type": "display_data"
    },
    {
     "data": {
      "text/plain": [
       "27"
      ]
     },
     "metadata": {},
     "output_type": "display_data"
    },
    {
     "data": {
      "text/plain": [
       "'Completed'"
      ]
     },
     "metadata": {},
     "output_type": "display_data"
    },
    {
     "data": {
      "text/plain": [
       "28"
      ]
     },
     "metadata": {},
     "output_type": "display_data"
    },
    {
     "data": {
      "text/plain": [
       "'Completed'"
      ]
     },
     "metadata": {},
     "output_type": "display_data"
    },
    {
     "data": {
      "text/plain": [
       "29"
      ]
     },
     "metadata": {},
     "output_type": "display_data"
    },
    {
     "data": {
      "text/plain": [
       "'Completed'"
      ]
     },
     "metadata": {},
     "output_type": "display_data"
    },
    {
     "data": {
      "text/plain": [
       "30"
      ]
     },
     "metadata": {},
     "output_type": "display_data"
    },
    {
     "data": {
      "text/plain": [
       "'Current key in progress'"
      ]
     },
     "metadata": {},
     "output_type": "display_data"
    },
    {
     "data": {
      "text/plain": [
       "'sample_numbers_list_0.4_to_0.5'"
      ]
     },
     "metadata": {},
     "output_type": "display_data"
    },
    {
     "data": {
      "text/plain": [
       "169"
      ]
     },
     "metadata": {},
     "output_type": "display_data"
    },
    {
     "data": {
      "text/html": [
       "<div>\n",
       "<style scoped>\n",
       "    .dataframe tbody tr th:only-of-type {\n",
       "        vertical-align: middle;\n",
       "    }\n",
       "\n",
       "    .dataframe tbody tr th {\n",
       "        vertical-align: top;\n",
       "    }\n",
       "\n",
       "    .dataframe thead th {\n",
       "        text-align: right;\n",
       "    }\n",
       "</style>\n",
       "<table border=\"1\" class=\"dataframe\">\n",
       "  <thead>\n",
       "    <tr style=\"text-align: right;\">\n",
       "      <th></th>\n",
       "      <th>Subject</th>\n",
       "      <th>HR</th>\n",
       "      <th>MAP</th>\n",
       "      <th>DBP</th>\n",
       "      <th>SBP</th>\n",
       "      <th>Resp</th>\n",
       "    </tr>\n",
       "  </thead>\n",
       "  <tbody>\n",
       "    <tr>\n",
       "      <th>0</th>\n",
       "      <td>3</td>\n",
       "      <td>89.0</td>\n",
       "      <td>67.0</td>\n",
       "      <td>50.0</td>\n",
       "      <td>97.0</td>\n",
       "      <td>12.0</td>\n",
       "    </tr>\n",
       "    <tr>\n",
       "      <th>1</th>\n",
       "      <td>3</td>\n",
       "      <td>90.0</td>\n",
       "      <td>71.5</td>\n",
       "      <td>54.5</td>\n",
       "      <td>114.0</td>\n",
       "      <td>11.5</td>\n",
       "    </tr>\n",
       "    <tr>\n",
       "      <th>2</th>\n",
       "      <td>3</td>\n",
       "      <td>98.0</td>\n",
       "      <td>76.0</td>\n",
       "      <td>60.5</td>\n",
       "      <td>114.5</td>\n",
       "      <td>19.0</td>\n",
       "    </tr>\n",
       "    <tr>\n",
       "      <th>3</th>\n",
       "      <td>3</td>\n",
       "      <td>108.0</td>\n",
       "      <td>72.0</td>\n",
       "      <td>59.5</td>\n",
       "      <td>102.5</td>\n",
       "      <td>19.0</td>\n",
       "    </tr>\n",
       "    <tr>\n",
       "      <th>4</th>\n",
       "      <td>3</td>\n",
       "      <td>111.0</td>\n",
       "      <td>72.0</td>\n",
       "      <td>61.0</td>\n",
       "      <td>100.0</td>\n",
       "      <td>18.0</td>\n",
       "    </tr>\n",
       "    <tr>\n",
       "      <th>...</th>\n",
       "      <td>...</td>\n",
       "      <td>...</td>\n",
       "      <td>...</td>\n",
       "      <td>...</td>\n",
       "      <td>...</td>\n",
       "      <td>...</td>\n",
       "    </tr>\n",
       "    <tr>\n",
       "      <th>50</th>\n",
       "      <td>500</td>\n",
       "      <td>67.0</td>\n",
       "      <td>69.0</td>\n",
       "      <td>50.0</td>\n",
       "      <td>121.0</td>\n",
       "      <td>17.0</td>\n",
       "    </tr>\n",
       "    <tr>\n",
       "      <th>51</th>\n",
       "      <td>500</td>\n",
       "      <td>66.0</td>\n",
       "      <td>66.0</td>\n",
       "      <td>48.0</td>\n",
       "      <td>112.0</td>\n",
       "      <td>20.0</td>\n",
       "    </tr>\n",
       "    <tr>\n",
       "      <th>52</th>\n",
       "      <td>500</td>\n",
       "      <td>69.0</td>\n",
       "      <td>78.0</td>\n",
       "      <td>57.0</td>\n",
       "      <td>126.0</td>\n",
       "      <td>19.0</td>\n",
       "    </tr>\n",
       "    <tr>\n",
       "      <th>53</th>\n",
       "      <td>500</td>\n",
       "      <td>66.0</td>\n",
       "      <td>67.0</td>\n",
       "      <td>49.0</td>\n",
       "      <td>114.0</td>\n",
       "      <td>18.0</td>\n",
       "    </tr>\n",
       "    <tr>\n",
       "      <th>54</th>\n",
       "      <td>500</td>\n",
       "      <td>64.0</td>\n",
       "      <td>62.0</td>\n",
       "      <td>45.0</td>\n",
       "      <td>105.0</td>\n",
       "      <td>16.0</td>\n",
       "    </tr>\n",
       "  </tbody>\n",
       "</table>\n",
       "<p>8966 rows × 6 columns</p>\n",
       "</div>"
      ],
      "text/plain": [
       "    Subject     HR   MAP   DBP    SBP  Resp\n",
       "0         3   89.0  67.0  50.0   97.0  12.0\n",
       "1         3   90.0  71.5  54.5  114.0  11.5\n",
       "2         3   98.0  76.0  60.5  114.5  19.0\n",
       "3         3  108.0  72.0  59.5  102.5  19.0\n",
       "4         3  111.0  72.0  61.0  100.0  18.0\n",
       "..      ...    ...   ...   ...    ...   ...\n",
       "50      500   67.0  69.0  50.0  121.0  17.0\n",
       "51      500   66.0  66.0  48.0  112.0  20.0\n",
       "52      500   69.0  78.0  57.0  126.0  19.0\n",
       "53      500   66.0  67.0  49.0  114.0  18.0\n",
       "54      500   64.0  62.0  45.0  105.0  16.0\n",
       "\n",
       "[8966 rows x 6 columns]"
      ]
     },
     "metadata": {},
     "output_type": "display_data"
    },
    {
     "data": {
      "text/html": [
       "<div>\n",
       "<style scoped>\n",
       "    .dataframe tbody tr th:only-of-type {\n",
       "        vertical-align: middle;\n",
       "    }\n",
       "\n",
       "    .dataframe tbody tr th {\n",
       "        vertical-align: top;\n",
       "    }\n",
       "\n",
       "    .dataframe thead th {\n",
       "        text-align: right;\n",
       "    }\n",
       "</style>\n",
       "<table border=\"1\" class=\"dataframe\">\n",
       "  <thead>\n",
       "    <tr style=\"text-align: right;\">\n",
       "      <th></th>\n",
       "      <th>Subject</th>\n",
       "      <th>HR</th>\n",
       "      <th>MAP</th>\n",
       "      <th>DBP</th>\n",
       "      <th>SBP</th>\n",
       "      <th>Resp</th>\n",
       "    </tr>\n",
       "  </thead>\n",
       "  <tbody>\n",
       "    <tr>\n",
       "      <th>0</th>\n",
       "      <td>1</td>\n",
       "      <td>103.0</td>\n",
       "      <td>80.0</td>\n",
       "      <td>64.0</td>\n",
       "      <td>112.0</td>\n",
       "      <td>20.0</td>\n",
       "    </tr>\n",
       "    <tr>\n",
       "      <th>1</th>\n",
       "      <td>1</td>\n",
       "      <td>111.0</td>\n",
       "      <td>93.5</td>\n",
       "      <td>80.5</td>\n",
       "      <td>131.0</td>\n",
       "      <td>20.0</td>\n",
       "    </tr>\n",
       "    <tr>\n",
       "      <th>2</th>\n",
       "      <td>1</td>\n",
       "      <td>106.0</td>\n",
       "      <td>87.0</td>\n",
       "      <td>77.0</td>\n",
       "      <td>114.0</td>\n",
       "      <td>20.0</td>\n",
       "    </tr>\n",
       "    <tr>\n",
       "      <th>3</th>\n",
       "      <td>1</td>\n",
       "      <td>107.0</td>\n",
       "      <td>62.0</td>\n",
       "      <td>54.0</td>\n",
       "      <td>85.0</td>\n",
       "      <td>20.0</td>\n",
       "    </tr>\n",
       "    <tr>\n",
       "      <th>4</th>\n",
       "      <td>1</td>\n",
       "      <td>106.0</td>\n",
       "      <td>80.0</td>\n",
       "      <td>70.0</td>\n",
       "      <td>109.0</td>\n",
       "      <td>23.0</td>\n",
       "    </tr>\n",
       "    <tr>\n",
       "      <th>...</th>\n",
       "      <td>...</td>\n",
       "      <td>...</td>\n",
       "      <td>...</td>\n",
       "      <td>...</td>\n",
       "      <td>...</td>\n",
       "      <td>...</td>\n",
       "    </tr>\n",
       "    <tr>\n",
       "      <th>121</th>\n",
       "      <td>175</td>\n",
       "      <td>109.0</td>\n",
       "      <td>100.0</td>\n",
       "      <td>65.0</td>\n",
       "      <td>94.0</td>\n",
       "      <td>31.0</td>\n",
       "    </tr>\n",
       "    <tr>\n",
       "      <th>122</th>\n",
       "      <td>175</td>\n",
       "      <td>99.0</td>\n",
       "      <td>77.0</td>\n",
       "      <td>65.0</td>\n",
       "      <td>94.0</td>\n",
       "      <td>16.0</td>\n",
       "    </tr>\n",
       "    <tr>\n",
       "      <th>123</th>\n",
       "      <td>175</td>\n",
       "      <td>113.0</td>\n",
       "      <td>105.0</td>\n",
       "      <td>65.0</td>\n",
       "      <td>94.0</td>\n",
       "      <td>21.0</td>\n",
       "    </tr>\n",
       "    <tr>\n",
       "      <th>124</th>\n",
       "      <td>175</td>\n",
       "      <td>110.0</td>\n",
       "      <td>105.0</td>\n",
       "      <td>65.0</td>\n",
       "      <td>94.0</td>\n",
       "      <td>18.0</td>\n",
       "    </tr>\n",
       "    <tr>\n",
       "      <th>125</th>\n",
       "      <td>175</td>\n",
       "      <td>112.0</td>\n",
       "      <td>90.0</td>\n",
       "      <td>65.0</td>\n",
       "      <td>94.0</td>\n",
       "      <td>23.0</td>\n",
       "    </tr>\n",
       "  </tbody>\n",
       "</table>\n",
       "<p>18133 rows × 6 columns</p>\n",
       "</div>"
      ],
      "text/plain": [
       "     Subject     HR    MAP   DBP    SBP  Resp\n",
       "0          1  103.0   80.0  64.0  112.0  20.0\n",
       "1          1  111.0   93.5  80.5  131.0  20.0\n",
       "2          1  106.0   87.0  77.0  114.0  20.0\n",
       "3          1  107.0   62.0  54.0   85.0  20.0\n",
       "4          1  106.0   80.0  70.0  109.0  23.0\n",
       "..       ...    ...    ...   ...    ...   ...\n",
       "121      175  109.0  100.0  65.0   94.0  31.0\n",
       "122      175   99.0   77.0  65.0   94.0  16.0\n",
       "123      175  113.0  105.0  65.0   94.0  21.0\n",
       "124      175  110.0  105.0  65.0   94.0  18.0\n",
       "125      175  112.0   90.0  65.0   94.0  23.0\n",
       "\n",
       "[18133 rows x 6 columns]"
      ]
     },
     "metadata": {},
     "output_type": "display_data"
    },
    {
     "data": {
      "text/plain": [
       "'Avg length:'"
      ]
     },
     "metadata": {},
     "output_type": "display_data"
    },
    {
     "data": {
      "text/plain": [
       "107.29585798816568"
      ]
     },
     "metadata": {},
     "output_type": "display_data"
    },
    {
     "data": {
      "text/plain": [
       "6"
      ]
     },
     "metadata": {},
     "output_type": "display_data"
    },
    {
     "data": {
      "text/plain": [
       "'X_1:'"
      ]
     },
     "metadata": {},
     "output_type": "display_data"
    },
    {
     "data": {
      "text/html": [
       "<div>\n",
       "<style scoped>\n",
       "    .dataframe tbody tr th:only-of-type {\n",
       "        vertical-align: middle;\n",
       "    }\n",
       "\n",
       "    .dataframe tbody tr th {\n",
       "        vertical-align: top;\n",
       "    }\n",
       "\n",
       "    .dataframe thead th {\n",
       "        text-align: right;\n",
       "    }\n",
       "</style>\n",
       "<table border=\"1\" class=\"dataframe\">\n",
       "  <thead>\n",
       "    <tr style=\"text-align: right;\">\n",
       "      <th></th>\n",
       "      <th>1</th>\n",
       "      <th>2</th>\n",
       "      <th>3</th>\n",
       "      <th>4</th>\n",
       "      <th>5</th>\n",
       "    </tr>\n",
       "  </thead>\n",
       "  <tbody>\n",
       "    <tr>\n",
       "      <th>0</th>\n",
       "      <td>0     -3.532758\n",
       "1     -3.352283\n",
       "2     -1.90848...</td>\n",
       "      <td>0      0.428580\n",
       "1      1.486844\n",
       "2      2.54510...</td>\n",
       "      <td>0      0.715312\n",
       "1      1.482400\n",
       "2      2.50518...</td>\n",
       "      <td>0     -1.531798\n",
       "1      0.222548\n",
       "2      0.27414...</td>\n",
       "      <td>0     -3.905355\n",
       "1     -4.104342\n",
       "2     -1.11953...</td>\n",
       "    </tr>\n",
       "    <tr>\n",
       "      <th>1</th>\n",
       "      <td>0     -0.145159\n",
       "1     -1.662650\n",
       "2     -1.03780...</td>\n",
       "      <td>0      4.924285\n",
       "1      2.058658\n",
       "2     -1.58850...</td>\n",
       "      <td>0      3.499770\n",
       "1      1.422557\n",
       "2     -2.03946...</td>\n",
       "      <td>0      4.255151\n",
       "1      2.629867\n",
       "2     -0.86695...</td>\n",
       "      <td>0     -2.464715\n",
       "1     -0.775527\n",
       "2      1.33595...</td>\n",
       "    </tr>\n",
       "    <tr>\n",
       "      <th>2</th>\n",
       "      <td>0      1.017120\n",
       "1      1.017120\n",
       "2      0.93308...</td>\n",
       "      <td>0      1.466091\n",
       "1      1.466091\n",
       "2      0.00341...</td>\n",
       "      <td>0      0.196592\n",
       "1      0.196592\n",
       "2     -0.91639...</td>\n",
       "      <td>0      2.282684\n",
       "1      2.282684\n",
       "2      0.77855...</td>\n",
       "      <td>0      1.239447\n",
       "1      1.239447\n",
       "2      3.52820...</td>\n",
       "    </tr>\n",
       "    <tr>\n",
       "      <th>3</th>\n",
       "      <td>0     -2.712193\n",
       "1     -2.764304\n",
       "2     -2.29530...</td>\n",
       "      <td>0     -0.642553\n",
       "1     -0.642553\n",
       "2      0.83601...</td>\n",
       "      <td>0     -0.857057\n",
       "1     -0.857057\n",
       "2      0.97338...</td>\n",
       "      <td>0     -1.238628\n",
       "1     -1.238628\n",
       "2      1.62824...</td>\n",
       "      <td>0     -1.458492\n",
       "1     -1.458492\n",
       "2     -1.45849...</td>\n",
       "    </tr>\n",
       "    <tr>\n",
       "      <th>4</th>\n",
       "      <td>0     -0.101098\n",
       "1      2.169249\n",
       "2      2.16924...</td>\n",
       "      <td>0     -2.239165\n",
       "1     -1.055485\n",
       "2     -1.05548...</td>\n",
       "      <td>0     -2.914322\n",
       "1     -1.335423\n",
       "2     -1.33542...</td>\n",
       "      <td>0     -1.375081\n",
       "1     -0.356996\n",
       "2     -0.35699...</td>\n",
       "      <td>0     -0.539670\n",
       "1     -0.024092\n",
       "2     -0.02409...</td>\n",
       "    </tr>\n",
       "    <tr>\n",
       "      <th>...</th>\n",
       "      <td>...</td>\n",
       "      <td>...</td>\n",
       "      <td>...</td>\n",
       "      <td>...</td>\n",
       "      <td>...</td>\n",
       "    </tr>\n",
       "    <tr>\n",
       "      <th>333</th>\n",
       "      <td>0      0.657722\n",
       "1      0.597417\n",
       "2     -0.42777...</td>\n",
       "      <td>0      0.599663\n",
       "1      1.579946\n",
       "2      1.40171...</td>\n",
       "      <td>0      3.273461\n",
       "1      3.273461\n",
       "2      1.58749...</td>\n",
       "      <td>0      0.689393\n",
       "1      0.689393\n",
       "2     -0.02400...</td>\n",
       "      <td>0     -0.455927\n",
       "1      0.544774\n",
       "2     -0.45592...</td>\n",
       "    </tr>\n",
       "    <tr>\n",
       "      <th>334</th>\n",
       "      <td>0      0.044599\n",
       "1      0.044599\n",
       "2      0.74052...</td>\n",
       "      <td>0     -0.073953\n",
       "1     -0.073953\n",
       "2     -0.07395...</td>\n",
       "      <td>0      0.211057\n",
       "1      0.211057\n",
       "2     -0.05077...</td>\n",
       "      <td>0     -0.448563\n",
       "1     -0.448563\n",
       "2     -0.13409...</td>\n",
       "      <td>0     -0.468329\n",
       "1     -0.468329\n",
       "2     -1.34651...</td>\n",
       "    </tr>\n",
       "    <tr>\n",
       "      <th>335</th>\n",
       "      <td>0     -0.866741\n",
       "1     -0.720461\n",
       "2     -0.39864...</td>\n",
       "      <td>0     -0.719960\n",
       "1     -0.670672\n",
       "2     -0.67067...</td>\n",
       "      <td>0     -0.939339\n",
       "1     -0.496288\n",
       "2     -0.55958...</td>\n",
       "      <td>0     -0.416840\n",
       "1     -0.584264\n",
       "2     -0.65123...</td>\n",
       "      <td>0     -2.099028\n",
       "1     -2.099028\n",
       "2     -2.09902...</td>\n",
       "    </tr>\n",
       "    <tr>\n",
       "      <th>336</th>\n",
       "      <td>0      2.311233\n",
       "1      0.962620\n",
       "2      1.63692...</td>\n",
       "      <td>0     -0.728086\n",
       "1     -1.673453\n",
       "2     -1.42835...</td>\n",
       "      <td>0     -1.115160\n",
       "1     -2.164146\n",
       "2     -1.28999...</td>\n",
       "      <td>0      0.187708\n",
       "1     -2.339507\n",
       "2     -2.13999...</td>\n",
       "      <td>0     -0.046224\n",
       "1     -0.046224\n",
       "2      0.20107...</td>\n",
       "    </tr>\n",
       "    <tr>\n",
       "      <th>337</th>\n",
       "      <td>0      0.567917\n",
       "1      0.567917\n",
       "2     -0.22577...</td>\n",
       "      <td>0     -0.797817\n",
       "1     -0.797817\n",
       "2     -2.48725...</td>\n",
       "      <td>0     -0.794842\n",
       "1     -0.794842\n",
       "2     -2.71491...</td>\n",
       "      <td>0      0.784230\n",
       "1      0.784230\n",
       "2     -1.46793...</td>\n",
       "      <td>0      0.955715\n",
       "1      0.955715\n",
       "2      0.78355...</td>\n",
       "    </tr>\n",
       "  </tbody>\n",
       "</table>\n",
       "<p>338 rows × 5 columns</p>\n",
       "</div>"
      ],
      "text/plain": [
       "                                                     1  \\\n",
       "0    0     -3.532758\n",
       "1     -3.352283\n",
       "2     -1.90848...   \n",
       "1    0     -0.145159\n",
       "1     -1.662650\n",
       "2     -1.03780...   \n",
       "2    0      1.017120\n",
       "1      1.017120\n",
       "2      0.93308...   \n",
       "3    0     -2.712193\n",
       "1     -2.764304\n",
       "2     -2.29530...   \n",
       "4    0     -0.101098\n",
       "1      2.169249\n",
       "2      2.16924...   \n",
       "..                                                 ...   \n",
       "333  0      0.657722\n",
       "1      0.597417\n",
       "2     -0.42777...   \n",
       "334  0      0.044599\n",
       "1      0.044599\n",
       "2      0.74052...   \n",
       "335  0     -0.866741\n",
       "1     -0.720461\n",
       "2     -0.39864...   \n",
       "336  0      2.311233\n",
       "1      0.962620\n",
       "2      1.63692...   \n",
       "337  0      0.567917\n",
       "1      0.567917\n",
       "2     -0.22577...   \n",
       "\n",
       "                                                     2  \\\n",
       "0    0      0.428580\n",
       "1      1.486844\n",
       "2      2.54510...   \n",
       "1    0      4.924285\n",
       "1      2.058658\n",
       "2     -1.58850...   \n",
       "2    0      1.466091\n",
       "1      1.466091\n",
       "2      0.00341...   \n",
       "3    0     -0.642553\n",
       "1     -0.642553\n",
       "2      0.83601...   \n",
       "4    0     -2.239165\n",
       "1     -1.055485\n",
       "2     -1.05548...   \n",
       "..                                                 ...   \n",
       "333  0      0.599663\n",
       "1      1.579946\n",
       "2      1.40171...   \n",
       "334  0     -0.073953\n",
       "1     -0.073953\n",
       "2     -0.07395...   \n",
       "335  0     -0.719960\n",
       "1     -0.670672\n",
       "2     -0.67067...   \n",
       "336  0     -0.728086\n",
       "1     -1.673453\n",
       "2     -1.42835...   \n",
       "337  0     -0.797817\n",
       "1     -0.797817\n",
       "2     -2.48725...   \n",
       "\n",
       "                                                     3  \\\n",
       "0    0      0.715312\n",
       "1      1.482400\n",
       "2      2.50518...   \n",
       "1    0      3.499770\n",
       "1      1.422557\n",
       "2     -2.03946...   \n",
       "2    0      0.196592\n",
       "1      0.196592\n",
       "2     -0.91639...   \n",
       "3    0     -0.857057\n",
       "1     -0.857057\n",
       "2      0.97338...   \n",
       "4    0     -2.914322\n",
       "1     -1.335423\n",
       "2     -1.33542...   \n",
       "..                                                 ...   \n",
       "333  0      3.273461\n",
       "1      3.273461\n",
       "2      1.58749...   \n",
       "334  0      0.211057\n",
       "1      0.211057\n",
       "2     -0.05077...   \n",
       "335  0     -0.939339\n",
       "1     -0.496288\n",
       "2     -0.55958...   \n",
       "336  0     -1.115160\n",
       "1     -2.164146\n",
       "2     -1.28999...   \n",
       "337  0     -0.794842\n",
       "1     -0.794842\n",
       "2     -2.71491...   \n",
       "\n",
       "                                                     4  \\\n",
       "0    0     -1.531798\n",
       "1      0.222548\n",
       "2      0.27414...   \n",
       "1    0      4.255151\n",
       "1      2.629867\n",
       "2     -0.86695...   \n",
       "2    0      2.282684\n",
       "1      2.282684\n",
       "2      0.77855...   \n",
       "3    0     -1.238628\n",
       "1     -1.238628\n",
       "2      1.62824...   \n",
       "4    0     -1.375081\n",
       "1     -0.356996\n",
       "2     -0.35699...   \n",
       "..                                                 ...   \n",
       "333  0      0.689393\n",
       "1      0.689393\n",
       "2     -0.02400...   \n",
       "334  0     -0.448563\n",
       "1     -0.448563\n",
       "2     -0.13409...   \n",
       "335  0     -0.416840\n",
       "1     -0.584264\n",
       "2     -0.65123...   \n",
       "336  0      0.187708\n",
       "1     -2.339507\n",
       "2     -2.13999...   \n",
       "337  0      0.784230\n",
       "1      0.784230\n",
       "2     -1.46793...   \n",
       "\n",
       "                                                     5  \n",
       "0    0     -3.905355\n",
       "1     -4.104342\n",
       "2     -1.11953...  \n",
       "1    0     -2.464715\n",
       "1     -0.775527\n",
       "2      1.33595...  \n",
       "2    0      1.239447\n",
       "1      1.239447\n",
       "2      3.52820...  \n",
       "3    0     -1.458492\n",
       "1     -1.458492\n",
       "2     -1.45849...  \n",
       "4    0     -0.539670\n",
       "1     -0.024092\n",
       "2     -0.02409...  \n",
       "..                                                 ...  \n",
       "333  0     -0.455927\n",
       "1      0.544774\n",
       "2     -0.45592...  \n",
       "334  0     -0.468329\n",
       "1     -0.468329\n",
       "2     -1.34651...  \n",
       "335  0     -2.099028\n",
       "1     -2.099028\n",
       "2     -2.09902...  \n",
       "336  0     -0.046224\n",
       "1     -0.046224\n",
       "2      0.20107...  \n",
       "337  0      0.955715\n",
       "1      0.955715\n",
       "2      0.78355...  \n",
       "\n",
       "[338 rows x 5 columns]"
      ]
     },
     "metadata": {},
     "output_type": "display_data"
    },
    {
     "data": {
      "text/plain": [
       "'Completed'"
      ]
     },
     "metadata": {},
     "output_type": "display_data"
    },
    {
     "data": {
      "text/plain": [
       "1"
      ]
     },
     "metadata": {},
     "output_type": "display_data"
    },
    {
     "data": {
      "text/plain": [
       "'Completed'"
      ]
     },
     "metadata": {},
     "output_type": "display_data"
    },
    {
     "data": {
      "text/plain": [
       "2"
      ]
     },
     "metadata": {},
     "output_type": "display_data"
    },
    {
     "data": {
      "text/plain": [
       "'Completed'"
      ]
     },
     "metadata": {},
     "output_type": "display_data"
    },
    {
     "data": {
      "text/plain": [
       "3"
      ]
     },
     "metadata": {},
     "output_type": "display_data"
    },
    {
     "data": {
      "text/plain": [
       "'Completed'"
      ]
     },
     "metadata": {},
     "output_type": "display_data"
    },
    {
     "data": {
      "text/plain": [
       "4"
      ]
     },
     "metadata": {},
     "output_type": "display_data"
    },
    {
     "data": {
      "text/plain": [
       "'Completed'"
      ]
     },
     "metadata": {},
     "output_type": "display_data"
    },
    {
     "data": {
      "text/plain": [
       "5"
      ]
     },
     "metadata": {},
     "output_type": "display_data"
    },
    {
     "data": {
      "text/plain": [
       "'Completed'"
      ]
     },
     "metadata": {},
     "output_type": "display_data"
    },
    {
     "data": {
      "text/plain": [
       "6"
      ]
     },
     "metadata": {},
     "output_type": "display_data"
    },
    {
     "data": {
      "text/plain": [
       "'Completed'"
      ]
     },
     "metadata": {},
     "output_type": "display_data"
    },
    {
     "data": {
      "text/plain": [
       "7"
      ]
     },
     "metadata": {},
     "output_type": "display_data"
    },
    {
     "data": {
      "text/plain": [
       "'Completed'"
      ]
     },
     "metadata": {},
     "output_type": "display_data"
    },
    {
     "data": {
      "text/plain": [
       "8"
      ]
     },
     "metadata": {},
     "output_type": "display_data"
    },
    {
     "data": {
      "text/plain": [
       "'Completed'"
      ]
     },
     "metadata": {},
     "output_type": "display_data"
    },
    {
     "data": {
      "text/plain": [
       "9"
      ]
     },
     "metadata": {},
     "output_type": "display_data"
    },
    {
     "data": {
      "text/plain": [
       "'Completed'"
      ]
     },
     "metadata": {},
     "output_type": "display_data"
    },
    {
     "data": {
      "text/plain": [
       "10"
      ]
     },
     "metadata": {},
     "output_type": "display_data"
    },
    {
     "data": {
      "text/plain": [
       "'Completed'"
      ]
     },
     "metadata": {},
     "output_type": "display_data"
    },
    {
     "data": {
      "text/plain": [
       "11"
      ]
     },
     "metadata": {},
     "output_type": "display_data"
    },
    {
     "data": {
      "text/plain": [
       "'Completed'"
      ]
     },
     "metadata": {},
     "output_type": "display_data"
    },
    {
     "data": {
      "text/plain": [
       "12"
      ]
     },
     "metadata": {},
     "output_type": "display_data"
    },
    {
     "data": {
      "text/plain": [
       "'Completed'"
      ]
     },
     "metadata": {},
     "output_type": "display_data"
    },
    {
     "data": {
      "text/plain": [
       "13"
      ]
     },
     "metadata": {},
     "output_type": "display_data"
    },
    {
     "data": {
      "text/plain": [
       "'Completed'"
      ]
     },
     "metadata": {},
     "output_type": "display_data"
    },
    {
     "data": {
      "text/plain": [
       "14"
      ]
     },
     "metadata": {},
     "output_type": "display_data"
    },
    {
     "data": {
      "text/plain": [
       "'Completed'"
      ]
     },
     "metadata": {},
     "output_type": "display_data"
    },
    {
     "data": {
      "text/plain": [
       "15"
      ]
     },
     "metadata": {},
     "output_type": "display_data"
    },
    {
     "data": {
      "text/plain": [
       "'Completed'"
      ]
     },
     "metadata": {},
     "output_type": "display_data"
    },
    {
     "data": {
      "text/plain": [
       "16"
      ]
     },
     "metadata": {},
     "output_type": "display_data"
    },
    {
     "data": {
      "text/plain": [
       "'Completed'"
      ]
     },
     "metadata": {},
     "output_type": "display_data"
    },
    {
     "data": {
      "text/plain": [
       "17"
      ]
     },
     "metadata": {},
     "output_type": "display_data"
    },
    {
     "data": {
      "text/plain": [
       "'Completed'"
      ]
     },
     "metadata": {},
     "output_type": "display_data"
    },
    {
     "data": {
      "text/plain": [
       "18"
      ]
     },
     "metadata": {},
     "output_type": "display_data"
    },
    {
     "data": {
      "text/plain": [
       "'Completed'"
      ]
     },
     "metadata": {},
     "output_type": "display_data"
    },
    {
     "data": {
      "text/plain": [
       "19"
      ]
     },
     "metadata": {},
     "output_type": "display_data"
    },
    {
     "data": {
      "text/plain": [
       "'Completed'"
      ]
     },
     "metadata": {},
     "output_type": "display_data"
    },
    {
     "data": {
      "text/plain": [
       "20"
      ]
     },
     "metadata": {},
     "output_type": "display_data"
    },
    {
     "data": {
      "text/plain": [
       "'Completed'"
      ]
     },
     "metadata": {},
     "output_type": "display_data"
    },
    {
     "data": {
      "text/plain": [
       "21"
      ]
     },
     "metadata": {},
     "output_type": "display_data"
    },
    {
     "data": {
      "text/plain": [
       "'Completed'"
      ]
     },
     "metadata": {},
     "output_type": "display_data"
    },
    {
     "data": {
      "text/plain": [
       "22"
      ]
     },
     "metadata": {},
     "output_type": "display_data"
    },
    {
     "data": {
      "text/plain": [
       "'Completed'"
      ]
     },
     "metadata": {},
     "output_type": "display_data"
    },
    {
     "data": {
      "text/plain": [
       "23"
      ]
     },
     "metadata": {},
     "output_type": "display_data"
    },
    {
     "data": {
      "text/plain": [
       "'Completed'"
      ]
     },
     "metadata": {},
     "output_type": "display_data"
    },
    {
     "data": {
      "text/plain": [
       "24"
      ]
     },
     "metadata": {},
     "output_type": "display_data"
    },
    {
     "data": {
      "text/plain": [
       "'Completed'"
      ]
     },
     "metadata": {},
     "output_type": "display_data"
    },
    {
     "data": {
      "text/plain": [
       "25"
      ]
     },
     "metadata": {},
     "output_type": "display_data"
    },
    {
     "data": {
      "text/plain": [
       "'Completed'"
      ]
     },
     "metadata": {},
     "output_type": "display_data"
    },
    {
     "data": {
      "text/plain": [
       "26"
      ]
     },
     "metadata": {},
     "output_type": "display_data"
    },
    {
     "data": {
      "text/plain": [
       "'Completed'"
      ]
     },
     "metadata": {},
     "output_type": "display_data"
    },
    {
     "data": {
      "text/plain": [
       "27"
      ]
     },
     "metadata": {},
     "output_type": "display_data"
    },
    {
     "data": {
      "text/plain": [
       "'Completed'"
      ]
     },
     "metadata": {},
     "output_type": "display_data"
    },
    {
     "data": {
      "text/plain": [
       "28"
      ]
     },
     "metadata": {},
     "output_type": "display_data"
    },
    {
     "data": {
      "text/plain": [
       "'Completed'"
      ]
     },
     "metadata": {},
     "output_type": "display_data"
    },
    {
     "data": {
      "text/plain": [
       "29"
      ]
     },
     "metadata": {},
     "output_type": "display_data"
    },
    {
     "data": {
      "text/plain": [
       "'Completed'"
      ]
     },
     "metadata": {},
     "output_type": "display_data"
    },
    {
     "data": {
      "text/plain": [
       "30"
      ]
     },
     "metadata": {},
     "output_type": "display_data"
    },
    {
     "data": {
      "text/plain": [
       "'Current key in progress'"
      ]
     },
     "metadata": {},
     "output_type": "display_data"
    },
    {
     "data": {
      "text/plain": [
       "'sample_numbers_list_0.5_to_0.6'"
      ]
     },
     "metadata": {},
     "output_type": "display_data"
    },
    {
     "data": {
      "text/plain": [
       "202"
      ]
     },
     "metadata": {},
     "output_type": "display_data"
    },
    {
     "data": {
      "text/html": [
       "<div>\n",
       "<style scoped>\n",
       "    .dataframe tbody tr th:only-of-type {\n",
       "        vertical-align: middle;\n",
       "    }\n",
       "\n",
       "    .dataframe tbody tr th {\n",
       "        vertical-align: top;\n",
       "    }\n",
       "\n",
       "    .dataframe thead th {\n",
       "        text-align: right;\n",
       "    }\n",
       "</style>\n",
       "<table border=\"1\" class=\"dataframe\">\n",
       "  <thead>\n",
       "    <tr style=\"text-align: right;\">\n",
       "      <th></th>\n",
       "      <th>Subject</th>\n",
       "      <th>HR</th>\n",
       "      <th>MAP</th>\n",
       "      <th>DBP</th>\n",
       "      <th>SBP</th>\n",
       "      <th>Resp</th>\n",
       "    </tr>\n",
       "  </thead>\n",
       "  <tbody>\n",
       "    <tr>\n",
       "      <th>0</th>\n",
       "      <td>3</td>\n",
       "      <td>89.0</td>\n",
       "      <td>67.0</td>\n",
       "      <td>50.0</td>\n",
       "      <td>97.0</td>\n",
       "      <td>12.0</td>\n",
       "    </tr>\n",
       "    <tr>\n",
       "      <th>1</th>\n",
       "      <td>3</td>\n",
       "      <td>90.0</td>\n",
       "      <td>71.5</td>\n",
       "      <td>54.5</td>\n",
       "      <td>114.0</td>\n",
       "      <td>11.5</td>\n",
       "    </tr>\n",
       "    <tr>\n",
       "      <th>2</th>\n",
       "      <td>3</td>\n",
       "      <td>98.0</td>\n",
       "      <td>76.0</td>\n",
       "      <td>60.5</td>\n",
       "      <td>114.5</td>\n",
       "      <td>19.0</td>\n",
       "    </tr>\n",
       "    <tr>\n",
       "      <th>3</th>\n",
       "      <td>3</td>\n",
       "      <td>108.0</td>\n",
       "      <td>72.0</td>\n",
       "      <td>59.5</td>\n",
       "      <td>102.5</td>\n",
       "      <td>19.0</td>\n",
       "    </tr>\n",
       "    <tr>\n",
       "      <th>4</th>\n",
       "      <td>3</td>\n",
       "      <td>111.0</td>\n",
       "      <td>72.0</td>\n",
       "      <td>61.0</td>\n",
       "      <td>100.0</td>\n",
       "      <td>18.0</td>\n",
       "    </tr>\n",
       "    <tr>\n",
       "      <th>...</th>\n",
       "      <td>...</td>\n",
       "      <td>...</td>\n",
       "      <td>...</td>\n",
       "      <td>...</td>\n",
       "      <td>...</td>\n",
       "      <td>...</td>\n",
       "    </tr>\n",
       "    <tr>\n",
       "      <th>50</th>\n",
       "      <td>500</td>\n",
       "      <td>67.0</td>\n",
       "      <td>69.0</td>\n",
       "      <td>50.0</td>\n",
       "      <td>121.0</td>\n",
       "      <td>17.0</td>\n",
       "    </tr>\n",
       "    <tr>\n",
       "      <th>51</th>\n",
       "      <td>500</td>\n",
       "      <td>66.0</td>\n",
       "      <td>66.0</td>\n",
       "      <td>48.0</td>\n",
       "      <td>112.0</td>\n",
       "      <td>20.0</td>\n",
       "    </tr>\n",
       "    <tr>\n",
       "      <th>52</th>\n",
       "      <td>500</td>\n",
       "      <td>69.0</td>\n",
       "      <td>78.0</td>\n",
       "      <td>57.0</td>\n",
       "      <td>126.0</td>\n",
       "      <td>19.0</td>\n",
       "    </tr>\n",
       "    <tr>\n",
       "      <th>53</th>\n",
       "      <td>500</td>\n",
       "      <td>66.0</td>\n",
       "      <td>67.0</td>\n",
       "      <td>49.0</td>\n",
       "      <td>114.0</td>\n",
       "      <td>18.0</td>\n",
       "    </tr>\n",
       "    <tr>\n",
       "      <th>54</th>\n",
       "      <td>500</td>\n",
       "      <td>64.0</td>\n",
       "      <td>62.0</td>\n",
       "      <td>45.0</td>\n",
       "      <td>105.0</td>\n",
       "      <td>16.0</td>\n",
       "    </tr>\n",
       "  </tbody>\n",
       "</table>\n",
       "<p>9288 rows × 6 columns</p>\n",
       "</div>"
      ],
      "text/plain": [
       "    Subject     HR   MAP   DBP    SBP  Resp\n",
       "0         3   89.0  67.0  50.0   97.0  12.0\n",
       "1         3   90.0  71.5  54.5  114.0  11.5\n",
       "2         3   98.0  76.0  60.5  114.5  19.0\n",
       "3         3  108.0  72.0  59.5  102.5  19.0\n",
       "4         3  111.0  72.0  61.0  100.0  18.0\n",
       "..      ...    ...   ...   ...    ...   ...\n",
       "50      500   67.0  69.0  50.0  121.0  17.0\n",
       "51      500   66.0  66.0  48.0  112.0  20.0\n",
       "52      500   69.0  78.0  57.0  126.0  19.0\n",
       "53      500   66.0  67.0  49.0  114.0  18.0\n",
       "54      500   64.0  62.0  45.0  105.0  16.0\n",
       "\n",
       "[9288 rows x 6 columns]"
      ]
     },
     "metadata": {},
     "output_type": "display_data"
    },
    {
     "data": {
      "text/plain": [
       "'Avg length:'"
      ]
     },
     "metadata": {},
     "output_type": "display_data"
    },
    {
     "data": {
      "text/plain": [
       "108.59428571428572"
      ]
     },
     "metadata": {},
     "output_type": "display_data"
    },
    {
     "data": {
      "text/plain": [
       "6"
      ]
     },
     "metadata": {},
     "output_type": "display_data"
    },
    {
     "data": {
      "text/plain": [
       "'X_1:'"
      ]
     },
     "metadata": {},
     "output_type": "display_data"
    },
    {
     "data": {
      "text/html": [
       "<div>\n",
       "<style scoped>\n",
       "    .dataframe tbody tr th:only-of-type {\n",
       "        vertical-align: middle;\n",
       "    }\n",
       "\n",
       "    .dataframe tbody tr th {\n",
       "        vertical-align: top;\n",
       "    }\n",
       "\n",
       "    .dataframe thead th {\n",
       "        text-align: right;\n",
       "    }\n",
       "</style>\n",
       "<table border=\"1\" class=\"dataframe\">\n",
       "  <thead>\n",
       "    <tr style=\"text-align: right;\">\n",
       "      <th></th>\n",
       "      <th>1</th>\n",
       "      <th>2</th>\n",
       "      <th>3</th>\n",
       "      <th>4</th>\n",
       "      <th>5</th>\n",
       "    </tr>\n",
       "  </thead>\n",
       "  <tbody>\n",
       "    <tr>\n",
       "      <th>0</th>\n",
       "      <td>0     -3.548802\n",
       "1     -3.367801\n",
       "2     -1.91978...</td>\n",
       "      <td>0      0.430982\n",
       "1      1.494217\n",
       "2      2.55745...</td>\n",
       "      <td>0      0.723290\n",
       "1      1.492478\n",
       "2      2.51806...</td>\n",
       "      <td>0     -1.542011\n",
       "1      0.217276\n",
       "2      0.26901...</td>\n",
       "      <td>0     -3.924038\n",
       "1     -4.123753\n",
       "2     -1.12802...</td>\n",
       "    </tr>\n",
       "    <tr>\n",
       "      <th>1</th>\n",
       "      <td>0     -5.247498\n",
       "1     -3.216591\n",
       "2     -1.07879...</td>\n",
       "      <td>0     -1.347462\n",
       "1     -2.628016\n",
       "2     -0.79865...</td>\n",
       "      <td>0     -1.027504\n",
       "1     -1.688042\n",
       "2     -0.08387...</td>\n",
       "      <td>0     -1.546311\n",
       "1     -2.554553\n",
       "2     -1.50048...</td>\n",
       "      <td>0     -2.900664\n",
       "1     -2.496312\n",
       "2     -1.58652...</td>\n",
       "    </tr>\n",
       "    <tr>\n",
       "      <th>2</th>\n",
       "      <td>0      1.025971\n",
       "1      1.025971\n",
       "2      0.94170...</td>\n",
       "      <td>0      1.474437\n",
       "1      1.474437\n",
       "2      0.00510...</td>\n",
       "      <td>0      0.195653\n",
       "1      0.195653\n",
       "2     -0.92236...</td>\n",
       "      <td>0      2.295130\n",
       "1      2.295130\n",
       "2      0.78441...</td>\n",
       "      <td>0      1.248605\n",
       "1      1.248605\n",
       "2      3.54499...</td>\n",
       "    </tr>\n",
       "    <tr>\n",
       "      <th>3</th>\n",
       "      <td>0     -2.716608\n",
       "1     -2.768897\n",
       "2     -2.29829...</td>\n",
       "      <td>0     -0.649718\n",
       "1     -0.649718\n",
       "2      0.83378...</td>\n",
       "      <td>0     -0.864310\n",
       "1     -0.864310\n",
       "2      0.97319...</td>\n",
       "      <td>0     -1.247820\n",
       "1     -1.247820\n",
       "2      1.62843...</td>\n",
       "      <td>0     -1.465692\n",
       "1     -1.465692\n",
       "2     -1.46569...</td>\n",
       "    </tr>\n",
       "    <tr>\n",
       "      <th>4</th>\n",
       "      <td>0      1.375152\n",
       "1      1.375152\n",
       "2     -4.37386...</td>\n",
       "      <td>0     -0.129986\n",
       "1     -0.129986\n",
       "2      0.52296...</td>\n",
       "      <td>0      0.674782\n",
       "1      0.674782\n",
       "2      0.44488...</td>\n",
       "      <td>0     -0.329309\n",
       "1     -0.329309\n",
       "2      1.36877...</td>\n",
       "      <td>0      1.599053\n",
       "1      1.599053\n",
       "2      1.18884...</td>\n",
       "    </tr>\n",
       "    <tr>\n",
       "      <th>...</th>\n",
       "      <td>...</td>\n",
       "      <td>...</td>\n",
       "      <td>...</td>\n",
       "      <td>...</td>\n",
       "      <td>...</td>\n",
       "    </tr>\n",
       "    <tr>\n",
       "      <th>345</th>\n",
       "      <td>0      0.650005\n",
       "1      0.589643\n",
       "2     -0.43650...</td>\n",
       "      <td>0      0.608622\n",
       "1      1.589685\n",
       "2      1.41131...</td>\n",
       "      <td>0      3.279536\n",
       "1      3.279536\n",
       "2      1.58788...</td>\n",
       "      <td>0      0.691488\n",
       "1      0.691488\n",
       "2     -0.02521...</td>\n",
       "      <td>0     -0.462499\n",
       "1      0.541519\n",
       "2     -0.46249...</td>\n",
       "    </tr>\n",
       "    <tr>\n",
       "      <th>346</th>\n",
       "      <td>0      0.047154\n",
       "1      0.047154\n",
       "2      0.74614...</td>\n",
       "      <td>0     -0.057694\n",
       "1     -0.057694\n",
       "2     -0.05769...</td>\n",
       "      <td>0      0.213708\n",
       "1      0.213708\n",
       "2     -0.04931...</td>\n",
       "      <td>0     -0.447369\n",
       "1     -0.447369\n",
       "2     -0.13157...</td>\n",
       "      <td>0     -0.476827\n",
       "1     -0.476827\n",
       "2     -1.35618...</td>\n",
       "    </tr>\n",
       "    <tr>\n",
       "      <th>347</th>\n",
       "      <td>0     -0.843348\n",
       "1     -0.698360\n",
       "2     -0.37938...</td>\n",
       "      <td>0     -0.717568\n",
       "1     -0.668112\n",
       "2     -0.66811...</td>\n",
       "      <td>0     -0.930073\n",
       "1     -0.487014\n",
       "2     -0.55030...</td>\n",
       "      <td>0     -0.418345\n",
       "1     -0.586556\n",
       "2     -0.65384...</td>\n",
       "      <td>0     -2.073631\n",
       "1     -2.073631\n",
       "2     -2.07363...</td>\n",
       "    </tr>\n",
       "    <tr>\n",
       "      <th>348</th>\n",
       "      <td>0      2.245241\n",
       "1      0.922891\n",
       "2      1.58406...</td>\n",
       "      <td>0     -0.732514\n",
       "1     -1.682273\n",
       "2     -1.43603...</td>\n",
       "      <td>0     -1.124194\n",
       "1     -2.176147\n",
       "2     -1.29952...</td>\n",
       "      <td>0      0.192826\n",
       "1     -2.343582\n",
       "2     -2.14333...</td>\n",
       "      <td>0     -0.059245\n",
       "1     -0.059245\n",
       "2      0.18685...</td>\n",
       "    </tr>\n",
       "    <tr>\n",
       "      <th>349</th>\n",
       "      <td>0      0.571725\n",
       "1      0.571725\n",
       "2     -0.22564...</td>\n",
       "      <td>0     -0.799545\n",
       "1     -0.799545\n",
       "2     -2.49661...</td>\n",
       "      <td>0     -0.799549\n",
       "1     -0.799549\n",
       "2     -2.72855...</td>\n",
       "      <td>0      0.793528\n",
       "1      0.793528\n",
       "2     -1.45869...</td>\n",
       "      <td>0      0.944124\n",
       "1      0.944124\n",
       "2      0.77217...</td>\n",
       "    </tr>\n",
       "  </tbody>\n",
       "</table>\n",
       "<p>350 rows × 5 columns</p>\n",
       "</div>"
      ],
      "text/plain": [
       "                                                     1  \\\n",
       "0    0     -3.548802\n",
       "1     -3.367801\n",
       "2     -1.91978...   \n",
       "1    0     -5.247498\n",
       "1     -3.216591\n",
       "2     -1.07879...   \n",
       "2    0      1.025971\n",
       "1      1.025971\n",
       "2      0.94170...   \n",
       "3    0     -2.716608\n",
       "1     -2.768897\n",
       "2     -2.29829...   \n",
       "4    0      1.375152\n",
       "1      1.375152\n",
       "2     -4.37386...   \n",
       "..                                                 ...   \n",
       "345  0      0.650005\n",
       "1      0.589643\n",
       "2     -0.43650...   \n",
       "346  0      0.047154\n",
       "1      0.047154\n",
       "2      0.74614...   \n",
       "347  0     -0.843348\n",
       "1     -0.698360\n",
       "2     -0.37938...   \n",
       "348  0      2.245241\n",
       "1      0.922891\n",
       "2      1.58406...   \n",
       "349  0      0.571725\n",
       "1      0.571725\n",
       "2     -0.22564...   \n",
       "\n",
       "                                                     2  \\\n",
       "0    0      0.430982\n",
       "1      1.494217\n",
       "2      2.55745...   \n",
       "1    0     -1.347462\n",
       "1     -2.628016\n",
       "2     -0.79865...   \n",
       "2    0      1.474437\n",
       "1      1.474437\n",
       "2      0.00510...   \n",
       "3    0     -0.649718\n",
       "1     -0.649718\n",
       "2      0.83378...   \n",
       "4    0     -0.129986\n",
       "1     -0.129986\n",
       "2      0.52296...   \n",
       "..                                                 ...   \n",
       "345  0      0.608622\n",
       "1      1.589685\n",
       "2      1.41131...   \n",
       "346  0     -0.057694\n",
       "1     -0.057694\n",
       "2     -0.05769...   \n",
       "347  0     -0.717568\n",
       "1     -0.668112\n",
       "2     -0.66811...   \n",
       "348  0     -0.732514\n",
       "1     -1.682273\n",
       "2     -1.43603...   \n",
       "349  0     -0.799545\n",
       "1     -0.799545\n",
       "2     -2.49661...   \n",
       "\n",
       "                                                     3  \\\n",
       "0    0      0.723290\n",
       "1      1.492478\n",
       "2      2.51806...   \n",
       "1    0     -1.027504\n",
       "1     -1.688042\n",
       "2     -0.08387...   \n",
       "2    0      0.195653\n",
       "1      0.195653\n",
       "2     -0.92236...   \n",
       "3    0     -0.864310\n",
       "1     -0.864310\n",
       "2      0.97319...   \n",
       "4    0      0.674782\n",
       "1      0.674782\n",
       "2      0.44488...   \n",
       "..                                                 ...   \n",
       "345  0      3.279536\n",
       "1      3.279536\n",
       "2      1.58788...   \n",
       "346  0      0.213708\n",
       "1      0.213708\n",
       "2     -0.04931...   \n",
       "347  0     -0.930073\n",
       "1     -0.487014\n",
       "2     -0.55030...   \n",
       "348  0     -1.124194\n",
       "1     -2.176147\n",
       "2     -1.29952...   \n",
       "349  0     -0.799549\n",
       "1     -0.799549\n",
       "2     -2.72855...   \n",
       "\n",
       "                                                     4  \\\n",
       "0    0     -1.542011\n",
       "1      0.217276\n",
       "2      0.26901...   \n",
       "1    0     -1.546311\n",
       "1     -2.554553\n",
       "2     -1.50048...   \n",
       "2    0      2.295130\n",
       "1      2.295130\n",
       "2      0.78441...   \n",
       "3    0     -1.247820\n",
       "1     -1.247820\n",
       "2      1.62843...   \n",
       "4    0     -0.329309\n",
       "1     -0.329309\n",
       "2      1.36877...   \n",
       "..                                                 ...   \n",
       "345  0      0.691488\n",
       "1      0.691488\n",
       "2     -0.02521...   \n",
       "346  0     -0.447369\n",
       "1     -0.447369\n",
       "2     -0.13157...   \n",
       "347  0     -0.418345\n",
       "1     -0.586556\n",
       "2     -0.65384...   \n",
       "348  0      0.192826\n",
       "1     -2.343582\n",
       "2     -2.14333...   \n",
       "349  0      0.793528\n",
       "1      0.793528\n",
       "2     -1.45869...   \n",
       "\n",
       "                                                     5  \n",
       "0    0     -3.924038\n",
       "1     -4.123753\n",
       "2     -1.12802...  \n",
       "1    0     -2.900664\n",
       "1     -2.496312\n",
       "2     -1.58652...  \n",
       "2    0      1.248605\n",
       "1      1.248605\n",
       "2      3.54499...  \n",
       "3    0     -1.465692\n",
       "1     -1.465692\n",
       "2     -1.46569...  \n",
       "4    0      1.599053\n",
       "1      1.599053\n",
       "2      1.18884...  \n",
       "..                                                 ...  \n",
       "345  0     -0.462499\n",
       "1      0.541519\n",
       "2     -0.46249...  \n",
       "346  0     -0.476827\n",
       "1     -0.476827\n",
       "2     -1.35618...  \n",
       "347  0     -2.073631\n",
       "1     -2.073631\n",
       "2     -2.07363...  \n",
       "348  0     -0.059245\n",
       "1     -0.059245\n",
       "2      0.18685...  \n",
       "349  0      0.944124\n",
       "1      0.944124\n",
       "2      0.77217...  \n",
       "\n",
       "[350 rows x 5 columns]"
      ]
     },
     "metadata": {},
     "output_type": "display_data"
    },
    {
     "data": {
      "text/plain": [
       "'Completed'"
      ]
     },
     "metadata": {},
     "output_type": "display_data"
    },
    {
     "data": {
      "text/plain": [
       "1"
      ]
     },
     "metadata": {},
     "output_type": "display_data"
    },
    {
     "data": {
      "text/plain": [
       "'Completed'"
      ]
     },
     "metadata": {},
     "output_type": "display_data"
    },
    {
     "data": {
      "text/plain": [
       "2"
      ]
     },
     "metadata": {},
     "output_type": "display_data"
    },
    {
     "data": {
      "text/plain": [
       "'Completed'"
      ]
     },
     "metadata": {},
     "output_type": "display_data"
    },
    {
     "data": {
      "text/plain": [
       "3"
      ]
     },
     "metadata": {},
     "output_type": "display_data"
    },
    {
     "data": {
      "text/plain": [
       "'Completed'"
      ]
     },
     "metadata": {},
     "output_type": "display_data"
    },
    {
     "data": {
      "text/plain": [
       "4"
      ]
     },
     "metadata": {},
     "output_type": "display_data"
    },
    {
     "data": {
      "text/plain": [
       "'Completed'"
      ]
     },
     "metadata": {},
     "output_type": "display_data"
    },
    {
     "data": {
      "text/plain": [
       "5"
      ]
     },
     "metadata": {},
     "output_type": "display_data"
    },
    {
     "data": {
      "text/plain": [
       "'Completed'"
      ]
     },
     "metadata": {},
     "output_type": "display_data"
    },
    {
     "data": {
      "text/plain": [
       "6"
      ]
     },
     "metadata": {},
     "output_type": "display_data"
    },
    {
     "data": {
      "text/plain": [
       "'Completed'"
      ]
     },
     "metadata": {},
     "output_type": "display_data"
    },
    {
     "data": {
      "text/plain": [
       "7"
      ]
     },
     "metadata": {},
     "output_type": "display_data"
    },
    {
     "data": {
      "text/plain": [
       "'Completed'"
      ]
     },
     "metadata": {},
     "output_type": "display_data"
    },
    {
     "data": {
      "text/plain": [
       "8"
      ]
     },
     "metadata": {},
     "output_type": "display_data"
    },
    {
     "data": {
      "text/plain": [
       "'Completed'"
      ]
     },
     "metadata": {},
     "output_type": "display_data"
    },
    {
     "data": {
      "text/plain": [
       "9"
      ]
     },
     "metadata": {},
     "output_type": "display_data"
    },
    {
     "data": {
      "text/plain": [
       "'Completed'"
      ]
     },
     "metadata": {},
     "output_type": "display_data"
    },
    {
     "data": {
      "text/plain": [
       "10"
      ]
     },
     "metadata": {},
     "output_type": "display_data"
    },
    {
     "data": {
      "text/plain": [
       "'Completed'"
      ]
     },
     "metadata": {},
     "output_type": "display_data"
    },
    {
     "data": {
      "text/plain": [
       "11"
      ]
     },
     "metadata": {},
     "output_type": "display_data"
    },
    {
     "data": {
      "text/plain": [
       "'Completed'"
      ]
     },
     "metadata": {},
     "output_type": "display_data"
    },
    {
     "data": {
      "text/plain": [
       "12"
      ]
     },
     "metadata": {},
     "output_type": "display_data"
    },
    {
     "data": {
      "text/plain": [
       "'Completed'"
      ]
     },
     "metadata": {},
     "output_type": "display_data"
    },
    {
     "data": {
      "text/plain": [
       "13"
      ]
     },
     "metadata": {},
     "output_type": "display_data"
    },
    {
     "data": {
      "text/plain": [
       "'Completed'"
      ]
     },
     "metadata": {},
     "output_type": "display_data"
    },
    {
     "data": {
      "text/plain": [
       "14"
      ]
     },
     "metadata": {},
     "output_type": "display_data"
    },
    {
     "data": {
      "text/plain": [
       "'Completed'"
      ]
     },
     "metadata": {},
     "output_type": "display_data"
    },
    {
     "data": {
      "text/plain": [
       "15"
      ]
     },
     "metadata": {},
     "output_type": "display_data"
    },
    {
     "data": {
      "text/plain": [
       "'Completed'"
      ]
     },
     "metadata": {},
     "output_type": "display_data"
    },
    {
     "data": {
      "text/plain": [
       "16"
      ]
     },
     "metadata": {},
     "output_type": "display_data"
    },
    {
     "data": {
      "text/plain": [
       "'Completed'"
      ]
     },
     "metadata": {},
     "output_type": "display_data"
    },
    {
     "data": {
      "text/plain": [
       "17"
      ]
     },
     "metadata": {},
     "output_type": "display_data"
    },
    {
     "data": {
      "text/plain": [
       "'Completed'"
      ]
     },
     "metadata": {},
     "output_type": "display_data"
    },
    {
     "data": {
      "text/plain": [
       "18"
      ]
     },
     "metadata": {},
     "output_type": "display_data"
    },
    {
     "data": {
      "text/plain": [
       "'Completed'"
      ]
     },
     "metadata": {},
     "output_type": "display_data"
    },
    {
     "data": {
      "text/plain": [
       "19"
      ]
     },
     "metadata": {},
     "output_type": "display_data"
    },
    {
     "data": {
      "text/plain": [
       "'Completed'"
      ]
     },
     "metadata": {},
     "output_type": "display_data"
    },
    {
     "data": {
      "text/plain": [
       "20"
      ]
     },
     "metadata": {},
     "output_type": "display_data"
    },
    {
     "data": {
      "text/plain": [
       "'Completed'"
      ]
     },
     "metadata": {},
     "output_type": "display_data"
    },
    {
     "data": {
      "text/plain": [
       "21"
      ]
     },
     "metadata": {},
     "output_type": "display_data"
    },
    {
     "data": {
      "text/plain": [
       "'Completed'"
      ]
     },
     "metadata": {},
     "output_type": "display_data"
    },
    {
     "data": {
      "text/plain": [
       "22"
      ]
     },
     "metadata": {},
     "output_type": "display_data"
    },
    {
     "data": {
      "text/plain": [
       "'Completed'"
      ]
     },
     "metadata": {},
     "output_type": "display_data"
    },
    {
     "data": {
      "text/plain": [
       "23"
      ]
     },
     "metadata": {},
     "output_type": "display_data"
    },
    {
     "data": {
      "text/plain": [
       "'Completed'"
      ]
     },
     "metadata": {},
     "output_type": "display_data"
    },
    {
     "data": {
      "text/plain": [
       "24"
      ]
     },
     "metadata": {},
     "output_type": "display_data"
    },
    {
     "data": {
      "text/plain": [
       "'Completed'"
      ]
     },
     "metadata": {},
     "output_type": "display_data"
    },
    {
     "data": {
      "text/plain": [
       "25"
      ]
     },
     "metadata": {},
     "output_type": "display_data"
    },
    {
     "data": {
      "text/plain": [
       "'Completed'"
      ]
     },
     "metadata": {},
     "output_type": "display_data"
    },
    {
     "data": {
      "text/plain": [
       "26"
      ]
     },
     "metadata": {},
     "output_type": "display_data"
    },
    {
     "data": {
      "text/plain": [
       "'Completed'"
      ]
     },
     "metadata": {},
     "output_type": "display_data"
    },
    {
     "data": {
      "text/plain": [
       "27"
      ]
     },
     "metadata": {},
     "output_type": "display_data"
    },
    {
     "data": {
      "text/plain": [
       "'Completed'"
      ]
     },
     "metadata": {},
     "output_type": "display_data"
    },
    {
     "data": {
      "text/plain": [
       "28"
      ]
     },
     "metadata": {},
     "output_type": "display_data"
    },
    {
     "data": {
      "text/plain": [
       "'Completed'"
      ]
     },
     "metadata": {},
     "output_type": "display_data"
    },
    {
     "data": {
      "text/plain": [
       "29"
      ]
     },
     "metadata": {},
     "output_type": "display_data"
    },
    {
     "data": {
      "text/plain": [
       "'Completed'"
      ]
     },
     "metadata": {},
     "output_type": "display_data"
    },
    {
     "data": {
      "text/plain": [
       "30"
      ]
     },
     "metadata": {},
     "output_type": "display_data"
    },
    {
     "data": {
      "text/plain": [
       "'Current key in progress'"
      ]
     },
     "metadata": {},
     "output_type": "display_data"
    },
    {
     "data": {
      "text/plain": [
       "'sample_numbers_list_0.6_to_0.7'"
      ]
     },
     "metadata": {},
     "output_type": "display_data"
    },
    {
     "data": {
      "text/plain": [
       "237"
      ]
     },
     "metadata": {},
     "output_type": "display_data"
    },
    {
     "data": {
      "text/html": [
       "<div>\n",
       "<style scoped>\n",
       "    .dataframe tbody tr th:only-of-type {\n",
       "        vertical-align: middle;\n",
       "    }\n",
       "\n",
       "    .dataframe tbody tr th {\n",
       "        vertical-align: top;\n",
       "    }\n",
       "\n",
       "    .dataframe thead th {\n",
       "        text-align: right;\n",
       "    }\n",
       "</style>\n",
       "<table border=\"1\" class=\"dataframe\">\n",
       "  <thead>\n",
       "    <tr style=\"text-align: right;\">\n",
       "      <th></th>\n",
       "      <th>Subject</th>\n",
       "      <th>HR</th>\n",
       "      <th>MAP</th>\n",
       "      <th>DBP</th>\n",
       "      <th>SBP</th>\n",
       "      <th>Resp</th>\n",
       "    </tr>\n",
       "  </thead>\n",
       "  <tbody>\n",
       "    <tr>\n",
       "      <th>0</th>\n",
       "      <td>3</td>\n",
       "      <td>89.0</td>\n",
       "      <td>67.0</td>\n",
       "      <td>50.0</td>\n",
       "      <td>97.0</td>\n",
       "      <td>12.0</td>\n",
       "    </tr>\n",
       "    <tr>\n",
       "      <th>1</th>\n",
       "      <td>3</td>\n",
       "      <td>90.0</td>\n",
       "      <td>71.5</td>\n",
       "      <td>54.5</td>\n",
       "      <td>114.0</td>\n",
       "      <td>11.5</td>\n",
       "    </tr>\n",
       "    <tr>\n",
       "      <th>2</th>\n",
       "      <td>3</td>\n",
       "      <td>98.0</td>\n",
       "      <td>76.0</td>\n",
       "      <td>60.5</td>\n",
       "      <td>114.5</td>\n",
       "      <td>19.0</td>\n",
       "    </tr>\n",
       "    <tr>\n",
       "      <th>3</th>\n",
       "      <td>3</td>\n",
       "      <td>108.0</td>\n",
       "      <td>72.0</td>\n",
       "      <td>59.5</td>\n",
       "      <td>102.5</td>\n",
       "      <td>19.0</td>\n",
       "    </tr>\n",
       "    <tr>\n",
       "      <th>4</th>\n",
       "      <td>3</td>\n",
       "      <td>111.0</td>\n",
       "      <td>72.0</td>\n",
       "      <td>61.0</td>\n",
       "      <td>100.0</td>\n",
       "      <td>18.0</td>\n",
       "    </tr>\n",
       "    <tr>\n",
       "      <th>...</th>\n",
       "      <td>...</td>\n",
       "      <td>...</td>\n",
       "      <td>...</td>\n",
       "      <td>...</td>\n",
       "      <td>...</td>\n",
       "      <td>...</td>\n",
       "    </tr>\n",
       "    <tr>\n",
       "      <th>52</th>\n",
       "      <td>506</td>\n",
       "      <td>104.0</td>\n",
       "      <td>89.0</td>\n",
       "      <td>69.0</td>\n",
       "      <td>136.0</td>\n",
       "      <td>28.0</td>\n",
       "    </tr>\n",
       "    <tr>\n",
       "      <th>53</th>\n",
       "      <td>506</td>\n",
       "      <td>100.0</td>\n",
       "      <td>83.0</td>\n",
       "      <td>65.0</td>\n",
       "      <td>121.0</td>\n",
       "      <td>19.0</td>\n",
       "    </tr>\n",
       "    <tr>\n",
       "      <th>54</th>\n",
       "      <td>506</td>\n",
       "      <td>91.0</td>\n",
       "      <td>74.0</td>\n",
       "      <td>59.0</td>\n",
       "      <td>102.0</td>\n",
       "      <td>14.0</td>\n",
       "    </tr>\n",
       "    <tr>\n",
       "      <th>55</th>\n",
       "      <td>506</td>\n",
       "      <td>90.0</td>\n",
       "      <td>66.0</td>\n",
       "      <td>61.0</td>\n",
       "      <td>101.0</td>\n",
       "      <td>16.0</td>\n",
       "    </tr>\n",
       "    <tr>\n",
       "      <th>56</th>\n",
       "      <td>506</td>\n",
       "      <td>90.0</td>\n",
       "      <td>72.0</td>\n",
       "      <td>56.0</td>\n",
       "      <td>101.0</td>\n",
       "      <td>20.0</td>\n",
       "    </tr>\n",
       "  </tbody>\n",
       "</table>\n",
       "<p>9295 rows × 6 columns</p>\n",
       "</div>"
      ],
      "text/plain": [
       "    Subject     HR   MAP   DBP    SBP  Resp\n",
       "0         3   89.0  67.0  50.0   97.0  12.0\n",
       "1         3   90.0  71.5  54.5  114.0  11.5\n",
       "2         3   98.0  76.0  60.5  114.5  19.0\n",
       "3         3  108.0  72.0  59.5  102.5  19.0\n",
       "4         3  111.0  72.0  61.0  100.0  18.0\n",
       "..      ...    ...   ...   ...    ...   ...\n",
       "52      506  104.0  89.0  69.0  136.0  28.0\n",
       "53      506  100.0  83.0  65.0  121.0  19.0\n",
       "54      506   91.0  74.0  59.0  102.0  14.0\n",
       "55      506   90.0  66.0  61.0  101.0  16.0\n",
       "56      506   90.0  72.0  56.0  101.0  20.0\n",
       "\n",
       "[9295 rows x 6 columns]"
      ]
     },
     "metadata": {},
     "output_type": "display_data"
    },
    {
     "data": {
      "text/plain": [
       "'Avg length:'"
      ]
     },
     "metadata": {},
     "output_type": "display_data"
    },
    {
     "data": {
      "text/plain": [
       "108.59428571428572"
      ]
     },
     "metadata": {},
     "output_type": "display_data"
    },
    {
     "data": {
      "text/plain": [
       "6"
      ]
     },
     "metadata": {},
     "output_type": "display_data"
    },
    {
     "data": {
      "text/plain": [
       "'X_1:'"
      ]
     },
     "metadata": {},
     "output_type": "display_data"
    },
    {
     "data": {
      "text/html": [
       "<div>\n",
       "<style scoped>\n",
       "    .dataframe tbody tr th:only-of-type {\n",
       "        vertical-align: middle;\n",
       "    }\n",
       "\n",
       "    .dataframe tbody tr th {\n",
       "        vertical-align: top;\n",
       "    }\n",
       "\n",
       "    .dataframe thead th {\n",
       "        text-align: right;\n",
       "    }\n",
       "</style>\n",
       "<table border=\"1\" class=\"dataframe\">\n",
       "  <thead>\n",
       "    <tr style=\"text-align: right;\">\n",
       "      <th></th>\n",
       "      <th>1</th>\n",
       "      <th>2</th>\n",
       "      <th>3</th>\n",
       "      <th>4</th>\n",
       "      <th>5</th>\n",
       "    </tr>\n",
       "  </thead>\n",
       "  <tbody>\n",
       "    <tr>\n",
       "      <th>0</th>\n",
       "      <td>0     -3.548802\n",
       "1     -3.367801\n",
       "2     -1.91978...</td>\n",
       "      <td>0      0.430982\n",
       "1      1.494217\n",
       "2      2.55745...</td>\n",
       "      <td>0      0.723290\n",
       "1      1.492478\n",
       "2      2.51806...</td>\n",
       "      <td>0     -1.542011\n",
       "1      0.217276\n",
       "2      0.26901...</td>\n",
       "      <td>0     -3.924038\n",
       "1     -4.123753\n",
       "2     -1.12802...</td>\n",
       "    </tr>\n",
       "    <tr>\n",
       "      <th>1</th>\n",
       "      <td>0     -0.145320\n",
       "1     -1.669930\n",
       "2     -1.04214...</td>\n",
       "      <td>0      4.946853\n",
       "1      2.070579\n",
       "2     -1.59013...</td>\n",
       "      <td>0      3.516481\n",
       "1      1.432323\n",
       "2     -2.04127...</td>\n",
       "      <td>0      4.273263\n",
       "1      2.643262\n",
       "2     -0.86370...</td>\n",
       "      <td>0     -2.476901\n",
       "1     -0.779801\n",
       "2      1.34157...</td>\n",
       "    </tr>\n",
       "    <tr>\n",
       "      <th>2</th>\n",
       "      <td>0      1.025971\n",
       "1      1.025971\n",
       "2      0.94170...</td>\n",
       "      <td>0      1.474437\n",
       "1      1.474437\n",
       "2      0.00510...</td>\n",
       "      <td>0      0.195653\n",
       "1      0.195653\n",
       "2     -0.92236...</td>\n",
       "      <td>0      2.295130\n",
       "1      2.295130\n",
       "2      0.78441...</td>\n",
       "      <td>0      1.248605\n",
       "1      1.248605\n",
       "2      3.54499...</td>\n",
       "    </tr>\n",
       "    <tr>\n",
       "      <th>3</th>\n",
       "      <td>0      1.375152\n",
       "1      1.375152\n",
       "2     -4.37386...</td>\n",
       "      <td>0     -0.129986\n",
       "1     -0.129986\n",
       "2      0.52296...</td>\n",
       "      <td>0      0.674782\n",
       "1      0.674782\n",
       "2      0.44488...</td>\n",
       "      <td>0     -0.329309\n",
       "1     -0.329309\n",
       "2      1.36877...</td>\n",
       "      <td>0      1.599053\n",
       "1      1.599053\n",
       "2      1.18884...</td>\n",
       "    </tr>\n",
       "    <tr>\n",
       "      <th>4</th>\n",
       "      <td>0      0.004936\n",
       "1      0.004936\n",
       "2     -0.17275...</td>\n",
       "      <td>0     -0.398640\n",
       "1     -0.398640\n",
       "2     -0.57400...</td>\n",
       "      <td>0      0.926671\n",
       "1      0.926671\n",
       "2      0.44377...</td>\n",
       "      <td>0     -1.215042\n",
       "1     -1.215042\n",
       "2     -1.58124...</td>\n",
       "      <td>0     -0.802881\n",
       "1     -0.802881\n",
       "2     -1.06886...</td>\n",
       "    </tr>\n",
       "    <tr>\n",
       "      <th>...</th>\n",
       "      <td>...</td>\n",
       "      <td>...</td>\n",
       "      <td>...</td>\n",
       "      <td>...</td>\n",
       "      <td>...</td>\n",
       "    </tr>\n",
       "    <tr>\n",
       "      <th>345</th>\n",
       "      <td>0      0.650005\n",
       "1      0.589643\n",
       "2     -0.43650...</td>\n",
       "      <td>0      0.608622\n",
       "1      1.589685\n",
       "2      1.41131...</td>\n",
       "      <td>0      3.279536\n",
       "1      3.279536\n",
       "2      1.58788...</td>\n",
       "      <td>0      0.691488\n",
       "1      0.691488\n",
       "2     -0.02521...</td>\n",
       "      <td>0     -0.462499\n",
       "1      0.541519\n",
       "2     -0.46249...</td>\n",
       "    </tr>\n",
       "    <tr>\n",
       "      <th>346</th>\n",
       "      <td>0      0.047154\n",
       "1      0.047154\n",
       "2      0.74614...</td>\n",
       "      <td>0     -0.057694\n",
       "1     -0.057694\n",
       "2     -0.05769...</td>\n",
       "      <td>0      0.213708\n",
       "1      0.213708\n",
       "2     -0.04931...</td>\n",
       "      <td>0     -0.447369\n",
       "1     -0.447369\n",
       "2     -0.13157...</td>\n",
       "      <td>0     -0.476827\n",
       "1     -0.476827\n",
       "2     -1.35618...</td>\n",
       "    </tr>\n",
       "    <tr>\n",
       "      <th>347</th>\n",
       "      <td>0     -0.843348\n",
       "1     -0.698360\n",
       "2     -0.37938...</td>\n",
       "      <td>0     -0.717568\n",
       "1     -0.668112\n",
       "2     -0.66811...</td>\n",
       "      <td>0     -0.930073\n",
       "1     -0.487014\n",
       "2     -0.55030...</td>\n",
       "      <td>0     -0.418345\n",
       "1     -0.586556\n",
       "2     -0.65384...</td>\n",
       "      <td>0     -2.073631\n",
       "1     -2.073631\n",
       "2     -2.07363...</td>\n",
       "    </tr>\n",
       "    <tr>\n",
       "      <th>348</th>\n",
       "      <td>0      2.245241\n",
       "1      0.922891\n",
       "2      1.58406...</td>\n",
       "      <td>0     -0.732514\n",
       "1     -1.682273\n",
       "2     -1.43603...</td>\n",
       "      <td>0     -1.124194\n",
       "1     -2.176147\n",
       "2     -1.29952...</td>\n",
       "      <td>0      0.192826\n",
       "1     -2.343582\n",
       "2     -2.14333...</td>\n",
       "      <td>0     -0.059245\n",
       "1     -0.059245\n",
       "2      0.18685...</td>\n",
       "    </tr>\n",
       "    <tr>\n",
       "      <th>349</th>\n",
       "      <td>0      0.571725\n",
       "1      0.571725\n",
       "2     -0.22564...</td>\n",
       "      <td>0     -0.799545\n",
       "1     -0.799545\n",
       "2     -2.49661...</td>\n",
       "      <td>0     -0.799549\n",
       "1     -0.799549\n",
       "2     -2.72855...</td>\n",
       "      <td>0      0.793528\n",
       "1      0.793528\n",
       "2     -1.45869...</td>\n",
       "      <td>0      0.944124\n",
       "1      0.944124\n",
       "2      0.77217...</td>\n",
       "    </tr>\n",
       "  </tbody>\n",
       "</table>\n",
       "<p>350 rows × 5 columns</p>\n",
       "</div>"
      ],
      "text/plain": [
       "                                                     1  \\\n",
       "0    0     -3.548802\n",
       "1     -3.367801\n",
       "2     -1.91978...   \n",
       "1    0     -0.145320\n",
       "1     -1.669930\n",
       "2     -1.04214...   \n",
       "2    0      1.025971\n",
       "1      1.025971\n",
       "2      0.94170...   \n",
       "3    0      1.375152\n",
       "1      1.375152\n",
       "2     -4.37386...   \n",
       "4    0      0.004936\n",
       "1      0.004936\n",
       "2     -0.17275...   \n",
       "..                                                 ...   \n",
       "345  0      0.650005\n",
       "1      0.589643\n",
       "2     -0.43650...   \n",
       "346  0      0.047154\n",
       "1      0.047154\n",
       "2      0.74614...   \n",
       "347  0     -0.843348\n",
       "1     -0.698360\n",
       "2     -0.37938...   \n",
       "348  0      2.245241\n",
       "1      0.922891\n",
       "2      1.58406...   \n",
       "349  0      0.571725\n",
       "1      0.571725\n",
       "2     -0.22564...   \n",
       "\n",
       "                                                     2  \\\n",
       "0    0      0.430982\n",
       "1      1.494217\n",
       "2      2.55745...   \n",
       "1    0      4.946853\n",
       "1      2.070579\n",
       "2     -1.59013...   \n",
       "2    0      1.474437\n",
       "1      1.474437\n",
       "2      0.00510...   \n",
       "3    0     -0.129986\n",
       "1     -0.129986\n",
       "2      0.52296...   \n",
       "4    0     -0.398640\n",
       "1     -0.398640\n",
       "2     -0.57400...   \n",
       "..                                                 ...   \n",
       "345  0      0.608622\n",
       "1      1.589685\n",
       "2      1.41131...   \n",
       "346  0     -0.057694\n",
       "1     -0.057694\n",
       "2     -0.05769...   \n",
       "347  0     -0.717568\n",
       "1     -0.668112\n",
       "2     -0.66811...   \n",
       "348  0     -0.732514\n",
       "1     -1.682273\n",
       "2     -1.43603...   \n",
       "349  0     -0.799545\n",
       "1     -0.799545\n",
       "2     -2.49661...   \n",
       "\n",
       "                                                     3  \\\n",
       "0    0      0.723290\n",
       "1      1.492478\n",
       "2      2.51806...   \n",
       "1    0      3.516481\n",
       "1      1.432323\n",
       "2     -2.04127...   \n",
       "2    0      0.195653\n",
       "1      0.195653\n",
       "2     -0.92236...   \n",
       "3    0      0.674782\n",
       "1      0.674782\n",
       "2      0.44488...   \n",
       "4    0      0.926671\n",
       "1      0.926671\n",
       "2      0.44377...   \n",
       "..                                                 ...   \n",
       "345  0      3.279536\n",
       "1      3.279536\n",
       "2      1.58788...   \n",
       "346  0      0.213708\n",
       "1      0.213708\n",
       "2     -0.04931...   \n",
       "347  0     -0.930073\n",
       "1     -0.487014\n",
       "2     -0.55030...   \n",
       "348  0     -1.124194\n",
       "1     -2.176147\n",
       "2     -1.29952...   \n",
       "349  0     -0.799549\n",
       "1     -0.799549\n",
       "2     -2.72855...   \n",
       "\n",
       "                                                     4  \\\n",
       "0    0     -1.542011\n",
       "1      0.217276\n",
       "2      0.26901...   \n",
       "1    0      4.273263\n",
       "1      2.643262\n",
       "2     -0.86370...   \n",
       "2    0      2.295130\n",
       "1      2.295130\n",
       "2      0.78441...   \n",
       "3    0     -0.329309\n",
       "1     -0.329309\n",
       "2      1.36877...   \n",
       "4    0     -1.215042\n",
       "1     -1.215042\n",
       "2     -1.58124...   \n",
       "..                                                 ...   \n",
       "345  0      0.691488\n",
       "1      0.691488\n",
       "2     -0.02521...   \n",
       "346  0     -0.447369\n",
       "1     -0.447369\n",
       "2     -0.13157...   \n",
       "347  0     -0.418345\n",
       "1     -0.586556\n",
       "2     -0.65384...   \n",
       "348  0      0.192826\n",
       "1     -2.343582\n",
       "2     -2.14333...   \n",
       "349  0      0.793528\n",
       "1      0.793528\n",
       "2     -1.45869...   \n",
       "\n",
       "                                                     5  \n",
       "0    0     -3.924038\n",
       "1     -4.123753\n",
       "2     -1.12802...  \n",
       "1    0     -2.476901\n",
       "1     -0.779801\n",
       "2      1.34157...  \n",
       "2    0      1.248605\n",
       "1      1.248605\n",
       "2      3.54499...  \n",
       "3    0      1.599053\n",
       "1      1.599053\n",
       "2      1.18884...  \n",
       "4    0     -0.802881\n",
       "1     -0.802881\n",
       "2     -1.06886...  \n",
       "..                                                 ...  \n",
       "345  0     -0.462499\n",
       "1      0.541519\n",
       "2     -0.46249...  \n",
       "346  0     -0.476827\n",
       "1     -0.476827\n",
       "2     -1.35618...  \n",
       "347  0     -2.073631\n",
       "1     -2.073631\n",
       "2     -2.07363...  \n",
       "348  0     -0.059245\n",
       "1     -0.059245\n",
       "2      0.18685...  \n",
       "349  0      0.944124\n",
       "1      0.944124\n",
       "2      0.77217...  \n",
       "\n",
       "[350 rows x 5 columns]"
      ]
     },
     "metadata": {},
     "output_type": "display_data"
    },
    {
     "data": {
      "text/plain": [
       "'Completed'"
      ]
     },
     "metadata": {},
     "output_type": "display_data"
    },
    {
     "data": {
      "text/plain": [
       "1"
      ]
     },
     "metadata": {},
     "output_type": "display_data"
    },
    {
     "data": {
      "text/plain": [
       "'Completed'"
      ]
     },
     "metadata": {},
     "output_type": "display_data"
    },
    {
     "data": {
      "text/plain": [
       "2"
      ]
     },
     "metadata": {},
     "output_type": "display_data"
    },
    {
     "data": {
      "text/plain": [
       "'Completed'"
      ]
     },
     "metadata": {},
     "output_type": "display_data"
    },
    {
     "data": {
      "text/plain": [
       "3"
      ]
     },
     "metadata": {},
     "output_type": "display_data"
    },
    {
     "data": {
      "text/plain": [
       "'Completed'"
      ]
     },
     "metadata": {},
     "output_type": "display_data"
    },
    {
     "data": {
      "text/plain": [
       "4"
      ]
     },
     "metadata": {},
     "output_type": "display_data"
    },
    {
     "data": {
      "text/plain": [
       "'Completed'"
      ]
     },
     "metadata": {},
     "output_type": "display_data"
    },
    {
     "data": {
      "text/plain": [
       "5"
      ]
     },
     "metadata": {},
     "output_type": "display_data"
    },
    {
     "data": {
      "text/plain": [
       "'Completed'"
      ]
     },
     "metadata": {},
     "output_type": "display_data"
    },
    {
     "data": {
      "text/plain": [
       "6"
      ]
     },
     "metadata": {},
     "output_type": "display_data"
    },
    {
     "data": {
      "text/plain": [
       "'Completed'"
      ]
     },
     "metadata": {},
     "output_type": "display_data"
    },
    {
     "data": {
      "text/plain": [
       "7"
      ]
     },
     "metadata": {},
     "output_type": "display_data"
    },
    {
     "data": {
      "text/plain": [
       "'Completed'"
      ]
     },
     "metadata": {},
     "output_type": "display_data"
    },
    {
     "data": {
      "text/plain": [
       "8"
      ]
     },
     "metadata": {},
     "output_type": "display_data"
    },
    {
     "data": {
      "text/plain": [
       "'Completed'"
      ]
     },
     "metadata": {},
     "output_type": "display_data"
    },
    {
     "data": {
      "text/plain": [
       "9"
      ]
     },
     "metadata": {},
     "output_type": "display_data"
    },
    {
     "data": {
      "text/plain": [
       "'Completed'"
      ]
     },
     "metadata": {},
     "output_type": "display_data"
    },
    {
     "data": {
      "text/plain": [
       "10"
      ]
     },
     "metadata": {},
     "output_type": "display_data"
    },
    {
     "data": {
      "text/plain": [
       "'Completed'"
      ]
     },
     "metadata": {},
     "output_type": "display_data"
    },
    {
     "data": {
      "text/plain": [
       "11"
      ]
     },
     "metadata": {},
     "output_type": "display_data"
    },
    {
     "data": {
      "text/plain": [
       "'Completed'"
      ]
     },
     "metadata": {},
     "output_type": "display_data"
    },
    {
     "data": {
      "text/plain": [
       "12"
      ]
     },
     "metadata": {},
     "output_type": "display_data"
    },
    {
     "data": {
      "text/plain": [
       "'Completed'"
      ]
     },
     "metadata": {},
     "output_type": "display_data"
    },
    {
     "data": {
      "text/plain": [
       "13"
      ]
     },
     "metadata": {},
     "output_type": "display_data"
    },
    {
     "data": {
      "text/plain": [
       "'Completed'"
      ]
     },
     "metadata": {},
     "output_type": "display_data"
    },
    {
     "data": {
      "text/plain": [
       "14"
      ]
     },
     "metadata": {},
     "output_type": "display_data"
    },
    {
     "data": {
      "text/plain": [
       "'Completed'"
      ]
     },
     "metadata": {},
     "output_type": "display_data"
    },
    {
     "data": {
      "text/plain": [
       "15"
      ]
     },
     "metadata": {},
     "output_type": "display_data"
    },
    {
     "data": {
      "text/plain": [
       "'Completed'"
      ]
     },
     "metadata": {},
     "output_type": "display_data"
    },
    {
     "data": {
      "text/plain": [
       "16"
      ]
     },
     "metadata": {},
     "output_type": "display_data"
    },
    {
     "data": {
      "text/plain": [
       "'Completed'"
      ]
     },
     "metadata": {},
     "output_type": "display_data"
    },
    {
     "data": {
      "text/plain": [
       "17"
      ]
     },
     "metadata": {},
     "output_type": "display_data"
    },
    {
     "data": {
      "text/plain": [
       "'Completed'"
      ]
     },
     "metadata": {},
     "output_type": "display_data"
    },
    {
     "data": {
      "text/plain": [
       "18"
      ]
     },
     "metadata": {},
     "output_type": "display_data"
    },
    {
     "data": {
      "text/plain": [
       "'Completed'"
      ]
     },
     "metadata": {},
     "output_type": "display_data"
    },
    {
     "data": {
      "text/plain": [
       "19"
      ]
     },
     "metadata": {},
     "output_type": "display_data"
    },
    {
     "data": {
      "text/plain": [
       "'Completed'"
      ]
     },
     "metadata": {},
     "output_type": "display_data"
    },
    {
     "data": {
      "text/plain": [
       "20"
      ]
     },
     "metadata": {},
     "output_type": "display_data"
    },
    {
     "data": {
      "text/plain": [
       "'Completed'"
      ]
     },
     "metadata": {},
     "output_type": "display_data"
    },
    {
     "data": {
      "text/plain": [
       "21"
      ]
     },
     "metadata": {},
     "output_type": "display_data"
    },
    {
     "data": {
      "text/plain": [
       "'Completed'"
      ]
     },
     "metadata": {},
     "output_type": "display_data"
    },
    {
     "data": {
      "text/plain": [
       "22"
      ]
     },
     "metadata": {},
     "output_type": "display_data"
    },
    {
     "data": {
      "text/plain": [
       "'Completed'"
      ]
     },
     "metadata": {},
     "output_type": "display_data"
    },
    {
     "data": {
      "text/plain": [
       "23"
      ]
     },
     "metadata": {},
     "output_type": "display_data"
    },
    {
     "data": {
      "text/plain": [
       "'Completed'"
      ]
     },
     "metadata": {},
     "output_type": "display_data"
    },
    {
     "data": {
      "text/plain": [
       "24"
      ]
     },
     "metadata": {},
     "output_type": "display_data"
    },
    {
     "data": {
      "text/plain": [
       "'Completed'"
      ]
     },
     "metadata": {},
     "output_type": "display_data"
    },
    {
     "data": {
      "text/plain": [
       "25"
      ]
     },
     "metadata": {},
     "output_type": "display_data"
    },
    {
     "data": {
      "text/plain": [
       "'Completed'"
      ]
     },
     "metadata": {},
     "output_type": "display_data"
    },
    {
     "data": {
      "text/plain": [
       "26"
      ]
     },
     "metadata": {},
     "output_type": "display_data"
    },
    {
     "data": {
      "text/plain": [
       "'Completed'"
      ]
     },
     "metadata": {},
     "output_type": "display_data"
    },
    {
     "data": {
      "text/plain": [
       "27"
      ]
     },
     "metadata": {},
     "output_type": "display_data"
    },
    {
     "data": {
      "text/plain": [
       "'Completed'"
      ]
     },
     "metadata": {},
     "output_type": "display_data"
    },
    {
     "data": {
      "text/plain": [
       "28"
      ]
     },
     "metadata": {},
     "output_type": "display_data"
    },
    {
     "data": {
      "text/plain": [
       "'Completed'"
      ]
     },
     "metadata": {},
     "output_type": "display_data"
    },
    {
     "data": {
      "text/plain": [
       "29"
      ]
     },
     "metadata": {},
     "output_type": "display_data"
    },
    {
     "data": {
      "text/plain": [
       "'Completed'"
      ]
     },
     "metadata": {},
     "output_type": "display_data"
    },
    {
     "data": {
      "text/plain": [
       "30"
      ]
     },
     "metadata": {},
     "output_type": "display_data"
    },
    {
     "data": {
      "text/plain": [
       "'Current key in progress'"
      ]
     },
     "metadata": {},
     "output_type": "display_data"
    },
    {
     "data": {
      "text/plain": [
       "'sample_numbers_list_0.7_to_0.8'"
      ]
     },
     "metadata": {},
     "output_type": "display_data"
    },
    {
     "data": {
      "text/plain": [
       "264"
      ]
     },
     "metadata": {},
     "output_type": "display_data"
    },
    {
     "data": {
      "text/html": [
       "<div>\n",
       "<style scoped>\n",
       "    .dataframe tbody tr th:only-of-type {\n",
       "        vertical-align: middle;\n",
       "    }\n",
       "\n",
       "    .dataframe tbody tr th {\n",
       "        vertical-align: top;\n",
       "    }\n",
       "\n",
       "    .dataframe thead th {\n",
       "        text-align: right;\n",
       "    }\n",
       "</style>\n",
       "<table border=\"1\" class=\"dataframe\">\n",
       "  <thead>\n",
       "    <tr style=\"text-align: right;\">\n",
       "      <th></th>\n",
       "      <th>Subject</th>\n",
       "      <th>HR</th>\n",
       "      <th>MAP</th>\n",
       "      <th>DBP</th>\n",
       "      <th>SBP</th>\n",
       "      <th>Resp</th>\n",
       "    </tr>\n",
       "  </thead>\n",
       "  <tbody>\n",
       "    <tr>\n",
       "      <th>0</th>\n",
       "      <td>3</td>\n",
       "      <td>89.0</td>\n",
       "      <td>67.0</td>\n",
       "      <td>50.0</td>\n",
       "      <td>97.0</td>\n",
       "      <td>12.0</td>\n",
       "    </tr>\n",
       "    <tr>\n",
       "      <th>1</th>\n",
       "      <td>3</td>\n",
       "      <td>90.0</td>\n",
       "      <td>71.5</td>\n",
       "      <td>54.5</td>\n",
       "      <td>114.0</td>\n",
       "      <td>11.5</td>\n",
       "    </tr>\n",
       "    <tr>\n",
       "      <th>2</th>\n",
       "      <td>3</td>\n",
       "      <td>98.0</td>\n",
       "      <td>76.0</td>\n",
       "      <td>60.5</td>\n",
       "      <td>114.5</td>\n",
       "      <td>19.0</td>\n",
       "    </tr>\n",
       "    <tr>\n",
       "      <th>3</th>\n",
       "      <td>3</td>\n",
       "      <td>108.0</td>\n",
       "      <td>72.0</td>\n",
       "      <td>59.5</td>\n",
       "      <td>102.5</td>\n",
       "      <td>19.0</td>\n",
       "    </tr>\n",
       "    <tr>\n",
       "      <th>4</th>\n",
       "      <td>3</td>\n",
       "      <td>111.0</td>\n",
       "      <td>72.0</td>\n",
       "      <td>61.0</td>\n",
       "      <td>100.0</td>\n",
       "      <td>18.0</td>\n",
       "    </tr>\n",
       "    <tr>\n",
       "      <th>...</th>\n",
       "      <td>...</td>\n",
       "      <td>...</td>\n",
       "      <td>...</td>\n",
       "      <td>...</td>\n",
       "      <td>...</td>\n",
       "      <td>...</td>\n",
       "    </tr>\n",
       "    <tr>\n",
       "      <th>52</th>\n",
       "      <td>506</td>\n",
       "      <td>104.0</td>\n",
       "      <td>89.0</td>\n",
       "      <td>69.0</td>\n",
       "      <td>136.0</td>\n",
       "      <td>28.0</td>\n",
       "    </tr>\n",
       "    <tr>\n",
       "      <th>53</th>\n",
       "      <td>506</td>\n",
       "      <td>100.0</td>\n",
       "      <td>83.0</td>\n",
       "      <td>65.0</td>\n",
       "      <td>121.0</td>\n",
       "      <td>19.0</td>\n",
       "    </tr>\n",
       "    <tr>\n",
       "      <th>54</th>\n",
       "      <td>506</td>\n",
       "      <td>91.0</td>\n",
       "      <td>74.0</td>\n",
       "      <td>59.0</td>\n",
       "      <td>102.0</td>\n",
       "      <td>14.0</td>\n",
       "    </tr>\n",
       "    <tr>\n",
       "      <th>55</th>\n",
       "      <td>506</td>\n",
       "      <td>90.0</td>\n",
       "      <td>66.0</td>\n",
       "      <td>61.0</td>\n",
       "      <td>101.0</td>\n",
       "      <td>16.0</td>\n",
       "    </tr>\n",
       "    <tr>\n",
       "      <th>56</th>\n",
       "      <td>506</td>\n",
       "      <td>90.0</td>\n",
       "      <td>72.0</td>\n",
       "      <td>56.0</td>\n",
       "      <td>101.0</td>\n",
       "      <td>20.0</td>\n",
       "    </tr>\n",
       "  </tbody>\n",
       "</table>\n",
       "<p>9290 rows × 6 columns</p>\n",
       "</div>"
      ],
      "text/plain": [
       "    Subject     HR   MAP   DBP    SBP  Resp\n",
       "0         3   89.0  67.0  50.0   97.0  12.0\n",
       "1         3   90.0  71.5  54.5  114.0  11.5\n",
       "2         3   98.0  76.0  60.5  114.5  19.0\n",
       "3         3  108.0  72.0  59.5  102.5  19.0\n",
       "4         3  111.0  72.0  61.0  100.0  18.0\n",
       "..      ...    ...   ...   ...    ...   ...\n",
       "52      506  104.0  89.0  69.0  136.0  28.0\n",
       "53      506  100.0  83.0  65.0  121.0  19.0\n",
       "54      506   91.0  74.0  59.0  102.0  14.0\n",
       "55      506   90.0  66.0  61.0  101.0  16.0\n",
       "56      506   90.0  72.0  56.0  101.0  20.0\n",
       "\n",
       "[9290 rows x 6 columns]"
      ]
     },
     "metadata": {},
     "output_type": "display_data"
    },
    {
     "data": {
      "text/plain": [
       "'Avg length:'"
      ]
     },
     "metadata": {},
     "output_type": "display_data"
    },
    {
     "data": {
      "text/plain": [
       "108.59428571428572"
      ]
     },
     "metadata": {},
     "output_type": "display_data"
    },
    {
     "data": {
      "text/plain": [
       "6"
      ]
     },
     "metadata": {},
     "output_type": "display_data"
    },
    {
     "data": {
      "text/plain": [
       "'X_1:'"
      ]
     },
     "metadata": {},
     "output_type": "display_data"
    },
    {
     "data": {
      "text/html": [
       "<div>\n",
       "<style scoped>\n",
       "    .dataframe tbody tr th:only-of-type {\n",
       "        vertical-align: middle;\n",
       "    }\n",
       "\n",
       "    .dataframe tbody tr th {\n",
       "        vertical-align: top;\n",
       "    }\n",
       "\n",
       "    .dataframe thead th {\n",
       "        text-align: right;\n",
       "    }\n",
       "</style>\n",
       "<table border=\"1\" class=\"dataframe\">\n",
       "  <thead>\n",
       "    <tr style=\"text-align: right;\">\n",
       "      <th></th>\n",
       "      <th>1</th>\n",
       "      <th>2</th>\n",
       "      <th>3</th>\n",
       "      <th>4</th>\n",
       "      <th>5</th>\n",
       "    </tr>\n",
       "  </thead>\n",
       "  <tbody>\n",
       "    <tr>\n",
       "      <th>0</th>\n",
       "      <td>0     -3.548802\n",
       "1     -3.367801\n",
       "2     -1.91978...</td>\n",
       "      <td>0      0.430982\n",
       "1      1.494217\n",
       "2      2.55745...</td>\n",
       "      <td>0      0.723290\n",
       "1      1.492478\n",
       "2      2.51806...</td>\n",
       "      <td>0     -1.542011\n",
       "1      0.217276\n",
       "2      0.26901...</td>\n",
       "      <td>0     -3.924038\n",
       "1     -4.123753\n",
       "2     -1.12802...</td>\n",
       "    </tr>\n",
       "    <tr>\n",
       "      <th>1</th>\n",
       "      <td>0     -0.145320\n",
       "1     -1.669930\n",
       "2     -1.04214...</td>\n",
       "      <td>0      4.946853\n",
       "1      2.070579\n",
       "2     -1.59013...</td>\n",
       "      <td>0      3.516481\n",
       "1      1.432323\n",
       "2     -2.04127...</td>\n",
       "      <td>0      4.273263\n",
       "1      2.643262\n",
       "2     -0.86370...</td>\n",
       "      <td>0     -2.476901\n",
       "1     -0.779801\n",
       "2      1.34157...</td>\n",
       "    </tr>\n",
       "    <tr>\n",
       "      <th>2</th>\n",
       "      <td>0      1.375152\n",
       "1      1.375152\n",
       "2     -4.37386...</td>\n",
       "      <td>0     -0.129986\n",
       "1     -0.129986\n",
       "2      0.52296...</td>\n",
       "      <td>0      0.674782\n",
       "1      0.674782\n",
       "2      0.44488...</td>\n",
       "      <td>0     -0.329309\n",
       "1     -0.329309\n",
       "2      1.36877...</td>\n",
       "      <td>0      1.599053\n",
       "1      1.599053\n",
       "2      1.18884...</td>\n",
       "    </tr>\n",
       "    <tr>\n",
       "      <th>3</th>\n",
       "      <td>0      0.004936\n",
       "1      0.004936\n",
       "2     -0.17275...</td>\n",
       "      <td>0     -0.398640\n",
       "1     -0.398640\n",
       "2     -0.57400...</td>\n",
       "      <td>0      0.926671\n",
       "1      0.926671\n",
       "2      0.44377...</td>\n",
       "      <td>0     -1.215042\n",
       "1     -1.215042\n",
       "2     -1.58124...</td>\n",
       "      <td>0     -0.802881\n",
       "1     -0.802881\n",
       "2     -1.06886...</td>\n",
       "    </tr>\n",
       "    <tr>\n",
       "      <th>4</th>\n",
       "      <td>0     -0.096793\n",
       "1      2.181560\n",
       "2      2.18156...</td>\n",
       "      <td>0     -2.251445\n",
       "1     -1.064296\n",
       "2     -1.06429...</td>\n",
       "      <td>0     -2.929532\n",
       "1     -1.344503\n",
       "2     -1.34450...</td>\n",
       "      <td>0     -1.384835\n",
       "1     -0.363793\n",
       "2     -0.36379...</td>\n",
       "      <td>0     -0.536459\n",
       "1     -0.019159\n",
       "2     -0.01915...</td>\n",
       "    </tr>\n",
       "    <tr>\n",
       "      <th>...</th>\n",
       "      <td>...</td>\n",
       "      <td>...</td>\n",
       "      <td>...</td>\n",
       "      <td>...</td>\n",
       "      <td>...</td>\n",
       "    </tr>\n",
       "    <tr>\n",
       "      <th>345</th>\n",
       "      <td>0      0.650005\n",
       "1      0.589643\n",
       "2     -0.43650...</td>\n",
       "      <td>0      0.608622\n",
       "1      1.589685\n",
       "2      1.41131...</td>\n",
       "      <td>0      3.279536\n",
       "1      3.279536\n",
       "2      1.58788...</td>\n",
       "      <td>0      0.691488\n",
       "1      0.691488\n",
       "2     -0.02521...</td>\n",
       "      <td>0     -0.462499\n",
       "1      0.541519\n",
       "2     -0.46249...</td>\n",
       "    </tr>\n",
       "    <tr>\n",
       "      <th>346</th>\n",
       "      <td>0      0.047154\n",
       "1      0.047154\n",
       "2      0.74614...</td>\n",
       "      <td>0     -0.057694\n",
       "1     -0.057694\n",
       "2     -0.05769...</td>\n",
       "      <td>0      0.213708\n",
       "1      0.213708\n",
       "2     -0.04931...</td>\n",
       "      <td>0     -0.447369\n",
       "1     -0.447369\n",
       "2     -0.13157...</td>\n",
       "      <td>0     -0.476827\n",
       "1     -0.476827\n",
       "2     -1.35618...</td>\n",
       "    </tr>\n",
       "    <tr>\n",
       "      <th>347</th>\n",
       "      <td>0     -0.843348\n",
       "1     -0.698360\n",
       "2     -0.37938...</td>\n",
       "      <td>0     -0.717568\n",
       "1     -0.668112\n",
       "2     -0.66811...</td>\n",
       "      <td>0     -0.930073\n",
       "1     -0.487014\n",
       "2     -0.55030...</td>\n",
       "      <td>0     -0.418345\n",
       "1     -0.586556\n",
       "2     -0.65384...</td>\n",
       "      <td>0     -2.073631\n",
       "1     -2.073631\n",
       "2     -2.07363...</td>\n",
       "    </tr>\n",
       "    <tr>\n",
       "      <th>348</th>\n",
       "      <td>0      2.245241\n",
       "1      0.922891\n",
       "2      1.58406...</td>\n",
       "      <td>0     -0.732514\n",
       "1     -1.682273\n",
       "2     -1.43603...</td>\n",
       "      <td>0     -1.124194\n",
       "1     -2.176147\n",
       "2     -1.29952...</td>\n",
       "      <td>0      0.192826\n",
       "1     -2.343582\n",
       "2     -2.14333...</td>\n",
       "      <td>0     -0.059245\n",
       "1     -0.059245\n",
       "2      0.18685...</td>\n",
       "    </tr>\n",
       "    <tr>\n",
       "      <th>349</th>\n",
       "      <td>0      0.571725\n",
       "1      0.571725\n",
       "2     -0.22564...</td>\n",
       "      <td>0     -0.799545\n",
       "1     -0.799545\n",
       "2     -2.49661...</td>\n",
       "      <td>0     -0.799549\n",
       "1     -0.799549\n",
       "2     -2.72855...</td>\n",
       "      <td>0      0.793528\n",
       "1      0.793528\n",
       "2     -1.45869...</td>\n",
       "      <td>0      0.944124\n",
       "1      0.944124\n",
       "2      0.77217...</td>\n",
       "    </tr>\n",
       "  </tbody>\n",
       "</table>\n",
       "<p>350 rows × 5 columns</p>\n",
       "</div>"
      ],
      "text/plain": [
       "                                                     1  \\\n",
       "0    0     -3.548802\n",
       "1     -3.367801\n",
       "2     -1.91978...   \n",
       "1    0     -0.145320\n",
       "1     -1.669930\n",
       "2     -1.04214...   \n",
       "2    0      1.375152\n",
       "1      1.375152\n",
       "2     -4.37386...   \n",
       "3    0      0.004936\n",
       "1      0.004936\n",
       "2     -0.17275...   \n",
       "4    0     -0.096793\n",
       "1      2.181560\n",
       "2      2.18156...   \n",
       "..                                                 ...   \n",
       "345  0      0.650005\n",
       "1      0.589643\n",
       "2     -0.43650...   \n",
       "346  0      0.047154\n",
       "1      0.047154\n",
       "2      0.74614...   \n",
       "347  0     -0.843348\n",
       "1     -0.698360\n",
       "2     -0.37938...   \n",
       "348  0      2.245241\n",
       "1      0.922891\n",
       "2      1.58406...   \n",
       "349  0      0.571725\n",
       "1      0.571725\n",
       "2     -0.22564...   \n",
       "\n",
       "                                                     2  \\\n",
       "0    0      0.430982\n",
       "1      1.494217\n",
       "2      2.55745...   \n",
       "1    0      4.946853\n",
       "1      2.070579\n",
       "2     -1.59013...   \n",
       "2    0     -0.129986\n",
       "1     -0.129986\n",
       "2      0.52296...   \n",
       "3    0     -0.398640\n",
       "1     -0.398640\n",
       "2     -0.57400...   \n",
       "4    0     -2.251445\n",
       "1     -1.064296\n",
       "2     -1.06429...   \n",
       "..                                                 ...   \n",
       "345  0      0.608622\n",
       "1      1.589685\n",
       "2      1.41131...   \n",
       "346  0     -0.057694\n",
       "1     -0.057694\n",
       "2     -0.05769...   \n",
       "347  0     -0.717568\n",
       "1     -0.668112\n",
       "2     -0.66811...   \n",
       "348  0     -0.732514\n",
       "1     -1.682273\n",
       "2     -1.43603...   \n",
       "349  0     -0.799545\n",
       "1     -0.799545\n",
       "2     -2.49661...   \n",
       "\n",
       "                                                     3  \\\n",
       "0    0      0.723290\n",
       "1      1.492478\n",
       "2      2.51806...   \n",
       "1    0      3.516481\n",
       "1      1.432323\n",
       "2     -2.04127...   \n",
       "2    0      0.674782\n",
       "1      0.674782\n",
       "2      0.44488...   \n",
       "3    0      0.926671\n",
       "1      0.926671\n",
       "2      0.44377...   \n",
       "4    0     -2.929532\n",
       "1     -1.344503\n",
       "2     -1.34450...   \n",
       "..                                                 ...   \n",
       "345  0      3.279536\n",
       "1      3.279536\n",
       "2      1.58788...   \n",
       "346  0      0.213708\n",
       "1      0.213708\n",
       "2     -0.04931...   \n",
       "347  0     -0.930073\n",
       "1     -0.487014\n",
       "2     -0.55030...   \n",
       "348  0     -1.124194\n",
       "1     -2.176147\n",
       "2     -1.29952...   \n",
       "349  0     -0.799549\n",
       "1     -0.799549\n",
       "2     -2.72855...   \n",
       "\n",
       "                                                     4  \\\n",
       "0    0     -1.542011\n",
       "1      0.217276\n",
       "2      0.26901...   \n",
       "1    0      4.273263\n",
       "1      2.643262\n",
       "2     -0.86370...   \n",
       "2    0     -0.329309\n",
       "1     -0.329309\n",
       "2      1.36877...   \n",
       "3    0     -1.215042\n",
       "1     -1.215042\n",
       "2     -1.58124...   \n",
       "4    0     -1.384835\n",
       "1     -0.363793\n",
       "2     -0.36379...   \n",
       "..                                                 ...   \n",
       "345  0      0.691488\n",
       "1      0.691488\n",
       "2     -0.02521...   \n",
       "346  0     -0.447369\n",
       "1     -0.447369\n",
       "2     -0.13157...   \n",
       "347  0     -0.418345\n",
       "1     -0.586556\n",
       "2     -0.65384...   \n",
       "348  0      0.192826\n",
       "1     -2.343582\n",
       "2     -2.14333...   \n",
       "349  0      0.793528\n",
       "1      0.793528\n",
       "2     -1.45869...   \n",
       "\n",
       "                                                     5  \n",
       "0    0     -3.924038\n",
       "1     -4.123753\n",
       "2     -1.12802...  \n",
       "1    0     -2.476901\n",
       "1     -0.779801\n",
       "2      1.34157...  \n",
       "2    0      1.599053\n",
       "1      1.599053\n",
       "2      1.18884...  \n",
       "3    0     -0.802881\n",
       "1     -0.802881\n",
       "2     -1.06886...  \n",
       "4    0     -0.536459\n",
       "1     -0.019159\n",
       "2     -0.01915...  \n",
       "..                                                 ...  \n",
       "345  0     -0.462499\n",
       "1      0.541519\n",
       "2     -0.46249...  \n",
       "346  0     -0.476827\n",
       "1     -0.476827\n",
       "2     -1.35618...  \n",
       "347  0     -2.073631\n",
       "1     -2.073631\n",
       "2     -2.07363...  \n",
       "348  0     -0.059245\n",
       "1     -0.059245\n",
       "2      0.18685...  \n",
       "349  0      0.944124\n",
       "1      0.944124\n",
       "2      0.77217...  \n",
       "\n",
       "[350 rows x 5 columns]"
      ]
     },
     "metadata": {},
     "output_type": "display_data"
    },
    {
     "data": {
      "text/plain": [
       "'Completed'"
      ]
     },
     "metadata": {},
     "output_type": "display_data"
    },
    {
     "data": {
      "text/plain": [
       "1"
      ]
     },
     "metadata": {},
     "output_type": "display_data"
    },
    {
     "data": {
      "text/plain": [
       "'Completed'"
      ]
     },
     "metadata": {},
     "output_type": "display_data"
    },
    {
     "data": {
      "text/plain": [
       "2"
      ]
     },
     "metadata": {},
     "output_type": "display_data"
    },
    {
     "data": {
      "text/plain": [
       "'Completed'"
      ]
     },
     "metadata": {},
     "output_type": "display_data"
    },
    {
     "data": {
      "text/plain": [
       "3"
      ]
     },
     "metadata": {},
     "output_type": "display_data"
    },
    {
     "data": {
      "text/plain": [
       "'Completed'"
      ]
     },
     "metadata": {},
     "output_type": "display_data"
    },
    {
     "data": {
      "text/plain": [
       "4"
      ]
     },
     "metadata": {},
     "output_type": "display_data"
    },
    {
     "data": {
      "text/plain": [
       "'Completed'"
      ]
     },
     "metadata": {},
     "output_type": "display_data"
    },
    {
     "data": {
      "text/plain": [
       "5"
      ]
     },
     "metadata": {},
     "output_type": "display_data"
    },
    {
     "data": {
      "text/plain": [
       "'Completed'"
      ]
     },
     "metadata": {},
     "output_type": "display_data"
    },
    {
     "data": {
      "text/plain": [
       "6"
      ]
     },
     "metadata": {},
     "output_type": "display_data"
    },
    {
     "data": {
      "text/plain": [
       "'Completed'"
      ]
     },
     "metadata": {},
     "output_type": "display_data"
    },
    {
     "data": {
      "text/plain": [
       "7"
      ]
     },
     "metadata": {},
     "output_type": "display_data"
    },
    {
     "data": {
      "text/plain": [
       "'Completed'"
      ]
     },
     "metadata": {},
     "output_type": "display_data"
    },
    {
     "data": {
      "text/plain": [
       "8"
      ]
     },
     "metadata": {},
     "output_type": "display_data"
    },
    {
     "data": {
      "text/plain": [
       "'Completed'"
      ]
     },
     "metadata": {},
     "output_type": "display_data"
    },
    {
     "data": {
      "text/plain": [
       "9"
      ]
     },
     "metadata": {},
     "output_type": "display_data"
    },
    {
     "data": {
      "text/plain": [
       "'Completed'"
      ]
     },
     "metadata": {},
     "output_type": "display_data"
    },
    {
     "data": {
      "text/plain": [
       "10"
      ]
     },
     "metadata": {},
     "output_type": "display_data"
    },
    {
     "data": {
      "text/plain": [
       "'Completed'"
      ]
     },
     "metadata": {},
     "output_type": "display_data"
    },
    {
     "data": {
      "text/plain": [
       "11"
      ]
     },
     "metadata": {},
     "output_type": "display_data"
    },
    {
     "data": {
      "text/plain": [
       "'Completed'"
      ]
     },
     "metadata": {},
     "output_type": "display_data"
    },
    {
     "data": {
      "text/plain": [
       "12"
      ]
     },
     "metadata": {},
     "output_type": "display_data"
    },
    {
     "data": {
      "text/plain": [
       "'Completed'"
      ]
     },
     "metadata": {},
     "output_type": "display_data"
    },
    {
     "data": {
      "text/plain": [
       "13"
      ]
     },
     "metadata": {},
     "output_type": "display_data"
    },
    {
     "data": {
      "text/plain": [
       "'Completed'"
      ]
     },
     "metadata": {},
     "output_type": "display_data"
    },
    {
     "data": {
      "text/plain": [
       "14"
      ]
     },
     "metadata": {},
     "output_type": "display_data"
    },
    {
     "data": {
      "text/plain": [
       "'Completed'"
      ]
     },
     "metadata": {},
     "output_type": "display_data"
    },
    {
     "data": {
      "text/plain": [
       "15"
      ]
     },
     "metadata": {},
     "output_type": "display_data"
    },
    {
     "data": {
      "text/plain": [
       "'Completed'"
      ]
     },
     "metadata": {},
     "output_type": "display_data"
    },
    {
     "data": {
      "text/plain": [
       "16"
      ]
     },
     "metadata": {},
     "output_type": "display_data"
    },
    {
     "data": {
      "text/plain": [
       "'Completed'"
      ]
     },
     "metadata": {},
     "output_type": "display_data"
    },
    {
     "data": {
      "text/plain": [
       "17"
      ]
     },
     "metadata": {},
     "output_type": "display_data"
    },
    {
     "data": {
      "text/plain": [
       "'Completed'"
      ]
     },
     "metadata": {},
     "output_type": "display_data"
    },
    {
     "data": {
      "text/plain": [
       "18"
      ]
     },
     "metadata": {},
     "output_type": "display_data"
    },
    {
     "data": {
      "text/plain": [
       "'Completed'"
      ]
     },
     "metadata": {},
     "output_type": "display_data"
    },
    {
     "data": {
      "text/plain": [
       "19"
      ]
     },
     "metadata": {},
     "output_type": "display_data"
    },
    {
     "data": {
      "text/plain": [
       "'Completed'"
      ]
     },
     "metadata": {},
     "output_type": "display_data"
    },
    {
     "data": {
      "text/plain": [
       "20"
      ]
     },
     "metadata": {},
     "output_type": "display_data"
    },
    {
     "data": {
      "text/plain": [
       "'Completed'"
      ]
     },
     "metadata": {},
     "output_type": "display_data"
    },
    {
     "data": {
      "text/plain": [
       "21"
      ]
     },
     "metadata": {},
     "output_type": "display_data"
    },
    {
     "data": {
      "text/plain": [
       "'Completed'"
      ]
     },
     "metadata": {},
     "output_type": "display_data"
    },
    {
     "data": {
      "text/plain": [
       "22"
      ]
     },
     "metadata": {},
     "output_type": "display_data"
    },
    {
     "data": {
      "text/plain": [
       "'Completed'"
      ]
     },
     "metadata": {},
     "output_type": "display_data"
    },
    {
     "data": {
      "text/plain": [
       "23"
      ]
     },
     "metadata": {},
     "output_type": "display_data"
    },
    {
     "data": {
      "text/plain": [
       "'Completed'"
      ]
     },
     "metadata": {},
     "output_type": "display_data"
    },
    {
     "data": {
      "text/plain": [
       "24"
      ]
     },
     "metadata": {},
     "output_type": "display_data"
    },
    {
     "data": {
      "text/plain": [
       "'Completed'"
      ]
     },
     "metadata": {},
     "output_type": "display_data"
    },
    {
     "data": {
      "text/plain": [
       "25"
      ]
     },
     "metadata": {},
     "output_type": "display_data"
    },
    {
     "data": {
      "text/plain": [
       "'Completed'"
      ]
     },
     "metadata": {},
     "output_type": "display_data"
    },
    {
     "data": {
      "text/plain": [
       "26"
      ]
     },
     "metadata": {},
     "output_type": "display_data"
    },
    {
     "data": {
      "text/plain": [
       "'Completed'"
      ]
     },
     "metadata": {},
     "output_type": "display_data"
    },
    {
     "data": {
      "text/plain": [
       "27"
      ]
     },
     "metadata": {},
     "output_type": "display_data"
    },
    {
     "data": {
      "text/plain": [
       "'Completed'"
      ]
     },
     "metadata": {},
     "output_type": "display_data"
    },
    {
     "data": {
      "text/plain": [
       "28"
      ]
     },
     "metadata": {},
     "output_type": "display_data"
    },
    {
     "data": {
      "text/plain": [
       "'Completed'"
      ]
     },
     "metadata": {},
     "output_type": "display_data"
    },
    {
     "data": {
      "text/plain": [
       "29"
      ]
     },
     "metadata": {},
     "output_type": "display_data"
    },
    {
     "data": {
      "text/plain": [
       "'Completed'"
      ]
     },
     "metadata": {},
     "output_type": "display_data"
    },
    {
     "data": {
      "text/plain": [
       "30"
      ]
     },
     "metadata": {},
     "output_type": "display_data"
    },
    {
     "data": {
      "text/plain": [
       "'Current key in progress'"
      ]
     },
     "metadata": {},
     "output_type": "display_data"
    },
    {
     "data": {
      "text/plain": [
       "'sample_numbers_list_0.8_to_0.9'"
      ]
     },
     "metadata": {},
     "output_type": "display_data"
    },
    {
     "data": {
      "text/plain": [
       "286"
      ]
     },
     "metadata": {},
     "output_type": "display_data"
    },
    {
     "data": {
      "text/html": [
       "<div>\n",
       "<style scoped>\n",
       "    .dataframe tbody tr th:only-of-type {\n",
       "        vertical-align: middle;\n",
       "    }\n",
       "\n",
       "    .dataframe tbody tr th {\n",
       "        vertical-align: top;\n",
       "    }\n",
       "\n",
       "    .dataframe thead th {\n",
       "        text-align: right;\n",
       "    }\n",
       "</style>\n",
       "<table border=\"1\" class=\"dataframe\">\n",
       "  <thead>\n",
       "    <tr style=\"text-align: right;\">\n",
       "      <th></th>\n",
       "      <th>Subject</th>\n",
       "      <th>HR</th>\n",
       "      <th>MAP</th>\n",
       "      <th>DBP</th>\n",
       "      <th>SBP</th>\n",
       "      <th>Resp</th>\n",
       "    </tr>\n",
       "  </thead>\n",
       "  <tbody>\n",
       "    <tr>\n",
       "      <th>0</th>\n",
       "      <td>3</td>\n",
       "      <td>89.0</td>\n",
       "      <td>67.00</td>\n",
       "      <td>50.0</td>\n",
       "      <td>97.00</td>\n",
       "      <td>12.0</td>\n",
       "    </tr>\n",
       "    <tr>\n",
       "      <th>1</th>\n",
       "      <td>3</td>\n",
       "      <td>90.0</td>\n",
       "      <td>71.50</td>\n",
       "      <td>54.5</td>\n",
       "      <td>114.00</td>\n",
       "      <td>11.5</td>\n",
       "    </tr>\n",
       "    <tr>\n",
       "      <th>2</th>\n",
       "      <td>3</td>\n",
       "      <td>98.0</td>\n",
       "      <td>76.00</td>\n",
       "      <td>60.5</td>\n",
       "      <td>114.50</td>\n",
       "      <td>19.0</td>\n",
       "    </tr>\n",
       "    <tr>\n",
       "      <th>3</th>\n",
       "      <td>3</td>\n",
       "      <td>108.0</td>\n",
       "      <td>72.00</td>\n",
       "      <td>59.5</td>\n",
       "      <td>102.50</td>\n",
       "      <td>19.0</td>\n",
       "    </tr>\n",
       "    <tr>\n",
       "      <th>4</th>\n",
       "      <td>3</td>\n",
       "      <td>111.0</td>\n",
       "      <td>72.00</td>\n",
       "      <td>61.0</td>\n",
       "      <td>100.00</td>\n",
       "      <td>18.0</td>\n",
       "    </tr>\n",
       "    <tr>\n",
       "      <th>...</th>\n",
       "      <td>...</td>\n",
       "      <td>...</td>\n",
       "      <td>...</td>\n",
       "      <td>...</td>\n",
       "      <td>...</td>\n",
       "      <td>...</td>\n",
       "    </tr>\n",
       "    <tr>\n",
       "      <th>46</th>\n",
       "      <td>507</td>\n",
       "      <td>80.0</td>\n",
       "      <td>92.33</td>\n",
       "      <td>75.0</td>\n",
       "      <td>164.50</td>\n",
       "      <td>15.0</td>\n",
       "    </tr>\n",
       "    <tr>\n",
       "      <th>47</th>\n",
       "      <td>507</td>\n",
       "      <td>76.0</td>\n",
       "      <td>84.33</td>\n",
       "      <td>68.0</td>\n",
       "      <td>148.50</td>\n",
       "      <td>18.0</td>\n",
       "    </tr>\n",
       "    <tr>\n",
       "      <th>48</th>\n",
       "      <td>507</td>\n",
       "      <td>138.0</td>\n",
       "      <td>96.67</td>\n",
       "      <td>83.5</td>\n",
       "      <td>156.50</td>\n",
       "      <td>17.0</td>\n",
       "    </tr>\n",
       "    <tr>\n",
       "      <th>49</th>\n",
       "      <td>507</td>\n",
       "      <td>111.0</td>\n",
       "      <td>97.33</td>\n",
       "      <td>81.0</td>\n",
       "      <td>152.00</td>\n",
       "      <td>16.0</td>\n",
       "    </tr>\n",
       "    <tr>\n",
       "      <th>50</th>\n",
       "      <td>507</td>\n",
       "      <td>103.5</td>\n",
       "      <td>87.67</td>\n",
       "      <td>76.0</td>\n",
       "      <td>139.75</td>\n",
       "      <td>22.5</td>\n",
       "    </tr>\n",
       "  </tbody>\n",
       "</table>\n",
       "<p>9324 rows × 6 columns</p>\n",
       "</div>"
      ],
      "text/plain": [
       "    Subject     HR    MAP   DBP     SBP  Resp\n",
       "0         3   89.0  67.00  50.0   97.00  12.0\n",
       "1         3   90.0  71.50  54.5  114.00  11.5\n",
       "2         3   98.0  76.00  60.5  114.50  19.0\n",
       "3         3  108.0  72.00  59.5  102.50  19.0\n",
       "4         3  111.0  72.00  61.0  100.00  18.0\n",
       "..      ...    ...    ...   ...     ...   ...\n",
       "46      507   80.0  92.33  75.0  164.50  15.0\n",
       "47      507   76.0  84.33  68.0  148.50  18.0\n",
       "48      507  138.0  96.67  83.5  156.50  17.0\n",
       "49      507  111.0  97.33  81.0  152.00  16.0\n",
       "50      507  103.5  87.67  76.0  139.75  22.5\n",
       "\n",
       "[9324 rows x 6 columns]"
      ]
     },
     "metadata": {},
     "output_type": "display_data"
    },
    {
     "data": {
      "text/plain": [
       "'Avg length:'"
      ]
     },
     "metadata": {},
     "output_type": "display_data"
    },
    {
     "data": {
      "text/plain": [
       "108.59428571428572"
      ]
     },
     "metadata": {},
     "output_type": "display_data"
    },
    {
     "data": {
      "text/plain": [
       "6"
      ]
     },
     "metadata": {},
     "output_type": "display_data"
    },
    {
     "data": {
      "text/plain": [
       "'X_1:'"
      ]
     },
     "metadata": {},
     "output_type": "display_data"
    },
    {
     "data": {
      "text/html": [
       "<div>\n",
       "<style scoped>\n",
       "    .dataframe tbody tr th:only-of-type {\n",
       "        vertical-align: middle;\n",
       "    }\n",
       "\n",
       "    .dataframe tbody tr th {\n",
       "        vertical-align: top;\n",
       "    }\n",
       "\n",
       "    .dataframe thead th {\n",
       "        text-align: right;\n",
       "    }\n",
       "</style>\n",
       "<table border=\"1\" class=\"dataframe\">\n",
       "  <thead>\n",
       "    <tr style=\"text-align: right;\">\n",
       "      <th></th>\n",
       "      <th>1</th>\n",
       "      <th>2</th>\n",
       "      <th>3</th>\n",
       "      <th>4</th>\n",
       "      <th>5</th>\n",
       "    </tr>\n",
       "  </thead>\n",
       "  <tbody>\n",
       "    <tr>\n",
       "      <th>0</th>\n",
       "      <td>0     -3.548802\n",
       "1     -3.367801\n",
       "2     -1.91978...</td>\n",
       "      <td>0      0.430982\n",
       "1      1.494217\n",
       "2      2.55745...</td>\n",
       "      <td>0      0.723290\n",
       "1      1.492478\n",
       "2      2.51806...</td>\n",
       "      <td>0     -1.542011\n",
       "1      0.217276\n",
       "2      0.26901...</td>\n",
       "      <td>0     -3.924038\n",
       "1     -4.123753\n",
       "2     -1.12802...</td>\n",
       "    </tr>\n",
       "    <tr>\n",
       "      <th>1</th>\n",
       "      <td>0     -5.247498\n",
       "1     -3.216591\n",
       "2     -1.07879...</td>\n",
       "      <td>0     -1.347462\n",
       "1     -2.628016\n",
       "2     -0.79865...</td>\n",
       "      <td>0     -1.027504\n",
       "1     -1.688042\n",
       "2     -0.08387...</td>\n",
       "      <td>0     -1.546311\n",
       "1     -2.554553\n",
       "2     -1.50048...</td>\n",
       "      <td>0     -2.900664\n",
       "1     -2.496312\n",
       "2     -1.58652...</td>\n",
       "    </tr>\n",
       "    <tr>\n",
       "      <th>2</th>\n",
       "      <td>0      1.025971\n",
       "1      1.025971\n",
       "2      0.94170...</td>\n",
       "      <td>0      1.474437\n",
       "1      1.474437\n",
       "2      0.00510...</td>\n",
       "      <td>0      0.195653\n",
       "1      0.195653\n",
       "2     -0.92236...</td>\n",
       "      <td>0      2.295130\n",
       "1      2.295130\n",
       "2      0.78441...</td>\n",
       "      <td>0      1.248605\n",
       "1      1.248605\n",
       "2      3.54499...</td>\n",
       "    </tr>\n",
       "    <tr>\n",
       "      <th>3</th>\n",
       "      <td>0      1.375152\n",
       "1      1.375152\n",
       "2     -4.37386...</td>\n",
       "      <td>0     -0.129986\n",
       "1     -0.129986\n",
       "2      0.52296...</td>\n",
       "      <td>0      0.674782\n",
       "1      0.674782\n",
       "2      0.44488...</td>\n",
       "      <td>0     -0.329309\n",
       "1     -0.329309\n",
       "2      1.36877...</td>\n",
       "      <td>0      1.599053\n",
       "1      1.599053\n",
       "2      1.18884...</td>\n",
       "    </tr>\n",
       "    <tr>\n",
       "      <th>4</th>\n",
       "      <td>0      0.004936\n",
       "1      0.004936\n",
       "2     -0.17275...</td>\n",
       "      <td>0     -0.398640\n",
       "1     -0.398640\n",
       "2     -0.57400...</td>\n",
       "      <td>0      0.926671\n",
       "1      0.926671\n",
       "2      0.44377...</td>\n",
       "      <td>0     -1.215042\n",
       "1     -1.215042\n",
       "2     -1.58124...</td>\n",
       "      <td>0     -0.802881\n",
       "1     -0.802881\n",
       "2     -1.06886...</td>\n",
       "    </tr>\n",
       "    <tr>\n",
       "      <th>...</th>\n",
       "      <td>...</td>\n",
       "      <td>...</td>\n",
       "      <td>...</td>\n",
       "      <td>...</td>\n",
       "      <td>...</td>\n",
       "    </tr>\n",
       "    <tr>\n",
       "      <th>345</th>\n",
       "      <td>0      0.650005\n",
       "1      0.589643\n",
       "2     -0.43650...</td>\n",
       "      <td>0      0.608622\n",
       "1      1.589685\n",
       "2      1.41131...</td>\n",
       "      <td>0      3.279536\n",
       "1      3.279536\n",
       "2      1.58788...</td>\n",
       "      <td>0      0.691488\n",
       "1      0.691488\n",
       "2     -0.02521...</td>\n",
       "      <td>0     -0.462499\n",
       "1      0.541519\n",
       "2     -0.46249...</td>\n",
       "    </tr>\n",
       "    <tr>\n",
       "      <th>346</th>\n",
       "      <td>0      0.047154\n",
       "1      0.047154\n",
       "2      0.74614...</td>\n",
       "      <td>0     -0.057694\n",
       "1     -0.057694\n",
       "2     -0.05769...</td>\n",
       "      <td>0      0.213708\n",
       "1      0.213708\n",
       "2     -0.04931...</td>\n",
       "      <td>0     -0.447369\n",
       "1     -0.447369\n",
       "2     -0.13157...</td>\n",
       "      <td>0     -0.476827\n",
       "1     -0.476827\n",
       "2     -1.35618...</td>\n",
       "    </tr>\n",
       "    <tr>\n",
       "      <th>347</th>\n",
       "      <td>0     -0.843348\n",
       "1     -0.698360\n",
       "2     -0.37938...</td>\n",
       "      <td>0     -0.717568\n",
       "1     -0.668112\n",
       "2     -0.66811...</td>\n",
       "      <td>0     -0.930073\n",
       "1     -0.487014\n",
       "2     -0.55030...</td>\n",
       "      <td>0     -0.418345\n",
       "1     -0.586556\n",
       "2     -0.65384...</td>\n",
       "      <td>0     -2.073631\n",
       "1     -2.073631\n",
       "2     -2.07363...</td>\n",
       "    </tr>\n",
       "    <tr>\n",
       "      <th>348</th>\n",
       "      <td>0      2.245241\n",
       "1      0.922891\n",
       "2      1.58406...</td>\n",
       "      <td>0     -0.732514\n",
       "1     -1.682273\n",
       "2     -1.43603...</td>\n",
       "      <td>0     -1.124194\n",
       "1     -2.176147\n",
       "2     -1.29952...</td>\n",
       "      <td>0      0.192826\n",
       "1     -2.343582\n",
       "2     -2.14333...</td>\n",
       "      <td>0     -0.059245\n",
       "1     -0.059245\n",
       "2      0.18685...</td>\n",
       "    </tr>\n",
       "    <tr>\n",
       "      <th>349</th>\n",
       "      <td>0      0.571725\n",
       "1      0.571725\n",
       "2     -0.22564...</td>\n",
       "      <td>0     -0.799545\n",
       "1     -0.799545\n",
       "2     -2.49661...</td>\n",
       "      <td>0     -0.799549\n",
       "1     -0.799549\n",
       "2     -2.72855...</td>\n",
       "      <td>0      0.793528\n",
       "1      0.793528\n",
       "2     -1.45869...</td>\n",
       "      <td>0      0.944124\n",
       "1      0.944124\n",
       "2      0.77217...</td>\n",
       "    </tr>\n",
       "  </tbody>\n",
       "</table>\n",
       "<p>350 rows × 5 columns</p>\n",
       "</div>"
      ],
      "text/plain": [
       "                                                     1  \\\n",
       "0    0     -3.548802\n",
       "1     -3.367801\n",
       "2     -1.91978...   \n",
       "1    0     -5.247498\n",
       "1     -3.216591\n",
       "2     -1.07879...   \n",
       "2    0      1.025971\n",
       "1      1.025971\n",
       "2      0.94170...   \n",
       "3    0      1.375152\n",
       "1      1.375152\n",
       "2     -4.37386...   \n",
       "4    0      0.004936\n",
       "1      0.004936\n",
       "2     -0.17275...   \n",
       "..                                                 ...   \n",
       "345  0      0.650005\n",
       "1      0.589643\n",
       "2     -0.43650...   \n",
       "346  0      0.047154\n",
       "1      0.047154\n",
       "2      0.74614...   \n",
       "347  0     -0.843348\n",
       "1     -0.698360\n",
       "2     -0.37938...   \n",
       "348  0      2.245241\n",
       "1      0.922891\n",
       "2      1.58406...   \n",
       "349  0      0.571725\n",
       "1      0.571725\n",
       "2     -0.22564...   \n",
       "\n",
       "                                                     2  \\\n",
       "0    0      0.430982\n",
       "1      1.494217\n",
       "2      2.55745...   \n",
       "1    0     -1.347462\n",
       "1     -2.628016\n",
       "2     -0.79865...   \n",
       "2    0      1.474437\n",
       "1      1.474437\n",
       "2      0.00510...   \n",
       "3    0     -0.129986\n",
       "1     -0.129986\n",
       "2      0.52296...   \n",
       "4    0     -0.398640\n",
       "1     -0.398640\n",
       "2     -0.57400...   \n",
       "..                                                 ...   \n",
       "345  0      0.608622\n",
       "1      1.589685\n",
       "2      1.41131...   \n",
       "346  0     -0.057694\n",
       "1     -0.057694\n",
       "2     -0.05769...   \n",
       "347  0     -0.717568\n",
       "1     -0.668112\n",
       "2     -0.66811...   \n",
       "348  0     -0.732514\n",
       "1     -1.682273\n",
       "2     -1.43603...   \n",
       "349  0     -0.799545\n",
       "1     -0.799545\n",
       "2     -2.49661...   \n",
       "\n",
       "                                                     3  \\\n",
       "0    0      0.723290\n",
       "1      1.492478\n",
       "2      2.51806...   \n",
       "1    0     -1.027504\n",
       "1     -1.688042\n",
       "2     -0.08387...   \n",
       "2    0      0.195653\n",
       "1      0.195653\n",
       "2     -0.92236...   \n",
       "3    0      0.674782\n",
       "1      0.674782\n",
       "2      0.44488...   \n",
       "4    0      0.926671\n",
       "1      0.926671\n",
       "2      0.44377...   \n",
       "..                                                 ...   \n",
       "345  0      3.279536\n",
       "1      3.279536\n",
       "2      1.58788...   \n",
       "346  0      0.213708\n",
       "1      0.213708\n",
       "2     -0.04931...   \n",
       "347  0     -0.930073\n",
       "1     -0.487014\n",
       "2     -0.55030...   \n",
       "348  0     -1.124194\n",
       "1     -2.176147\n",
       "2     -1.29952...   \n",
       "349  0     -0.799549\n",
       "1     -0.799549\n",
       "2     -2.72855...   \n",
       "\n",
       "                                                     4  \\\n",
       "0    0     -1.542011\n",
       "1      0.217276\n",
       "2      0.26901...   \n",
       "1    0     -1.546311\n",
       "1     -2.554553\n",
       "2     -1.50048...   \n",
       "2    0      2.295130\n",
       "1      2.295130\n",
       "2      0.78441...   \n",
       "3    0     -0.329309\n",
       "1     -0.329309\n",
       "2      1.36877...   \n",
       "4    0     -1.215042\n",
       "1     -1.215042\n",
       "2     -1.58124...   \n",
       "..                                                 ...   \n",
       "345  0      0.691488\n",
       "1      0.691488\n",
       "2     -0.02521...   \n",
       "346  0     -0.447369\n",
       "1     -0.447369\n",
       "2     -0.13157...   \n",
       "347  0     -0.418345\n",
       "1     -0.586556\n",
       "2     -0.65384...   \n",
       "348  0      0.192826\n",
       "1     -2.343582\n",
       "2     -2.14333...   \n",
       "349  0      0.793528\n",
       "1      0.793528\n",
       "2     -1.45869...   \n",
       "\n",
       "                                                     5  \n",
       "0    0     -3.924038\n",
       "1     -4.123753\n",
       "2     -1.12802...  \n",
       "1    0     -2.900664\n",
       "1     -2.496312\n",
       "2     -1.58652...  \n",
       "2    0      1.248605\n",
       "1      1.248605\n",
       "2      3.54499...  \n",
       "3    0      1.599053\n",
       "1      1.599053\n",
       "2      1.18884...  \n",
       "4    0     -0.802881\n",
       "1     -0.802881\n",
       "2     -1.06886...  \n",
       "..                                                 ...  \n",
       "345  0     -0.462499\n",
       "1      0.541519\n",
       "2     -0.46249...  \n",
       "346  0     -0.476827\n",
       "1     -0.476827\n",
       "2     -1.35618...  \n",
       "347  0     -2.073631\n",
       "1     -2.073631\n",
       "2     -2.07363...  \n",
       "348  0     -0.059245\n",
       "1     -0.059245\n",
       "2      0.18685...  \n",
       "349  0      0.944124\n",
       "1      0.944124\n",
       "2      0.77217...  \n",
       "\n",
       "[350 rows x 5 columns]"
      ]
     },
     "metadata": {},
     "output_type": "display_data"
    },
    {
     "data": {
      "text/plain": [
       "'Completed'"
      ]
     },
     "metadata": {},
     "output_type": "display_data"
    },
    {
     "data": {
      "text/plain": [
       "1"
      ]
     },
     "metadata": {},
     "output_type": "display_data"
    },
    {
     "data": {
      "text/plain": [
       "'Completed'"
      ]
     },
     "metadata": {},
     "output_type": "display_data"
    },
    {
     "data": {
      "text/plain": [
       "2"
      ]
     },
     "metadata": {},
     "output_type": "display_data"
    },
    {
     "data": {
      "text/plain": [
       "'Completed'"
      ]
     },
     "metadata": {},
     "output_type": "display_data"
    },
    {
     "data": {
      "text/plain": [
       "3"
      ]
     },
     "metadata": {},
     "output_type": "display_data"
    },
    {
     "data": {
      "text/plain": [
       "'Completed'"
      ]
     },
     "metadata": {},
     "output_type": "display_data"
    },
    {
     "data": {
      "text/plain": [
       "4"
      ]
     },
     "metadata": {},
     "output_type": "display_data"
    },
    {
     "data": {
      "text/plain": [
       "'Completed'"
      ]
     },
     "metadata": {},
     "output_type": "display_data"
    },
    {
     "data": {
      "text/plain": [
       "5"
      ]
     },
     "metadata": {},
     "output_type": "display_data"
    },
    {
     "data": {
      "text/plain": [
       "'Completed'"
      ]
     },
     "metadata": {},
     "output_type": "display_data"
    },
    {
     "data": {
      "text/plain": [
       "6"
      ]
     },
     "metadata": {},
     "output_type": "display_data"
    },
    {
     "data": {
      "text/plain": [
       "'Completed'"
      ]
     },
     "metadata": {},
     "output_type": "display_data"
    },
    {
     "data": {
      "text/plain": [
       "7"
      ]
     },
     "metadata": {},
     "output_type": "display_data"
    },
    {
     "data": {
      "text/plain": [
       "'Completed'"
      ]
     },
     "metadata": {},
     "output_type": "display_data"
    },
    {
     "data": {
      "text/plain": [
       "8"
      ]
     },
     "metadata": {},
     "output_type": "display_data"
    },
    {
     "data": {
      "text/plain": [
       "'Completed'"
      ]
     },
     "metadata": {},
     "output_type": "display_data"
    },
    {
     "data": {
      "text/plain": [
       "9"
      ]
     },
     "metadata": {},
     "output_type": "display_data"
    },
    {
     "data": {
      "text/plain": [
       "'Completed'"
      ]
     },
     "metadata": {},
     "output_type": "display_data"
    },
    {
     "data": {
      "text/plain": [
       "10"
      ]
     },
     "metadata": {},
     "output_type": "display_data"
    },
    {
     "data": {
      "text/plain": [
       "'Completed'"
      ]
     },
     "metadata": {},
     "output_type": "display_data"
    },
    {
     "data": {
      "text/plain": [
       "11"
      ]
     },
     "metadata": {},
     "output_type": "display_data"
    },
    {
     "data": {
      "text/plain": [
       "'Completed'"
      ]
     },
     "metadata": {},
     "output_type": "display_data"
    },
    {
     "data": {
      "text/plain": [
       "12"
      ]
     },
     "metadata": {},
     "output_type": "display_data"
    },
    {
     "data": {
      "text/plain": [
       "'Completed'"
      ]
     },
     "metadata": {},
     "output_type": "display_data"
    },
    {
     "data": {
      "text/plain": [
       "13"
      ]
     },
     "metadata": {},
     "output_type": "display_data"
    },
    {
     "data": {
      "text/plain": [
       "'Completed'"
      ]
     },
     "metadata": {},
     "output_type": "display_data"
    },
    {
     "data": {
      "text/plain": [
       "14"
      ]
     },
     "metadata": {},
     "output_type": "display_data"
    },
    {
     "data": {
      "text/plain": [
       "'Completed'"
      ]
     },
     "metadata": {},
     "output_type": "display_data"
    },
    {
     "data": {
      "text/plain": [
       "15"
      ]
     },
     "metadata": {},
     "output_type": "display_data"
    },
    {
     "data": {
      "text/plain": [
       "'Completed'"
      ]
     },
     "metadata": {},
     "output_type": "display_data"
    },
    {
     "data": {
      "text/plain": [
       "16"
      ]
     },
     "metadata": {},
     "output_type": "display_data"
    },
    {
     "data": {
      "text/plain": [
       "'Completed'"
      ]
     },
     "metadata": {},
     "output_type": "display_data"
    },
    {
     "data": {
      "text/plain": [
       "17"
      ]
     },
     "metadata": {},
     "output_type": "display_data"
    },
    {
     "data": {
      "text/plain": [
       "'Completed'"
      ]
     },
     "metadata": {},
     "output_type": "display_data"
    },
    {
     "data": {
      "text/plain": [
       "18"
      ]
     },
     "metadata": {},
     "output_type": "display_data"
    },
    {
     "data": {
      "text/plain": [
       "'Completed'"
      ]
     },
     "metadata": {},
     "output_type": "display_data"
    },
    {
     "data": {
      "text/plain": [
       "19"
      ]
     },
     "metadata": {},
     "output_type": "display_data"
    },
    {
     "data": {
      "text/plain": [
       "'Completed'"
      ]
     },
     "metadata": {},
     "output_type": "display_data"
    },
    {
     "data": {
      "text/plain": [
       "20"
      ]
     },
     "metadata": {},
     "output_type": "display_data"
    },
    {
     "data": {
      "text/plain": [
       "'Completed'"
      ]
     },
     "metadata": {},
     "output_type": "display_data"
    },
    {
     "data": {
      "text/plain": [
       "21"
      ]
     },
     "metadata": {},
     "output_type": "display_data"
    },
    {
     "data": {
      "text/plain": [
       "'Completed'"
      ]
     },
     "metadata": {},
     "output_type": "display_data"
    },
    {
     "data": {
      "text/plain": [
       "22"
      ]
     },
     "metadata": {},
     "output_type": "display_data"
    },
    {
     "data": {
      "text/plain": [
       "'Completed'"
      ]
     },
     "metadata": {},
     "output_type": "display_data"
    },
    {
     "data": {
      "text/plain": [
       "23"
      ]
     },
     "metadata": {},
     "output_type": "display_data"
    },
    {
     "data": {
      "text/plain": [
       "'Completed'"
      ]
     },
     "metadata": {},
     "output_type": "display_data"
    },
    {
     "data": {
      "text/plain": [
       "24"
      ]
     },
     "metadata": {},
     "output_type": "display_data"
    },
    {
     "data": {
      "text/plain": [
       "'Completed'"
      ]
     },
     "metadata": {},
     "output_type": "display_data"
    },
    {
     "data": {
      "text/plain": [
       "25"
      ]
     },
     "metadata": {},
     "output_type": "display_data"
    },
    {
     "data": {
      "text/plain": [
       "'Completed'"
      ]
     },
     "metadata": {},
     "output_type": "display_data"
    },
    {
     "data": {
      "text/plain": [
       "26"
      ]
     },
     "metadata": {},
     "output_type": "display_data"
    },
    {
     "data": {
      "text/plain": [
       "'Completed'"
      ]
     },
     "metadata": {},
     "output_type": "display_data"
    },
    {
     "data": {
      "text/plain": [
       "27"
      ]
     },
     "metadata": {},
     "output_type": "display_data"
    },
    {
     "data": {
      "text/plain": [
       "'Completed'"
      ]
     },
     "metadata": {},
     "output_type": "display_data"
    },
    {
     "data": {
      "text/plain": [
       "28"
      ]
     },
     "metadata": {},
     "output_type": "display_data"
    },
    {
     "data": {
      "text/plain": [
       "'Completed'"
      ]
     },
     "metadata": {},
     "output_type": "display_data"
    },
    {
     "data": {
      "text/plain": [
       "29"
      ]
     },
     "metadata": {},
     "output_type": "display_data"
    },
    {
     "data": {
      "text/plain": [
       "'Completed'"
      ]
     },
     "metadata": {},
     "output_type": "display_data"
    },
    {
     "data": {
      "text/plain": [
       "30"
      ]
     },
     "metadata": {},
     "output_type": "display_data"
    },
    {
     "data": {
      "text/plain": [
       "'Current key in progress'"
      ]
     },
     "metadata": {},
     "output_type": "display_data"
    },
    {
     "data": {
      "text/plain": [
       "'sample_numbers_list_0.9_to_1.0'"
      ]
     },
     "metadata": {},
     "output_type": "display_data"
    },
    {
     "data": {
      "text/plain": [
       "324"
      ]
     },
     "metadata": {},
     "output_type": "display_data"
    },
    {
     "data": {
      "text/html": [
       "<div>\n",
       "<style scoped>\n",
       "    .dataframe tbody tr th:only-of-type {\n",
       "        vertical-align: middle;\n",
       "    }\n",
       "\n",
       "    .dataframe tbody tr th {\n",
       "        vertical-align: top;\n",
       "    }\n",
       "\n",
       "    .dataframe thead th {\n",
       "        text-align: right;\n",
       "    }\n",
       "</style>\n",
       "<table border=\"1\" class=\"dataframe\">\n",
       "  <thead>\n",
       "    <tr style=\"text-align: right;\">\n",
       "      <th></th>\n",
       "      <th>Subject</th>\n",
       "      <th>HR</th>\n",
       "      <th>MAP</th>\n",
       "      <th>DBP</th>\n",
       "      <th>SBP</th>\n",
       "      <th>Resp</th>\n",
       "    </tr>\n",
       "  </thead>\n",
       "  <tbody>\n",
       "    <tr>\n",
       "      <th>0</th>\n",
       "      <td>3</td>\n",
       "      <td>89.0</td>\n",
       "      <td>67.00</td>\n",
       "      <td>50.0</td>\n",
       "      <td>97.00</td>\n",
       "      <td>12.0</td>\n",
       "    </tr>\n",
       "    <tr>\n",
       "      <th>1</th>\n",
       "      <td>3</td>\n",
       "      <td>90.0</td>\n",
       "      <td>71.50</td>\n",
       "      <td>54.5</td>\n",
       "      <td>114.00</td>\n",
       "      <td>11.5</td>\n",
       "    </tr>\n",
       "    <tr>\n",
       "      <th>2</th>\n",
       "      <td>3</td>\n",
       "      <td>98.0</td>\n",
       "      <td>76.00</td>\n",
       "      <td>60.5</td>\n",
       "      <td>114.50</td>\n",
       "      <td>19.0</td>\n",
       "    </tr>\n",
       "    <tr>\n",
       "      <th>3</th>\n",
       "      <td>3</td>\n",
       "      <td>108.0</td>\n",
       "      <td>72.00</td>\n",
       "      <td>59.5</td>\n",
       "      <td>102.50</td>\n",
       "      <td>19.0</td>\n",
       "    </tr>\n",
       "    <tr>\n",
       "      <th>4</th>\n",
       "      <td>3</td>\n",
       "      <td>111.0</td>\n",
       "      <td>72.00</td>\n",
       "      <td>61.0</td>\n",
       "      <td>100.00</td>\n",
       "      <td>18.0</td>\n",
       "    </tr>\n",
       "    <tr>\n",
       "      <th>...</th>\n",
       "      <td>...</td>\n",
       "      <td>...</td>\n",
       "      <td>...</td>\n",
       "      <td>...</td>\n",
       "      <td>...</td>\n",
       "      <td>...</td>\n",
       "    </tr>\n",
       "    <tr>\n",
       "      <th>46</th>\n",
       "      <td>507</td>\n",
       "      <td>80.0</td>\n",
       "      <td>92.33</td>\n",
       "      <td>75.0</td>\n",
       "      <td>164.50</td>\n",
       "      <td>15.0</td>\n",
       "    </tr>\n",
       "    <tr>\n",
       "      <th>47</th>\n",
       "      <td>507</td>\n",
       "      <td>76.0</td>\n",
       "      <td>84.33</td>\n",
       "      <td>68.0</td>\n",
       "      <td>148.50</td>\n",
       "      <td>18.0</td>\n",
       "    </tr>\n",
       "    <tr>\n",
       "      <th>48</th>\n",
       "      <td>507</td>\n",
       "      <td>138.0</td>\n",
       "      <td>96.67</td>\n",
       "      <td>83.5</td>\n",
       "      <td>156.50</td>\n",
       "      <td>17.0</td>\n",
       "    </tr>\n",
       "    <tr>\n",
       "      <th>49</th>\n",
       "      <td>507</td>\n",
       "      <td>111.0</td>\n",
       "      <td>97.33</td>\n",
       "      <td>81.0</td>\n",
       "      <td>152.00</td>\n",
       "      <td>16.0</td>\n",
       "    </tr>\n",
       "    <tr>\n",
       "      <th>50</th>\n",
       "      <td>507</td>\n",
       "      <td>103.5</td>\n",
       "      <td>87.67</td>\n",
       "      <td>76.0</td>\n",
       "      <td>139.75</td>\n",
       "      <td>22.5</td>\n",
       "    </tr>\n",
       "  </tbody>\n",
       "</table>\n",
       "<p>9335 rows × 6 columns</p>\n",
       "</div>"
      ],
      "text/plain": [
       "    Subject     HR    MAP   DBP     SBP  Resp\n",
       "0         3   89.0  67.00  50.0   97.00  12.0\n",
       "1         3   90.0  71.50  54.5  114.00  11.5\n",
       "2         3   98.0  76.00  60.5  114.50  19.0\n",
       "3         3  108.0  72.00  59.5  102.50  19.0\n",
       "4         3  111.0  72.00  61.0  100.00  18.0\n",
       "..      ...    ...    ...   ...     ...   ...\n",
       "46      507   80.0  92.33  75.0  164.50  15.0\n",
       "47      507   76.0  84.33  68.0  148.50  18.0\n",
       "48      507  138.0  96.67  83.5  156.50  17.0\n",
       "49      507  111.0  97.33  81.0  152.00  16.0\n",
       "50      507  103.5  87.67  76.0  139.75  22.5\n",
       "\n",
       "[9335 rows x 6 columns]"
      ]
     },
     "metadata": {},
     "output_type": "display_data"
    },
    {
     "data": {
      "text/plain": [
       "'Avg length:'"
      ]
     },
     "metadata": {},
     "output_type": "display_data"
    },
    {
     "data": {
      "text/plain": [
       "108.59428571428572"
      ]
     },
     "metadata": {},
     "output_type": "display_data"
    },
    {
     "data": {
      "text/plain": [
       "6"
      ]
     },
     "metadata": {},
     "output_type": "display_data"
    },
    {
     "data": {
      "text/plain": [
       "'X_1:'"
      ]
     },
     "metadata": {},
     "output_type": "display_data"
    },
    {
     "data": {
      "text/html": [
       "<div>\n",
       "<style scoped>\n",
       "    .dataframe tbody tr th:only-of-type {\n",
       "        vertical-align: middle;\n",
       "    }\n",
       "\n",
       "    .dataframe tbody tr th {\n",
       "        vertical-align: top;\n",
       "    }\n",
       "\n",
       "    .dataframe thead th {\n",
       "        text-align: right;\n",
       "    }\n",
       "</style>\n",
       "<table border=\"1\" class=\"dataframe\">\n",
       "  <thead>\n",
       "    <tr style=\"text-align: right;\">\n",
       "      <th></th>\n",
       "      <th>1</th>\n",
       "      <th>2</th>\n",
       "      <th>3</th>\n",
       "      <th>4</th>\n",
       "      <th>5</th>\n",
       "    </tr>\n",
       "  </thead>\n",
       "  <tbody>\n",
       "    <tr>\n",
       "      <th>0</th>\n",
       "      <td>0     -3.548802\n",
       "1     -3.367801\n",
       "2     -1.91978...</td>\n",
       "      <td>0      0.430982\n",
       "1      1.494217\n",
       "2      2.55745...</td>\n",
       "      <td>0      0.723290\n",
       "1      1.492478\n",
       "2      2.51806...</td>\n",
       "      <td>0     -1.542011\n",
       "1      0.217276\n",
       "2      0.26901...</td>\n",
       "      <td>0     -3.924038\n",
       "1     -4.123753\n",
       "2     -1.12802...</td>\n",
       "    </tr>\n",
       "    <tr>\n",
       "      <th>1</th>\n",
       "      <td>0     -5.247498\n",
       "1     -3.216591\n",
       "2     -1.07879...</td>\n",
       "      <td>0     -1.347462\n",
       "1     -2.628016\n",
       "2     -0.79865...</td>\n",
       "      <td>0     -1.027504\n",
       "1     -1.688042\n",
       "2     -0.08387...</td>\n",
       "      <td>0     -1.546311\n",
       "1     -2.554553\n",
       "2     -1.50048...</td>\n",
       "      <td>0     -2.900664\n",
       "1     -2.496312\n",
       "2     -1.58652...</td>\n",
       "    </tr>\n",
       "    <tr>\n",
       "      <th>2</th>\n",
       "      <td>0     -0.145320\n",
       "1     -1.669930\n",
       "2     -1.04214...</td>\n",
       "      <td>0      4.946853\n",
       "1      2.070579\n",
       "2     -1.59013...</td>\n",
       "      <td>0      3.516481\n",
       "1      1.432323\n",
       "2     -2.04127...</td>\n",
       "      <td>0      4.273263\n",
       "1      2.643262\n",
       "2     -0.86370...</td>\n",
       "      <td>0     -2.476901\n",
       "1     -0.779801\n",
       "2      1.34157...</td>\n",
       "    </tr>\n",
       "    <tr>\n",
       "      <th>3</th>\n",
       "      <td>0      0.004936\n",
       "1      0.004936\n",
       "2     -0.17275...</td>\n",
       "      <td>0     -0.398640\n",
       "1     -0.398640\n",
       "2     -0.57400...</td>\n",
       "      <td>0      0.926671\n",
       "1      0.926671\n",
       "2      0.44377...</td>\n",
       "      <td>0     -1.215042\n",
       "1     -1.215042\n",
       "2     -1.58124...</td>\n",
       "      <td>0     -0.802881\n",
       "1     -0.802881\n",
       "2     -1.06886...</td>\n",
       "    </tr>\n",
       "    <tr>\n",
       "      <th>4</th>\n",
       "      <td>0     -0.096793\n",
       "1      2.181560\n",
       "2      2.18156...</td>\n",
       "      <td>0     -2.251445\n",
       "1     -1.064296\n",
       "2     -1.06429...</td>\n",
       "      <td>0     -2.929532\n",
       "1     -1.344503\n",
       "2     -1.34450...</td>\n",
       "      <td>0     -1.384835\n",
       "1     -0.363793\n",
       "2     -0.36379...</td>\n",
       "      <td>0     -0.536459\n",
       "1     -0.019159\n",
       "2     -0.01915...</td>\n",
       "    </tr>\n",
       "    <tr>\n",
       "      <th>...</th>\n",
       "      <td>...</td>\n",
       "      <td>...</td>\n",
       "      <td>...</td>\n",
       "      <td>...</td>\n",
       "      <td>...</td>\n",
       "    </tr>\n",
       "    <tr>\n",
       "      <th>345</th>\n",
       "      <td>0      0.650005\n",
       "1      0.589643\n",
       "2     -0.43650...</td>\n",
       "      <td>0      0.608622\n",
       "1      1.589685\n",
       "2      1.41131...</td>\n",
       "      <td>0      3.279536\n",
       "1      3.279536\n",
       "2      1.58788...</td>\n",
       "      <td>0      0.691488\n",
       "1      0.691488\n",
       "2     -0.02521...</td>\n",
       "      <td>0     -0.462499\n",
       "1      0.541519\n",
       "2     -0.46249...</td>\n",
       "    </tr>\n",
       "    <tr>\n",
       "      <th>346</th>\n",
       "      <td>0      0.047154\n",
       "1      0.047154\n",
       "2      0.74614...</td>\n",
       "      <td>0     -0.057694\n",
       "1     -0.057694\n",
       "2     -0.05769...</td>\n",
       "      <td>0      0.213708\n",
       "1      0.213708\n",
       "2     -0.04931...</td>\n",
       "      <td>0     -0.447369\n",
       "1     -0.447369\n",
       "2     -0.13157...</td>\n",
       "      <td>0     -0.476827\n",
       "1     -0.476827\n",
       "2     -1.35618...</td>\n",
       "    </tr>\n",
       "    <tr>\n",
       "      <th>347</th>\n",
       "      <td>0     -0.843348\n",
       "1     -0.698360\n",
       "2     -0.37938...</td>\n",
       "      <td>0     -0.717568\n",
       "1     -0.668112\n",
       "2     -0.66811...</td>\n",
       "      <td>0     -0.930073\n",
       "1     -0.487014\n",
       "2     -0.55030...</td>\n",
       "      <td>0     -0.418345\n",
       "1     -0.586556\n",
       "2     -0.65384...</td>\n",
       "      <td>0     -2.073631\n",
       "1     -2.073631\n",
       "2     -2.07363...</td>\n",
       "    </tr>\n",
       "    <tr>\n",
       "      <th>348</th>\n",
       "      <td>0      2.245241\n",
       "1      0.922891\n",
       "2      1.58406...</td>\n",
       "      <td>0     -0.732514\n",
       "1     -1.682273\n",
       "2     -1.43603...</td>\n",
       "      <td>0     -1.124194\n",
       "1     -2.176147\n",
       "2     -1.29952...</td>\n",
       "      <td>0      0.192826\n",
       "1     -2.343582\n",
       "2     -2.14333...</td>\n",
       "      <td>0     -0.059245\n",
       "1     -0.059245\n",
       "2      0.18685...</td>\n",
       "    </tr>\n",
       "    <tr>\n",
       "      <th>349</th>\n",
       "      <td>0      0.571725\n",
       "1      0.571725\n",
       "2     -0.22564...</td>\n",
       "      <td>0     -0.799545\n",
       "1     -0.799545\n",
       "2     -2.49661...</td>\n",
       "      <td>0     -0.799549\n",
       "1     -0.799549\n",
       "2     -2.72855...</td>\n",
       "      <td>0      0.793528\n",
       "1      0.793528\n",
       "2     -1.45869...</td>\n",
       "      <td>0      0.944124\n",
       "1      0.944124\n",
       "2      0.77217...</td>\n",
       "    </tr>\n",
       "  </tbody>\n",
       "</table>\n",
       "<p>350 rows × 5 columns</p>\n",
       "</div>"
      ],
      "text/plain": [
       "                                                     1  \\\n",
       "0    0     -3.548802\n",
       "1     -3.367801\n",
       "2     -1.91978...   \n",
       "1    0     -5.247498\n",
       "1     -3.216591\n",
       "2     -1.07879...   \n",
       "2    0     -0.145320\n",
       "1     -1.669930\n",
       "2     -1.04214...   \n",
       "3    0      0.004936\n",
       "1      0.004936\n",
       "2     -0.17275...   \n",
       "4    0     -0.096793\n",
       "1      2.181560\n",
       "2      2.18156...   \n",
       "..                                                 ...   \n",
       "345  0      0.650005\n",
       "1      0.589643\n",
       "2     -0.43650...   \n",
       "346  0      0.047154\n",
       "1      0.047154\n",
       "2      0.74614...   \n",
       "347  0     -0.843348\n",
       "1     -0.698360\n",
       "2     -0.37938...   \n",
       "348  0      2.245241\n",
       "1      0.922891\n",
       "2      1.58406...   \n",
       "349  0      0.571725\n",
       "1      0.571725\n",
       "2     -0.22564...   \n",
       "\n",
       "                                                     2  \\\n",
       "0    0      0.430982\n",
       "1      1.494217\n",
       "2      2.55745...   \n",
       "1    0     -1.347462\n",
       "1     -2.628016\n",
       "2     -0.79865...   \n",
       "2    0      4.946853\n",
       "1      2.070579\n",
       "2     -1.59013...   \n",
       "3    0     -0.398640\n",
       "1     -0.398640\n",
       "2     -0.57400...   \n",
       "4    0     -2.251445\n",
       "1     -1.064296\n",
       "2     -1.06429...   \n",
       "..                                                 ...   \n",
       "345  0      0.608622\n",
       "1      1.589685\n",
       "2      1.41131...   \n",
       "346  0     -0.057694\n",
       "1     -0.057694\n",
       "2     -0.05769...   \n",
       "347  0     -0.717568\n",
       "1     -0.668112\n",
       "2     -0.66811...   \n",
       "348  0     -0.732514\n",
       "1     -1.682273\n",
       "2     -1.43603...   \n",
       "349  0     -0.799545\n",
       "1     -0.799545\n",
       "2     -2.49661...   \n",
       "\n",
       "                                                     3  \\\n",
       "0    0      0.723290\n",
       "1      1.492478\n",
       "2      2.51806...   \n",
       "1    0     -1.027504\n",
       "1     -1.688042\n",
       "2     -0.08387...   \n",
       "2    0      3.516481\n",
       "1      1.432323\n",
       "2     -2.04127...   \n",
       "3    0      0.926671\n",
       "1      0.926671\n",
       "2      0.44377...   \n",
       "4    0     -2.929532\n",
       "1     -1.344503\n",
       "2     -1.34450...   \n",
       "..                                                 ...   \n",
       "345  0      3.279536\n",
       "1      3.279536\n",
       "2      1.58788...   \n",
       "346  0      0.213708\n",
       "1      0.213708\n",
       "2     -0.04931...   \n",
       "347  0     -0.930073\n",
       "1     -0.487014\n",
       "2     -0.55030...   \n",
       "348  0     -1.124194\n",
       "1     -2.176147\n",
       "2     -1.29952...   \n",
       "349  0     -0.799549\n",
       "1     -0.799549\n",
       "2     -2.72855...   \n",
       "\n",
       "                                                     4  \\\n",
       "0    0     -1.542011\n",
       "1      0.217276\n",
       "2      0.26901...   \n",
       "1    0     -1.546311\n",
       "1     -2.554553\n",
       "2     -1.50048...   \n",
       "2    0      4.273263\n",
       "1      2.643262\n",
       "2     -0.86370...   \n",
       "3    0     -1.215042\n",
       "1     -1.215042\n",
       "2     -1.58124...   \n",
       "4    0     -1.384835\n",
       "1     -0.363793\n",
       "2     -0.36379...   \n",
       "..                                                 ...   \n",
       "345  0      0.691488\n",
       "1      0.691488\n",
       "2     -0.02521...   \n",
       "346  0     -0.447369\n",
       "1     -0.447369\n",
       "2     -0.13157...   \n",
       "347  0     -0.418345\n",
       "1     -0.586556\n",
       "2     -0.65384...   \n",
       "348  0      0.192826\n",
       "1     -2.343582\n",
       "2     -2.14333...   \n",
       "349  0      0.793528\n",
       "1      0.793528\n",
       "2     -1.45869...   \n",
       "\n",
       "                                                     5  \n",
       "0    0     -3.924038\n",
       "1     -4.123753\n",
       "2     -1.12802...  \n",
       "1    0     -2.900664\n",
       "1     -2.496312\n",
       "2     -1.58652...  \n",
       "2    0     -2.476901\n",
       "1     -0.779801\n",
       "2      1.34157...  \n",
       "3    0     -0.802881\n",
       "1     -0.802881\n",
       "2     -1.06886...  \n",
       "4    0     -0.536459\n",
       "1     -0.019159\n",
       "2     -0.01915...  \n",
       "..                                                 ...  \n",
       "345  0     -0.462499\n",
       "1      0.541519\n",
       "2     -0.46249...  \n",
       "346  0     -0.476827\n",
       "1     -0.476827\n",
       "2     -1.35618...  \n",
       "347  0     -2.073631\n",
       "1     -2.073631\n",
       "2     -2.07363...  \n",
       "348  0     -0.059245\n",
       "1     -0.059245\n",
       "2      0.18685...  \n",
       "349  0      0.944124\n",
       "1      0.944124\n",
       "2      0.77217...  \n",
       "\n",
       "[350 rows x 5 columns]"
      ]
     },
     "metadata": {},
     "output_type": "display_data"
    },
    {
     "data": {
      "text/plain": [
       "'Completed'"
      ]
     },
     "metadata": {},
     "output_type": "display_data"
    },
    {
     "data": {
      "text/plain": [
       "1"
      ]
     },
     "metadata": {},
     "output_type": "display_data"
    },
    {
     "data": {
      "text/plain": [
       "'Completed'"
      ]
     },
     "metadata": {},
     "output_type": "display_data"
    },
    {
     "data": {
      "text/plain": [
       "2"
      ]
     },
     "metadata": {},
     "output_type": "display_data"
    },
    {
     "data": {
      "text/plain": [
       "'Completed'"
      ]
     },
     "metadata": {},
     "output_type": "display_data"
    },
    {
     "data": {
      "text/plain": [
       "3"
      ]
     },
     "metadata": {},
     "output_type": "display_data"
    },
    {
     "data": {
      "text/plain": [
       "'Completed'"
      ]
     },
     "metadata": {},
     "output_type": "display_data"
    },
    {
     "data": {
      "text/plain": [
       "4"
      ]
     },
     "metadata": {},
     "output_type": "display_data"
    },
    {
     "data": {
      "text/plain": [
       "'Completed'"
      ]
     },
     "metadata": {},
     "output_type": "display_data"
    },
    {
     "data": {
      "text/plain": [
       "5"
      ]
     },
     "metadata": {},
     "output_type": "display_data"
    },
    {
     "data": {
      "text/plain": [
       "'Completed'"
      ]
     },
     "metadata": {},
     "output_type": "display_data"
    },
    {
     "data": {
      "text/plain": [
       "6"
      ]
     },
     "metadata": {},
     "output_type": "display_data"
    },
    {
     "data": {
      "text/plain": [
       "'Completed'"
      ]
     },
     "metadata": {},
     "output_type": "display_data"
    },
    {
     "data": {
      "text/plain": [
       "7"
      ]
     },
     "metadata": {},
     "output_type": "display_data"
    },
    {
     "data": {
      "text/plain": [
       "'Completed'"
      ]
     },
     "metadata": {},
     "output_type": "display_data"
    },
    {
     "data": {
      "text/plain": [
       "8"
      ]
     },
     "metadata": {},
     "output_type": "display_data"
    },
    {
     "data": {
      "text/plain": [
       "'Completed'"
      ]
     },
     "metadata": {},
     "output_type": "display_data"
    },
    {
     "data": {
      "text/plain": [
       "9"
      ]
     },
     "metadata": {},
     "output_type": "display_data"
    },
    {
     "data": {
      "text/plain": [
       "'Completed'"
      ]
     },
     "metadata": {},
     "output_type": "display_data"
    },
    {
     "data": {
      "text/plain": [
       "10"
      ]
     },
     "metadata": {},
     "output_type": "display_data"
    },
    {
     "data": {
      "text/plain": [
       "'Completed'"
      ]
     },
     "metadata": {},
     "output_type": "display_data"
    },
    {
     "data": {
      "text/plain": [
       "11"
      ]
     },
     "metadata": {},
     "output_type": "display_data"
    },
    {
     "data": {
      "text/plain": [
       "'Completed'"
      ]
     },
     "metadata": {},
     "output_type": "display_data"
    },
    {
     "data": {
      "text/plain": [
       "12"
      ]
     },
     "metadata": {},
     "output_type": "display_data"
    },
    {
     "data": {
      "text/plain": [
       "'Completed'"
      ]
     },
     "metadata": {},
     "output_type": "display_data"
    },
    {
     "data": {
      "text/plain": [
       "13"
      ]
     },
     "metadata": {},
     "output_type": "display_data"
    },
    {
     "data": {
      "text/plain": [
       "'Completed'"
      ]
     },
     "metadata": {},
     "output_type": "display_data"
    },
    {
     "data": {
      "text/plain": [
       "14"
      ]
     },
     "metadata": {},
     "output_type": "display_data"
    },
    {
     "data": {
      "text/plain": [
       "'Completed'"
      ]
     },
     "metadata": {},
     "output_type": "display_data"
    },
    {
     "data": {
      "text/plain": [
       "15"
      ]
     },
     "metadata": {},
     "output_type": "display_data"
    },
    {
     "data": {
      "text/plain": [
       "'Completed'"
      ]
     },
     "metadata": {},
     "output_type": "display_data"
    },
    {
     "data": {
      "text/plain": [
       "16"
      ]
     },
     "metadata": {},
     "output_type": "display_data"
    },
    {
     "data": {
      "text/plain": [
       "'Completed'"
      ]
     },
     "metadata": {},
     "output_type": "display_data"
    },
    {
     "data": {
      "text/plain": [
       "17"
      ]
     },
     "metadata": {},
     "output_type": "display_data"
    },
    {
     "data": {
      "text/plain": [
       "'Completed'"
      ]
     },
     "metadata": {},
     "output_type": "display_data"
    },
    {
     "data": {
      "text/plain": [
       "18"
      ]
     },
     "metadata": {},
     "output_type": "display_data"
    },
    {
     "data": {
      "text/plain": [
       "'Completed'"
      ]
     },
     "metadata": {},
     "output_type": "display_data"
    },
    {
     "data": {
      "text/plain": [
       "19"
      ]
     },
     "metadata": {},
     "output_type": "display_data"
    },
    {
     "data": {
      "text/plain": [
       "'Completed'"
      ]
     },
     "metadata": {},
     "output_type": "display_data"
    },
    {
     "data": {
      "text/plain": [
       "20"
      ]
     },
     "metadata": {},
     "output_type": "display_data"
    },
    {
     "data": {
      "text/plain": [
       "'Completed'"
      ]
     },
     "metadata": {},
     "output_type": "display_data"
    },
    {
     "data": {
      "text/plain": [
       "21"
      ]
     },
     "metadata": {},
     "output_type": "display_data"
    },
    {
     "data": {
      "text/plain": [
       "'Completed'"
      ]
     },
     "metadata": {},
     "output_type": "display_data"
    },
    {
     "data": {
      "text/plain": [
       "22"
      ]
     },
     "metadata": {},
     "output_type": "display_data"
    },
    {
     "data": {
      "text/plain": [
       "'Completed'"
      ]
     },
     "metadata": {},
     "output_type": "display_data"
    },
    {
     "data": {
      "text/plain": [
       "23"
      ]
     },
     "metadata": {},
     "output_type": "display_data"
    },
    {
     "data": {
      "text/plain": [
       "'Completed'"
      ]
     },
     "metadata": {},
     "output_type": "display_data"
    },
    {
     "data": {
      "text/plain": [
       "24"
      ]
     },
     "metadata": {},
     "output_type": "display_data"
    },
    {
     "data": {
      "text/plain": [
       "'Completed'"
      ]
     },
     "metadata": {},
     "output_type": "display_data"
    },
    {
     "data": {
      "text/plain": [
       "25"
      ]
     },
     "metadata": {},
     "output_type": "display_data"
    },
    {
     "data": {
      "text/plain": [
       "'Completed'"
      ]
     },
     "metadata": {},
     "output_type": "display_data"
    },
    {
     "data": {
      "text/plain": [
       "26"
      ]
     },
     "metadata": {},
     "output_type": "display_data"
    },
    {
     "data": {
      "text/plain": [
       "'Completed'"
      ]
     },
     "metadata": {},
     "output_type": "display_data"
    },
    {
     "data": {
      "text/plain": [
       "27"
      ]
     },
     "metadata": {},
     "output_type": "display_data"
    },
    {
     "data": {
      "text/plain": [
       "'Completed'"
      ]
     },
     "metadata": {},
     "output_type": "display_data"
    },
    {
     "data": {
      "text/plain": [
       "28"
      ]
     },
     "metadata": {},
     "output_type": "display_data"
    },
    {
     "data": {
      "text/plain": [
       "'Completed'"
      ]
     },
     "metadata": {},
     "output_type": "display_data"
    },
    {
     "data": {
      "text/plain": [
       "29"
      ]
     },
     "metadata": {},
     "output_type": "display_data"
    },
    {
     "data": {
      "text/plain": [
       "'Completed'"
      ]
     },
     "metadata": {},
     "output_type": "display_data"
    },
    {
     "data": {
      "text/plain": [
       "30"
      ]
     },
     "metadata": {},
     "output_type": "display_data"
    },
    {
     "data": {
      "text/plain": [
       "'Current key in progress'"
      ]
     },
     "metadata": {},
     "output_type": "display_data"
    },
    {
     "data": {
      "text/plain": [
       "'sample_numbers_list_1.0_to_1.1'"
      ]
     },
     "metadata": {},
     "output_type": "display_data"
    },
    {
     "data": {
      "text/plain": [
       "339"
      ]
     },
     "metadata": {},
     "output_type": "display_data"
    },
    {
     "data": {
      "text/html": [
       "<div>\n",
       "<style scoped>\n",
       "    .dataframe tbody tr th:only-of-type {\n",
       "        vertical-align: middle;\n",
       "    }\n",
       "\n",
       "    .dataframe tbody tr th {\n",
       "        vertical-align: top;\n",
       "    }\n",
       "\n",
       "    .dataframe thead th {\n",
       "        text-align: right;\n",
       "    }\n",
       "</style>\n",
       "<table border=\"1\" class=\"dataframe\">\n",
       "  <thead>\n",
       "    <tr style=\"text-align: right;\">\n",
       "      <th></th>\n",
       "      <th>Subject</th>\n",
       "      <th>HR</th>\n",
       "      <th>MAP</th>\n",
       "      <th>DBP</th>\n",
       "      <th>SBP</th>\n",
       "      <th>Resp</th>\n",
       "    </tr>\n",
       "  </thead>\n",
       "  <tbody>\n",
       "    <tr>\n",
       "      <th>0</th>\n",
       "      <td>3</td>\n",
       "      <td>89.0</td>\n",
       "      <td>67.00</td>\n",
       "      <td>50.0</td>\n",
       "      <td>97.00</td>\n",
       "      <td>12.0</td>\n",
       "    </tr>\n",
       "    <tr>\n",
       "      <th>1</th>\n",
       "      <td>3</td>\n",
       "      <td>90.0</td>\n",
       "      <td>71.50</td>\n",
       "      <td>54.5</td>\n",
       "      <td>114.00</td>\n",
       "      <td>11.5</td>\n",
       "    </tr>\n",
       "    <tr>\n",
       "      <th>2</th>\n",
       "      <td>3</td>\n",
       "      <td>98.0</td>\n",
       "      <td>76.00</td>\n",
       "      <td>60.5</td>\n",
       "      <td>114.50</td>\n",
       "      <td>19.0</td>\n",
       "    </tr>\n",
       "    <tr>\n",
       "      <th>3</th>\n",
       "      <td>3</td>\n",
       "      <td>108.0</td>\n",
       "      <td>72.00</td>\n",
       "      <td>59.5</td>\n",
       "      <td>102.50</td>\n",
       "      <td>19.0</td>\n",
       "    </tr>\n",
       "    <tr>\n",
       "      <th>4</th>\n",
       "      <td>3</td>\n",
       "      <td>111.0</td>\n",
       "      <td>72.00</td>\n",
       "      <td>61.0</td>\n",
       "      <td>100.00</td>\n",
       "      <td>18.0</td>\n",
       "    </tr>\n",
       "    <tr>\n",
       "      <th>...</th>\n",
       "      <td>...</td>\n",
       "      <td>...</td>\n",
       "      <td>...</td>\n",
       "      <td>...</td>\n",
       "      <td>...</td>\n",
       "      <td>...</td>\n",
       "    </tr>\n",
       "    <tr>\n",
       "      <th>46</th>\n",
       "      <td>507</td>\n",
       "      <td>80.0</td>\n",
       "      <td>92.33</td>\n",
       "      <td>75.0</td>\n",
       "      <td>164.50</td>\n",
       "      <td>15.0</td>\n",
       "    </tr>\n",
       "    <tr>\n",
       "      <th>47</th>\n",
       "      <td>507</td>\n",
       "      <td>76.0</td>\n",
       "      <td>84.33</td>\n",
       "      <td>68.0</td>\n",
       "      <td>148.50</td>\n",
       "      <td>18.0</td>\n",
       "    </tr>\n",
       "    <tr>\n",
       "      <th>48</th>\n",
       "      <td>507</td>\n",
       "      <td>138.0</td>\n",
       "      <td>96.67</td>\n",
       "      <td>83.5</td>\n",
       "      <td>156.50</td>\n",
       "      <td>17.0</td>\n",
       "    </tr>\n",
       "    <tr>\n",
       "      <th>49</th>\n",
       "      <td>507</td>\n",
       "      <td>111.0</td>\n",
       "      <td>97.33</td>\n",
       "      <td>81.0</td>\n",
       "      <td>152.00</td>\n",
       "      <td>16.0</td>\n",
       "    </tr>\n",
       "    <tr>\n",
       "      <th>50</th>\n",
       "      <td>507</td>\n",
       "      <td>103.5</td>\n",
       "      <td>87.67</td>\n",
       "      <td>76.0</td>\n",
       "      <td>139.75</td>\n",
       "      <td>22.5</td>\n",
       "    </tr>\n",
       "  </tbody>\n",
       "</table>\n",
       "<p>9338 rows × 6 columns</p>\n",
       "</div>"
      ],
      "text/plain": [
       "    Subject     HR    MAP   DBP     SBP  Resp\n",
       "0         3   89.0  67.00  50.0   97.00  12.0\n",
       "1         3   90.0  71.50  54.5  114.00  11.5\n",
       "2         3   98.0  76.00  60.5  114.50  19.0\n",
       "3         3  108.0  72.00  59.5  102.50  19.0\n",
       "4         3  111.0  72.00  61.0  100.00  18.0\n",
       "..      ...    ...    ...   ...     ...   ...\n",
       "46      507   80.0  92.33  75.0  164.50  15.0\n",
       "47      507   76.0  84.33  68.0  148.50  18.0\n",
       "48      507  138.0  96.67  83.5  156.50  17.0\n",
       "49      507  111.0  97.33  81.0  152.00  16.0\n",
       "50      507  103.5  87.67  76.0  139.75  22.5\n",
       "\n",
       "[9338 rows x 6 columns]"
      ]
     },
     "metadata": {},
     "output_type": "display_data"
    },
    {
     "data": {
      "text/plain": [
       "'Avg length:'"
      ]
     },
     "metadata": {},
     "output_type": "display_data"
    },
    {
     "data": {
      "text/plain": [
       "108.59428571428572"
      ]
     },
     "metadata": {},
     "output_type": "display_data"
    },
    {
     "data": {
      "text/plain": [
       "6"
      ]
     },
     "metadata": {},
     "output_type": "display_data"
    },
    {
     "data": {
      "text/plain": [
       "'X_1:'"
      ]
     },
     "metadata": {},
     "output_type": "display_data"
    },
    {
     "data": {
      "text/html": [
       "<div>\n",
       "<style scoped>\n",
       "    .dataframe tbody tr th:only-of-type {\n",
       "        vertical-align: middle;\n",
       "    }\n",
       "\n",
       "    .dataframe tbody tr th {\n",
       "        vertical-align: top;\n",
       "    }\n",
       "\n",
       "    .dataframe thead th {\n",
       "        text-align: right;\n",
       "    }\n",
       "</style>\n",
       "<table border=\"1\" class=\"dataframe\">\n",
       "  <thead>\n",
       "    <tr style=\"text-align: right;\">\n",
       "      <th></th>\n",
       "      <th>1</th>\n",
       "      <th>2</th>\n",
       "      <th>3</th>\n",
       "      <th>4</th>\n",
       "      <th>5</th>\n",
       "    </tr>\n",
       "  </thead>\n",
       "  <tbody>\n",
       "    <tr>\n",
       "      <th>0</th>\n",
       "      <td>0     -3.548802\n",
       "1     -3.367801\n",
       "2     -1.91978...</td>\n",
       "      <td>0      0.430982\n",
       "1      1.494217\n",
       "2      2.55745...</td>\n",
       "      <td>0      0.723290\n",
       "1      1.492478\n",
       "2      2.51806...</td>\n",
       "      <td>0     -1.542011\n",
       "1      0.217276\n",
       "2      0.26901...</td>\n",
       "      <td>0     -3.924038\n",
       "1     -4.123753\n",
       "2     -1.12802...</td>\n",
       "    </tr>\n",
       "    <tr>\n",
       "      <th>1</th>\n",
       "      <td>0     -0.145320\n",
       "1     -1.669930\n",
       "2     -1.04214...</td>\n",
       "      <td>0      4.946853\n",
       "1      2.070579\n",
       "2     -1.59013...</td>\n",
       "      <td>0      3.516481\n",
       "1      1.432323\n",
       "2     -2.04127...</td>\n",
       "      <td>0      4.273263\n",
       "1      2.643262\n",
       "2     -0.86370...</td>\n",
       "      <td>0     -2.476901\n",
       "1     -0.779801\n",
       "2      1.34157...</td>\n",
       "    </tr>\n",
       "    <tr>\n",
       "      <th>2</th>\n",
       "      <td>0      1.340723\n",
       "1      1.340723\n",
       "2      1.34072...</td>\n",
       "      <td>0     -0.778554\n",
       "1     -0.778554\n",
       "2      0.82151...</td>\n",
       "      <td>0     -0.107189\n",
       "1     -0.107189\n",
       "2      1.97062...</td>\n",
       "      <td>0     -0.903078\n",
       "1     -0.903078\n",
       "2     -0.10722...</td>\n",
       "      <td>0      1.674277\n",
       "1      1.674277\n",
       "2      1.67427...</td>\n",
       "    </tr>\n",
       "    <tr>\n",
       "      <th>3</th>\n",
       "      <td>0     -0.096793\n",
       "1      2.181560\n",
       "2      2.18156...</td>\n",
       "      <td>0     -2.251445\n",
       "1     -1.064296\n",
       "2     -1.06429...</td>\n",
       "      <td>0     -2.929532\n",
       "1     -1.344503\n",
       "2     -1.34450...</td>\n",
       "      <td>0     -1.384835\n",
       "1     -0.363793\n",
       "2     -0.36379...</td>\n",
       "      <td>0     -0.536459\n",
       "1     -0.019159\n",
       "2     -0.01915...</td>\n",
       "    </tr>\n",
       "    <tr>\n",
       "      <th>4</th>\n",
       "      <td>0      2.388865\n",
       "1      0.662745\n",
       "2      0.89289...</td>\n",
       "      <td>0      2.121160\n",
       "1      0.066993\n",
       "2     -0.34384...</td>\n",
       "      <td>0      4.232628\n",
       "1      1.257194\n",
       "2      0.28562...</td>\n",
       "      <td>0      2.745830\n",
       "1      0.347246\n",
       "2     -1.54340...</td>\n",
       "      <td>0      0.050201\n",
       "1     -1.523848\n",
       "2     -1.87363...</td>\n",
       "    </tr>\n",
       "    <tr>\n",
       "      <th>...</th>\n",
       "      <td>...</td>\n",
       "      <td>...</td>\n",
       "      <td>...</td>\n",
       "      <td>...</td>\n",
       "      <td>...</td>\n",
       "    </tr>\n",
       "    <tr>\n",
       "      <th>345</th>\n",
       "      <td>0      0.650005\n",
       "1      0.589643\n",
       "2     -0.43650...</td>\n",
       "      <td>0      0.608622\n",
       "1      1.589685\n",
       "2      1.41131...</td>\n",
       "      <td>0      3.279536\n",
       "1      3.279536\n",
       "2      1.58788...</td>\n",
       "      <td>0      0.691488\n",
       "1      0.691488\n",
       "2     -0.02521...</td>\n",
       "      <td>0     -0.462499\n",
       "1      0.541519\n",
       "2     -0.46249...</td>\n",
       "    </tr>\n",
       "    <tr>\n",
       "      <th>346</th>\n",
       "      <td>0      0.047154\n",
       "1      0.047154\n",
       "2      0.74614...</td>\n",
       "      <td>0     -0.057694\n",
       "1     -0.057694\n",
       "2     -0.05769...</td>\n",
       "      <td>0      0.213708\n",
       "1      0.213708\n",
       "2     -0.04931...</td>\n",
       "      <td>0     -0.447369\n",
       "1     -0.447369\n",
       "2     -0.13157...</td>\n",
       "      <td>0     -0.476827\n",
       "1     -0.476827\n",
       "2     -1.35618...</td>\n",
       "    </tr>\n",
       "    <tr>\n",
       "      <th>347</th>\n",
       "      <td>0     -0.843348\n",
       "1     -0.698360\n",
       "2     -0.37938...</td>\n",
       "      <td>0     -0.717568\n",
       "1     -0.668112\n",
       "2     -0.66811...</td>\n",
       "      <td>0     -0.930073\n",
       "1     -0.487014\n",
       "2     -0.55030...</td>\n",
       "      <td>0     -0.418345\n",
       "1     -0.586556\n",
       "2     -0.65384...</td>\n",
       "      <td>0     -2.073631\n",
       "1     -2.073631\n",
       "2     -2.07363...</td>\n",
       "    </tr>\n",
       "    <tr>\n",
       "      <th>348</th>\n",
       "      <td>0      2.245241\n",
       "1      0.922891\n",
       "2      1.58406...</td>\n",
       "      <td>0     -0.732514\n",
       "1     -1.682273\n",
       "2     -1.43603...</td>\n",
       "      <td>0     -1.124194\n",
       "1     -2.176147\n",
       "2     -1.29952...</td>\n",
       "      <td>0      0.192826\n",
       "1     -2.343582\n",
       "2     -2.14333...</td>\n",
       "      <td>0     -0.059245\n",
       "1     -0.059245\n",
       "2      0.18685...</td>\n",
       "    </tr>\n",
       "    <tr>\n",
       "      <th>349</th>\n",
       "      <td>0      0.571725\n",
       "1      0.571725\n",
       "2     -0.22564...</td>\n",
       "      <td>0     -0.799545\n",
       "1     -0.799545\n",
       "2     -2.49661...</td>\n",
       "      <td>0     -0.799549\n",
       "1     -0.799549\n",
       "2     -2.72855...</td>\n",
       "      <td>0      0.793528\n",
       "1      0.793528\n",
       "2     -1.45869...</td>\n",
       "      <td>0      0.944124\n",
       "1      0.944124\n",
       "2      0.77217...</td>\n",
       "    </tr>\n",
       "  </tbody>\n",
       "</table>\n",
       "<p>350 rows × 5 columns</p>\n",
       "</div>"
      ],
      "text/plain": [
       "                                                     1  \\\n",
       "0    0     -3.548802\n",
       "1     -3.367801\n",
       "2     -1.91978...   \n",
       "1    0     -0.145320\n",
       "1     -1.669930\n",
       "2     -1.04214...   \n",
       "2    0      1.340723\n",
       "1      1.340723\n",
       "2      1.34072...   \n",
       "3    0     -0.096793\n",
       "1      2.181560\n",
       "2      2.18156...   \n",
       "4    0      2.388865\n",
       "1      0.662745\n",
       "2      0.89289...   \n",
       "..                                                 ...   \n",
       "345  0      0.650005\n",
       "1      0.589643\n",
       "2     -0.43650...   \n",
       "346  0      0.047154\n",
       "1      0.047154\n",
       "2      0.74614...   \n",
       "347  0     -0.843348\n",
       "1     -0.698360\n",
       "2     -0.37938...   \n",
       "348  0      2.245241\n",
       "1      0.922891\n",
       "2      1.58406...   \n",
       "349  0      0.571725\n",
       "1      0.571725\n",
       "2     -0.22564...   \n",
       "\n",
       "                                                     2  \\\n",
       "0    0      0.430982\n",
       "1      1.494217\n",
       "2      2.55745...   \n",
       "1    0      4.946853\n",
       "1      2.070579\n",
       "2     -1.59013...   \n",
       "2    0     -0.778554\n",
       "1     -0.778554\n",
       "2      0.82151...   \n",
       "3    0     -2.251445\n",
       "1     -1.064296\n",
       "2     -1.06429...   \n",
       "4    0      2.121160\n",
       "1      0.066993\n",
       "2     -0.34384...   \n",
       "..                                                 ...   \n",
       "345  0      0.608622\n",
       "1      1.589685\n",
       "2      1.41131...   \n",
       "346  0     -0.057694\n",
       "1     -0.057694\n",
       "2     -0.05769...   \n",
       "347  0     -0.717568\n",
       "1     -0.668112\n",
       "2     -0.66811...   \n",
       "348  0     -0.732514\n",
       "1     -1.682273\n",
       "2     -1.43603...   \n",
       "349  0     -0.799545\n",
       "1     -0.799545\n",
       "2     -2.49661...   \n",
       "\n",
       "                                                     3  \\\n",
       "0    0      0.723290\n",
       "1      1.492478\n",
       "2      2.51806...   \n",
       "1    0      3.516481\n",
       "1      1.432323\n",
       "2     -2.04127...   \n",
       "2    0     -0.107189\n",
       "1     -0.107189\n",
       "2      1.97062...   \n",
       "3    0     -2.929532\n",
       "1     -1.344503\n",
       "2     -1.34450...   \n",
       "4    0      4.232628\n",
       "1      1.257194\n",
       "2      0.28562...   \n",
       "..                                                 ...   \n",
       "345  0      3.279536\n",
       "1      3.279536\n",
       "2      1.58788...   \n",
       "346  0      0.213708\n",
       "1      0.213708\n",
       "2     -0.04931...   \n",
       "347  0     -0.930073\n",
       "1     -0.487014\n",
       "2     -0.55030...   \n",
       "348  0     -1.124194\n",
       "1     -2.176147\n",
       "2     -1.29952...   \n",
       "349  0     -0.799549\n",
       "1     -0.799549\n",
       "2     -2.72855...   \n",
       "\n",
       "                                                     4  \\\n",
       "0    0     -1.542011\n",
       "1      0.217276\n",
       "2      0.26901...   \n",
       "1    0      4.273263\n",
       "1      2.643262\n",
       "2     -0.86370...   \n",
       "2    0     -0.903078\n",
       "1     -0.903078\n",
       "2     -0.10722...   \n",
       "3    0     -1.384835\n",
       "1     -0.363793\n",
       "2     -0.36379...   \n",
       "4    0      2.745830\n",
       "1      0.347246\n",
       "2     -1.54340...   \n",
       "..                                                 ...   \n",
       "345  0      0.691488\n",
       "1      0.691488\n",
       "2     -0.02521...   \n",
       "346  0     -0.447369\n",
       "1     -0.447369\n",
       "2     -0.13157...   \n",
       "347  0     -0.418345\n",
       "1     -0.586556\n",
       "2     -0.65384...   \n",
       "348  0      0.192826\n",
       "1     -2.343582\n",
       "2     -2.14333...   \n",
       "349  0      0.793528\n",
       "1      0.793528\n",
       "2     -1.45869...   \n",
       "\n",
       "                                                     5  \n",
       "0    0     -3.924038\n",
       "1     -4.123753\n",
       "2     -1.12802...  \n",
       "1    0     -2.476901\n",
       "1     -0.779801\n",
       "2      1.34157...  \n",
       "2    0      1.674277\n",
       "1      1.674277\n",
       "2      1.67427...  \n",
       "3    0     -0.536459\n",
       "1     -0.019159\n",
       "2     -0.01915...  \n",
       "4    0      0.050201\n",
       "1     -1.523848\n",
       "2     -1.87363...  \n",
       "..                                                 ...  \n",
       "345  0     -0.462499\n",
       "1      0.541519\n",
       "2     -0.46249...  \n",
       "346  0     -0.476827\n",
       "1     -0.476827\n",
       "2     -1.35618...  \n",
       "347  0     -2.073631\n",
       "1     -2.073631\n",
       "2     -2.07363...  \n",
       "348  0     -0.059245\n",
       "1     -0.059245\n",
       "2      0.18685...  \n",
       "349  0      0.944124\n",
       "1      0.944124\n",
       "2      0.77217...  \n",
       "\n",
       "[350 rows x 5 columns]"
      ]
     },
     "metadata": {},
     "output_type": "display_data"
    },
    {
     "data": {
      "text/plain": [
       "'Completed'"
      ]
     },
     "metadata": {},
     "output_type": "display_data"
    },
    {
     "data": {
      "text/plain": [
       "1"
      ]
     },
     "metadata": {},
     "output_type": "display_data"
    },
    {
     "data": {
      "text/plain": [
       "'Completed'"
      ]
     },
     "metadata": {},
     "output_type": "display_data"
    },
    {
     "data": {
      "text/plain": [
       "2"
      ]
     },
     "metadata": {},
     "output_type": "display_data"
    },
    {
     "data": {
      "text/plain": [
       "'Completed'"
      ]
     },
     "metadata": {},
     "output_type": "display_data"
    },
    {
     "data": {
      "text/plain": [
       "3"
      ]
     },
     "metadata": {},
     "output_type": "display_data"
    },
    {
     "data": {
      "text/plain": [
       "'Completed'"
      ]
     },
     "metadata": {},
     "output_type": "display_data"
    },
    {
     "data": {
      "text/plain": [
       "4"
      ]
     },
     "metadata": {},
     "output_type": "display_data"
    },
    {
     "data": {
      "text/plain": [
       "'Completed'"
      ]
     },
     "metadata": {},
     "output_type": "display_data"
    },
    {
     "data": {
      "text/plain": [
       "5"
      ]
     },
     "metadata": {},
     "output_type": "display_data"
    },
    {
     "data": {
      "text/plain": [
       "'Completed'"
      ]
     },
     "metadata": {},
     "output_type": "display_data"
    },
    {
     "data": {
      "text/plain": [
       "6"
      ]
     },
     "metadata": {},
     "output_type": "display_data"
    },
    {
     "data": {
      "text/plain": [
       "'Completed'"
      ]
     },
     "metadata": {},
     "output_type": "display_data"
    },
    {
     "data": {
      "text/plain": [
       "7"
      ]
     },
     "metadata": {},
     "output_type": "display_data"
    },
    {
     "data": {
      "text/plain": [
       "'Completed'"
      ]
     },
     "metadata": {},
     "output_type": "display_data"
    },
    {
     "data": {
      "text/plain": [
       "8"
      ]
     },
     "metadata": {},
     "output_type": "display_data"
    },
    {
     "data": {
      "text/plain": [
       "'Completed'"
      ]
     },
     "metadata": {},
     "output_type": "display_data"
    },
    {
     "data": {
      "text/plain": [
       "9"
      ]
     },
     "metadata": {},
     "output_type": "display_data"
    },
    {
     "data": {
      "text/plain": [
       "'Completed'"
      ]
     },
     "metadata": {},
     "output_type": "display_data"
    },
    {
     "data": {
      "text/plain": [
       "10"
      ]
     },
     "metadata": {},
     "output_type": "display_data"
    },
    {
     "data": {
      "text/plain": [
       "'Completed'"
      ]
     },
     "metadata": {},
     "output_type": "display_data"
    },
    {
     "data": {
      "text/plain": [
       "11"
      ]
     },
     "metadata": {},
     "output_type": "display_data"
    },
    {
     "data": {
      "text/plain": [
       "'Completed'"
      ]
     },
     "metadata": {},
     "output_type": "display_data"
    },
    {
     "data": {
      "text/plain": [
       "12"
      ]
     },
     "metadata": {},
     "output_type": "display_data"
    },
    {
     "data": {
      "text/plain": [
       "'Completed'"
      ]
     },
     "metadata": {},
     "output_type": "display_data"
    },
    {
     "data": {
      "text/plain": [
       "13"
      ]
     },
     "metadata": {},
     "output_type": "display_data"
    },
    {
     "data": {
      "text/plain": [
       "'Completed'"
      ]
     },
     "metadata": {},
     "output_type": "display_data"
    },
    {
     "data": {
      "text/plain": [
       "14"
      ]
     },
     "metadata": {},
     "output_type": "display_data"
    },
    {
     "data": {
      "text/plain": [
       "'Completed'"
      ]
     },
     "metadata": {},
     "output_type": "display_data"
    },
    {
     "data": {
      "text/plain": [
       "15"
      ]
     },
     "metadata": {},
     "output_type": "display_data"
    },
    {
     "data": {
      "text/plain": [
       "'Completed'"
      ]
     },
     "metadata": {},
     "output_type": "display_data"
    },
    {
     "data": {
      "text/plain": [
       "16"
      ]
     },
     "metadata": {},
     "output_type": "display_data"
    },
    {
     "data": {
      "text/plain": [
       "'Completed'"
      ]
     },
     "metadata": {},
     "output_type": "display_data"
    },
    {
     "data": {
      "text/plain": [
       "17"
      ]
     },
     "metadata": {},
     "output_type": "display_data"
    },
    {
     "data": {
      "text/plain": [
       "'Completed'"
      ]
     },
     "metadata": {},
     "output_type": "display_data"
    },
    {
     "data": {
      "text/plain": [
       "18"
      ]
     },
     "metadata": {},
     "output_type": "display_data"
    },
    {
     "data": {
      "text/plain": [
       "'Completed'"
      ]
     },
     "metadata": {},
     "output_type": "display_data"
    },
    {
     "data": {
      "text/plain": [
       "19"
      ]
     },
     "metadata": {},
     "output_type": "display_data"
    },
    {
     "data": {
      "text/plain": [
       "'Completed'"
      ]
     },
     "metadata": {},
     "output_type": "display_data"
    },
    {
     "data": {
      "text/plain": [
       "20"
      ]
     },
     "metadata": {},
     "output_type": "display_data"
    },
    {
     "data": {
      "text/plain": [
       "'Completed'"
      ]
     },
     "metadata": {},
     "output_type": "display_data"
    },
    {
     "data": {
      "text/plain": [
       "21"
      ]
     },
     "metadata": {},
     "output_type": "display_data"
    },
    {
     "data": {
      "text/plain": [
       "'Completed'"
      ]
     },
     "metadata": {},
     "output_type": "display_data"
    },
    {
     "data": {
      "text/plain": [
       "22"
      ]
     },
     "metadata": {},
     "output_type": "display_data"
    },
    {
     "data": {
      "text/plain": [
       "'Completed'"
      ]
     },
     "metadata": {},
     "output_type": "display_data"
    },
    {
     "data": {
      "text/plain": [
       "23"
      ]
     },
     "metadata": {},
     "output_type": "display_data"
    },
    {
     "data": {
      "text/plain": [
       "'Completed'"
      ]
     },
     "metadata": {},
     "output_type": "display_data"
    },
    {
     "data": {
      "text/plain": [
       "24"
      ]
     },
     "metadata": {},
     "output_type": "display_data"
    },
    {
     "data": {
      "text/plain": [
       "'Completed'"
      ]
     },
     "metadata": {},
     "output_type": "display_data"
    },
    {
     "data": {
      "text/plain": [
       "25"
      ]
     },
     "metadata": {},
     "output_type": "display_data"
    },
    {
     "data": {
      "text/plain": [
       "'Completed'"
      ]
     },
     "metadata": {},
     "output_type": "display_data"
    },
    {
     "data": {
      "text/plain": [
       "26"
      ]
     },
     "metadata": {},
     "output_type": "display_data"
    },
    {
     "data": {
      "text/plain": [
       "'Completed'"
      ]
     },
     "metadata": {},
     "output_type": "display_data"
    },
    {
     "data": {
      "text/plain": [
       "27"
      ]
     },
     "metadata": {},
     "output_type": "display_data"
    },
    {
     "data": {
      "text/plain": [
       "'Completed'"
      ]
     },
     "metadata": {},
     "output_type": "display_data"
    },
    {
     "data": {
      "text/plain": [
       "28"
      ]
     },
     "metadata": {},
     "output_type": "display_data"
    },
    {
     "data": {
      "text/plain": [
       "'Completed'"
      ]
     },
     "metadata": {},
     "output_type": "display_data"
    },
    {
     "data": {
      "text/plain": [
       "29"
      ]
     },
     "metadata": {},
     "output_type": "display_data"
    },
    {
     "data": {
      "text/plain": [
       "'Completed'"
      ]
     },
     "metadata": {},
     "output_type": "display_data"
    },
    {
     "data": {
      "text/plain": [
       "30"
      ]
     },
     "metadata": {},
     "output_type": "display_data"
    },
    {
     "data": {
      "text/plain": [
       "'Current key in progress'"
      ]
     },
     "metadata": {},
     "output_type": "display_data"
    },
    {
     "data": {
      "text/plain": [
       "'sample_numbers_list_1.1_to_1.2'"
      ]
     },
     "metadata": {},
     "output_type": "display_data"
    },
    {
     "data": {
      "text/plain": [
       "364"
      ]
     },
     "metadata": {},
     "output_type": "display_data"
    },
    {
     "data": {
      "text/html": [
       "<div>\n",
       "<style scoped>\n",
       "    .dataframe tbody tr th:only-of-type {\n",
       "        vertical-align: middle;\n",
       "    }\n",
       "\n",
       "    .dataframe tbody tr th {\n",
       "        vertical-align: top;\n",
       "    }\n",
       "\n",
       "    .dataframe thead th {\n",
       "        text-align: right;\n",
       "    }\n",
       "</style>\n",
       "<table border=\"1\" class=\"dataframe\">\n",
       "  <thead>\n",
       "    <tr style=\"text-align: right;\">\n",
       "      <th></th>\n",
       "      <th>Subject</th>\n",
       "      <th>HR</th>\n",
       "      <th>MAP</th>\n",
       "      <th>DBP</th>\n",
       "      <th>SBP</th>\n",
       "      <th>Resp</th>\n",
       "    </tr>\n",
       "  </thead>\n",
       "  <tbody>\n",
       "    <tr>\n",
       "      <th>0</th>\n",
       "      <td>3</td>\n",
       "      <td>89.0</td>\n",
       "      <td>67.0</td>\n",
       "      <td>50.0</td>\n",
       "      <td>97.0</td>\n",
       "      <td>12.0</td>\n",
       "    </tr>\n",
       "    <tr>\n",
       "      <th>1</th>\n",
       "      <td>3</td>\n",
       "      <td>90.0</td>\n",
       "      <td>71.5</td>\n",
       "      <td>54.5</td>\n",
       "      <td>114.0</td>\n",
       "      <td>11.5</td>\n",
       "    </tr>\n",
       "    <tr>\n",
       "      <th>2</th>\n",
       "      <td>3</td>\n",
       "      <td>98.0</td>\n",
       "      <td>76.0</td>\n",
       "      <td>60.5</td>\n",
       "      <td>114.5</td>\n",
       "      <td>19.0</td>\n",
       "    </tr>\n",
       "    <tr>\n",
       "      <th>3</th>\n",
       "      <td>3</td>\n",
       "      <td>108.0</td>\n",
       "      <td>72.0</td>\n",
       "      <td>59.5</td>\n",
       "      <td>102.5</td>\n",
       "      <td>19.0</td>\n",
       "    </tr>\n",
       "    <tr>\n",
       "      <th>4</th>\n",
       "      <td>3</td>\n",
       "      <td>111.0</td>\n",
       "      <td>72.0</td>\n",
       "      <td>61.0</td>\n",
       "      <td>100.0</td>\n",
       "      <td>18.0</td>\n",
       "    </tr>\n",
       "    <tr>\n",
       "      <th>...</th>\n",
       "      <td>...</td>\n",
       "      <td>...</td>\n",
       "      <td>...</td>\n",
       "      <td>...</td>\n",
       "      <td>...</td>\n",
       "      <td>...</td>\n",
       "    </tr>\n",
       "    <tr>\n",
       "      <th>52</th>\n",
       "      <td>506</td>\n",
       "      <td>104.0</td>\n",
       "      <td>89.0</td>\n",
       "      <td>69.0</td>\n",
       "      <td>136.0</td>\n",
       "      <td>28.0</td>\n",
       "    </tr>\n",
       "    <tr>\n",
       "      <th>53</th>\n",
       "      <td>506</td>\n",
       "      <td>100.0</td>\n",
       "      <td>83.0</td>\n",
       "      <td>65.0</td>\n",
       "      <td>121.0</td>\n",
       "      <td>19.0</td>\n",
       "    </tr>\n",
       "    <tr>\n",
       "      <th>54</th>\n",
       "      <td>506</td>\n",
       "      <td>91.0</td>\n",
       "      <td>74.0</td>\n",
       "      <td>59.0</td>\n",
       "      <td>102.0</td>\n",
       "      <td>14.0</td>\n",
       "    </tr>\n",
       "    <tr>\n",
       "      <th>55</th>\n",
       "      <td>506</td>\n",
       "      <td>90.0</td>\n",
       "      <td>66.0</td>\n",
       "      <td>61.0</td>\n",
       "      <td>101.0</td>\n",
       "      <td>16.0</td>\n",
       "    </tr>\n",
       "    <tr>\n",
       "      <th>56</th>\n",
       "      <td>506</td>\n",
       "      <td>90.0</td>\n",
       "      <td>72.0</td>\n",
       "      <td>56.0</td>\n",
       "      <td>101.0</td>\n",
       "      <td>20.0</td>\n",
       "    </tr>\n",
       "  </tbody>\n",
       "</table>\n",
       "<p>9354 rows × 6 columns</p>\n",
       "</div>"
      ],
      "text/plain": [
       "    Subject     HR   MAP   DBP    SBP  Resp\n",
       "0         3   89.0  67.0  50.0   97.0  12.0\n",
       "1         3   90.0  71.5  54.5  114.0  11.5\n",
       "2         3   98.0  76.0  60.5  114.5  19.0\n",
       "3         3  108.0  72.0  59.5  102.5  19.0\n",
       "4         3  111.0  72.0  61.0  100.0  18.0\n",
       "..      ...    ...   ...   ...    ...   ...\n",
       "52      506  104.0  89.0  69.0  136.0  28.0\n",
       "53      506  100.0  83.0  65.0  121.0  19.0\n",
       "54      506   91.0  74.0  59.0  102.0  14.0\n",
       "55      506   90.0  66.0  61.0  101.0  16.0\n",
       "56      506   90.0  72.0  56.0  101.0  20.0\n",
       "\n",
       "[9354 rows x 6 columns]"
      ]
     },
     "metadata": {},
     "output_type": "display_data"
    },
    {
     "data": {
      "text/plain": [
       "'Avg length:'"
      ]
     },
     "metadata": {},
     "output_type": "display_data"
    },
    {
     "data": {
      "text/plain": [
       "108.59428571428572"
      ]
     },
     "metadata": {},
     "output_type": "display_data"
    },
    {
     "data": {
      "text/plain": [
       "6"
      ]
     },
     "metadata": {},
     "output_type": "display_data"
    },
    {
     "data": {
      "text/plain": [
       "'X_1:'"
      ]
     },
     "metadata": {},
     "output_type": "display_data"
    },
    {
     "data": {
      "text/html": [
       "<div>\n",
       "<style scoped>\n",
       "    .dataframe tbody tr th:only-of-type {\n",
       "        vertical-align: middle;\n",
       "    }\n",
       "\n",
       "    .dataframe tbody tr th {\n",
       "        vertical-align: top;\n",
       "    }\n",
       "\n",
       "    .dataframe thead th {\n",
       "        text-align: right;\n",
       "    }\n",
       "</style>\n",
       "<table border=\"1\" class=\"dataframe\">\n",
       "  <thead>\n",
       "    <tr style=\"text-align: right;\">\n",
       "      <th></th>\n",
       "      <th>1</th>\n",
       "      <th>2</th>\n",
       "      <th>3</th>\n",
       "      <th>4</th>\n",
       "      <th>5</th>\n",
       "    </tr>\n",
       "  </thead>\n",
       "  <tbody>\n",
       "    <tr>\n",
       "      <th>0</th>\n",
       "      <td>0     -3.548802\n",
       "1     -3.367801\n",
       "2     -1.91978...</td>\n",
       "      <td>0      0.430982\n",
       "1      1.494217\n",
       "2      2.55745...</td>\n",
       "      <td>0      0.723290\n",
       "1      1.492478\n",
       "2      2.51806...</td>\n",
       "      <td>0     -1.542011\n",
       "1      0.217276\n",
       "2      0.26901...</td>\n",
       "      <td>0     -3.924038\n",
       "1     -4.123753\n",
       "2     -1.12802...</td>\n",
       "    </tr>\n",
       "    <tr>\n",
       "      <th>1</th>\n",
       "      <td>0     -0.145320\n",
       "1     -1.669930\n",
       "2     -1.04214...</td>\n",
       "      <td>0      4.946853\n",
       "1      2.070579\n",
       "2     -1.59013...</td>\n",
       "      <td>0      3.516481\n",
       "1      1.432323\n",
       "2     -2.04127...</td>\n",
       "      <td>0      4.273263\n",
       "1      2.643262\n",
       "2     -0.86370...</td>\n",
       "      <td>0     -2.476901\n",
       "1     -0.779801\n",
       "2      1.34157...</td>\n",
       "    </tr>\n",
       "    <tr>\n",
       "      <th>2</th>\n",
       "      <td>0     -0.096793\n",
       "1      2.181560\n",
       "2      2.18156...</td>\n",
       "      <td>0     -2.251445\n",
       "1     -1.064296\n",
       "2     -1.06429...</td>\n",
       "      <td>0     -2.929532\n",
       "1     -1.344503\n",
       "2     -1.34450...</td>\n",
       "      <td>0     -1.384835\n",
       "1     -0.363793\n",
       "2     -0.36379...</td>\n",
       "      <td>0     -0.536459\n",
       "1     -0.019159\n",
       "2     -0.01915...</td>\n",
       "    </tr>\n",
       "    <tr>\n",
       "      <th>3</th>\n",
       "      <td>0     -0.748380\n",
       "1     -0.748380\n",
       "2     -1.25784...</td>\n",
       "      <td>0     -1.904063\n",
       "1     -1.904063\n",
       "2      0.13196...</td>\n",
       "      <td>0     -1.310589\n",
       "1     -1.310589\n",
       "2      0.13027...</td>\n",
       "      <td>0     -1.252654\n",
       "1     -1.252654\n",
       "2      0.98884...</td>\n",
       "      <td>0      0.638863\n",
       "1      0.638863\n",
       "2     -0.40025...</td>\n",
       "    </tr>\n",
       "    <tr>\n",
       "      <th>4</th>\n",
       "      <td>0     -1.129663\n",
       "1     -1.129663\n",
       "2     -1.50219...</td>\n",
       "      <td>0     -2.085958\n",
       "1     -2.085958\n",
       "2     -2.48453...</td>\n",
       "      <td>0     -2.047608\n",
       "1     -2.047608\n",
       "2     -2.53958...</td>\n",
       "      <td>0     -0.139525\n",
       "1     -0.139525\n",
       "2     -0.42746...</td>\n",
       "      <td>0     -2.240410\n",
       "1     -2.240410\n",
       "2     -0.95165...</td>\n",
       "    </tr>\n",
       "    <tr>\n",
       "      <th>...</th>\n",
       "      <td>...</td>\n",
       "      <td>...</td>\n",
       "      <td>...</td>\n",
       "      <td>...</td>\n",
       "      <td>...</td>\n",
       "    </tr>\n",
       "    <tr>\n",
       "      <th>345</th>\n",
       "      <td>0      0.650005\n",
       "1      0.589643\n",
       "2     -0.43650...</td>\n",
       "      <td>0      0.608622\n",
       "1      1.589685\n",
       "2      1.41131...</td>\n",
       "      <td>0      3.279536\n",
       "1      3.279536\n",
       "2      1.58788...</td>\n",
       "      <td>0      0.691488\n",
       "1      0.691488\n",
       "2     -0.02521...</td>\n",
       "      <td>0     -0.462499\n",
       "1      0.541519\n",
       "2     -0.46249...</td>\n",
       "    </tr>\n",
       "    <tr>\n",
       "      <th>346</th>\n",
       "      <td>0      0.047154\n",
       "1      0.047154\n",
       "2      0.74614...</td>\n",
       "      <td>0     -0.057694\n",
       "1     -0.057694\n",
       "2     -0.05769...</td>\n",
       "      <td>0      0.213708\n",
       "1      0.213708\n",
       "2     -0.04931...</td>\n",
       "      <td>0     -0.447369\n",
       "1     -0.447369\n",
       "2     -0.13157...</td>\n",
       "      <td>0     -0.476827\n",
       "1     -0.476827\n",
       "2     -1.35618...</td>\n",
       "    </tr>\n",
       "    <tr>\n",
       "      <th>347</th>\n",
       "      <td>0     -0.843348\n",
       "1     -0.698360\n",
       "2     -0.37938...</td>\n",
       "      <td>0     -0.717568\n",
       "1     -0.668112\n",
       "2     -0.66811...</td>\n",
       "      <td>0     -0.930073\n",
       "1     -0.487014\n",
       "2     -0.55030...</td>\n",
       "      <td>0     -0.418345\n",
       "1     -0.586556\n",
       "2     -0.65384...</td>\n",
       "      <td>0     -2.073631\n",
       "1     -2.073631\n",
       "2     -2.07363...</td>\n",
       "    </tr>\n",
       "    <tr>\n",
       "      <th>348</th>\n",
       "      <td>0      2.245241\n",
       "1      0.922891\n",
       "2      1.58406...</td>\n",
       "      <td>0     -0.732514\n",
       "1     -1.682273\n",
       "2     -1.43603...</td>\n",
       "      <td>0     -1.124194\n",
       "1     -2.176147\n",
       "2     -1.29952...</td>\n",
       "      <td>0      0.192826\n",
       "1     -2.343582\n",
       "2     -2.14333...</td>\n",
       "      <td>0     -0.059245\n",
       "1     -0.059245\n",
       "2      0.18685...</td>\n",
       "    </tr>\n",
       "    <tr>\n",
       "      <th>349</th>\n",
       "      <td>0      0.571725\n",
       "1      0.571725\n",
       "2     -0.22564...</td>\n",
       "      <td>0     -0.799545\n",
       "1     -0.799545\n",
       "2     -2.49661...</td>\n",
       "      <td>0     -0.799549\n",
       "1     -0.799549\n",
       "2     -2.72855...</td>\n",
       "      <td>0      0.793528\n",
       "1      0.793528\n",
       "2     -1.45869...</td>\n",
       "      <td>0      0.944124\n",
       "1      0.944124\n",
       "2      0.77217...</td>\n",
       "    </tr>\n",
       "  </tbody>\n",
       "</table>\n",
       "<p>350 rows × 5 columns</p>\n",
       "</div>"
      ],
      "text/plain": [
       "                                                     1  \\\n",
       "0    0     -3.548802\n",
       "1     -3.367801\n",
       "2     -1.91978...   \n",
       "1    0     -0.145320\n",
       "1     -1.669930\n",
       "2     -1.04214...   \n",
       "2    0     -0.096793\n",
       "1      2.181560\n",
       "2      2.18156...   \n",
       "3    0     -0.748380\n",
       "1     -0.748380\n",
       "2     -1.25784...   \n",
       "4    0     -1.129663\n",
       "1     -1.129663\n",
       "2     -1.50219...   \n",
       "..                                                 ...   \n",
       "345  0      0.650005\n",
       "1      0.589643\n",
       "2     -0.43650...   \n",
       "346  0      0.047154\n",
       "1      0.047154\n",
       "2      0.74614...   \n",
       "347  0     -0.843348\n",
       "1     -0.698360\n",
       "2     -0.37938...   \n",
       "348  0      2.245241\n",
       "1      0.922891\n",
       "2      1.58406...   \n",
       "349  0      0.571725\n",
       "1      0.571725\n",
       "2     -0.22564...   \n",
       "\n",
       "                                                     2  \\\n",
       "0    0      0.430982\n",
       "1      1.494217\n",
       "2      2.55745...   \n",
       "1    0      4.946853\n",
       "1      2.070579\n",
       "2     -1.59013...   \n",
       "2    0     -2.251445\n",
       "1     -1.064296\n",
       "2     -1.06429...   \n",
       "3    0     -1.904063\n",
       "1     -1.904063\n",
       "2      0.13196...   \n",
       "4    0     -2.085958\n",
       "1     -2.085958\n",
       "2     -2.48453...   \n",
       "..                                                 ...   \n",
       "345  0      0.608622\n",
       "1      1.589685\n",
       "2      1.41131...   \n",
       "346  0     -0.057694\n",
       "1     -0.057694\n",
       "2     -0.05769...   \n",
       "347  0     -0.717568\n",
       "1     -0.668112\n",
       "2     -0.66811...   \n",
       "348  0     -0.732514\n",
       "1     -1.682273\n",
       "2     -1.43603...   \n",
       "349  0     -0.799545\n",
       "1     -0.799545\n",
       "2     -2.49661...   \n",
       "\n",
       "                                                     3  \\\n",
       "0    0      0.723290\n",
       "1      1.492478\n",
       "2      2.51806...   \n",
       "1    0      3.516481\n",
       "1      1.432323\n",
       "2     -2.04127...   \n",
       "2    0     -2.929532\n",
       "1     -1.344503\n",
       "2     -1.34450...   \n",
       "3    0     -1.310589\n",
       "1     -1.310589\n",
       "2      0.13027...   \n",
       "4    0     -2.047608\n",
       "1     -2.047608\n",
       "2     -2.53958...   \n",
       "..                                                 ...   \n",
       "345  0      3.279536\n",
       "1      3.279536\n",
       "2      1.58788...   \n",
       "346  0      0.213708\n",
       "1      0.213708\n",
       "2     -0.04931...   \n",
       "347  0     -0.930073\n",
       "1     -0.487014\n",
       "2     -0.55030...   \n",
       "348  0     -1.124194\n",
       "1     -2.176147\n",
       "2     -1.29952...   \n",
       "349  0     -0.799549\n",
       "1     -0.799549\n",
       "2     -2.72855...   \n",
       "\n",
       "                                                     4  \\\n",
       "0    0     -1.542011\n",
       "1      0.217276\n",
       "2      0.26901...   \n",
       "1    0      4.273263\n",
       "1      2.643262\n",
       "2     -0.86370...   \n",
       "2    0     -1.384835\n",
       "1     -0.363793\n",
       "2     -0.36379...   \n",
       "3    0     -1.252654\n",
       "1     -1.252654\n",
       "2      0.98884...   \n",
       "4    0     -0.139525\n",
       "1     -0.139525\n",
       "2     -0.42746...   \n",
       "..                                                 ...   \n",
       "345  0      0.691488\n",
       "1      0.691488\n",
       "2     -0.02521...   \n",
       "346  0     -0.447369\n",
       "1     -0.447369\n",
       "2     -0.13157...   \n",
       "347  0     -0.418345\n",
       "1     -0.586556\n",
       "2     -0.65384...   \n",
       "348  0      0.192826\n",
       "1     -2.343582\n",
       "2     -2.14333...   \n",
       "349  0      0.793528\n",
       "1      0.793528\n",
       "2     -1.45869...   \n",
       "\n",
       "                                                     5  \n",
       "0    0     -3.924038\n",
       "1     -4.123753\n",
       "2     -1.12802...  \n",
       "1    0     -2.476901\n",
       "1     -0.779801\n",
       "2      1.34157...  \n",
       "2    0     -0.536459\n",
       "1     -0.019159\n",
       "2     -0.01915...  \n",
       "3    0      0.638863\n",
       "1      0.638863\n",
       "2     -0.40025...  \n",
       "4    0     -2.240410\n",
       "1     -2.240410\n",
       "2     -0.95165...  \n",
       "..                                                 ...  \n",
       "345  0     -0.462499\n",
       "1      0.541519\n",
       "2     -0.46249...  \n",
       "346  0     -0.476827\n",
       "1     -0.476827\n",
       "2     -1.35618...  \n",
       "347  0     -2.073631\n",
       "1     -2.073631\n",
       "2     -2.07363...  \n",
       "348  0     -0.059245\n",
       "1     -0.059245\n",
       "2      0.18685...  \n",
       "349  0      0.944124\n",
       "1      0.944124\n",
       "2      0.77217...  \n",
       "\n",
       "[350 rows x 5 columns]"
      ]
     },
     "metadata": {},
     "output_type": "display_data"
    },
    {
     "data": {
      "text/plain": [
       "'Completed'"
      ]
     },
     "metadata": {},
     "output_type": "display_data"
    },
    {
     "data": {
      "text/plain": [
       "1"
      ]
     },
     "metadata": {},
     "output_type": "display_data"
    },
    {
     "data": {
      "text/plain": [
       "'Completed'"
      ]
     },
     "metadata": {},
     "output_type": "display_data"
    },
    {
     "data": {
      "text/plain": [
       "2"
      ]
     },
     "metadata": {},
     "output_type": "display_data"
    },
    {
     "data": {
      "text/plain": [
       "'Completed'"
      ]
     },
     "metadata": {},
     "output_type": "display_data"
    },
    {
     "data": {
      "text/plain": [
       "3"
      ]
     },
     "metadata": {},
     "output_type": "display_data"
    },
    {
     "data": {
      "text/plain": [
       "'Completed'"
      ]
     },
     "metadata": {},
     "output_type": "display_data"
    },
    {
     "data": {
      "text/plain": [
       "4"
      ]
     },
     "metadata": {},
     "output_type": "display_data"
    },
    {
     "data": {
      "text/plain": [
       "'Completed'"
      ]
     },
     "metadata": {},
     "output_type": "display_data"
    },
    {
     "data": {
      "text/plain": [
       "5"
      ]
     },
     "metadata": {},
     "output_type": "display_data"
    },
    {
     "data": {
      "text/plain": [
       "'Completed'"
      ]
     },
     "metadata": {},
     "output_type": "display_data"
    },
    {
     "data": {
      "text/plain": [
       "6"
      ]
     },
     "metadata": {},
     "output_type": "display_data"
    },
    {
     "data": {
      "text/plain": [
       "'Completed'"
      ]
     },
     "metadata": {},
     "output_type": "display_data"
    },
    {
     "data": {
      "text/plain": [
       "7"
      ]
     },
     "metadata": {},
     "output_type": "display_data"
    },
    {
     "data": {
      "text/plain": [
       "'Completed'"
      ]
     },
     "metadata": {},
     "output_type": "display_data"
    },
    {
     "data": {
      "text/plain": [
       "8"
      ]
     },
     "metadata": {},
     "output_type": "display_data"
    },
    {
     "data": {
      "text/plain": [
       "'Completed'"
      ]
     },
     "metadata": {},
     "output_type": "display_data"
    },
    {
     "data": {
      "text/plain": [
       "9"
      ]
     },
     "metadata": {},
     "output_type": "display_data"
    },
    {
     "data": {
      "text/plain": [
       "'Completed'"
      ]
     },
     "metadata": {},
     "output_type": "display_data"
    },
    {
     "data": {
      "text/plain": [
       "10"
      ]
     },
     "metadata": {},
     "output_type": "display_data"
    },
    {
     "data": {
      "text/plain": [
       "'Completed'"
      ]
     },
     "metadata": {},
     "output_type": "display_data"
    },
    {
     "data": {
      "text/plain": [
       "11"
      ]
     },
     "metadata": {},
     "output_type": "display_data"
    },
    {
     "data": {
      "text/plain": [
       "'Completed'"
      ]
     },
     "metadata": {},
     "output_type": "display_data"
    },
    {
     "data": {
      "text/plain": [
       "12"
      ]
     },
     "metadata": {},
     "output_type": "display_data"
    },
    {
     "data": {
      "text/plain": [
       "'Completed'"
      ]
     },
     "metadata": {},
     "output_type": "display_data"
    },
    {
     "data": {
      "text/plain": [
       "13"
      ]
     },
     "metadata": {},
     "output_type": "display_data"
    },
    {
     "data": {
      "text/plain": [
       "'Completed'"
      ]
     },
     "metadata": {},
     "output_type": "display_data"
    },
    {
     "data": {
      "text/plain": [
       "14"
      ]
     },
     "metadata": {},
     "output_type": "display_data"
    },
    {
     "data": {
      "text/plain": [
       "'Completed'"
      ]
     },
     "metadata": {},
     "output_type": "display_data"
    },
    {
     "data": {
      "text/plain": [
       "15"
      ]
     },
     "metadata": {},
     "output_type": "display_data"
    },
    {
     "data": {
      "text/plain": [
       "'Completed'"
      ]
     },
     "metadata": {},
     "output_type": "display_data"
    },
    {
     "data": {
      "text/plain": [
       "16"
      ]
     },
     "metadata": {},
     "output_type": "display_data"
    },
    {
     "data": {
      "text/plain": [
       "'Completed'"
      ]
     },
     "metadata": {},
     "output_type": "display_data"
    },
    {
     "data": {
      "text/plain": [
       "17"
      ]
     },
     "metadata": {},
     "output_type": "display_data"
    },
    {
     "data": {
      "text/plain": [
       "'Completed'"
      ]
     },
     "metadata": {},
     "output_type": "display_data"
    },
    {
     "data": {
      "text/plain": [
       "18"
      ]
     },
     "metadata": {},
     "output_type": "display_data"
    },
    {
     "data": {
      "text/plain": [
       "'Completed'"
      ]
     },
     "metadata": {},
     "output_type": "display_data"
    },
    {
     "data": {
      "text/plain": [
       "19"
      ]
     },
     "metadata": {},
     "output_type": "display_data"
    },
    {
     "data": {
      "text/plain": [
       "'Completed'"
      ]
     },
     "metadata": {},
     "output_type": "display_data"
    },
    {
     "data": {
      "text/plain": [
       "20"
      ]
     },
     "metadata": {},
     "output_type": "display_data"
    },
    {
     "data": {
      "text/plain": [
       "'Completed'"
      ]
     },
     "metadata": {},
     "output_type": "display_data"
    },
    {
     "data": {
      "text/plain": [
       "21"
      ]
     },
     "metadata": {},
     "output_type": "display_data"
    },
    {
     "data": {
      "text/plain": [
       "'Completed'"
      ]
     },
     "metadata": {},
     "output_type": "display_data"
    },
    {
     "data": {
      "text/plain": [
       "22"
      ]
     },
     "metadata": {},
     "output_type": "display_data"
    },
    {
     "data": {
      "text/plain": [
       "'Completed'"
      ]
     },
     "metadata": {},
     "output_type": "display_data"
    },
    {
     "data": {
      "text/plain": [
       "23"
      ]
     },
     "metadata": {},
     "output_type": "display_data"
    },
    {
     "data": {
      "text/plain": [
       "'Completed'"
      ]
     },
     "metadata": {},
     "output_type": "display_data"
    },
    {
     "data": {
      "text/plain": [
       "24"
      ]
     },
     "metadata": {},
     "output_type": "display_data"
    },
    {
     "data": {
      "text/plain": [
       "'Completed'"
      ]
     },
     "metadata": {},
     "output_type": "display_data"
    },
    {
     "data": {
      "text/plain": [
       "25"
      ]
     },
     "metadata": {},
     "output_type": "display_data"
    },
    {
     "data": {
      "text/plain": [
       "'Completed'"
      ]
     },
     "metadata": {},
     "output_type": "display_data"
    },
    {
     "data": {
      "text/plain": [
       "26"
      ]
     },
     "metadata": {},
     "output_type": "display_data"
    },
    {
     "data": {
      "text/plain": [
       "'Completed'"
      ]
     },
     "metadata": {},
     "output_type": "display_data"
    },
    {
     "data": {
      "text/plain": [
       "27"
      ]
     },
     "metadata": {},
     "output_type": "display_data"
    },
    {
     "data": {
      "text/plain": [
       "'Completed'"
      ]
     },
     "metadata": {},
     "output_type": "display_data"
    },
    {
     "data": {
      "text/plain": [
       "28"
      ]
     },
     "metadata": {},
     "output_type": "display_data"
    },
    {
     "data": {
      "text/plain": [
       "'Completed'"
      ]
     },
     "metadata": {},
     "output_type": "display_data"
    },
    {
     "data": {
      "text/plain": [
       "29"
      ]
     },
     "metadata": {},
     "output_type": "display_data"
    },
    {
     "data": {
      "text/plain": [
       "'Completed'"
      ]
     },
     "metadata": {},
     "output_type": "display_data"
    },
    {
     "data": {
      "text/plain": [
       "30"
      ]
     },
     "metadata": {},
     "output_type": "display_data"
    },
    {
     "data": {
      "text/plain": [
       "'Current key in progress'"
      ]
     },
     "metadata": {},
     "output_type": "display_data"
    },
    {
     "data": {
      "text/plain": [
       "'sample_numbers_list_1.2_to_1.3'"
      ]
     },
     "metadata": {},
     "output_type": "display_data"
    },
    {
     "data": {
      "text/plain": [
       "381"
      ]
     },
     "metadata": {},
     "output_type": "display_data"
    },
    {
     "data": {
      "text/html": [
       "<div>\n",
       "<style scoped>\n",
       "    .dataframe tbody tr th:only-of-type {\n",
       "        vertical-align: middle;\n",
       "    }\n",
       "\n",
       "    .dataframe tbody tr th {\n",
       "        vertical-align: top;\n",
       "    }\n",
       "\n",
       "    .dataframe thead th {\n",
       "        text-align: right;\n",
       "    }\n",
       "</style>\n",
       "<table border=\"1\" class=\"dataframe\">\n",
       "  <thead>\n",
       "    <tr style=\"text-align: right;\">\n",
       "      <th></th>\n",
       "      <th>Subject</th>\n",
       "      <th>HR</th>\n",
       "      <th>MAP</th>\n",
       "      <th>DBP</th>\n",
       "      <th>SBP</th>\n",
       "      <th>Resp</th>\n",
       "    </tr>\n",
       "  </thead>\n",
       "  <tbody>\n",
       "    <tr>\n",
       "      <th>0</th>\n",
       "      <td>3</td>\n",
       "      <td>89.0</td>\n",
       "      <td>67.0</td>\n",
       "      <td>50.0</td>\n",
       "      <td>97.0</td>\n",
       "      <td>12.0</td>\n",
       "    </tr>\n",
       "    <tr>\n",
       "      <th>1</th>\n",
       "      <td>3</td>\n",
       "      <td>90.0</td>\n",
       "      <td>71.5</td>\n",
       "      <td>54.5</td>\n",
       "      <td>114.0</td>\n",
       "      <td>11.5</td>\n",
       "    </tr>\n",
       "    <tr>\n",
       "      <th>2</th>\n",
       "      <td>3</td>\n",
       "      <td>98.0</td>\n",
       "      <td>76.0</td>\n",
       "      <td>60.5</td>\n",
       "      <td>114.5</td>\n",
       "      <td>19.0</td>\n",
       "    </tr>\n",
       "    <tr>\n",
       "      <th>3</th>\n",
       "      <td>3</td>\n",
       "      <td>108.0</td>\n",
       "      <td>72.0</td>\n",
       "      <td>59.5</td>\n",
       "      <td>102.5</td>\n",
       "      <td>19.0</td>\n",
       "    </tr>\n",
       "    <tr>\n",
       "      <th>4</th>\n",
       "      <td>3</td>\n",
       "      <td>111.0</td>\n",
       "      <td>72.0</td>\n",
       "      <td>61.0</td>\n",
       "      <td>100.0</td>\n",
       "      <td>18.0</td>\n",
       "    </tr>\n",
       "    <tr>\n",
       "      <th>...</th>\n",
       "      <td>...</td>\n",
       "      <td>...</td>\n",
       "      <td>...</td>\n",
       "      <td>...</td>\n",
       "      <td>...</td>\n",
       "      <td>...</td>\n",
       "    </tr>\n",
       "    <tr>\n",
       "      <th>52</th>\n",
       "      <td>506</td>\n",
       "      <td>104.0</td>\n",
       "      <td>89.0</td>\n",
       "      <td>69.0</td>\n",
       "      <td>136.0</td>\n",
       "      <td>28.0</td>\n",
       "    </tr>\n",
       "    <tr>\n",
       "      <th>53</th>\n",
       "      <td>506</td>\n",
       "      <td>100.0</td>\n",
       "      <td>83.0</td>\n",
       "      <td>65.0</td>\n",
       "      <td>121.0</td>\n",
       "      <td>19.0</td>\n",
       "    </tr>\n",
       "    <tr>\n",
       "      <th>54</th>\n",
       "      <td>506</td>\n",
       "      <td>91.0</td>\n",
       "      <td>74.0</td>\n",
       "      <td>59.0</td>\n",
       "      <td>102.0</td>\n",
       "      <td>14.0</td>\n",
       "    </tr>\n",
       "    <tr>\n",
       "      <th>55</th>\n",
       "      <td>506</td>\n",
       "      <td>90.0</td>\n",
       "      <td>66.0</td>\n",
       "      <td>61.0</td>\n",
       "      <td>101.0</td>\n",
       "      <td>16.0</td>\n",
       "    </tr>\n",
       "    <tr>\n",
       "      <th>56</th>\n",
       "      <td>506</td>\n",
       "      <td>90.0</td>\n",
       "      <td>72.0</td>\n",
       "      <td>56.0</td>\n",
       "      <td>101.0</td>\n",
       "      <td>20.0</td>\n",
       "    </tr>\n",
       "  </tbody>\n",
       "</table>\n",
       "<p>9355 rows × 6 columns</p>\n",
       "</div>"
      ],
      "text/plain": [
       "    Subject     HR   MAP   DBP    SBP  Resp\n",
       "0         3   89.0  67.0  50.0   97.0  12.0\n",
       "1         3   90.0  71.5  54.5  114.0  11.5\n",
       "2         3   98.0  76.0  60.5  114.5  19.0\n",
       "3         3  108.0  72.0  59.5  102.5  19.0\n",
       "4         3  111.0  72.0  61.0  100.0  18.0\n",
       "..      ...    ...   ...   ...    ...   ...\n",
       "52      506  104.0  89.0  69.0  136.0  28.0\n",
       "53      506  100.0  83.0  65.0  121.0  19.0\n",
       "54      506   91.0  74.0  59.0  102.0  14.0\n",
       "55      506   90.0  66.0  61.0  101.0  16.0\n",
       "56      506   90.0  72.0  56.0  101.0  20.0\n",
       "\n",
       "[9355 rows x 6 columns]"
      ]
     },
     "metadata": {},
     "output_type": "display_data"
    },
    {
     "data": {
      "text/plain": [
       "'Avg length:'"
      ]
     },
     "metadata": {},
     "output_type": "display_data"
    },
    {
     "data": {
      "text/plain": [
       "108.59428571428572"
      ]
     },
     "metadata": {},
     "output_type": "display_data"
    },
    {
     "data": {
      "text/plain": [
       "6"
      ]
     },
     "metadata": {},
     "output_type": "display_data"
    },
    {
     "data": {
      "text/plain": [
       "'X_1:'"
      ]
     },
     "metadata": {},
     "output_type": "display_data"
    },
    {
     "data": {
      "text/html": [
       "<div>\n",
       "<style scoped>\n",
       "    .dataframe tbody tr th:only-of-type {\n",
       "        vertical-align: middle;\n",
       "    }\n",
       "\n",
       "    .dataframe tbody tr th {\n",
       "        vertical-align: top;\n",
       "    }\n",
       "\n",
       "    .dataframe thead th {\n",
       "        text-align: right;\n",
       "    }\n",
       "</style>\n",
       "<table border=\"1\" class=\"dataframe\">\n",
       "  <thead>\n",
       "    <tr style=\"text-align: right;\">\n",
       "      <th></th>\n",
       "      <th>1</th>\n",
       "      <th>2</th>\n",
       "      <th>3</th>\n",
       "      <th>4</th>\n",
       "      <th>5</th>\n",
       "    </tr>\n",
       "  </thead>\n",
       "  <tbody>\n",
       "    <tr>\n",
       "      <th>0</th>\n",
       "      <td>0     -3.548802\n",
       "1     -3.367801\n",
       "2     -1.91978...</td>\n",
       "      <td>0      0.430982\n",
       "1      1.494217\n",
       "2      2.55745...</td>\n",
       "      <td>0      0.723290\n",
       "1      1.492478\n",
       "2      2.51806...</td>\n",
       "      <td>0     -1.542011\n",
       "1      0.217276\n",
       "2      0.26901...</td>\n",
       "      <td>0     -3.924038\n",
       "1     -4.123753\n",
       "2     -1.12802...</td>\n",
       "    </tr>\n",
       "    <tr>\n",
       "      <th>1</th>\n",
       "      <td>0     -0.145320\n",
       "1     -1.669930\n",
       "2     -1.04214...</td>\n",
       "      <td>0      4.946853\n",
       "1      2.070579\n",
       "2     -1.59013...</td>\n",
       "      <td>0      3.516481\n",
       "1      1.432323\n",
       "2     -2.04127...</td>\n",
       "      <td>0      4.273263\n",
       "1      2.643262\n",
       "2     -0.86370...</td>\n",
       "      <td>0     -2.476901\n",
       "1     -0.779801\n",
       "2      1.34157...</td>\n",
       "    </tr>\n",
       "    <tr>\n",
       "      <th>2</th>\n",
       "      <td>0      0.004936\n",
       "1      0.004936\n",
       "2     -0.17275...</td>\n",
       "      <td>0     -0.398640\n",
       "1     -0.398640\n",
       "2     -0.57400...</td>\n",
       "      <td>0      0.926671\n",
       "1      0.926671\n",
       "2      0.44377...</td>\n",
       "      <td>0     -1.215042\n",
       "1     -1.215042\n",
       "2     -1.58124...</td>\n",
       "      <td>0     -0.802881\n",
       "1     -0.802881\n",
       "2     -1.06886...</td>\n",
       "    </tr>\n",
       "    <tr>\n",
       "      <th>3</th>\n",
       "      <td>0     -0.096793\n",
       "1      2.181560\n",
       "2      2.18156...</td>\n",
       "      <td>0     -2.251445\n",
       "1     -1.064296\n",
       "2     -1.06429...</td>\n",
       "      <td>0     -2.929532\n",
       "1     -1.344503\n",
       "2     -1.34450...</td>\n",
       "      <td>0     -1.384835\n",
       "1     -0.363793\n",
       "2     -0.36379...</td>\n",
       "      <td>0     -0.536459\n",
       "1     -0.019159\n",
       "2     -0.01915...</td>\n",
       "    </tr>\n",
       "    <tr>\n",
       "      <th>4</th>\n",
       "      <td>0      2.388865\n",
       "1      0.662745\n",
       "2      0.89289...</td>\n",
       "      <td>0      2.121160\n",
       "1      0.066993\n",
       "2     -0.34384...</td>\n",
       "      <td>0      4.232628\n",
       "1      1.257194\n",
       "2      0.28562...</td>\n",
       "      <td>0      2.745830\n",
       "1      0.347246\n",
       "2     -1.54340...</td>\n",
       "      <td>0      0.050201\n",
       "1     -1.523848\n",
       "2     -1.87363...</td>\n",
       "    </tr>\n",
       "    <tr>\n",
       "      <th>...</th>\n",
       "      <td>...</td>\n",
       "      <td>...</td>\n",
       "      <td>...</td>\n",
       "      <td>...</td>\n",
       "      <td>...</td>\n",
       "    </tr>\n",
       "    <tr>\n",
       "      <th>345</th>\n",
       "      <td>0      0.650005\n",
       "1      0.589643\n",
       "2     -0.43650...</td>\n",
       "      <td>0      0.608622\n",
       "1      1.589685\n",
       "2      1.41131...</td>\n",
       "      <td>0      3.279536\n",
       "1      3.279536\n",
       "2      1.58788...</td>\n",
       "      <td>0      0.691488\n",
       "1      0.691488\n",
       "2     -0.02521...</td>\n",
       "      <td>0     -0.462499\n",
       "1      0.541519\n",
       "2     -0.46249...</td>\n",
       "    </tr>\n",
       "    <tr>\n",
       "      <th>346</th>\n",
       "      <td>0      0.047154\n",
       "1      0.047154\n",
       "2      0.74614...</td>\n",
       "      <td>0     -0.057694\n",
       "1     -0.057694\n",
       "2     -0.05769...</td>\n",
       "      <td>0      0.213708\n",
       "1      0.213708\n",
       "2     -0.04931...</td>\n",
       "      <td>0     -0.447369\n",
       "1     -0.447369\n",
       "2     -0.13157...</td>\n",
       "      <td>0     -0.476827\n",
       "1     -0.476827\n",
       "2     -1.35618...</td>\n",
       "    </tr>\n",
       "    <tr>\n",
       "      <th>347</th>\n",
       "      <td>0     -0.843348\n",
       "1     -0.698360\n",
       "2     -0.37938...</td>\n",
       "      <td>0     -0.717568\n",
       "1     -0.668112\n",
       "2     -0.66811...</td>\n",
       "      <td>0     -0.930073\n",
       "1     -0.487014\n",
       "2     -0.55030...</td>\n",
       "      <td>0     -0.418345\n",
       "1     -0.586556\n",
       "2     -0.65384...</td>\n",
       "      <td>0     -2.073631\n",
       "1     -2.073631\n",
       "2     -2.07363...</td>\n",
       "    </tr>\n",
       "    <tr>\n",
       "      <th>348</th>\n",
       "      <td>0      2.245241\n",
       "1      0.922891\n",
       "2      1.58406...</td>\n",
       "      <td>0     -0.732514\n",
       "1     -1.682273\n",
       "2     -1.43603...</td>\n",
       "      <td>0     -1.124194\n",
       "1     -2.176147\n",
       "2     -1.29952...</td>\n",
       "      <td>0      0.192826\n",
       "1     -2.343582\n",
       "2     -2.14333...</td>\n",
       "      <td>0     -0.059245\n",
       "1     -0.059245\n",
       "2      0.18685...</td>\n",
       "    </tr>\n",
       "    <tr>\n",
       "      <th>349</th>\n",
       "      <td>0      0.571725\n",
       "1      0.571725\n",
       "2     -0.22564...</td>\n",
       "      <td>0     -0.799545\n",
       "1     -0.799545\n",
       "2     -2.49661...</td>\n",
       "      <td>0     -0.799549\n",
       "1     -0.799549\n",
       "2     -2.72855...</td>\n",
       "      <td>0      0.793528\n",
       "1      0.793528\n",
       "2     -1.45869...</td>\n",
       "      <td>0      0.944124\n",
       "1      0.944124\n",
       "2      0.77217...</td>\n",
       "    </tr>\n",
       "  </tbody>\n",
       "</table>\n",
       "<p>350 rows × 5 columns</p>\n",
       "</div>"
      ],
      "text/plain": [
       "                                                     1  \\\n",
       "0    0     -3.548802\n",
       "1     -3.367801\n",
       "2     -1.91978...   \n",
       "1    0     -0.145320\n",
       "1     -1.669930\n",
       "2     -1.04214...   \n",
       "2    0      0.004936\n",
       "1      0.004936\n",
       "2     -0.17275...   \n",
       "3    0     -0.096793\n",
       "1      2.181560\n",
       "2      2.18156...   \n",
       "4    0      2.388865\n",
       "1      0.662745\n",
       "2      0.89289...   \n",
       "..                                                 ...   \n",
       "345  0      0.650005\n",
       "1      0.589643\n",
       "2     -0.43650...   \n",
       "346  0      0.047154\n",
       "1      0.047154\n",
       "2      0.74614...   \n",
       "347  0     -0.843348\n",
       "1     -0.698360\n",
       "2     -0.37938...   \n",
       "348  0      2.245241\n",
       "1      0.922891\n",
       "2      1.58406...   \n",
       "349  0      0.571725\n",
       "1      0.571725\n",
       "2     -0.22564...   \n",
       "\n",
       "                                                     2  \\\n",
       "0    0      0.430982\n",
       "1      1.494217\n",
       "2      2.55745...   \n",
       "1    0      4.946853\n",
       "1      2.070579\n",
       "2     -1.59013...   \n",
       "2    0     -0.398640\n",
       "1     -0.398640\n",
       "2     -0.57400...   \n",
       "3    0     -2.251445\n",
       "1     -1.064296\n",
       "2     -1.06429...   \n",
       "4    0      2.121160\n",
       "1      0.066993\n",
       "2     -0.34384...   \n",
       "..                                                 ...   \n",
       "345  0      0.608622\n",
       "1      1.589685\n",
       "2      1.41131...   \n",
       "346  0     -0.057694\n",
       "1     -0.057694\n",
       "2     -0.05769...   \n",
       "347  0     -0.717568\n",
       "1     -0.668112\n",
       "2     -0.66811...   \n",
       "348  0     -0.732514\n",
       "1     -1.682273\n",
       "2     -1.43603...   \n",
       "349  0     -0.799545\n",
       "1     -0.799545\n",
       "2     -2.49661...   \n",
       "\n",
       "                                                     3  \\\n",
       "0    0      0.723290\n",
       "1      1.492478\n",
       "2      2.51806...   \n",
       "1    0      3.516481\n",
       "1      1.432323\n",
       "2     -2.04127...   \n",
       "2    0      0.926671\n",
       "1      0.926671\n",
       "2      0.44377...   \n",
       "3    0     -2.929532\n",
       "1     -1.344503\n",
       "2     -1.34450...   \n",
       "4    0      4.232628\n",
       "1      1.257194\n",
       "2      0.28562...   \n",
       "..                                                 ...   \n",
       "345  0      3.279536\n",
       "1      3.279536\n",
       "2      1.58788...   \n",
       "346  0      0.213708\n",
       "1      0.213708\n",
       "2     -0.04931...   \n",
       "347  0     -0.930073\n",
       "1     -0.487014\n",
       "2     -0.55030...   \n",
       "348  0     -1.124194\n",
       "1     -2.176147\n",
       "2     -1.29952...   \n",
       "349  0     -0.799549\n",
       "1     -0.799549\n",
       "2     -2.72855...   \n",
       "\n",
       "                                                     4  \\\n",
       "0    0     -1.542011\n",
       "1      0.217276\n",
       "2      0.26901...   \n",
       "1    0      4.273263\n",
       "1      2.643262\n",
       "2     -0.86370...   \n",
       "2    0     -1.215042\n",
       "1     -1.215042\n",
       "2     -1.58124...   \n",
       "3    0     -1.384835\n",
       "1     -0.363793\n",
       "2     -0.36379...   \n",
       "4    0      2.745830\n",
       "1      0.347246\n",
       "2     -1.54340...   \n",
       "..                                                 ...   \n",
       "345  0      0.691488\n",
       "1      0.691488\n",
       "2     -0.02521...   \n",
       "346  0     -0.447369\n",
       "1     -0.447369\n",
       "2     -0.13157...   \n",
       "347  0     -0.418345\n",
       "1     -0.586556\n",
       "2     -0.65384...   \n",
       "348  0      0.192826\n",
       "1     -2.343582\n",
       "2     -2.14333...   \n",
       "349  0      0.793528\n",
       "1      0.793528\n",
       "2     -1.45869...   \n",
       "\n",
       "                                                     5  \n",
       "0    0     -3.924038\n",
       "1     -4.123753\n",
       "2     -1.12802...  \n",
       "1    0     -2.476901\n",
       "1     -0.779801\n",
       "2      1.34157...  \n",
       "2    0     -0.802881\n",
       "1     -0.802881\n",
       "2     -1.06886...  \n",
       "3    0     -0.536459\n",
       "1     -0.019159\n",
       "2     -0.01915...  \n",
       "4    0      0.050201\n",
       "1     -1.523848\n",
       "2     -1.87363...  \n",
       "..                                                 ...  \n",
       "345  0     -0.462499\n",
       "1      0.541519\n",
       "2     -0.46249...  \n",
       "346  0     -0.476827\n",
       "1     -0.476827\n",
       "2     -1.35618...  \n",
       "347  0     -2.073631\n",
       "1     -2.073631\n",
       "2     -2.07363...  \n",
       "348  0     -0.059245\n",
       "1     -0.059245\n",
       "2      0.18685...  \n",
       "349  0      0.944124\n",
       "1      0.944124\n",
       "2      0.77217...  \n",
       "\n",
       "[350 rows x 5 columns]"
      ]
     },
     "metadata": {},
     "output_type": "display_data"
    },
    {
     "data": {
      "text/plain": [
       "'Completed'"
      ]
     },
     "metadata": {},
     "output_type": "display_data"
    },
    {
     "data": {
      "text/plain": [
       "1"
      ]
     },
     "metadata": {},
     "output_type": "display_data"
    },
    {
     "data": {
      "text/plain": [
       "'Completed'"
      ]
     },
     "metadata": {},
     "output_type": "display_data"
    },
    {
     "data": {
      "text/plain": [
       "2"
      ]
     },
     "metadata": {},
     "output_type": "display_data"
    },
    {
     "data": {
      "text/plain": [
       "'Completed'"
      ]
     },
     "metadata": {},
     "output_type": "display_data"
    },
    {
     "data": {
      "text/plain": [
       "3"
      ]
     },
     "metadata": {},
     "output_type": "display_data"
    },
    {
     "data": {
      "text/plain": [
       "'Completed'"
      ]
     },
     "metadata": {},
     "output_type": "display_data"
    },
    {
     "data": {
      "text/plain": [
       "4"
      ]
     },
     "metadata": {},
     "output_type": "display_data"
    },
    {
     "data": {
      "text/plain": [
       "'Completed'"
      ]
     },
     "metadata": {},
     "output_type": "display_data"
    },
    {
     "data": {
      "text/plain": [
       "5"
      ]
     },
     "metadata": {},
     "output_type": "display_data"
    },
    {
     "data": {
      "text/plain": [
       "'Completed'"
      ]
     },
     "metadata": {},
     "output_type": "display_data"
    },
    {
     "data": {
      "text/plain": [
       "6"
      ]
     },
     "metadata": {},
     "output_type": "display_data"
    },
    {
     "data": {
      "text/plain": [
       "'Completed'"
      ]
     },
     "metadata": {},
     "output_type": "display_data"
    },
    {
     "data": {
      "text/plain": [
       "7"
      ]
     },
     "metadata": {},
     "output_type": "display_data"
    },
    {
     "data": {
      "text/plain": [
       "'Completed'"
      ]
     },
     "metadata": {},
     "output_type": "display_data"
    },
    {
     "data": {
      "text/plain": [
       "8"
      ]
     },
     "metadata": {},
     "output_type": "display_data"
    },
    {
     "data": {
      "text/plain": [
       "'Completed'"
      ]
     },
     "metadata": {},
     "output_type": "display_data"
    },
    {
     "data": {
      "text/plain": [
       "9"
      ]
     },
     "metadata": {},
     "output_type": "display_data"
    },
    {
     "data": {
      "text/plain": [
       "'Completed'"
      ]
     },
     "metadata": {},
     "output_type": "display_data"
    },
    {
     "data": {
      "text/plain": [
       "10"
      ]
     },
     "metadata": {},
     "output_type": "display_data"
    },
    {
     "data": {
      "text/plain": [
       "'Completed'"
      ]
     },
     "metadata": {},
     "output_type": "display_data"
    },
    {
     "data": {
      "text/plain": [
       "11"
      ]
     },
     "metadata": {},
     "output_type": "display_data"
    },
    {
     "data": {
      "text/plain": [
       "'Completed'"
      ]
     },
     "metadata": {},
     "output_type": "display_data"
    },
    {
     "data": {
      "text/plain": [
       "12"
      ]
     },
     "metadata": {},
     "output_type": "display_data"
    },
    {
     "data": {
      "text/plain": [
       "'Completed'"
      ]
     },
     "metadata": {},
     "output_type": "display_data"
    },
    {
     "data": {
      "text/plain": [
       "13"
      ]
     },
     "metadata": {},
     "output_type": "display_data"
    },
    {
     "data": {
      "text/plain": [
       "'Completed'"
      ]
     },
     "metadata": {},
     "output_type": "display_data"
    },
    {
     "data": {
      "text/plain": [
       "14"
      ]
     },
     "metadata": {},
     "output_type": "display_data"
    },
    {
     "data": {
      "text/plain": [
       "'Completed'"
      ]
     },
     "metadata": {},
     "output_type": "display_data"
    },
    {
     "data": {
      "text/plain": [
       "15"
      ]
     },
     "metadata": {},
     "output_type": "display_data"
    },
    {
     "data": {
      "text/plain": [
       "'Completed'"
      ]
     },
     "metadata": {},
     "output_type": "display_data"
    },
    {
     "data": {
      "text/plain": [
       "16"
      ]
     },
     "metadata": {},
     "output_type": "display_data"
    },
    {
     "data": {
      "text/plain": [
       "'Completed'"
      ]
     },
     "metadata": {},
     "output_type": "display_data"
    },
    {
     "data": {
      "text/plain": [
       "17"
      ]
     },
     "metadata": {},
     "output_type": "display_data"
    },
    {
     "data": {
      "text/plain": [
       "'Completed'"
      ]
     },
     "metadata": {},
     "output_type": "display_data"
    },
    {
     "data": {
      "text/plain": [
       "18"
      ]
     },
     "metadata": {},
     "output_type": "display_data"
    },
    {
     "data": {
      "text/plain": [
       "'Completed'"
      ]
     },
     "metadata": {},
     "output_type": "display_data"
    },
    {
     "data": {
      "text/plain": [
       "19"
      ]
     },
     "metadata": {},
     "output_type": "display_data"
    },
    {
     "data": {
      "text/plain": [
       "'Completed'"
      ]
     },
     "metadata": {},
     "output_type": "display_data"
    },
    {
     "data": {
      "text/plain": [
       "20"
      ]
     },
     "metadata": {},
     "output_type": "display_data"
    },
    {
     "data": {
      "text/plain": [
       "'Completed'"
      ]
     },
     "metadata": {},
     "output_type": "display_data"
    },
    {
     "data": {
      "text/plain": [
       "21"
      ]
     },
     "metadata": {},
     "output_type": "display_data"
    },
    {
     "data": {
      "text/plain": [
       "'Completed'"
      ]
     },
     "metadata": {},
     "output_type": "display_data"
    },
    {
     "data": {
      "text/plain": [
       "22"
      ]
     },
     "metadata": {},
     "output_type": "display_data"
    },
    {
     "data": {
      "text/plain": [
       "'Completed'"
      ]
     },
     "metadata": {},
     "output_type": "display_data"
    },
    {
     "data": {
      "text/plain": [
       "23"
      ]
     },
     "metadata": {},
     "output_type": "display_data"
    },
    {
     "data": {
      "text/plain": [
       "'Completed'"
      ]
     },
     "metadata": {},
     "output_type": "display_data"
    },
    {
     "data": {
      "text/plain": [
       "24"
      ]
     },
     "metadata": {},
     "output_type": "display_data"
    },
    {
     "data": {
      "text/plain": [
       "'Completed'"
      ]
     },
     "metadata": {},
     "output_type": "display_data"
    },
    {
     "data": {
      "text/plain": [
       "25"
      ]
     },
     "metadata": {},
     "output_type": "display_data"
    },
    {
     "data": {
      "text/plain": [
       "'Completed'"
      ]
     },
     "metadata": {},
     "output_type": "display_data"
    },
    {
     "data": {
      "text/plain": [
       "26"
      ]
     },
     "metadata": {},
     "output_type": "display_data"
    },
    {
     "data": {
      "text/plain": [
       "'Completed'"
      ]
     },
     "metadata": {},
     "output_type": "display_data"
    },
    {
     "data": {
      "text/plain": [
       "27"
      ]
     },
     "metadata": {},
     "output_type": "display_data"
    },
    {
     "data": {
      "text/plain": [
       "'Completed'"
      ]
     },
     "metadata": {},
     "output_type": "display_data"
    },
    {
     "data": {
      "text/plain": [
       "28"
      ]
     },
     "metadata": {},
     "output_type": "display_data"
    },
    {
     "data": {
      "text/plain": [
       "'Completed'"
      ]
     },
     "metadata": {},
     "output_type": "display_data"
    },
    {
     "data": {
      "text/plain": [
       "29"
      ]
     },
     "metadata": {},
     "output_type": "display_data"
    },
    {
     "data": {
      "text/plain": [
       "'Completed'"
      ]
     },
     "metadata": {},
     "output_type": "display_data"
    },
    {
     "data": {
      "text/plain": [
       "30"
      ]
     },
     "metadata": {},
     "output_type": "display_data"
    },
    {
     "data": {
      "text/plain": [
       "'Current key in progress'"
      ]
     },
     "metadata": {},
     "output_type": "display_data"
    },
    {
     "data": {
      "text/plain": [
       "'sample_numbers_list_1.3_to_1.4'"
      ]
     },
     "metadata": {},
     "output_type": "display_data"
    },
    {
     "data": {
      "text/plain": [
       "397"
      ]
     },
     "metadata": {},
     "output_type": "display_data"
    },
    {
     "data": {
      "text/html": [
       "<div>\n",
       "<style scoped>\n",
       "    .dataframe tbody tr th:only-of-type {\n",
       "        vertical-align: middle;\n",
       "    }\n",
       "\n",
       "    .dataframe tbody tr th {\n",
       "        vertical-align: top;\n",
       "    }\n",
       "\n",
       "    .dataframe thead th {\n",
       "        text-align: right;\n",
       "    }\n",
       "</style>\n",
       "<table border=\"1\" class=\"dataframe\">\n",
       "  <thead>\n",
       "    <tr style=\"text-align: right;\">\n",
       "      <th></th>\n",
       "      <th>Subject</th>\n",
       "      <th>HR</th>\n",
       "      <th>MAP</th>\n",
       "      <th>DBP</th>\n",
       "      <th>SBP</th>\n",
       "      <th>Resp</th>\n",
       "    </tr>\n",
       "  </thead>\n",
       "  <tbody>\n",
       "    <tr>\n",
       "      <th>0</th>\n",
       "      <td>5</td>\n",
       "      <td>118.5</td>\n",
       "      <td>121.00</td>\n",
       "      <td>93.0</td>\n",
       "      <td>168.00</td>\n",
       "      <td>21.5</td>\n",
       "    </tr>\n",
       "    <tr>\n",
       "      <th>1</th>\n",
       "      <td>5</td>\n",
       "      <td>110.0</td>\n",
       "      <td>104.50</td>\n",
       "      <td>84.0</td>\n",
       "      <td>151.50</td>\n",
       "      <td>25.5</td>\n",
       "    </tr>\n",
       "    <tr>\n",
       "      <th>2</th>\n",
       "      <td>5</td>\n",
       "      <td>113.5</td>\n",
       "      <td>83.50</td>\n",
       "      <td>69.0</td>\n",
       "      <td>116.00</td>\n",
       "      <td>30.5</td>\n",
       "    </tr>\n",
       "    <tr>\n",
       "      <th>3</th>\n",
       "      <td>5</td>\n",
       "      <td>106.0</td>\n",
       "      <td>95.00</td>\n",
       "      <td>79.0</td>\n",
       "      <td>129.50</td>\n",
       "      <td>32.0</td>\n",
       "    </tr>\n",
       "    <tr>\n",
       "      <th>4</th>\n",
       "      <td>5</td>\n",
       "      <td>107.0</td>\n",
       "      <td>84.67</td>\n",
       "      <td>77.5</td>\n",
       "      <td>127.75</td>\n",
       "      <td>32.0</td>\n",
       "    </tr>\n",
       "    <tr>\n",
       "      <th>...</th>\n",
       "      <td>...</td>\n",
       "      <td>...</td>\n",
       "      <td>...</td>\n",
       "      <td>...</td>\n",
       "      <td>...</td>\n",
       "      <td>...</td>\n",
       "    </tr>\n",
       "    <tr>\n",
       "      <th>52</th>\n",
       "      <td>506</td>\n",
       "      <td>104.0</td>\n",
       "      <td>89.00</td>\n",
       "      <td>69.0</td>\n",
       "      <td>136.00</td>\n",
       "      <td>28.0</td>\n",
       "    </tr>\n",
       "    <tr>\n",
       "      <th>53</th>\n",
       "      <td>506</td>\n",
       "      <td>100.0</td>\n",
       "      <td>83.00</td>\n",
       "      <td>65.0</td>\n",
       "      <td>121.00</td>\n",
       "      <td>19.0</td>\n",
       "    </tr>\n",
       "    <tr>\n",
       "      <th>54</th>\n",
       "      <td>506</td>\n",
       "      <td>91.0</td>\n",
       "      <td>74.00</td>\n",
       "      <td>59.0</td>\n",
       "      <td>102.00</td>\n",
       "      <td>14.0</td>\n",
       "    </tr>\n",
       "    <tr>\n",
       "      <th>55</th>\n",
       "      <td>506</td>\n",
       "      <td>90.0</td>\n",
       "      <td>66.00</td>\n",
       "      <td>61.0</td>\n",
       "      <td>101.00</td>\n",
       "      <td>16.0</td>\n",
       "    </tr>\n",
       "    <tr>\n",
       "      <th>56</th>\n",
       "      <td>506</td>\n",
       "      <td>90.0</td>\n",
       "      <td>72.00</td>\n",
       "      <td>56.0</td>\n",
       "      <td>101.00</td>\n",
       "      <td>20.0</td>\n",
       "    </tr>\n",
       "  </tbody>\n",
       "</table>\n",
       "<p>9338 rows × 6 columns</p>\n",
       "</div>"
      ],
      "text/plain": [
       "    Subject     HR     MAP   DBP     SBP  Resp\n",
       "0         5  118.5  121.00  93.0  168.00  21.5\n",
       "1         5  110.0  104.50  84.0  151.50  25.5\n",
       "2         5  113.5   83.50  69.0  116.00  30.5\n",
       "3         5  106.0   95.00  79.0  129.50  32.0\n",
       "4         5  107.0   84.67  77.5  127.75  32.0\n",
       "..      ...    ...     ...   ...     ...   ...\n",
       "52      506  104.0   89.00  69.0  136.00  28.0\n",
       "53      506  100.0   83.00  65.0  121.00  19.0\n",
       "54      506   91.0   74.00  59.0  102.00  14.0\n",
       "55      506   90.0   66.00  61.0  101.00  16.0\n",
       "56      506   90.0   72.00  56.0  101.00  20.0\n",
       "\n",
       "[9338 rows x 6 columns]"
      ]
     },
     "metadata": {},
     "output_type": "display_data"
    },
    {
     "data": {
      "text/plain": [
       "'Avg length:'"
      ]
     },
     "metadata": {},
     "output_type": "display_data"
    },
    {
     "data": {
      "text/plain": [
       "108.59428571428572"
      ]
     },
     "metadata": {},
     "output_type": "display_data"
    },
    {
     "data": {
      "text/plain": [
       "6"
      ]
     },
     "metadata": {},
     "output_type": "display_data"
    },
    {
     "data": {
      "text/plain": [
       "'X_1:'"
      ]
     },
     "metadata": {},
     "output_type": "display_data"
    },
    {
     "data": {
      "text/html": [
       "<div>\n",
       "<style scoped>\n",
       "    .dataframe tbody tr th:only-of-type {\n",
       "        vertical-align: middle;\n",
       "    }\n",
       "\n",
       "    .dataframe tbody tr th {\n",
       "        vertical-align: top;\n",
       "    }\n",
       "\n",
       "    .dataframe thead th {\n",
       "        text-align: right;\n",
       "    }\n",
       "</style>\n",
       "<table border=\"1\" class=\"dataframe\">\n",
       "  <thead>\n",
       "    <tr style=\"text-align: right;\">\n",
       "      <th></th>\n",
       "      <th>1</th>\n",
       "      <th>2</th>\n",
       "      <th>3</th>\n",
       "      <th>4</th>\n",
       "      <th>5</th>\n",
       "    </tr>\n",
       "  </thead>\n",
       "  <tbody>\n",
       "    <tr>\n",
       "      <th>0</th>\n",
       "      <td>0     -0.145320\n",
       "1     -1.669930\n",
       "2     -1.04214...</td>\n",
       "      <td>0      4.946853\n",
       "1      2.070579\n",
       "2     -1.59013...</td>\n",
       "      <td>0      3.516481\n",
       "1      1.432323\n",
       "2     -2.04127...</td>\n",
       "      <td>0      4.273263\n",
       "1      2.643262\n",
       "2     -0.86370...</td>\n",
       "      <td>0     -2.476901\n",
       "1     -0.779801\n",
       "2      1.34157...</td>\n",
       "    </tr>\n",
       "    <tr>\n",
       "      <th>1</th>\n",
       "      <td>0      1.340723\n",
       "1      1.340723\n",
       "2      1.34072...</td>\n",
       "      <td>0     -0.778554\n",
       "1     -0.778554\n",
       "2      0.82151...</td>\n",
       "      <td>0     -0.107189\n",
       "1     -0.107189\n",
       "2      1.97062...</td>\n",
       "      <td>0     -0.903078\n",
       "1     -0.903078\n",
       "2     -0.10722...</td>\n",
       "      <td>0      1.674277\n",
       "1      1.674277\n",
       "2      1.67427...</td>\n",
       "    </tr>\n",
       "    <tr>\n",
       "      <th>2</th>\n",
       "      <td>0      0.004936\n",
       "1      0.004936\n",
       "2     -0.17275...</td>\n",
       "      <td>0     -0.398640\n",
       "1     -0.398640\n",
       "2     -0.57400...</td>\n",
       "      <td>0      0.926671\n",
       "1      0.926671\n",
       "2      0.44377...</td>\n",
       "      <td>0     -1.215042\n",
       "1     -1.215042\n",
       "2     -1.58124...</td>\n",
       "      <td>0     -0.802881\n",
       "1     -0.802881\n",
       "2     -1.06886...</td>\n",
       "    </tr>\n",
       "    <tr>\n",
       "      <th>3</th>\n",
       "      <td>0     -0.096793\n",
       "1      2.181560\n",
       "2      2.18156...</td>\n",
       "      <td>0     -2.251445\n",
       "1     -1.064296\n",
       "2     -1.06429...</td>\n",
       "      <td>0     -2.929532\n",
       "1     -1.344503\n",
       "2     -1.34450...</td>\n",
       "      <td>0     -1.384835\n",
       "1     -0.363793\n",
       "2     -0.36379...</td>\n",
       "      <td>0     -0.536459\n",
       "1     -0.019159\n",
       "2     -0.01915...</td>\n",
       "    </tr>\n",
       "    <tr>\n",
       "      <th>4</th>\n",
       "      <td>0     -0.748380\n",
       "1     -0.748380\n",
       "2     -1.25784...</td>\n",
       "      <td>0     -1.904063\n",
       "1     -1.904063\n",
       "2      0.13196...</td>\n",
       "      <td>0     -1.310589\n",
       "1     -1.310589\n",
       "2      0.13027...</td>\n",
       "      <td>0     -1.252654\n",
       "1     -1.252654\n",
       "2      0.98884...</td>\n",
       "      <td>0      0.638863\n",
       "1      0.638863\n",
       "2     -0.40025...</td>\n",
       "    </tr>\n",
       "    <tr>\n",
       "      <th>...</th>\n",
       "      <td>...</td>\n",
       "      <td>...</td>\n",
       "      <td>...</td>\n",
       "      <td>...</td>\n",
       "      <td>...</td>\n",
       "    </tr>\n",
       "    <tr>\n",
       "      <th>345</th>\n",
       "      <td>0      0.650005\n",
       "1      0.589643\n",
       "2     -0.43650...</td>\n",
       "      <td>0      0.608622\n",
       "1      1.589685\n",
       "2      1.41131...</td>\n",
       "      <td>0      3.279536\n",
       "1      3.279536\n",
       "2      1.58788...</td>\n",
       "      <td>0      0.691488\n",
       "1      0.691488\n",
       "2     -0.02521...</td>\n",
       "      <td>0     -0.462499\n",
       "1      0.541519\n",
       "2     -0.46249...</td>\n",
       "    </tr>\n",
       "    <tr>\n",
       "      <th>346</th>\n",
       "      <td>0      0.047154\n",
       "1      0.047154\n",
       "2      0.74614...</td>\n",
       "      <td>0     -0.057694\n",
       "1     -0.057694\n",
       "2     -0.05769...</td>\n",
       "      <td>0      0.213708\n",
       "1      0.213708\n",
       "2     -0.04931...</td>\n",
       "      <td>0     -0.447369\n",
       "1     -0.447369\n",
       "2     -0.13157...</td>\n",
       "      <td>0     -0.476827\n",
       "1     -0.476827\n",
       "2     -1.35618...</td>\n",
       "    </tr>\n",
       "    <tr>\n",
       "      <th>347</th>\n",
       "      <td>0     -0.843348\n",
       "1     -0.698360\n",
       "2     -0.37938...</td>\n",
       "      <td>0     -0.717568\n",
       "1     -0.668112\n",
       "2     -0.66811...</td>\n",
       "      <td>0     -0.930073\n",
       "1     -0.487014\n",
       "2     -0.55030...</td>\n",
       "      <td>0     -0.418345\n",
       "1     -0.586556\n",
       "2     -0.65384...</td>\n",
       "      <td>0     -2.073631\n",
       "1     -2.073631\n",
       "2     -2.07363...</td>\n",
       "    </tr>\n",
       "    <tr>\n",
       "      <th>348</th>\n",
       "      <td>0      2.245241\n",
       "1      0.922891\n",
       "2      1.58406...</td>\n",
       "      <td>0     -0.732514\n",
       "1     -1.682273\n",
       "2     -1.43603...</td>\n",
       "      <td>0     -1.124194\n",
       "1     -2.176147\n",
       "2     -1.29952...</td>\n",
       "      <td>0      0.192826\n",
       "1     -2.343582\n",
       "2     -2.14333...</td>\n",
       "      <td>0     -0.059245\n",
       "1     -0.059245\n",
       "2      0.18685...</td>\n",
       "    </tr>\n",
       "    <tr>\n",
       "      <th>349</th>\n",
       "      <td>0      0.571725\n",
       "1      0.571725\n",
       "2     -0.22564...</td>\n",
       "      <td>0     -0.799545\n",
       "1     -0.799545\n",
       "2     -2.49661...</td>\n",
       "      <td>0     -0.799549\n",
       "1     -0.799549\n",
       "2     -2.72855...</td>\n",
       "      <td>0      0.793528\n",
       "1      0.793528\n",
       "2     -1.45869...</td>\n",
       "      <td>0      0.944124\n",
       "1      0.944124\n",
       "2      0.77217...</td>\n",
       "    </tr>\n",
       "  </tbody>\n",
       "</table>\n",
       "<p>350 rows × 5 columns</p>\n",
       "</div>"
      ],
      "text/plain": [
       "                                                     1  \\\n",
       "0    0     -0.145320\n",
       "1     -1.669930\n",
       "2     -1.04214...   \n",
       "1    0      1.340723\n",
       "1      1.340723\n",
       "2      1.34072...   \n",
       "2    0      0.004936\n",
       "1      0.004936\n",
       "2     -0.17275...   \n",
       "3    0     -0.096793\n",
       "1      2.181560\n",
       "2      2.18156...   \n",
       "4    0     -0.748380\n",
       "1     -0.748380\n",
       "2     -1.25784...   \n",
       "..                                                 ...   \n",
       "345  0      0.650005\n",
       "1      0.589643\n",
       "2     -0.43650...   \n",
       "346  0      0.047154\n",
       "1      0.047154\n",
       "2      0.74614...   \n",
       "347  0     -0.843348\n",
       "1     -0.698360\n",
       "2     -0.37938...   \n",
       "348  0      2.245241\n",
       "1      0.922891\n",
       "2      1.58406...   \n",
       "349  0      0.571725\n",
       "1      0.571725\n",
       "2     -0.22564...   \n",
       "\n",
       "                                                     2  \\\n",
       "0    0      4.946853\n",
       "1      2.070579\n",
       "2     -1.59013...   \n",
       "1    0     -0.778554\n",
       "1     -0.778554\n",
       "2      0.82151...   \n",
       "2    0     -0.398640\n",
       "1     -0.398640\n",
       "2     -0.57400...   \n",
       "3    0     -2.251445\n",
       "1     -1.064296\n",
       "2     -1.06429...   \n",
       "4    0     -1.904063\n",
       "1     -1.904063\n",
       "2      0.13196...   \n",
       "..                                                 ...   \n",
       "345  0      0.608622\n",
       "1      1.589685\n",
       "2      1.41131...   \n",
       "346  0     -0.057694\n",
       "1     -0.057694\n",
       "2     -0.05769...   \n",
       "347  0     -0.717568\n",
       "1     -0.668112\n",
       "2     -0.66811...   \n",
       "348  0     -0.732514\n",
       "1     -1.682273\n",
       "2     -1.43603...   \n",
       "349  0     -0.799545\n",
       "1     -0.799545\n",
       "2     -2.49661...   \n",
       "\n",
       "                                                     3  \\\n",
       "0    0      3.516481\n",
       "1      1.432323\n",
       "2     -2.04127...   \n",
       "1    0     -0.107189\n",
       "1     -0.107189\n",
       "2      1.97062...   \n",
       "2    0      0.926671\n",
       "1      0.926671\n",
       "2      0.44377...   \n",
       "3    0     -2.929532\n",
       "1     -1.344503\n",
       "2     -1.34450...   \n",
       "4    0     -1.310589\n",
       "1     -1.310589\n",
       "2      0.13027...   \n",
       "..                                                 ...   \n",
       "345  0      3.279536\n",
       "1      3.279536\n",
       "2      1.58788...   \n",
       "346  0      0.213708\n",
       "1      0.213708\n",
       "2     -0.04931...   \n",
       "347  0     -0.930073\n",
       "1     -0.487014\n",
       "2     -0.55030...   \n",
       "348  0     -1.124194\n",
       "1     -2.176147\n",
       "2     -1.29952...   \n",
       "349  0     -0.799549\n",
       "1     -0.799549\n",
       "2     -2.72855...   \n",
       "\n",
       "                                                     4  \\\n",
       "0    0      4.273263\n",
       "1      2.643262\n",
       "2     -0.86370...   \n",
       "1    0     -0.903078\n",
       "1     -0.903078\n",
       "2     -0.10722...   \n",
       "2    0     -1.215042\n",
       "1     -1.215042\n",
       "2     -1.58124...   \n",
       "3    0     -1.384835\n",
       "1     -0.363793\n",
       "2     -0.36379...   \n",
       "4    0     -1.252654\n",
       "1     -1.252654\n",
       "2      0.98884...   \n",
       "..                                                 ...   \n",
       "345  0      0.691488\n",
       "1      0.691488\n",
       "2     -0.02521...   \n",
       "346  0     -0.447369\n",
       "1     -0.447369\n",
       "2     -0.13157...   \n",
       "347  0     -0.418345\n",
       "1     -0.586556\n",
       "2     -0.65384...   \n",
       "348  0      0.192826\n",
       "1     -2.343582\n",
       "2     -2.14333...   \n",
       "349  0      0.793528\n",
       "1      0.793528\n",
       "2     -1.45869...   \n",
       "\n",
       "                                                     5  \n",
       "0    0     -2.476901\n",
       "1     -0.779801\n",
       "2      1.34157...  \n",
       "1    0      1.674277\n",
       "1      1.674277\n",
       "2      1.67427...  \n",
       "2    0     -0.802881\n",
       "1     -0.802881\n",
       "2     -1.06886...  \n",
       "3    0     -0.536459\n",
       "1     -0.019159\n",
       "2     -0.01915...  \n",
       "4    0      0.638863\n",
       "1      0.638863\n",
       "2     -0.40025...  \n",
       "..                                                 ...  \n",
       "345  0     -0.462499\n",
       "1      0.541519\n",
       "2     -0.46249...  \n",
       "346  0     -0.476827\n",
       "1     -0.476827\n",
       "2     -1.35618...  \n",
       "347  0     -2.073631\n",
       "1     -2.073631\n",
       "2     -2.07363...  \n",
       "348  0     -0.059245\n",
       "1     -0.059245\n",
       "2      0.18685...  \n",
       "349  0      0.944124\n",
       "1      0.944124\n",
       "2      0.77217...  \n",
       "\n",
       "[350 rows x 5 columns]"
      ]
     },
     "metadata": {},
     "output_type": "display_data"
    },
    {
     "data": {
      "text/plain": [
       "'Completed'"
      ]
     },
     "metadata": {},
     "output_type": "display_data"
    },
    {
     "data": {
      "text/plain": [
       "1"
      ]
     },
     "metadata": {},
     "output_type": "display_data"
    },
    {
     "data": {
      "text/plain": [
       "'Completed'"
      ]
     },
     "metadata": {},
     "output_type": "display_data"
    },
    {
     "data": {
      "text/plain": [
       "2"
      ]
     },
     "metadata": {},
     "output_type": "display_data"
    },
    {
     "data": {
      "text/plain": [
       "'Completed'"
      ]
     },
     "metadata": {},
     "output_type": "display_data"
    },
    {
     "data": {
      "text/plain": [
       "3"
      ]
     },
     "metadata": {},
     "output_type": "display_data"
    },
    {
     "data": {
      "text/plain": [
       "'Completed'"
      ]
     },
     "metadata": {},
     "output_type": "display_data"
    },
    {
     "data": {
      "text/plain": [
       "4"
      ]
     },
     "metadata": {},
     "output_type": "display_data"
    },
    {
     "data": {
      "text/plain": [
       "'Completed'"
      ]
     },
     "metadata": {},
     "output_type": "display_data"
    },
    {
     "data": {
      "text/plain": [
       "5"
      ]
     },
     "metadata": {},
     "output_type": "display_data"
    },
    {
     "data": {
      "text/plain": [
       "'Completed'"
      ]
     },
     "metadata": {},
     "output_type": "display_data"
    },
    {
     "data": {
      "text/plain": [
       "6"
      ]
     },
     "metadata": {},
     "output_type": "display_data"
    },
    {
     "data": {
      "text/plain": [
       "'Completed'"
      ]
     },
     "metadata": {},
     "output_type": "display_data"
    },
    {
     "data": {
      "text/plain": [
       "7"
      ]
     },
     "metadata": {},
     "output_type": "display_data"
    },
    {
     "data": {
      "text/plain": [
       "'Completed'"
      ]
     },
     "metadata": {},
     "output_type": "display_data"
    },
    {
     "data": {
      "text/plain": [
       "8"
      ]
     },
     "metadata": {},
     "output_type": "display_data"
    },
    {
     "data": {
      "text/plain": [
       "'Completed'"
      ]
     },
     "metadata": {},
     "output_type": "display_data"
    },
    {
     "data": {
      "text/plain": [
       "9"
      ]
     },
     "metadata": {},
     "output_type": "display_data"
    },
    {
     "data": {
      "text/plain": [
       "'Completed'"
      ]
     },
     "metadata": {},
     "output_type": "display_data"
    },
    {
     "data": {
      "text/plain": [
       "10"
      ]
     },
     "metadata": {},
     "output_type": "display_data"
    },
    {
     "data": {
      "text/plain": [
       "'Completed'"
      ]
     },
     "metadata": {},
     "output_type": "display_data"
    },
    {
     "data": {
      "text/plain": [
       "11"
      ]
     },
     "metadata": {},
     "output_type": "display_data"
    },
    {
     "data": {
      "text/plain": [
       "'Completed'"
      ]
     },
     "metadata": {},
     "output_type": "display_data"
    },
    {
     "data": {
      "text/plain": [
       "12"
      ]
     },
     "metadata": {},
     "output_type": "display_data"
    },
    {
     "data": {
      "text/plain": [
       "'Completed'"
      ]
     },
     "metadata": {},
     "output_type": "display_data"
    },
    {
     "data": {
      "text/plain": [
       "13"
      ]
     },
     "metadata": {},
     "output_type": "display_data"
    },
    {
     "data": {
      "text/plain": [
       "'Completed'"
      ]
     },
     "metadata": {},
     "output_type": "display_data"
    },
    {
     "data": {
      "text/plain": [
       "14"
      ]
     },
     "metadata": {},
     "output_type": "display_data"
    },
    {
     "data": {
      "text/plain": [
       "'Completed'"
      ]
     },
     "metadata": {},
     "output_type": "display_data"
    },
    {
     "data": {
      "text/plain": [
       "15"
      ]
     },
     "metadata": {},
     "output_type": "display_data"
    },
    {
     "data": {
      "text/plain": [
       "'Completed'"
      ]
     },
     "metadata": {},
     "output_type": "display_data"
    },
    {
     "data": {
      "text/plain": [
       "16"
      ]
     },
     "metadata": {},
     "output_type": "display_data"
    },
    {
     "data": {
      "text/plain": [
       "'Completed'"
      ]
     },
     "metadata": {},
     "output_type": "display_data"
    },
    {
     "data": {
      "text/plain": [
       "17"
      ]
     },
     "metadata": {},
     "output_type": "display_data"
    },
    {
     "data": {
      "text/plain": [
       "'Completed'"
      ]
     },
     "metadata": {},
     "output_type": "display_data"
    },
    {
     "data": {
      "text/plain": [
       "18"
      ]
     },
     "metadata": {},
     "output_type": "display_data"
    },
    {
     "data": {
      "text/plain": [
       "'Completed'"
      ]
     },
     "metadata": {},
     "output_type": "display_data"
    },
    {
     "data": {
      "text/plain": [
       "19"
      ]
     },
     "metadata": {},
     "output_type": "display_data"
    },
    {
     "data": {
      "text/plain": [
       "'Completed'"
      ]
     },
     "metadata": {},
     "output_type": "display_data"
    },
    {
     "data": {
      "text/plain": [
       "20"
      ]
     },
     "metadata": {},
     "output_type": "display_data"
    },
    {
     "data": {
      "text/plain": [
       "'Completed'"
      ]
     },
     "metadata": {},
     "output_type": "display_data"
    },
    {
     "data": {
      "text/plain": [
       "21"
      ]
     },
     "metadata": {},
     "output_type": "display_data"
    },
    {
     "data": {
      "text/plain": [
       "'Completed'"
      ]
     },
     "metadata": {},
     "output_type": "display_data"
    },
    {
     "data": {
      "text/plain": [
       "22"
      ]
     },
     "metadata": {},
     "output_type": "display_data"
    },
    {
     "data": {
      "text/plain": [
       "'Completed'"
      ]
     },
     "metadata": {},
     "output_type": "display_data"
    },
    {
     "data": {
      "text/plain": [
       "23"
      ]
     },
     "metadata": {},
     "output_type": "display_data"
    },
    {
     "data": {
      "text/plain": [
       "'Completed'"
      ]
     },
     "metadata": {},
     "output_type": "display_data"
    },
    {
     "data": {
      "text/plain": [
       "24"
      ]
     },
     "metadata": {},
     "output_type": "display_data"
    },
    {
     "data": {
      "text/plain": [
       "'Completed'"
      ]
     },
     "metadata": {},
     "output_type": "display_data"
    },
    {
     "data": {
      "text/plain": [
       "25"
      ]
     },
     "metadata": {},
     "output_type": "display_data"
    },
    {
     "data": {
      "text/plain": [
       "'Completed'"
      ]
     },
     "metadata": {},
     "output_type": "display_data"
    },
    {
     "data": {
      "text/plain": [
       "26"
      ]
     },
     "metadata": {},
     "output_type": "display_data"
    },
    {
     "data": {
      "text/plain": [
       "'Completed'"
      ]
     },
     "metadata": {},
     "output_type": "display_data"
    },
    {
     "data": {
      "text/plain": [
       "27"
      ]
     },
     "metadata": {},
     "output_type": "display_data"
    },
    {
     "data": {
      "text/plain": [
       "'Completed'"
      ]
     },
     "metadata": {},
     "output_type": "display_data"
    },
    {
     "data": {
      "text/plain": [
       "28"
      ]
     },
     "metadata": {},
     "output_type": "display_data"
    },
    {
     "data": {
      "text/plain": [
       "'Completed'"
      ]
     },
     "metadata": {},
     "output_type": "display_data"
    },
    {
     "data": {
      "text/plain": [
       "29"
      ]
     },
     "metadata": {},
     "output_type": "display_data"
    },
    {
     "data": {
      "text/plain": [
       "'Completed'"
      ]
     },
     "metadata": {},
     "output_type": "display_data"
    },
    {
     "data": {
      "text/plain": [
       "30"
      ]
     },
     "metadata": {},
     "output_type": "display_data"
    },
    {
     "data": {
      "text/plain": [
       "'Current key in progress'"
      ]
     },
     "metadata": {},
     "output_type": "display_data"
    },
    {
     "data": {
      "text/plain": [
       "'sample_numbers_list_1.4_to_1.5'"
      ]
     },
     "metadata": {},
     "output_type": "display_data"
    },
    {
     "data": {
      "text/plain": [
       "411"
      ]
     },
     "metadata": {},
     "output_type": "display_data"
    },
    {
     "data": {
      "text/html": [
       "<div>\n",
       "<style scoped>\n",
       "    .dataframe tbody tr th:only-of-type {\n",
       "        vertical-align: middle;\n",
       "    }\n",
       "\n",
       "    .dataframe tbody tr th {\n",
       "        vertical-align: top;\n",
       "    }\n",
       "\n",
       "    .dataframe thead th {\n",
       "        text-align: right;\n",
       "    }\n",
       "</style>\n",
       "<table border=\"1\" class=\"dataframe\">\n",
       "  <thead>\n",
       "    <tr style=\"text-align: right;\">\n",
       "      <th></th>\n",
       "      <th>Subject</th>\n",
       "      <th>HR</th>\n",
       "      <th>MAP</th>\n",
       "      <th>DBP</th>\n",
       "      <th>SBP</th>\n",
       "      <th>Resp</th>\n",
       "    </tr>\n",
       "  </thead>\n",
       "  <tbody>\n",
       "    <tr>\n",
       "      <th>0</th>\n",
       "      <td>11</td>\n",
       "      <td>90.0</td>\n",
       "      <td>70.0</td>\n",
       "      <td>53.0</td>\n",
       "      <td>111.0</td>\n",
       "      <td>24.0</td>\n",
       "    </tr>\n",
       "    <tr>\n",
       "      <th>1</th>\n",
       "      <td>11</td>\n",
       "      <td>90.0</td>\n",
       "      <td>70.0</td>\n",
       "      <td>53.0</td>\n",
       "      <td>111.0</td>\n",
       "      <td>24.0</td>\n",
       "    </tr>\n",
       "    <tr>\n",
       "      <th>2</th>\n",
       "      <td>11</td>\n",
       "      <td>90.0</td>\n",
       "      <td>80.0</td>\n",
       "      <td>60.0</td>\n",
       "      <td>121.0</td>\n",
       "      <td>24.0</td>\n",
       "    </tr>\n",
       "    <tr>\n",
       "      <th>3</th>\n",
       "      <td>11</td>\n",
       "      <td>81.0</td>\n",
       "      <td>67.0</td>\n",
       "      <td>52.0</td>\n",
       "      <td>99.0</td>\n",
       "      <td>12.0</td>\n",
       "    </tr>\n",
       "    <tr>\n",
       "      <th>4</th>\n",
       "      <td>11</td>\n",
       "      <td>83.0</td>\n",
       "      <td>66.0</td>\n",
       "      <td>51.0</td>\n",
       "      <td>99.0</td>\n",
       "      <td>14.0</td>\n",
       "    </tr>\n",
       "    <tr>\n",
       "      <th>...</th>\n",
       "      <td>...</td>\n",
       "      <td>...</td>\n",
       "      <td>...</td>\n",
       "      <td>...</td>\n",
       "      <td>...</td>\n",
       "      <td>...</td>\n",
       "    </tr>\n",
       "    <tr>\n",
       "      <th>52</th>\n",
       "      <td>506</td>\n",
       "      <td>104.0</td>\n",
       "      <td>89.0</td>\n",
       "      <td>69.0</td>\n",
       "      <td>136.0</td>\n",
       "      <td>28.0</td>\n",
       "    </tr>\n",
       "    <tr>\n",
       "      <th>53</th>\n",
       "      <td>506</td>\n",
       "      <td>100.0</td>\n",
       "      <td>83.0</td>\n",
       "      <td>65.0</td>\n",
       "      <td>121.0</td>\n",
       "      <td>19.0</td>\n",
       "    </tr>\n",
       "    <tr>\n",
       "      <th>54</th>\n",
       "      <td>506</td>\n",
       "      <td>91.0</td>\n",
       "      <td>74.0</td>\n",
       "      <td>59.0</td>\n",
       "      <td>102.0</td>\n",
       "      <td>14.0</td>\n",
       "    </tr>\n",
       "    <tr>\n",
       "      <th>55</th>\n",
       "      <td>506</td>\n",
       "      <td>90.0</td>\n",
       "      <td>66.0</td>\n",
       "      <td>61.0</td>\n",
       "      <td>101.0</td>\n",
       "      <td>16.0</td>\n",
       "    </tr>\n",
       "    <tr>\n",
       "      <th>56</th>\n",
       "      <td>506</td>\n",
       "      <td>90.0</td>\n",
       "      <td>72.0</td>\n",
       "      <td>56.0</td>\n",
       "      <td>101.0</td>\n",
       "      <td>20.0</td>\n",
       "    </tr>\n",
       "  </tbody>\n",
       "</table>\n",
       "<p>9352 rows × 6 columns</p>\n",
       "</div>"
      ],
      "text/plain": [
       "    Subject     HR   MAP   DBP    SBP  Resp\n",
       "0        11   90.0  70.0  53.0  111.0  24.0\n",
       "1        11   90.0  70.0  53.0  111.0  24.0\n",
       "2        11   90.0  80.0  60.0  121.0  24.0\n",
       "3        11   81.0  67.0  52.0   99.0  12.0\n",
       "4        11   83.0  66.0  51.0   99.0  14.0\n",
       "..      ...    ...   ...   ...    ...   ...\n",
       "52      506  104.0  89.0  69.0  136.0  28.0\n",
       "53      506  100.0  83.0  65.0  121.0  19.0\n",
       "54      506   91.0  74.0  59.0  102.0  14.0\n",
       "55      506   90.0  66.0  61.0  101.0  16.0\n",
       "56      506   90.0  72.0  56.0  101.0  20.0\n",
       "\n",
       "[9352 rows x 6 columns]"
      ]
     },
     "metadata": {},
     "output_type": "display_data"
    },
    {
     "data": {
      "text/plain": [
       "'Avg length:'"
      ]
     },
     "metadata": {},
     "output_type": "display_data"
    },
    {
     "data": {
      "text/plain": [
       "108.59428571428572"
      ]
     },
     "metadata": {},
     "output_type": "display_data"
    },
    {
     "data": {
      "text/plain": [
       "6"
      ]
     },
     "metadata": {},
     "output_type": "display_data"
    },
    {
     "data": {
      "text/plain": [
       "'X_1:'"
      ]
     },
     "metadata": {},
     "output_type": "display_data"
    },
    {
     "data": {
      "text/html": [
       "<div>\n",
       "<style scoped>\n",
       "    .dataframe tbody tr th:only-of-type {\n",
       "        vertical-align: middle;\n",
       "    }\n",
       "\n",
       "    .dataframe tbody tr th {\n",
       "        vertical-align: top;\n",
       "    }\n",
       "\n",
       "    .dataframe thead th {\n",
       "        text-align: right;\n",
       "    }\n",
       "</style>\n",
       "<table border=\"1\" class=\"dataframe\">\n",
       "  <thead>\n",
       "    <tr style=\"text-align: right;\">\n",
       "      <th></th>\n",
       "      <th>1</th>\n",
       "      <th>2</th>\n",
       "      <th>3</th>\n",
       "      <th>4</th>\n",
       "      <th>5</th>\n",
       "    </tr>\n",
       "  </thead>\n",
       "  <tbody>\n",
       "    <tr>\n",
       "      <th>0</th>\n",
       "      <td>0      1.340723\n",
       "1      1.340723\n",
       "2      1.34072...</td>\n",
       "      <td>0     -0.778554\n",
       "1     -0.778554\n",
       "2      0.82151...</td>\n",
       "      <td>0     -0.107189\n",
       "1     -0.107189\n",
       "2      1.97062...</td>\n",
       "      <td>0     -0.903078\n",
       "1     -0.903078\n",
       "2     -0.10722...</td>\n",
       "      <td>0      1.674277\n",
       "1      1.674277\n",
       "2      1.67427...</td>\n",
       "    </tr>\n",
       "    <tr>\n",
       "      <th>1</th>\n",
       "      <td>0      0.004936\n",
       "1      0.004936\n",
       "2     -0.17275...</td>\n",
       "      <td>0     -0.398640\n",
       "1     -0.398640\n",
       "2     -0.57400...</td>\n",
       "      <td>0      0.926671\n",
       "1      0.926671\n",
       "2      0.44377...</td>\n",
       "      <td>0     -1.215042\n",
       "1     -1.215042\n",
       "2     -1.58124...</td>\n",
       "      <td>0     -0.802881\n",
       "1     -0.802881\n",
       "2     -1.06886...</td>\n",
       "    </tr>\n",
       "    <tr>\n",
       "      <th>2</th>\n",
       "      <td>0     -0.748380\n",
       "1     -0.748380\n",
       "2     -1.25784...</td>\n",
       "      <td>0     -1.904063\n",
       "1     -1.904063\n",
       "2      0.13196...</td>\n",
       "      <td>0     -1.310589\n",
       "1     -1.310589\n",
       "2      0.13027...</td>\n",
       "      <td>0     -1.252654\n",
       "1     -1.252654\n",
       "2      0.98884...</td>\n",
       "      <td>0      0.638863\n",
       "1      0.638863\n",
       "2     -0.40025...</td>\n",
       "    </tr>\n",
       "    <tr>\n",
       "      <th>3</th>\n",
       "      <td>0     -1.129663\n",
       "1     -1.129663\n",
       "2     -1.50219...</td>\n",
       "      <td>0     -2.085958\n",
       "1     -2.085958\n",
       "2     -2.48453...</td>\n",
       "      <td>0     -2.047608\n",
       "1     -2.047608\n",
       "2     -2.53958...</td>\n",
       "      <td>0     -0.139525\n",
       "1     -0.139525\n",
       "2     -0.42746...</td>\n",
       "      <td>0     -2.240410\n",
       "1     -2.240410\n",
       "2     -0.95165...</td>\n",
       "    </tr>\n",
       "    <tr>\n",
       "      <th>4</th>\n",
       "      <td>0     -0.459793\n",
       "1     -0.357141\n",
       "2     -0.53678...</td>\n",
       "      <td>0      0.002752\n",
       "1      0.537660\n",
       "2      0.59709...</td>\n",
       "      <td>0      0.639073\n",
       "1      0.639073\n",
       "2      0.79330...</td>\n",
       "      <td>0     -0.650055\n",
       "1     -0.308420\n",
       "2      0.03321...</td>\n",
       "      <td>0      0.143012\n",
       "1      0.675609\n",
       "2      0.94190...</td>\n",
       "    </tr>\n",
       "    <tr>\n",
       "      <th>...</th>\n",
       "      <td>...</td>\n",
       "      <td>...</td>\n",
       "      <td>...</td>\n",
       "      <td>...</td>\n",
       "      <td>...</td>\n",
       "    </tr>\n",
       "    <tr>\n",
       "      <th>345</th>\n",
       "      <td>0      0.650005\n",
       "1      0.589643\n",
       "2     -0.43650...</td>\n",
       "      <td>0      0.608622\n",
       "1      1.589685\n",
       "2      1.41131...</td>\n",
       "      <td>0      3.279536\n",
       "1      3.279536\n",
       "2      1.58788...</td>\n",
       "      <td>0      0.691488\n",
       "1      0.691488\n",
       "2     -0.02521...</td>\n",
       "      <td>0     -0.462499\n",
       "1      0.541519\n",
       "2     -0.46249...</td>\n",
       "    </tr>\n",
       "    <tr>\n",
       "      <th>346</th>\n",
       "      <td>0      0.047154\n",
       "1      0.047154\n",
       "2      0.74614...</td>\n",
       "      <td>0     -0.057694\n",
       "1     -0.057694\n",
       "2     -0.05769...</td>\n",
       "      <td>0      0.213708\n",
       "1      0.213708\n",
       "2     -0.04931...</td>\n",
       "      <td>0     -0.447369\n",
       "1     -0.447369\n",
       "2     -0.13157...</td>\n",
       "      <td>0     -0.476827\n",
       "1     -0.476827\n",
       "2     -1.35618...</td>\n",
       "    </tr>\n",
       "    <tr>\n",
       "      <th>347</th>\n",
       "      <td>0     -0.843348\n",
       "1     -0.698360\n",
       "2     -0.37938...</td>\n",
       "      <td>0     -0.717568\n",
       "1     -0.668112\n",
       "2     -0.66811...</td>\n",
       "      <td>0     -0.930073\n",
       "1     -0.487014\n",
       "2     -0.55030...</td>\n",
       "      <td>0     -0.418345\n",
       "1     -0.586556\n",
       "2     -0.65384...</td>\n",
       "      <td>0     -2.073631\n",
       "1     -2.073631\n",
       "2     -2.07363...</td>\n",
       "    </tr>\n",
       "    <tr>\n",
       "      <th>348</th>\n",
       "      <td>0      2.245241\n",
       "1      0.922891\n",
       "2      1.58406...</td>\n",
       "      <td>0     -0.732514\n",
       "1     -1.682273\n",
       "2     -1.43603...</td>\n",
       "      <td>0     -1.124194\n",
       "1     -2.176147\n",
       "2     -1.29952...</td>\n",
       "      <td>0      0.192826\n",
       "1     -2.343582\n",
       "2     -2.14333...</td>\n",
       "      <td>0     -0.059245\n",
       "1     -0.059245\n",
       "2      0.18685...</td>\n",
       "    </tr>\n",
       "    <tr>\n",
       "      <th>349</th>\n",
       "      <td>0      0.571725\n",
       "1      0.571725\n",
       "2     -0.22564...</td>\n",
       "      <td>0     -0.799545\n",
       "1     -0.799545\n",
       "2     -2.49661...</td>\n",
       "      <td>0     -0.799549\n",
       "1     -0.799549\n",
       "2     -2.72855...</td>\n",
       "      <td>0      0.793528\n",
       "1      0.793528\n",
       "2     -1.45869...</td>\n",
       "      <td>0      0.944124\n",
       "1      0.944124\n",
       "2      0.77217...</td>\n",
       "    </tr>\n",
       "  </tbody>\n",
       "</table>\n",
       "<p>350 rows × 5 columns</p>\n",
       "</div>"
      ],
      "text/plain": [
       "                                                     1  \\\n",
       "0    0      1.340723\n",
       "1      1.340723\n",
       "2      1.34072...   \n",
       "1    0      0.004936\n",
       "1      0.004936\n",
       "2     -0.17275...   \n",
       "2    0     -0.748380\n",
       "1     -0.748380\n",
       "2     -1.25784...   \n",
       "3    0     -1.129663\n",
       "1     -1.129663\n",
       "2     -1.50219...   \n",
       "4    0     -0.459793\n",
       "1     -0.357141\n",
       "2     -0.53678...   \n",
       "..                                                 ...   \n",
       "345  0      0.650005\n",
       "1      0.589643\n",
       "2     -0.43650...   \n",
       "346  0      0.047154\n",
       "1      0.047154\n",
       "2      0.74614...   \n",
       "347  0     -0.843348\n",
       "1     -0.698360\n",
       "2     -0.37938...   \n",
       "348  0      2.245241\n",
       "1      0.922891\n",
       "2      1.58406...   \n",
       "349  0      0.571725\n",
       "1      0.571725\n",
       "2     -0.22564...   \n",
       "\n",
       "                                                     2  \\\n",
       "0    0     -0.778554\n",
       "1     -0.778554\n",
       "2      0.82151...   \n",
       "1    0     -0.398640\n",
       "1     -0.398640\n",
       "2     -0.57400...   \n",
       "2    0     -1.904063\n",
       "1     -1.904063\n",
       "2      0.13196...   \n",
       "3    0     -2.085958\n",
       "1     -2.085958\n",
       "2     -2.48453...   \n",
       "4    0      0.002752\n",
       "1      0.537660\n",
       "2      0.59709...   \n",
       "..                                                 ...   \n",
       "345  0      0.608622\n",
       "1      1.589685\n",
       "2      1.41131...   \n",
       "346  0     -0.057694\n",
       "1     -0.057694\n",
       "2     -0.05769...   \n",
       "347  0     -0.717568\n",
       "1     -0.668112\n",
       "2     -0.66811...   \n",
       "348  0     -0.732514\n",
       "1     -1.682273\n",
       "2     -1.43603...   \n",
       "349  0     -0.799545\n",
       "1     -0.799545\n",
       "2     -2.49661...   \n",
       "\n",
       "                                                     3  \\\n",
       "0    0     -0.107189\n",
       "1     -0.107189\n",
       "2      1.97062...   \n",
       "1    0      0.926671\n",
       "1      0.926671\n",
       "2      0.44377...   \n",
       "2    0     -1.310589\n",
       "1     -1.310589\n",
       "2      0.13027...   \n",
       "3    0     -2.047608\n",
       "1     -2.047608\n",
       "2     -2.53958...   \n",
       "4    0      0.639073\n",
       "1      0.639073\n",
       "2      0.79330...   \n",
       "..                                                 ...   \n",
       "345  0      3.279536\n",
       "1      3.279536\n",
       "2      1.58788...   \n",
       "346  0      0.213708\n",
       "1      0.213708\n",
       "2     -0.04931...   \n",
       "347  0     -0.930073\n",
       "1     -0.487014\n",
       "2     -0.55030...   \n",
       "348  0     -1.124194\n",
       "1     -2.176147\n",
       "2     -1.29952...   \n",
       "349  0     -0.799549\n",
       "1     -0.799549\n",
       "2     -2.72855...   \n",
       "\n",
       "                                                     4  \\\n",
       "0    0     -0.903078\n",
       "1     -0.903078\n",
       "2     -0.10722...   \n",
       "1    0     -1.215042\n",
       "1     -1.215042\n",
       "2     -1.58124...   \n",
       "2    0     -1.252654\n",
       "1     -1.252654\n",
       "2      0.98884...   \n",
       "3    0     -0.139525\n",
       "1     -0.139525\n",
       "2     -0.42746...   \n",
       "4    0     -0.650055\n",
       "1     -0.308420\n",
       "2      0.03321...   \n",
       "..                                                 ...   \n",
       "345  0      0.691488\n",
       "1      0.691488\n",
       "2     -0.02521...   \n",
       "346  0     -0.447369\n",
       "1     -0.447369\n",
       "2     -0.13157...   \n",
       "347  0     -0.418345\n",
       "1     -0.586556\n",
       "2     -0.65384...   \n",
       "348  0      0.192826\n",
       "1     -2.343582\n",
       "2     -2.14333...   \n",
       "349  0      0.793528\n",
       "1      0.793528\n",
       "2     -1.45869...   \n",
       "\n",
       "                                                     5  \n",
       "0    0      1.674277\n",
       "1      1.674277\n",
       "2      1.67427...  \n",
       "1    0     -0.802881\n",
       "1     -0.802881\n",
       "2     -1.06886...  \n",
       "2    0      0.638863\n",
       "1      0.638863\n",
       "2     -0.40025...  \n",
       "3    0     -2.240410\n",
       "1     -2.240410\n",
       "2     -0.95165...  \n",
       "4    0      0.143012\n",
       "1      0.675609\n",
       "2      0.94190...  \n",
       "..                                                 ...  \n",
       "345  0     -0.462499\n",
       "1      0.541519\n",
       "2     -0.46249...  \n",
       "346  0     -0.476827\n",
       "1     -0.476827\n",
       "2     -1.35618...  \n",
       "347  0     -2.073631\n",
       "1     -2.073631\n",
       "2     -2.07363...  \n",
       "348  0     -0.059245\n",
       "1     -0.059245\n",
       "2      0.18685...  \n",
       "349  0      0.944124\n",
       "1      0.944124\n",
       "2      0.77217...  \n",
       "\n",
       "[350 rows x 5 columns]"
      ]
     },
     "metadata": {},
     "output_type": "display_data"
    },
    {
     "data": {
      "text/plain": [
       "'Completed'"
      ]
     },
     "metadata": {},
     "output_type": "display_data"
    },
    {
     "data": {
      "text/plain": [
       "1"
      ]
     },
     "metadata": {},
     "output_type": "display_data"
    },
    {
     "data": {
      "text/plain": [
       "'Completed'"
      ]
     },
     "metadata": {},
     "output_type": "display_data"
    },
    {
     "data": {
      "text/plain": [
       "2"
      ]
     },
     "metadata": {},
     "output_type": "display_data"
    },
    {
     "data": {
      "text/plain": [
       "'Completed'"
      ]
     },
     "metadata": {},
     "output_type": "display_data"
    },
    {
     "data": {
      "text/plain": [
       "3"
      ]
     },
     "metadata": {},
     "output_type": "display_data"
    },
    {
     "data": {
      "text/plain": [
       "'Completed'"
      ]
     },
     "metadata": {},
     "output_type": "display_data"
    },
    {
     "data": {
      "text/plain": [
       "4"
      ]
     },
     "metadata": {},
     "output_type": "display_data"
    },
    {
     "data": {
      "text/plain": [
       "'Completed'"
      ]
     },
     "metadata": {},
     "output_type": "display_data"
    },
    {
     "data": {
      "text/plain": [
       "5"
      ]
     },
     "metadata": {},
     "output_type": "display_data"
    },
    {
     "data": {
      "text/plain": [
       "'Completed'"
      ]
     },
     "metadata": {},
     "output_type": "display_data"
    },
    {
     "data": {
      "text/plain": [
       "6"
      ]
     },
     "metadata": {},
     "output_type": "display_data"
    },
    {
     "data": {
      "text/plain": [
       "'Completed'"
      ]
     },
     "metadata": {},
     "output_type": "display_data"
    },
    {
     "data": {
      "text/plain": [
       "7"
      ]
     },
     "metadata": {},
     "output_type": "display_data"
    },
    {
     "data": {
      "text/plain": [
       "'Completed'"
      ]
     },
     "metadata": {},
     "output_type": "display_data"
    },
    {
     "data": {
      "text/plain": [
       "8"
      ]
     },
     "metadata": {},
     "output_type": "display_data"
    },
    {
     "data": {
      "text/plain": [
       "'Completed'"
      ]
     },
     "metadata": {},
     "output_type": "display_data"
    },
    {
     "data": {
      "text/plain": [
       "9"
      ]
     },
     "metadata": {},
     "output_type": "display_data"
    },
    {
     "data": {
      "text/plain": [
       "'Completed'"
      ]
     },
     "metadata": {},
     "output_type": "display_data"
    },
    {
     "data": {
      "text/plain": [
       "10"
      ]
     },
     "metadata": {},
     "output_type": "display_data"
    },
    {
     "data": {
      "text/plain": [
       "'Completed'"
      ]
     },
     "metadata": {},
     "output_type": "display_data"
    },
    {
     "data": {
      "text/plain": [
       "11"
      ]
     },
     "metadata": {},
     "output_type": "display_data"
    },
    {
     "data": {
      "text/plain": [
       "'Completed'"
      ]
     },
     "metadata": {},
     "output_type": "display_data"
    },
    {
     "data": {
      "text/plain": [
       "12"
      ]
     },
     "metadata": {},
     "output_type": "display_data"
    },
    {
     "data": {
      "text/plain": [
       "'Completed'"
      ]
     },
     "metadata": {},
     "output_type": "display_data"
    },
    {
     "data": {
      "text/plain": [
       "13"
      ]
     },
     "metadata": {},
     "output_type": "display_data"
    },
    {
     "data": {
      "text/plain": [
       "'Completed'"
      ]
     },
     "metadata": {},
     "output_type": "display_data"
    },
    {
     "data": {
      "text/plain": [
       "14"
      ]
     },
     "metadata": {},
     "output_type": "display_data"
    },
    {
     "data": {
      "text/plain": [
       "'Completed'"
      ]
     },
     "metadata": {},
     "output_type": "display_data"
    },
    {
     "data": {
      "text/plain": [
       "15"
      ]
     },
     "metadata": {},
     "output_type": "display_data"
    },
    {
     "data": {
      "text/plain": [
       "'Completed'"
      ]
     },
     "metadata": {},
     "output_type": "display_data"
    },
    {
     "data": {
      "text/plain": [
       "16"
      ]
     },
     "metadata": {},
     "output_type": "display_data"
    },
    {
     "data": {
      "text/plain": [
       "'Completed'"
      ]
     },
     "metadata": {},
     "output_type": "display_data"
    },
    {
     "data": {
      "text/plain": [
       "17"
      ]
     },
     "metadata": {},
     "output_type": "display_data"
    },
    {
     "data": {
      "text/plain": [
       "'Completed'"
      ]
     },
     "metadata": {},
     "output_type": "display_data"
    },
    {
     "data": {
      "text/plain": [
       "18"
      ]
     },
     "metadata": {},
     "output_type": "display_data"
    },
    {
     "data": {
      "text/plain": [
       "'Completed'"
      ]
     },
     "metadata": {},
     "output_type": "display_data"
    },
    {
     "data": {
      "text/plain": [
       "19"
      ]
     },
     "metadata": {},
     "output_type": "display_data"
    },
    {
     "data": {
      "text/plain": [
       "'Completed'"
      ]
     },
     "metadata": {},
     "output_type": "display_data"
    },
    {
     "data": {
      "text/plain": [
       "20"
      ]
     },
     "metadata": {},
     "output_type": "display_data"
    },
    {
     "data": {
      "text/plain": [
       "'Completed'"
      ]
     },
     "metadata": {},
     "output_type": "display_data"
    },
    {
     "data": {
      "text/plain": [
       "21"
      ]
     },
     "metadata": {},
     "output_type": "display_data"
    },
    {
     "data": {
      "text/plain": [
       "'Completed'"
      ]
     },
     "metadata": {},
     "output_type": "display_data"
    },
    {
     "data": {
      "text/plain": [
       "22"
      ]
     },
     "metadata": {},
     "output_type": "display_data"
    },
    {
     "data": {
      "text/plain": [
       "'Completed'"
      ]
     },
     "metadata": {},
     "output_type": "display_data"
    },
    {
     "data": {
      "text/plain": [
       "23"
      ]
     },
     "metadata": {},
     "output_type": "display_data"
    },
    {
     "data": {
      "text/plain": [
       "'Completed'"
      ]
     },
     "metadata": {},
     "output_type": "display_data"
    },
    {
     "data": {
      "text/plain": [
       "24"
      ]
     },
     "metadata": {},
     "output_type": "display_data"
    },
    {
     "data": {
      "text/plain": [
       "'Completed'"
      ]
     },
     "metadata": {},
     "output_type": "display_data"
    },
    {
     "data": {
      "text/plain": [
       "25"
      ]
     },
     "metadata": {},
     "output_type": "display_data"
    },
    {
     "data": {
      "text/plain": [
       "'Completed'"
      ]
     },
     "metadata": {},
     "output_type": "display_data"
    },
    {
     "data": {
      "text/plain": [
       "26"
      ]
     },
     "metadata": {},
     "output_type": "display_data"
    },
    {
     "data": {
      "text/plain": [
       "'Completed'"
      ]
     },
     "metadata": {},
     "output_type": "display_data"
    },
    {
     "data": {
      "text/plain": [
       "27"
      ]
     },
     "metadata": {},
     "output_type": "display_data"
    },
    {
     "data": {
      "text/plain": [
       "'Completed'"
      ]
     },
     "metadata": {},
     "output_type": "display_data"
    },
    {
     "data": {
      "text/plain": [
       "28"
      ]
     },
     "metadata": {},
     "output_type": "display_data"
    },
    {
     "data": {
      "text/plain": [
       "'Completed'"
      ]
     },
     "metadata": {},
     "output_type": "display_data"
    },
    {
     "data": {
      "text/plain": [
       "29"
      ]
     },
     "metadata": {},
     "output_type": "display_data"
    },
    {
     "data": {
      "text/plain": [
       "'Completed'"
      ]
     },
     "metadata": {},
     "output_type": "display_data"
    },
    {
     "data": {
      "text/plain": [
       "30"
      ]
     },
     "metadata": {},
     "output_type": "display_data"
    },
    {
     "data": {
      "text/plain": [
       "'Current key in progress'"
      ]
     },
     "metadata": {},
     "output_type": "display_data"
    },
    {
     "data": {
      "text/plain": [
       "'sample_numbers_list_1.5_to_1.6'"
      ]
     },
     "metadata": {},
     "output_type": "display_data"
    },
    {
     "data": {
      "text/plain": [
       "424"
      ]
     },
     "metadata": {},
     "output_type": "display_data"
    },
    {
     "data": {
      "text/html": [
       "<div>\n",
       "<style scoped>\n",
       "    .dataframe tbody tr th:only-of-type {\n",
       "        vertical-align: middle;\n",
       "    }\n",
       "\n",
       "    .dataframe tbody tr th {\n",
       "        vertical-align: top;\n",
       "    }\n",
       "\n",
       "    .dataframe thead th {\n",
       "        text-align: right;\n",
       "    }\n",
       "</style>\n",
       "<table border=\"1\" class=\"dataframe\">\n",
       "  <thead>\n",
       "    <tr style=\"text-align: right;\">\n",
       "      <th></th>\n",
       "      <th>Subject</th>\n",
       "      <th>HR</th>\n",
       "      <th>MAP</th>\n",
       "      <th>DBP</th>\n",
       "      <th>SBP</th>\n",
       "      <th>Resp</th>\n",
       "    </tr>\n",
       "  </thead>\n",
       "  <tbody>\n",
       "    <tr>\n",
       "      <th>0</th>\n",
       "      <td>2</td>\n",
       "      <td>87.0</td>\n",
       "      <td>78.50</td>\n",
       "      <td>55.5</td>\n",
       "      <td>109.50</td>\n",
       "      <td>18.5</td>\n",
       "    </tr>\n",
       "    <tr>\n",
       "      <th>1</th>\n",
       "      <td>2</td>\n",
       "      <td>84.0</td>\n",
       "      <td>70.50</td>\n",
       "      <td>54.5</td>\n",
       "      <td>101.00</td>\n",
       "      <td>18.0</td>\n",
       "    </tr>\n",
       "    <tr>\n",
       "      <th>2</th>\n",
       "      <td>2</td>\n",
       "      <td>84.0</td>\n",
       "      <td>86.00</td>\n",
       "      <td>73.0</td>\n",
       "      <td>106.00</td>\n",
       "      <td>13.0</td>\n",
       "    </tr>\n",
       "    <tr>\n",
       "      <th>3</th>\n",
       "      <td>2</td>\n",
       "      <td>87.5</td>\n",
       "      <td>89.00</td>\n",
       "      <td>78.0</td>\n",
       "      <td>125.50</td>\n",
       "      <td>16.0</td>\n",
       "    </tr>\n",
       "    <tr>\n",
       "      <th>4</th>\n",
       "      <td>2</td>\n",
       "      <td>84.0</td>\n",
       "      <td>90.00</td>\n",
       "      <td>69.0</td>\n",
       "      <td>134.50</td>\n",
       "      <td>14.0</td>\n",
       "    </tr>\n",
       "    <tr>\n",
       "      <th>...</th>\n",
       "      <td>...</td>\n",
       "      <td>...</td>\n",
       "      <td>...</td>\n",
       "      <td>...</td>\n",
       "      <td>...</td>\n",
       "      <td>...</td>\n",
       "    </tr>\n",
       "    <tr>\n",
       "      <th>46</th>\n",
       "      <td>507</td>\n",
       "      <td>80.0</td>\n",
       "      <td>92.33</td>\n",
       "      <td>75.0</td>\n",
       "      <td>164.50</td>\n",
       "      <td>15.0</td>\n",
       "    </tr>\n",
       "    <tr>\n",
       "      <th>47</th>\n",
       "      <td>507</td>\n",
       "      <td>76.0</td>\n",
       "      <td>84.33</td>\n",
       "      <td>68.0</td>\n",
       "      <td>148.50</td>\n",
       "      <td>18.0</td>\n",
       "    </tr>\n",
       "    <tr>\n",
       "      <th>48</th>\n",
       "      <td>507</td>\n",
       "      <td>138.0</td>\n",
       "      <td>96.67</td>\n",
       "      <td>83.5</td>\n",
       "      <td>156.50</td>\n",
       "      <td>17.0</td>\n",
       "    </tr>\n",
       "    <tr>\n",
       "      <th>49</th>\n",
       "      <td>507</td>\n",
       "      <td>111.0</td>\n",
       "      <td>97.33</td>\n",
       "      <td>81.0</td>\n",
       "      <td>152.00</td>\n",
       "      <td>16.0</td>\n",
       "    </tr>\n",
       "    <tr>\n",
       "      <th>50</th>\n",
       "      <td>507</td>\n",
       "      <td>103.5</td>\n",
       "      <td>87.67</td>\n",
       "      <td>76.0</td>\n",
       "      <td>139.75</td>\n",
       "      <td>22.5</td>\n",
       "    </tr>\n",
       "  </tbody>\n",
       "</table>\n",
       "<p>9347 rows × 6 columns</p>\n",
       "</div>"
      ],
      "text/plain": [
       "    Subject     HR    MAP   DBP     SBP  Resp\n",
       "0         2   87.0  78.50  55.5  109.50  18.5\n",
       "1         2   84.0  70.50  54.5  101.00  18.0\n",
       "2         2   84.0  86.00  73.0  106.00  13.0\n",
       "3         2   87.5  89.00  78.0  125.50  16.0\n",
       "4         2   84.0  90.00  69.0  134.50  14.0\n",
       "..      ...    ...    ...   ...     ...   ...\n",
       "46      507   80.0  92.33  75.0  164.50  15.0\n",
       "47      507   76.0  84.33  68.0  148.50  18.0\n",
       "48      507  138.0  96.67  83.5  156.50  17.0\n",
       "49      507  111.0  97.33  81.0  152.00  16.0\n",
       "50      507  103.5  87.67  76.0  139.75  22.5\n",
       "\n",
       "[9347 rows x 6 columns]"
      ]
     },
     "metadata": {},
     "output_type": "display_data"
    },
    {
     "data": {
      "text/plain": [
       "'Avg length:'"
      ]
     },
     "metadata": {},
     "output_type": "display_data"
    },
    {
     "data": {
      "text/plain": [
       "108.59428571428572"
      ]
     },
     "metadata": {},
     "output_type": "display_data"
    },
    {
     "data": {
      "text/plain": [
       "6"
      ]
     },
     "metadata": {},
     "output_type": "display_data"
    },
    {
     "data": {
      "text/plain": [
       "'X_1:'"
      ]
     },
     "metadata": {},
     "output_type": "display_data"
    },
    {
     "data": {
      "text/html": [
       "<div>\n",
       "<style scoped>\n",
       "    .dataframe tbody tr th:only-of-type {\n",
       "        vertical-align: middle;\n",
       "    }\n",
       "\n",
       "    .dataframe tbody tr th {\n",
       "        vertical-align: top;\n",
       "    }\n",
       "\n",
       "    .dataframe thead th {\n",
       "        text-align: right;\n",
       "    }\n",
       "</style>\n",
       "<table border=\"1\" class=\"dataframe\">\n",
       "  <thead>\n",
       "    <tr style=\"text-align: right;\">\n",
       "      <th></th>\n",
       "      <th>1</th>\n",
       "      <th>2</th>\n",
       "      <th>3</th>\n",
       "      <th>4</th>\n",
       "      <th>5</th>\n",
       "    </tr>\n",
       "  </thead>\n",
       "  <tbody>\n",
       "    <tr>\n",
       "      <th>0</th>\n",
       "      <td>0      0.075737\n",
       "1     -0.374515\n",
       "2     -0.37451...</td>\n",
       "      <td>0      0.436101\n",
       "1     -1.113396\n",
       "2      1.88875...</td>\n",
       "      <td>0     -0.110645\n",
       "1     -0.303382\n",
       "2      3.26225...</td>\n",
       "      <td>0     -0.835629\n",
       "1     -1.907757\n",
       "2     -1.27709...</td>\n",
       "      <td>0     -0.043660\n",
       "1     -0.139890\n",
       "2     -1.10219...</td>\n",
       "    </tr>\n",
       "    <tr>\n",
       "      <th>1</th>\n",
       "      <td>0      1.340723\n",
       "1      1.340723\n",
       "2      1.34072...</td>\n",
       "      <td>0     -0.778554\n",
       "1     -0.778554\n",
       "2      0.82151...</td>\n",
       "      <td>0     -0.107189\n",
       "1     -0.107189\n",
       "2      1.97062...</td>\n",
       "      <td>0     -0.903078\n",
       "1     -0.903078\n",
       "2     -0.10722...</td>\n",
       "      <td>0      1.674277\n",
       "1      1.674277\n",
       "2      1.67427...</td>\n",
       "    </tr>\n",
       "    <tr>\n",
       "      <th>2</th>\n",
       "      <td>0      0.004936\n",
       "1      0.004936\n",
       "2     -0.17275...</td>\n",
       "      <td>0     -0.398640\n",
       "1     -0.398640\n",
       "2     -0.57400...</td>\n",
       "      <td>0      0.926671\n",
       "1      0.926671\n",
       "2      0.44377...</td>\n",
       "      <td>0     -1.215042\n",
       "1     -1.215042\n",
       "2     -1.58124...</td>\n",
       "      <td>0     -0.802881\n",
       "1     -0.802881\n",
       "2     -1.06886...</td>\n",
       "    </tr>\n",
       "    <tr>\n",
       "      <th>3</th>\n",
       "      <td>0     -0.748380\n",
       "1     -0.748380\n",
       "2     -1.25784...</td>\n",
       "      <td>0     -1.904063\n",
       "1     -1.904063\n",
       "2      0.13196...</td>\n",
       "      <td>0     -1.310589\n",
       "1     -1.310589\n",
       "2      0.13027...</td>\n",
       "      <td>0     -1.252654\n",
       "1     -1.252654\n",
       "2      0.98884...</td>\n",
       "      <td>0      0.638863\n",
       "1      0.638863\n",
       "2     -0.40025...</td>\n",
       "    </tr>\n",
       "    <tr>\n",
       "      <th>4</th>\n",
       "      <td>0     -1.129663\n",
       "1     -1.129663\n",
       "2     -1.50219...</td>\n",
       "      <td>0     -2.085958\n",
       "1     -2.085958\n",
       "2     -2.48453...</td>\n",
       "      <td>0     -2.047608\n",
       "1     -2.047608\n",
       "2     -2.53958...</td>\n",
       "      <td>0     -0.139525\n",
       "1     -0.139525\n",
       "2     -0.42746...</td>\n",
       "      <td>0     -2.240410\n",
       "1     -2.240410\n",
       "2     -0.95165...</td>\n",
       "    </tr>\n",
       "    <tr>\n",
       "      <th>...</th>\n",
       "      <td>...</td>\n",
       "      <td>...</td>\n",
       "      <td>...</td>\n",
       "      <td>...</td>\n",
       "      <td>...</td>\n",
       "    </tr>\n",
       "    <tr>\n",
       "      <th>345</th>\n",
       "      <td>0      0.650005\n",
       "1      0.589643\n",
       "2     -0.43650...</td>\n",
       "      <td>0      0.608622\n",
       "1      1.589685\n",
       "2      1.41131...</td>\n",
       "      <td>0      3.279536\n",
       "1      3.279536\n",
       "2      1.58788...</td>\n",
       "      <td>0      0.691488\n",
       "1      0.691488\n",
       "2     -0.02521...</td>\n",
       "      <td>0     -0.462499\n",
       "1      0.541519\n",
       "2     -0.46249...</td>\n",
       "    </tr>\n",
       "    <tr>\n",
       "      <th>346</th>\n",
       "      <td>0      0.047154\n",
       "1      0.047154\n",
       "2      0.74614...</td>\n",
       "      <td>0     -0.057694\n",
       "1     -0.057694\n",
       "2     -0.05769...</td>\n",
       "      <td>0      0.213708\n",
       "1      0.213708\n",
       "2     -0.04931...</td>\n",
       "      <td>0     -0.447369\n",
       "1     -0.447369\n",
       "2     -0.13157...</td>\n",
       "      <td>0     -0.476827\n",
       "1     -0.476827\n",
       "2     -1.35618...</td>\n",
       "    </tr>\n",
       "    <tr>\n",
       "      <th>347</th>\n",
       "      <td>0     -0.843348\n",
       "1     -0.698360\n",
       "2     -0.37938...</td>\n",
       "      <td>0     -0.717568\n",
       "1     -0.668112\n",
       "2     -0.66811...</td>\n",
       "      <td>0     -0.930073\n",
       "1     -0.487014\n",
       "2     -0.55030...</td>\n",
       "      <td>0     -0.418345\n",
       "1     -0.586556\n",
       "2     -0.65384...</td>\n",
       "      <td>0     -2.073631\n",
       "1     -2.073631\n",
       "2     -2.07363...</td>\n",
       "    </tr>\n",
       "    <tr>\n",
       "      <th>348</th>\n",
       "      <td>0      2.245241\n",
       "1      0.922891\n",
       "2      1.58406...</td>\n",
       "      <td>0     -0.732514\n",
       "1     -1.682273\n",
       "2     -1.43603...</td>\n",
       "      <td>0     -1.124194\n",
       "1     -2.176147\n",
       "2     -1.29952...</td>\n",
       "      <td>0      0.192826\n",
       "1     -2.343582\n",
       "2     -2.14333...</td>\n",
       "      <td>0     -0.059245\n",
       "1     -0.059245\n",
       "2      0.18685...</td>\n",
       "    </tr>\n",
       "    <tr>\n",
       "      <th>349</th>\n",
       "      <td>0      0.571725\n",
       "1      0.571725\n",
       "2     -0.22564...</td>\n",
       "      <td>0     -0.799545\n",
       "1     -0.799545\n",
       "2     -2.49661...</td>\n",
       "      <td>0     -0.799549\n",
       "1     -0.799549\n",
       "2     -2.72855...</td>\n",
       "      <td>0      0.793528\n",
       "1      0.793528\n",
       "2     -1.45869...</td>\n",
       "      <td>0      0.944124\n",
       "1      0.944124\n",
       "2      0.77217...</td>\n",
       "    </tr>\n",
       "  </tbody>\n",
       "</table>\n",
       "<p>350 rows × 5 columns</p>\n",
       "</div>"
      ],
      "text/plain": [
       "                                                     1  \\\n",
       "0    0      0.075737\n",
       "1     -0.374515\n",
       "2     -0.37451...   \n",
       "1    0      1.340723\n",
       "1      1.340723\n",
       "2      1.34072...   \n",
       "2    0      0.004936\n",
       "1      0.004936\n",
       "2     -0.17275...   \n",
       "3    0     -0.748380\n",
       "1     -0.748380\n",
       "2     -1.25784...   \n",
       "4    0     -1.129663\n",
       "1     -1.129663\n",
       "2     -1.50219...   \n",
       "..                                                 ...   \n",
       "345  0      0.650005\n",
       "1      0.589643\n",
       "2     -0.43650...   \n",
       "346  0      0.047154\n",
       "1      0.047154\n",
       "2      0.74614...   \n",
       "347  0     -0.843348\n",
       "1     -0.698360\n",
       "2     -0.37938...   \n",
       "348  0      2.245241\n",
       "1      0.922891\n",
       "2      1.58406...   \n",
       "349  0      0.571725\n",
       "1      0.571725\n",
       "2     -0.22564...   \n",
       "\n",
       "                                                     2  \\\n",
       "0    0      0.436101\n",
       "1     -1.113396\n",
       "2      1.88875...   \n",
       "1    0     -0.778554\n",
       "1     -0.778554\n",
       "2      0.82151...   \n",
       "2    0     -0.398640\n",
       "1     -0.398640\n",
       "2     -0.57400...   \n",
       "3    0     -1.904063\n",
       "1     -1.904063\n",
       "2      0.13196...   \n",
       "4    0     -2.085958\n",
       "1     -2.085958\n",
       "2     -2.48453...   \n",
       "..                                                 ...   \n",
       "345  0      0.608622\n",
       "1      1.589685\n",
       "2      1.41131...   \n",
       "346  0     -0.057694\n",
       "1     -0.057694\n",
       "2     -0.05769...   \n",
       "347  0     -0.717568\n",
       "1     -0.668112\n",
       "2     -0.66811...   \n",
       "348  0     -0.732514\n",
       "1     -1.682273\n",
       "2     -1.43603...   \n",
       "349  0     -0.799545\n",
       "1     -0.799545\n",
       "2     -2.49661...   \n",
       "\n",
       "                                                     3  \\\n",
       "0    0     -0.110645\n",
       "1     -0.303382\n",
       "2      3.26225...   \n",
       "1    0     -0.107189\n",
       "1     -0.107189\n",
       "2      1.97062...   \n",
       "2    0      0.926671\n",
       "1      0.926671\n",
       "2      0.44377...   \n",
       "3    0     -1.310589\n",
       "1     -1.310589\n",
       "2      0.13027...   \n",
       "4    0     -2.047608\n",
       "1     -2.047608\n",
       "2     -2.53958...   \n",
       "..                                                 ...   \n",
       "345  0      3.279536\n",
       "1      3.279536\n",
       "2      1.58788...   \n",
       "346  0      0.213708\n",
       "1      0.213708\n",
       "2     -0.04931...   \n",
       "347  0     -0.930073\n",
       "1     -0.487014\n",
       "2     -0.55030...   \n",
       "348  0     -1.124194\n",
       "1     -2.176147\n",
       "2     -1.29952...   \n",
       "349  0     -0.799549\n",
       "1     -0.799549\n",
       "2     -2.72855...   \n",
       "\n",
       "                                                     4  \\\n",
       "0    0     -0.835629\n",
       "1     -1.907757\n",
       "2     -1.27709...   \n",
       "1    0     -0.903078\n",
       "1     -0.903078\n",
       "2     -0.10722...   \n",
       "2    0     -1.215042\n",
       "1     -1.215042\n",
       "2     -1.58124...   \n",
       "3    0     -1.252654\n",
       "1     -1.252654\n",
       "2      0.98884...   \n",
       "4    0     -0.139525\n",
       "1     -0.139525\n",
       "2     -0.42746...   \n",
       "..                                                 ...   \n",
       "345  0      0.691488\n",
       "1      0.691488\n",
       "2     -0.02521...   \n",
       "346  0     -0.447369\n",
       "1     -0.447369\n",
       "2     -0.13157...   \n",
       "347  0     -0.418345\n",
       "1     -0.586556\n",
       "2     -0.65384...   \n",
       "348  0      0.192826\n",
       "1     -2.343582\n",
       "2     -2.14333...   \n",
       "349  0      0.793528\n",
       "1      0.793528\n",
       "2     -1.45869...   \n",
       "\n",
       "                                                     5  \n",
       "0    0     -0.043660\n",
       "1     -0.139890\n",
       "2     -1.10219...  \n",
       "1    0      1.674277\n",
       "1      1.674277\n",
       "2      1.67427...  \n",
       "2    0     -0.802881\n",
       "1     -0.802881\n",
       "2     -1.06886...  \n",
       "3    0      0.638863\n",
       "1      0.638863\n",
       "2     -0.40025...  \n",
       "4    0     -2.240410\n",
       "1     -2.240410\n",
       "2     -0.95165...  \n",
       "..                                                 ...  \n",
       "345  0     -0.462499\n",
       "1      0.541519\n",
       "2     -0.46249...  \n",
       "346  0     -0.476827\n",
       "1     -0.476827\n",
       "2     -1.35618...  \n",
       "347  0     -2.073631\n",
       "1     -2.073631\n",
       "2     -2.07363...  \n",
       "348  0     -0.059245\n",
       "1     -0.059245\n",
       "2      0.18685...  \n",
       "349  0      0.944124\n",
       "1      0.944124\n",
       "2      0.77217...  \n",
       "\n",
       "[350 rows x 5 columns]"
      ]
     },
     "metadata": {},
     "output_type": "display_data"
    },
    {
     "data": {
      "text/plain": [
       "'Completed'"
      ]
     },
     "metadata": {},
     "output_type": "display_data"
    },
    {
     "data": {
      "text/plain": [
       "1"
      ]
     },
     "metadata": {},
     "output_type": "display_data"
    },
    {
     "data": {
      "text/plain": [
       "'Completed'"
      ]
     },
     "metadata": {},
     "output_type": "display_data"
    },
    {
     "data": {
      "text/plain": [
       "2"
      ]
     },
     "metadata": {},
     "output_type": "display_data"
    },
    {
     "data": {
      "text/plain": [
       "'Completed'"
      ]
     },
     "metadata": {},
     "output_type": "display_data"
    },
    {
     "data": {
      "text/plain": [
       "3"
      ]
     },
     "metadata": {},
     "output_type": "display_data"
    },
    {
     "data": {
      "text/plain": [
       "'Completed'"
      ]
     },
     "metadata": {},
     "output_type": "display_data"
    },
    {
     "data": {
      "text/plain": [
       "4"
      ]
     },
     "metadata": {},
     "output_type": "display_data"
    },
    {
     "data": {
      "text/plain": [
       "'Completed'"
      ]
     },
     "metadata": {},
     "output_type": "display_data"
    },
    {
     "data": {
      "text/plain": [
       "5"
      ]
     },
     "metadata": {},
     "output_type": "display_data"
    },
    {
     "data": {
      "text/plain": [
       "'Completed'"
      ]
     },
     "metadata": {},
     "output_type": "display_data"
    },
    {
     "data": {
      "text/plain": [
       "6"
      ]
     },
     "metadata": {},
     "output_type": "display_data"
    },
    {
     "data": {
      "text/plain": [
       "'Completed'"
      ]
     },
     "metadata": {},
     "output_type": "display_data"
    },
    {
     "data": {
      "text/plain": [
       "7"
      ]
     },
     "metadata": {},
     "output_type": "display_data"
    },
    {
     "data": {
      "text/plain": [
       "'Completed'"
      ]
     },
     "metadata": {},
     "output_type": "display_data"
    },
    {
     "data": {
      "text/plain": [
       "8"
      ]
     },
     "metadata": {},
     "output_type": "display_data"
    },
    {
     "data": {
      "text/plain": [
       "'Completed'"
      ]
     },
     "metadata": {},
     "output_type": "display_data"
    },
    {
     "data": {
      "text/plain": [
       "9"
      ]
     },
     "metadata": {},
     "output_type": "display_data"
    },
    {
     "data": {
      "text/plain": [
       "'Completed'"
      ]
     },
     "metadata": {},
     "output_type": "display_data"
    },
    {
     "data": {
      "text/plain": [
       "10"
      ]
     },
     "metadata": {},
     "output_type": "display_data"
    },
    {
     "data": {
      "text/plain": [
       "'Completed'"
      ]
     },
     "metadata": {},
     "output_type": "display_data"
    },
    {
     "data": {
      "text/plain": [
       "11"
      ]
     },
     "metadata": {},
     "output_type": "display_data"
    },
    {
     "data": {
      "text/plain": [
       "'Completed'"
      ]
     },
     "metadata": {},
     "output_type": "display_data"
    },
    {
     "data": {
      "text/plain": [
       "12"
      ]
     },
     "metadata": {},
     "output_type": "display_data"
    },
    {
     "data": {
      "text/plain": [
       "'Completed'"
      ]
     },
     "metadata": {},
     "output_type": "display_data"
    },
    {
     "data": {
      "text/plain": [
       "13"
      ]
     },
     "metadata": {},
     "output_type": "display_data"
    },
    {
     "data": {
      "text/plain": [
       "'Completed'"
      ]
     },
     "metadata": {},
     "output_type": "display_data"
    },
    {
     "data": {
      "text/plain": [
       "14"
      ]
     },
     "metadata": {},
     "output_type": "display_data"
    },
    {
     "data": {
      "text/plain": [
       "'Completed'"
      ]
     },
     "metadata": {},
     "output_type": "display_data"
    },
    {
     "data": {
      "text/plain": [
       "15"
      ]
     },
     "metadata": {},
     "output_type": "display_data"
    },
    {
     "data": {
      "text/plain": [
       "'Completed'"
      ]
     },
     "metadata": {},
     "output_type": "display_data"
    },
    {
     "data": {
      "text/plain": [
       "16"
      ]
     },
     "metadata": {},
     "output_type": "display_data"
    },
    {
     "data": {
      "text/plain": [
       "'Completed'"
      ]
     },
     "metadata": {},
     "output_type": "display_data"
    },
    {
     "data": {
      "text/plain": [
       "17"
      ]
     },
     "metadata": {},
     "output_type": "display_data"
    },
    {
     "data": {
      "text/plain": [
       "'Completed'"
      ]
     },
     "metadata": {},
     "output_type": "display_data"
    },
    {
     "data": {
      "text/plain": [
       "18"
      ]
     },
     "metadata": {},
     "output_type": "display_data"
    },
    {
     "data": {
      "text/plain": [
       "'Completed'"
      ]
     },
     "metadata": {},
     "output_type": "display_data"
    },
    {
     "data": {
      "text/plain": [
       "19"
      ]
     },
     "metadata": {},
     "output_type": "display_data"
    },
    {
     "data": {
      "text/plain": [
       "'Completed'"
      ]
     },
     "metadata": {},
     "output_type": "display_data"
    },
    {
     "data": {
      "text/plain": [
       "20"
      ]
     },
     "metadata": {},
     "output_type": "display_data"
    },
    {
     "data": {
      "text/plain": [
       "'Completed'"
      ]
     },
     "metadata": {},
     "output_type": "display_data"
    },
    {
     "data": {
      "text/plain": [
       "21"
      ]
     },
     "metadata": {},
     "output_type": "display_data"
    },
    {
     "data": {
      "text/plain": [
       "'Completed'"
      ]
     },
     "metadata": {},
     "output_type": "display_data"
    },
    {
     "data": {
      "text/plain": [
       "22"
      ]
     },
     "metadata": {},
     "output_type": "display_data"
    },
    {
     "data": {
      "text/plain": [
       "'Completed'"
      ]
     },
     "metadata": {},
     "output_type": "display_data"
    },
    {
     "data": {
      "text/plain": [
       "23"
      ]
     },
     "metadata": {},
     "output_type": "display_data"
    },
    {
     "data": {
      "text/plain": [
       "'Completed'"
      ]
     },
     "metadata": {},
     "output_type": "display_data"
    },
    {
     "data": {
      "text/plain": [
       "24"
      ]
     },
     "metadata": {},
     "output_type": "display_data"
    },
    {
     "data": {
      "text/plain": [
       "'Completed'"
      ]
     },
     "metadata": {},
     "output_type": "display_data"
    },
    {
     "data": {
      "text/plain": [
       "25"
      ]
     },
     "metadata": {},
     "output_type": "display_data"
    },
    {
     "data": {
      "text/plain": [
       "'Completed'"
      ]
     },
     "metadata": {},
     "output_type": "display_data"
    },
    {
     "data": {
      "text/plain": [
       "26"
      ]
     },
     "metadata": {},
     "output_type": "display_data"
    },
    {
     "data": {
      "text/plain": [
       "'Completed'"
      ]
     },
     "metadata": {},
     "output_type": "display_data"
    },
    {
     "data": {
      "text/plain": [
       "27"
      ]
     },
     "metadata": {},
     "output_type": "display_data"
    },
    {
     "data": {
      "text/plain": [
       "'Completed'"
      ]
     },
     "metadata": {},
     "output_type": "display_data"
    },
    {
     "data": {
      "text/plain": [
       "28"
      ]
     },
     "metadata": {},
     "output_type": "display_data"
    },
    {
     "data": {
      "text/plain": [
       "'Completed'"
      ]
     },
     "metadata": {},
     "output_type": "display_data"
    },
    {
     "data": {
      "text/plain": [
       "29"
      ]
     },
     "metadata": {},
     "output_type": "display_data"
    },
    {
     "data": {
      "text/plain": [
       "'Completed'"
      ]
     },
     "metadata": {},
     "output_type": "display_data"
    },
    {
     "data": {
      "text/plain": [
       "30"
      ]
     },
     "metadata": {},
     "output_type": "display_data"
    },
    {
     "data": {
      "text/plain": [
       "'Current key in progress'"
      ]
     },
     "metadata": {},
     "output_type": "display_data"
    },
    {
     "data": {
      "text/plain": [
       "'sample_numbers_list_1.6_to_1.7'"
      ]
     },
     "metadata": {},
     "output_type": "display_data"
    },
    {
     "data": {
      "text/plain": [
       "439"
      ]
     },
     "metadata": {},
     "output_type": "display_data"
    },
    {
     "data": {
      "text/html": [
       "<div>\n",
       "<style scoped>\n",
       "    .dataframe tbody tr th:only-of-type {\n",
       "        vertical-align: middle;\n",
       "    }\n",
       "\n",
       "    .dataframe tbody tr th {\n",
       "        vertical-align: top;\n",
       "    }\n",
       "\n",
       "    .dataframe thead th {\n",
       "        text-align: right;\n",
       "    }\n",
       "</style>\n",
       "<table border=\"1\" class=\"dataframe\">\n",
       "  <thead>\n",
       "    <tr style=\"text-align: right;\">\n",
       "      <th></th>\n",
       "      <th>Subject</th>\n",
       "      <th>HR</th>\n",
       "      <th>MAP</th>\n",
       "      <th>DBP</th>\n",
       "      <th>SBP</th>\n",
       "      <th>Resp</th>\n",
       "    </tr>\n",
       "  </thead>\n",
       "  <tbody>\n",
       "    <tr>\n",
       "      <th>0</th>\n",
       "      <td>11</td>\n",
       "      <td>90.0</td>\n",
       "      <td>70.0</td>\n",
       "      <td>53.0</td>\n",
       "      <td>111.0</td>\n",
       "      <td>24.0</td>\n",
       "    </tr>\n",
       "    <tr>\n",
       "      <th>1</th>\n",
       "      <td>11</td>\n",
       "      <td>90.0</td>\n",
       "      <td>70.0</td>\n",
       "      <td>53.0</td>\n",
       "      <td>111.0</td>\n",
       "      <td>24.0</td>\n",
       "    </tr>\n",
       "    <tr>\n",
       "      <th>2</th>\n",
       "      <td>11</td>\n",
       "      <td>90.0</td>\n",
       "      <td>80.0</td>\n",
       "      <td>60.0</td>\n",
       "      <td>121.0</td>\n",
       "      <td>24.0</td>\n",
       "    </tr>\n",
       "    <tr>\n",
       "      <th>3</th>\n",
       "      <td>11</td>\n",
       "      <td>81.0</td>\n",
       "      <td>67.0</td>\n",
       "      <td>52.0</td>\n",
       "      <td>99.0</td>\n",
       "      <td>12.0</td>\n",
       "    </tr>\n",
       "    <tr>\n",
       "      <th>4</th>\n",
       "      <td>11</td>\n",
       "      <td>83.0</td>\n",
       "      <td>66.0</td>\n",
       "      <td>51.0</td>\n",
       "      <td>99.0</td>\n",
       "      <td>14.0</td>\n",
       "    </tr>\n",
       "    <tr>\n",
       "      <th>...</th>\n",
       "      <td>...</td>\n",
       "      <td>...</td>\n",
       "      <td>...</td>\n",
       "      <td>...</td>\n",
       "      <td>...</td>\n",
       "      <td>...</td>\n",
       "    </tr>\n",
       "    <tr>\n",
       "      <th>52</th>\n",
       "      <td>506</td>\n",
       "      <td>104.0</td>\n",
       "      <td>89.0</td>\n",
       "      <td>69.0</td>\n",
       "      <td>136.0</td>\n",
       "      <td>28.0</td>\n",
       "    </tr>\n",
       "    <tr>\n",
       "      <th>53</th>\n",
       "      <td>506</td>\n",
       "      <td>100.0</td>\n",
       "      <td>83.0</td>\n",
       "      <td>65.0</td>\n",
       "      <td>121.0</td>\n",
       "      <td>19.0</td>\n",
       "    </tr>\n",
       "    <tr>\n",
       "      <th>54</th>\n",
       "      <td>506</td>\n",
       "      <td>91.0</td>\n",
       "      <td>74.0</td>\n",
       "      <td>59.0</td>\n",
       "      <td>102.0</td>\n",
       "      <td>14.0</td>\n",
       "    </tr>\n",
       "    <tr>\n",
       "      <th>55</th>\n",
       "      <td>506</td>\n",
       "      <td>90.0</td>\n",
       "      <td>66.0</td>\n",
       "      <td>61.0</td>\n",
       "      <td>101.0</td>\n",
       "      <td>16.0</td>\n",
       "    </tr>\n",
       "    <tr>\n",
       "      <th>56</th>\n",
       "      <td>506</td>\n",
       "      <td>90.0</td>\n",
       "      <td>72.0</td>\n",
       "      <td>56.0</td>\n",
       "      <td>101.0</td>\n",
       "      <td>20.0</td>\n",
       "    </tr>\n",
       "  </tbody>\n",
       "</table>\n",
       "<p>9388 rows × 6 columns</p>\n",
       "</div>"
      ],
      "text/plain": [
       "    Subject     HR   MAP   DBP    SBP  Resp\n",
       "0        11   90.0  70.0  53.0  111.0  24.0\n",
       "1        11   90.0  70.0  53.0  111.0  24.0\n",
       "2        11   90.0  80.0  60.0  121.0  24.0\n",
       "3        11   81.0  67.0  52.0   99.0  12.0\n",
       "4        11   83.0  66.0  51.0   99.0  14.0\n",
       "..      ...    ...   ...   ...    ...   ...\n",
       "52      506  104.0  89.0  69.0  136.0  28.0\n",
       "53      506  100.0  83.0  65.0  121.0  19.0\n",
       "54      506   91.0  74.0  59.0  102.0  14.0\n",
       "55      506   90.0  66.0  61.0  101.0  16.0\n",
       "56      506   90.0  72.0  56.0  101.0  20.0\n",
       "\n",
       "[9388 rows x 6 columns]"
      ]
     },
     "metadata": {},
     "output_type": "display_data"
    },
    {
     "data": {
      "text/plain": [
       "'Avg length:'"
      ]
     },
     "metadata": {},
     "output_type": "display_data"
    },
    {
     "data": {
      "text/plain": [
       "108.59428571428572"
      ]
     },
     "metadata": {},
     "output_type": "display_data"
    },
    {
     "data": {
      "text/plain": [
       "6"
      ]
     },
     "metadata": {},
     "output_type": "display_data"
    },
    {
     "data": {
      "text/plain": [
       "'X_1:'"
      ]
     },
     "metadata": {},
     "output_type": "display_data"
    },
    {
     "data": {
      "text/html": [
       "<div>\n",
       "<style scoped>\n",
       "    .dataframe tbody tr th:only-of-type {\n",
       "        vertical-align: middle;\n",
       "    }\n",
       "\n",
       "    .dataframe tbody tr th {\n",
       "        vertical-align: top;\n",
       "    }\n",
       "\n",
       "    .dataframe thead th {\n",
       "        text-align: right;\n",
       "    }\n",
       "</style>\n",
       "<table border=\"1\" class=\"dataframe\">\n",
       "  <thead>\n",
       "    <tr style=\"text-align: right;\">\n",
       "      <th></th>\n",
       "      <th>1</th>\n",
       "      <th>2</th>\n",
       "      <th>3</th>\n",
       "      <th>4</th>\n",
       "      <th>5</th>\n",
       "    </tr>\n",
       "  </thead>\n",
       "  <tbody>\n",
       "    <tr>\n",
       "      <th>0</th>\n",
       "      <td>0      1.340723\n",
       "1      1.340723\n",
       "2      1.34072...</td>\n",
       "      <td>0     -0.778554\n",
       "1     -0.778554\n",
       "2      0.82151...</td>\n",
       "      <td>0     -0.107189\n",
       "1     -0.107189\n",
       "2      1.97062...</td>\n",
       "      <td>0     -0.903078\n",
       "1     -0.903078\n",
       "2     -0.10722...</td>\n",
       "      <td>0      1.674277\n",
       "1      1.674277\n",
       "2      1.67427...</td>\n",
       "    </tr>\n",
       "    <tr>\n",
       "      <th>1</th>\n",
       "      <td>0     -0.748380\n",
       "1     -0.748380\n",
       "2     -1.25784...</td>\n",
       "      <td>0     -1.904063\n",
       "1     -1.904063\n",
       "2      0.13196...</td>\n",
       "      <td>0     -1.310589\n",
       "1     -1.310589\n",
       "2      0.13027...</td>\n",
       "      <td>0     -1.252654\n",
       "1     -1.252654\n",
       "2      0.98884...</td>\n",
       "      <td>0      0.638863\n",
       "1      0.638863\n",
       "2     -0.40025...</td>\n",
       "    </tr>\n",
       "    <tr>\n",
       "      <th>2</th>\n",
       "      <td>0     -1.129663\n",
       "1     -1.129663\n",
       "2     -1.50219...</td>\n",
       "      <td>0     -2.085958\n",
       "1     -2.085958\n",
       "2     -2.48453...</td>\n",
       "      <td>0     -2.047608\n",
       "1     -2.047608\n",
       "2     -2.53958...</td>\n",
       "      <td>0     -0.139525\n",
       "1     -0.139525\n",
       "2     -0.42746...</td>\n",
       "      <td>0     -2.240410\n",
       "1     -2.240410\n",
       "2     -0.95165...</td>\n",
       "    </tr>\n",
       "    <tr>\n",
       "      <th>3</th>\n",
       "      <td>0     -0.459793\n",
       "1     -0.357141\n",
       "2     -0.53678...</td>\n",
       "      <td>0      0.002752\n",
       "1      0.537660\n",
       "2      0.59709...</td>\n",
       "      <td>0      0.639073\n",
       "1      0.639073\n",
       "2      0.79330...</td>\n",
       "      <td>0     -0.650055\n",
       "1     -0.308420\n",
       "2      0.03321...</td>\n",
       "      <td>0      0.143012\n",
       "1      0.675609\n",
       "2      0.94190...</td>\n",
       "    </tr>\n",
       "    <tr>\n",
       "      <th>4</th>\n",
       "      <td>0      0.362196\n",
       "1      0.362196\n",
       "2      0.61620...</td>\n",
       "      <td>0     -0.655066\n",
       "1     -0.655066\n",
       "2     -0.18007...</td>\n",
       "      <td>0     -0.340537\n",
       "1     -0.340537\n",
       "2     -0.00389...</td>\n",
       "      <td>0     -0.970170\n",
       "1     -0.970170\n",
       "2      0.12910...</td>\n",
       "      <td>0     -0.491569\n",
       "1     -0.491569\n",
       "2     -0.17366...</td>\n",
       "    </tr>\n",
       "    <tr>\n",
       "      <th>...</th>\n",
       "      <td>...</td>\n",
       "      <td>...</td>\n",
       "      <td>...</td>\n",
       "      <td>...</td>\n",
       "      <td>...</td>\n",
       "    </tr>\n",
       "    <tr>\n",
       "      <th>345</th>\n",
       "      <td>0      0.650005\n",
       "1      0.589643\n",
       "2     -0.43650...</td>\n",
       "      <td>0      0.608622\n",
       "1      1.589685\n",
       "2      1.41131...</td>\n",
       "      <td>0      3.279536\n",
       "1      3.279536\n",
       "2      1.58788...</td>\n",
       "      <td>0      0.691488\n",
       "1      0.691488\n",
       "2     -0.02521...</td>\n",
       "      <td>0     -0.462499\n",
       "1      0.541519\n",
       "2     -0.46249...</td>\n",
       "    </tr>\n",
       "    <tr>\n",
       "      <th>346</th>\n",
       "      <td>0      0.047154\n",
       "1      0.047154\n",
       "2      0.74614...</td>\n",
       "      <td>0     -0.057694\n",
       "1     -0.057694\n",
       "2     -0.05769...</td>\n",
       "      <td>0      0.213708\n",
       "1      0.213708\n",
       "2     -0.04931...</td>\n",
       "      <td>0     -0.447369\n",
       "1     -0.447369\n",
       "2     -0.13157...</td>\n",
       "      <td>0     -0.476827\n",
       "1     -0.476827\n",
       "2     -1.35618...</td>\n",
       "    </tr>\n",
       "    <tr>\n",
       "      <th>347</th>\n",
       "      <td>0     -0.843348\n",
       "1     -0.698360\n",
       "2     -0.37938...</td>\n",
       "      <td>0     -0.717568\n",
       "1     -0.668112\n",
       "2     -0.66811...</td>\n",
       "      <td>0     -0.930073\n",
       "1     -0.487014\n",
       "2     -0.55030...</td>\n",
       "      <td>0     -0.418345\n",
       "1     -0.586556\n",
       "2     -0.65384...</td>\n",
       "      <td>0     -2.073631\n",
       "1     -2.073631\n",
       "2     -2.07363...</td>\n",
       "    </tr>\n",
       "    <tr>\n",
       "      <th>348</th>\n",
       "      <td>0      2.245241\n",
       "1      0.922891\n",
       "2      1.58406...</td>\n",
       "      <td>0     -0.732514\n",
       "1     -1.682273\n",
       "2     -1.43603...</td>\n",
       "      <td>0     -1.124194\n",
       "1     -2.176147\n",
       "2     -1.29952...</td>\n",
       "      <td>0      0.192826\n",
       "1     -2.343582\n",
       "2     -2.14333...</td>\n",
       "      <td>0     -0.059245\n",
       "1     -0.059245\n",
       "2      0.18685...</td>\n",
       "    </tr>\n",
       "    <tr>\n",
       "      <th>349</th>\n",
       "      <td>0      0.571725\n",
       "1      0.571725\n",
       "2     -0.22564...</td>\n",
       "      <td>0     -0.799545\n",
       "1     -0.799545\n",
       "2     -2.49661...</td>\n",
       "      <td>0     -0.799549\n",
       "1     -0.799549\n",
       "2     -2.72855...</td>\n",
       "      <td>0      0.793528\n",
       "1      0.793528\n",
       "2     -1.45869...</td>\n",
       "      <td>0      0.944124\n",
       "1      0.944124\n",
       "2      0.77217...</td>\n",
       "    </tr>\n",
       "  </tbody>\n",
       "</table>\n",
       "<p>350 rows × 5 columns</p>\n",
       "</div>"
      ],
      "text/plain": [
       "                                                     1  \\\n",
       "0    0      1.340723\n",
       "1      1.340723\n",
       "2      1.34072...   \n",
       "1    0     -0.748380\n",
       "1     -0.748380\n",
       "2     -1.25784...   \n",
       "2    0     -1.129663\n",
       "1     -1.129663\n",
       "2     -1.50219...   \n",
       "3    0     -0.459793\n",
       "1     -0.357141\n",
       "2     -0.53678...   \n",
       "4    0      0.362196\n",
       "1      0.362196\n",
       "2      0.61620...   \n",
       "..                                                 ...   \n",
       "345  0      0.650005\n",
       "1      0.589643\n",
       "2     -0.43650...   \n",
       "346  0      0.047154\n",
       "1      0.047154\n",
       "2      0.74614...   \n",
       "347  0     -0.843348\n",
       "1     -0.698360\n",
       "2     -0.37938...   \n",
       "348  0      2.245241\n",
       "1      0.922891\n",
       "2      1.58406...   \n",
       "349  0      0.571725\n",
       "1      0.571725\n",
       "2     -0.22564...   \n",
       "\n",
       "                                                     2  \\\n",
       "0    0     -0.778554\n",
       "1     -0.778554\n",
       "2      0.82151...   \n",
       "1    0     -1.904063\n",
       "1     -1.904063\n",
       "2      0.13196...   \n",
       "2    0     -2.085958\n",
       "1     -2.085958\n",
       "2     -2.48453...   \n",
       "3    0      0.002752\n",
       "1      0.537660\n",
       "2      0.59709...   \n",
       "4    0     -0.655066\n",
       "1     -0.655066\n",
       "2     -0.18007...   \n",
       "..                                                 ...   \n",
       "345  0      0.608622\n",
       "1      1.589685\n",
       "2      1.41131...   \n",
       "346  0     -0.057694\n",
       "1     -0.057694\n",
       "2     -0.05769...   \n",
       "347  0     -0.717568\n",
       "1     -0.668112\n",
       "2     -0.66811...   \n",
       "348  0     -0.732514\n",
       "1     -1.682273\n",
       "2     -1.43603...   \n",
       "349  0     -0.799545\n",
       "1     -0.799545\n",
       "2     -2.49661...   \n",
       "\n",
       "                                                     3  \\\n",
       "0    0     -0.107189\n",
       "1     -0.107189\n",
       "2      1.97062...   \n",
       "1    0     -1.310589\n",
       "1     -1.310589\n",
       "2      0.13027...   \n",
       "2    0     -2.047608\n",
       "1     -2.047608\n",
       "2     -2.53958...   \n",
       "3    0      0.639073\n",
       "1      0.639073\n",
       "2      0.79330...   \n",
       "4    0     -0.340537\n",
       "1     -0.340537\n",
       "2     -0.00389...   \n",
       "..                                                 ...   \n",
       "345  0      3.279536\n",
       "1      3.279536\n",
       "2      1.58788...   \n",
       "346  0      0.213708\n",
       "1      0.213708\n",
       "2     -0.04931...   \n",
       "347  0     -0.930073\n",
       "1     -0.487014\n",
       "2     -0.55030...   \n",
       "348  0     -1.124194\n",
       "1     -2.176147\n",
       "2     -1.29952...   \n",
       "349  0     -0.799549\n",
       "1     -0.799549\n",
       "2     -2.72855...   \n",
       "\n",
       "                                                     4  \\\n",
       "0    0     -0.903078\n",
       "1     -0.903078\n",
       "2     -0.10722...   \n",
       "1    0     -1.252654\n",
       "1     -1.252654\n",
       "2      0.98884...   \n",
       "2    0     -0.139525\n",
       "1     -0.139525\n",
       "2     -0.42746...   \n",
       "3    0     -0.650055\n",
       "1     -0.308420\n",
       "2      0.03321...   \n",
       "4    0     -0.970170\n",
       "1     -0.970170\n",
       "2      0.12910...   \n",
       "..                                                 ...   \n",
       "345  0      0.691488\n",
       "1      0.691488\n",
       "2     -0.02521...   \n",
       "346  0     -0.447369\n",
       "1     -0.447369\n",
       "2     -0.13157...   \n",
       "347  0     -0.418345\n",
       "1     -0.586556\n",
       "2     -0.65384...   \n",
       "348  0      0.192826\n",
       "1     -2.343582\n",
       "2     -2.14333...   \n",
       "349  0      0.793528\n",
       "1      0.793528\n",
       "2     -1.45869...   \n",
       "\n",
       "                                                     5  \n",
       "0    0      1.674277\n",
       "1      1.674277\n",
       "2      1.67427...  \n",
       "1    0      0.638863\n",
       "1      0.638863\n",
       "2     -0.40025...  \n",
       "2    0     -2.240410\n",
       "1     -2.240410\n",
       "2     -0.95165...  \n",
       "3    0      0.143012\n",
       "1      0.675609\n",
       "2      0.94190...  \n",
       "4    0     -0.491569\n",
       "1     -0.491569\n",
       "2     -0.17366...  \n",
       "..                                                 ...  \n",
       "345  0     -0.462499\n",
       "1      0.541519\n",
       "2     -0.46249...  \n",
       "346  0     -0.476827\n",
       "1     -0.476827\n",
       "2     -1.35618...  \n",
       "347  0     -2.073631\n",
       "1     -2.073631\n",
       "2     -2.07363...  \n",
       "348  0     -0.059245\n",
       "1     -0.059245\n",
       "2      0.18685...  \n",
       "349  0      0.944124\n",
       "1      0.944124\n",
       "2      0.77217...  \n",
       "\n",
       "[350 rows x 5 columns]"
      ]
     },
     "metadata": {},
     "output_type": "display_data"
    },
    {
     "data": {
      "text/plain": [
       "'Completed'"
      ]
     },
     "metadata": {},
     "output_type": "display_data"
    },
    {
     "data": {
      "text/plain": [
       "1"
      ]
     },
     "metadata": {},
     "output_type": "display_data"
    },
    {
     "data": {
      "text/plain": [
       "'Completed'"
      ]
     },
     "metadata": {},
     "output_type": "display_data"
    },
    {
     "data": {
      "text/plain": [
       "2"
      ]
     },
     "metadata": {},
     "output_type": "display_data"
    },
    {
     "data": {
      "text/plain": [
       "'Completed'"
      ]
     },
     "metadata": {},
     "output_type": "display_data"
    },
    {
     "data": {
      "text/plain": [
       "3"
      ]
     },
     "metadata": {},
     "output_type": "display_data"
    },
    {
     "data": {
      "text/plain": [
       "'Completed'"
      ]
     },
     "metadata": {},
     "output_type": "display_data"
    },
    {
     "data": {
      "text/plain": [
       "4"
      ]
     },
     "metadata": {},
     "output_type": "display_data"
    },
    {
     "data": {
      "text/plain": [
       "'Completed'"
      ]
     },
     "metadata": {},
     "output_type": "display_data"
    },
    {
     "data": {
      "text/plain": [
       "5"
      ]
     },
     "metadata": {},
     "output_type": "display_data"
    },
    {
     "data": {
      "text/plain": [
       "'Completed'"
      ]
     },
     "metadata": {},
     "output_type": "display_data"
    },
    {
     "data": {
      "text/plain": [
       "6"
      ]
     },
     "metadata": {},
     "output_type": "display_data"
    },
    {
     "data": {
      "text/plain": [
       "'Completed'"
      ]
     },
     "metadata": {},
     "output_type": "display_data"
    },
    {
     "data": {
      "text/plain": [
       "7"
      ]
     },
     "metadata": {},
     "output_type": "display_data"
    },
    {
     "data": {
      "text/plain": [
       "'Completed'"
      ]
     },
     "metadata": {},
     "output_type": "display_data"
    },
    {
     "data": {
      "text/plain": [
       "8"
      ]
     },
     "metadata": {},
     "output_type": "display_data"
    },
    {
     "data": {
      "text/plain": [
       "'Completed'"
      ]
     },
     "metadata": {},
     "output_type": "display_data"
    },
    {
     "data": {
      "text/plain": [
       "9"
      ]
     },
     "metadata": {},
     "output_type": "display_data"
    },
    {
     "data": {
      "text/plain": [
       "'Completed'"
      ]
     },
     "metadata": {},
     "output_type": "display_data"
    },
    {
     "data": {
      "text/plain": [
       "10"
      ]
     },
     "metadata": {},
     "output_type": "display_data"
    },
    {
     "data": {
      "text/plain": [
       "'Completed'"
      ]
     },
     "metadata": {},
     "output_type": "display_data"
    },
    {
     "data": {
      "text/plain": [
       "11"
      ]
     },
     "metadata": {},
     "output_type": "display_data"
    },
    {
     "data": {
      "text/plain": [
       "'Completed'"
      ]
     },
     "metadata": {},
     "output_type": "display_data"
    },
    {
     "data": {
      "text/plain": [
       "12"
      ]
     },
     "metadata": {},
     "output_type": "display_data"
    },
    {
     "data": {
      "text/plain": [
       "'Completed'"
      ]
     },
     "metadata": {},
     "output_type": "display_data"
    },
    {
     "data": {
      "text/plain": [
       "13"
      ]
     },
     "metadata": {},
     "output_type": "display_data"
    },
    {
     "data": {
      "text/plain": [
       "'Completed'"
      ]
     },
     "metadata": {},
     "output_type": "display_data"
    },
    {
     "data": {
      "text/plain": [
       "14"
      ]
     },
     "metadata": {},
     "output_type": "display_data"
    },
    {
     "data": {
      "text/plain": [
       "'Completed'"
      ]
     },
     "metadata": {},
     "output_type": "display_data"
    },
    {
     "data": {
      "text/plain": [
       "15"
      ]
     },
     "metadata": {},
     "output_type": "display_data"
    },
    {
     "data": {
      "text/plain": [
       "'Completed'"
      ]
     },
     "metadata": {},
     "output_type": "display_data"
    },
    {
     "data": {
      "text/plain": [
       "16"
      ]
     },
     "metadata": {},
     "output_type": "display_data"
    },
    {
     "data": {
      "text/plain": [
       "'Completed'"
      ]
     },
     "metadata": {},
     "output_type": "display_data"
    },
    {
     "data": {
      "text/plain": [
       "17"
      ]
     },
     "metadata": {},
     "output_type": "display_data"
    },
    {
     "data": {
      "text/plain": [
       "'Completed'"
      ]
     },
     "metadata": {},
     "output_type": "display_data"
    },
    {
     "data": {
      "text/plain": [
       "18"
      ]
     },
     "metadata": {},
     "output_type": "display_data"
    },
    {
     "data": {
      "text/plain": [
       "'Completed'"
      ]
     },
     "metadata": {},
     "output_type": "display_data"
    },
    {
     "data": {
      "text/plain": [
       "19"
      ]
     },
     "metadata": {},
     "output_type": "display_data"
    },
    {
     "data": {
      "text/plain": [
       "'Completed'"
      ]
     },
     "metadata": {},
     "output_type": "display_data"
    },
    {
     "data": {
      "text/plain": [
       "20"
      ]
     },
     "metadata": {},
     "output_type": "display_data"
    },
    {
     "data": {
      "text/plain": [
       "'Completed'"
      ]
     },
     "metadata": {},
     "output_type": "display_data"
    },
    {
     "data": {
      "text/plain": [
       "21"
      ]
     },
     "metadata": {},
     "output_type": "display_data"
    },
    {
     "data": {
      "text/plain": [
       "'Completed'"
      ]
     },
     "metadata": {},
     "output_type": "display_data"
    },
    {
     "data": {
      "text/plain": [
       "22"
      ]
     },
     "metadata": {},
     "output_type": "display_data"
    },
    {
     "data": {
      "text/plain": [
       "'Completed'"
      ]
     },
     "metadata": {},
     "output_type": "display_data"
    },
    {
     "data": {
      "text/plain": [
       "23"
      ]
     },
     "metadata": {},
     "output_type": "display_data"
    },
    {
     "data": {
      "text/plain": [
       "'Completed'"
      ]
     },
     "metadata": {},
     "output_type": "display_data"
    },
    {
     "data": {
      "text/plain": [
       "24"
      ]
     },
     "metadata": {},
     "output_type": "display_data"
    },
    {
     "data": {
      "text/plain": [
       "'Completed'"
      ]
     },
     "metadata": {},
     "output_type": "display_data"
    },
    {
     "data": {
      "text/plain": [
       "25"
      ]
     },
     "metadata": {},
     "output_type": "display_data"
    },
    {
     "data": {
      "text/plain": [
       "'Completed'"
      ]
     },
     "metadata": {},
     "output_type": "display_data"
    },
    {
     "data": {
      "text/plain": [
       "26"
      ]
     },
     "metadata": {},
     "output_type": "display_data"
    },
    {
     "data": {
      "text/plain": [
       "'Completed'"
      ]
     },
     "metadata": {},
     "output_type": "display_data"
    },
    {
     "data": {
      "text/plain": [
       "27"
      ]
     },
     "metadata": {},
     "output_type": "display_data"
    },
    {
     "data": {
      "text/plain": [
       "'Completed'"
      ]
     },
     "metadata": {},
     "output_type": "display_data"
    },
    {
     "data": {
      "text/plain": [
       "28"
      ]
     },
     "metadata": {},
     "output_type": "display_data"
    },
    {
     "data": {
      "text/plain": [
       "'Completed'"
      ]
     },
     "metadata": {},
     "output_type": "display_data"
    },
    {
     "data": {
      "text/plain": [
       "29"
      ]
     },
     "metadata": {},
     "output_type": "display_data"
    },
    {
     "data": {
      "text/plain": [
       "'Completed'"
      ]
     },
     "metadata": {},
     "output_type": "display_data"
    },
    {
     "data": {
      "text/plain": [
       "30"
      ]
     },
     "metadata": {},
     "output_type": "display_data"
    },
    {
     "data": {
      "text/plain": [
       "'Current key in progress'"
      ]
     },
     "metadata": {},
     "output_type": "display_data"
    },
    {
     "data": {
      "text/plain": [
       "'sample_numbers_list_1.7_to_1.8'"
      ]
     },
     "metadata": {},
     "output_type": "display_data"
    },
    {
     "data": {
      "text/plain": [
       "447"
      ]
     },
     "metadata": {},
     "output_type": "display_data"
    },
    {
     "data": {
      "text/html": [
       "<div>\n",
       "<style scoped>\n",
       "    .dataframe tbody tr th:only-of-type {\n",
       "        vertical-align: middle;\n",
       "    }\n",
       "\n",
       "    .dataframe tbody tr th {\n",
       "        vertical-align: top;\n",
       "    }\n",
       "\n",
       "    .dataframe thead th {\n",
       "        text-align: right;\n",
       "    }\n",
       "</style>\n",
       "<table border=\"1\" class=\"dataframe\">\n",
       "  <thead>\n",
       "    <tr style=\"text-align: right;\">\n",
       "      <th></th>\n",
       "      <th>Subject</th>\n",
       "      <th>HR</th>\n",
       "      <th>MAP</th>\n",
       "      <th>DBP</th>\n",
       "      <th>SBP</th>\n",
       "      <th>Resp</th>\n",
       "    </tr>\n",
       "  </thead>\n",
       "  <tbody>\n",
       "    <tr>\n",
       "      <th>0</th>\n",
       "      <td>9</td>\n",
       "      <td>83.0</td>\n",
       "      <td>74.5</td>\n",
       "      <td>57.5</td>\n",
       "      <td>110.0</td>\n",
       "      <td>12.0</td>\n",
       "    </tr>\n",
       "    <tr>\n",
       "      <th>1</th>\n",
       "      <td>9</td>\n",
       "      <td>87.0</td>\n",
       "      <td>72.5</td>\n",
       "      <td>56.0</td>\n",
       "      <td>109.5</td>\n",
       "      <td>12.0</td>\n",
       "    </tr>\n",
       "    <tr>\n",
       "      <th>2</th>\n",
       "      <td>9</td>\n",
       "      <td>87.0</td>\n",
       "      <td>79.0</td>\n",
       "      <td>58.5</td>\n",
       "      <td>119.0</td>\n",
       "      <td>19.0</td>\n",
       "    </tr>\n",
       "    <tr>\n",
       "      <th>3</th>\n",
       "      <td>9</td>\n",
       "      <td>87.0</td>\n",
       "      <td>81.0</td>\n",
       "      <td>61.0</td>\n",
       "      <td>124.0</td>\n",
       "      <td>22.0</td>\n",
       "    </tr>\n",
       "    <tr>\n",
       "      <th>4</th>\n",
       "      <td>9</td>\n",
       "      <td>87.0</td>\n",
       "      <td>71.5</td>\n",
       "      <td>53.0</td>\n",
       "      <td>109.5</td>\n",
       "      <td>27.0</td>\n",
       "    </tr>\n",
       "    <tr>\n",
       "      <th>...</th>\n",
       "      <td>...</td>\n",
       "      <td>...</td>\n",
       "      <td>...</td>\n",
       "      <td>...</td>\n",
       "      <td>...</td>\n",
       "      <td>...</td>\n",
       "    </tr>\n",
       "    <tr>\n",
       "      <th>52</th>\n",
       "      <td>506</td>\n",
       "      <td>104.0</td>\n",
       "      <td>89.0</td>\n",
       "      <td>69.0</td>\n",
       "      <td>136.0</td>\n",
       "      <td>28.0</td>\n",
       "    </tr>\n",
       "    <tr>\n",
       "      <th>53</th>\n",
       "      <td>506</td>\n",
       "      <td>100.0</td>\n",
       "      <td>83.0</td>\n",
       "      <td>65.0</td>\n",
       "      <td>121.0</td>\n",
       "      <td>19.0</td>\n",
       "    </tr>\n",
       "    <tr>\n",
       "      <th>54</th>\n",
       "      <td>506</td>\n",
       "      <td>91.0</td>\n",
       "      <td>74.0</td>\n",
       "      <td>59.0</td>\n",
       "      <td>102.0</td>\n",
       "      <td>14.0</td>\n",
       "    </tr>\n",
       "    <tr>\n",
       "      <th>55</th>\n",
       "      <td>506</td>\n",
       "      <td>90.0</td>\n",
       "      <td>66.0</td>\n",
       "      <td>61.0</td>\n",
       "      <td>101.0</td>\n",
       "      <td>16.0</td>\n",
       "    </tr>\n",
       "    <tr>\n",
       "      <th>56</th>\n",
       "      <td>506</td>\n",
       "      <td>90.0</td>\n",
       "      <td>72.0</td>\n",
       "      <td>56.0</td>\n",
       "      <td>101.0</td>\n",
       "      <td>20.0</td>\n",
       "    </tr>\n",
       "  </tbody>\n",
       "</table>\n",
       "<p>9390 rows × 6 columns</p>\n",
       "</div>"
      ],
      "text/plain": [
       "    Subject     HR   MAP   DBP    SBP  Resp\n",
       "0         9   83.0  74.5  57.5  110.0  12.0\n",
       "1         9   87.0  72.5  56.0  109.5  12.0\n",
       "2         9   87.0  79.0  58.5  119.0  19.0\n",
       "3         9   87.0  81.0  61.0  124.0  22.0\n",
       "4         9   87.0  71.5  53.0  109.5  27.0\n",
       "..      ...    ...   ...   ...    ...   ...\n",
       "52      506  104.0  89.0  69.0  136.0  28.0\n",
       "53      506  100.0  83.0  65.0  121.0  19.0\n",
       "54      506   91.0  74.0  59.0  102.0  14.0\n",
       "55      506   90.0  66.0  61.0  101.0  16.0\n",
       "56      506   90.0  72.0  56.0  101.0  20.0\n",
       "\n",
       "[9390 rows x 6 columns]"
      ]
     },
     "metadata": {},
     "output_type": "display_data"
    },
    {
     "data": {
      "text/plain": [
       "'Avg length:'"
      ]
     },
     "metadata": {},
     "output_type": "display_data"
    },
    {
     "data": {
      "text/plain": [
       "108.59428571428572"
      ]
     },
     "metadata": {},
     "output_type": "display_data"
    },
    {
     "data": {
      "text/plain": [
       "6"
      ]
     },
     "metadata": {},
     "output_type": "display_data"
    },
    {
     "data": {
      "text/plain": [
       "'X_1:'"
      ]
     },
     "metadata": {},
     "output_type": "display_data"
    },
    {
     "data": {
      "text/html": [
       "<div>\n",
       "<style scoped>\n",
       "    .dataframe tbody tr th:only-of-type {\n",
       "        vertical-align: middle;\n",
       "    }\n",
       "\n",
       "    .dataframe tbody tr th {\n",
       "        vertical-align: top;\n",
       "    }\n",
       "\n",
       "    .dataframe thead th {\n",
       "        text-align: right;\n",
       "    }\n",
       "</style>\n",
       "<table border=\"1\" class=\"dataframe\">\n",
       "  <thead>\n",
       "    <tr style=\"text-align: right;\">\n",
       "      <th></th>\n",
       "      <th>1</th>\n",
       "      <th>2</th>\n",
       "      <th>3</th>\n",
       "      <th>4</th>\n",
       "      <th>5</th>\n",
       "    </tr>\n",
       "  </thead>\n",
       "  <tbody>\n",
       "    <tr>\n",
       "      <th>0</th>\n",
       "      <td>0      0.710733\n",
       "1      0.965008\n",
       "2      0.96500...</td>\n",
       "      <td>0      1.441700\n",
       "1      1.211315\n",
       "2      1.96006...</td>\n",
       "      <td>0      0.181928\n",
       "1     -0.102829\n",
       "2      0.37176...</td>\n",
       "      <td>0      0.897381\n",
       "1      0.859463\n",
       "2      1.57989...</td>\n",
       "      <td>0     -4.413554\n",
       "1     -4.413554\n",
       "2     -1.86455...</td>\n",
       "    </tr>\n",
       "    <tr>\n",
       "      <th>1</th>\n",
       "      <td>0      1.340723\n",
       "1      1.340723\n",
       "2      1.34072...</td>\n",
       "      <td>0     -0.778554\n",
       "1     -0.778554\n",
       "2      0.82151...</td>\n",
       "      <td>0     -0.107189\n",
       "1     -0.107189\n",
       "2      1.97062...</td>\n",
       "      <td>0     -0.903078\n",
       "1     -0.903078\n",
       "2     -0.10722...</td>\n",
       "      <td>0      1.674277\n",
       "1      1.674277\n",
       "2      1.67427...</td>\n",
       "    </tr>\n",
       "    <tr>\n",
       "      <th>2</th>\n",
       "      <td>0     -2.252885\n",
       "1     -2.252885\n",
       "2     -1.34260...</td>\n",
       "      <td>0     -1.614002\n",
       "1     -1.614002\n",
       "2      0.47826...</td>\n",
       "      <td>0     -1.350322\n",
       "1     -1.350322\n",
       "2     -0.16170...</td>\n",
       "      <td>0     -2.076497\n",
       "1     -2.076497\n",
       "2      0.34025...</td>\n",
       "      <td>0      0.328589\n",
       "1      0.328589\n",
       "2      0.32858...</td>\n",
       "    </tr>\n",
       "    <tr>\n",
       "      <th>3</th>\n",
       "      <td>0     -0.748380\n",
       "1     -0.748380\n",
       "2     -1.25784...</td>\n",
       "      <td>0     -1.904063\n",
       "1     -1.904063\n",
       "2      0.13196...</td>\n",
       "      <td>0     -1.310589\n",
       "1     -1.310589\n",
       "2      0.13027...</td>\n",
       "      <td>0     -1.252654\n",
       "1     -1.252654\n",
       "2      0.98884...</td>\n",
       "      <td>0      0.638863\n",
       "1      0.638863\n",
       "2     -0.40025...</td>\n",
       "    </tr>\n",
       "    <tr>\n",
       "      <th>4</th>\n",
       "      <td>0     -1.129663\n",
       "1     -1.129663\n",
       "2     -1.50219...</td>\n",
       "      <td>0     -2.085958\n",
       "1     -2.085958\n",
       "2     -2.48453...</td>\n",
       "      <td>0     -2.047608\n",
       "1     -2.047608\n",
       "2     -2.53958...</td>\n",
       "      <td>0     -0.139525\n",
       "1     -0.139525\n",
       "2     -0.42746...</td>\n",
       "      <td>0     -2.240410\n",
       "1     -2.240410\n",
       "2     -0.95165...</td>\n",
       "    </tr>\n",
       "    <tr>\n",
       "      <th>...</th>\n",
       "      <td>...</td>\n",
       "      <td>...</td>\n",
       "      <td>...</td>\n",
       "      <td>...</td>\n",
       "      <td>...</td>\n",
       "    </tr>\n",
       "    <tr>\n",
       "      <th>345</th>\n",
       "      <td>0      0.650005\n",
       "1      0.589643\n",
       "2     -0.43650...</td>\n",
       "      <td>0      0.608622\n",
       "1      1.589685\n",
       "2      1.41131...</td>\n",
       "      <td>0      3.279536\n",
       "1      3.279536\n",
       "2      1.58788...</td>\n",
       "      <td>0      0.691488\n",
       "1      0.691488\n",
       "2     -0.02521...</td>\n",
       "      <td>0     -0.462499\n",
       "1      0.541519\n",
       "2     -0.46249...</td>\n",
       "    </tr>\n",
       "    <tr>\n",
       "      <th>346</th>\n",
       "      <td>0      0.047154\n",
       "1      0.047154\n",
       "2      0.74614...</td>\n",
       "      <td>0     -0.057694\n",
       "1     -0.057694\n",
       "2     -0.05769...</td>\n",
       "      <td>0      0.213708\n",
       "1      0.213708\n",
       "2     -0.04931...</td>\n",
       "      <td>0     -0.447369\n",
       "1     -0.447369\n",
       "2     -0.13157...</td>\n",
       "      <td>0     -0.476827\n",
       "1     -0.476827\n",
       "2     -1.35618...</td>\n",
       "    </tr>\n",
       "    <tr>\n",
       "      <th>347</th>\n",
       "      <td>0     -0.843348\n",
       "1     -0.698360\n",
       "2     -0.37938...</td>\n",
       "      <td>0     -0.717568\n",
       "1     -0.668112\n",
       "2     -0.66811...</td>\n",
       "      <td>0     -0.930073\n",
       "1     -0.487014\n",
       "2     -0.55030...</td>\n",
       "      <td>0     -0.418345\n",
       "1     -0.586556\n",
       "2     -0.65384...</td>\n",
       "      <td>0     -2.073631\n",
       "1     -2.073631\n",
       "2     -2.07363...</td>\n",
       "    </tr>\n",
       "    <tr>\n",
       "      <th>348</th>\n",
       "      <td>0      2.245241\n",
       "1      0.922891\n",
       "2      1.58406...</td>\n",
       "      <td>0     -0.732514\n",
       "1     -1.682273\n",
       "2     -1.43603...</td>\n",
       "      <td>0     -1.124194\n",
       "1     -2.176147\n",
       "2     -1.29952...</td>\n",
       "      <td>0      0.192826\n",
       "1     -2.343582\n",
       "2     -2.14333...</td>\n",
       "      <td>0     -0.059245\n",
       "1     -0.059245\n",
       "2      0.18685...</td>\n",
       "    </tr>\n",
       "    <tr>\n",
       "      <th>349</th>\n",
       "      <td>0      0.571725\n",
       "1      0.571725\n",
       "2     -0.22564...</td>\n",
       "      <td>0     -0.799545\n",
       "1     -0.799545\n",
       "2     -2.49661...</td>\n",
       "      <td>0     -0.799549\n",
       "1     -0.799549\n",
       "2     -2.72855...</td>\n",
       "      <td>0      0.793528\n",
       "1      0.793528\n",
       "2     -1.45869...</td>\n",
       "      <td>0      0.944124\n",
       "1      0.944124\n",
       "2      0.77217...</td>\n",
       "    </tr>\n",
       "  </tbody>\n",
       "</table>\n",
       "<p>350 rows × 5 columns</p>\n",
       "</div>"
      ],
      "text/plain": [
       "                                                     1  \\\n",
       "0    0      0.710733\n",
       "1      0.965008\n",
       "2      0.96500...   \n",
       "1    0      1.340723\n",
       "1      1.340723\n",
       "2      1.34072...   \n",
       "2    0     -2.252885\n",
       "1     -2.252885\n",
       "2     -1.34260...   \n",
       "3    0     -0.748380\n",
       "1     -0.748380\n",
       "2     -1.25784...   \n",
       "4    0     -1.129663\n",
       "1     -1.129663\n",
       "2     -1.50219...   \n",
       "..                                                 ...   \n",
       "345  0      0.650005\n",
       "1      0.589643\n",
       "2     -0.43650...   \n",
       "346  0      0.047154\n",
       "1      0.047154\n",
       "2      0.74614...   \n",
       "347  0     -0.843348\n",
       "1     -0.698360\n",
       "2     -0.37938...   \n",
       "348  0      2.245241\n",
       "1      0.922891\n",
       "2      1.58406...   \n",
       "349  0      0.571725\n",
       "1      0.571725\n",
       "2     -0.22564...   \n",
       "\n",
       "                                                     2  \\\n",
       "0    0      1.441700\n",
       "1      1.211315\n",
       "2      1.96006...   \n",
       "1    0     -0.778554\n",
       "1     -0.778554\n",
       "2      0.82151...   \n",
       "2    0     -1.614002\n",
       "1     -1.614002\n",
       "2      0.47826...   \n",
       "3    0     -1.904063\n",
       "1     -1.904063\n",
       "2      0.13196...   \n",
       "4    0     -2.085958\n",
       "1     -2.085958\n",
       "2     -2.48453...   \n",
       "..                                                 ...   \n",
       "345  0      0.608622\n",
       "1      1.589685\n",
       "2      1.41131...   \n",
       "346  0     -0.057694\n",
       "1     -0.057694\n",
       "2     -0.05769...   \n",
       "347  0     -0.717568\n",
       "1     -0.668112\n",
       "2     -0.66811...   \n",
       "348  0     -0.732514\n",
       "1     -1.682273\n",
       "2     -1.43603...   \n",
       "349  0     -0.799545\n",
       "1     -0.799545\n",
       "2     -2.49661...   \n",
       "\n",
       "                                                     3  \\\n",
       "0    0      0.181928\n",
       "1     -0.102829\n",
       "2      0.37176...   \n",
       "1    0     -0.107189\n",
       "1     -0.107189\n",
       "2      1.97062...   \n",
       "2    0     -1.350322\n",
       "1     -1.350322\n",
       "2     -0.16170...   \n",
       "3    0     -1.310589\n",
       "1     -1.310589\n",
       "2      0.13027...   \n",
       "4    0     -2.047608\n",
       "1     -2.047608\n",
       "2     -2.53958...   \n",
       "..                                                 ...   \n",
       "345  0      3.279536\n",
       "1      3.279536\n",
       "2      1.58788...   \n",
       "346  0      0.213708\n",
       "1      0.213708\n",
       "2     -0.04931...   \n",
       "347  0     -0.930073\n",
       "1     -0.487014\n",
       "2     -0.55030...   \n",
       "348  0     -1.124194\n",
       "1     -2.176147\n",
       "2     -1.29952...   \n",
       "349  0     -0.799549\n",
       "1     -0.799549\n",
       "2     -2.72855...   \n",
       "\n",
       "                                                     4  \\\n",
       "0    0      0.897381\n",
       "1      0.859463\n",
       "2      1.57989...   \n",
       "1    0     -0.903078\n",
       "1     -0.903078\n",
       "2     -0.10722...   \n",
       "2    0     -2.076497\n",
       "1     -2.076497\n",
       "2      0.34025...   \n",
       "3    0     -1.252654\n",
       "1     -1.252654\n",
       "2      0.98884...   \n",
       "4    0     -0.139525\n",
       "1     -0.139525\n",
       "2     -0.42746...   \n",
       "..                                                 ...   \n",
       "345  0      0.691488\n",
       "1      0.691488\n",
       "2     -0.02521...   \n",
       "346  0     -0.447369\n",
       "1     -0.447369\n",
       "2     -0.13157...   \n",
       "347  0     -0.418345\n",
       "1     -0.586556\n",
       "2     -0.65384...   \n",
       "348  0      0.192826\n",
       "1     -2.343582\n",
       "2     -2.14333...   \n",
       "349  0      0.793528\n",
       "1      0.793528\n",
       "2     -1.45869...   \n",
       "\n",
       "                                                     5  \n",
       "0    0     -4.413554\n",
       "1     -4.413554\n",
       "2     -1.86455...  \n",
       "1    0      1.674277\n",
       "1      1.674277\n",
       "2      1.67427...  \n",
       "2    0      0.328589\n",
       "1      0.328589\n",
       "2      0.32858...  \n",
       "3    0      0.638863\n",
       "1      0.638863\n",
       "2     -0.40025...  \n",
       "4    0     -2.240410\n",
       "1     -2.240410\n",
       "2     -0.95165...  \n",
       "..                                                 ...  \n",
       "345  0     -0.462499\n",
       "1      0.541519\n",
       "2     -0.46249...  \n",
       "346  0     -0.476827\n",
       "1     -0.476827\n",
       "2     -1.35618...  \n",
       "347  0     -2.073631\n",
       "1     -2.073631\n",
       "2     -2.07363...  \n",
       "348  0     -0.059245\n",
       "1     -0.059245\n",
       "2      0.18685...  \n",
       "349  0      0.944124\n",
       "1      0.944124\n",
       "2      0.77217...  \n",
       "\n",
       "[350 rows x 5 columns]"
      ]
     },
     "metadata": {},
     "output_type": "display_data"
    },
    {
     "data": {
      "text/plain": [
       "'Completed'"
      ]
     },
     "metadata": {},
     "output_type": "display_data"
    },
    {
     "data": {
      "text/plain": [
       "1"
      ]
     },
     "metadata": {},
     "output_type": "display_data"
    },
    {
     "data": {
      "text/plain": [
       "'Completed'"
      ]
     },
     "metadata": {},
     "output_type": "display_data"
    },
    {
     "data": {
      "text/plain": [
       "2"
      ]
     },
     "metadata": {},
     "output_type": "display_data"
    },
    {
     "data": {
      "text/plain": [
       "'Completed'"
      ]
     },
     "metadata": {},
     "output_type": "display_data"
    },
    {
     "data": {
      "text/plain": [
       "3"
      ]
     },
     "metadata": {},
     "output_type": "display_data"
    },
    {
     "data": {
      "text/plain": [
       "'Completed'"
      ]
     },
     "metadata": {},
     "output_type": "display_data"
    },
    {
     "data": {
      "text/plain": [
       "4"
      ]
     },
     "metadata": {},
     "output_type": "display_data"
    },
    {
     "data": {
      "text/plain": [
       "'Completed'"
      ]
     },
     "metadata": {},
     "output_type": "display_data"
    },
    {
     "data": {
      "text/plain": [
       "5"
      ]
     },
     "metadata": {},
     "output_type": "display_data"
    },
    {
     "data": {
      "text/plain": [
       "'Completed'"
      ]
     },
     "metadata": {},
     "output_type": "display_data"
    },
    {
     "data": {
      "text/plain": [
       "6"
      ]
     },
     "metadata": {},
     "output_type": "display_data"
    },
    {
     "data": {
      "text/plain": [
       "'Completed'"
      ]
     },
     "metadata": {},
     "output_type": "display_data"
    },
    {
     "data": {
      "text/plain": [
       "7"
      ]
     },
     "metadata": {},
     "output_type": "display_data"
    },
    {
     "data": {
      "text/plain": [
       "'Completed'"
      ]
     },
     "metadata": {},
     "output_type": "display_data"
    },
    {
     "data": {
      "text/plain": [
       "8"
      ]
     },
     "metadata": {},
     "output_type": "display_data"
    },
    {
     "data": {
      "text/plain": [
       "'Completed'"
      ]
     },
     "metadata": {},
     "output_type": "display_data"
    },
    {
     "data": {
      "text/plain": [
       "9"
      ]
     },
     "metadata": {},
     "output_type": "display_data"
    },
    {
     "data": {
      "text/plain": [
       "'Completed'"
      ]
     },
     "metadata": {},
     "output_type": "display_data"
    },
    {
     "data": {
      "text/plain": [
       "10"
      ]
     },
     "metadata": {},
     "output_type": "display_data"
    },
    {
     "data": {
      "text/plain": [
       "'Completed'"
      ]
     },
     "metadata": {},
     "output_type": "display_data"
    },
    {
     "data": {
      "text/plain": [
       "11"
      ]
     },
     "metadata": {},
     "output_type": "display_data"
    },
    {
     "data": {
      "text/plain": [
       "'Completed'"
      ]
     },
     "metadata": {},
     "output_type": "display_data"
    },
    {
     "data": {
      "text/plain": [
       "12"
      ]
     },
     "metadata": {},
     "output_type": "display_data"
    },
    {
     "data": {
      "text/plain": [
       "'Completed'"
      ]
     },
     "metadata": {},
     "output_type": "display_data"
    },
    {
     "data": {
      "text/plain": [
       "13"
      ]
     },
     "metadata": {},
     "output_type": "display_data"
    },
    {
     "data": {
      "text/plain": [
       "'Completed'"
      ]
     },
     "metadata": {},
     "output_type": "display_data"
    },
    {
     "data": {
      "text/plain": [
       "14"
      ]
     },
     "metadata": {},
     "output_type": "display_data"
    },
    {
     "data": {
      "text/plain": [
       "'Completed'"
      ]
     },
     "metadata": {},
     "output_type": "display_data"
    },
    {
     "data": {
      "text/plain": [
       "15"
      ]
     },
     "metadata": {},
     "output_type": "display_data"
    },
    {
     "data": {
      "text/plain": [
       "'Completed'"
      ]
     },
     "metadata": {},
     "output_type": "display_data"
    },
    {
     "data": {
      "text/plain": [
       "16"
      ]
     },
     "metadata": {},
     "output_type": "display_data"
    },
    {
     "data": {
      "text/plain": [
       "'Completed'"
      ]
     },
     "metadata": {},
     "output_type": "display_data"
    },
    {
     "data": {
      "text/plain": [
       "17"
      ]
     },
     "metadata": {},
     "output_type": "display_data"
    },
    {
     "data": {
      "text/plain": [
       "'Completed'"
      ]
     },
     "metadata": {},
     "output_type": "display_data"
    },
    {
     "data": {
      "text/plain": [
       "18"
      ]
     },
     "metadata": {},
     "output_type": "display_data"
    },
    {
     "data": {
      "text/plain": [
       "'Completed'"
      ]
     },
     "metadata": {},
     "output_type": "display_data"
    },
    {
     "data": {
      "text/plain": [
       "19"
      ]
     },
     "metadata": {},
     "output_type": "display_data"
    },
    {
     "data": {
      "text/plain": [
       "'Completed'"
      ]
     },
     "metadata": {},
     "output_type": "display_data"
    },
    {
     "data": {
      "text/plain": [
       "20"
      ]
     },
     "metadata": {},
     "output_type": "display_data"
    },
    {
     "data": {
      "text/plain": [
       "'Completed'"
      ]
     },
     "metadata": {},
     "output_type": "display_data"
    },
    {
     "data": {
      "text/plain": [
       "21"
      ]
     },
     "metadata": {},
     "output_type": "display_data"
    },
    {
     "data": {
      "text/plain": [
       "'Completed'"
      ]
     },
     "metadata": {},
     "output_type": "display_data"
    },
    {
     "data": {
      "text/plain": [
       "22"
      ]
     },
     "metadata": {},
     "output_type": "display_data"
    },
    {
     "data": {
      "text/plain": [
       "'Completed'"
      ]
     },
     "metadata": {},
     "output_type": "display_data"
    },
    {
     "data": {
      "text/plain": [
       "23"
      ]
     },
     "metadata": {},
     "output_type": "display_data"
    },
    {
     "data": {
      "text/plain": [
       "'Completed'"
      ]
     },
     "metadata": {},
     "output_type": "display_data"
    },
    {
     "data": {
      "text/plain": [
       "24"
      ]
     },
     "metadata": {},
     "output_type": "display_data"
    },
    {
     "data": {
      "text/plain": [
       "'Completed'"
      ]
     },
     "metadata": {},
     "output_type": "display_data"
    },
    {
     "data": {
      "text/plain": [
       "25"
      ]
     },
     "metadata": {},
     "output_type": "display_data"
    },
    {
     "data": {
      "text/plain": [
       "'Completed'"
      ]
     },
     "metadata": {},
     "output_type": "display_data"
    },
    {
     "data": {
      "text/plain": [
       "26"
      ]
     },
     "metadata": {},
     "output_type": "display_data"
    },
    {
     "data": {
      "text/plain": [
       "'Completed'"
      ]
     },
     "metadata": {},
     "output_type": "display_data"
    },
    {
     "data": {
      "text/plain": [
       "27"
      ]
     },
     "metadata": {},
     "output_type": "display_data"
    },
    {
     "data": {
      "text/plain": [
       "'Completed'"
      ]
     },
     "metadata": {},
     "output_type": "display_data"
    },
    {
     "data": {
      "text/plain": [
       "28"
      ]
     },
     "metadata": {},
     "output_type": "display_data"
    },
    {
     "data": {
      "text/plain": [
       "'Completed'"
      ]
     },
     "metadata": {},
     "output_type": "display_data"
    },
    {
     "data": {
      "text/plain": [
       "29"
      ]
     },
     "metadata": {},
     "output_type": "display_data"
    },
    {
     "data": {
      "text/plain": [
       "'Completed'"
      ]
     },
     "metadata": {},
     "output_type": "display_data"
    },
    {
     "data": {
      "text/plain": [
       "30"
      ]
     },
     "metadata": {},
     "output_type": "display_data"
    },
    {
     "data": {
      "text/plain": [
       "'Current key in progress'"
      ]
     },
     "metadata": {},
     "output_type": "display_data"
    },
    {
     "data": {
      "text/plain": [
       "'sample_numbers_list_1.8_to_1.9'"
      ]
     },
     "metadata": {},
     "output_type": "display_data"
    },
    {
     "data": {
      "text/plain": [
       "459"
      ]
     },
     "metadata": {},
     "output_type": "display_data"
    },
    {
     "data": {
      "text/html": [
       "<div>\n",
       "<style scoped>\n",
       "    .dataframe tbody tr th:only-of-type {\n",
       "        vertical-align: middle;\n",
       "    }\n",
       "\n",
       "    .dataframe tbody tr th {\n",
       "        vertical-align: top;\n",
       "    }\n",
       "\n",
       "    .dataframe thead th {\n",
       "        text-align: right;\n",
       "    }\n",
       "</style>\n",
       "<table border=\"1\" class=\"dataframe\">\n",
       "  <thead>\n",
       "    <tr style=\"text-align: right;\">\n",
       "      <th></th>\n",
       "      <th>Subject</th>\n",
       "      <th>HR</th>\n",
       "      <th>MAP</th>\n",
       "      <th>DBP</th>\n",
       "      <th>SBP</th>\n",
       "      <th>Resp</th>\n",
       "    </tr>\n",
       "  </thead>\n",
       "  <tbody>\n",
       "    <tr>\n",
       "      <th>0</th>\n",
       "      <td>11</td>\n",
       "      <td>90.0</td>\n",
       "      <td>70.0</td>\n",
       "      <td>53.0</td>\n",
       "      <td>111.0</td>\n",
       "      <td>24.0</td>\n",
       "    </tr>\n",
       "    <tr>\n",
       "      <th>1</th>\n",
       "      <td>11</td>\n",
       "      <td>90.0</td>\n",
       "      <td>70.0</td>\n",
       "      <td>53.0</td>\n",
       "      <td>111.0</td>\n",
       "      <td>24.0</td>\n",
       "    </tr>\n",
       "    <tr>\n",
       "      <th>2</th>\n",
       "      <td>11</td>\n",
       "      <td>90.0</td>\n",
       "      <td>80.0</td>\n",
       "      <td>60.0</td>\n",
       "      <td>121.0</td>\n",
       "      <td>24.0</td>\n",
       "    </tr>\n",
       "    <tr>\n",
       "      <th>3</th>\n",
       "      <td>11</td>\n",
       "      <td>81.0</td>\n",
       "      <td>67.0</td>\n",
       "      <td>52.0</td>\n",
       "      <td>99.0</td>\n",
       "      <td>12.0</td>\n",
       "    </tr>\n",
       "    <tr>\n",
       "      <th>4</th>\n",
       "      <td>11</td>\n",
       "      <td>83.0</td>\n",
       "      <td>66.0</td>\n",
       "      <td>51.0</td>\n",
       "      <td>99.0</td>\n",
       "      <td>14.0</td>\n",
       "    </tr>\n",
       "    <tr>\n",
       "      <th>...</th>\n",
       "      <td>...</td>\n",
       "      <td>...</td>\n",
       "      <td>...</td>\n",
       "      <td>...</td>\n",
       "      <td>...</td>\n",
       "      <td>...</td>\n",
       "    </tr>\n",
       "    <tr>\n",
       "      <th>52</th>\n",
       "      <td>506</td>\n",
       "      <td>104.0</td>\n",
       "      <td>89.0</td>\n",
       "      <td>69.0</td>\n",
       "      <td>136.0</td>\n",
       "      <td>28.0</td>\n",
       "    </tr>\n",
       "    <tr>\n",
       "      <th>53</th>\n",
       "      <td>506</td>\n",
       "      <td>100.0</td>\n",
       "      <td>83.0</td>\n",
       "      <td>65.0</td>\n",
       "      <td>121.0</td>\n",
       "      <td>19.0</td>\n",
       "    </tr>\n",
       "    <tr>\n",
       "      <th>54</th>\n",
       "      <td>506</td>\n",
       "      <td>91.0</td>\n",
       "      <td>74.0</td>\n",
       "      <td>59.0</td>\n",
       "      <td>102.0</td>\n",
       "      <td>14.0</td>\n",
       "    </tr>\n",
       "    <tr>\n",
       "      <th>55</th>\n",
       "      <td>506</td>\n",
       "      <td>90.0</td>\n",
       "      <td>66.0</td>\n",
       "      <td>61.0</td>\n",
       "      <td>101.0</td>\n",
       "      <td>16.0</td>\n",
       "    </tr>\n",
       "    <tr>\n",
       "      <th>56</th>\n",
       "      <td>506</td>\n",
       "      <td>90.0</td>\n",
       "      <td>72.0</td>\n",
       "      <td>56.0</td>\n",
       "      <td>101.0</td>\n",
       "      <td>20.0</td>\n",
       "    </tr>\n",
       "  </tbody>\n",
       "</table>\n",
       "<p>9410 rows × 6 columns</p>\n",
       "</div>"
      ],
      "text/plain": [
       "    Subject     HR   MAP   DBP    SBP  Resp\n",
       "0        11   90.0  70.0  53.0  111.0  24.0\n",
       "1        11   90.0  70.0  53.0  111.0  24.0\n",
       "2        11   90.0  80.0  60.0  121.0  24.0\n",
       "3        11   81.0  67.0  52.0   99.0  12.0\n",
       "4        11   83.0  66.0  51.0   99.0  14.0\n",
       "..      ...    ...   ...   ...    ...   ...\n",
       "52      506  104.0  89.0  69.0  136.0  28.0\n",
       "53      506  100.0  83.0  65.0  121.0  19.0\n",
       "54      506   91.0  74.0  59.0  102.0  14.0\n",
       "55      506   90.0  66.0  61.0  101.0  16.0\n",
       "56      506   90.0  72.0  56.0  101.0  20.0\n",
       "\n",
       "[9410 rows x 6 columns]"
      ]
     },
     "metadata": {},
     "output_type": "display_data"
    },
    {
     "data": {
      "text/plain": [
       "'Avg length:'"
      ]
     },
     "metadata": {},
     "output_type": "display_data"
    },
    {
     "data": {
      "text/plain": [
       "108.59428571428572"
      ]
     },
     "metadata": {},
     "output_type": "display_data"
    },
    {
     "data": {
      "text/plain": [
       "6"
      ]
     },
     "metadata": {},
     "output_type": "display_data"
    },
    {
     "data": {
      "text/plain": [
       "'X_1:'"
      ]
     },
     "metadata": {},
     "output_type": "display_data"
    },
    {
     "data": {
      "text/html": [
       "<div>\n",
       "<style scoped>\n",
       "    .dataframe tbody tr th:only-of-type {\n",
       "        vertical-align: middle;\n",
       "    }\n",
       "\n",
       "    .dataframe tbody tr th {\n",
       "        vertical-align: top;\n",
       "    }\n",
       "\n",
       "    .dataframe thead th {\n",
       "        text-align: right;\n",
       "    }\n",
       "</style>\n",
       "<table border=\"1\" class=\"dataframe\">\n",
       "  <thead>\n",
       "    <tr style=\"text-align: right;\">\n",
       "      <th></th>\n",
       "      <th>1</th>\n",
       "      <th>2</th>\n",
       "      <th>3</th>\n",
       "      <th>4</th>\n",
       "      <th>5</th>\n",
       "    </tr>\n",
       "  </thead>\n",
       "  <tbody>\n",
       "    <tr>\n",
       "      <th>0</th>\n",
       "      <td>0      1.340723\n",
       "1      1.340723\n",
       "2      1.34072...</td>\n",
       "      <td>0     -0.778554\n",
       "1     -0.778554\n",
       "2      0.82151...</td>\n",
       "      <td>0     -0.107189\n",
       "1     -0.107189\n",
       "2      1.97062...</td>\n",
       "      <td>0     -0.903078\n",
       "1     -0.903078\n",
       "2     -0.10722...</td>\n",
       "      <td>0      1.674277\n",
       "1      1.674277\n",
       "2      1.67427...</td>\n",
       "    </tr>\n",
       "    <tr>\n",
       "      <th>1</th>\n",
       "      <td>0     -0.748380\n",
       "1     -0.748380\n",
       "2     -1.25784...</td>\n",
       "      <td>0     -1.904063\n",
       "1     -1.904063\n",
       "2      0.13196...</td>\n",
       "      <td>0     -1.310589\n",
       "1     -1.310589\n",
       "2      0.13027...</td>\n",
       "      <td>0     -1.252654\n",
       "1     -1.252654\n",
       "2      0.98884...</td>\n",
       "      <td>0      0.638863\n",
       "1      0.638863\n",
       "2     -0.40025...</td>\n",
       "    </tr>\n",
       "    <tr>\n",
       "      <th>2</th>\n",
       "      <td>0     -1.129663\n",
       "1     -1.129663\n",
       "2     -1.50219...</td>\n",
       "      <td>0     -2.085958\n",
       "1     -2.085958\n",
       "2     -2.48453...</td>\n",
       "      <td>0     -2.047608\n",
       "1     -2.047608\n",
       "2     -2.53958...</td>\n",
       "      <td>0     -0.139525\n",
       "1     -0.139525\n",
       "2     -0.42746...</td>\n",
       "      <td>0     -2.240410\n",
       "1     -2.240410\n",
       "2     -0.95165...</td>\n",
       "    </tr>\n",
       "    <tr>\n",
       "      <th>3</th>\n",
       "      <td>0     -0.459793\n",
       "1     -0.357141\n",
       "2     -0.53678...</td>\n",
       "      <td>0      0.002752\n",
       "1      0.537660\n",
       "2      0.59709...</td>\n",
       "      <td>0      0.639073\n",
       "1      0.639073\n",
       "2      0.79330...</td>\n",
       "      <td>0     -0.650055\n",
       "1     -0.308420\n",
       "2      0.03321...</td>\n",
       "      <td>0      0.143012\n",
       "1      0.675609\n",
       "2      0.94190...</td>\n",
       "    </tr>\n",
       "    <tr>\n",
       "      <th>4</th>\n",
       "      <td>0     -0.746364\n",
       "1     -0.746364\n",
       "2     -1.32513...</td>\n",
       "      <td>0      2.053426\n",
       "1      2.053426\n",
       "2      1.22375...</td>\n",
       "      <td>0      3.423496\n",
       "1      3.423496\n",
       "2      2.55556...</td>\n",
       "      <td>0     -0.424969\n",
       "1     -0.424969\n",
       "2     -0.94679...</td>\n",
       "      <td>0      0.370669\n",
       "1      0.370669\n",
       "2     -0.25213...</td>\n",
       "    </tr>\n",
       "    <tr>\n",
       "      <th>...</th>\n",
       "      <td>...</td>\n",
       "      <td>...</td>\n",
       "      <td>...</td>\n",
       "      <td>...</td>\n",
       "      <td>...</td>\n",
       "    </tr>\n",
       "    <tr>\n",
       "      <th>345</th>\n",
       "      <td>0      0.650005\n",
       "1      0.589643\n",
       "2     -0.43650...</td>\n",
       "      <td>0      0.608622\n",
       "1      1.589685\n",
       "2      1.41131...</td>\n",
       "      <td>0      3.279536\n",
       "1      3.279536\n",
       "2      1.58788...</td>\n",
       "      <td>0      0.691488\n",
       "1      0.691488\n",
       "2     -0.02521...</td>\n",
       "      <td>0     -0.462499\n",
       "1      0.541519\n",
       "2     -0.46249...</td>\n",
       "    </tr>\n",
       "    <tr>\n",
       "      <th>346</th>\n",
       "      <td>0      0.047154\n",
       "1      0.047154\n",
       "2      0.74614...</td>\n",
       "      <td>0     -0.057694\n",
       "1     -0.057694\n",
       "2     -0.05769...</td>\n",
       "      <td>0      0.213708\n",
       "1      0.213708\n",
       "2     -0.04931...</td>\n",
       "      <td>0     -0.447369\n",
       "1     -0.447369\n",
       "2     -0.13157...</td>\n",
       "      <td>0     -0.476827\n",
       "1     -0.476827\n",
       "2     -1.35618...</td>\n",
       "    </tr>\n",
       "    <tr>\n",
       "      <th>347</th>\n",
       "      <td>0     -0.843348\n",
       "1     -0.698360\n",
       "2     -0.37938...</td>\n",
       "      <td>0     -0.717568\n",
       "1     -0.668112\n",
       "2     -0.66811...</td>\n",
       "      <td>0     -0.930073\n",
       "1     -0.487014\n",
       "2     -0.55030...</td>\n",
       "      <td>0     -0.418345\n",
       "1     -0.586556\n",
       "2     -0.65384...</td>\n",
       "      <td>0     -2.073631\n",
       "1     -2.073631\n",
       "2     -2.07363...</td>\n",
       "    </tr>\n",
       "    <tr>\n",
       "      <th>348</th>\n",
       "      <td>0      2.245241\n",
       "1      0.922891\n",
       "2      1.58406...</td>\n",
       "      <td>0     -0.732514\n",
       "1     -1.682273\n",
       "2     -1.43603...</td>\n",
       "      <td>0     -1.124194\n",
       "1     -2.176147\n",
       "2     -1.29952...</td>\n",
       "      <td>0      0.192826\n",
       "1     -2.343582\n",
       "2     -2.14333...</td>\n",
       "      <td>0     -0.059245\n",
       "1     -0.059245\n",
       "2      0.18685...</td>\n",
       "    </tr>\n",
       "    <tr>\n",
       "      <th>349</th>\n",
       "      <td>0      0.571725\n",
       "1      0.571725\n",
       "2     -0.22564...</td>\n",
       "      <td>0     -0.799545\n",
       "1     -0.799545\n",
       "2     -2.49661...</td>\n",
       "      <td>0     -0.799549\n",
       "1     -0.799549\n",
       "2     -2.72855...</td>\n",
       "      <td>0      0.793528\n",
       "1      0.793528\n",
       "2     -1.45869...</td>\n",
       "      <td>0      0.944124\n",
       "1      0.944124\n",
       "2      0.77217...</td>\n",
       "    </tr>\n",
       "  </tbody>\n",
       "</table>\n",
       "<p>350 rows × 5 columns</p>\n",
       "</div>"
      ],
      "text/plain": [
       "                                                     1  \\\n",
       "0    0      1.340723\n",
       "1      1.340723\n",
       "2      1.34072...   \n",
       "1    0     -0.748380\n",
       "1     -0.748380\n",
       "2     -1.25784...   \n",
       "2    0     -1.129663\n",
       "1     -1.129663\n",
       "2     -1.50219...   \n",
       "3    0     -0.459793\n",
       "1     -0.357141\n",
       "2     -0.53678...   \n",
       "4    0     -0.746364\n",
       "1     -0.746364\n",
       "2     -1.32513...   \n",
       "..                                                 ...   \n",
       "345  0      0.650005\n",
       "1      0.589643\n",
       "2     -0.43650...   \n",
       "346  0      0.047154\n",
       "1      0.047154\n",
       "2      0.74614...   \n",
       "347  0     -0.843348\n",
       "1     -0.698360\n",
       "2     -0.37938...   \n",
       "348  0      2.245241\n",
       "1      0.922891\n",
       "2      1.58406...   \n",
       "349  0      0.571725\n",
       "1      0.571725\n",
       "2     -0.22564...   \n",
       "\n",
       "                                                     2  \\\n",
       "0    0     -0.778554\n",
       "1     -0.778554\n",
       "2      0.82151...   \n",
       "1    0     -1.904063\n",
       "1     -1.904063\n",
       "2      0.13196...   \n",
       "2    0     -2.085958\n",
       "1     -2.085958\n",
       "2     -2.48453...   \n",
       "3    0      0.002752\n",
       "1      0.537660\n",
       "2      0.59709...   \n",
       "4    0      2.053426\n",
       "1      2.053426\n",
       "2      1.22375...   \n",
       "..                                                 ...   \n",
       "345  0      0.608622\n",
       "1      1.589685\n",
       "2      1.41131...   \n",
       "346  0     -0.057694\n",
       "1     -0.057694\n",
       "2     -0.05769...   \n",
       "347  0     -0.717568\n",
       "1     -0.668112\n",
       "2     -0.66811...   \n",
       "348  0     -0.732514\n",
       "1     -1.682273\n",
       "2     -1.43603...   \n",
       "349  0     -0.799545\n",
       "1     -0.799545\n",
       "2     -2.49661...   \n",
       "\n",
       "                                                     3  \\\n",
       "0    0     -0.107189\n",
       "1     -0.107189\n",
       "2      1.97062...   \n",
       "1    0     -1.310589\n",
       "1     -1.310589\n",
       "2      0.13027...   \n",
       "2    0     -2.047608\n",
       "1     -2.047608\n",
       "2     -2.53958...   \n",
       "3    0      0.639073\n",
       "1      0.639073\n",
       "2      0.79330...   \n",
       "4    0      3.423496\n",
       "1      3.423496\n",
       "2      2.55556...   \n",
       "..                                                 ...   \n",
       "345  0      3.279536\n",
       "1      3.279536\n",
       "2      1.58788...   \n",
       "346  0      0.213708\n",
       "1      0.213708\n",
       "2     -0.04931...   \n",
       "347  0     -0.930073\n",
       "1     -0.487014\n",
       "2     -0.55030...   \n",
       "348  0     -1.124194\n",
       "1     -2.176147\n",
       "2     -1.29952...   \n",
       "349  0     -0.799549\n",
       "1     -0.799549\n",
       "2     -2.72855...   \n",
       "\n",
       "                                                     4  \\\n",
       "0    0     -0.903078\n",
       "1     -0.903078\n",
       "2     -0.10722...   \n",
       "1    0     -1.252654\n",
       "1     -1.252654\n",
       "2      0.98884...   \n",
       "2    0     -0.139525\n",
       "1     -0.139525\n",
       "2     -0.42746...   \n",
       "3    0     -0.650055\n",
       "1     -0.308420\n",
       "2      0.03321...   \n",
       "4    0     -0.424969\n",
       "1     -0.424969\n",
       "2     -0.94679...   \n",
       "..                                                 ...   \n",
       "345  0      0.691488\n",
       "1      0.691488\n",
       "2     -0.02521...   \n",
       "346  0     -0.447369\n",
       "1     -0.447369\n",
       "2     -0.13157...   \n",
       "347  0     -0.418345\n",
       "1     -0.586556\n",
       "2     -0.65384...   \n",
       "348  0      0.192826\n",
       "1     -2.343582\n",
       "2     -2.14333...   \n",
       "349  0      0.793528\n",
       "1      0.793528\n",
       "2     -1.45869...   \n",
       "\n",
       "                                                     5  \n",
       "0    0      1.674277\n",
       "1      1.674277\n",
       "2      1.67427...  \n",
       "1    0      0.638863\n",
       "1      0.638863\n",
       "2     -0.40025...  \n",
       "2    0     -2.240410\n",
       "1     -2.240410\n",
       "2     -0.95165...  \n",
       "3    0      0.143012\n",
       "1      0.675609\n",
       "2      0.94190...  \n",
       "4    0      0.370669\n",
       "1      0.370669\n",
       "2     -0.25213...  \n",
       "..                                                 ...  \n",
       "345  0     -0.462499\n",
       "1      0.541519\n",
       "2     -0.46249...  \n",
       "346  0     -0.476827\n",
       "1     -0.476827\n",
       "2     -1.35618...  \n",
       "347  0     -2.073631\n",
       "1     -2.073631\n",
       "2     -2.07363...  \n",
       "348  0     -0.059245\n",
       "1     -0.059245\n",
       "2      0.18685...  \n",
       "349  0      0.944124\n",
       "1      0.944124\n",
       "2      0.77217...  \n",
       "\n",
       "[350 rows x 5 columns]"
      ]
     },
     "metadata": {},
     "output_type": "display_data"
    },
    {
     "data": {
      "text/plain": [
       "'Completed'"
      ]
     },
     "metadata": {},
     "output_type": "display_data"
    },
    {
     "data": {
      "text/plain": [
       "1"
      ]
     },
     "metadata": {},
     "output_type": "display_data"
    },
    {
     "data": {
      "text/plain": [
       "'Completed'"
      ]
     },
     "metadata": {},
     "output_type": "display_data"
    },
    {
     "data": {
      "text/plain": [
       "2"
      ]
     },
     "metadata": {},
     "output_type": "display_data"
    },
    {
     "data": {
      "text/plain": [
       "'Completed'"
      ]
     },
     "metadata": {},
     "output_type": "display_data"
    },
    {
     "data": {
      "text/plain": [
       "3"
      ]
     },
     "metadata": {},
     "output_type": "display_data"
    },
    {
     "data": {
      "text/plain": [
       "'Completed'"
      ]
     },
     "metadata": {},
     "output_type": "display_data"
    },
    {
     "data": {
      "text/plain": [
       "4"
      ]
     },
     "metadata": {},
     "output_type": "display_data"
    },
    {
     "data": {
      "text/plain": [
       "'Completed'"
      ]
     },
     "metadata": {},
     "output_type": "display_data"
    },
    {
     "data": {
      "text/plain": [
       "5"
      ]
     },
     "metadata": {},
     "output_type": "display_data"
    },
    {
     "data": {
      "text/plain": [
       "'Completed'"
      ]
     },
     "metadata": {},
     "output_type": "display_data"
    },
    {
     "data": {
      "text/plain": [
       "6"
      ]
     },
     "metadata": {},
     "output_type": "display_data"
    },
    {
     "data": {
      "text/plain": [
       "'Completed'"
      ]
     },
     "metadata": {},
     "output_type": "display_data"
    },
    {
     "data": {
      "text/plain": [
       "7"
      ]
     },
     "metadata": {},
     "output_type": "display_data"
    },
    {
     "data": {
      "text/plain": [
       "'Completed'"
      ]
     },
     "metadata": {},
     "output_type": "display_data"
    },
    {
     "data": {
      "text/plain": [
       "8"
      ]
     },
     "metadata": {},
     "output_type": "display_data"
    },
    {
     "data": {
      "text/plain": [
       "'Completed'"
      ]
     },
     "metadata": {},
     "output_type": "display_data"
    },
    {
     "data": {
      "text/plain": [
       "9"
      ]
     },
     "metadata": {},
     "output_type": "display_data"
    },
    {
     "data": {
      "text/plain": [
       "'Completed'"
      ]
     },
     "metadata": {},
     "output_type": "display_data"
    },
    {
     "data": {
      "text/plain": [
       "10"
      ]
     },
     "metadata": {},
     "output_type": "display_data"
    },
    {
     "data": {
      "text/plain": [
       "'Completed'"
      ]
     },
     "metadata": {},
     "output_type": "display_data"
    },
    {
     "data": {
      "text/plain": [
       "11"
      ]
     },
     "metadata": {},
     "output_type": "display_data"
    },
    {
     "data": {
      "text/plain": [
       "'Completed'"
      ]
     },
     "metadata": {},
     "output_type": "display_data"
    },
    {
     "data": {
      "text/plain": [
       "12"
      ]
     },
     "metadata": {},
     "output_type": "display_data"
    },
    {
     "data": {
      "text/plain": [
       "'Completed'"
      ]
     },
     "metadata": {},
     "output_type": "display_data"
    },
    {
     "data": {
      "text/plain": [
       "13"
      ]
     },
     "metadata": {},
     "output_type": "display_data"
    },
    {
     "data": {
      "text/plain": [
       "'Completed'"
      ]
     },
     "metadata": {},
     "output_type": "display_data"
    },
    {
     "data": {
      "text/plain": [
       "14"
      ]
     },
     "metadata": {},
     "output_type": "display_data"
    },
    {
     "data": {
      "text/plain": [
       "'Completed'"
      ]
     },
     "metadata": {},
     "output_type": "display_data"
    },
    {
     "data": {
      "text/plain": [
       "15"
      ]
     },
     "metadata": {},
     "output_type": "display_data"
    },
    {
     "data": {
      "text/plain": [
       "'Completed'"
      ]
     },
     "metadata": {},
     "output_type": "display_data"
    },
    {
     "data": {
      "text/plain": [
       "16"
      ]
     },
     "metadata": {},
     "output_type": "display_data"
    },
    {
     "data": {
      "text/plain": [
       "'Completed'"
      ]
     },
     "metadata": {},
     "output_type": "display_data"
    },
    {
     "data": {
      "text/plain": [
       "17"
      ]
     },
     "metadata": {},
     "output_type": "display_data"
    },
    {
     "data": {
      "text/plain": [
       "'Completed'"
      ]
     },
     "metadata": {},
     "output_type": "display_data"
    },
    {
     "data": {
      "text/plain": [
       "18"
      ]
     },
     "metadata": {},
     "output_type": "display_data"
    },
    {
     "data": {
      "text/plain": [
       "'Completed'"
      ]
     },
     "metadata": {},
     "output_type": "display_data"
    },
    {
     "data": {
      "text/plain": [
       "19"
      ]
     },
     "metadata": {},
     "output_type": "display_data"
    },
    {
     "data": {
      "text/plain": [
       "'Completed'"
      ]
     },
     "metadata": {},
     "output_type": "display_data"
    },
    {
     "data": {
      "text/plain": [
       "20"
      ]
     },
     "metadata": {},
     "output_type": "display_data"
    },
    {
     "data": {
      "text/plain": [
       "'Completed'"
      ]
     },
     "metadata": {},
     "output_type": "display_data"
    },
    {
     "data": {
      "text/plain": [
       "21"
      ]
     },
     "metadata": {},
     "output_type": "display_data"
    },
    {
     "data": {
      "text/plain": [
       "'Completed'"
      ]
     },
     "metadata": {},
     "output_type": "display_data"
    },
    {
     "data": {
      "text/plain": [
       "22"
      ]
     },
     "metadata": {},
     "output_type": "display_data"
    },
    {
     "data": {
      "text/plain": [
       "'Completed'"
      ]
     },
     "metadata": {},
     "output_type": "display_data"
    },
    {
     "data": {
      "text/plain": [
       "23"
      ]
     },
     "metadata": {},
     "output_type": "display_data"
    },
    {
     "data": {
      "text/plain": [
       "'Completed'"
      ]
     },
     "metadata": {},
     "output_type": "display_data"
    },
    {
     "data": {
      "text/plain": [
       "24"
      ]
     },
     "metadata": {},
     "output_type": "display_data"
    },
    {
     "data": {
      "text/plain": [
       "'Completed'"
      ]
     },
     "metadata": {},
     "output_type": "display_data"
    },
    {
     "data": {
      "text/plain": [
       "25"
      ]
     },
     "metadata": {},
     "output_type": "display_data"
    },
    {
     "data": {
      "text/plain": [
       "'Completed'"
      ]
     },
     "metadata": {},
     "output_type": "display_data"
    },
    {
     "data": {
      "text/plain": [
       "26"
      ]
     },
     "metadata": {},
     "output_type": "display_data"
    },
    {
     "data": {
      "text/plain": [
       "'Completed'"
      ]
     },
     "metadata": {},
     "output_type": "display_data"
    },
    {
     "data": {
      "text/plain": [
       "27"
      ]
     },
     "metadata": {},
     "output_type": "display_data"
    },
    {
     "data": {
      "text/plain": [
       "'Completed'"
      ]
     },
     "metadata": {},
     "output_type": "display_data"
    },
    {
     "data": {
      "text/plain": [
       "28"
      ]
     },
     "metadata": {},
     "output_type": "display_data"
    },
    {
     "data": {
      "text/plain": [
       "'Completed'"
      ]
     },
     "metadata": {},
     "output_type": "display_data"
    },
    {
     "data": {
      "text/plain": [
       "29"
      ]
     },
     "metadata": {},
     "output_type": "display_data"
    },
    {
     "data": {
      "text/plain": [
       "'Completed'"
      ]
     },
     "metadata": {},
     "output_type": "display_data"
    },
    {
     "data": {
      "text/plain": [
       "30"
      ]
     },
     "metadata": {},
     "output_type": "display_data"
    },
    {
     "data": {
      "text/plain": [
       "'Current key in progress'"
      ]
     },
     "metadata": {},
     "output_type": "display_data"
    },
    {
     "data": {
      "text/plain": [
       "'sample_numbers_list_1.9_to_2.0'"
      ]
     },
     "metadata": {},
     "output_type": "display_data"
    },
    {
     "data": {
      "text/plain": [
       "467"
      ]
     },
     "metadata": {},
     "output_type": "display_data"
    },
    {
     "data": {
      "text/html": [
       "<div>\n",
       "<style scoped>\n",
       "    .dataframe tbody tr th:only-of-type {\n",
       "        vertical-align: middle;\n",
       "    }\n",
       "\n",
       "    .dataframe tbody tr th {\n",
       "        vertical-align: top;\n",
       "    }\n",
       "\n",
       "    .dataframe thead th {\n",
       "        text-align: right;\n",
       "    }\n",
       "</style>\n",
       "<table border=\"1\" class=\"dataframe\">\n",
       "  <thead>\n",
       "    <tr style=\"text-align: right;\">\n",
       "      <th></th>\n",
       "      <th>Subject</th>\n",
       "      <th>HR</th>\n",
       "      <th>MAP</th>\n",
       "      <th>DBP</th>\n",
       "      <th>SBP</th>\n",
       "      <th>Resp</th>\n",
       "    </tr>\n",
       "  </thead>\n",
       "  <tbody>\n",
       "    <tr>\n",
       "      <th>0</th>\n",
       "      <td>11</td>\n",
       "      <td>90.0</td>\n",
       "      <td>70.0</td>\n",
       "      <td>53.0</td>\n",
       "      <td>111.0</td>\n",
       "      <td>24.0</td>\n",
       "    </tr>\n",
       "    <tr>\n",
       "      <th>1</th>\n",
       "      <td>11</td>\n",
       "      <td>90.0</td>\n",
       "      <td>70.0</td>\n",
       "      <td>53.0</td>\n",
       "      <td>111.0</td>\n",
       "      <td>24.0</td>\n",
       "    </tr>\n",
       "    <tr>\n",
       "      <th>2</th>\n",
       "      <td>11</td>\n",
       "      <td>90.0</td>\n",
       "      <td>80.0</td>\n",
       "      <td>60.0</td>\n",
       "      <td>121.0</td>\n",
       "      <td>24.0</td>\n",
       "    </tr>\n",
       "    <tr>\n",
       "      <th>3</th>\n",
       "      <td>11</td>\n",
       "      <td>81.0</td>\n",
       "      <td>67.0</td>\n",
       "      <td>52.0</td>\n",
       "      <td>99.0</td>\n",
       "      <td>12.0</td>\n",
       "    </tr>\n",
       "    <tr>\n",
       "      <th>4</th>\n",
       "      <td>11</td>\n",
       "      <td>83.0</td>\n",
       "      <td>66.0</td>\n",
       "      <td>51.0</td>\n",
       "      <td>99.0</td>\n",
       "      <td>14.0</td>\n",
       "    </tr>\n",
       "    <tr>\n",
       "      <th>...</th>\n",
       "      <td>...</td>\n",
       "      <td>...</td>\n",
       "      <td>...</td>\n",
       "      <td>...</td>\n",
       "      <td>...</td>\n",
       "      <td>...</td>\n",
       "    </tr>\n",
       "    <tr>\n",
       "      <th>52</th>\n",
       "      <td>506</td>\n",
       "      <td>104.0</td>\n",
       "      <td>89.0</td>\n",
       "      <td>69.0</td>\n",
       "      <td>136.0</td>\n",
       "      <td>28.0</td>\n",
       "    </tr>\n",
       "    <tr>\n",
       "      <th>53</th>\n",
       "      <td>506</td>\n",
       "      <td>100.0</td>\n",
       "      <td>83.0</td>\n",
       "      <td>65.0</td>\n",
       "      <td>121.0</td>\n",
       "      <td>19.0</td>\n",
       "    </tr>\n",
       "    <tr>\n",
       "      <th>54</th>\n",
       "      <td>506</td>\n",
       "      <td>91.0</td>\n",
       "      <td>74.0</td>\n",
       "      <td>59.0</td>\n",
       "      <td>102.0</td>\n",
       "      <td>14.0</td>\n",
       "    </tr>\n",
       "    <tr>\n",
       "      <th>55</th>\n",
       "      <td>506</td>\n",
       "      <td>90.0</td>\n",
       "      <td>66.0</td>\n",
       "      <td>61.0</td>\n",
       "      <td>101.0</td>\n",
       "      <td>16.0</td>\n",
       "    </tr>\n",
       "    <tr>\n",
       "      <th>56</th>\n",
       "      <td>506</td>\n",
       "      <td>90.0</td>\n",
       "      <td>72.0</td>\n",
       "      <td>56.0</td>\n",
       "      <td>101.0</td>\n",
       "      <td>20.0</td>\n",
       "    </tr>\n",
       "  </tbody>\n",
       "</table>\n",
       "<p>9381 rows × 6 columns</p>\n",
       "</div>"
      ],
      "text/plain": [
       "    Subject     HR   MAP   DBP    SBP  Resp\n",
       "0        11   90.0  70.0  53.0  111.0  24.0\n",
       "1        11   90.0  70.0  53.0  111.0  24.0\n",
       "2        11   90.0  80.0  60.0  121.0  24.0\n",
       "3        11   81.0  67.0  52.0   99.0  12.0\n",
       "4        11   83.0  66.0  51.0   99.0  14.0\n",
       "..      ...    ...   ...   ...    ...   ...\n",
       "52      506  104.0  89.0  69.0  136.0  28.0\n",
       "53      506  100.0  83.0  65.0  121.0  19.0\n",
       "54      506   91.0  74.0  59.0  102.0  14.0\n",
       "55      506   90.0  66.0  61.0  101.0  16.0\n",
       "56      506   90.0  72.0  56.0  101.0  20.0\n",
       "\n",
       "[9381 rows x 6 columns]"
      ]
     },
     "metadata": {},
     "output_type": "display_data"
    },
    {
     "data": {
      "text/plain": [
       "'Avg length:'"
      ]
     },
     "metadata": {},
     "output_type": "display_data"
    },
    {
     "data": {
      "text/plain": [
       "108.59428571428572"
      ]
     },
     "metadata": {},
     "output_type": "display_data"
    },
    {
     "data": {
      "text/plain": [
       "6"
      ]
     },
     "metadata": {},
     "output_type": "display_data"
    },
    {
     "data": {
      "text/plain": [
       "'X_1:'"
      ]
     },
     "metadata": {},
     "output_type": "display_data"
    },
    {
     "data": {
      "text/html": [
       "<div>\n",
       "<style scoped>\n",
       "    .dataframe tbody tr th:only-of-type {\n",
       "        vertical-align: middle;\n",
       "    }\n",
       "\n",
       "    .dataframe tbody tr th {\n",
       "        vertical-align: top;\n",
       "    }\n",
       "\n",
       "    .dataframe thead th {\n",
       "        text-align: right;\n",
       "    }\n",
       "</style>\n",
       "<table border=\"1\" class=\"dataframe\">\n",
       "  <thead>\n",
       "    <tr style=\"text-align: right;\">\n",
       "      <th></th>\n",
       "      <th>1</th>\n",
       "      <th>2</th>\n",
       "      <th>3</th>\n",
       "      <th>4</th>\n",
       "      <th>5</th>\n",
       "    </tr>\n",
       "  </thead>\n",
       "  <tbody>\n",
       "    <tr>\n",
       "      <th>0</th>\n",
       "      <td>0      1.340723\n",
       "1      1.340723\n",
       "2      1.34072...</td>\n",
       "      <td>0     -0.778554\n",
       "1     -0.778554\n",
       "2      0.82151...</td>\n",
       "      <td>0     -0.107189\n",
       "1     -0.107189\n",
       "2      1.97062...</td>\n",
       "      <td>0     -0.903078\n",
       "1     -0.903078\n",
       "2     -0.10722...</td>\n",
       "      <td>0      1.674277\n",
       "1      1.674277\n",
       "2      1.67427...</td>\n",
       "    </tr>\n",
       "    <tr>\n",
       "      <th>1</th>\n",
       "      <td>0     -0.748380\n",
       "1     -0.748380\n",
       "2     -1.25784...</td>\n",
       "      <td>0     -1.904063\n",
       "1     -1.904063\n",
       "2      0.13196...</td>\n",
       "      <td>0     -1.310589\n",
       "1     -1.310589\n",
       "2      0.13027...</td>\n",
       "      <td>0     -1.252654\n",
       "1     -1.252654\n",
       "2      0.98884...</td>\n",
       "      <td>0      0.638863\n",
       "1      0.638863\n",
       "2     -0.40025...</td>\n",
       "    </tr>\n",
       "    <tr>\n",
       "      <th>2</th>\n",
       "      <td>0     -1.129663\n",
       "1     -1.129663\n",
       "2     -1.50219...</td>\n",
       "      <td>0     -2.085958\n",
       "1     -2.085958\n",
       "2     -2.48453...</td>\n",
       "      <td>0     -2.047608\n",
       "1     -2.047608\n",
       "2     -2.53958...</td>\n",
       "      <td>0     -0.139525\n",
       "1     -0.139525\n",
       "2     -0.42746...</td>\n",
       "      <td>0     -2.240410\n",
       "1     -2.240410\n",
       "2     -0.95165...</td>\n",
       "    </tr>\n",
       "    <tr>\n",
       "      <th>3</th>\n",
       "      <td>0     -0.459793\n",
       "1     -0.357141\n",
       "2     -0.53678...</td>\n",
       "      <td>0      0.002752\n",
       "1      0.537660\n",
       "2      0.59709...</td>\n",
       "      <td>0      0.639073\n",
       "1      0.639073\n",
       "2      0.79330...</td>\n",
       "      <td>0     -0.650055\n",
       "1     -0.308420\n",
       "2      0.03321...</td>\n",
       "      <td>0      0.143012\n",
       "1      0.675609\n",
       "2      0.94190...</td>\n",
       "    </tr>\n",
       "    <tr>\n",
       "      <th>4</th>\n",
       "      <td>0     -0.746364\n",
       "1     -0.746364\n",
       "2     -1.32513...</td>\n",
       "      <td>0      2.053426\n",
       "1      2.053426\n",
       "2      1.22375...</td>\n",
       "      <td>0      3.423496\n",
       "1      3.423496\n",
       "2      2.55556...</td>\n",
       "      <td>0     -0.424969\n",
       "1     -0.424969\n",
       "2     -0.94679...</td>\n",
       "      <td>0      0.370669\n",
       "1      0.370669\n",
       "2     -0.25213...</td>\n",
       "    </tr>\n",
       "    <tr>\n",
       "      <th>...</th>\n",
       "      <td>...</td>\n",
       "      <td>...</td>\n",
       "      <td>...</td>\n",
       "      <td>...</td>\n",
       "      <td>...</td>\n",
       "    </tr>\n",
       "    <tr>\n",
       "      <th>345</th>\n",
       "      <td>0      0.650005\n",
       "1      0.589643\n",
       "2     -0.43650...</td>\n",
       "      <td>0      0.608622\n",
       "1      1.589685\n",
       "2      1.41131...</td>\n",
       "      <td>0      3.279536\n",
       "1      3.279536\n",
       "2      1.58788...</td>\n",
       "      <td>0      0.691488\n",
       "1      0.691488\n",
       "2     -0.02521...</td>\n",
       "      <td>0     -0.462499\n",
       "1      0.541519\n",
       "2     -0.46249...</td>\n",
       "    </tr>\n",
       "    <tr>\n",
       "      <th>346</th>\n",
       "      <td>0      0.047154\n",
       "1      0.047154\n",
       "2      0.74614...</td>\n",
       "      <td>0     -0.057694\n",
       "1     -0.057694\n",
       "2     -0.05769...</td>\n",
       "      <td>0      0.213708\n",
       "1      0.213708\n",
       "2     -0.04931...</td>\n",
       "      <td>0     -0.447369\n",
       "1     -0.447369\n",
       "2     -0.13157...</td>\n",
       "      <td>0     -0.476827\n",
       "1     -0.476827\n",
       "2     -1.35618...</td>\n",
       "    </tr>\n",
       "    <tr>\n",
       "      <th>347</th>\n",
       "      <td>0     -0.843348\n",
       "1     -0.698360\n",
       "2     -0.37938...</td>\n",
       "      <td>0     -0.717568\n",
       "1     -0.668112\n",
       "2     -0.66811...</td>\n",
       "      <td>0     -0.930073\n",
       "1     -0.487014\n",
       "2     -0.55030...</td>\n",
       "      <td>0     -0.418345\n",
       "1     -0.586556\n",
       "2     -0.65384...</td>\n",
       "      <td>0     -2.073631\n",
       "1     -2.073631\n",
       "2     -2.07363...</td>\n",
       "    </tr>\n",
       "    <tr>\n",
       "      <th>348</th>\n",
       "      <td>0      2.245241\n",
       "1      0.922891\n",
       "2      1.58406...</td>\n",
       "      <td>0     -0.732514\n",
       "1     -1.682273\n",
       "2     -1.43603...</td>\n",
       "      <td>0     -1.124194\n",
       "1     -2.176147\n",
       "2     -1.29952...</td>\n",
       "      <td>0      0.192826\n",
       "1     -2.343582\n",
       "2     -2.14333...</td>\n",
       "      <td>0     -0.059245\n",
       "1     -0.059245\n",
       "2      0.18685...</td>\n",
       "    </tr>\n",
       "    <tr>\n",
       "      <th>349</th>\n",
       "      <td>0      0.571725\n",
       "1      0.571725\n",
       "2     -0.22564...</td>\n",
       "      <td>0     -0.799545\n",
       "1     -0.799545\n",
       "2     -2.49661...</td>\n",
       "      <td>0     -0.799549\n",
       "1     -0.799549\n",
       "2     -2.72855...</td>\n",
       "      <td>0      0.793528\n",
       "1      0.793528\n",
       "2     -1.45869...</td>\n",
       "      <td>0      0.944124\n",
       "1      0.944124\n",
       "2      0.77217...</td>\n",
       "    </tr>\n",
       "  </tbody>\n",
       "</table>\n",
       "<p>350 rows × 5 columns</p>\n",
       "</div>"
      ],
      "text/plain": [
       "                                                     1  \\\n",
       "0    0      1.340723\n",
       "1      1.340723\n",
       "2      1.34072...   \n",
       "1    0     -0.748380\n",
       "1     -0.748380\n",
       "2     -1.25784...   \n",
       "2    0     -1.129663\n",
       "1     -1.129663\n",
       "2     -1.50219...   \n",
       "3    0     -0.459793\n",
       "1     -0.357141\n",
       "2     -0.53678...   \n",
       "4    0     -0.746364\n",
       "1     -0.746364\n",
       "2     -1.32513...   \n",
       "..                                                 ...   \n",
       "345  0      0.650005\n",
       "1      0.589643\n",
       "2     -0.43650...   \n",
       "346  0      0.047154\n",
       "1      0.047154\n",
       "2      0.74614...   \n",
       "347  0     -0.843348\n",
       "1     -0.698360\n",
       "2     -0.37938...   \n",
       "348  0      2.245241\n",
       "1      0.922891\n",
       "2      1.58406...   \n",
       "349  0      0.571725\n",
       "1      0.571725\n",
       "2     -0.22564...   \n",
       "\n",
       "                                                     2  \\\n",
       "0    0     -0.778554\n",
       "1     -0.778554\n",
       "2      0.82151...   \n",
       "1    0     -1.904063\n",
       "1     -1.904063\n",
       "2      0.13196...   \n",
       "2    0     -2.085958\n",
       "1     -2.085958\n",
       "2     -2.48453...   \n",
       "3    0      0.002752\n",
       "1      0.537660\n",
       "2      0.59709...   \n",
       "4    0      2.053426\n",
       "1      2.053426\n",
       "2      1.22375...   \n",
       "..                                                 ...   \n",
       "345  0      0.608622\n",
       "1      1.589685\n",
       "2      1.41131...   \n",
       "346  0     -0.057694\n",
       "1     -0.057694\n",
       "2     -0.05769...   \n",
       "347  0     -0.717568\n",
       "1     -0.668112\n",
       "2     -0.66811...   \n",
       "348  0     -0.732514\n",
       "1     -1.682273\n",
       "2     -1.43603...   \n",
       "349  0     -0.799545\n",
       "1     -0.799545\n",
       "2     -2.49661...   \n",
       "\n",
       "                                                     3  \\\n",
       "0    0     -0.107189\n",
       "1     -0.107189\n",
       "2      1.97062...   \n",
       "1    0     -1.310589\n",
       "1     -1.310589\n",
       "2      0.13027...   \n",
       "2    0     -2.047608\n",
       "1     -2.047608\n",
       "2     -2.53958...   \n",
       "3    0      0.639073\n",
       "1      0.639073\n",
       "2      0.79330...   \n",
       "4    0      3.423496\n",
       "1      3.423496\n",
       "2      2.55556...   \n",
       "..                                                 ...   \n",
       "345  0      3.279536\n",
       "1      3.279536\n",
       "2      1.58788...   \n",
       "346  0      0.213708\n",
       "1      0.213708\n",
       "2     -0.04931...   \n",
       "347  0     -0.930073\n",
       "1     -0.487014\n",
       "2     -0.55030...   \n",
       "348  0     -1.124194\n",
       "1     -2.176147\n",
       "2     -1.29952...   \n",
       "349  0     -0.799549\n",
       "1     -0.799549\n",
       "2     -2.72855...   \n",
       "\n",
       "                                                     4  \\\n",
       "0    0     -0.903078\n",
       "1     -0.903078\n",
       "2     -0.10722...   \n",
       "1    0     -1.252654\n",
       "1     -1.252654\n",
       "2      0.98884...   \n",
       "2    0     -0.139525\n",
       "1     -0.139525\n",
       "2     -0.42746...   \n",
       "3    0     -0.650055\n",
       "1     -0.308420\n",
       "2      0.03321...   \n",
       "4    0     -0.424969\n",
       "1     -0.424969\n",
       "2     -0.94679...   \n",
       "..                                                 ...   \n",
       "345  0      0.691488\n",
       "1      0.691488\n",
       "2     -0.02521...   \n",
       "346  0     -0.447369\n",
       "1     -0.447369\n",
       "2     -0.13157...   \n",
       "347  0     -0.418345\n",
       "1     -0.586556\n",
       "2     -0.65384...   \n",
       "348  0      0.192826\n",
       "1     -2.343582\n",
       "2     -2.14333...   \n",
       "349  0      0.793528\n",
       "1      0.793528\n",
       "2     -1.45869...   \n",
       "\n",
       "                                                     5  \n",
       "0    0      1.674277\n",
       "1      1.674277\n",
       "2      1.67427...  \n",
       "1    0      0.638863\n",
       "1      0.638863\n",
       "2     -0.40025...  \n",
       "2    0     -2.240410\n",
       "1     -2.240410\n",
       "2     -0.95165...  \n",
       "3    0      0.143012\n",
       "1      0.675609\n",
       "2      0.94190...  \n",
       "4    0      0.370669\n",
       "1      0.370669\n",
       "2     -0.25213...  \n",
       "..                                                 ...  \n",
       "345  0     -0.462499\n",
       "1      0.541519\n",
       "2     -0.46249...  \n",
       "346  0     -0.476827\n",
       "1     -0.476827\n",
       "2     -1.35618...  \n",
       "347  0     -2.073631\n",
       "1     -2.073631\n",
       "2     -2.07363...  \n",
       "348  0     -0.059245\n",
       "1     -0.059245\n",
       "2      0.18685...  \n",
       "349  0      0.944124\n",
       "1      0.944124\n",
       "2      0.77217...  \n",
       "\n",
       "[350 rows x 5 columns]"
      ]
     },
     "metadata": {},
     "output_type": "display_data"
    },
    {
     "data": {
      "text/plain": [
       "'Completed'"
      ]
     },
     "metadata": {},
     "output_type": "display_data"
    },
    {
     "data": {
      "text/plain": [
       "1"
      ]
     },
     "metadata": {},
     "output_type": "display_data"
    },
    {
     "data": {
      "text/plain": [
       "'Completed'"
      ]
     },
     "metadata": {},
     "output_type": "display_data"
    },
    {
     "data": {
      "text/plain": [
       "2"
      ]
     },
     "metadata": {},
     "output_type": "display_data"
    },
    {
     "data": {
      "text/plain": [
       "'Completed'"
      ]
     },
     "metadata": {},
     "output_type": "display_data"
    },
    {
     "data": {
      "text/plain": [
       "3"
      ]
     },
     "metadata": {},
     "output_type": "display_data"
    },
    {
     "data": {
      "text/plain": [
       "'Completed'"
      ]
     },
     "metadata": {},
     "output_type": "display_data"
    },
    {
     "data": {
      "text/plain": [
       "4"
      ]
     },
     "metadata": {},
     "output_type": "display_data"
    },
    {
     "data": {
      "text/plain": [
       "'Completed'"
      ]
     },
     "metadata": {},
     "output_type": "display_data"
    },
    {
     "data": {
      "text/plain": [
       "5"
      ]
     },
     "metadata": {},
     "output_type": "display_data"
    },
    {
     "data": {
      "text/plain": [
       "'Completed'"
      ]
     },
     "metadata": {},
     "output_type": "display_data"
    },
    {
     "data": {
      "text/plain": [
       "6"
      ]
     },
     "metadata": {},
     "output_type": "display_data"
    },
    {
     "data": {
      "text/plain": [
       "'Completed'"
      ]
     },
     "metadata": {},
     "output_type": "display_data"
    },
    {
     "data": {
      "text/plain": [
       "7"
      ]
     },
     "metadata": {},
     "output_type": "display_data"
    },
    {
     "data": {
      "text/plain": [
       "'Completed'"
      ]
     },
     "metadata": {},
     "output_type": "display_data"
    },
    {
     "data": {
      "text/plain": [
       "8"
      ]
     },
     "metadata": {},
     "output_type": "display_data"
    },
    {
     "data": {
      "text/plain": [
       "'Completed'"
      ]
     },
     "metadata": {},
     "output_type": "display_data"
    },
    {
     "data": {
      "text/plain": [
       "9"
      ]
     },
     "metadata": {},
     "output_type": "display_data"
    },
    {
     "data": {
      "text/plain": [
       "'Completed'"
      ]
     },
     "metadata": {},
     "output_type": "display_data"
    },
    {
     "data": {
      "text/plain": [
       "10"
      ]
     },
     "metadata": {},
     "output_type": "display_data"
    },
    {
     "data": {
      "text/plain": [
       "'Completed'"
      ]
     },
     "metadata": {},
     "output_type": "display_data"
    },
    {
     "data": {
      "text/plain": [
       "11"
      ]
     },
     "metadata": {},
     "output_type": "display_data"
    },
    {
     "data": {
      "text/plain": [
       "'Completed'"
      ]
     },
     "metadata": {},
     "output_type": "display_data"
    },
    {
     "data": {
      "text/plain": [
       "12"
      ]
     },
     "metadata": {},
     "output_type": "display_data"
    },
    {
     "data": {
      "text/plain": [
       "'Completed'"
      ]
     },
     "metadata": {},
     "output_type": "display_data"
    },
    {
     "data": {
      "text/plain": [
       "13"
      ]
     },
     "metadata": {},
     "output_type": "display_data"
    },
    {
     "data": {
      "text/plain": [
       "'Completed'"
      ]
     },
     "metadata": {},
     "output_type": "display_data"
    },
    {
     "data": {
      "text/plain": [
       "14"
      ]
     },
     "metadata": {},
     "output_type": "display_data"
    },
    {
     "data": {
      "text/plain": [
       "'Completed'"
      ]
     },
     "metadata": {},
     "output_type": "display_data"
    },
    {
     "data": {
      "text/plain": [
       "15"
      ]
     },
     "metadata": {},
     "output_type": "display_data"
    },
    {
     "data": {
      "text/plain": [
       "'Completed'"
      ]
     },
     "metadata": {},
     "output_type": "display_data"
    },
    {
     "data": {
      "text/plain": [
       "16"
      ]
     },
     "metadata": {},
     "output_type": "display_data"
    },
    {
     "data": {
      "text/plain": [
       "'Completed'"
      ]
     },
     "metadata": {},
     "output_type": "display_data"
    },
    {
     "data": {
      "text/plain": [
       "17"
      ]
     },
     "metadata": {},
     "output_type": "display_data"
    },
    {
     "data": {
      "text/plain": [
       "'Completed'"
      ]
     },
     "metadata": {},
     "output_type": "display_data"
    },
    {
     "data": {
      "text/plain": [
       "18"
      ]
     },
     "metadata": {},
     "output_type": "display_data"
    },
    {
     "data": {
      "text/plain": [
       "'Completed'"
      ]
     },
     "metadata": {},
     "output_type": "display_data"
    },
    {
     "data": {
      "text/plain": [
       "19"
      ]
     },
     "metadata": {},
     "output_type": "display_data"
    },
    {
     "data": {
      "text/plain": [
       "'Completed'"
      ]
     },
     "metadata": {},
     "output_type": "display_data"
    },
    {
     "data": {
      "text/plain": [
       "20"
      ]
     },
     "metadata": {},
     "output_type": "display_data"
    },
    {
     "data": {
      "text/plain": [
       "'Completed'"
      ]
     },
     "metadata": {},
     "output_type": "display_data"
    },
    {
     "data": {
      "text/plain": [
       "21"
      ]
     },
     "metadata": {},
     "output_type": "display_data"
    },
    {
     "data": {
      "text/plain": [
       "'Completed'"
      ]
     },
     "metadata": {},
     "output_type": "display_data"
    },
    {
     "data": {
      "text/plain": [
       "22"
      ]
     },
     "metadata": {},
     "output_type": "display_data"
    },
    {
     "data": {
      "text/plain": [
       "'Completed'"
      ]
     },
     "metadata": {},
     "output_type": "display_data"
    },
    {
     "data": {
      "text/plain": [
       "23"
      ]
     },
     "metadata": {},
     "output_type": "display_data"
    },
    {
     "data": {
      "text/plain": [
       "'Completed'"
      ]
     },
     "metadata": {},
     "output_type": "display_data"
    },
    {
     "data": {
      "text/plain": [
       "24"
      ]
     },
     "metadata": {},
     "output_type": "display_data"
    },
    {
     "data": {
      "text/plain": [
       "'Completed'"
      ]
     },
     "metadata": {},
     "output_type": "display_data"
    },
    {
     "data": {
      "text/plain": [
       "25"
      ]
     },
     "metadata": {},
     "output_type": "display_data"
    },
    {
     "data": {
      "text/plain": [
       "'Completed'"
      ]
     },
     "metadata": {},
     "output_type": "display_data"
    },
    {
     "data": {
      "text/plain": [
       "26"
      ]
     },
     "metadata": {},
     "output_type": "display_data"
    },
    {
     "data": {
      "text/plain": [
       "'Completed'"
      ]
     },
     "metadata": {},
     "output_type": "display_data"
    },
    {
     "data": {
      "text/plain": [
       "27"
      ]
     },
     "metadata": {},
     "output_type": "display_data"
    },
    {
     "data": {
      "text/plain": [
       "'Completed'"
      ]
     },
     "metadata": {},
     "output_type": "display_data"
    },
    {
     "data": {
      "text/plain": [
       "28"
      ]
     },
     "metadata": {},
     "output_type": "display_data"
    },
    {
     "data": {
      "text/plain": [
       "'Completed'"
      ]
     },
     "metadata": {},
     "output_type": "display_data"
    },
    {
     "data": {
      "text/plain": [
       "29"
      ]
     },
     "metadata": {},
     "output_type": "display_data"
    },
    {
     "data": {
      "text/plain": [
       "'Completed'"
      ]
     },
     "metadata": {},
     "output_type": "display_data"
    },
    {
     "data": {
      "text/plain": [
       "30"
      ]
     },
     "metadata": {},
     "output_type": "display_data"
    },
    {
     "data": {
      "text/plain": [
       "'Current key in progress'"
      ]
     },
     "metadata": {},
     "output_type": "display_data"
    },
    {
     "data": {
      "text/plain": [
       "'sample_numbers_list_2.0_to_2.1'"
      ]
     },
     "metadata": {},
     "output_type": "display_data"
    },
    {
     "data": {
      "text/plain": [
       "470"
      ]
     },
     "metadata": {},
     "output_type": "display_data"
    },
    {
     "data": {
      "text/html": [
       "<div>\n",
       "<style scoped>\n",
       "    .dataframe tbody tr th:only-of-type {\n",
       "        vertical-align: middle;\n",
       "    }\n",
       "\n",
       "    .dataframe tbody tr th {\n",
       "        vertical-align: top;\n",
       "    }\n",
       "\n",
       "    .dataframe thead th {\n",
       "        text-align: right;\n",
       "    }\n",
       "</style>\n",
       "<table border=\"1\" class=\"dataframe\">\n",
       "  <thead>\n",
       "    <tr style=\"text-align: right;\">\n",
       "      <th></th>\n",
       "      <th>Subject</th>\n",
       "      <th>HR</th>\n",
       "      <th>MAP</th>\n",
       "      <th>DBP</th>\n",
       "      <th>SBP</th>\n",
       "      <th>Resp</th>\n",
       "    </tr>\n",
       "  </thead>\n",
       "  <tbody>\n",
       "    <tr>\n",
       "      <th>0</th>\n",
       "      <td>11</td>\n",
       "      <td>90.0</td>\n",
       "      <td>70.0</td>\n",
       "      <td>53.0</td>\n",
       "      <td>111.0</td>\n",
       "      <td>24.0</td>\n",
       "    </tr>\n",
       "    <tr>\n",
       "      <th>1</th>\n",
       "      <td>11</td>\n",
       "      <td>90.0</td>\n",
       "      <td>70.0</td>\n",
       "      <td>53.0</td>\n",
       "      <td>111.0</td>\n",
       "      <td>24.0</td>\n",
       "    </tr>\n",
       "    <tr>\n",
       "      <th>2</th>\n",
       "      <td>11</td>\n",
       "      <td>90.0</td>\n",
       "      <td>80.0</td>\n",
       "      <td>60.0</td>\n",
       "      <td>121.0</td>\n",
       "      <td>24.0</td>\n",
       "    </tr>\n",
       "    <tr>\n",
       "      <th>3</th>\n",
       "      <td>11</td>\n",
       "      <td>81.0</td>\n",
       "      <td>67.0</td>\n",
       "      <td>52.0</td>\n",
       "      <td>99.0</td>\n",
       "      <td>12.0</td>\n",
       "    </tr>\n",
       "    <tr>\n",
       "      <th>4</th>\n",
       "      <td>11</td>\n",
       "      <td>83.0</td>\n",
       "      <td>66.0</td>\n",
       "      <td>51.0</td>\n",
       "      <td>99.0</td>\n",
       "      <td>14.0</td>\n",
       "    </tr>\n",
       "    <tr>\n",
       "      <th>...</th>\n",
       "      <td>...</td>\n",
       "      <td>...</td>\n",
       "      <td>...</td>\n",
       "      <td>...</td>\n",
       "      <td>...</td>\n",
       "      <td>...</td>\n",
       "    </tr>\n",
       "    <tr>\n",
       "      <th>52</th>\n",
       "      <td>506</td>\n",
       "      <td>104.0</td>\n",
       "      <td>89.0</td>\n",
       "      <td>69.0</td>\n",
       "      <td>136.0</td>\n",
       "      <td>28.0</td>\n",
       "    </tr>\n",
       "    <tr>\n",
       "      <th>53</th>\n",
       "      <td>506</td>\n",
       "      <td>100.0</td>\n",
       "      <td>83.0</td>\n",
       "      <td>65.0</td>\n",
       "      <td>121.0</td>\n",
       "      <td>19.0</td>\n",
       "    </tr>\n",
       "    <tr>\n",
       "      <th>54</th>\n",
       "      <td>506</td>\n",
       "      <td>91.0</td>\n",
       "      <td>74.0</td>\n",
       "      <td>59.0</td>\n",
       "      <td>102.0</td>\n",
       "      <td>14.0</td>\n",
       "    </tr>\n",
       "    <tr>\n",
       "      <th>55</th>\n",
       "      <td>506</td>\n",
       "      <td>90.0</td>\n",
       "      <td>66.0</td>\n",
       "      <td>61.0</td>\n",
       "      <td>101.0</td>\n",
       "      <td>16.0</td>\n",
       "    </tr>\n",
       "    <tr>\n",
       "      <th>56</th>\n",
       "      <td>506</td>\n",
       "      <td>90.0</td>\n",
       "      <td>72.0</td>\n",
       "      <td>56.0</td>\n",
       "      <td>101.0</td>\n",
       "      <td>20.0</td>\n",
       "    </tr>\n",
       "  </tbody>\n",
       "</table>\n",
       "<p>9387 rows × 6 columns</p>\n",
       "</div>"
      ],
      "text/plain": [
       "    Subject     HR   MAP   DBP    SBP  Resp\n",
       "0        11   90.0  70.0  53.0  111.0  24.0\n",
       "1        11   90.0  70.0  53.0  111.0  24.0\n",
       "2        11   90.0  80.0  60.0  121.0  24.0\n",
       "3        11   81.0  67.0  52.0   99.0  12.0\n",
       "4        11   83.0  66.0  51.0   99.0  14.0\n",
       "..      ...    ...   ...   ...    ...   ...\n",
       "52      506  104.0  89.0  69.0  136.0  28.0\n",
       "53      506  100.0  83.0  65.0  121.0  19.0\n",
       "54      506   91.0  74.0  59.0  102.0  14.0\n",
       "55      506   90.0  66.0  61.0  101.0  16.0\n",
       "56      506   90.0  72.0  56.0  101.0  20.0\n",
       "\n",
       "[9387 rows x 6 columns]"
      ]
     },
     "metadata": {},
     "output_type": "display_data"
    },
    {
     "data": {
      "text/plain": [
       "'Avg length:'"
      ]
     },
     "metadata": {},
     "output_type": "display_data"
    },
    {
     "data": {
      "text/plain": [
       "108.59428571428572"
      ]
     },
     "metadata": {},
     "output_type": "display_data"
    },
    {
     "data": {
      "text/plain": [
       "6"
      ]
     },
     "metadata": {},
     "output_type": "display_data"
    },
    {
     "data": {
      "text/plain": [
       "'X_1:'"
      ]
     },
     "metadata": {},
     "output_type": "display_data"
    },
    {
     "data": {
      "text/html": [
       "<div>\n",
       "<style scoped>\n",
       "    .dataframe tbody tr th:only-of-type {\n",
       "        vertical-align: middle;\n",
       "    }\n",
       "\n",
       "    .dataframe tbody tr th {\n",
       "        vertical-align: top;\n",
       "    }\n",
       "\n",
       "    .dataframe thead th {\n",
       "        text-align: right;\n",
       "    }\n",
       "</style>\n",
       "<table border=\"1\" class=\"dataframe\">\n",
       "  <thead>\n",
       "    <tr style=\"text-align: right;\">\n",
       "      <th></th>\n",
       "      <th>1</th>\n",
       "      <th>2</th>\n",
       "      <th>3</th>\n",
       "      <th>4</th>\n",
       "      <th>5</th>\n",
       "    </tr>\n",
       "  </thead>\n",
       "  <tbody>\n",
       "    <tr>\n",
       "      <th>0</th>\n",
       "      <td>0      1.340723\n",
       "1      1.340723\n",
       "2      1.34072...</td>\n",
       "      <td>0     -0.778554\n",
       "1     -0.778554\n",
       "2      0.82151...</td>\n",
       "      <td>0     -0.107189\n",
       "1     -0.107189\n",
       "2      1.97062...</td>\n",
       "      <td>0     -0.903078\n",
       "1     -0.903078\n",
       "2     -0.10722...</td>\n",
       "      <td>0      1.674277\n",
       "1      1.674277\n",
       "2      1.67427...</td>\n",
       "    </tr>\n",
       "    <tr>\n",
       "      <th>1</th>\n",
       "      <td>0     -0.748380\n",
       "1     -0.748380\n",
       "2     -1.25784...</td>\n",
       "      <td>0     -1.904063\n",
       "1     -1.904063\n",
       "2      0.13196...</td>\n",
       "      <td>0     -1.310589\n",
       "1     -1.310589\n",
       "2      0.13027...</td>\n",
       "      <td>0     -1.252654\n",
       "1     -1.252654\n",
       "2      0.98884...</td>\n",
       "      <td>0      0.638863\n",
       "1      0.638863\n",
       "2     -0.40025...</td>\n",
       "    </tr>\n",
       "    <tr>\n",
       "      <th>2</th>\n",
       "      <td>0     -1.129663\n",
       "1     -1.129663\n",
       "2     -1.50219...</td>\n",
       "      <td>0     -2.085958\n",
       "1     -2.085958\n",
       "2     -2.48453...</td>\n",
       "      <td>0     -2.047608\n",
       "1     -2.047608\n",
       "2     -2.53958...</td>\n",
       "      <td>0     -0.139525\n",
       "1     -0.139525\n",
       "2     -0.42746...</td>\n",
       "      <td>0     -2.240410\n",
       "1     -2.240410\n",
       "2     -0.95165...</td>\n",
       "    </tr>\n",
       "    <tr>\n",
       "      <th>3</th>\n",
       "      <td>0     -0.459793\n",
       "1     -0.357141\n",
       "2     -0.53678...</td>\n",
       "      <td>0      0.002752\n",
       "1      0.537660\n",
       "2      0.59709...</td>\n",
       "      <td>0      0.639073\n",
       "1      0.639073\n",
       "2      0.79330...</td>\n",
       "      <td>0     -0.650055\n",
       "1     -0.308420\n",
       "2      0.03321...</td>\n",
       "      <td>0      0.143012\n",
       "1      0.675609\n",
       "2      0.94190...</td>\n",
       "    </tr>\n",
       "    <tr>\n",
       "      <th>4</th>\n",
       "      <td>0     -0.746364\n",
       "1     -0.746364\n",
       "2     -1.32513...</td>\n",
       "      <td>0      2.053426\n",
       "1      2.053426\n",
       "2      1.22375...</td>\n",
       "      <td>0      3.423496\n",
       "1      3.423496\n",
       "2      2.55556...</td>\n",
       "      <td>0     -0.424969\n",
       "1     -0.424969\n",
       "2     -0.94679...</td>\n",
       "      <td>0      0.370669\n",
       "1      0.370669\n",
       "2     -0.25213...</td>\n",
       "    </tr>\n",
       "    <tr>\n",
       "      <th>...</th>\n",
       "      <td>...</td>\n",
       "      <td>...</td>\n",
       "      <td>...</td>\n",
       "      <td>...</td>\n",
       "      <td>...</td>\n",
       "    </tr>\n",
       "    <tr>\n",
       "      <th>345</th>\n",
       "      <td>0      0.650005\n",
       "1      0.589643\n",
       "2     -0.43650...</td>\n",
       "      <td>0      0.608622\n",
       "1      1.589685\n",
       "2      1.41131...</td>\n",
       "      <td>0      3.279536\n",
       "1      3.279536\n",
       "2      1.58788...</td>\n",
       "      <td>0      0.691488\n",
       "1      0.691488\n",
       "2     -0.02521...</td>\n",
       "      <td>0     -0.462499\n",
       "1      0.541519\n",
       "2     -0.46249...</td>\n",
       "    </tr>\n",
       "    <tr>\n",
       "      <th>346</th>\n",
       "      <td>0      0.047154\n",
       "1      0.047154\n",
       "2      0.74614...</td>\n",
       "      <td>0     -0.057694\n",
       "1     -0.057694\n",
       "2     -0.05769...</td>\n",
       "      <td>0      0.213708\n",
       "1      0.213708\n",
       "2     -0.04931...</td>\n",
       "      <td>0     -0.447369\n",
       "1     -0.447369\n",
       "2     -0.13157...</td>\n",
       "      <td>0     -0.476827\n",
       "1     -0.476827\n",
       "2     -1.35618...</td>\n",
       "    </tr>\n",
       "    <tr>\n",
       "      <th>347</th>\n",
       "      <td>0     -0.843348\n",
       "1     -0.698360\n",
       "2     -0.37938...</td>\n",
       "      <td>0     -0.717568\n",
       "1     -0.668112\n",
       "2     -0.66811...</td>\n",
       "      <td>0     -0.930073\n",
       "1     -0.487014\n",
       "2     -0.55030...</td>\n",
       "      <td>0     -0.418345\n",
       "1     -0.586556\n",
       "2     -0.65384...</td>\n",
       "      <td>0     -2.073631\n",
       "1     -2.073631\n",
       "2     -2.07363...</td>\n",
       "    </tr>\n",
       "    <tr>\n",
       "      <th>348</th>\n",
       "      <td>0      2.245241\n",
       "1      0.922891\n",
       "2      1.58406...</td>\n",
       "      <td>0     -0.732514\n",
       "1     -1.682273\n",
       "2     -1.43603...</td>\n",
       "      <td>0     -1.124194\n",
       "1     -2.176147\n",
       "2     -1.29952...</td>\n",
       "      <td>0      0.192826\n",
       "1     -2.343582\n",
       "2     -2.14333...</td>\n",
       "      <td>0     -0.059245\n",
       "1     -0.059245\n",
       "2      0.18685...</td>\n",
       "    </tr>\n",
       "    <tr>\n",
       "      <th>349</th>\n",
       "      <td>0      0.571725\n",
       "1      0.571725\n",
       "2     -0.22564...</td>\n",
       "      <td>0     -0.799545\n",
       "1     -0.799545\n",
       "2     -2.49661...</td>\n",
       "      <td>0     -0.799549\n",
       "1     -0.799549\n",
       "2     -2.72855...</td>\n",
       "      <td>0      0.793528\n",
       "1      0.793528\n",
       "2     -1.45869...</td>\n",
       "      <td>0      0.944124\n",
       "1      0.944124\n",
       "2      0.77217...</td>\n",
       "    </tr>\n",
       "  </tbody>\n",
       "</table>\n",
       "<p>350 rows × 5 columns</p>\n",
       "</div>"
      ],
      "text/plain": [
       "                                                     1  \\\n",
       "0    0      1.340723\n",
       "1      1.340723\n",
       "2      1.34072...   \n",
       "1    0     -0.748380\n",
       "1     -0.748380\n",
       "2     -1.25784...   \n",
       "2    0     -1.129663\n",
       "1     -1.129663\n",
       "2     -1.50219...   \n",
       "3    0     -0.459793\n",
       "1     -0.357141\n",
       "2     -0.53678...   \n",
       "4    0     -0.746364\n",
       "1     -0.746364\n",
       "2     -1.32513...   \n",
       "..                                                 ...   \n",
       "345  0      0.650005\n",
       "1      0.589643\n",
       "2     -0.43650...   \n",
       "346  0      0.047154\n",
       "1      0.047154\n",
       "2      0.74614...   \n",
       "347  0     -0.843348\n",
       "1     -0.698360\n",
       "2     -0.37938...   \n",
       "348  0      2.245241\n",
       "1      0.922891\n",
       "2      1.58406...   \n",
       "349  0      0.571725\n",
       "1      0.571725\n",
       "2     -0.22564...   \n",
       "\n",
       "                                                     2  \\\n",
       "0    0     -0.778554\n",
       "1     -0.778554\n",
       "2      0.82151...   \n",
       "1    0     -1.904063\n",
       "1     -1.904063\n",
       "2      0.13196...   \n",
       "2    0     -2.085958\n",
       "1     -2.085958\n",
       "2     -2.48453...   \n",
       "3    0      0.002752\n",
       "1      0.537660\n",
       "2      0.59709...   \n",
       "4    0      2.053426\n",
       "1      2.053426\n",
       "2      1.22375...   \n",
       "..                                                 ...   \n",
       "345  0      0.608622\n",
       "1      1.589685\n",
       "2      1.41131...   \n",
       "346  0     -0.057694\n",
       "1     -0.057694\n",
       "2     -0.05769...   \n",
       "347  0     -0.717568\n",
       "1     -0.668112\n",
       "2     -0.66811...   \n",
       "348  0     -0.732514\n",
       "1     -1.682273\n",
       "2     -1.43603...   \n",
       "349  0     -0.799545\n",
       "1     -0.799545\n",
       "2     -2.49661...   \n",
       "\n",
       "                                                     3  \\\n",
       "0    0     -0.107189\n",
       "1     -0.107189\n",
       "2      1.97062...   \n",
       "1    0     -1.310589\n",
       "1     -1.310589\n",
       "2      0.13027...   \n",
       "2    0     -2.047608\n",
       "1     -2.047608\n",
       "2     -2.53958...   \n",
       "3    0      0.639073\n",
       "1      0.639073\n",
       "2      0.79330...   \n",
       "4    0      3.423496\n",
       "1      3.423496\n",
       "2      2.55556...   \n",
       "..                                                 ...   \n",
       "345  0      3.279536\n",
       "1      3.279536\n",
       "2      1.58788...   \n",
       "346  0      0.213708\n",
       "1      0.213708\n",
       "2     -0.04931...   \n",
       "347  0     -0.930073\n",
       "1     -0.487014\n",
       "2     -0.55030...   \n",
       "348  0     -1.124194\n",
       "1     -2.176147\n",
       "2     -1.29952...   \n",
       "349  0     -0.799549\n",
       "1     -0.799549\n",
       "2     -2.72855...   \n",
       "\n",
       "                                                     4  \\\n",
       "0    0     -0.903078\n",
       "1     -0.903078\n",
       "2     -0.10722...   \n",
       "1    0     -1.252654\n",
       "1     -1.252654\n",
       "2      0.98884...   \n",
       "2    0     -0.139525\n",
       "1     -0.139525\n",
       "2     -0.42746...   \n",
       "3    0     -0.650055\n",
       "1     -0.308420\n",
       "2      0.03321...   \n",
       "4    0     -0.424969\n",
       "1     -0.424969\n",
       "2     -0.94679...   \n",
       "..                                                 ...   \n",
       "345  0      0.691488\n",
       "1      0.691488\n",
       "2     -0.02521...   \n",
       "346  0     -0.447369\n",
       "1     -0.447369\n",
       "2     -0.13157...   \n",
       "347  0     -0.418345\n",
       "1     -0.586556\n",
       "2     -0.65384...   \n",
       "348  0      0.192826\n",
       "1     -2.343582\n",
       "2     -2.14333...   \n",
       "349  0      0.793528\n",
       "1      0.793528\n",
       "2     -1.45869...   \n",
       "\n",
       "                                                     5  \n",
       "0    0      1.674277\n",
       "1      1.674277\n",
       "2      1.67427...  \n",
       "1    0      0.638863\n",
       "1      0.638863\n",
       "2     -0.40025...  \n",
       "2    0     -2.240410\n",
       "1     -2.240410\n",
       "2     -0.95165...  \n",
       "3    0      0.143012\n",
       "1      0.675609\n",
       "2      0.94190...  \n",
       "4    0      0.370669\n",
       "1      0.370669\n",
       "2     -0.25213...  \n",
       "..                                                 ...  \n",
       "345  0     -0.462499\n",
       "1      0.541519\n",
       "2     -0.46249...  \n",
       "346  0     -0.476827\n",
       "1     -0.476827\n",
       "2     -1.35618...  \n",
       "347  0     -2.073631\n",
       "1     -2.073631\n",
       "2     -2.07363...  \n",
       "348  0     -0.059245\n",
       "1     -0.059245\n",
       "2      0.18685...  \n",
       "349  0      0.944124\n",
       "1      0.944124\n",
       "2      0.77217...  \n",
       "\n",
       "[350 rows x 5 columns]"
      ]
     },
     "metadata": {},
     "output_type": "display_data"
    },
    {
     "data": {
      "text/plain": [
       "'Completed'"
      ]
     },
     "metadata": {},
     "output_type": "display_data"
    },
    {
     "data": {
      "text/plain": [
       "1"
      ]
     },
     "metadata": {},
     "output_type": "display_data"
    },
    {
     "data": {
      "text/plain": [
       "'Completed'"
      ]
     },
     "metadata": {},
     "output_type": "display_data"
    },
    {
     "data": {
      "text/plain": [
       "2"
      ]
     },
     "metadata": {},
     "output_type": "display_data"
    },
    {
     "data": {
      "text/plain": [
       "'Completed'"
      ]
     },
     "metadata": {},
     "output_type": "display_data"
    },
    {
     "data": {
      "text/plain": [
       "3"
      ]
     },
     "metadata": {},
     "output_type": "display_data"
    },
    {
     "data": {
      "text/plain": [
       "'Completed'"
      ]
     },
     "metadata": {},
     "output_type": "display_data"
    },
    {
     "data": {
      "text/plain": [
       "4"
      ]
     },
     "metadata": {},
     "output_type": "display_data"
    },
    {
     "data": {
      "text/plain": [
       "'Completed'"
      ]
     },
     "metadata": {},
     "output_type": "display_data"
    },
    {
     "data": {
      "text/plain": [
       "5"
      ]
     },
     "metadata": {},
     "output_type": "display_data"
    },
    {
     "data": {
      "text/plain": [
       "'Completed'"
      ]
     },
     "metadata": {},
     "output_type": "display_data"
    },
    {
     "data": {
      "text/plain": [
       "6"
      ]
     },
     "metadata": {},
     "output_type": "display_data"
    },
    {
     "data": {
      "text/plain": [
       "'Completed'"
      ]
     },
     "metadata": {},
     "output_type": "display_data"
    },
    {
     "data": {
      "text/plain": [
       "7"
      ]
     },
     "metadata": {},
     "output_type": "display_data"
    },
    {
     "data": {
      "text/plain": [
       "'Completed'"
      ]
     },
     "metadata": {},
     "output_type": "display_data"
    },
    {
     "data": {
      "text/plain": [
       "8"
      ]
     },
     "metadata": {},
     "output_type": "display_data"
    },
    {
     "data": {
      "text/plain": [
       "'Completed'"
      ]
     },
     "metadata": {},
     "output_type": "display_data"
    },
    {
     "data": {
      "text/plain": [
       "9"
      ]
     },
     "metadata": {},
     "output_type": "display_data"
    },
    {
     "data": {
      "text/plain": [
       "'Completed'"
      ]
     },
     "metadata": {},
     "output_type": "display_data"
    },
    {
     "data": {
      "text/plain": [
       "10"
      ]
     },
     "metadata": {},
     "output_type": "display_data"
    },
    {
     "data": {
      "text/plain": [
       "'Completed'"
      ]
     },
     "metadata": {},
     "output_type": "display_data"
    },
    {
     "data": {
      "text/plain": [
       "11"
      ]
     },
     "metadata": {},
     "output_type": "display_data"
    },
    {
     "data": {
      "text/plain": [
       "'Completed'"
      ]
     },
     "metadata": {},
     "output_type": "display_data"
    },
    {
     "data": {
      "text/plain": [
       "12"
      ]
     },
     "metadata": {},
     "output_type": "display_data"
    },
    {
     "data": {
      "text/plain": [
       "'Completed'"
      ]
     },
     "metadata": {},
     "output_type": "display_data"
    },
    {
     "data": {
      "text/plain": [
       "13"
      ]
     },
     "metadata": {},
     "output_type": "display_data"
    },
    {
     "data": {
      "text/plain": [
       "'Completed'"
      ]
     },
     "metadata": {},
     "output_type": "display_data"
    },
    {
     "data": {
      "text/plain": [
       "14"
      ]
     },
     "metadata": {},
     "output_type": "display_data"
    },
    {
     "data": {
      "text/plain": [
       "'Completed'"
      ]
     },
     "metadata": {},
     "output_type": "display_data"
    },
    {
     "data": {
      "text/plain": [
       "15"
      ]
     },
     "metadata": {},
     "output_type": "display_data"
    },
    {
     "data": {
      "text/plain": [
       "'Completed'"
      ]
     },
     "metadata": {},
     "output_type": "display_data"
    },
    {
     "data": {
      "text/plain": [
       "16"
      ]
     },
     "metadata": {},
     "output_type": "display_data"
    },
    {
     "data": {
      "text/plain": [
       "'Completed'"
      ]
     },
     "metadata": {},
     "output_type": "display_data"
    },
    {
     "data": {
      "text/plain": [
       "17"
      ]
     },
     "metadata": {},
     "output_type": "display_data"
    },
    {
     "data": {
      "text/plain": [
       "'Completed'"
      ]
     },
     "metadata": {},
     "output_type": "display_data"
    },
    {
     "data": {
      "text/plain": [
       "18"
      ]
     },
     "metadata": {},
     "output_type": "display_data"
    },
    {
     "data": {
      "text/plain": [
       "'Completed'"
      ]
     },
     "metadata": {},
     "output_type": "display_data"
    },
    {
     "data": {
      "text/plain": [
       "19"
      ]
     },
     "metadata": {},
     "output_type": "display_data"
    },
    {
     "data": {
      "text/plain": [
       "'Completed'"
      ]
     },
     "metadata": {},
     "output_type": "display_data"
    },
    {
     "data": {
      "text/plain": [
       "20"
      ]
     },
     "metadata": {},
     "output_type": "display_data"
    },
    {
     "data": {
      "text/plain": [
       "'Completed'"
      ]
     },
     "metadata": {},
     "output_type": "display_data"
    },
    {
     "data": {
      "text/plain": [
       "21"
      ]
     },
     "metadata": {},
     "output_type": "display_data"
    },
    {
     "data": {
      "text/plain": [
       "'Completed'"
      ]
     },
     "metadata": {},
     "output_type": "display_data"
    },
    {
     "data": {
      "text/plain": [
       "22"
      ]
     },
     "metadata": {},
     "output_type": "display_data"
    },
    {
     "data": {
      "text/plain": [
       "'Completed'"
      ]
     },
     "metadata": {},
     "output_type": "display_data"
    },
    {
     "data": {
      "text/plain": [
       "23"
      ]
     },
     "metadata": {},
     "output_type": "display_data"
    },
    {
     "data": {
      "text/plain": [
       "'Completed'"
      ]
     },
     "metadata": {},
     "output_type": "display_data"
    },
    {
     "data": {
      "text/plain": [
       "24"
      ]
     },
     "metadata": {},
     "output_type": "display_data"
    },
    {
     "data": {
      "text/plain": [
       "'Completed'"
      ]
     },
     "metadata": {},
     "output_type": "display_data"
    },
    {
     "data": {
      "text/plain": [
       "25"
      ]
     },
     "metadata": {},
     "output_type": "display_data"
    },
    {
     "data": {
      "text/plain": [
       "'Completed'"
      ]
     },
     "metadata": {},
     "output_type": "display_data"
    },
    {
     "data": {
      "text/plain": [
       "26"
      ]
     },
     "metadata": {},
     "output_type": "display_data"
    },
    {
     "data": {
      "text/plain": [
       "'Completed'"
      ]
     },
     "metadata": {},
     "output_type": "display_data"
    },
    {
     "data": {
      "text/plain": [
       "27"
      ]
     },
     "metadata": {},
     "output_type": "display_data"
    },
    {
     "data": {
      "text/plain": [
       "'Completed'"
      ]
     },
     "metadata": {},
     "output_type": "display_data"
    },
    {
     "data": {
      "text/plain": [
       "28"
      ]
     },
     "metadata": {},
     "output_type": "display_data"
    },
    {
     "data": {
      "text/plain": [
       "'Completed'"
      ]
     },
     "metadata": {},
     "output_type": "display_data"
    },
    {
     "data": {
      "text/plain": [
       "29"
      ]
     },
     "metadata": {},
     "output_type": "display_data"
    },
    {
     "data": {
      "text/plain": [
       "'Completed'"
      ]
     },
     "metadata": {},
     "output_type": "display_data"
    },
    {
     "data": {
      "text/plain": [
       "30"
      ]
     },
     "metadata": {},
     "output_type": "display_data"
    },
    {
     "data": {
      "text/plain": [
       "'Current key in progress'"
      ]
     },
     "metadata": {},
     "output_type": "display_data"
    },
    {
     "data": {
      "text/plain": [
       "'sample_numbers_list_2.1_to_2.2'"
      ]
     },
     "metadata": {},
     "output_type": "display_data"
    },
    {
     "data": {
      "text/plain": [
       "476"
      ]
     },
     "metadata": {},
     "output_type": "display_data"
    },
    {
     "data": {
      "text/html": [
       "<div>\n",
       "<style scoped>\n",
       "    .dataframe tbody tr th:only-of-type {\n",
       "        vertical-align: middle;\n",
       "    }\n",
       "\n",
       "    .dataframe tbody tr th {\n",
       "        vertical-align: top;\n",
       "    }\n",
       "\n",
       "    .dataframe thead th {\n",
       "        text-align: right;\n",
       "    }\n",
       "</style>\n",
       "<table border=\"1\" class=\"dataframe\">\n",
       "  <thead>\n",
       "    <tr style=\"text-align: right;\">\n",
       "      <th></th>\n",
       "      <th>Subject</th>\n",
       "      <th>HR</th>\n",
       "      <th>MAP</th>\n",
       "      <th>DBP</th>\n",
       "      <th>SBP</th>\n",
       "      <th>Resp</th>\n",
       "    </tr>\n",
       "  </thead>\n",
       "  <tbody>\n",
       "    <tr>\n",
       "      <th>0</th>\n",
       "      <td>11</td>\n",
       "      <td>90.0</td>\n",
       "      <td>70.0</td>\n",
       "      <td>53.0</td>\n",
       "      <td>111.0</td>\n",
       "      <td>24.0</td>\n",
       "    </tr>\n",
       "    <tr>\n",
       "      <th>1</th>\n",
       "      <td>11</td>\n",
       "      <td>90.0</td>\n",
       "      <td>70.0</td>\n",
       "      <td>53.0</td>\n",
       "      <td>111.0</td>\n",
       "      <td>24.0</td>\n",
       "    </tr>\n",
       "    <tr>\n",
       "      <th>2</th>\n",
       "      <td>11</td>\n",
       "      <td>90.0</td>\n",
       "      <td>80.0</td>\n",
       "      <td>60.0</td>\n",
       "      <td>121.0</td>\n",
       "      <td>24.0</td>\n",
       "    </tr>\n",
       "    <tr>\n",
       "      <th>3</th>\n",
       "      <td>11</td>\n",
       "      <td>81.0</td>\n",
       "      <td>67.0</td>\n",
       "      <td>52.0</td>\n",
       "      <td>99.0</td>\n",
       "      <td>12.0</td>\n",
       "    </tr>\n",
       "    <tr>\n",
       "      <th>4</th>\n",
       "      <td>11</td>\n",
       "      <td>83.0</td>\n",
       "      <td>66.0</td>\n",
       "      <td>51.0</td>\n",
       "      <td>99.0</td>\n",
       "      <td>14.0</td>\n",
       "    </tr>\n",
       "    <tr>\n",
       "      <th>...</th>\n",
       "      <td>...</td>\n",
       "      <td>...</td>\n",
       "      <td>...</td>\n",
       "      <td>...</td>\n",
       "      <td>...</td>\n",
       "      <td>...</td>\n",
       "    </tr>\n",
       "    <tr>\n",
       "      <th>52</th>\n",
       "      <td>506</td>\n",
       "      <td>104.0</td>\n",
       "      <td>89.0</td>\n",
       "      <td>69.0</td>\n",
       "      <td>136.0</td>\n",
       "      <td>28.0</td>\n",
       "    </tr>\n",
       "    <tr>\n",
       "      <th>53</th>\n",
       "      <td>506</td>\n",
       "      <td>100.0</td>\n",
       "      <td>83.0</td>\n",
       "      <td>65.0</td>\n",
       "      <td>121.0</td>\n",
       "      <td>19.0</td>\n",
       "    </tr>\n",
       "    <tr>\n",
       "      <th>54</th>\n",
       "      <td>506</td>\n",
       "      <td>91.0</td>\n",
       "      <td>74.0</td>\n",
       "      <td>59.0</td>\n",
       "      <td>102.0</td>\n",
       "      <td>14.0</td>\n",
       "    </tr>\n",
       "    <tr>\n",
       "      <th>55</th>\n",
       "      <td>506</td>\n",
       "      <td>90.0</td>\n",
       "      <td>66.0</td>\n",
       "      <td>61.0</td>\n",
       "      <td>101.0</td>\n",
       "      <td>16.0</td>\n",
       "    </tr>\n",
       "    <tr>\n",
       "      <th>56</th>\n",
       "      <td>506</td>\n",
       "      <td>90.0</td>\n",
       "      <td>72.0</td>\n",
       "      <td>56.0</td>\n",
       "      <td>101.0</td>\n",
       "      <td>20.0</td>\n",
       "    </tr>\n",
       "  </tbody>\n",
       "</table>\n",
       "<p>9401 rows × 6 columns</p>\n",
       "</div>"
      ],
      "text/plain": [
       "    Subject     HR   MAP   DBP    SBP  Resp\n",
       "0        11   90.0  70.0  53.0  111.0  24.0\n",
       "1        11   90.0  70.0  53.0  111.0  24.0\n",
       "2        11   90.0  80.0  60.0  121.0  24.0\n",
       "3        11   81.0  67.0  52.0   99.0  12.0\n",
       "4        11   83.0  66.0  51.0   99.0  14.0\n",
       "..      ...    ...   ...   ...    ...   ...\n",
       "52      506  104.0  89.0  69.0  136.0  28.0\n",
       "53      506  100.0  83.0  65.0  121.0  19.0\n",
       "54      506   91.0  74.0  59.0  102.0  14.0\n",
       "55      506   90.0  66.0  61.0  101.0  16.0\n",
       "56      506   90.0  72.0  56.0  101.0  20.0\n",
       "\n",
       "[9401 rows x 6 columns]"
      ]
     },
     "metadata": {},
     "output_type": "display_data"
    },
    {
     "data": {
      "text/plain": [
       "'Avg length:'"
      ]
     },
     "metadata": {},
     "output_type": "display_data"
    },
    {
     "data": {
      "text/plain": [
       "108.59428571428572"
      ]
     },
     "metadata": {},
     "output_type": "display_data"
    },
    {
     "data": {
      "text/plain": [
       "6"
      ]
     },
     "metadata": {},
     "output_type": "display_data"
    },
    {
     "data": {
      "text/plain": [
       "'X_1:'"
      ]
     },
     "metadata": {},
     "output_type": "display_data"
    },
    {
     "data": {
      "text/html": [
       "<div>\n",
       "<style scoped>\n",
       "    .dataframe tbody tr th:only-of-type {\n",
       "        vertical-align: middle;\n",
       "    }\n",
       "\n",
       "    .dataframe tbody tr th {\n",
       "        vertical-align: top;\n",
       "    }\n",
       "\n",
       "    .dataframe thead th {\n",
       "        text-align: right;\n",
       "    }\n",
       "</style>\n",
       "<table border=\"1\" class=\"dataframe\">\n",
       "  <thead>\n",
       "    <tr style=\"text-align: right;\">\n",
       "      <th></th>\n",
       "      <th>1</th>\n",
       "      <th>2</th>\n",
       "      <th>3</th>\n",
       "      <th>4</th>\n",
       "      <th>5</th>\n",
       "    </tr>\n",
       "  </thead>\n",
       "  <tbody>\n",
       "    <tr>\n",
       "      <th>0</th>\n",
       "      <td>0      1.340723\n",
       "1      1.340723\n",
       "2      1.34072...</td>\n",
       "      <td>0     -0.778554\n",
       "1     -0.778554\n",
       "2      0.82151...</td>\n",
       "      <td>0     -0.107189\n",
       "1     -0.107189\n",
       "2      1.97062...</td>\n",
       "      <td>0     -0.903078\n",
       "1     -0.903078\n",
       "2     -0.10722...</td>\n",
       "      <td>0      1.674277\n",
       "1      1.674277\n",
       "2      1.67427...</td>\n",
       "    </tr>\n",
       "    <tr>\n",
       "      <th>1</th>\n",
       "      <td>0     -2.252885\n",
       "1     -2.252885\n",
       "2     -1.34260...</td>\n",
       "      <td>0     -1.614002\n",
       "1     -1.614002\n",
       "2      0.47826...</td>\n",
       "      <td>0     -1.350322\n",
       "1     -1.350322\n",
       "2     -0.16170...</td>\n",
       "      <td>0     -2.076497\n",
       "1     -2.076497\n",
       "2      0.34025...</td>\n",
       "      <td>0      0.328589\n",
       "1      0.328589\n",
       "2      0.32858...</td>\n",
       "    </tr>\n",
       "    <tr>\n",
       "      <th>2</th>\n",
       "      <td>0     -0.748380\n",
       "1     -0.748380\n",
       "2     -1.25784...</td>\n",
       "      <td>0     -1.904063\n",
       "1     -1.904063\n",
       "2      0.13196...</td>\n",
       "      <td>0     -1.310589\n",
       "1     -1.310589\n",
       "2      0.13027...</td>\n",
       "      <td>0     -1.252654\n",
       "1     -1.252654\n",
       "2      0.98884...</td>\n",
       "      <td>0      0.638863\n",
       "1      0.638863\n",
       "2     -0.40025...</td>\n",
       "    </tr>\n",
       "    <tr>\n",
       "      <th>3</th>\n",
       "      <td>0     -1.129663\n",
       "1     -1.129663\n",
       "2     -1.50219...</td>\n",
       "      <td>0     -2.085958\n",
       "1     -2.085958\n",
       "2     -2.48453...</td>\n",
       "      <td>0     -2.047608\n",
       "1     -2.047608\n",
       "2     -2.53958...</td>\n",
       "      <td>0     -0.139525\n",
       "1     -0.139525\n",
       "2     -0.42746...</td>\n",
       "      <td>0     -2.240410\n",
       "1     -2.240410\n",
       "2     -0.95165...</td>\n",
       "    </tr>\n",
       "    <tr>\n",
       "      <th>4</th>\n",
       "      <td>0     -0.459793\n",
       "1     -0.357141\n",
       "2     -0.53678...</td>\n",
       "      <td>0      0.002752\n",
       "1      0.537660\n",
       "2      0.59709...</td>\n",
       "      <td>0      0.639073\n",
       "1      0.639073\n",
       "2      0.79330...</td>\n",
       "      <td>0     -0.650055\n",
       "1     -0.308420\n",
       "2      0.03321...</td>\n",
       "      <td>0      0.143012\n",
       "1      0.675609\n",
       "2      0.94190...</td>\n",
       "    </tr>\n",
       "    <tr>\n",
       "      <th>...</th>\n",
       "      <td>...</td>\n",
       "      <td>...</td>\n",
       "      <td>...</td>\n",
       "      <td>...</td>\n",
       "      <td>...</td>\n",
       "    </tr>\n",
       "    <tr>\n",
       "      <th>345</th>\n",
       "      <td>0      0.650005\n",
       "1      0.589643\n",
       "2     -0.43650...</td>\n",
       "      <td>0      0.608622\n",
       "1      1.589685\n",
       "2      1.41131...</td>\n",
       "      <td>0      3.279536\n",
       "1      3.279536\n",
       "2      1.58788...</td>\n",
       "      <td>0      0.691488\n",
       "1      0.691488\n",
       "2     -0.02521...</td>\n",
       "      <td>0     -0.462499\n",
       "1      0.541519\n",
       "2     -0.46249...</td>\n",
       "    </tr>\n",
       "    <tr>\n",
       "      <th>346</th>\n",
       "      <td>0      0.047154\n",
       "1      0.047154\n",
       "2      0.74614...</td>\n",
       "      <td>0     -0.057694\n",
       "1     -0.057694\n",
       "2     -0.05769...</td>\n",
       "      <td>0      0.213708\n",
       "1      0.213708\n",
       "2     -0.04931...</td>\n",
       "      <td>0     -0.447369\n",
       "1     -0.447369\n",
       "2     -0.13157...</td>\n",
       "      <td>0     -0.476827\n",
       "1     -0.476827\n",
       "2     -1.35618...</td>\n",
       "    </tr>\n",
       "    <tr>\n",
       "      <th>347</th>\n",
       "      <td>0     -0.843348\n",
       "1     -0.698360\n",
       "2     -0.37938...</td>\n",
       "      <td>0     -0.717568\n",
       "1     -0.668112\n",
       "2     -0.66811...</td>\n",
       "      <td>0     -0.930073\n",
       "1     -0.487014\n",
       "2     -0.55030...</td>\n",
       "      <td>0     -0.418345\n",
       "1     -0.586556\n",
       "2     -0.65384...</td>\n",
       "      <td>0     -2.073631\n",
       "1     -2.073631\n",
       "2     -2.07363...</td>\n",
       "    </tr>\n",
       "    <tr>\n",
       "      <th>348</th>\n",
       "      <td>0      2.245241\n",
       "1      0.922891\n",
       "2      1.58406...</td>\n",
       "      <td>0     -0.732514\n",
       "1     -1.682273\n",
       "2     -1.43603...</td>\n",
       "      <td>0     -1.124194\n",
       "1     -2.176147\n",
       "2     -1.29952...</td>\n",
       "      <td>0      0.192826\n",
       "1     -2.343582\n",
       "2     -2.14333...</td>\n",
       "      <td>0     -0.059245\n",
       "1     -0.059245\n",
       "2      0.18685...</td>\n",
       "    </tr>\n",
       "    <tr>\n",
       "      <th>349</th>\n",
       "      <td>0      0.571725\n",
       "1      0.571725\n",
       "2     -0.22564...</td>\n",
       "      <td>0     -0.799545\n",
       "1     -0.799545\n",
       "2     -2.49661...</td>\n",
       "      <td>0     -0.799549\n",
       "1     -0.799549\n",
       "2     -2.72855...</td>\n",
       "      <td>0      0.793528\n",
       "1      0.793528\n",
       "2     -1.45869...</td>\n",
       "      <td>0      0.944124\n",
       "1      0.944124\n",
       "2      0.77217...</td>\n",
       "    </tr>\n",
       "  </tbody>\n",
       "</table>\n",
       "<p>350 rows × 5 columns</p>\n",
       "</div>"
      ],
      "text/plain": [
       "                                                     1  \\\n",
       "0    0      1.340723\n",
       "1      1.340723\n",
       "2      1.34072...   \n",
       "1    0     -2.252885\n",
       "1     -2.252885\n",
       "2     -1.34260...   \n",
       "2    0     -0.748380\n",
       "1     -0.748380\n",
       "2     -1.25784...   \n",
       "3    0     -1.129663\n",
       "1     -1.129663\n",
       "2     -1.50219...   \n",
       "4    0     -0.459793\n",
       "1     -0.357141\n",
       "2     -0.53678...   \n",
       "..                                                 ...   \n",
       "345  0      0.650005\n",
       "1      0.589643\n",
       "2     -0.43650...   \n",
       "346  0      0.047154\n",
       "1      0.047154\n",
       "2      0.74614...   \n",
       "347  0     -0.843348\n",
       "1     -0.698360\n",
       "2     -0.37938...   \n",
       "348  0      2.245241\n",
       "1      0.922891\n",
       "2      1.58406...   \n",
       "349  0      0.571725\n",
       "1      0.571725\n",
       "2     -0.22564...   \n",
       "\n",
       "                                                     2  \\\n",
       "0    0     -0.778554\n",
       "1     -0.778554\n",
       "2      0.82151...   \n",
       "1    0     -1.614002\n",
       "1     -1.614002\n",
       "2      0.47826...   \n",
       "2    0     -1.904063\n",
       "1     -1.904063\n",
       "2      0.13196...   \n",
       "3    0     -2.085958\n",
       "1     -2.085958\n",
       "2     -2.48453...   \n",
       "4    0      0.002752\n",
       "1      0.537660\n",
       "2      0.59709...   \n",
       "..                                                 ...   \n",
       "345  0      0.608622\n",
       "1      1.589685\n",
       "2      1.41131...   \n",
       "346  0     -0.057694\n",
       "1     -0.057694\n",
       "2     -0.05769...   \n",
       "347  0     -0.717568\n",
       "1     -0.668112\n",
       "2     -0.66811...   \n",
       "348  0     -0.732514\n",
       "1     -1.682273\n",
       "2     -1.43603...   \n",
       "349  0     -0.799545\n",
       "1     -0.799545\n",
       "2     -2.49661...   \n",
       "\n",
       "                                                     3  \\\n",
       "0    0     -0.107189\n",
       "1     -0.107189\n",
       "2      1.97062...   \n",
       "1    0     -1.350322\n",
       "1     -1.350322\n",
       "2     -0.16170...   \n",
       "2    0     -1.310589\n",
       "1     -1.310589\n",
       "2      0.13027...   \n",
       "3    0     -2.047608\n",
       "1     -2.047608\n",
       "2     -2.53958...   \n",
       "4    0      0.639073\n",
       "1      0.639073\n",
       "2      0.79330...   \n",
       "..                                                 ...   \n",
       "345  0      3.279536\n",
       "1      3.279536\n",
       "2      1.58788...   \n",
       "346  0      0.213708\n",
       "1      0.213708\n",
       "2     -0.04931...   \n",
       "347  0     -0.930073\n",
       "1     -0.487014\n",
       "2     -0.55030...   \n",
       "348  0     -1.124194\n",
       "1     -2.176147\n",
       "2     -1.29952...   \n",
       "349  0     -0.799549\n",
       "1     -0.799549\n",
       "2     -2.72855...   \n",
       "\n",
       "                                                     4  \\\n",
       "0    0     -0.903078\n",
       "1     -0.903078\n",
       "2     -0.10722...   \n",
       "1    0     -2.076497\n",
       "1     -2.076497\n",
       "2      0.34025...   \n",
       "2    0     -1.252654\n",
       "1     -1.252654\n",
       "2      0.98884...   \n",
       "3    0     -0.139525\n",
       "1     -0.139525\n",
       "2     -0.42746...   \n",
       "4    0     -0.650055\n",
       "1     -0.308420\n",
       "2      0.03321...   \n",
       "..                                                 ...   \n",
       "345  0      0.691488\n",
       "1      0.691488\n",
       "2     -0.02521...   \n",
       "346  0     -0.447369\n",
       "1     -0.447369\n",
       "2     -0.13157...   \n",
       "347  0     -0.418345\n",
       "1     -0.586556\n",
       "2     -0.65384...   \n",
       "348  0      0.192826\n",
       "1     -2.343582\n",
       "2     -2.14333...   \n",
       "349  0      0.793528\n",
       "1      0.793528\n",
       "2     -1.45869...   \n",
       "\n",
       "                                                     5  \n",
       "0    0      1.674277\n",
       "1      1.674277\n",
       "2      1.67427...  \n",
       "1    0      0.328589\n",
       "1      0.328589\n",
       "2      0.32858...  \n",
       "2    0      0.638863\n",
       "1      0.638863\n",
       "2     -0.40025...  \n",
       "3    0     -2.240410\n",
       "1     -2.240410\n",
       "2     -0.95165...  \n",
       "4    0      0.143012\n",
       "1      0.675609\n",
       "2      0.94190...  \n",
       "..                                                 ...  \n",
       "345  0     -0.462499\n",
       "1      0.541519\n",
       "2     -0.46249...  \n",
       "346  0     -0.476827\n",
       "1     -0.476827\n",
       "2     -1.35618...  \n",
       "347  0     -2.073631\n",
       "1     -2.073631\n",
       "2     -2.07363...  \n",
       "348  0     -0.059245\n",
       "1     -0.059245\n",
       "2      0.18685...  \n",
       "349  0      0.944124\n",
       "1      0.944124\n",
       "2      0.77217...  \n",
       "\n",
       "[350 rows x 5 columns]"
      ]
     },
     "metadata": {},
     "output_type": "display_data"
    },
    {
     "data": {
      "text/plain": [
       "'Completed'"
      ]
     },
     "metadata": {},
     "output_type": "display_data"
    },
    {
     "data": {
      "text/plain": [
       "1"
      ]
     },
     "metadata": {},
     "output_type": "display_data"
    },
    {
     "data": {
      "text/plain": [
       "'Completed'"
      ]
     },
     "metadata": {},
     "output_type": "display_data"
    },
    {
     "data": {
      "text/plain": [
       "2"
      ]
     },
     "metadata": {},
     "output_type": "display_data"
    },
    {
     "data": {
      "text/plain": [
       "'Completed'"
      ]
     },
     "metadata": {},
     "output_type": "display_data"
    },
    {
     "data": {
      "text/plain": [
       "3"
      ]
     },
     "metadata": {},
     "output_type": "display_data"
    },
    {
     "data": {
      "text/plain": [
       "'Completed'"
      ]
     },
     "metadata": {},
     "output_type": "display_data"
    },
    {
     "data": {
      "text/plain": [
       "4"
      ]
     },
     "metadata": {},
     "output_type": "display_data"
    },
    {
     "data": {
      "text/plain": [
       "'Completed'"
      ]
     },
     "metadata": {},
     "output_type": "display_data"
    },
    {
     "data": {
      "text/plain": [
       "5"
      ]
     },
     "metadata": {},
     "output_type": "display_data"
    },
    {
     "data": {
      "text/plain": [
       "'Completed'"
      ]
     },
     "metadata": {},
     "output_type": "display_data"
    },
    {
     "data": {
      "text/plain": [
       "6"
      ]
     },
     "metadata": {},
     "output_type": "display_data"
    },
    {
     "data": {
      "text/plain": [
       "'Completed'"
      ]
     },
     "metadata": {},
     "output_type": "display_data"
    },
    {
     "data": {
      "text/plain": [
       "7"
      ]
     },
     "metadata": {},
     "output_type": "display_data"
    },
    {
     "data": {
      "text/plain": [
       "'Completed'"
      ]
     },
     "metadata": {},
     "output_type": "display_data"
    },
    {
     "data": {
      "text/plain": [
       "8"
      ]
     },
     "metadata": {},
     "output_type": "display_data"
    },
    {
     "data": {
      "text/plain": [
       "'Completed'"
      ]
     },
     "metadata": {},
     "output_type": "display_data"
    },
    {
     "data": {
      "text/plain": [
       "9"
      ]
     },
     "metadata": {},
     "output_type": "display_data"
    },
    {
     "data": {
      "text/plain": [
       "'Completed'"
      ]
     },
     "metadata": {},
     "output_type": "display_data"
    },
    {
     "data": {
      "text/plain": [
       "10"
      ]
     },
     "metadata": {},
     "output_type": "display_data"
    },
    {
     "data": {
      "text/plain": [
       "'Completed'"
      ]
     },
     "metadata": {},
     "output_type": "display_data"
    },
    {
     "data": {
      "text/plain": [
       "11"
      ]
     },
     "metadata": {},
     "output_type": "display_data"
    },
    {
     "data": {
      "text/plain": [
       "'Completed'"
      ]
     },
     "metadata": {},
     "output_type": "display_data"
    },
    {
     "data": {
      "text/plain": [
       "12"
      ]
     },
     "metadata": {},
     "output_type": "display_data"
    },
    {
     "data": {
      "text/plain": [
       "'Completed'"
      ]
     },
     "metadata": {},
     "output_type": "display_data"
    },
    {
     "data": {
      "text/plain": [
       "13"
      ]
     },
     "metadata": {},
     "output_type": "display_data"
    },
    {
     "data": {
      "text/plain": [
       "'Completed'"
      ]
     },
     "metadata": {},
     "output_type": "display_data"
    },
    {
     "data": {
      "text/plain": [
       "14"
      ]
     },
     "metadata": {},
     "output_type": "display_data"
    },
    {
     "data": {
      "text/plain": [
       "'Completed'"
      ]
     },
     "metadata": {},
     "output_type": "display_data"
    },
    {
     "data": {
      "text/plain": [
       "15"
      ]
     },
     "metadata": {},
     "output_type": "display_data"
    },
    {
     "data": {
      "text/plain": [
       "'Completed'"
      ]
     },
     "metadata": {},
     "output_type": "display_data"
    },
    {
     "data": {
      "text/plain": [
       "16"
      ]
     },
     "metadata": {},
     "output_type": "display_data"
    },
    {
     "data": {
      "text/plain": [
       "'Completed'"
      ]
     },
     "metadata": {},
     "output_type": "display_data"
    },
    {
     "data": {
      "text/plain": [
       "17"
      ]
     },
     "metadata": {},
     "output_type": "display_data"
    },
    {
     "data": {
      "text/plain": [
       "'Completed'"
      ]
     },
     "metadata": {},
     "output_type": "display_data"
    },
    {
     "data": {
      "text/plain": [
       "18"
      ]
     },
     "metadata": {},
     "output_type": "display_data"
    },
    {
     "data": {
      "text/plain": [
       "'Completed'"
      ]
     },
     "metadata": {},
     "output_type": "display_data"
    },
    {
     "data": {
      "text/plain": [
       "19"
      ]
     },
     "metadata": {},
     "output_type": "display_data"
    },
    {
     "data": {
      "text/plain": [
       "'Completed'"
      ]
     },
     "metadata": {},
     "output_type": "display_data"
    },
    {
     "data": {
      "text/plain": [
       "20"
      ]
     },
     "metadata": {},
     "output_type": "display_data"
    },
    {
     "data": {
      "text/plain": [
       "'Completed'"
      ]
     },
     "metadata": {},
     "output_type": "display_data"
    },
    {
     "data": {
      "text/plain": [
       "21"
      ]
     },
     "metadata": {},
     "output_type": "display_data"
    },
    {
     "data": {
      "text/plain": [
       "'Completed'"
      ]
     },
     "metadata": {},
     "output_type": "display_data"
    },
    {
     "data": {
      "text/plain": [
       "22"
      ]
     },
     "metadata": {},
     "output_type": "display_data"
    },
    {
     "data": {
      "text/plain": [
       "'Completed'"
      ]
     },
     "metadata": {},
     "output_type": "display_data"
    },
    {
     "data": {
      "text/plain": [
       "23"
      ]
     },
     "metadata": {},
     "output_type": "display_data"
    },
    {
     "data": {
      "text/plain": [
       "'Completed'"
      ]
     },
     "metadata": {},
     "output_type": "display_data"
    },
    {
     "data": {
      "text/plain": [
       "24"
      ]
     },
     "metadata": {},
     "output_type": "display_data"
    },
    {
     "data": {
      "text/plain": [
       "'Completed'"
      ]
     },
     "metadata": {},
     "output_type": "display_data"
    },
    {
     "data": {
      "text/plain": [
       "25"
      ]
     },
     "metadata": {},
     "output_type": "display_data"
    },
    {
     "data": {
      "text/plain": [
       "'Completed'"
      ]
     },
     "metadata": {},
     "output_type": "display_data"
    },
    {
     "data": {
      "text/plain": [
       "26"
      ]
     },
     "metadata": {},
     "output_type": "display_data"
    },
    {
     "data": {
      "text/plain": [
       "'Completed'"
      ]
     },
     "metadata": {},
     "output_type": "display_data"
    },
    {
     "data": {
      "text/plain": [
       "27"
      ]
     },
     "metadata": {},
     "output_type": "display_data"
    },
    {
     "data": {
      "text/plain": [
       "'Completed'"
      ]
     },
     "metadata": {},
     "output_type": "display_data"
    },
    {
     "data": {
      "text/plain": [
       "28"
      ]
     },
     "metadata": {},
     "output_type": "display_data"
    },
    {
     "data": {
      "text/plain": [
       "'Completed'"
      ]
     },
     "metadata": {},
     "output_type": "display_data"
    },
    {
     "data": {
      "text/plain": [
       "29"
      ]
     },
     "metadata": {},
     "output_type": "display_data"
    },
    {
     "data": {
      "text/plain": [
       "'Completed'"
      ]
     },
     "metadata": {},
     "output_type": "display_data"
    },
    {
     "data": {
      "text/plain": [
       "30"
      ]
     },
     "metadata": {},
     "output_type": "display_data"
    },
    {
     "data": {
      "text/plain": [
       "'Current key in progress'"
      ]
     },
     "metadata": {},
     "output_type": "display_data"
    },
    {
     "data": {
      "text/plain": [
       "'sample_numbers_list_2.2_to_2.3'"
      ]
     },
     "metadata": {},
     "output_type": "display_data"
    },
    {
     "data": {
      "text/plain": [
       "484"
      ]
     },
     "metadata": {},
     "output_type": "display_data"
    },
    {
     "data": {
      "text/html": [
       "<div>\n",
       "<style scoped>\n",
       "    .dataframe tbody tr th:only-of-type {\n",
       "        vertical-align: middle;\n",
       "    }\n",
       "\n",
       "    .dataframe tbody tr th {\n",
       "        vertical-align: top;\n",
       "    }\n",
       "\n",
       "    .dataframe thead th {\n",
       "        text-align: right;\n",
       "    }\n",
       "</style>\n",
       "<table border=\"1\" class=\"dataframe\">\n",
       "  <thead>\n",
       "    <tr style=\"text-align: right;\">\n",
       "      <th></th>\n",
       "      <th>Subject</th>\n",
       "      <th>HR</th>\n",
       "      <th>MAP</th>\n",
       "      <th>DBP</th>\n",
       "      <th>SBP</th>\n",
       "      <th>Resp</th>\n",
       "    </tr>\n",
       "  </thead>\n",
       "  <tbody>\n",
       "    <tr>\n",
       "      <th>0</th>\n",
       "      <td>8</td>\n",
       "      <td>90.0</td>\n",
       "      <td>67.0</td>\n",
       "      <td>54.0</td>\n",
       "      <td>102.5</td>\n",
       "      <td>16.0</td>\n",
       "    </tr>\n",
       "    <tr>\n",
       "      <th>1</th>\n",
       "      <td>8</td>\n",
       "      <td>90.0</td>\n",
       "      <td>64.0</td>\n",
       "      <td>52.0</td>\n",
       "      <td>96.0</td>\n",
       "      <td>22.0</td>\n",
       "    </tr>\n",
       "    <tr>\n",
       "      <th>2</th>\n",
       "      <td>8</td>\n",
       "      <td>90.0</td>\n",
       "      <td>67.0</td>\n",
       "      <td>53.5</td>\n",
       "      <td>100.0</td>\n",
       "      <td>18.0</td>\n",
       "    </tr>\n",
       "    <tr>\n",
       "      <th>3</th>\n",
       "      <td>8</td>\n",
       "      <td>90.0</td>\n",
       "      <td>72.0</td>\n",
       "      <td>57.5</td>\n",
       "      <td>110.0</td>\n",
       "      <td>17.5</td>\n",
       "    </tr>\n",
       "    <tr>\n",
       "      <th>4</th>\n",
       "      <td>8</td>\n",
       "      <td>90.0</td>\n",
       "      <td>65.0</td>\n",
       "      <td>53.0</td>\n",
       "      <td>101.5</td>\n",
       "      <td>21.0</td>\n",
       "    </tr>\n",
       "    <tr>\n",
       "      <th>...</th>\n",
       "      <td>...</td>\n",
       "      <td>...</td>\n",
       "      <td>...</td>\n",
       "      <td>...</td>\n",
       "      <td>...</td>\n",
       "      <td>...</td>\n",
       "    </tr>\n",
       "    <tr>\n",
       "      <th>52</th>\n",
       "      <td>506</td>\n",
       "      <td>104.0</td>\n",
       "      <td>89.0</td>\n",
       "      <td>69.0</td>\n",
       "      <td>136.0</td>\n",
       "      <td>28.0</td>\n",
       "    </tr>\n",
       "    <tr>\n",
       "      <th>53</th>\n",
       "      <td>506</td>\n",
       "      <td>100.0</td>\n",
       "      <td>83.0</td>\n",
       "      <td>65.0</td>\n",
       "      <td>121.0</td>\n",
       "      <td>19.0</td>\n",
       "    </tr>\n",
       "    <tr>\n",
       "      <th>54</th>\n",
       "      <td>506</td>\n",
       "      <td>91.0</td>\n",
       "      <td>74.0</td>\n",
       "      <td>59.0</td>\n",
       "      <td>102.0</td>\n",
       "      <td>14.0</td>\n",
       "    </tr>\n",
       "    <tr>\n",
       "      <th>55</th>\n",
       "      <td>506</td>\n",
       "      <td>90.0</td>\n",
       "      <td>66.0</td>\n",
       "      <td>61.0</td>\n",
       "      <td>101.0</td>\n",
       "      <td>16.0</td>\n",
       "    </tr>\n",
       "    <tr>\n",
       "      <th>56</th>\n",
       "      <td>506</td>\n",
       "      <td>90.0</td>\n",
       "      <td>72.0</td>\n",
       "      <td>56.0</td>\n",
       "      <td>101.0</td>\n",
       "      <td>20.0</td>\n",
       "    </tr>\n",
       "  </tbody>\n",
       "</table>\n",
       "<p>9405 rows × 6 columns</p>\n",
       "</div>"
      ],
      "text/plain": [
       "    Subject     HR   MAP   DBP    SBP  Resp\n",
       "0         8   90.0  67.0  54.0  102.5  16.0\n",
       "1         8   90.0  64.0  52.0   96.0  22.0\n",
       "2         8   90.0  67.0  53.5  100.0  18.0\n",
       "3         8   90.0  72.0  57.5  110.0  17.5\n",
       "4         8   90.0  65.0  53.0  101.5  21.0\n",
       "..      ...    ...   ...   ...    ...   ...\n",
       "52      506  104.0  89.0  69.0  136.0  28.0\n",
       "53      506  100.0  83.0  65.0  121.0  19.0\n",
       "54      506   91.0  74.0  59.0  102.0  14.0\n",
       "55      506   90.0  66.0  61.0  101.0  16.0\n",
       "56      506   90.0  72.0  56.0  101.0  20.0\n",
       "\n",
       "[9405 rows x 6 columns]"
      ]
     },
     "metadata": {},
     "output_type": "display_data"
    },
    {
     "data": {
      "text/plain": [
       "'Avg length:'"
      ]
     },
     "metadata": {},
     "output_type": "display_data"
    },
    {
     "data": {
      "text/plain": [
       "108.59428571428572"
      ]
     },
     "metadata": {},
     "output_type": "display_data"
    },
    {
     "data": {
      "text/plain": [
       "6"
      ]
     },
     "metadata": {},
     "output_type": "display_data"
    },
    {
     "data": {
      "text/plain": [
       "'X_1:'"
      ]
     },
     "metadata": {},
     "output_type": "display_data"
    },
    {
     "data": {
      "text/html": [
       "<div>\n",
       "<style scoped>\n",
       "    .dataframe tbody tr th:only-of-type {\n",
       "        vertical-align: middle;\n",
       "    }\n",
       "\n",
       "    .dataframe tbody tr th {\n",
       "        vertical-align: top;\n",
       "    }\n",
       "\n",
       "    .dataframe thead th {\n",
       "        text-align: right;\n",
       "    }\n",
       "</style>\n",
       "<table border=\"1\" class=\"dataframe\">\n",
       "  <thead>\n",
       "    <tr style=\"text-align: right;\">\n",
       "      <th></th>\n",
       "      <th>1</th>\n",
       "      <th>2</th>\n",
       "      <th>3</th>\n",
       "      <th>4</th>\n",
       "      <th>5</th>\n",
       "    </tr>\n",
       "  </thead>\n",
       "  <tbody>\n",
       "    <tr>\n",
       "      <th>0</th>\n",
       "      <td>0      1.843714\n",
       "1      1.843714\n",
       "2      1.84371...</td>\n",
       "      <td>0      0.020904\n",
       "1     -0.762087\n",
       "2      0.02090...</td>\n",
       "      <td>0      0.446028\n",
       "1     -0.156110\n",
       "2      0.29549...</td>\n",
       "      <td>0     -0.822719\n",
       "1     -1.669564\n",
       "2     -1.14842...</td>\n",
       "      <td>0     -0.530559\n",
       "1      1.035739\n",
       "2     -0.00846...</td>\n",
       "    </tr>\n",
       "    <tr>\n",
       "      <th>1</th>\n",
       "      <td>0      1.340723\n",
       "1      1.340723\n",
       "2      1.34072...</td>\n",
       "      <td>0     -0.778554\n",
       "1     -0.778554\n",
       "2      0.82151...</td>\n",
       "      <td>0     -0.107189\n",
       "1     -0.107189\n",
       "2      1.97062...</td>\n",
       "      <td>0     -0.903078\n",
       "1     -0.903078\n",
       "2     -0.10722...</td>\n",
       "      <td>0      1.674277\n",
       "1      1.674277\n",
       "2      1.67427...</td>\n",
       "    </tr>\n",
       "    <tr>\n",
       "      <th>2</th>\n",
       "      <td>0     -2.252885\n",
       "1     -2.252885\n",
       "2     -1.34260...</td>\n",
       "      <td>0     -1.614002\n",
       "1     -1.614002\n",
       "2      0.47826...</td>\n",
       "      <td>0     -1.350322\n",
       "1     -1.350322\n",
       "2     -0.16170...</td>\n",
       "      <td>0     -2.076497\n",
       "1     -2.076497\n",
       "2      0.34025...</td>\n",
       "      <td>0      0.328589\n",
       "1      0.328589\n",
       "2      0.32858...</td>\n",
       "    </tr>\n",
       "    <tr>\n",
       "      <th>3</th>\n",
       "      <td>0     -0.748380\n",
       "1     -0.748380\n",
       "2     -1.25784...</td>\n",
       "      <td>0     -1.904063\n",
       "1     -1.904063\n",
       "2      0.13196...</td>\n",
       "      <td>0     -1.310589\n",
       "1     -1.310589\n",
       "2      0.13027...</td>\n",
       "      <td>0     -1.252654\n",
       "1     -1.252654\n",
       "2      0.98884...</td>\n",
       "      <td>0      0.638863\n",
       "1      0.638863\n",
       "2     -0.40025...</td>\n",
       "    </tr>\n",
       "    <tr>\n",
       "      <th>4</th>\n",
       "      <td>0     -3.373147\n",
       "1     -3.373147\n",
       "2     -3.37314...</td>\n",
       "      <td>0     -0.895066\n",
       "1     -0.895066\n",
       "2     -0.89506...</td>\n",
       "      <td>0     -0.623113\n",
       "1     -0.623113\n",
       "2     -0.62311...</td>\n",
       "      <td>0      1.385786\n",
       "1      1.385786\n",
       "2      1.38578...</td>\n",
       "      <td>0     -1.695059\n",
       "1     -1.695059\n",
       "2     -1.69505...</td>\n",
       "    </tr>\n",
       "    <tr>\n",
       "      <th>...</th>\n",
       "      <td>...</td>\n",
       "      <td>...</td>\n",
       "      <td>...</td>\n",
       "      <td>...</td>\n",
       "      <td>...</td>\n",
       "    </tr>\n",
       "    <tr>\n",
       "      <th>345</th>\n",
       "      <td>0      0.650005\n",
       "1      0.589643\n",
       "2     -0.43650...</td>\n",
       "      <td>0      0.608622\n",
       "1      1.589685\n",
       "2      1.41131...</td>\n",
       "      <td>0      3.279536\n",
       "1      3.279536\n",
       "2      1.58788...</td>\n",
       "      <td>0      0.691488\n",
       "1      0.691488\n",
       "2     -0.02521...</td>\n",
       "      <td>0     -0.462499\n",
       "1      0.541519\n",
       "2     -0.46249...</td>\n",
       "    </tr>\n",
       "    <tr>\n",
       "      <th>346</th>\n",
       "      <td>0      0.047154\n",
       "1      0.047154\n",
       "2      0.74614...</td>\n",
       "      <td>0     -0.057694\n",
       "1     -0.057694\n",
       "2     -0.05769...</td>\n",
       "      <td>0      0.213708\n",
       "1      0.213708\n",
       "2     -0.04931...</td>\n",
       "      <td>0     -0.447369\n",
       "1     -0.447369\n",
       "2     -0.13157...</td>\n",
       "      <td>0     -0.476827\n",
       "1     -0.476827\n",
       "2     -1.35618...</td>\n",
       "    </tr>\n",
       "    <tr>\n",
       "      <th>347</th>\n",
       "      <td>0     -0.843348\n",
       "1     -0.698360\n",
       "2     -0.37938...</td>\n",
       "      <td>0     -0.717568\n",
       "1     -0.668112\n",
       "2     -0.66811...</td>\n",
       "      <td>0     -0.930073\n",
       "1     -0.487014\n",
       "2     -0.55030...</td>\n",
       "      <td>0     -0.418345\n",
       "1     -0.586556\n",
       "2     -0.65384...</td>\n",
       "      <td>0     -2.073631\n",
       "1     -2.073631\n",
       "2     -2.07363...</td>\n",
       "    </tr>\n",
       "    <tr>\n",
       "      <th>348</th>\n",
       "      <td>0      2.245241\n",
       "1      0.922891\n",
       "2      1.58406...</td>\n",
       "      <td>0     -0.732514\n",
       "1     -1.682273\n",
       "2     -1.43603...</td>\n",
       "      <td>0     -1.124194\n",
       "1     -2.176147\n",
       "2     -1.29952...</td>\n",
       "      <td>0      0.192826\n",
       "1     -2.343582\n",
       "2     -2.14333...</td>\n",
       "      <td>0     -0.059245\n",
       "1     -0.059245\n",
       "2      0.18685...</td>\n",
       "    </tr>\n",
       "    <tr>\n",
       "      <th>349</th>\n",
       "      <td>0      0.571725\n",
       "1      0.571725\n",
       "2     -0.22564...</td>\n",
       "      <td>0     -0.799545\n",
       "1     -0.799545\n",
       "2     -2.49661...</td>\n",
       "      <td>0     -0.799549\n",
       "1     -0.799549\n",
       "2     -2.72855...</td>\n",
       "      <td>0      0.793528\n",
       "1      0.793528\n",
       "2     -1.45869...</td>\n",
       "      <td>0      0.944124\n",
       "1      0.944124\n",
       "2      0.77217...</td>\n",
       "    </tr>\n",
       "  </tbody>\n",
       "</table>\n",
       "<p>350 rows × 5 columns</p>\n",
       "</div>"
      ],
      "text/plain": [
       "                                                     1  \\\n",
       "0    0      1.843714\n",
       "1      1.843714\n",
       "2      1.84371...   \n",
       "1    0      1.340723\n",
       "1      1.340723\n",
       "2      1.34072...   \n",
       "2    0     -2.252885\n",
       "1     -2.252885\n",
       "2     -1.34260...   \n",
       "3    0     -0.748380\n",
       "1     -0.748380\n",
       "2     -1.25784...   \n",
       "4    0     -3.373147\n",
       "1     -3.373147\n",
       "2     -3.37314...   \n",
       "..                                                 ...   \n",
       "345  0      0.650005\n",
       "1      0.589643\n",
       "2     -0.43650...   \n",
       "346  0      0.047154\n",
       "1      0.047154\n",
       "2      0.74614...   \n",
       "347  0     -0.843348\n",
       "1     -0.698360\n",
       "2     -0.37938...   \n",
       "348  0      2.245241\n",
       "1      0.922891\n",
       "2      1.58406...   \n",
       "349  0      0.571725\n",
       "1      0.571725\n",
       "2     -0.22564...   \n",
       "\n",
       "                                                     2  \\\n",
       "0    0      0.020904\n",
       "1     -0.762087\n",
       "2      0.02090...   \n",
       "1    0     -0.778554\n",
       "1     -0.778554\n",
       "2      0.82151...   \n",
       "2    0     -1.614002\n",
       "1     -1.614002\n",
       "2      0.47826...   \n",
       "3    0     -1.904063\n",
       "1     -1.904063\n",
       "2      0.13196...   \n",
       "4    0     -0.895066\n",
       "1     -0.895066\n",
       "2     -0.89506...   \n",
       "..                                                 ...   \n",
       "345  0      0.608622\n",
       "1      1.589685\n",
       "2      1.41131...   \n",
       "346  0     -0.057694\n",
       "1     -0.057694\n",
       "2     -0.05769...   \n",
       "347  0     -0.717568\n",
       "1     -0.668112\n",
       "2     -0.66811...   \n",
       "348  0     -0.732514\n",
       "1     -1.682273\n",
       "2     -1.43603...   \n",
       "349  0     -0.799545\n",
       "1     -0.799545\n",
       "2     -2.49661...   \n",
       "\n",
       "                                                     3  \\\n",
       "0    0      0.446028\n",
       "1     -0.156110\n",
       "2      0.29549...   \n",
       "1    0     -0.107189\n",
       "1     -0.107189\n",
       "2      1.97062...   \n",
       "2    0     -1.350322\n",
       "1     -1.350322\n",
       "2     -0.16170...   \n",
       "3    0     -1.310589\n",
       "1     -1.310589\n",
       "2      0.13027...   \n",
       "4    0     -0.623113\n",
       "1     -0.623113\n",
       "2     -0.62311...   \n",
       "..                                                 ...   \n",
       "345  0      3.279536\n",
       "1      3.279536\n",
       "2      1.58788...   \n",
       "346  0      0.213708\n",
       "1      0.213708\n",
       "2     -0.04931...   \n",
       "347  0     -0.930073\n",
       "1     -0.487014\n",
       "2     -0.55030...   \n",
       "348  0     -1.124194\n",
       "1     -2.176147\n",
       "2     -1.29952...   \n",
       "349  0     -0.799549\n",
       "1     -0.799549\n",
       "2     -2.72855...   \n",
       "\n",
       "                                                     4  \\\n",
       "0    0     -0.822719\n",
       "1     -1.669564\n",
       "2     -1.14842...   \n",
       "1    0     -0.903078\n",
       "1     -0.903078\n",
       "2     -0.10722...   \n",
       "2    0     -2.076497\n",
       "1     -2.076497\n",
       "2      0.34025...   \n",
       "3    0     -1.252654\n",
       "1     -1.252654\n",
       "2      0.98884...   \n",
       "4    0      1.385786\n",
       "1      1.385786\n",
       "2      1.38578...   \n",
       "..                                                 ...   \n",
       "345  0      0.691488\n",
       "1      0.691488\n",
       "2     -0.02521...   \n",
       "346  0     -0.447369\n",
       "1     -0.447369\n",
       "2     -0.13157...   \n",
       "347  0     -0.418345\n",
       "1     -0.586556\n",
       "2     -0.65384...   \n",
       "348  0      0.192826\n",
       "1     -2.343582\n",
       "2     -2.14333...   \n",
       "349  0      0.793528\n",
       "1      0.793528\n",
       "2     -1.45869...   \n",
       "\n",
       "                                                     5  \n",
       "0    0     -0.530559\n",
       "1      1.035739\n",
       "2     -0.00846...  \n",
       "1    0      1.674277\n",
       "1      1.674277\n",
       "2      1.67427...  \n",
       "2    0      0.328589\n",
       "1      0.328589\n",
       "2      0.32858...  \n",
       "3    0      0.638863\n",
       "1      0.638863\n",
       "2     -0.40025...  \n",
       "4    0     -1.695059\n",
       "1     -1.695059\n",
       "2     -1.69505...  \n",
       "..                                                 ...  \n",
       "345  0     -0.462499\n",
       "1      0.541519\n",
       "2     -0.46249...  \n",
       "346  0     -0.476827\n",
       "1     -0.476827\n",
       "2     -1.35618...  \n",
       "347  0     -2.073631\n",
       "1     -2.073631\n",
       "2     -2.07363...  \n",
       "348  0     -0.059245\n",
       "1     -0.059245\n",
       "2      0.18685...  \n",
       "349  0      0.944124\n",
       "1      0.944124\n",
       "2      0.77217...  \n",
       "\n",
       "[350 rows x 5 columns]"
      ]
     },
     "metadata": {},
     "output_type": "display_data"
    },
    {
     "data": {
      "text/plain": [
       "'Completed'"
      ]
     },
     "metadata": {},
     "output_type": "display_data"
    },
    {
     "data": {
      "text/plain": [
       "1"
      ]
     },
     "metadata": {},
     "output_type": "display_data"
    },
    {
     "data": {
      "text/plain": [
       "'Completed'"
      ]
     },
     "metadata": {},
     "output_type": "display_data"
    },
    {
     "data": {
      "text/plain": [
       "2"
      ]
     },
     "metadata": {},
     "output_type": "display_data"
    },
    {
     "data": {
      "text/plain": [
       "'Completed'"
      ]
     },
     "metadata": {},
     "output_type": "display_data"
    },
    {
     "data": {
      "text/plain": [
       "3"
      ]
     },
     "metadata": {},
     "output_type": "display_data"
    },
    {
     "data": {
      "text/plain": [
       "'Completed'"
      ]
     },
     "metadata": {},
     "output_type": "display_data"
    },
    {
     "data": {
      "text/plain": [
       "4"
      ]
     },
     "metadata": {},
     "output_type": "display_data"
    },
    {
     "data": {
      "text/plain": [
       "'Completed'"
      ]
     },
     "metadata": {},
     "output_type": "display_data"
    },
    {
     "data": {
      "text/plain": [
       "5"
      ]
     },
     "metadata": {},
     "output_type": "display_data"
    },
    {
     "data": {
      "text/plain": [
       "'Completed'"
      ]
     },
     "metadata": {},
     "output_type": "display_data"
    },
    {
     "data": {
      "text/plain": [
       "6"
      ]
     },
     "metadata": {},
     "output_type": "display_data"
    },
    {
     "data": {
      "text/plain": [
       "'Completed'"
      ]
     },
     "metadata": {},
     "output_type": "display_data"
    },
    {
     "data": {
      "text/plain": [
       "7"
      ]
     },
     "metadata": {},
     "output_type": "display_data"
    },
    {
     "data": {
      "text/plain": [
       "'Completed'"
      ]
     },
     "metadata": {},
     "output_type": "display_data"
    },
    {
     "data": {
      "text/plain": [
       "8"
      ]
     },
     "metadata": {},
     "output_type": "display_data"
    },
    {
     "data": {
      "text/plain": [
       "'Completed'"
      ]
     },
     "metadata": {},
     "output_type": "display_data"
    },
    {
     "data": {
      "text/plain": [
       "9"
      ]
     },
     "metadata": {},
     "output_type": "display_data"
    },
    {
     "data": {
      "text/plain": [
       "'Completed'"
      ]
     },
     "metadata": {},
     "output_type": "display_data"
    },
    {
     "data": {
      "text/plain": [
       "10"
      ]
     },
     "metadata": {},
     "output_type": "display_data"
    },
    {
     "data": {
      "text/plain": [
       "'Completed'"
      ]
     },
     "metadata": {},
     "output_type": "display_data"
    },
    {
     "data": {
      "text/plain": [
       "11"
      ]
     },
     "metadata": {},
     "output_type": "display_data"
    },
    {
     "data": {
      "text/plain": [
       "'Completed'"
      ]
     },
     "metadata": {},
     "output_type": "display_data"
    },
    {
     "data": {
      "text/plain": [
       "12"
      ]
     },
     "metadata": {},
     "output_type": "display_data"
    },
    {
     "data": {
      "text/plain": [
       "'Completed'"
      ]
     },
     "metadata": {},
     "output_type": "display_data"
    },
    {
     "data": {
      "text/plain": [
       "13"
      ]
     },
     "metadata": {},
     "output_type": "display_data"
    },
    {
     "data": {
      "text/plain": [
       "'Completed'"
      ]
     },
     "metadata": {},
     "output_type": "display_data"
    },
    {
     "data": {
      "text/plain": [
       "14"
      ]
     },
     "metadata": {},
     "output_type": "display_data"
    },
    {
     "data": {
      "text/plain": [
       "'Completed'"
      ]
     },
     "metadata": {},
     "output_type": "display_data"
    },
    {
     "data": {
      "text/plain": [
       "15"
      ]
     },
     "metadata": {},
     "output_type": "display_data"
    },
    {
     "data": {
      "text/plain": [
       "'Completed'"
      ]
     },
     "metadata": {},
     "output_type": "display_data"
    },
    {
     "data": {
      "text/plain": [
       "16"
      ]
     },
     "metadata": {},
     "output_type": "display_data"
    },
    {
     "data": {
      "text/plain": [
       "'Completed'"
      ]
     },
     "metadata": {},
     "output_type": "display_data"
    },
    {
     "data": {
      "text/plain": [
       "17"
      ]
     },
     "metadata": {},
     "output_type": "display_data"
    },
    {
     "data": {
      "text/plain": [
       "'Completed'"
      ]
     },
     "metadata": {},
     "output_type": "display_data"
    },
    {
     "data": {
      "text/plain": [
       "18"
      ]
     },
     "metadata": {},
     "output_type": "display_data"
    },
    {
     "data": {
      "text/plain": [
       "'Completed'"
      ]
     },
     "metadata": {},
     "output_type": "display_data"
    },
    {
     "data": {
      "text/plain": [
       "19"
      ]
     },
     "metadata": {},
     "output_type": "display_data"
    },
    {
     "data": {
      "text/plain": [
       "'Completed'"
      ]
     },
     "metadata": {},
     "output_type": "display_data"
    },
    {
     "data": {
      "text/plain": [
       "20"
      ]
     },
     "metadata": {},
     "output_type": "display_data"
    },
    {
     "data": {
      "text/plain": [
       "'Completed'"
      ]
     },
     "metadata": {},
     "output_type": "display_data"
    },
    {
     "data": {
      "text/plain": [
       "21"
      ]
     },
     "metadata": {},
     "output_type": "display_data"
    },
    {
     "data": {
      "text/plain": [
       "'Completed'"
      ]
     },
     "metadata": {},
     "output_type": "display_data"
    },
    {
     "data": {
      "text/plain": [
       "22"
      ]
     },
     "metadata": {},
     "output_type": "display_data"
    },
    {
     "data": {
      "text/plain": [
       "'Completed'"
      ]
     },
     "metadata": {},
     "output_type": "display_data"
    },
    {
     "data": {
      "text/plain": [
       "23"
      ]
     },
     "metadata": {},
     "output_type": "display_data"
    },
    {
     "data": {
      "text/plain": [
       "'Completed'"
      ]
     },
     "metadata": {},
     "output_type": "display_data"
    },
    {
     "data": {
      "text/plain": [
       "24"
      ]
     },
     "metadata": {},
     "output_type": "display_data"
    },
    {
     "data": {
      "text/plain": [
       "'Completed'"
      ]
     },
     "metadata": {},
     "output_type": "display_data"
    },
    {
     "data": {
      "text/plain": [
       "25"
      ]
     },
     "metadata": {},
     "output_type": "display_data"
    },
    {
     "data": {
      "text/plain": [
       "'Completed'"
      ]
     },
     "metadata": {},
     "output_type": "display_data"
    },
    {
     "data": {
      "text/plain": [
       "26"
      ]
     },
     "metadata": {},
     "output_type": "display_data"
    },
    {
     "data": {
      "text/plain": [
       "'Completed'"
      ]
     },
     "metadata": {},
     "output_type": "display_data"
    },
    {
     "data": {
      "text/plain": [
       "27"
      ]
     },
     "metadata": {},
     "output_type": "display_data"
    },
    {
     "data": {
      "text/plain": [
       "'Completed'"
      ]
     },
     "metadata": {},
     "output_type": "display_data"
    },
    {
     "data": {
      "text/plain": [
       "28"
      ]
     },
     "metadata": {},
     "output_type": "display_data"
    },
    {
     "data": {
      "text/plain": [
       "'Completed'"
      ]
     },
     "metadata": {},
     "output_type": "display_data"
    },
    {
     "data": {
      "text/plain": [
       "29"
      ]
     },
     "metadata": {},
     "output_type": "display_data"
    },
    {
     "data": {
      "text/plain": [
       "'Completed'"
      ]
     },
     "metadata": {},
     "output_type": "display_data"
    },
    {
     "data": {
      "text/plain": [
       "30"
      ]
     },
     "metadata": {},
     "output_type": "display_data"
    },
    {
     "data": {
      "text/plain": [
       "'Current key in progress'"
      ]
     },
     "metadata": {},
     "output_type": "display_data"
    },
    {
     "data": {
      "text/plain": [
       "'sample_numbers_list_2.3_to_2.4'"
      ]
     },
     "metadata": {},
     "output_type": "display_data"
    },
    {
     "data": {
      "text/plain": [
       "491"
      ]
     },
     "metadata": {},
     "output_type": "display_data"
    },
    {
     "data": {
      "text/html": [
       "<div>\n",
       "<style scoped>\n",
       "    .dataframe tbody tr th:only-of-type {\n",
       "        vertical-align: middle;\n",
       "    }\n",
       "\n",
       "    .dataframe tbody tr th {\n",
       "        vertical-align: top;\n",
       "    }\n",
       "\n",
       "    .dataframe thead th {\n",
       "        text-align: right;\n",
       "    }\n",
       "</style>\n",
       "<table border=\"1\" class=\"dataframe\">\n",
       "  <thead>\n",
       "    <tr style=\"text-align: right;\">\n",
       "      <th></th>\n",
       "      <th>Subject</th>\n",
       "      <th>HR</th>\n",
       "      <th>MAP</th>\n",
       "      <th>DBP</th>\n",
       "      <th>SBP</th>\n",
       "      <th>Resp</th>\n",
       "    </tr>\n",
       "  </thead>\n",
       "  <tbody>\n",
       "    <tr>\n",
       "      <th>0</th>\n",
       "      <td>11</td>\n",
       "      <td>90.0</td>\n",
       "      <td>70.0</td>\n",
       "      <td>53.0</td>\n",
       "      <td>111.0</td>\n",
       "      <td>24.0</td>\n",
       "    </tr>\n",
       "    <tr>\n",
       "      <th>1</th>\n",
       "      <td>11</td>\n",
       "      <td>90.0</td>\n",
       "      <td>70.0</td>\n",
       "      <td>53.0</td>\n",
       "      <td>111.0</td>\n",
       "      <td>24.0</td>\n",
       "    </tr>\n",
       "    <tr>\n",
       "      <th>2</th>\n",
       "      <td>11</td>\n",
       "      <td>90.0</td>\n",
       "      <td>80.0</td>\n",
       "      <td>60.0</td>\n",
       "      <td>121.0</td>\n",
       "      <td>24.0</td>\n",
       "    </tr>\n",
       "    <tr>\n",
       "      <th>3</th>\n",
       "      <td>11</td>\n",
       "      <td>81.0</td>\n",
       "      <td>67.0</td>\n",
       "      <td>52.0</td>\n",
       "      <td>99.0</td>\n",
       "      <td>12.0</td>\n",
       "    </tr>\n",
       "    <tr>\n",
       "      <th>4</th>\n",
       "      <td>11</td>\n",
       "      <td>83.0</td>\n",
       "      <td>66.0</td>\n",
       "      <td>51.0</td>\n",
       "      <td>99.0</td>\n",
       "      <td>14.0</td>\n",
       "    </tr>\n",
       "    <tr>\n",
       "      <th>...</th>\n",
       "      <td>...</td>\n",
       "      <td>...</td>\n",
       "      <td>...</td>\n",
       "      <td>...</td>\n",
       "      <td>...</td>\n",
       "      <td>...</td>\n",
       "    </tr>\n",
       "    <tr>\n",
       "      <th>52</th>\n",
       "      <td>506</td>\n",
       "      <td>104.0</td>\n",
       "      <td>89.0</td>\n",
       "      <td>69.0</td>\n",
       "      <td>136.0</td>\n",
       "      <td>28.0</td>\n",
       "    </tr>\n",
       "    <tr>\n",
       "      <th>53</th>\n",
       "      <td>506</td>\n",
       "      <td>100.0</td>\n",
       "      <td>83.0</td>\n",
       "      <td>65.0</td>\n",
       "      <td>121.0</td>\n",
       "      <td>19.0</td>\n",
       "    </tr>\n",
       "    <tr>\n",
       "      <th>54</th>\n",
       "      <td>506</td>\n",
       "      <td>91.0</td>\n",
       "      <td>74.0</td>\n",
       "      <td>59.0</td>\n",
       "      <td>102.0</td>\n",
       "      <td>14.0</td>\n",
       "    </tr>\n",
       "    <tr>\n",
       "      <th>55</th>\n",
       "      <td>506</td>\n",
       "      <td>90.0</td>\n",
       "      <td>66.0</td>\n",
       "      <td>61.0</td>\n",
       "      <td>101.0</td>\n",
       "      <td>16.0</td>\n",
       "    </tr>\n",
       "    <tr>\n",
       "      <th>56</th>\n",
       "      <td>506</td>\n",
       "      <td>90.0</td>\n",
       "      <td>72.0</td>\n",
       "      <td>56.0</td>\n",
       "      <td>101.0</td>\n",
       "      <td>20.0</td>\n",
       "    </tr>\n",
       "  </tbody>\n",
       "</table>\n",
       "<p>9426 rows × 6 columns</p>\n",
       "</div>"
      ],
      "text/plain": [
       "    Subject     HR   MAP   DBP    SBP  Resp\n",
       "0        11   90.0  70.0  53.0  111.0  24.0\n",
       "1        11   90.0  70.0  53.0  111.0  24.0\n",
       "2        11   90.0  80.0  60.0  121.0  24.0\n",
       "3        11   81.0  67.0  52.0   99.0  12.0\n",
       "4        11   83.0  66.0  51.0   99.0  14.0\n",
       "..      ...    ...   ...   ...    ...   ...\n",
       "52      506  104.0  89.0  69.0  136.0  28.0\n",
       "53      506  100.0  83.0  65.0  121.0  19.0\n",
       "54      506   91.0  74.0  59.0  102.0  14.0\n",
       "55      506   90.0  66.0  61.0  101.0  16.0\n",
       "56      506   90.0  72.0  56.0  101.0  20.0\n",
       "\n",
       "[9426 rows x 6 columns]"
      ]
     },
     "metadata": {},
     "output_type": "display_data"
    },
    {
     "data": {
      "text/plain": [
       "'Avg length:'"
      ]
     },
     "metadata": {},
     "output_type": "display_data"
    },
    {
     "data": {
      "text/plain": [
       "108.59428571428572"
      ]
     },
     "metadata": {},
     "output_type": "display_data"
    },
    {
     "data": {
      "text/plain": [
       "6"
      ]
     },
     "metadata": {},
     "output_type": "display_data"
    },
    {
     "data": {
      "text/plain": [
       "'X_1:'"
      ]
     },
     "metadata": {},
     "output_type": "display_data"
    },
    {
     "data": {
      "text/html": [
       "<div>\n",
       "<style scoped>\n",
       "    .dataframe tbody tr th:only-of-type {\n",
       "        vertical-align: middle;\n",
       "    }\n",
       "\n",
       "    .dataframe tbody tr th {\n",
       "        vertical-align: top;\n",
       "    }\n",
       "\n",
       "    .dataframe thead th {\n",
       "        text-align: right;\n",
       "    }\n",
       "</style>\n",
       "<table border=\"1\" class=\"dataframe\">\n",
       "  <thead>\n",
       "    <tr style=\"text-align: right;\">\n",
       "      <th></th>\n",
       "      <th>1</th>\n",
       "      <th>2</th>\n",
       "      <th>3</th>\n",
       "      <th>4</th>\n",
       "      <th>5</th>\n",
       "    </tr>\n",
       "  </thead>\n",
       "  <tbody>\n",
       "    <tr>\n",
       "      <th>0</th>\n",
       "      <td>0      1.340723\n",
       "1      1.340723\n",
       "2      1.34072...</td>\n",
       "      <td>0     -0.778554\n",
       "1     -0.778554\n",
       "2      0.82151...</td>\n",
       "      <td>0     -0.107189\n",
       "1     -0.107189\n",
       "2      1.97062...</td>\n",
       "      <td>0     -0.903078\n",
       "1     -0.903078\n",
       "2     -0.10722...</td>\n",
       "      <td>0      1.674277\n",
       "1      1.674277\n",
       "2      1.67427...</td>\n",
       "    </tr>\n",
       "    <tr>\n",
       "      <th>1</th>\n",
       "      <td>0     -0.748380\n",
       "1     -0.748380\n",
       "2     -1.25784...</td>\n",
       "      <td>0     -1.904063\n",
       "1     -1.904063\n",
       "2      0.13196...</td>\n",
       "      <td>0     -1.310589\n",
       "1     -1.310589\n",
       "2      0.13027...</td>\n",
       "      <td>0     -1.252654\n",
       "1     -1.252654\n",
       "2      0.98884...</td>\n",
       "      <td>0      0.638863\n",
       "1      0.638863\n",
       "2     -0.40025...</td>\n",
       "    </tr>\n",
       "    <tr>\n",
       "      <th>2</th>\n",
       "      <td>0     -1.129663\n",
       "1     -1.129663\n",
       "2     -1.50219...</td>\n",
       "      <td>0     -2.085958\n",
       "1     -2.085958\n",
       "2     -2.48453...</td>\n",
       "      <td>0     -2.047608\n",
       "1     -2.047608\n",
       "2     -2.53958...</td>\n",
       "      <td>0     -0.139525\n",
       "1     -0.139525\n",
       "2     -0.42746...</td>\n",
       "      <td>0     -2.240410\n",
       "1     -2.240410\n",
       "2     -0.95165...</td>\n",
       "    </tr>\n",
       "    <tr>\n",
       "      <th>3</th>\n",
       "      <td>0     -0.459793\n",
       "1     -0.357141\n",
       "2     -0.53678...</td>\n",
       "      <td>0      0.002752\n",
       "1      0.537660\n",
       "2      0.59709...</td>\n",
       "      <td>0      0.639073\n",
       "1      0.639073\n",
       "2      0.79330...</td>\n",
       "      <td>0     -0.650055\n",
       "1     -0.308420\n",
       "2      0.03321...</td>\n",
       "      <td>0      0.143012\n",
       "1      0.675609\n",
       "2      0.94190...</td>\n",
       "    </tr>\n",
       "    <tr>\n",
       "      <th>4</th>\n",
       "      <td>0      0.362196\n",
       "1      0.362196\n",
       "2      0.61620...</td>\n",
       "      <td>0     -0.655066\n",
       "1     -0.655066\n",
       "2     -0.18007...</td>\n",
       "      <td>0     -0.340537\n",
       "1     -0.340537\n",
       "2     -0.00389...</td>\n",
       "      <td>0     -0.970170\n",
       "1     -0.970170\n",
       "2      0.12910...</td>\n",
       "      <td>0     -0.491569\n",
       "1     -0.491569\n",
       "2     -0.17366...</td>\n",
       "    </tr>\n",
       "    <tr>\n",
       "      <th>...</th>\n",
       "      <td>...</td>\n",
       "      <td>...</td>\n",
       "      <td>...</td>\n",
       "      <td>...</td>\n",
       "      <td>...</td>\n",
       "    </tr>\n",
       "    <tr>\n",
       "      <th>345</th>\n",
       "      <td>0      0.650005\n",
       "1      0.589643\n",
       "2     -0.43650...</td>\n",
       "      <td>0      0.608622\n",
       "1      1.589685\n",
       "2      1.41131...</td>\n",
       "      <td>0      3.279536\n",
       "1      3.279536\n",
       "2      1.58788...</td>\n",
       "      <td>0      0.691488\n",
       "1      0.691488\n",
       "2     -0.02521...</td>\n",
       "      <td>0     -0.462499\n",
       "1      0.541519\n",
       "2     -0.46249...</td>\n",
       "    </tr>\n",
       "    <tr>\n",
       "      <th>346</th>\n",
       "      <td>0      0.047154\n",
       "1      0.047154\n",
       "2      0.74614...</td>\n",
       "      <td>0     -0.057694\n",
       "1     -0.057694\n",
       "2     -0.05769...</td>\n",
       "      <td>0      0.213708\n",
       "1      0.213708\n",
       "2     -0.04931...</td>\n",
       "      <td>0     -0.447369\n",
       "1     -0.447369\n",
       "2     -0.13157...</td>\n",
       "      <td>0     -0.476827\n",
       "1     -0.476827\n",
       "2     -1.35618...</td>\n",
       "    </tr>\n",
       "    <tr>\n",
       "      <th>347</th>\n",
       "      <td>0     -0.843348\n",
       "1     -0.698360\n",
       "2     -0.37938...</td>\n",
       "      <td>0     -0.717568\n",
       "1     -0.668112\n",
       "2     -0.66811...</td>\n",
       "      <td>0     -0.930073\n",
       "1     -0.487014\n",
       "2     -0.55030...</td>\n",
       "      <td>0     -0.418345\n",
       "1     -0.586556\n",
       "2     -0.65384...</td>\n",
       "      <td>0     -2.073631\n",
       "1     -2.073631\n",
       "2     -2.07363...</td>\n",
       "    </tr>\n",
       "    <tr>\n",
       "      <th>348</th>\n",
       "      <td>0      2.245241\n",
       "1      0.922891\n",
       "2      1.58406...</td>\n",
       "      <td>0     -0.732514\n",
       "1     -1.682273\n",
       "2     -1.43603...</td>\n",
       "      <td>0     -1.124194\n",
       "1     -2.176147\n",
       "2     -1.29952...</td>\n",
       "      <td>0      0.192826\n",
       "1     -2.343582\n",
       "2     -2.14333...</td>\n",
       "      <td>0     -0.059245\n",
       "1     -0.059245\n",
       "2      0.18685...</td>\n",
       "    </tr>\n",
       "    <tr>\n",
       "      <th>349</th>\n",
       "      <td>0      0.571725\n",
       "1      0.571725\n",
       "2     -0.22564...</td>\n",
       "      <td>0     -0.799545\n",
       "1     -0.799545\n",
       "2     -2.49661...</td>\n",
       "      <td>0     -0.799549\n",
       "1     -0.799549\n",
       "2     -2.72855...</td>\n",
       "      <td>0      0.793528\n",
       "1      0.793528\n",
       "2     -1.45869...</td>\n",
       "      <td>0      0.944124\n",
       "1      0.944124\n",
       "2      0.77217...</td>\n",
       "    </tr>\n",
       "  </tbody>\n",
       "</table>\n",
       "<p>350 rows × 5 columns</p>\n",
       "</div>"
      ],
      "text/plain": [
       "                                                     1  \\\n",
       "0    0      1.340723\n",
       "1      1.340723\n",
       "2      1.34072...   \n",
       "1    0     -0.748380\n",
       "1     -0.748380\n",
       "2     -1.25784...   \n",
       "2    0     -1.129663\n",
       "1     -1.129663\n",
       "2     -1.50219...   \n",
       "3    0     -0.459793\n",
       "1     -0.357141\n",
       "2     -0.53678...   \n",
       "4    0      0.362196\n",
       "1      0.362196\n",
       "2      0.61620...   \n",
       "..                                                 ...   \n",
       "345  0      0.650005\n",
       "1      0.589643\n",
       "2     -0.43650...   \n",
       "346  0      0.047154\n",
       "1      0.047154\n",
       "2      0.74614...   \n",
       "347  0     -0.843348\n",
       "1     -0.698360\n",
       "2     -0.37938...   \n",
       "348  0      2.245241\n",
       "1      0.922891\n",
       "2      1.58406...   \n",
       "349  0      0.571725\n",
       "1      0.571725\n",
       "2     -0.22564...   \n",
       "\n",
       "                                                     2  \\\n",
       "0    0     -0.778554\n",
       "1     -0.778554\n",
       "2      0.82151...   \n",
       "1    0     -1.904063\n",
       "1     -1.904063\n",
       "2      0.13196...   \n",
       "2    0     -2.085958\n",
       "1     -2.085958\n",
       "2     -2.48453...   \n",
       "3    0      0.002752\n",
       "1      0.537660\n",
       "2      0.59709...   \n",
       "4    0     -0.655066\n",
       "1     -0.655066\n",
       "2     -0.18007...   \n",
       "..                                                 ...   \n",
       "345  0      0.608622\n",
       "1      1.589685\n",
       "2      1.41131...   \n",
       "346  0     -0.057694\n",
       "1     -0.057694\n",
       "2     -0.05769...   \n",
       "347  0     -0.717568\n",
       "1     -0.668112\n",
       "2     -0.66811...   \n",
       "348  0     -0.732514\n",
       "1     -1.682273\n",
       "2     -1.43603...   \n",
       "349  0     -0.799545\n",
       "1     -0.799545\n",
       "2     -2.49661...   \n",
       "\n",
       "                                                     3  \\\n",
       "0    0     -0.107189\n",
       "1     -0.107189\n",
       "2      1.97062...   \n",
       "1    0     -1.310589\n",
       "1     -1.310589\n",
       "2      0.13027...   \n",
       "2    0     -2.047608\n",
       "1     -2.047608\n",
       "2     -2.53958...   \n",
       "3    0      0.639073\n",
       "1      0.639073\n",
       "2      0.79330...   \n",
       "4    0     -0.340537\n",
       "1     -0.340537\n",
       "2     -0.00389...   \n",
       "..                                                 ...   \n",
       "345  0      3.279536\n",
       "1      3.279536\n",
       "2      1.58788...   \n",
       "346  0      0.213708\n",
       "1      0.213708\n",
       "2     -0.04931...   \n",
       "347  0     -0.930073\n",
       "1     -0.487014\n",
       "2     -0.55030...   \n",
       "348  0     -1.124194\n",
       "1     -2.176147\n",
       "2     -1.29952...   \n",
       "349  0     -0.799549\n",
       "1     -0.799549\n",
       "2     -2.72855...   \n",
       "\n",
       "                                                     4  \\\n",
       "0    0     -0.903078\n",
       "1     -0.903078\n",
       "2     -0.10722...   \n",
       "1    0     -1.252654\n",
       "1     -1.252654\n",
       "2      0.98884...   \n",
       "2    0     -0.139525\n",
       "1     -0.139525\n",
       "2     -0.42746...   \n",
       "3    0     -0.650055\n",
       "1     -0.308420\n",
       "2      0.03321...   \n",
       "4    0     -0.970170\n",
       "1     -0.970170\n",
       "2      0.12910...   \n",
       "..                                                 ...   \n",
       "345  0      0.691488\n",
       "1      0.691488\n",
       "2     -0.02521...   \n",
       "346  0     -0.447369\n",
       "1     -0.447369\n",
       "2     -0.13157...   \n",
       "347  0     -0.418345\n",
       "1     -0.586556\n",
       "2     -0.65384...   \n",
       "348  0      0.192826\n",
       "1     -2.343582\n",
       "2     -2.14333...   \n",
       "349  0      0.793528\n",
       "1      0.793528\n",
       "2     -1.45869...   \n",
       "\n",
       "                                                     5  \n",
       "0    0      1.674277\n",
       "1      1.674277\n",
       "2      1.67427...  \n",
       "1    0      0.638863\n",
       "1      0.638863\n",
       "2     -0.40025...  \n",
       "2    0     -2.240410\n",
       "1     -2.240410\n",
       "2     -0.95165...  \n",
       "3    0      0.143012\n",
       "1      0.675609\n",
       "2      0.94190...  \n",
       "4    0     -0.491569\n",
       "1     -0.491569\n",
       "2     -0.17366...  \n",
       "..                                                 ...  \n",
       "345  0     -0.462499\n",
       "1      0.541519\n",
       "2     -0.46249...  \n",
       "346  0     -0.476827\n",
       "1     -0.476827\n",
       "2     -1.35618...  \n",
       "347  0     -2.073631\n",
       "1     -2.073631\n",
       "2     -2.07363...  \n",
       "348  0     -0.059245\n",
       "1     -0.059245\n",
       "2      0.18685...  \n",
       "349  0      0.944124\n",
       "1      0.944124\n",
       "2      0.77217...  \n",
       "\n",
       "[350 rows x 5 columns]"
      ]
     },
     "metadata": {},
     "output_type": "display_data"
    },
    {
     "data": {
      "text/plain": [
       "'Completed'"
      ]
     },
     "metadata": {},
     "output_type": "display_data"
    },
    {
     "data": {
      "text/plain": [
       "1"
      ]
     },
     "metadata": {},
     "output_type": "display_data"
    },
    {
     "data": {
      "text/plain": [
       "'Completed'"
      ]
     },
     "metadata": {},
     "output_type": "display_data"
    },
    {
     "data": {
      "text/plain": [
       "2"
      ]
     },
     "metadata": {},
     "output_type": "display_data"
    },
    {
     "data": {
      "text/plain": [
       "'Completed'"
      ]
     },
     "metadata": {},
     "output_type": "display_data"
    },
    {
     "data": {
      "text/plain": [
       "3"
      ]
     },
     "metadata": {},
     "output_type": "display_data"
    },
    {
     "data": {
      "text/plain": [
       "'Completed'"
      ]
     },
     "metadata": {},
     "output_type": "display_data"
    },
    {
     "data": {
      "text/plain": [
       "4"
      ]
     },
     "metadata": {},
     "output_type": "display_data"
    },
    {
     "data": {
      "text/plain": [
       "'Completed'"
      ]
     },
     "metadata": {},
     "output_type": "display_data"
    },
    {
     "data": {
      "text/plain": [
       "5"
      ]
     },
     "metadata": {},
     "output_type": "display_data"
    },
    {
     "data": {
      "text/plain": [
       "'Completed'"
      ]
     },
     "metadata": {},
     "output_type": "display_data"
    },
    {
     "data": {
      "text/plain": [
       "6"
      ]
     },
     "metadata": {},
     "output_type": "display_data"
    },
    {
     "data": {
      "text/plain": [
       "'Completed'"
      ]
     },
     "metadata": {},
     "output_type": "display_data"
    },
    {
     "data": {
      "text/plain": [
       "7"
      ]
     },
     "metadata": {},
     "output_type": "display_data"
    },
    {
     "data": {
      "text/plain": [
       "'Completed'"
      ]
     },
     "metadata": {},
     "output_type": "display_data"
    },
    {
     "data": {
      "text/plain": [
       "8"
      ]
     },
     "metadata": {},
     "output_type": "display_data"
    },
    {
     "data": {
      "text/plain": [
       "'Completed'"
      ]
     },
     "metadata": {},
     "output_type": "display_data"
    },
    {
     "data": {
      "text/plain": [
       "9"
      ]
     },
     "metadata": {},
     "output_type": "display_data"
    },
    {
     "data": {
      "text/plain": [
       "'Completed'"
      ]
     },
     "metadata": {},
     "output_type": "display_data"
    },
    {
     "data": {
      "text/plain": [
       "10"
      ]
     },
     "metadata": {},
     "output_type": "display_data"
    },
    {
     "data": {
      "text/plain": [
       "'Completed'"
      ]
     },
     "metadata": {},
     "output_type": "display_data"
    },
    {
     "data": {
      "text/plain": [
       "11"
      ]
     },
     "metadata": {},
     "output_type": "display_data"
    },
    {
     "data": {
      "text/plain": [
       "'Completed'"
      ]
     },
     "metadata": {},
     "output_type": "display_data"
    },
    {
     "data": {
      "text/plain": [
       "12"
      ]
     },
     "metadata": {},
     "output_type": "display_data"
    },
    {
     "data": {
      "text/plain": [
       "'Completed'"
      ]
     },
     "metadata": {},
     "output_type": "display_data"
    },
    {
     "data": {
      "text/plain": [
       "13"
      ]
     },
     "metadata": {},
     "output_type": "display_data"
    },
    {
     "data": {
      "text/plain": [
       "'Completed'"
      ]
     },
     "metadata": {},
     "output_type": "display_data"
    },
    {
     "data": {
      "text/plain": [
       "14"
      ]
     },
     "metadata": {},
     "output_type": "display_data"
    },
    {
     "data": {
      "text/plain": [
       "'Completed'"
      ]
     },
     "metadata": {},
     "output_type": "display_data"
    },
    {
     "data": {
      "text/plain": [
       "15"
      ]
     },
     "metadata": {},
     "output_type": "display_data"
    },
    {
     "data": {
      "text/plain": [
       "'Completed'"
      ]
     },
     "metadata": {},
     "output_type": "display_data"
    },
    {
     "data": {
      "text/plain": [
       "16"
      ]
     },
     "metadata": {},
     "output_type": "display_data"
    },
    {
     "data": {
      "text/plain": [
       "'Completed'"
      ]
     },
     "metadata": {},
     "output_type": "display_data"
    },
    {
     "data": {
      "text/plain": [
       "17"
      ]
     },
     "metadata": {},
     "output_type": "display_data"
    },
    {
     "data": {
      "text/plain": [
       "'Completed'"
      ]
     },
     "metadata": {},
     "output_type": "display_data"
    },
    {
     "data": {
      "text/plain": [
       "18"
      ]
     },
     "metadata": {},
     "output_type": "display_data"
    },
    {
     "data": {
      "text/plain": [
       "'Completed'"
      ]
     },
     "metadata": {},
     "output_type": "display_data"
    },
    {
     "data": {
      "text/plain": [
       "19"
      ]
     },
     "metadata": {},
     "output_type": "display_data"
    },
    {
     "data": {
      "text/plain": [
       "'Completed'"
      ]
     },
     "metadata": {},
     "output_type": "display_data"
    },
    {
     "data": {
      "text/plain": [
       "20"
      ]
     },
     "metadata": {},
     "output_type": "display_data"
    },
    {
     "data": {
      "text/plain": [
       "'Completed'"
      ]
     },
     "metadata": {},
     "output_type": "display_data"
    },
    {
     "data": {
      "text/plain": [
       "21"
      ]
     },
     "metadata": {},
     "output_type": "display_data"
    },
    {
     "data": {
      "text/plain": [
       "'Completed'"
      ]
     },
     "metadata": {},
     "output_type": "display_data"
    },
    {
     "data": {
      "text/plain": [
       "22"
      ]
     },
     "metadata": {},
     "output_type": "display_data"
    },
    {
     "data": {
      "text/plain": [
       "'Completed'"
      ]
     },
     "metadata": {},
     "output_type": "display_data"
    },
    {
     "data": {
      "text/plain": [
       "23"
      ]
     },
     "metadata": {},
     "output_type": "display_data"
    },
    {
     "data": {
      "text/plain": [
       "'Completed'"
      ]
     },
     "metadata": {},
     "output_type": "display_data"
    },
    {
     "data": {
      "text/plain": [
       "24"
      ]
     },
     "metadata": {},
     "output_type": "display_data"
    },
    {
     "data": {
      "text/plain": [
       "'Completed'"
      ]
     },
     "metadata": {},
     "output_type": "display_data"
    },
    {
     "data": {
      "text/plain": [
       "25"
      ]
     },
     "metadata": {},
     "output_type": "display_data"
    },
    {
     "data": {
      "text/plain": [
       "'Completed'"
      ]
     },
     "metadata": {},
     "output_type": "display_data"
    },
    {
     "data": {
      "text/plain": [
       "26"
      ]
     },
     "metadata": {},
     "output_type": "display_data"
    },
    {
     "data": {
      "text/plain": [
       "'Completed'"
      ]
     },
     "metadata": {},
     "output_type": "display_data"
    },
    {
     "data": {
      "text/plain": [
       "27"
      ]
     },
     "metadata": {},
     "output_type": "display_data"
    },
    {
     "data": {
      "text/plain": [
       "'Completed'"
      ]
     },
     "metadata": {},
     "output_type": "display_data"
    },
    {
     "data": {
      "text/plain": [
       "28"
      ]
     },
     "metadata": {},
     "output_type": "display_data"
    },
    {
     "data": {
      "text/plain": [
       "'Completed'"
      ]
     },
     "metadata": {},
     "output_type": "display_data"
    },
    {
     "data": {
      "text/plain": [
       "29"
      ]
     },
     "metadata": {},
     "output_type": "display_data"
    },
    {
     "data": {
      "text/plain": [
       "'Completed'"
      ]
     },
     "metadata": {},
     "output_type": "display_data"
    },
    {
     "data": {
      "text/plain": [
       "30"
      ]
     },
     "metadata": {},
     "output_type": "display_data"
    },
    {
     "data": {
      "text/plain": [
       "'Current key in progress'"
      ]
     },
     "metadata": {},
     "output_type": "display_data"
    },
    {
     "data": {
      "text/plain": [
       "'sample_numbers_list_2.4_to_2.5'"
      ]
     },
     "metadata": {},
     "output_type": "display_data"
    },
    {
     "data": {
      "text/plain": [
       "498"
      ]
     },
     "metadata": {},
     "output_type": "display_data"
    },
    {
     "data": {
      "text/html": [
       "<div>\n",
       "<style scoped>\n",
       "    .dataframe tbody tr th:only-of-type {\n",
       "        vertical-align: middle;\n",
       "    }\n",
       "\n",
       "    .dataframe tbody tr th {\n",
       "        vertical-align: top;\n",
       "    }\n",
       "\n",
       "    .dataframe thead th {\n",
       "        text-align: right;\n",
       "    }\n",
       "</style>\n",
       "<table border=\"1\" class=\"dataframe\">\n",
       "  <thead>\n",
       "    <tr style=\"text-align: right;\">\n",
       "      <th></th>\n",
       "      <th>Subject</th>\n",
       "      <th>HR</th>\n",
       "      <th>MAP</th>\n",
       "      <th>DBP</th>\n",
       "      <th>SBP</th>\n",
       "      <th>Resp</th>\n",
       "    </tr>\n",
       "  </thead>\n",
       "  <tbody>\n",
       "    <tr>\n",
       "      <th>0</th>\n",
       "      <td>2</td>\n",
       "      <td>87.0</td>\n",
       "      <td>78.5</td>\n",
       "      <td>55.5</td>\n",
       "      <td>109.5</td>\n",
       "      <td>18.5</td>\n",
       "    </tr>\n",
       "    <tr>\n",
       "      <th>1</th>\n",
       "      <td>2</td>\n",
       "      <td>84.0</td>\n",
       "      <td>70.5</td>\n",
       "      <td>54.5</td>\n",
       "      <td>101.0</td>\n",
       "      <td>18.0</td>\n",
       "    </tr>\n",
       "    <tr>\n",
       "      <th>2</th>\n",
       "      <td>2</td>\n",
       "      <td>84.0</td>\n",
       "      <td>86.0</td>\n",
       "      <td>73.0</td>\n",
       "      <td>106.0</td>\n",
       "      <td>13.0</td>\n",
       "    </tr>\n",
       "    <tr>\n",
       "      <th>3</th>\n",
       "      <td>2</td>\n",
       "      <td>87.5</td>\n",
       "      <td>89.0</td>\n",
       "      <td>78.0</td>\n",
       "      <td>125.5</td>\n",
       "      <td>16.0</td>\n",
       "    </tr>\n",
       "    <tr>\n",
       "      <th>4</th>\n",
       "      <td>2</td>\n",
       "      <td>84.0</td>\n",
       "      <td>90.0</td>\n",
       "      <td>69.0</td>\n",
       "      <td>134.5</td>\n",
       "      <td>14.0</td>\n",
       "    </tr>\n",
       "    <tr>\n",
       "      <th>...</th>\n",
       "      <td>...</td>\n",
       "      <td>...</td>\n",
       "      <td>...</td>\n",
       "      <td>...</td>\n",
       "      <td>...</td>\n",
       "      <td>...</td>\n",
       "    </tr>\n",
       "    <tr>\n",
       "      <th>52</th>\n",
       "      <td>506</td>\n",
       "      <td>104.0</td>\n",
       "      <td>89.0</td>\n",
       "      <td>69.0</td>\n",
       "      <td>136.0</td>\n",
       "      <td>28.0</td>\n",
       "    </tr>\n",
       "    <tr>\n",
       "      <th>53</th>\n",
       "      <td>506</td>\n",
       "      <td>100.0</td>\n",
       "      <td>83.0</td>\n",
       "      <td>65.0</td>\n",
       "      <td>121.0</td>\n",
       "      <td>19.0</td>\n",
       "    </tr>\n",
       "    <tr>\n",
       "      <th>54</th>\n",
       "      <td>506</td>\n",
       "      <td>91.0</td>\n",
       "      <td>74.0</td>\n",
       "      <td>59.0</td>\n",
       "      <td>102.0</td>\n",
       "      <td>14.0</td>\n",
       "    </tr>\n",
       "    <tr>\n",
       "      <th>55</th>\n",
       "      <td>506</td>\n",
       "      <td>90.0</td>\n",
       "      <td>66.0</td>\n",
       "      <td>61.0</td>\n",
       "      <td>101.0</td>\n",
       "      <td>16.0</td>\n",
       "    </tr>\n",
       "    <tr>\n",
       "      <th>56</th>\n",
       "      <td>506</td>\n",
       "      <td>90.0</td>\n",
       "      <td>72.0</td>\n",
       "      <td>56.0</td>\n",
       "      <td>101.0</td>\n",
       "      <td>20.0</td>\n",
       "    </tr>\n",
       "  </tbody>\n",
       "</table>\n",
       "<p>9419 rows × 6 columns</p>\n",
       "</div>"
      ],
      "text/plain": [
       "    Subject     HR   MAP   DBP    SBP  Resp\n",
       "0         2   87.0  78.5  55.5  109.5  18.5\n",
       "1         2   84.0  70.5  54.5  101.0  18.0\n",
       "2         2   84.0  86.0  73.0  106.0  13.0\n",
       "3         2   87.5  89.0  78.0  125.5  16.0\n",
       "4         2   84.0  90.0  69.0  134.5  14.0\n",
       "..      ...    ...   ...   ...    ...   ...\n",
       "52      506  104.0  89.0  69.0  136.0  28.0\n",
       "53      506  100.0  83.0  65.0  121.0  19.0\n",
       "54      506   91.0  74.0  59.0  102.0  14.0\n",
       "55      506   90.0  66.0  61.0  101.0  16.0\n",
       "56      506   90.0  72.0  56.0  101.0  20.0\n",
       "\n",
       "[9419 rows x 6 columns]"
      ]
     },
     "metadata": {},
     "output_type": "display_data"
    },
    {
     "data": {
      "text/plain": [
       "'Avg length:'"
      ]
     },
     "metadata": {},
     "output_type": "display_data"
    },
    {
     "data": {
      "text/plain": [
       "108.59428571428572"
      ]
     },
     "metadata": {},
     "output_type": "display_data"
    },
    {
     "data": {
      "text/plain": [
       "6"
      ]
     },
     "metadata": {},
     "output_type": "display_data"
    },
    {
     "data": {
      "text/plain": [
       "'X_1:'"
      ]
     },
     "metadata": {},
     "output_type": "display_data"
    },
    {
     "data": {
      "text/html": [
       "<div>\n",
       "<style scoped>\n",
       "    .dataframe tbody tr th:only-of-type {\n",
       "        vertical-align: middle;\n",
       "    }\n",
       "\n",
       "    .dataframe tbody tr th {\n",
       "        vertical-align: top;\n",
       "    }\n",
       "\n",
       "    .dataframe thead th {\n",
       "        text-align: right;\n",
       "    }\n",
       "</style>\n",
       "<table border=\"1\" class=\"dataframe\">\n",
       "  <thead>\n",
       "    <tr style=\"text-align: right;\">\n",
       "      <th></th>\n",
       "      <th>1</th>\n",
       "      <th>2</th>\n",
       "      <th>3</th>\n",
       "      <th>4</th>\n",
       "      <th>5</th>\n",
       "    </tr>\n",
       "  </thead>\n",
       "  <tbody>\n",
       "    <tr>\n",
       "      <th>0</th>\n",
       "      <td>0      0.075737\n",
       "1     -0.374515\n",
       "2     -0.37451...</td>\n",
       "      <td>0      0.436101\n",
       "1     -1.113396\n",
       "2      1.88875...</td>\n",
       "      <td>0     -0.110645\n",
       "1     -0.303382\n",
       "2      3.26225...</td>\n",
       "      <td>0     -0.835629\n",
       "1     -1.907757\n",
       "2     -1.27709...</td>\n",
       "      <td>0     -0.043660\n",
       "1     -0.139890\n",
       "2     -1.10219...</td>\n",
       "    </tr>\n",
       "    <tr>\n",
       "      <th>1</th>\n",
       "      <td>0      1.340723\n",
       "1      1.340723\n",
       "2      1.34072...</td>\n",
       "      <td>0     -0.778554\n",
       "1     -0.778554\n",
       "2      0.82151...</td>\n",
       "      <td>0     -0.107189\n",
       "1     -0.107189\n",
       "2      1.97062...</td>\n",
       "      <td>0     -0.903078\n",
       "1     -0.903078\n",
       "2     -0.10722...</td>\n",
       "      <td>0      1.674277\n",
       "1      1.674277\n",
       "2      1.67427...</td>\n",
       "    </tr>\n",
       "    <tr>\n",
       "      <th>2</th>\n",
       "      <td>0     -2.252885\n",
       "1     -2.252885\n",
       "2     -1.34260...</td>\n",
       "      <td>0     -1.614002\n",
       "1     -1.614002\n",
       "2      0.47826...</td>\n",
       "      <td>0     -1.350322\n",
       "1     -1.350322\n",
       "2     -0.16170...</td>\n",
       "      <td>0     -2.076497\n",
       "1     -2.076497\n",
       "2      0.34025...</td>\n",
       "      <td>0      0.328589\n",
       "1      0.328589\n",
       "2      0.32858...</td>\n",
       "    </tr>\n",
       "    <tr>\n",
       "      <th>3</th>\n",
       "      <td>0     -0.748380\n",
       "1     -0.748380\n",
       "2     -1.25784...</td>\n",
       "      <td>0     -1.904063\n",
       "1     -1.904063\n",
       "2      0.13196...</td>\n",
       "      <td>0     -1.310589\n",
       "1     -1.310589\n",
       "2      0.13027...</td>\n",
       "      <td>0     -1.252654\n",
       "1     -1.252654\n",
       "2      0.98884...</td>\n",
       "      <td>0      0.638863\n",
       "1      0.638863\n",
       "2     -0.40025...</td>\n",
       "    </tr>\n",
       "    <tr>\n",
       "      <th>4</th>\n",
       "      <td>0     -1.129663\n",
       "1     -1.129663\n",
       "2     -1.50219...</td>\n",
       "      <td>0     -2.085958\n",
       "1     -2.085958\n",
       "2     -2.48453...</td>\n",
       "      <td>0     -2.047608\n",
       "1     -2.047608\n",
       "2     -2.53958...</td>\n",
       "      <td>0     -0.139525\n",
       "1     -0.139525\n",
       "2     -0.42746...</td>\n",
       "      <td>0     -2.240410\n",
       "1     -2.240410\n",
       "2     -0.95165...</td>\n",
       "    </tr>\n",
       "    <tr>\n",
       "      <th>...</th>\n",
       "      <td>...</td>\n",
       "      <td>...</td>\n",
       "      <td>...</td>\n",
       "      <td>...</td>\n",
       "      <td>...</td>\n",
       "    </tr>\n",
       "    <tr>\n",
       "      <th>345</th>\n",
       "      <td>0      0.650005\n",
       "1      0.589643\n",
       "2     -0.43650...</td>\n",
       "      <td>0      0.608622\n",
       "1      1.589685\n",
       "2      1.41131...</td>\n",
       "      <td>0      3.279536\n",
       "1      3.279536\n",
       "2      1.58788...</td>\n",
       "      <td>0      0.691488\n",
       "1      0.691488\n",
       "2     -0.02521...</td>\n",
       "      <td>0     -0.462499\n",
       "1      0.541519\n",
       "2     -0.46249...</td>\n",
       "    </tr>\n",
       "    <tr>\n",
       "      <th>346</th>\n",
       "      <td>0      0.047154\n",
       "1      0.047154\n",
       "2      0.74614...</td>\n",
       "      <td>0     -0.057694\n",
       "1     -0.057694\n",
       "2     -0.05769...</td>\n",
       "      <td>0      0.213708\n",
       "1      0.213708\n",
       "2     -0.04931...</td>\n",
       "      <td>0     -0.447369\n",
       "1     -0.447369\n",
       "2     -0.13157...</td>\n",
       "      <td>0     -0.476827\n",
       "1     -0.476827\n",
       "2     -1.35618...</td>\n",
       "    </tr>\n",
       "    <tr>\n",
       "      <th>347</th>\n",
       "      <td>0     -0.843348\n",
       "1     -0.698360\n",
       "2     -0.37938...</td>\n",
       "      <td>0     -0.717568\n",
       "1     -0.668112\n",
       "2     -0.66811...</td>\n",
       "      <td>0     -0.930073\n",
       "1     -0.487014\n",
       "2     -0.55030...</td>\n",
       "      <td>0     -0.418345\n",
       "1     -0.586556\n",
       "2     -0.65384...</td>\n",
       "      <td>0     -2.073631\n",
       "1     -2.073631\n",
       "2     -2.07363...</td>\n",
       "    </tr>\n",
       "    <tr>\n",
       "      <th>348</th>\n",
       "      <td>0      2.245241\n",
       "1      0.922891\n",
       "2      1.58406...</td>\n",
       "      <td>0     -0.732514\n",
       "1     -1.682273\n",
       "2     -1.43603...</td>\n",
       "      <td>0     -1.124194\n",
       "1     -2.176147\n",
       "2     -1.29952...</td>\n",
       "      <td>0      0.192826\n",
       "1     -2.343582\n",
       "2     -2.14333...</td>\n",
       "      <td>0     -0.059245\n",
       "1     -0.059245\n",
       "2      0.18685...</td>\n",
       "    </tr>\n",
       "    <tr>\n",
       "      <th>349</th>\n",
       "      <td>0      0.571725\n",
       "1      0.571725\n",
       "2     -0.22564...</td>\n",
       "      <td>0     -0.799545\n",
       "1     -0.799545\n",
       "2     -2.49661...</td>\n",
       "      <td>0     -0.799549\n",
       "1     -0.799549\n",
       "2     -2.72855...</td>\n",
       "      <td>0      0.793528\n",
       "1      0.793528\n",
       "2     -1.45869...</td>\n",
       "      <td>0      0.944124\n",
       "1      0.944124\n",
       "2      0.77217...</td>\n",
       "    </tr>\n",
       "  </tbody>\n",
       "</table>\n",
       "<p>350 rows × 5 columns</p>\n",
       "</div>"
      ],
      "text/plain": [
       "                                                     1  \\\n",
       "0    0      0.075737\n",
       "1     -0.374515\n",
       "2     -0.37451...   \n",
       "1    0      1.340723\n",
       "1      1.340723\n",
       "2      1.34072...   \n",
       "2    0     -2.252885\n",
       "1     -2.252885\n",
       "2     -1.34260...   \n",
       "3    0     -0.748380\n",
       "1     -0.748380\n",
       "2     -1.25784...   \n",
       "4    0     -1.129663\n",
       "1     -1.129663\n",
       "2     -1.50219...   \n",
       "..                                                 ...   \n",
       "345  0      0.650005\n",
       "1      0.589643\n",
       "2     -0.43650...   \n",
       "346  0      0.047154\n",
       "1      0.047154\n",
       "2      0.74614...   \n",
       "347  0     -0.843348\n",
       "1     -0.698360\n",
       "2     -0.37938...   \n",
       "348  0      2.245241\n",
       "1      0.922891\n",
       "2      1.58406...   \n",
       "349  0      0.571725\n",
       "1      0.571725\n",
       "2     -0.22564...   \n",
       "\n",
       "                                                     2  \\\n",
       "0    0      0.436101\n",
       "1     -1.113396\n",
       "2      1.88875...   \n",
       "1    0     -0.778554\n",
       "1     -0.778554\n",
       "2      0.82151...   \n",
       "2    0     -1.614002\n",
       "1     -1.614002\n",
       "2      0.47826...   \n",
       "3    0     -1.904063\n",
       "1     -1.904063\n",
       "2      0.13196...   \n",
       "4    0     -2.085958\n",
       "1     -2.085958\n",
       "2     -2.48453...   \n",
       "..                                                 ...   \n",
       "345  0      0.608622\n",
       "1      1.589685\n",
       "2      1.41131...   \n",
       "346  0     -0.057694\n",
       "1     -0.057694\n",
       "2     -0.05769...   \n",
       "347  0     -0.717568\n",
       "1     -0.668112\n",
       "2     -0.66811...   \n",
       "348  0     -0.732514\n",
       "1     -1.682273\n",
       "2     -1.43603...   \n",
       "349  0     -0.799545\n",
       "1     -0.799545\n",
       "2     -2.49661...   \n",
       "\n",
       "                                                     3  \\\n",
       "0    0     -0.110645\n",
       "1     -0.303382\n",
       "2      3.26225...   \n",
       "1    0     -0.107189\n",
       "1     -0.107189\n",
       "2      1.97062...   \n",
       "2    0     -1.350322\n",
       "1     -1.350322\n",
       "2     -0.16170...   \n",
       "3    0     -1.310589\n",
       "1     -1.310589\n",
       "2      0.13027...   \n",
       "4    0     -2.047608\n",
       "1     -2.047608\n",
       "2     -2.53958...   \n",
       "..                                                 ...   \n",
       "345  0      3.279536\n",
       "1      3.279536\n",
       "2      1.58788...   \n",
       "346  0      0.213708\n",
       "1      0.213708\n",
       "2     -0.04931...   \n",
       "347  0     -0.930073\n",
       "1     -0.487014\n",
       "2     -0.55030...   \n",
       "348  0     -1.124194\n",
       "1     -2.176147\n",
       "2     -1.29952...   \n",
       "349  0     -0.799549\n",
       "1     -0.799549\n",
       "2     -2.72855...   \n",
       "\n",
       "                                                     4  \\\n",
       "0    0     -0.835629\n",
       "1     -1.907757\n",
       "2     -1.27709...   \n",
       "1    0     -0.903078\n",
       "1     -0.903078\n",
       "2     -0.10722...   \n",
       "2    0     -2.076497\n",
       "1     -2.076497\n",
       "2      0.34025...   \n",
       "3    0     -1.252654\n",
       "1     -1.252654\n",
       "2      0.98884...   \n",
       "4    0     -0.139525\n",
       "1     -0.139525\n",
       "2     -0.42746...   \n",
       "..                                                 ...   \n",
       "345  0      0.691488\n",
       "1      0.691488\n",
       "2     -0.02521...   \n",
       "346  0     -0.447369\n",
       "1     -0.447369\n",
       "2     -0.13157...   \n",
       "347  0     -0.418345\n",
       "1     -0.586556\n",
       "2     -0.65384...   \n",
       "348  0      0.192826\n",
       "1     -2.343582\n",
       "2     -2.14333...   \n",
       "349  0      0.793528\n",
       "1      0.793528\n",
       "2     -1.45869...   \n",
       "\n",
       "                                                     5  \n",
       "0    0     -0.043660\n",
       "1     -0.139890\n",
       "2     -1.10219...  \n",
       "1    0      1.674277\n",
       "1      1.674277\n",
       "2      1.67427...  \n",
       "2    0      0.328589\n",
       "1      0.328589\n",
       "2      0.32858...  \n",
       "3    0      0.638863\n",
       "1      0.638863\n",
       "2     -0.40025...  \n",
       "4    0     -2.240410\n",
       "1     -2.240410\n",
       "2     -0.95165...  \n",
       "..                                                 ...  \n",
       "345  0     -0.462499\n",
       "1      0.541519\n",
       "2     -0.46249...  \n",
       "346  0     -0.476827\n",
       "1     -0.476827\n",
       "2     -1.35618...  \n",
       "347  0     -2.073631\n",
       "1     -2.073631\n",
       "2     -2.07363...  \n",
       "348  0     -0.059245\n",
       "1     -0.059245\n",
       "2      0.18685...  \n",
       "349  0      0.944124\n",
       "1      0.944124\n",
       "2      0.77217...  \n",
       "\n",
       "[350 rows x 5 columns]"
      ]
     },
     "metadata": {},
     "output_type": "display_data"
    },
    {
     "data": {
      "text/plain": [
       "'Completed'"
      ]
     },
     "metadata": {},
     "output_type": "display_data"
    },
    {
     "data": {
      "text/plain": [
       "1"
      ]
     },
     "metadata": {},
     "output_type": "display_data"
    },
    {
     "data": {
      "text/plain": [
       "'Completed'"
      ]
     },
     "metadata": {},
     "output_type": "display_data"
    },
    {
     "data": {
      "text/plain": [
       "2"
      ]
     },
     "metadata": {},
     "output_type": "display_data"
    },
    {
     "data": {
      "text/plain": [
       "'Completed'"
      ]
     },
     "metadata": {},
     "output_type": "display_data"
    },
    {
     "data": {
      "text/plain": [
       "3"
      ]
     },
     "metadata": {},
     "output_type": "display_data"
    },
    {
     "data": {
      "text/plain": [
       "'Completed'"
      ]
     },
     "metadata": {},
     "output_type": "display_data"
    },
    {
     "data": {
      "text/plain": [
       "4"
      ]
     },
     "metadata": {},
     "output_type": "display_data"
    },
    {
     "data": {
      "text/plain": [
       "'Completed'"
      ]
     },
     "metadata": {},
     "output_type": "display_data"
    },
    {
     "data": {
      "text/plain": [
       "5"
      ]
     },
     "metadata": {},
     "output_type": "display_data"
    },
    {
     "data": {
      "text/plain": [
       "'Completed'"
      ]
     },
     "metadata": {},
     "output_type": "display_data"
    },
    {
     "data": {
      "text/plain": [
       "6"
      ]
     },
     "metadata": {},
     "output_type": "display_data"
    },
    {
     "data": {
      "text/plain": [
       "'Completed'"
      ]
     },
     "metadata": {},
     "output_type": "display_data"
    },
    {
     "data": {
      "text/plain": [
       "7"
      ]
     },
     "metadata": {},
     "output_type": "display_data"
    },
    {
     "data": {
      "text/plain": [
       "'Completed'"
      ]
     },
     "metadata": {},
     "output_type": "display_data"
    },
    {
     "data": {
      "text/plain": [
       "8"
      ]
     },
     "metadata": {},
     "output_type": "display_data"
    },
    {
     "data": {
      "text/plain": [
       "'Completed'"
      ]
     },
     "metadata": {},
     "output_type": "display_data"
    },
    {
     "data": {
      "text/plain": [
       "9"
      ]
     },
     "metadata": {},
     "output_type": "display_data"
    },
    {
     "data": {
      "text/plain": [
       "'Completed'"
      ]
     },
     "metadata": {},
     "output_type": "display_data"
    },
    {
     "data": {
      "text/plain": [
       "10"
      ]
     },
     "metadata": {},
     "output_type": "display_data"
    },
    {
     "data": {
      "text/plain": [
       "'Completed'"
      ]
     },
     "metadata": {},
     "output_type": "display_data"
    },
    {
     "data": {
      "text/plain": [
       "11"
      ]
     },
     "metadata": {},
     "output_type": "display_data"
    },
    {
     "data": {
      "text/plain": [
       "'Completed'"
      ]
     },
     "metadata": {},
     "output_type": "display_data"
    },
    {
     "data": {
      "text/plain": [
       "12"
      ]
     },
     "metadata": {},
     "output_type": "display_data"
    },
    {
     "data": {
      "text/plain": [
       "'Completed'"
      ]
     },
     "metadata": {},
     "output_type": "display_data"
    },
    {
     "data": {
      "text/plain": [
       "13"
      ]
     },
     "metadata": {},
     "output_type": "display_data"
    },
    {
     "data": {
      "text/plain": [
       "'Completed'"
      ]
     },
     "metadata": {},
     "output_type": "display_data"
    },
    {
     "data": {
      "text/plain": [
       "14"
      ]
     },
     "metadata": {},
     "output_type": "display_data"
    },
    {
     "data": {
      "text/plain": [
       "'Completed'"
      ]
     },
     "metadata": {},
     "output_type": "display_data"
    },
    {
     "data": {
      "text/plain": [
       "15"
      ]
     },
     "metadata": {},
     "output_type": "display_data"
    },
    {
     "data": {
      "text/plain": [
       "'Completed'"
      ]
     },
     "metadata": {},
     "output_type": "display_data"
    },
    {
     "data": {
      "text/plain": [
       "16"
      ]
     },
     "metadata": {},
     "output_type": "display_data"
    },
    {
     "data": {
      "text/plain": [
       "'Completed'"
      ]
     },
     "metadata": {},
     "output_type": "display_data"
    },
    {
     "data": {
      "text/plain": [
       "17"
      ]
     },
     "metadata": {},
     "output_type": "display_data"
    },
    {
     "data": {
      "text/plain": [
       "'Completed'"
      ]
     },
     "metadata": {},
     "output_type": "display_data"
    },
    {
     "data": {
      "text/plain": [
       "18"
      ]
     },
     "metadata": {},
     "output_type": "display_data"
    },
    {
     "data": {
      "text/plain": [
       "'Completed'"
      ]
     },
     "metadata": {},
     "output_type": "display_data"
    },
    {
     "data": {
      "text/plain": [
       "19"
      ]
     },
     "metadata": {},
     "output_type": "display_data"
    },
    {
     "data": {
      "text/plain": [
       "'Completed'"
      ]
     },
     "metadata": {},
     "output_type": "display_data"
    },
    {
     "data": {
      "text/plain": [
       "20"
      ]
     },
     "metadata": {},
     "output_type": "display_data"
    },
    {
     "data": {
      "text/plain": [
       "'Completed'"
      ]
     },
     "metadata": {},
     "output_type": "display_data"
    },
    {
     "data": {
      "text/plain": [
       "21"
      ]
     },
     "metadata": {},
     "output_type": "display_data"
    },
    {
     "data": {
      "text/plain": [
       "'Completed'"
      ]
     },
     "metadata": {},
     "output_type": "display_data"
    },
    {
     "data": {
      "text/plain": [
       "22"
      ]
     },
     "metadata": {},
     "output_type": "display_data"
    },
    {
     "data": {
      "text/plain": [
       "'Completed'"
      ]
     },
     "metadata": {},
     "output_type": "display_data"
    },
    {
     "data": {
      "text/plain": [
       "23"
      ]
     },
     "metadata": {},
     "output_type": "display_data"
    },
    {
     "data": {
      "text/plain": [
       "'Completed'"
      ]
     },
     "metadata": {},
     "output_type": "display_data"
    },
    {
     "data": {
      "text/plain": [
       "24"
      ]
     },
     "metadata": {},
     "output_type": "display_data"
    },
    {
     "data": {
      "text/plain": [
       "'Completed'"
      ]
     },
     "metadata": {},
     "output_type": "display_data"
    },
    {
     "data": {
      "text/plain": [
       "25"
      ]
     },
     "metadata": {},
     "output_type": "display_data"
    },
    {
     "data": {
      "text/plain": [
       "'Completed'"
      ]
     },
     "metadata": {},
     "output_type": "display_data"
    },
    {
     "data": {
      "text/plain": [
       "26"
      ]
     },
     "metadata": {},
     "output_type": "display_data"
    },
    {
     "data": {
      "text/plain": [
       "'Completed'"
      ]
     },
     "metadata": {},
     "output_type": "display_data"
    },
    {
     "data": {
      "text/plain": [
       "27"
      ]
     },
     "metadata": {},
     "output_type": "display_data"
    },
    {
     "data": {
      "text/plain": [
       "'Completed'"
      ]
     },
     "metadata": {},
     "output_type": "display_data"
    },
    {
     "data": {
      "text/plain": [
       "28"
      ]
     },
     "metadata": {},
     "output_type": "display_data"
    },
    {
     "data": {
      "text/plain": [
       "'Completed'"
      ]
     },
     "metadata": {},
     "output_type": "display_data"
    },
    {
     "data": {
      "text/plain": [
       "29"
      ]
     },
     "metadata": {},
     "output_type": "display_data"
    },
    {
     "data": {
      "text/plain": [
       "'Completed'"
      ]
     },
     "metadata": {},
     "output_type": "display_data"
    },
    {
     "data": {
      "text/plain": [
       "30"
      ]
     },
     "metadata": {},
     "output_type": "display_data"
    },
    {
     "data": {
      "text/plain": [
       "'Current key in progress'"
      ]
     },
     "metadata": {},
     "output_type": "display_data"
    },
    {
     "data": {
      "text/plain": [
       "'sample_numbers_list_2.5_to_2.6'"
      ]
     },
     "metadata": {},
     "output_type": "display_data"
    },
    {
     "data": {
      "text/plain": [
       "'Moving on to the next key'"
      ]
     },
     "metadata": {},
     "output_type": "display_data"
    },
    {
     "data": {
      "text/plain": [
       "'Current key in progress'"
      ]
     },
     "metadata": {},
     "output_type": "display_data"
    },
    {
     "data": {
      "text/plain": [
       "'sample_numbers_list_2.6_to_2.7'"
      ]
     },
     "metadata": {},
     "output_type": "display_data"
    },
    {
     "data": {
      "text/plain": [
       "501"
      ]
     },
     "metadata": {},
     "output_type": "display_data"
    },
    {
     "data": {
      "text/html": [
       "<div>\n",
       "<style scoped>\n",
       "    .dataframe tbody tr th:only-of-type {\n",
       "        vertical-align: middle;\n",
       "    }\n",
       "\n",
       "    .dataframe tbody tr th {\n",
       "        vertical-align: top;\n",
       "    }\n",
       "\n",
       "    .dataframe thead th {\n",
       "        text-align: right;\n",
       "    }\n",
       "</style>\n",
       "<table border=\"1\" class=\"dataframe\">\n",
       "  <thead>\n",
       "    <tr style=\"text-align: right;\">\n",
       "      <th></th>\n",
       "      <th>Subject</th>\n",
       "      <th>HR</th>\n",
       "      <th>MAP</th>\n",
       "      <th>DBP</th>\n",
       "      <th>SBP</th>\n",
       "      <th>Resp</th>\n",
       "    </tr>\n",
       "  </thead>\n",
       "  <tbody>\n",
       "    <tr>\n",
       "      <th>0</th>\n",
       "      <td>11</td>\n",
       "      <td>90.0</td>\n",
       "      <td>70.0</td>\n",
       "      <td>53.0</td>\n",
       "      <td>111.0</td>\n",
       "      <td>24.0</td>\n",
       "    </tr>\n",
       "    <tr>\n",
       "      <th>1</th>\n",
       "      <td>11</td>\n",
       "      <td>90.0</td>\n",
       "      <td>70.0</td>\n",
       "      <td>53.0</td>\n",
       "      <td>111.0</td>\n",
       "      <td>24.0</td>\n",
       "    </tr>\n",
       "    <tr>\n",
       "      <th>2</th>\n",
       "      <td>11</td>\n",
       "      <td>90.0</td>\n",
       "      <td>80.0</td>\n",
       "      <td>60.0</td>\n",
       "      <td>121.0</td>\n",
       "      <td>24.0</td>\n",
       "    </tr>\n",
       "    <tr>\n",
       "      <th>3</th>\n",
       "      <td>11</td>\n",
       "      <td>81.0</td>\n",
       "      <td>67.0</td>\n",
       "      <td>52.0</td>\n",
       "      <td>99.0</td>\n",
       "      <td>12.0</td>\n",
       "    </tr>\n",
       "    <tr>\n",
       "      <th>4</th>\n",
       "      <td>11</td>\n",
       "      <td>83.0</td>\n",
       "      <td>66.0</td>\n",
       "      <td>51.0</td>\n",
       "      <td>99.0</td>\n",
       "      <td>14.0</td>\n",
       "    </tr>\n",
       "    <tr>\n",
       "      <th>...</th>\n",
       "      <td>...</td>\n",
       "      <td>...</td>\n",
       "      <td>...</td>\n",
       "      <td>...</td>\n",
       "      <td>...</td>\n",
       "      <td>...</td>\n",
       "    </tr>\n",
       "    <tr>\n",
       "      <th>52</th>\n",
       "      <td>506</td>\n",
       "      <td>104.0</td>\n",
       "      <td>89.0</td>\n",
       "      <td>69.0</td>\n",
       "      <td>136.0</td>\n",
       "      <td>28.0</td>\n",
       "    </tr>\n",
       "    <tr>\n",
       "      <th>53</th>\n",
       "      <td>506</td>\n",
       "      <td>100.0</td>\n",
       "      <td>83.0</td>\n",
       "      <td>65.0</td>\n",
       "      <td>121.0</td>\n",
       "      <td>19.0</td>\n",
       "    </tr>\n",
       "    <tr>\n",
       "      <th>54</th>\n",
       "      <td>506</td>\n",
       "      <td>91.0</td>\n",
       "      <td>74.0</td>\n",
       "      <td>59.0</td>\n",
       "      <td>102.0</td>\n",
       "      <td>14.0</td>\n",
       "    </tr>\n",
       "    <tr>\n",
       "      <th>55</th>\n",
       "      <td>506</td>\n",
       "      <td>90.0</td>\n",
       "      <td>66.0</td>\n",
       "      <td>61.0</td>\n",
       "      <td>101.0</td>\n",
       "      <td>16.0</td>\n",
       "    </tr>\n",
       "    <tr>\n",
       "      <th>56</th>\n",
       "      <td>506</td>\n",
       "      <td>90.0</td>\n",
       "      <td>72.0</td>\n",
       "      <td>56.0</td>\n",
       "      <td>101.0</td>\n",
       "      <td>20.0</td>\n",
       "    </tr>\n",
       "  </tbody>\n",
       "</table>\n",
       "<p>9427 rows × 6 columns</p>\n",
       "</div>"
      ],
      "text/plain": [
       "    Subject     HR   MAP   DBP    SBP  Resp\n",
       "0        11   90.0  70.0  53.0  111.0  24.0\n",
       "1        11   90.0  70.0  53.0  111.0  24.0\n",
       "2        11   90.0  80.0  60.0  121.0  24.0\n",
       "3        11   81.0  67.0  52.0   99.0  12.0\n",
       "4        11   83.0  66.0  51.0   99.0  14.0\n",
       "..      ...    ...   ...   ...    ...   ...\n",
       "52      506  104.0  89.0  69.0  136.0  28.0\n",
       "53      506  100.0  83.0  65.0  121.0  19.0\n",
       "54      506   91.0  74.0  59.0  102.0  14.0\n",
       "55      506   90.0  66.0  61.0  101.0  16.0\n",
       "56      506   90.0  72.0  56.0  101.0  20.0\n",
       "\n",
       "[9427 rows x 6 columns]"
      ]
     },
     "metadata": {},
     "output_type": "display_data"
    },
    {
     "data": {
      "text/plain": [
       "'Avg length:'"
      ]
     },
     "metadata": {},
     "output_type": "display_data"
    },
    {
     "data": {
      "text/plain": [
       "108.59428571428572"
      ]
     },
     "metadata": {},
     "output_type": "display_data"
    },
    {
     "data": {
      "text/plain": [
       "6"
      ]
     },
     "metadata": {},
     "output_type": "display_data"
    },
    {
     "data": {
      "text/plain": [
       "'X_1:'"
      ]
     },
     "metadata": {},
     "output_type": "display_data"
    },
    {
     "data": {
      "text/html": [
       "<div>\n",
       "<style scoped>\n",
       "    .dataframe tbody tr th:only-of-type {\n",
       "        vertical-align: middle;\n",
       "    }\n",
       "\n",
       "    .dataframe tbody tr th {\n",
       "        vertical-align: top;\n",
       "    }\n",
       "\n",
       "    .dataframe thead th {\n",
       "        text-align: right;\n",
       "    }\n",
       "</style>\n",
       "<table border=\"1\" class=\"dataframe\">\n",
       "  <thead>\n",
       "    <tr style=\"text-align: right;\">\n",
       "      <th></th>\n",
       "      <th>1</th>\n",
       "      <th>2</th>\n",
       "      <th>3</th>\n",
       "      <th>4</th>\n",
       "      <th>5</th>\n",
       "    </tr>\n",
       "  </thead>\n",
       "  <tbody>\n",
       "    <tr>\n",
       "      <th>0</th>\n",
       "      <td>0      1.340723\n",
       "1      1.340723\n",
       "2      1.34072...</td>\n",
       "      <td>0     -0.778554\n",
       "1     -0.778554\n",
       "2      0.82151...</td>\n",
       "      <td>0     -0.107189\n",
       "1     -0.107189\n",
       "2      1.97062...</td>\n",
       "      <td>0     -0.903078\n",
       "1     -0.903078\n",
       "2     -0.10722...</td>\n",
       "      <td>0      1.674277\n",
       "1      1.674277\n",
       "2      1.67427...</td>\n",
       "    </tr>\n",
       "    <tr>\n",
       "      <th>1</th>\n",
       "      <td>0     -2.252885\n",
       "1     -2.252885\n",
       "2     -1.34260...</td>\n",
       "      <td>0     -1.614002\n",
       "1     -1.614002\n",
       "2      0.47826...</td>\n",
       "      <td>0     -1.350322\n",
       "1     -1.350322\n",
       "2     -0.16170...</td>\n",
       "      <td>0     -2.076497\n",
       "1     -2.076497\n",
       "2      0.34025...</td>\n",
       "      <td>0      0.328589\n",
       "1      0.328589\n",
       "2      0.32858...</td>\n",
       "    </tr>\n",
       "    <tr>\n",
       "      <th>2</th>\n",
       "      <td>0     -0.748380\n",
       "1     -0.748380\n",
       "2     -1.25784...</td>\n",
       "      <td>0     -1.904063\n",
       "1     -1.904063\n",
       "2      0.13196...</td>\n",
       "      <td>0     -1.310589\n",
       "1     -1.310589\n",
       "2      0.13027...</td>\n",
       "      <td>0     -1.252654\n",
       "1     -1.252654\n",
       "2      0.98884...</td>\n",
       "      <td>0      0.638863\n",
       "1      0.638863\n",
       "2     -0.40025...</td>\n",
       "    </tr>\n",
       "    <tr>\n",
       "      <th>3</th>\n",
       "      <td>0     -2.851854\n",
       "1     -2.851854\n",
       "2     -2.47753...</td>\n",
       "      <td>0      3.301745\n",
       "1      3.301745\n",
       "2      1.66897...</td>\n",
       "      <td>0      3.328381\n",
       "1      3.328381\n",
       "2      2.01515...</td>\n",
       "      <td>0      2.035681\n",
       "1      2.035681\n",
       "2     -0.07656...</td>\n",
       "      <td>0     -1.736538\n",
       "1     -1.736538\n",
       "2     -1.73653...</td>\n",
       "    </tr>\n",
       "    <tr>\n",
       "      <th>4</th>\n",
       "      <td>0     -1.129663\n",
       "1     -1.129663\n",
       "2     -1.50219...</td>\n",
       "      <td>0     -2.085958\n",
       "1     -2.085958\n",
       "2     -2.48453...</td>\n",
       "      <td>0     -2.047608\n",
       "1     -2.047608\n",
       "2     -2.53958...</td>\n",
       "      <td>0     -0.139525\n",
       "1     -0.139525\n",
       "2     -0.42746...</td>\n",
       "      <td>0     -2.240410\n",
       "1     -2.240410\n",
       "2     -0.95165...</td>\n",
       "    </tr>\n",
       "    <tr>\n",
       "      <th>...</th>\n",
       "      <td>...</td>\n",
       "      <td>...</td>\n",
       "      <td>...</td>\n",
       "      <td>...</td>\n",
       "      <td>...</td>\n",
       "    </tr>\n",
       "    <tr>\n",
       "      <th>345</th>\n",
       "      <td>0      0.650005\n",
       "1      0.589643\n",
       "2     -0.43650...</td>\n",
       "      <td>0      0.608622\n",
       "1      1.589685\n",
       "2      1.41131...</td>\n",
       "      <td>0      3.279536\n",
       "1      3.279536\n",
       "2      1.58788...</td>\n",
       "      <td>0      0.691488\n",
       "1      0.691488\n",
       "2     -0.02521...</td>\n",
       "      <td>0     -0.462499\n",
       "1      0.541519\n",
       "2     -0.46249...</td>\n",
       "    </tr>\n",
       "    <tr>\n",
       "      <th>346</th>\n",
       "      <td>0      0.047154\n",
       "1      0.047154\n",
       "2      0.74614...</td>\n",
       "      <td>0     -0.057694\n",
       "1     -0.057694\n",
       "2     -0.05769...</td>\n",
       "      <td>0      0.213708\n",
       "1      0.213708\n",
       "2     -0.04931...</td>\n",
       "      <td>0     -0.447369\n",
       "1     -0.447369\n",
       "2     -0.13157...</td>\n",
       "      <td>0     -0.476827\n",
       "1     -0.476827\n",
       "2     -1.35618...</td>\n",
       "    </tr>\n",
       "    <tr>\n",
       "      <th>347</th>\n",
       "      <td>0     -0.843348\n",
       "1     -0.698360\n",
       "2     -0.37938...</td>\n",
       "      <td>0     -0.717568\n",
       "1     -0.668112\n",
       "2     -0.66811...</td>\n",
       "      <td>0     -0.930073\n",
       "1     -0.487014\n",
       "2     -0.55030...</td>\n",
       "      <td>0     -0.418345\n",
       "1     -0.586556\n",
       "2     -0.65384...</td>\n",
       "      <td>0     -2.073631\n",
       "1     -2.073631\n",
       "2     -2.07363...</td>\n",
       "    </tr>\n",
       "    <tr>\n",
       "      <th>348</th>\n",
       "      <td>0      2.245241\n",
       "1      0.922891\n",
       "2      1.58406...</td>\n",
       "      <td>0     -0.732514\n",
       "1     -1.682273\n",
       "2     -1.43603...</td>\n",
       "      <td>0     -1.124194\n",
       "1     -2.176147\n",
       "2     -1.29952...</td>\n",
       "      <td>0      0.192826\n",
       "1     -2.343582\n",
       "2     -2.14333...</td>\n",
       "      <td>0     -0.059245\n",
       "1     -0.059245\n",
       "2      0.18685...</td>\n",
       "    </tr>\n",
       "    <tr>\n",
       "      <th>349</th>\n",
       "      <td>0      0.571725\n",
       "1      0.571725\n",
       "2     -0.22564...</td>\n",
       "      <td>0     -0.799545\n",
       "1     -0.799545\n",
       "2     -2.49661...</td>\n",
       "      <td>0     -0.799549\n",
       "1     -0.799549\n",
       "2     -2.72855...</td>\n",
       "      <td>0      0.793528\n",
       "1      0.793528\n",
       "2     -1.45869...</td>\n",
       "      <td>0      0.944124\n",
       "1      0.944124\n",
       "2      0.77217...</td>\n",
       "    </tr>\n",
       "  </tbody>\n",
       "</table>\n",
       "<p>350 rows × 5 columns</p>\n",
       "</div>"
      ],
      "text/plain": [
       "                                                     1  \\\n",
       "0    0      1.340723\n",
       "1      1.340723\n",
       "2      1.34072...   \n",
       "1    0     -2.252885\n",
       "1     -2.252885\n",
       "2     -1.34260...   \n",
       "2    0     -0.748380\n",
       "1     -0.748380\n",
       "2     -1.25784...   \n",
       "3    0     -2.851854\n",
       "1     -2.851854\n",
       "2     -2.47753...   \n",
       "4    0     -1.129663\n",
       "1     -1.129663\n",
       "2     -1.50219...   \n",
       "..                                                 ...   \n",
       "345  0      0.650005\n",
       "1      0.589643\n",
       "2     -0.43650...   \n",
       "346  0      0.047154\n",
       "1      0.047154\n",
       "2      0.74614...   \n",
       "347  0     -0.843348\n",
       "1     -0.698360\n",
       "2     -0.37938...   \n",
       "348  0      2.245241\n",
       "1      0.922891\n",
       "2      1.58406...   \n",
       "349  0      0.571725\n",
       "1      0.571725\n",
       "2     -0.22564...   \n",
       "\n",
       "                                                     2  \\\n",
       "0    0     -0.778554\n",
       "1     -0.778554\n",
       "2      0.82151...   \n",
       "1    0     -1.614002\n",
       "1     -1.614002\n",
       "2      0.47826...   \n",
       "2    0     -1.904063\n",
       "1     -1.904063\n",
       "2      0.13196...   \n",
       "3    0      3.301745\n",
       "1      3.301745\n",
       "2      1.66897...   \n",
       "4    0     -2.085958\n",
       "1     -2.085958\n",
       "2     -2.48453...   \n",
       "..                                                 ...   \n",
       "345  0      0.608622\n",
       "1      1.589685\n",
       "2      1.41131...   \n",
       "346  0     -0.057694\n",
       "1     -0.057694\n",
       "2     -0.05769...   \n",
       "347  0     -0.717568\n",
       "1     -0.668112\n",
       "2     -0.66811...   \n",
       "348  0     -0.732514\n",
       "1     -1.682273\n",
       "2     -1.43603...   \n",
       "349  0     -0.799545\n",
       "1     -0.799545\n",
       "2     -2.49661...   \n",
       "\n",
       "                                                     3  \\\n",
       "0    0     -0.107189\n",
       "1     -0.107189\n",
       "2      1.97062...   \n",
       "1    0     -1.350322\n",
       "1     -1.350322\n",
       "2     -0.16170...   \n",
       "2    0     -1.310589\n",
       "1     -1.310589\n",
       "2      0.13027...   \n",
       "3    0      3.328381\n",
       "1      3.328381\n",
       "2      2.01515...   \n",
       "4    0     -2.047608\n",
       "1     -2.047608\n",
       "2     -2.53958...   \n",
       "..                                                 ...   \n",
       "345  0      3.279536\n",
       "1      3.279536\n",
       "2      1.58788...   \n",
       "346  0      0.213708\n",
       "1      0.213708\n",
       "2     -0.04931...   \n",
       "347  0     -0.930073\n",
       "1     -0.487014\n",
       "2     -0.55030...   \n",
       "348  0     -1.124194\n",
       "1     -2.176147\n",
       "2     -1.29952...   \n",
       "349  0     -0.799549\n",
       "1     -0.799549\n",
       "2     -2.72855...   \n",
       "\n",
       "                                                     4  \\\n",
       "0    0     -0.903078\n",
       "1     -0.903078\n",
       "2     -0.10722...   \n",
       "1    0     -2.076497\n",
       "1     -2.076497\n",
       "2      0.34025...   \n",
       "2    0     -1.252654\n",
       "1     -1.252654\n",
       "2      0.98884...   \n",
       "3    0      2.035681\n",
       "1      2.035681\n",
       "2     -0.07656...   \n",
       "4    0     -0.139525\n",
       "1     -0.139525\n",
       "2     -0.42746...   \n",
       "..                                                 ...   \n",
       "345  0      0.691488\n",
       "1      0.691488\n",
       "2     -0.02521...   \n",
       "346  0     -0.447369\n",
       "1     -0.447369\n",
       "2     -0.13157...   \n",
       "347  0     -0.418345\n",
       "1     -0.586556\n",
       "2     -0.65384...   \n",
       "348  0      0.192826\n",
       "1     -2.343582\n",
       "2     -2.14333...   \n",
       "349  0      0.793528\n",
       "1      0.793528\n",
       "2     -1.45869...   \n",
       "\n",
       "                                                     5  \n",
       "0    0      1.674277\n",
       "1      1.674277\n",
       "2      1.67427...  \n",
       "1    0      0.328589\n",
       "1      0.328589\n",
       "2      0.32858...  \n",
       "2    0      0.638863\n",
       "1      0.638863\n",
       "2     -0.40025...  \n",
       "3    0     -1.736538\n",
       "1     -1.736538\n",
       "2     -1.73653...  \n",
       "4    0     -2.240410\n",
       "1     -2.240410\n",
       "2     -0.95165...  \n",
       "..                                                 ...  \n",
       "345  0     -0.462499\n",
       "1      0.541519\n",
       "2     -0.46249...  \n",
       "346  0     -0.476827\n",
       "1     -0.476827\n",
       "2     -1.35618...  \n",
       "347  0     -2.073631\n",
       "1     -2.073631\n",
       "2     -2.07363...  \n",
       "348  0     -0.059245\n",
       "1     -0.059245\n",
       "2      0.18685...  \n",
       "349  0      0.944124\n",
       "1      0.944124\n",
       "2      0.77217...  \n",
       "\n",
       "[350 rows x 5 columns]"
      ]
     },
     "metadata": {},
     "output_type": "display_data"
    },
    {
     "data": {
      "text/plain": [
       "'Completed'"
      ]
     },
     "metadata": {},
     "output_type": "display_data"
    },
    {
     "data": {
      "text/plain": [
       "1"
      ]
     },
     "metadata": {},
     "output_type": "display_data"
    },
    {
     "data": {
      "text/plain": [
       "'Completed'"
      ]
     },
     "metadata": {},
     "output_type": "display_data"
    },
    {
     "data": {
      "text/plain": [
       "2"
      ]
     },
     "metadata": {},
     "output_type": "display_data"
    },
    {
     "data": {
      "text/plain": [
       "'Completed'"
      ]
     },
     "metadata": {},
     "output_type": "display_data"
    },
    {
     "data": {
      "text/plain": [
       "3"
      ]
     },
     "metadata": {},
     "output_type": "display_data"
    },
    {
     "data": {
      "text/plain": [
       "'Completed'"
      ]
     },
     "metadata": {},
     "output_type": "display_data"
    },
    {
     "data": {
      "text/plain": [
       "4"
      ]
     },
     "metadata": {},
     "output_type": "display_data"
    },
    {
     "data": {
      "text/plain": [
       "'Completed'"
      ]
     },
     "metadata": {},
     "output_type": "display_data"
    },
    {
     "data": {
      "text/plain": [
       "5"
      ]
     },
     "metadata": {},
     "output_type": "display_data"
    },
    {
     "data": {
      "text/plain": [
       "'Completed'"
      ]
     },
     "metadata": {},
     "output_type": "display_data"
    },
    {
     "data": {
      "text/plain": [
       "6"
      ]
     },
     "metadata": {},
     "output_type": "display_data"
    },
    {
     "data": {
      "text/plain": [
       "'Completed'"
      ]
     },
     "metadata": {},
     "output_type": "display_data"
    },
    {
     "data": {
      "text/plain": [
       "7"
      ]
     },
     "metadata": {},
     "output_type": "display_data"
    },
    {
     "data": {
      "text/plain": [
       "'Completed'"
      ]
     },
     "metadata": {},
     "output_type": "display_data"
    },
    {
     "data": {
      "text/plain": [
       "8"
      ]
     },
     "metadata": {},
     "output_type": "display_data"
    },
    {
     "data": {
      "text/plain": [
       "'Completed'"
      ]
     },
     "metadata": {},
     "output_type": "display_data"
    },
    {
     "data": {
      "text/plain": [
       "9"
      ]
     },
     "metadata": {},
     "output_type": "display_data"
    },
    {
     "data": {
      "text/plain": [
       "'Completed'"
      ]
     },
     "metadata": {},
     "output_type": "display_data"
    },
    {
     "data": {
      "text/plain": [
       "10"
      ]
     },
     "metadata": {},
     "output_type": "display_data"
    },
    {
     "data": {
      "text/plain": [
       "'Completed'"
      ]
     },
     "metadata": {},
     "output_type": "display_data"
    },
    {
     "data": {
      "text/plain": [
       "11"
      ]
     },
     "metadata": {},
     "output_type": "display_data"
    },
    {
     "data": {
      "text/plain": [
       "'Completed'"
      ]
     },
     "metadata": {},
     "output_type": "display_data"
    },
    {
     "data": {
      "text/plain": [
       "12"
      ]
     },
     "metadata": {},
     "output_type": "display_data"
    },
    {
     "data": {
      "text/plain": [
       "'Completed'"
      ]
     },
     "metadata": {},
     "output_type": "display_data"
    },
    {
     "data": {
      "text/plain": [
       "13"
      ]
     },
     "metadata": {},
     "output_type": "display_data"
    },
    {
     "data": {
      "text/plain": [
       "'Completed'"
      ]
     },
     "metadata": {},
     "output_type": "display_data"
    },
    {
     "data": {
      "text/plain": [
       "14"
      ]
     },
     "metadata": {},
     "output_type": "display_data"
    },
    {
     "data": {
      "text/plain": [
       "'Completed'"
      ]
     },
     "metadata": {},
     "output_type": "display_data"
    },
    {
     "data": {
      "text/plain": [
       "15"
      ]
     },
     "metadata": {},
     "output_type": "display_data"
    },
    {
     "data": {
      "text/plain": [
       "'Completed'"
      ]
     },
     "metadata": {},
     "output_type": "display_data"
    },
    {
     "data": {
      "text/plain": [
       "16"
      ]
     },
     "metadata": {},
     "output_type": "display_data"
    },
    {
     "data": {
      "text/plain": [
       "'Completed'"
      ]
     },
     "metadata": {},
     "output_type": "display_data"
    },
    {
     "data": {
      "text/plain": [
       "17"
      ]
     },
     "metadata": {},
     "output_type": "display_data"
    },
    {
     "data": {
      "text/plain": [
       "'Completed'"
      ]
     },
     "metadata": {},
     "output_type": "display_data"
    },
    {
     "data": {
      "text/plain": [
       "18"
      ]
     },
     "metadata": {},
     "output_type": "display_data"
    },
    {
     "data": {
      "text/plain": [
       "'Completed'"
      ]
     },
     "metadata": {},
     "output_type": "display_data"
    },
    {
     "data": {
      "text/plain": [
       "19"
      ]
     },
     "metadata": {},
     "output_type": "display_data"
    },
    {
     "data": {
      "text/plain": [
       "'Completed'"
      ]
     },
     "metadata": {},
     "output_type": "display_data"
    },
    {
     "data": {
      "text/plain": [
       "20"
      ]
     },
     "metadata": {},
     "output_type": "display_data"
    },
    {
     "data": {
      "text/plain": [
       "'Completed'"
      ]
     },
     "metadata": {},
     "output_type": "display_data"
    },
    {
     "data": {
      "text/plain": [
       "21"
      ]
     },
     "metadata": {},
     "output_type": "display_data"
    },
    {
     "data": {
      "text/plain": [
       "'Completed'"
      ]
     },
     "metadata": {},
     "output_type": "display_data"
    },
    {
     "data": {
      "text/plain": [
       "22"
      ]
     },
     "metadata": {},
     "output_type": "display_data"
    },
    {
     "data": {
      "text/plain": [
       "'Completed'"
      ]
     },
     "metadata": {},
     "output_type": "display_data"
    },
    {
     "data": {
      "text/plain": [
       "23"
      ]
     },
     "metadata": {},
     "output_type": "display_data"
    },
    {
     "data": {
      "text/plain": [
       "'Completed'"
      ]
     },
     "metadata": {},
     "output_type": "display_data"
    },
    {
     "data": {
      "text/plain": [
       "24"
      ]
     },
     "metadata": {},
     "output_type": "display_data"
    },
    {
     "data": {
      "text/plain": [
       "'Completed'"
      ]
     },
     "metadata": {},
     "output_type": "display_data"
    },
    {
     "data": {
      "text/plain": [
       "25"
      ]
     },
     "metadata": {},
     "output_type": "display_data"
    },
    {
     "data": {
      "text/plain": [
       "'Completed'"
      ]
     },
     "metadata": {},
     "output_type": "display_data"
    },
    {
     "data": {
      "text/plain": [
       "26"
      ]
     },
     "metadata": {},
     "output_type": "display_data"
    },
    {
     "data": {
      "text/plain": [
       "'Completed'"
      ]
     },
     "metadata": {},
     "output_type": "display_data"
    },
    {
     "data": {
      "text/plain": [
       "27"
      ]
     },
     "metadata": {},
     "output_type": "display_data"
    },
    {
     "data": {
      "text/plain": [
       "'Completed'"
      ]
     },
     "metadata": {},
     "output_type": "display_data"
    },
    {
     "data": {
      "text/plain": [
       "28"
      ]
     },
     "metadata": {},
     "output_type": "display_data"
    },
    {
     "data": {
      "text/plain": [
       "'Completed'"
      ]
     },
     "metadata": {},
     "output_type": "display_data"
    },
    {
     "data": {
      "text/plain": [
       "29"
      ]
     },
     "metadata": {},
     "output_type": "display_data"
    },
    {
     "data": {
      "text/plain": [
       "'Completed'"
      ]
     },
     "metadata": {},
     "output_type": "display_data"
    },
    {
     "data": {
      "text/plain": [
       "30"
      ]
     },
     "metadata": {},
     "output_type": "display_data"
    },
    {
     "data": {
      "text/plain": [
       "'Current key in progress'"
      ]
     },
     "metadata": {},
     "output_type": "display_data"
    },
    {
     "data": {
      "text/plain": [
       "'sample_numbers_list_2.7_to_2.8'"
      ]
     },
     "metadata": {},
     "output_type": "display_data"
    },
    {
     "data": {
      "text/plain": [
       "502"
      ]
     },
     "metadata": {},
     "output_type": "display_data"
    },
    {
     "data": {
      "text/html": [
       "<div>\n",
       "<style scoped>\n",
       "    .dataframe tbody tr th:only-of-type {\n",
       "        vertical-align: middle;\n",
       "    }\n",
       "\n",
       "    .dataframe tbody tr th {\n",
       "        vertical-align: top;\n",
       "    }\n",
       "\n",
       "    .dataframe thead th {\n",
       "        text-align: right;\n",
       "    }\n",
       "</style>\n",
       "<table border=\"1\" class=\"dataframe\">\n",
       "  <thead>\n",
       "    <tr style=\"text-align: right;\">\n",
       "      <th></th>\n",
       "      <th>Subject</th>\n",
       "      <th>HR</th>\n",
       "      <th>MAP</th>\n",
       "      <th>DBP</th>\n",
       "      <th>SBP</th>\n",
       "      <th>Resp</th>\n",
       "    </tr>\n",
       "  </thead>\n",
       "  <tbody>\n",
       "    <tr>\n",
       "      <th>0</th>\n",
       "      <td>11</td>\n",
       "      <td>90.0</td>\n",
       "      <td>70.0</td>\n",
       "      <td>53.0</td>\n",
       "      <td>111.0</td>\n",
       "      <td>24.0</td>\n",
       "    </tr>\n",
       "    <tr>\n",
       "      <th>1</th>\n",
       "      <td>11</td>\n",
       "      <td>90.0</td>\n",
       "      <td>70.0</td>\n",
       "      <td>53.0</td>\n",
       "      <td>111.0</td>\n",
       "      <td>24.0</td>\n",
       "    </tr>\n",
       "    <tr>\n",
       "      <th>2</th>\n",
       "      <td>11</td>\n",
       "      <td>90.0</td>\n",
       "      <td>80.0</td>\n",
       "      <td>60.0</td>\n",
       "      <td>121.0</td>\n",
       "      <td>24.0</td>\n",
       "    </tr>\n",
       "    <tr>\n",
       "      <th>3</th>\n",
       "      <td>11</td>\n",
       "      <td>81.0</td>\n",
       "      <td>67.0</td>\n",
       "      <td>52.0</td>\n",
       "      <td>99.0</td>\n",
       "      <td>12.0</td>\n",
       "    </tr>\n",
       "    <tr>\n",
       "      <th>4</th>\n",
       "      <td>11</td>\n",
       "      <td>83.0</td>\n",
       "      <td>66.0</td>\n",
       "      <td>51.0</td>\n",
       "      <td>99.0</td>\n",
       "      <td>14.0</td>\n",
       "    </tr>\n",
       "    <tr>\n",
       "      <th>...</th>\n",
       "      <td>...</td>\n",
       "      <td>...</td>\n",
       "      <td>...</td>\n",
       "      <td>...</td>\n",
       "      <td>...</td>\n",
       "      <td>...</td>\n",
       "    </tr>\n",
       "    <tr>\n",
       "      <th>52</th>\n",
       "      <td>506</td>\n",
       "      <td>104.0</td>\n",
       "      <td>89.0</td>\n",
       "      <td>69.0</td>\n",
       "      <td>136.0</td>\n",
       "      <td>28.0</td>\n",
       "    </tr>\n",
       "    <tr>\n",
       "      <th>53</th>\n",
       "      <td>506</td>\n",
       "      <td>100.0</td>\n",
       "      <td>83.0</td>\n",
       "      <td>65.0</td>\n",
       "      <td>121.0</td>\n",
       "      <td>19.0</td>\n",
       "    </tr>\n",
       "    <tr>\n",
       "      <th>54</th>\n",
       "      <td>506</td>\n",
       "      <td>91.0</td>\n",
       "      <td>74.0</td>\n",
       "      <td>59.0</td>\n",
       "      <td>102.0</td>\n",
       "      <td>14.0</td>\n",
       "    </tr>\n",
       "    <tr>\n",
       "      <th>55</th>\n",
       "      <td>506</td>\n",
       "      <td>90.0</td>\n",
       "      <td>66.0</td>\n",
       "      <td>61.0</td>\n",
       "      <td>101.0</td>\n",
       "      <td>16.0</td>\n",
       "    </tr>\n",
       "    <tr>\n",
       "      <th>56</th>\n",
       "      <td>506</td>\n",
       "      <td>90.0</td>\n",
       "      <td>72.0</td>\n",
       "      <td>56.0</td>\n",
       "      <td>101.0</td>\n",
       "      <td>20.0</td>\n",
       "    </tr>\n",
       "  </tbody>\n",
       "</table>\n",
       "<p>9438 rows × 6 columns</p>\n",
       "</div>"
      ],
      "text/plain": [
       "    Subject     HR   MAP   DBP    SBP  Resp\n",
       "0        11   90.0  70.0  53.0  111.0  24.0\n",
       "1        11   90.0  70.0  53.0  111.0  24.0\n",
       "2        11   90.0  80.0  60.0  121.0  24.0\n",
       "3        11   81.0  67.0  52.0   99.0  12.0\n",
       "4        11   83.0  66.0  51.0   99.0  14.0\n",
       "..      ...    ...   ...   ...    ...   ...\n",
       "52      506  104.0  89.0  69.0  136.0  28.0\n",
       "53      506  100.0  83.0  65.0  121.0  19.0\n",
       "54      506   91.0  74.0  59.0  102.0  14.0\n",
       "55      506   90.0  66.0  61.0  101.0  16.0\n",
       "56      506   90.0  72.0  56.0  101.0  20.0\n",
       "\n",
       "[9438 rows x 6 columns]"
      ]
     },
     "metadata": {},
     "output_type": "display_data"
    },
    {
     "data": {
      "text/plain": [
       "'Avg length:'"
      ]
     },
     "metadata": {},
     "output_type": "display_data"
    },
    {
     "data": {
      "text/plain": [
       "108.59428571428572"
      ]
     },
     "metadata": {},
     "output_type": "display_data"
    },
    {
     "data": {
      "text/plain": [
       "6"
      ]
     },
     "metadata": {},
     "output_type": "display_data"
    },
    {
     "data": {
      "text/plain": [
       "'X_1:'"
      ]
     },
     "metadata": {},
     "output_type": "display_data"
    },
    {
     "data": {
      "text/html": [
       "<div>\n",
       "<style scoped>\n",
       "    .dataframe tbody tr th:only-of-type {\n",
       "        vertical-align: middle;\n",
       "    }\n",
       "\n",
       "    .dataframe tbody tr th {\n",
       "        vertical-align: top;\n",
       "    }\n",
       "\n",
       "    .dataframe thead th {\n",
       "        text-align: right;\n",
       "    }\n",
       "</style>\n",
       "<table border=\"1\" class=\"dataframe\">\n",
       "  <thead>\n",
       "    <tr style=\"text-align: right;\">\n",
       "      <th></th>\n",
       "      <th>1</th>\n",
       "      <th>2</th>\n",
       "      <th>3</th>\n",
       "      <th>4</th>\n",
       "      <th>5</th>\n",
       "    </tr>\n",
       "  </thead>\n",
       "  <tbody>\n",
       "    <tr>\n",
       "      <th>0</th>\n",
       "      <td>0      1.340723\n",
       "1      1.340723\n",
       "2      1.34072...</td>\n",
       "      <td>0     -0.778554\n",
       "1     -0.778554\n",
       "2      0.82151...</td>\n",
       "      <td>0     -0.107189\n",
       "1     -0.107189\n",
       "2      1.97062...</td>\n",
       "      <td>0     -0.903078\n",
       "1     -0.903078\n",
       "2     -0.10722...</td>\n",
       "      <td>0      1.674277\n",
       "1      1.674277\n",
       "2      1.67427...</td>\n",
       "    </tr>\n",
       "    <tr>\n",
       "      <th>1</th>\n",
       "      <td>0     -0.748380\n",
       "1     -0.748380\n",
       "2     -1.25784...</td>\n",
       "      <td>0     -1.904063\n",
       "1     -1.904063\n",
       "2      0.13196...</td>\n",
       "      <td>0     -1.310589\n",
       "1     -1.310589\n",
       "2      0.13027...</td>\n",
       "      <td>0     -1.252654\n",
       "1     -1.252654\n",
       "2      0.98884...</td>\n",
       "      <td>0      0.638863\n",
       "1      0.638863\n",
       "2     -0.40025...</td>\n",
       "    </tr>\n",
       "    <tr>\n",
       "      <th>2</th>\n",
       "      <td>0     -1.129663\n",
       "1     -1.129663\n",
       "2     -1.50219...</td>\n",
       "      <td>0     -2.085958\n",
       "1     -2.085958\n",
       "2     -2.48453...</td>\n",
       "      <td>0     -2.047608\n",
       "1     -2.047608\n",
       "2     -2.53958...</td>\n",
       "      <td>0     -0.139525\n",
       "1     -0.139525\n",
       "2     -0.42746...</td>\n",
       "      <td>0     -2.240410\n",
       "1     -2.240410\n",
       "2     -0.95165...</td>\n",
       "    </tr>\n",
       "    <tr>\n",
       "      <th>3</th>\n",
       "      <td>0     -0.459793\n",
       "1     -0.357141\n",
       "2     -0.53678...</td>\n",
       "      <td>0      0.002752\n",
       "1      0.537660\n",
       "2      0.59709...</td>\n",
       "      <td>0      0.639073\n",
       "1      0.639073\n",
       "2      0.79330...</td>\n",
       "      <td>0     -0.650055\n",
       "1     -0.308420\n",
       "2      0.03321...</td>\n",
       "      <td>0      0.143012\n",
       "1      0.675609\n",
       "2      0.94190...</td>\n",
       "    </tr>\n",
       "    <tr>\n",
       "      <th>4</th>\n",
       "      <td>0      0.362196\n",
       "1      0.362196\n",
       "2      0.61620...</td>\n",
       "      <td>0     -0.655066\n",
       "1     -0.655066\n",
       "2     -0.18007...</td>\n",
       "      <td>0     -0.340537\n",
       "1     -0.340537\n",
       "2     -0.00389...</td>\n",
       "      <td>0     -0.970170\n",
       "1     -0.970170\n",
       "2      0.12910...</td>\n",
       "      <td>0     -0.491569\n",
       "1     -0.491569\n",
       "2     -0.17366...</td>\n",
       "    </tr>\n",
       "    <tr>\n",
       "      <th>...</th>\n",
       "      <td>...</td>\n",
       "      <td>...</td>\n",
       "      <td>...</td>\n",
       "      <td>...</td>\n",
       "      <td>...</td>\n",
       "    </tr>\n",
       "    <tr>\n",
       "      <th>345</th>\n",
       "      <td>0      0.650005\n",
       "1      0.589643\n",
       "2     -0.43650...</td>\n",
       "      <td>0      0.608622\n",
       "1      1.589685\n",
       "2      1.41131...</td>\n",
       "      <td>0      3.279536\n",
       "1      3.279536\n",
       "2      1.58788...</td>\n",
       "      <td>0      0.691488\n",
       "1      0.691488\n",
       "2     -0.02521...</td>\n",
       "      <td>0     -0.462499\n",
       "1      0.541519\n",
       "2     -0.46249...</td>\n",
       "    </tr>\n",
       "    <tr>\n",
       "      <th>346</th>\n",
       "      <td>0      0.047154\n",
       "1      0.047154\n",
       "2      0.74614...</td>\n",
       "      <td>0     -0.057694\n",
       "1     -0.057694\n",
       "2     -0.05769...</td>\n",
       "      <td>0      0.213708\n",
       "1      0.213708\n",
       "2     -0.04931...</td>\n",
       "      <td>0     -0.447369\n",
       "1     -0.447369\n",
       "2     -0.13157...</td>\n",
       "      <td>0     -0.476827\n",
       "1     -0.476827\n",
       "2     -1.35618...</td>\n",
       "    </tr>\n",
       "    <tr>\n",
       "      <th>347</th>\n",
       "      <td>0     -0.843348\n",
       "1     -0.698360\n",
       "2     -0.37938...</td>\n",
       "      <td>0     -0.717568\n",
       "1     -0.668112\n",
       "2     -0.66811...</td>\n",
       "      <td>0     -0.930073\n",
       "1     -0.487014\n",
       "2     -0.55030...</td>\n",
       "      <td>0     -0.418345\n",
       "1     -0.586556\n",
       "2     -0.65384...</td>\n",
       "      <td>0     -2.073631\n",
       "1     -2.073631\n",
       "2     -2.07363...</td>\n",
       "    </tr>\n",
       "    <tr>\n",
       "      <th>348</th>\n",
       "      <td>0      2.245241\n",
       "1      0.922891\n",
       "2      1.58406...</td>\n",
       "      <td>0     -0.732514\n",
       "1     -1.682273\n",
       "2     -1.43603...</td>\n",
       "      <td>0     -1.124194\n",
       "1     -2.176147\n",
       "2     -1.29952...</td>\n",
       "      <td>0      0.192826\n",
       "1     -2.343582\n",
       "2     -2.14333...</td>\n",
       "      <td>0     -0.059245\n",
       "1     -0.059245\n",
       "2      0.18685...</td>\n",
       "    </tr>\n",
       "    <tr>\n",
       "      <th>349</th>\n",
       "      <td>0      0.571725\n",
       "1      0.571725\n",
       "2     -0.22564...</td>\n",
       "      <td>0     -0.799545\n",
       "1     -0.799545\n",
       "2     -2.49661...</td>\n",
       "      <td>0     -0.799549\n",
       "1     -0.799549\n",
       "2     -2.72855...</td>\n",
       "      <td>0      0.793528\n",
       "1      0.793528\n",
       "2     -1.45869...</td>\n",
       "      <td>0      0.944124\n",
       "1      0.944124\n",
       "2      0.77217...</td>\n",
       "    </tr>\n",
       "  </tbody>\n",
       "</table>\n",
       "<p>350 rows × 5 columns</p>\n",
       "</div>"
      ],
      "text/plain": [
       "                                                     1  \\\n",
       "0    0      1.340723\n",
       "1      1.340723\n",
       "2      1.34072...   \n",
       "1    0     -0.748380\n",
       "1     -0.748380\n",
       "2     -1.25784...   \n",
       "2    0     -1.129663\n",
       "1     -1.129663\n",
       "2     -1.50219...   \n",
       "3    0     -0.459793\n",
       "1     -0.357141\n",
       "2     -0.53678...   \n",
       "4    0      0.362196\n",
       "1      0.362196\n",
       "2      0.61620...   \n",
       "..                                                 ...   \n",
       "345  0      0.650005\n",
       "1      0.589643\n",
       "2     -0.43650...   \n",
       "346  0      0.047154\n",
       "1      0.047154\n",
       "2      0.74614...   \n",
       "347  0     -0.843348\n",
       "1     -0.698360\n",
       "2     -0.37938...   \n",
       "348  0      2.245241\n",
       "1      0.922891\n",
       "2      1.58406...   \n",
       "349  0      0.571725\n",
       "1      0.571725\n",
       "2     -0.22564...   \n",
       "\n",
       "                                                     2  \\\n",
       "0    0     -0.778554\n",
       "1     -0.778554\n",
       "2      0.82151...   \n",
       "1    0     -1.904063\n",
       "1     -1.904063\n",
       "2      0.13196...   \n",
       "2    0     -2.085958\n",
       "1     -2.085958\n",
       "2     -2.48453...   \n",
       "3    0      0.002752\n",
       "1      0.537660\n",
       "2      0.59709...   \n",
       "4    0     -0.655066\n",
       "1     -0.655066\n",
       "2     -0.18007...   \n",
       "..                                                 ...   \n",
       "345  0      0.608622\n",
       "1      1.589685\n",
       "2      1.41131...   \n",
       "346  0     -0.057694\n",
       "1     -0.057694\n",
       "2     -0.05769...   \n",
       "347  0     -0.717568\n",
       "1     -0.668112\n",
       "2     -0.66811...   \n",
       "348  0     -0.732514\n",
       "1     -1.682273\n",
       "2     -1.43603...   \n",
       "349  0     -0.799545\n",
       "1     -0.799545\n",
       "2     -2.49661...   \n",
       "\n",
       "                                                     3  \\\n",
       "0    0     -0.107189\n",
       "1     -0.107189\n",
       "2      1.97062...   \n",
       "1    0     -1.310589\n",
       "1     -1.310589\n",
       "2      0.13027...   \n",
       "2    0     -2.047608\n",
       "1     -2.047608\n",
       "2     -2.53958...   \n",
       "3    0      0.639073\n",
       "1      0.639073\n",
       "2      0.79330...   \n",
       "4    0     -0.340537\n",
       "1     -0.340537\n",
       "2     -0.00389...   \n",
       "..                                                 ...   \n",
       "345  0      3.279536\n",
       "1      3.279536\n",
       "2      1.58788...   \n",
       "346  0      0.213708\n",
       "1      0.213708\n",
       "2     -0.04931...   \n",
       "347  0     -0.930073\n",
       "1     -0.487014\n",
       "2     -0.55030...   \n",
       "348  0     -1.124194\n",
       "1     -2.176147\n",
       "2     -1.29952...   \n",
       "349  0     -0.799549\n",
       "1     -0.799549\n",
       "2     -2.72855...   \n",
       "\n",
       "                                                     4  \\\n",
       "0    0     -0.903078\n",
       "1     -0.903078\n",
       "2     -0.10722...   \n",
       "1    0     -1.252654\n",
       "1     -1.252654\n",
       "2      0.98884...   \n",
       "2    0     -0.139525\n",
       "1     -0.139525\n",
       "2     -0.42746...   \n",
       "3    0     -0.650055\n",
       "1     -0.308420\n",
       "2      0.03321...   \n",
       "4    0     -0.970170\n",
       "1     -0.970170\n",
       "2      0.12910...   \n",
       "..                                                 ...   \n",
       "345  0      0.691488\n",
       "1      0.691488\n",
       "2     -0.02521...   \n",
       "346  0     -0.447369\n",
       "1     -0.447369\n",
       "2     -0.13157...   \n",
       "347  0     -0.418345\n",
       "1     -0.586556\n",
       "2     -0.65384...   \n",
       "348  0      0.192826\n",
       "1     -2.343582\n",
       "2     -2.14333...   \n",
       "349  0      0.793528\n",
       "1      0.793528\n",
       "2     -1.45869...   \n",
       "\n",
       "                                                     5  \n",
       "0    0      1.674277\n",
       "1      1.674277\n",
       "2      1.67427...  \n",
       "1    0      0.638863\n",
       "1      0.638863\n",
       "2     -0.40025...  \n",
       "2    0     -2.240410\n",
       "1     -2.240410\n",
       "2     -0.95165...  \n",
       "3    0      0.143012\n",
       "1      0.675609\n",
       "2      0.94190...  \n",
       "4    0     -0.491569\n",
       "1     -0.491569\n",
       "2     -0.17366...  \n",
       "..                                                 ...  \n",
       "345  0     -0.462499\n",
       "1      0.541519\n",
       "2     -0.46249...  \n",
       "346  0     -0.476827\n",
       "1     -0.476827\n",
       "2     -1.35618...  \n",
       "347  0     -2.073631\n",
       "1     -2.073631\n",
       "2     -2.07363...  \n",
       "348  0     -0.059245\n",
       "1     -0.059245\n",
       "2      0.18685...  \n",
       "349  0      0.944124\n",
       "1      0.944124\n",
       "2      0.77217...  \n",
       "\n",
       "[350 rows x 5 columns]"
      ]
     },
     "metadata": {},
     "output_type": "display_data"
    },
    {
     "data": {
      "text/plain": [
       "'Completed'"
      ]
     },
     "metadata": {},
     "output_type": "display_data"
    },
    {
     "data": {
      "text/plain": [
       "1"
      ]
     },
     "metadata": {},
     "output_type": "display_data"
    },
    {
     "data": {
      "text/plain": [
       "'Completed'"
      ]
     },
     "metadata": {},
     "output_type": "display_data"
    },
    {
     "data": {
      "text/plain": [
       "2"
      ]
     },
     "metadata": {},
     "output_type": "display_data"
    },
    {
     "data": {
      "text/plain": [
       "'Completed'"
      ]
     },
     "metadata": {},
     "output_type": "display_data"
    },
    {
     "data": {
      "text/plain": [
       "3"
      ]
     },
     "metadata": {},
     "output_type": "display_data"
    },
    {
     "data": {
      "text/plain": [
       "'Completed'"
      ]
     },
     "metadata": {},
     "output_type": "display_data"
    },
    {
     "data": {
      "text/plain": [
       "4"
      ]
     },
     "metadata": {},
     "output_type": "display_data"
    },
    {
     "data": {
      "text/plain": [
       "'Completed'"
      ]
     },
     "metadata": {},
     "output_type": "display_data"
    },
    {
     "data": {
      "text/plain": [
       "5"
      ]
     },
     "metadata": {},
     "output_type": "display_data"
    },
    {
     "data": {
      "text/plain": [
       "'Completed'"
      ]
     },
     "metadata": {},
     "output_type": "display_data"
    },
    {
     "data": {
      "text/plain": [
       "6"
      ]
     },
     "metadata": {},
     "output_type": "display_data"
    },
    {
     "data": {
      "text/plain": [
       "'Completed'"
      ]
     },
     "metadata": {},
     "output_type": "display_data"
    },
    {
     "data": {
      "text/plain": [
       "7"
      ]
     },
     "metadata": {},
     "output_type": "display_data"
    },
    {
     "data": {
      "text/plain": [
       "'Completed'"
      ]
     },
     "metadata": {},
     "output_type": "display_data"
    },
    {
     "data": {
      "text/plain": [
       "8"
      ]
     },
     "metadata": {},
     "output_type": "display_data"
    },
    {
     "data": {
      "text/plain": [
       "'Completed'"
      ]
     },
     "metadata": {},
     "output_type": "display_data"
    },
    {
     "data": {
      "text/plain": [
       "9"
      ]
     },
     "metadata": {},
     "output_type": "display_data"
    },
    {
     "data": {
      "text/plain": [
       "'Completed'"
      ]
     },
     "metadata": {},
     "output_type": "display_data"
    },
    {
     "data": {
      "text/plain": [
       "10"
      ]
     },
     "metadata": {},
     "output_type": "display_data"
    },
    {
     "data": {
      "text/plain": [
       "'Completed'"
      ]
     },
     "metadata": {},
     "output_type": "display_data"
    },
    {
     "data": {
      "text/plain": [
       "11"
      ]
     },
     "metadata": {},
     "output_type": "display_data"
    },
    {
     "data": {
      "text/plain": [
       "'Completed'"
      ]
     },
     "metadata": {},
     "output_type": "display_data"
    },
    {
     "data": {
      "text/plain": [
       "12"
      ]
     },
     "metadata": {},
     "output_type": "display_data"
    },
    {
     "data": {
      "text/plain": [
       "'Completed'"
      ]
     },
     "metadata": {},
     "output_type": "display_data"
    },
    {
     "data": {
      "text/plain": [
       "13"
      ]
     },
     "metadata": {},
     "output_type": "display_data"
    },
    {
     "data": {
      "text/plain": [
       "'Completed'"
      ]
     },
     "metadata": {},
     "output_type": "display_data"
    },
    {
     "data": {
      "text/plain": [
       "14"
      ]
     },
     "metadata": {},
     "output_type": "display_data"
    },
    {
     "data": {
      "text/plain": [
       "'Completed'"
      ]
     },
     "metadata": {},
     "output_type": "display_data"
    },
    {
     "data": {
      "text/plain": [
       "15"
      ]
     },
     "metadata": {},
     "output_type": "display_data"
    },
    {
     "data": {
      "text/plain": [
       "'Completed'"
      ]
     },
     "metadata": {},
     "output_type": "display_data"
    },
    {
     "data": {
      "text/plain": [
       "16"
      ]
     },
     "metadata": {},
     "output_type": "display_data"
    },
    {
     "data": {
      "text/plain": [
       "'Completed'"
      ]
     },
     "metadata": {},
     "output_type": "display_data"
    },
    {
     "data": {
      "text/plain": [
       "17"
      ]
     },
     "metadata": {},
     "output_type": "display_data"
    },
    {
     "data": {
      "text/plain": [
       "'Completed'"
      ]
     },
     "metadata": {},
     "output_type": "display_data"
    },
    {
     "data": {
      "text/plain": [
       "18"
      ]
     },
     "metadata": {},
     "output_type": "display_data"
    },
    {
     "data": {
      "text/plain": [
       "'Completed'"
      ]
     },
     "metadata": {},
     "output_type": "display_data"
    },
    {
     "data": {
      "text/plain": [
       "19"
      ]
     },
     "metadata": {},
     "output_type": "display_data"
    },
    {
     "data": {
      "text/plain": [
       "'Completed'"
      ]
     },
     "metadata": {},
     "output_type": "display_data"
    },
    {
     "data": {
      "text/plain": [
       "20"
      ]
     },
     "metadata": {},
     "output_type": "display_data"
    },
    {
     "data": {
      "text/plain": [
       "'Completed'"
      ]
     },
     "metadata": {},
     "output_type": "display_data"
    },
    {
     "data": {
      "text/plain": [
       "21"
      ]
     },
     "metadata": {},
     "output_type": "display_data"
    },
    {
     "data": {
      "text/plain": [
       "'Completed'"
      ]
     },
     "metadata": {},
     "output_type": "display_data"
    },
    {
     "data": {
      "text/plain": [
       "22"
      ]
     },
     "metadata": {},
     "output_type": "display_data"
    },
    {
     "data": {
      "text/plain": [
       "'Completed'"
      ]
     },
     "metadata": {},
     "output_type": "display_data"
    },
    {
     "data": {
      "text/plain": [
       "23"
      ]
     },
     "metadata": {},
     "output_type": "display_data"
    },
    {
     "data": {
      "text/plain": [
       "'Completed'"
      ]
     },
     "metadata": {},
     "output_type": "display_data"
    },
    {
     "data": {
      "text/plain": [
       "24"
      ]
     },
     "metadata": {},
     "output_type": "display_data"
    },
    {
     "data": {
      "text/plain": [
       "'Completed'"
      ]
     },
     "metadata": {},
     "output_type": "display_data"
    },
    {
     "data": {
      "text/plain": [
       "25"
      ]
     },
     "metadata": {},
     "output_type": "display_data"
    },
    {
     "data": {
      "text/plain": [
       "'Completed'"
      ]
     },
     "metadata": {},
     "output_type": "display_data"
    },
    {
     "data": {
      "text/plain": [
       "26"
      ]
     },
     "metadata": {},
     "output_type": "display_data"
    },
    {
     "data": {
      "text/plain": [
       "'Completed'"
      ]
     },
     "metadata": {},
     "output_type": "display_data"
    },
    {
     "data": {
      "text/plain": [
       "27"
      ]
     },
     "metadata": {},
     "output_type": "display_data"
    },
    {
     "data": {
      "text/plain": [
       "'Completed'"
      ]
     },
     "metadata": {},
     "output_type": "display_data"
    },
    {
     "data": {
      "text/plain": [
       "28"
      ]
     },
     "metadata": {},
     "output_type": "display_data"
    },
    {
     "data": {
      "text/plain": [
       "'Completed'"
      ]
     },
     "metadata": {},
     "output_type": "display_data"
    },
    {
     "data": {
      "text/plain": [
       "29"
      ]
     },
     "metadata": {},
     "output_type": "display_data"
    },
    {
     "data": {
      "text/plain": [
       "'Completed'"
      ]
     },
     "metadata": {},
     "output_type": "display_data"
    },
    {
     "data": {
      "text/plain": [
       "30"
      ]
     },
     "metadata": {},
     "output_type": "display_data"
    },
    {
     "data": {
      "text/plain": [
       "'Current key in progress'"
      ]
     },
     "metadata": {},
     "output_type": "display_data"
    },
    {
     "data": {
      "text/plain": [
       "'sample_numbers_list_2.8_to_2.9'"
      ]
     },
     "metadata": {},
     "output_type": "display_data"
    },
    {
     "data": {
      "text/plain": [
       "'Moving on to the next key'"
      ]
     },
     "metadata": {},
     "output_type": "display_data"
    },
    {
     "data": {
      "text/plain": [
       "'Current key in progress'"
      ]
     },
     "metadata": {},
     "output_type": "display_data"
    },
    {
     "data": {
      "text/plain": [
       "'sample_numbers_list_2.9_to_3.0'"
      ]
     },
     "metadata": {},
     "output_type": "display_data"
    },
    {
     "data": {
      "text/plain": [
       "'Moving on to the next key'"
      ]
     },
     "metadata": {},
     "output_type": "display_data"
    }
   ],
   "source": [
    "classifier_dict = {}\n",
    "normal_sample_numbers = [] \n",
    "for key in keys_list:\n",
    "    display(\"Current key in progress\",key)\n",
    "\n",
    "    if not final_numbers_dictionary[key]:\n",
    "        display(\"Moving on to the next key\")\n",
    "        continue\n",
    "\n",
    "    normal_sample_numbers.extend(final_numbers_dictionary[key])\n",
    "    normal_sample_length = len(normal_sample_numbers)\n",
    "    display(normal_sample_length)\n",
    "\n",
    "    if len(normal_sample_numbers) <= abnormal_no:\n",
    "        df_normal = final_normal_df[final_normal_df['Subject'].isin(normal_sample_numbers)]\n",
    "        display(df_normal)\n",
    "\n",
    "        random.seed(42)\n",
    "        abnormal_sample_numbers = random.sample(abnormal_indices.tolist(), normal_sample_length)\n",
    "        df_abnormal = final_abnormal_df[final_abnormal_df['Subject'].isin(abnormal_sample_numbers)]\n",
    "        display(df_abnormal)\n",
    "\n",
    "        desired_length_for_ts = time_series_length_finding(df_abnormal)\n",
    "\n",
    "        df_normal_preprocessed = preprocessing_normal_df(df_normal,desired_length_for_ts)\n",
    "        df_abnormal_preprocessed = preprocessing_dataframe(df_abnormal,desired_length_for_ts)\n",
    "\n",
    "        df_classifier = (pd.concat([df_normal_preprocessed,df_abnormal_preprocessed]).reset_index()).drop(columns='index')\n",
    "        acc_mean,acc_std_dev,prec_mean,prec_std_dev,recall_mean,recall_std_dev,f1_mean,f1_std_dev = ts_classifier(df_classifier)\n",
    "\n",
    "        classifier_dict[key] = {'acc_mean': acc_mean,'acc_std_dev': acc_std_dev,'prec_mean': prec_mean,'prec_std_dev': prec_std_dev,'recall_mean': recall_mean,'recall_std_dev': recall_std_dev,'f1_mean': f1_mean,'f1_std_dev': f1_std_dev}\n",
    "\n",
    "    else:\n",
    "        df_abnormal = final_abnormal_df\n",
    "\n",
    "        random.seed(42)\n",
    "        random_sample_numbers = random.sample(normal_sample_numbers, abnormal_no)\n",
    "        df_normal = final_normal_df[final_normal_df['Subject'].isin(random_sample_numbers)]\n",
    "        display(df_normal)\n",
    "\n",
    "        desired_length_for_ts = time_series_length_finding(df_abnormal)\n",
    "\n",
    "        df_normal_preprocessed = preprocessing_normal_df(df_normal,desired_length_for_ts)\n",
    "        df_abnormal_preprocessed = preprocessing_dataframe(df_abnormal,desired_length_for_ts)\n",
    "\n",
    "        df_classifier = (pd.concat([df_normal_preprocessed,df_abnormal_preprocessed]).reset_index()).drop(columns='index')\n",
    "        acc_mean,acc_std_dev,prec_mean,prec_std_dev,recall_mean,recall_std_dev,f1_mean,f1_std_dev = ts_classifier(df_classifier)\n",
    "\n",
    "        classifier_dict[key] = {'acc_mean': acc_mean,'acc_std_dev': acc_std_dev,'prec_mean': prec_mean,'prec_std_dev': prec_std_dev,'recall_mean': recall_mean,'recall_std_dev': recall_std_dev,'f1_mean': f1_mean,'f1_std_dev': f1_std_dev}"
   ]
  },
  {
   "cell_type": "code",
   "execution_count": 15,
   "id": "0064b12f",
   "metadata": {},
   "outputs": [],
   "source": [
    "import pickle\n",
    "\n",
    "# Specify the file path where you want to save the pickle file\n",
    "pickle_file_path = 'sampled_result_dict_sepsis_normalized.pickle'\n",
    "\n",
    "# Save the dictionary to a pickle file\n",
    "with open(pickle_file_path, 'wb') as file:\n",
    "    pickle.dump(classifier_dict, file)\n",
    "\n",
    "print(f\"Dictionary saved to {pickle_file_path}\")"
   ]
  },
  {
   "cell_type": "markdown",
   "id": "926a6fbd",
   "metadata": {},
   "source": [
    "### 7.3 Plot the accuracy values from classification for different bins to identify the bin corresponding to HBC"
   ]
  },
  {
   "cell_type": "code",
   "execution_count": 17,
   "id": "38608cbc",
   "metadata": {},
   "outputs": [
    {
     "data": {
      "image/png": "[encoded data removed]",
      "text/plain": [
       "<Figure size 1008x720 with 4 Axes>"
      ]
     },
     "metadata": {
      "needs_background": "light"
     },
     "output_type": "display_data"
    }
   ],
   "source": [
    "keys = list(classifier_dict.keys())\n",
    "\n",
    "# Extracting metric values for plotting\n",
    "acc_means = [classifier_dict[key]['acc_mean'] for key in keys]\n",
    "acc_std_devs = [classifier_dict[key]['acc_std_dev'] for key in keys]\n",
    "\n",
    "prec_means = [classifier_dict[key]['prec_mean'] for key in keys]\n",
    "prec_std_devs = [classifier_dict[key]['prec_std_dev'] for key in keys]\n",
    "\n",
    "recall_means = [classifier_dict[key]['recall_mean'] for key in keys]\n",
    "recall_std_devs = [classifier_dict[key]['recall_std_dev'] for key in keys]\n",
    "\n",
    "f1_means = [classifier_dict[key]['f1_mean'] for key in keys]\n",
    "f1_std_devs = [classifier_dict[key]['f1_std_dev'] for key in keys]\n",
    "\n",
    "# Plotting\n",
    "plt.figure(figsize=(14, 10))\n",
    "\n",
    "# Accuracy Mean with Std Dev\n",
    "plt.subplot(2, 2, 1)\n",
    "plt.errorbar(keys, acc_means, yerr=acc_std_devs, fmt='-o', color='blue', label='Accuracy')\n",
    "plt.title('Accuracy Mean with Std Dev')\n",
    "plt.xlabel('Key')\n",
    "plt.ylabel('Accuracy Mean')\n",
    "plt.legend()\n",
    "\n",
    "# Precision Mean with Std Dev\n",
    "plt.subplot(2, 2, 2)\n",
    "plt.errorbar(keys, prec_means, yerr=prec_std_devs, fmt='-o', color='green', label='Precision')\n",
    "plt.title('Precision Mean with Std Dev')\n",
    "plt.xlabel('Key')\n",
    "plt.ylabel('Precision Mean')\n",
    "plt.legend()\n",
    "\n",
    "# Recall Mean with Std Dev\n",
    "plt.subplot(2, 2, 3)\n",
    "plt.errorbar(keys, recall_means, yerr=recall_std_devs, fmt='-o', color='orange', label='Recall')\n",
    "plt.title('Recall Mean with Std Dev')\n",
    "plt.xlabel('Key')\n",
    "plt.ylabel('Recall Mean')\n",
    "plt.legend()\n",
    "\n",
    "# F1 Mean with Std Dev\n",
    "plt.subplot(2, 2, 4)\n",
    "plt.errorbar(keys, f1_means, yerr=f1_std_devs, fmt='-o', color='red', label='F1')\n",
    "plt.title('F1 Mean with Std Dev')\n",
    "plt.xlabel('Key')\n",
    "plt.ylabel('F1 Mean')\n",
    "plt.legend()\n",
    "\n",
    "plt.tight_layout()\n",
    "plt.show()"
   ]
  }
 ],
 "metadata": {
  "kernelspec": {
   "display_name": "Python 3 (ipykernel)",
   "language": "python",
   "name": "python3"
  },
  "language_info": {
   "codemirror_mode": {
    "name": "ipython",
    "version": 3
   },
   "file_extension": ".py",
   "mimetype": "text/x-python",
   "name": "python",
   "nbconvert_exporter": "python",
   "pygments_lexer": "ipython3",
   "version": "3.9.12"
  }
 },
 "nbformat": 4,
 "nbformat_minor": 5
}
